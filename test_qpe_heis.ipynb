{
 "cells": [
  {
   "cell_type": "code",
   "execution_count": 36,
   "metadata": {},
   "outputs": [],
   "source": [
    "import numpy as np\n",
    "import qutip as qt\n",
    "from scipy.linalg import logm, expm\n",
    "from qiskit.quantum_info import Operator, state_fidelity\n",
    "from qiskit import QuantumCircuit\n",
    "from qiskit_aer import StatevectorSimulator\n",
    "from qiskit import Aer\n",
    "from qiskit.circuit.library import QFT\n",
    "\n",
    "\n",
    "from tools.classical import *\n",
    "from tools.quantum import *"
   ]
  },
  {
   "cell_type": "code",
   "execution_count": 37,
   "metadata": {},
   "outputs": [],
   "source": [
    "num_qubits = 4\n",
    "num_estimating_qubits = 4\n",
    "\n",
    "X = qt.sigmax()\n",
    "Y = qt.sigmay()\n",
    "Z = qt.sigmaz()\n",
    "\n",
    "# print(hamiltonian_qt)\n",
    "#* HAMILTONIANS\n",
    "# rescaling_factor, shift = rescaling_and_shift_factors(hamiltonian_qt)  # Shift already rescaled\n",
    "# just_shift = shift * rescaling_factor                                  # Unscaled shift\n",
    "# shifted_hamiltonian_qt = hamiltonian_qt + just_shift * qt.qeye(hamiltonian_qt.shape[0])\n",
    "# rescaled_hamiltonian_qt = hamiltonian_qt / rescaling_factor + shift * qt.qeye(hamiltonian_qt.shape[0])"
   ]
  },
  {
   "cell_type": "markdown",
   "metadata": {},
   "source": [
    "### Find Heisenberg coefficients for non degenerate spectrum"
   ]
  },
  {
   "cell_type": "code",
   "execution_count": 38,
   "metadata": {},
   "outputs": [
    {
     "name": "stdout",
     "output_type": "stream",
     "text": [
      "Unique spectrum found:  [-8.086 -5.236 -4.    -3.236 -1.486 -1.236 -0.764 -0.     0.764  1.225\n",
      "  1.236  2.     3.236  4.348  5.236  6.   ]\n",
      "Coefficients:  [1. 1. 1.]\n"
     ]
    }
   ],
   "source": [
    "coeff_lower_bound = 0\n",
    "coeff_xx = np.arange(1, coeff_lower_bound, -0.1)\n",
    "coeff_yy = np.arange(1, coeff_lower_bound, -0.1)\n",
    "coeff_zz = np.arange(1, coeff_lower_bound, -0.1)\n",
    "\n",
    "# get all combinations of coefficients\n",
    "coeffs = np.array(np.meshgrid(coeff_xx, coeff_yy, coeff_zz)).T.reshape(-1, 3)\n",
    "\n",
    "for coeff in coeffs:\n",
    "    hamiltonian_qt = hamiltonian_matrix([X, X], [Y, Y], [Z, Z], coeffs=coeff, num_qubits=num_qubits, sym_break_term=[Z])\n",
    "    exact_spec = np.linalg.eigvalsh(hamiltonian_qt)\n",
    "    exact_spec = np.round(exact_spec, 3)\n",
    "\n",
    "    if len(np.unique(exact_spec)) == len(exact_spec):\n",
    "        print(\"Unique spectrum found: \", exact_spec)\n",
    "        print(\"Coefficients: \", coeff)\n",
    "        break\n"
   ]
  },
  {
   "cell_type": "code",
   "execution_count": 39,
   "metadata": {},
   "outputs": [
    {
     "name": "stdout",
     "output_type": "stream",
     "text": [
      "Initial energy = 0.7639320225002102\n"
     ]
    }
   ],
   "source": [
    "\n",
    "#* Energy register check for QPE, non-degenerate and non-rescaled but chosen E = 0.764\n",
    "hamiltonian_qt = hamiltonian_matrix([X, X], [Y, Y], [Z, Z], coeffs=[1, 1, 1], num_qubits=num_qubits, sym_break_term=[Z])\n",
    "exact_spec, eigenstates = np.linalg.eigh(hamiltonian_qt)\n",
    "\n",
    "eigenstate = eigenstates[8]\n",
    "initial_energy = exact_spec[8]\n",
    "initial_eigenstate = Statevector(eigenstate.reshape(2**num_qubits, 1))\n",
    "print(f'Initial energy = {initial_energy}')\n",
    "\n",
    "# Initialize\n",
    "qr_energy = QuantumRegister(num_estimating_qubits, name=\"E\")\n",
    "cr_energy = ClassicalRegister(num_estimating_qubits, name=\"crE\")\n",
    "qr_sys  = QuantumRegister(num_qubits, name=\"sys\")\n",
    "circ = QuantumCircuit(qr_energy, qr_sys, cr_energy)\n",
    "circ.initialize(initial_eigenstate, qr_sys)\n",
    "circ.h(qr_energy)\n",
    "\n",
    "# QPE\n",
    "T = 1\n",
    "total_time = T * 2 * np.pi\n",
    "num_trotter_steps = 100\n",
    "step_size = total_time / num_trotter_steps\n",
    "\n",
    "# Double the num_trotter_steps for T = 2 and so on...\n",
    "trotter_step_circ = trotter_step_heisenberg(num_qubits)\n",
    "ham_time_evol = lambda m, t: ham_evol(num_qubits, trotter_step=trotter_step_circ, num_trotter_steps=m, time=t)\n",
    "U = ham_time_evol(num_trotter_steps, total_time)\n",
    "cU = U.control(1)\n",
    "for q in range(num_estimating_qubits):\n",
    "    for _ in range(2**q):\n",
    "        circ.compose(cU, [q, *list(qr_sys)], inplace=True)\n",
    "\n",
    "# Inverse QFT\n",
    "qft_circ = QFT(num_estimating_qubits, inverse=True)  # With SWAPs\n",
    "circ.compose(qft_circ, qr_energy, inplace=True)\n",
    "\n",
    "circ.measure(qr_energy, cr_energy)\n",
    "print(circ)"
   ]
  },
  {
   "cell_type": "code",
   "execution_count": null,
   "metadata": {},
   "outputs": [
    {
     "name": "stdout",
     "output_type": "stream",
     "text": [
      "{'0111': 4, '0101': 8, '0110': 8, '1011': 8, '1110': 4, '1010': 3, '1111': 9, '1101': 4, '0011': 7, '0001': 6, '1100': 5, '0100': 7, '0000': 4, '0010': 7, '1000': 6, '1001': 10}\n"
     ]
    }
   ],
   "source": [
    "tr_circ = transpile(circ, basis_gates=['u', 'cx'], optimization_level=3)\n",
    "simulator = Aer.get_backend('statevector_simulator')\n",
    "shots = 10\n",
    "job = simulator.run(tr_circ, shots=shots)\n",
    "counts = job.result().get_counts()\n",
    "print(counts)\n",
    "\n",
    "#! For non rescaled spectrum, under 100 Trotter steps we have garbage as we found out!\n"
   ]
  }
 ],
 "metadata": {
  "kernelspec": {
   "display_name": "qiskit_env",
   "language": "python",
   "name": "python3"
  },
  "language_info": {
   "codemirror_mode": {
    "name": "ipython",
    "version": 3
   },
   "file_extension": ".py",
   "mimetype": "text/x-python",
   "name": "python",
   "nbconvert_exporter": "python",
   "pygments_lexer": "ipython3",
   "version": "3.11.5"
  }
 },
 "nbformat": 4,
 "nbformat_minor": 2
}
