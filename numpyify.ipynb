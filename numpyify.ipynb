{
 "cells": [
  {
   "cell_type": "code",
   "execution_count": 9,
   "metadata": {},
   "outputs": [
    {
     "name": "stdout",
     "output_type": "stream",
     "text": [
      "Original spectrum:  [-8.0863 -5.2361 -4.     -3.2361 -1.4863 -1.2361 -0.7639 -0.      0.7639\n",
      "  1.2248  1.2361  2.      3.2361  4.3478  5.2361  6.    ]\n",
      "Ideal spectrum:  [0.     0.0911 0.1305 0.1549 0.2108 0.2188 0.2339 0.2583 0.2827 0.2975\n",
      " 0.2978 0.3222 0.3617 0.3972 0.4256 0.45  ]\n",
      "Nonrescaled coefficients:  [1, 1, 1, 1]\n",
      "Rescaled coefficients:  [0.03194602 0.03194602 0.03194602 0.03194602]\n"
     ]
    }
   ],
   "source": [
    "import sys\n",
    "sys.path.append('/Users/bence/code/liouvillian_metro/')\n",
    "\n",
    "import numpy as np\n",
    "import qutip as qt\n",
    "import matplotlib.pyplot as plt\n",
    "from scipy.linalg import expm\n",
    "from scipy.sparse.linalg import eigsh\n",
    "import pickle\n",
    "from copy import deepcopy\n",
    "from qiskit.quantum_info import DensityMatrix, Statevector, partial_trace, state_fidelity\n",
    "import time\n",
    "\n",
    "from oft_n_liouv_np import oft\n",
    "from tools.classical import find_ideal_heisenberg, trotter_step_heisenberg_qt, ham_evol_qt, hamiltonian_matrix\n",
    "\n",
    "#* Benchmarking says, for no parallelization, 15-16 estimating qubits max, 10-12 system qubits max\n",
    "#* 12 - 13 would take 2-3 days without GPU or cluster\n",
    "#* 13 - 14 would take 33 days without GPU or cluster -> with GPU or cluster maybe 50x so within reach\n",
    "#* We can compute a spectral gap of 8 qubit Liouv max, 9 qubits needs half a TB of memory\n",
    "np.random.seed(667)\n",
    "# 3-6, 4-8, 5-9, 6-12, 7-14, 8-16, 9-18 (<- perfect spectra); 10 - 20 (6+ mins, we can't do that, maybe with parallelization)\n",
    "num_qubits = 4\n",
    "num_energy_bits = 14\n",
    "delta = 0.01\n",
    "eps = 0.1\n",
    "sigma = 5\n",
    "bohr_bound = 0 #2 ** (-num_energy_bits + 1)\n",
    "beta = 1\n",
    "eig_index = 2\n",
    "mix_time = 4\n",
    "\n",
    "hamiltonian = find_ideal_heisenberg(num_qubits, bohr_bound, eps, [1, 1, 1, 1], signed=False, for_oft=True)\n",
    "# eigenstate_with_scipy = eigsh(hamiltonian.qt.full(), k=1, sigma=hamiltonian.spectrum[eig_index])[1].flatten()\n",
    "# initial_state = eigenstate_with_scipy / np.linalg.norm(eigenstate_with_scipy)\n",
    "initial_state = hamiltonian.eigvecs[:, eig_index]\n",
    "\n",
    "initial_dm = DensityMatrix(initial_state).data\n",
    "\n",
    "N = 2**num_energy_bits\n",
    "N_labels = np.arange(N / 2, dtype=int)\n",
    "N_labels_neg = np.arange(- N / 2, 0, dtype=int)\n",
    "N_labels = np.concatenate((N_labels, N_labels_neg))\n",
    "time_labels = N_labels\n",
    "phase = 17\n",
    "\n",
    "site_list = [qt.qeye(2) for _ in range(num_qubits)]\n",
    "x_jump_ops = []\n",
    "for q in range(num_qubits):\n",
    "    site_list[q] = qt.sigmax()\n",
    "    x_jump_ops.append(qt.tensor(site_list).full())\n",
    "\n",
    "rand_jump_index = np.random.randint(0, len(x_jump_ops))\n",
    "jump_op = x_jump_ops[rand_jump_index]\n",
    "\n",
    "gauss = lambda t: np.exp(-t**2 / (4 * sigma**2))\n",
    "gauss_values = gauss(time_labels)\n",
    "normalized_gauss_values_bin_order = (gauss_values / np.sqrt(np.sum(gauss_values**2)))\n",
    "\n",
    "# if hamiltonian is None and trotter is not None:  #* Trotterized\n",
    "#     time_evolution = lambda n: np.linalg.matrix_power(trotter, n)\n",
    "# elif hamiltonian is not None and trotter is None:  #* Exact\n",
    "# time_evolution_fn = lambda t: expm(1j * t * hamiltonian.qt.full())"
   ]
  },
  {
   "cell_type": "code",
   "execution_count": 10,
   "metadata": {},
   "outputs": [
    {
     "data": {
      "text/plain": [
       "array([1.        , 0.9984672 , 0.99693674, ..., 1.        , 1.        ,\n",
       "       1.        ])"
      ]
     },
     "execution_count": 10,
     "metadata": {},
     "output_type": "execute_result"
    }
   ],
   "source": [
    "\n",
    "boltzmann = lambda beta, energy: np.min([1, np.exp(-beta * energy)]) #! change it to new paper's way\n",
    "boltzmann_vectorized = np.vectorize(boltzmann)\n",
    "#* Exact\n",
    "evolved_dm = deepcopy(initial_dm)\n",
    "\n",
    "energy_factors = 2 * np.pi * N_labels / N\n",
    "boltzmann_factors = boltzmann_vectorized(beta, energy_factors)\n",
    "boltzmann_factors"
   ]
  },
  {
   "cell_type": "code",
   "execution_count": 3,
   "metadata": {},
   "outputs": [],
   "source": [
    "# decompose hamiltonian to diag form\n",
    "# diag_decomposed_ham = hamiltonian.eigvecs @ np.diag(hamiltonian.spectrum) @ hamiltonian.eigvecs.T.conj()\n",
    "# print(np.allclose(diag_decomposed_ham, hamiltonian.qt.full()))\n",
    "\n",
    "diag_ham = np.diag(hamiltonian.spectrum)\n",
    "\n",
    "# time_evolution_fn = lambda t: expm(1j * t * hamiltonian.qt.full())\n",
    "time_evolution_fn = lambda t: hamiltonian.eigvecs @ np.diag(np.exp(1j * t * hamiltonian.spectrum)) @ hamiltonian.eigvecs.T.conj()\n"
   ]
  },
  {
   "cell_type": "code",
   "execution_count": 4,
   "metadata": {},
   "outputs": [
    {
     "name": "stdout",
     "output_type": "stream",
     "text": [
      "(128, 64)\n"
     ]
    }
   ],
   "source": [
    "diag_elements_for_all_times = np.exp(1j * time_labels[:, np.newaxis] * hamiltonian.spectrum)\n",
    "print(diag_elements_for_all_times.shape)"
   ]
  },
  {
   "cell_type": "code",
   "execution_count": 5,
   "metadata": {},
   "outputs": [
    {
     "name": "stdout",
     "output_type": "stream",
     "text": [
      "Time to build the OFT operator with einsum: 0.00 s\n"
     ]
    }
   ],
   "source": [
    "phase_factors = np.exp(- 1j * 2 * np.pi * phase * time_labels / N)\n",
    "t1 = time.time()\n",
    "# print(jump_op.shape)\n",
    "\n",
    "oft_op_np = np.einsum('i, i, ja, ia, ak, km, mb, ib, bn  -> jn', \n",
    "                      normalized_gauss_values_bin_order, phase_factors, hamiltonian.eigvecs, diag_elements_for_all_times,\n",
    "                      hamiltonian. eigvecs.conj().T, jump_op, hamiltonian.eigvecs, diag_elements_for_all_times.conj(),\n",
    "                      hamiltonian.eigvecs.conj().T, \n",
    "                      optimize=True) / np.sqrt(N)\n",
    "\n",
    "print(f'Time to build the OFT operator with einsum: {time.time() - t1:.2f} s')"
   ]
  },
  {
   "cell_type": "code",
   "execution_count": 6,
   "metadata": {},
   "outputs": [
    {
     "name": "stdout",
     "output_type": "stream",
     "text": [
      "Time to build the OFT operator: 102.37 s\n"
     ]
    }
   ],
   "source": [
    "# time_evolution_fn = lambda t: expm(1j * t * hamiltonian.qt.full())\n",
    "# t0 = time.time()\n",
    "# oft_op = np.zeros_like(jump_op, dtype=np.complex128)\n",
    "\n",
    "# for i, t in enumerate(time_labels):\n",
    "#     oft_op += (np.exp(-1j * 2 * np.pi * phase * t / N)  #!\n",
    "#                 * normalized_gauss_values_bin_order[i] \n",
    "#                 * time_evolution_fn(t) @ jump_op @ time_evolution_fn(-t))\n",
    "    \n",
    "# oft_op /= np.sqrt(N)\n",
    "# print(f'Time to build the OFT operator: {time.time() - t0:.2f} s')"
   ]
  },
  {
   "cell_type": "code",
   "execution_count": 7,
   "metadata": {},
   "outputs": [
    {
     "data": {
      "text/plain": [
       "True"
      ]
     },
     "execution_count": 7,
     "metadata": {},
     "output_type": "execute_result"
    }
   ],
   "source": [
    "\n",
    "# print(oft_op_np.shape)\n",
    "# np.allclose(oft_op, oft_op_np, atol=1e-7)"
   ]
  }
 ],
 "metadata": {
  "kernelspec": {
   "display_name": "qiskit_1_env",
   "language": "python",
   "name": "python3"
  },
  "language_info": {
   "codemirror_mode": {
    "name": "ipython",
    "version": 3
   },
   "file_extension": ".py",
   "mimetype": "text/x-python",
   "name": "python",
   "nbconvert_exporter": "python",
   "pygments_lexer": "ipython3",
   "version": "3.12.2"
  }
 },
 "nbformat": 4,
 "nbformat_minor": 2
}
