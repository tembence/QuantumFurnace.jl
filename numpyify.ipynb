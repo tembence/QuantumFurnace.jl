{
 "cells": [
  {
   "cell_type": "code",
   "execution_count": 6,
   "metadata": {},
   "outputs": [
    {
     "name": "stdout",
     "output_type": "stream",
     "text": [
      "Original spectrum:  [-5.3733e+00 -4.6135e+00 -4.2413e+00 -3.2941e+00 -3.0120e+00 -2.9785e+00\n",
      " -2.8830e+00 -2.4277e+00 -2.3907e+00 -2.3581e+00 -2.1773e+00 -2.1104e+00\n",
      " -2.0977e+00 -2.0808e+00 -2.0593e+00 -1.7782e+00 -1.6481e+00 -1.4854e+00\n",
      " -1.3350e+00 -1.1192e+00 -1.1023e+00 -9.8890e-01 -8.5270e-01 -8.3080e-01\n",
      " -7.0020e-01 -6.8570e-01 -6.0500e-01 -3.0880e-01 -2.5040e-01 -2.1570e-01\n",
      "  6.0000e-04  1.2910e-01  1.6440e-01  4.0150e-01  4.1600e-01  4.9720e-01\n",
      "  5.6900e-01  1.0180e+00  1.0341e+00  1.0678e+00  1.0958e+00  1.1785e+00\n",
      "  1.3436e+00  1.3746e+00  1.3944e+00  1.5125e+00  1.5396e+00  1.6083e+00\n",
      "  1.7168e+00  1.7549e+00  1.7862e+00  1.8819e+00  2.0236e+00  2.0415e+00\n",
      "  2.2986e+00  2.3863e+00  2.4917e+00  2.5866e+00  2.7019e+00  2.8579e+00\n",
      "  2.9588e+00  3.1381e+00  3.8554e+00  5.1788e+00]\n",
      "Ideal spectrum:  [-0.      0.0324  0.0483  0.0887  0.1007  0.1021  0.1062  0.1256  0.1272\n",
      "  0.1286  0.1363  0.1391  0.1397  0.1404  0.1413  0.1533  0.1589  0.1658\n",
      "  0.1722  0.1814  0.1821  0.187   0.1928  0.1937  0.1993  0.1999  0.2033\n",
      "  0.216   0.2185  0.22    0.2292  0.2347  0.2362  0.2463  0.2469  0.2504\n",
      "  0.2534  0.2726  0.2732  0.2747  0.2759  0.2794  0.2864  0.2878  0.2886\n",
      "  0.2936  0.2948  0.2977  0.3024  0.304   0.3053  0.3094  0.3154  0.3162\n",
      "  0.3272  0.3309  0.3354  0.3395  0.3444  0.351   0.3553  0.363   0.3936\n",
      "  0.45  ]\n",
      "Nonrescaled coefficients:  [0.30797838 0.45701463 0.64211199 0.32000905]\n",
      "Rescaled coefficients:  [0.01313388 0.0194896  0.02738316 0.01364693]\n"
     ]
    }
   ],
   "source": [
    "import sys\n",
    "sys.path.append('/Users/bence/code/liouvillian_metro/')\n",
    "\n",
    "import numpy as np\n",
    "import qutip as qt\n",
    "import matplotlib.pyplot as plt\n",
    "from scipy.linalg import expm\n",
    "from scipy.sparse.linalg import eigsh\n",
    "import pickle\n",
    "from copy import deepcopy\n",
    "from qiskit.quantum_info import DensityMatrix, Statevector, partial_trace, state_fidelity\n",
    "import time\n",
    "\n",
    "from oft import oft\n",
    "from tools.classical import find_ideal_heisenberg, trotter_step_heisenberg_qt, ham_evol_qt, hamiltonian_matrix\n",
    "\n",
    "np.random.seed(667)\n",
    "# 3-6, 4-8, 5-9, 6-12, 7-14, 8-16 (6 mins)\n",
    "num_qubits = 6\n",
    "num_energy_bits = 12\n",
    "delta = 0.01\n",
    "eps = 0.1\n",
    "sigma = 5\n",
    "bohr_bound = 2 ** (-num_energy_bits + 1)\n",
    "beta = 1\n",
    "eig_index = 2\n",
    "mix_time = 4\n",
    "\n",
    "hamiltonian = find_ideal_heisenberg(num_qubits, bohr_bound, eps, signed=False, for_oft=True)\n",
    "eigenstate_with_scipy = eigsh(hamiltonian.qt.full(), k=1, sigma=hamiltonian.spectrum[eig_index])[1].flatten()\n",
    "initial_state = eigenstate_with_scipy / np.linalg.norm(eigenstate_with_scipy)\n",
    "\n",
    "initial_dm = DensityMatrix(initial_state).data\n",
    "\n",
    "N = 2**num_energy_bits\n",
    "N_labels = np.arange(N / 2, dtype=int)\n",
    "N_labels_neg = np.arange(- N / 2, 0, dtype=int)\n",
    "N_labels = np.concatenate((N_labels, N_labels_neg))\n",
    "time_labels = N_labels\n",
    "phase = 17\n",
    "\n",
    "site_list = [qt.qeye(2) for _ in range(num_qubits)]\n",
    "x_jump_ops = []\n",
    "for q in range(num_qubits):\n",
    "    site_list[q] = qt.sigmax()\n",
    "    x_jump_ops.append(qt.tensor(site_list).full())\n",
    "\n",
    "rand_jump_index = np.random.randint(0, len(x_jump_ops))\n",
    "jump_op = x_jump_ops[rand_jump_index]\n",
    "\n",
    "gauss = lambda t: np.exp(-t**2 / (4 * sigma**2))\n",
    "gauss_values = gauss(time_labels)\n",
    "normalized_gauss_values_bin_order = (gauss_values / np.sqrt(np.sum(gauss_values**2)))\n",
    "\n",
    "# if hamiltonian is None and trotter is not None:  #* Trotterized\n",
    "#     time_evolution = lambda n: np.linalg.matrix_power(trotter, n)\n",
    "# elif hamiltonian is not None and trotter is None:  #* Exact\n",
    "# time_evolution_fn = lambda t: expm(1j * t * hamiltonian.qt.full())\n",
    "\n",
    "\n",
    "diag_ham = np.diagflat(hamiltonian.spectrum)\n",
    "time_evolution_fn = lambda t: expm(1j * t * diag_ham) #! Wrong it needs the U, U^dag with eigenstates, so we do need H ES after all #FIXME:\n",
    "#* 1) Prediagonalizing and using that instead of this fn, with expm in the loop\n",
    "#* 2) Preexponentiating the eigenenergies, einsum\n",
    "time_evolutions_fn = lambda times: np.stack([time_evolution_fn(t) for t in times], axis=0)\n"
   ]
  },
  {
   "cell_type": "code",
   "execution_count": 7,
   "metadata": {},
   "outputs": [
    {
     "name": "stdout",
     "output_type": "stream",
     "text": [
      "Time to build the OFT operator: 1.64 s\n"
     ]
    }
   ],
   "source": [
    "t0 = time.time()\n",
    "oft_op = np.zeros_like(jump_op, dtype=np.complex128)\n",
    "\n",
    "for i, t in enumerate(time_labels):\n",
    "    oft_op += (np.exp(-1j * 2 * np.pi * phase * t / N)  #!\n",
    "                * normalized_gauss_values_bin_order[i] \n",
    "                * time_evolution_fn(t) @ jump_op @ time_evolution_fn(-t))\n",
    "    \n",
    "oft_op /= np.sqrt(N)\n",
    "print(f'Time to build the OFT operator: {time.time() - t0:.2f} s')"
   ]
  },
  {
   "cell_type": "code",
   "execution_count": 20,
   "metadata": {},
   "outputs": [],
   "source": [
    "time_evolutions_plus = np.stack([time_evolution_fn(t) for t in time_labels], axis=0)\n",
    "time_evolutions_minus = time_evolutions_plus.conj()"
   ]
  },
  {
   "cell_type": "code",
   "execution_count": 17,
   "metadata": {},
   "outputs": [
    {
     "name": "stdout",
     "output_type": "stream",
     "text": [
      "Time to build the OFT operator with einsum: 4.20 s\n"
     ]
    }
   ],
   "source": [
    "phase_factors = np.exp(- 1j * 2 * np.pi * phase * time_labels / N)\n",
    "t1 = time.time()\n",
    "# print(jump_op.shape)\n",
    "oft_op_np = np.einsum('i, i, ijk, km, imn -> jn', \n",
    "                      normalized_gauss_values_bin_order, phase_factors, time_evolutions_plus, jump_op, time_evolutions_minus, \n",
    "                      optimize=True) / np.sqrt(N)\n",
    "\n",
    "print(f'Time to build the OFT operator with einsum: {time.time() - t1:.2f} s')"
   ]
  },
  {
   "cell_type": "code",
   "execution_count": 10,
   "metadata": {},
   "outputs": [
    {
     "data": {
      "text/plain": [
       "True"
      ]
     },
     "execution_count": 10,
     "metadata": {},
     "output_type": "execute_result"
    }
   ],
   "source": [
    "\n",
    "# print(oft_op_np.shape)\n",
    "np.isclose(oft_op, oft_op_np, atol=1e-7).all()"
   ]
  }
 ],
 "metadata": {
  "kernelspec": {
   "display_name": "qiskit_1_env",
   "language": "python",
   "name": "python3"
  },
  "language_info": {
   "codemirror_mode": {
    "name": "ipython",
    "version": 3
   },
   "file_extension": ".py",
   "mimetype": "text/x-python",
   "name": "python",
   "nbconvert_exporter": "python",
   "pygments_lexer": "ipython3",
   "version": "3.12.2"
  }
 },
 "nbformat": 4,
 "nbformat_minor": 2
}
