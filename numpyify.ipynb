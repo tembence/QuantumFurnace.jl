{
 "cells": [
  {
   "cell_type": "code",
   "execution_count": 2,
   "metadata": {},
   "outputs": [
    {
     "name": "stdout",
     "output_type": "stream",
     "text": [
      "Original spectrum:  [-11.3319 -10.0064  -8.5177  -7.3964  -6.7983  -6.6988  -6.655   -5.5508\n",
      "  -5.3542  -5.0642  -4.9956  -4.9657  -4.1712  -4.0834  -3.9664  -3.9016\n",
      "  -3.3423  -2.8628  -2.6946  -2.494   -2.4049  -2.2788  -2.      -1.6497\n",
      "  -1.5935  -1.2682  -1.1606  -0.5732  -0.2859   0.1564   0.3006   0.3961\n",
      "   0.5943   0.8901   0.9466   1.5064   1.5672   1.5799   1.7336   1.7588\n",
      "   2.       2.1146   2.2412   2.3553   2.6341   2.8107   2.901    3.1099\n",
      "   3.4531   3.6039   3.7335   3.8007   4.3832   4.3932   5.1554   5.1851\n",
      "   5.6809   6.2112   6.494    6.6309   6.6946   7.9854   9.0642  10.    ]\n",
      "Ideal spectrum:  [-0.      0.028   0.0594  0.083   0.0956  0.0977  0.0987  0.122   0.1261\n",
      "  0.1322  0.1337  0.1343  0.1511  0.1529  0.1554  0.1567  0.1685  0.1787\n",
      "  0.1822  0.1864  0.1883  0.191   0.1969  0.2042  0.2054  0.2123  0.2146\n",
      "  0.227   0.233   0.2423  0.2454  0.2474  0.2516  0.2578  0.259   0.2708\n",
      "  0.2721  0.2724  0.2756  0.2761  0.2812  0.2837  0.2863  0.2887  0.2946\n",
      "  0.2983  0.3002  0.3047  0.3119  0.3151  0.3178  0.3192  0.3315  0.3317\n",
      "  0.3478  0.3484  0.3589  0.3701  0.376   0.3789  0.3803  0.4075  0.4303\n",
      "  0.45  ]\n",
      "Nonrescaled coefficients:  [1, 1, 1, 1]\n",
      "Rescaled coefficients:  [0.0210952 0.0210952 0.0210952 0.0210952]\n"
     ]
    }
   ],
   "source": [
    "import sys\n",
    "sys.path.append('/Users/bence/code/liouvillian_metro/')\n",
    "\n",
    "import numpy as np\n",
    "import qutip as qt\n",
    "import matplotlib.pyplot as plt\n",
    "from scipy.linalg import expm\n",
    "from scipy.sparse.linalg import eigsh\n",
    "import pickle\n",
    "from copy import deepcopy\n",
    "from qiskit.quantum_info import DensityMatrix, Statevector, partial_trace, state_fidelity\n",
    "import time\n",
    "\n",
    "from oft import oft\n",
    "from tools.classical import find_ideal_heisenberg, trotter_step_heisenberg_qt, ham_evol_qt, hamiltonian_matrix\n",
    "\n",
    "#* Benchmarking says, for no parallelization, 15-16 estimating qubits max, 10-12 system qubits max\n",
    "#* 12 - 13 would take 2-3 days without GPU or cluster\n",
    "#* 13 - 14 would take 33 days without GPU or cluster -> with GPU or cluster maybe 50x so within reach\n",
    "#* We can compute a spectral gap of 8 qubit Liouv max, 9 qubits needs half a TB of memory\n",
    "np.random.seed(667)\n",
    "# 3-6, 4-8, 5-9, 6-12, 7-14, 8-16, 9-18 (<- perfect spectra); 10 - 20 (6+ mins, we can't do that, maybe with parallelization)\n",
    "num_qubits = 4\n",
    "num_energy_bits = 6\n",
    "delta = 0.01\n",
    "eps = 0.1\n",
    "sigma = 5\n",
    "bohr_bound = 0 #2 ** (-num_energy_bits + 1)\n",
    "beta = 1\n",
    "eig_index = 2\n",
    "mix_time = 4\n",
    "\n",
    "hamiltonian = find_ideal_heisenberg(num_qubits, bohr_bound, eps, [1, 1, 1, 1], signed=False, for_oft=True)\n",
    "# eigenstate_with_scipy = eigsh(hamiltonian.qt.full(), k=1, sigma=hamiltonian.spectrum[eig_index])[1].flatten()\n",
    "# initial_state = eigenstate_with_scipy / np.linalg.norm(eigenstate_with_scipy)\n",
    "initial_state = hamiltonian.eigvecs[:, eig_index]\n",
    "\n",
    "initial_dm = DensityMatrix(initial_state).data\n",
    "\n",
    "N = 2**num_energy_bits\n",
    "N_labels = np.arange(N / 2, dtype=int)\n",
    "N_labels_neg = np.arange(- N / 2, 0, dtype=int)\n",
    "N_labels = np.concatenate((N_labels, N_labels_neg))\n",
    "time_labels = N_labels\n",
    "phase = 17\n",
    "\n",
    "site_list = [qt.qeye(2) for _ in range(num_qubits)]\n",
    "x_jump_ops = []\n",
    "for q in range(num_qubits):\n",
    "    site_list[q] = qt.sigmax()\n",
    "    x_jump_ops.append(qt.tensor(site_list).full())\n",
    "\n",
    "rand_jump_index = np.random.randint(0, len(x_jump_ops))\n",
    "jump_op = x_jump_ops[rand_jump_index]\n",
    "\n",
    "gauss = lambda t: np.exp(-t**2 / (4 * sigma**2))\n",
    "gauss_values = gauss(time_labels)\n",
    "normalized_gauss_values_bin_order = (gauss_values / np.sqrt(np.sum(gauss_values**2)))\n",
    "\n",
    "# if hamiltonian is None and trotter is not None:  #* Trotterized\n",
    "#     time_evolution = lambda n: np.linalg.matrix_power(trotter, n)\n",
    "# elif hamiltonian is not None and trotter is None:  #* Exact\n",
    "# time_evolution_fn = lambda t: expm(1j * t * hamiltonian.qt.full())"
   ]
  },
  {
   "cell_type": "code",
   "execution_count": 3,
   "metadata": {},
   "outputs": [],
   "source": [
    "# decompose hamiltonian to diag form\n",
    "# diag_decomposed_ham = hamiltonian.eigvecs @ np.diag(hamiltonian.spectrum) @ hamiltonian.eigvecs.T.conj()\n",
    "# print(np.allclose(diag_decomposed_ham, hamiltonian.qt.full()))\n",
    "\n",
    "diag_ham = np.diag(hamiltonian.spectrum)\n",
    "\n",
    "# time_evolution_fn = lambda t: expm(1j * t * hamiltonian.qt.full())\n",
    "time_evolution_fn = lambda t: hamiltonian.eigvecs @ np.diag(np.exp(1j * t * hamiltonian.spectrum)) @ hamiltonian.eigvecs.T.conj()\n"
   ]
  },
  {
   "cell_type": "code",
   "execution_count": 4,
   "metadata": {},
   "outputs": [
    {
     "name": "stdout",
     "output_type": "stream",
     "text": [
      "(128, 64)\n"
     ]
    }
   ],
   "source": [
    "diag_elements_for_all_times = np.exp(1j * time_labels[:, np.newaxis] * hamiltonian.spectrum)\n",
    "print(diag_elements_for_all_times.shape)"
   ]
  },
  {
   "cell_type": "code",
   "execution_count": 5,
   "metadata": {},
   "outputs": [
    {
     "name": "stdout",
     "output_type": "stream",
     "text": [
      "Time to build the OFT operator with einsum: 0.00 s\n"
     ]
    }
   ],
   "source": [
    "phase_factors = np.exp(- 1j * 2 * np.pi * phase * time_labels / N)\n",
    "t1 = time.time()\n",
    "# print(jump_op.shape)\n",
    "\n",
    "oft_op_np = np.einsum('i, i, ja, ia, ak, km, mb, ib, bn  -> jn', \n",
    "                      normalized_gauss_values_bin_order, phase_factors, hamiltonian.eigvecs, diag_elements_for_all_times,\n",
    "                      hamiltonian. eigvecs.conj().T, jump_op, hamiltonian.eigvecs, diag_elements_for_all_times.conj(),\n",
    "                      hamiltonian.eigvecs.conj().T, \n",
    "                      optimize=True) / np.sqrt(N)\n",
    "\n",
    "print(f'Time to build the OFT operator with einsum: {time.time() - t1:.2f} s')"
   ]
  },
  {
   "cell_type": "code",
   "execution_count": 6,
   "metadata": {},
   "outputs": [
    {
     "name": "stdout",
     "output_type": "stream",
     "text": [
      "Time to build the OFT operator: 102.37 s\n"
     ]
    }
   ],
   "source": [
    "# time_evolution_fn = lambda t: expm(1j * t * hamiltonian.qt.full())\n",
    "# t0 = time.time()\n",
    "# oft_op = np.zeros_like(jump_op, dtype=np.complex128)\n",
    "\n",
    "# for i, t in enumerate(time_labels):\n",
    "#     oft_op += (np.exp(-1j * 2 * np.pi * phase * t / N)  #!\n",
    "#                 * normalized_gauss_values_bin_order[i] \n",
    "#                 * time_evolution_fn(t) @ jump_op @ time_evolution_fn(-t))\n",
    "    \n",
    "# oft_op /= np.sqrt(N)\n",
    "# print(f'Time to build the OFT operator: {time.time() - t0:.2f} s')"
   ]
  },
  {
   "cell_type": "code",
   "execution_count": 7,
   "metadata": {},
   "outputs": [
    {
     "data": {
      "text/plain": [
       "True"
      ]
     },
     "execution_count": 7,
     "metadata": {},
     "output_type": "execute_result"
    }
   ],
   "source": [
    "\n",
    "# print(oft_op_np.shape)\n",
    "# np.allclose(oft_op, oft_op_np, atol=1e-7)"
   ]
  }
 ],
 "metadata": {
  "kernelspec": {
   "display_name": "qiskit_1_env",
   "language": "python",
   "name": "python3"
  },
  "language_info": {
   "codemirror_mode": {
    "name": "ipython",
    "version": 3
   },
   "file_extension": ".py",
   "mimetype": "text/x-python",
   "name": "python",
   "nbconvert_exporter": "python",
   "pygments_lexer": "ipython3",
   "version": "3.12.2"
  }
 },
 "nbformat": 4,
 "nbformat_minor": 2
}
