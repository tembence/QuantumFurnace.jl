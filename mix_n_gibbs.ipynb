{
 "cells": [
  {
   "cell_type": "code",
   "execution_count": 2,
   "metadata": {},
   "outputs": [],
   "source": [
    "\n",
    "import sys\n",
    "sys.path.append('/Users/bence/code/liouvillian_metro/')\n",
    "\n",
    "import numpy as np\n",
    "import qutip as qt\n",
    "from scipy.linalg import expm\n",
    "import pickle\n",
    "from qiskit.quantum_info import DensityMatrix, Statevector, partial_trace, state_fidelity\n",
    "\n",
    "from oft import oft\n",
    "from tools.classical import find_ideal_heisenberg, trotter_step_heisenberg_qt, ham_evol_qt\n",
    "\n",
    "np.random.seed(667)"
   ]
  },
  {
   "cell_type": "code",
   "execution_count": 3,
   "metadata": {},
   "outputs": [
    {
     "name": "stdout",
     "output_type": "stream",
     "text": [
      "Original spectrum:  [-3.7    -3.177  -2.5482 -1.7     1.625   2.4547  3.2521  3.7936]\n",
      "Ideal spectrum:  [0.     0.0314 0.0692 0.1201 0.3198 0.3696 0.4175 0.45  ]\n",
      "Nonrescaled coefficients:  [1.  0.8 0.9 1. ]\n",
      "Rescaled coefficients:  [0.06005156 0.04804125 0.05404641 0.06005156]\n"
     ]
    }
   ],
   "source": [
    "num_qubits = 3\n",
    "num_energy_bits = 6\n",
    "delta = 0.1 \n",
    "eps = 0.1\n",
    "sigma = 5\n",
    "bohr_bound = 2 ** (-num_energy_bits + 1)\n",
    "beta = 1\n",
    "eig_index = 2\n",
    "liouv_time = 1\n",
    "\n",
    "hamiltonian = find_ideal_heisenberg(num_qubits, bohr_bound, eps, signed=False, for_oft=True)\n",
    "\n",
    "initial_state = hamiltonian.eigenstates[:, eig_index]\n",
    "initial_dm = DensityMatrix(initial_state).data"
   ]
  },
  {
   "cell_type": "code",
   "execution_count": 4,
   "metadata": {},
   "outputs": [
    {
     "name": "stdout",
     "output_type": "stream",
     "text": [
      "(8, 8)\n"
     ]
    }
   ],
   "source": [
    "# Create Gibbs state from eigenstates and eigenenergies\n",
    "gibbs = expm(-beta * hamiltonian.qt.full()) / np.trace(expm(-beta * hamiltonian.qt.full()))\n",
    "print(gibbs.shape)"
   ]
  },
  {
   "cell_type": "code",
   "execution_count": 8,
   "metadata": {},
   "outputs": [
    {
     "ename": "TypeError",
     "evalue": "Incompatible quantum object dimensions",
     "output_type": "error",
     "traceback": [
      "\u001b[0;31m---------------------------------------------------------------------------\u001b[0m",
      "\u001b[0;31mTypeError\u001b[0m                                 Traceback (most recent call last)",
      "Cell \u001b[0;32mIn[8], line 29\u001b[0m\n\u001b[1;32m     27\u001b[0m energy \u001b[38;5;241m=\u001b[39m \u001b[38;5;241m2\u001b[39m \u001b[38;5;241m*\u001b[39m np\u001b[38;5;241m.\u001b[39mpi \u001b[38;5;241m*\u001b[39m phase \u001b[38;5;241m/\u001b[39m \u001b[38;5;241m2\u001b[39m\u001b[38;5;241m*\u001b[39m\u001b[38;5;241m*\u001b[39mnum_energy_bits\n\u001b[1;32m     28\u001b[0m oft_op \u001b[38;5;241m=\u001b[39m qt\u001b[38;5;241m.\u001b[39mQobj(np\u001b[38;5;241m.\u001b[39msqrt(boltzmann(beta, energy)) \u001b[38;5;241m*\u001b[39m oft(jump_op, phase, N, sigma, hamiltonian\u001b[38;5;241m=\u001b[39mhamiltonian\u001b[38;5;241m.\u001b[39mqt\u001b[38;5;241m.\u001b[39mfull()))\n\u001b[0;32m---> 29\u001b[0m liouvillian_superop \u001b[38;5;241m=\u001b[39m \u001b[43mqt\u001b[49m\u001b[38;5;241;43m.\u001b[39;49m\u001b[43msprepost\u001b[49m\u001b[43m(\u001b[49m\u001b[43moft_op\u001b[49m\u001b[43m,\u001b[49m\u001b[43m \u001b[49m\u001b[43moft_op\u001b[49m\u001b[38;5;241;43m.\u001b[39;49m\u001b[43mdag\u001b[49m\u001b[43m(\u001b[49m\u001b[43m)\u001b[49m\u001b[43m)\u001b[49m\u001b[43m \u001b[49m\u001b[38;5;241;43m-\u001b[39;49m\u001b[43m \u001b[49m\u001b[38;5;241;43m0.5\u001b[39;49m\u001b[43m \u001b[49m\u001b[38;5;241;43m*\u001b[39;49m\u001b[43m \u001b[49m\u001b[43mqt\u001b[49m\u001b[38;5;241;43m.\u001b[39;49m\u001b[43msprepost\u001b[49m\u001b[43m(\u001b[49m\u001b[43moft_op\u001b[49m\u001b[38;5;241;43m.\u001b[39;49m\u001b[43mdag\u001b[49m\u001b[43m(\u001b[49m\u001b[43m)\u001b[49m\u001b[43m \u001b[49m\u001b[38;5;241;43m*\u001b[39;49m\u001b[43m \u001b[49m\u001b[43moft_op\u001b[49m\u001b[43m,\u001b[49m\u001b[43m \u001b[49m\u001b[43mqt\u001b[49m\u001b[38;5;241;43m.\u001b[39;49m\u001b[43mqeye\u001b[49m\u001b[43m(\u001b[49m\u001b[43mN\u001b[49m\u001b[43m)\u001b[49m\u001b[43m)\u001b[49m \\\n\u001b[1;32m     30\u001b[0m     \u001b[38;5;241m-\u001b[39m \u001b[38;5;241m0.5\u001b[39m \u001b[38;5;241m*\u001b[39m qt\u001b[38;5;241m.\u001b[39msprepost(qt\u001b[38;5;241m.\u001b[39mqeye(N), oft_op\u001b[38;5;241m.\u001b[39mdag() \u001b[38;5;241m*\u001b[39m oft_op)\n",
      "File \u001b[0;32m~/miniforge3/envs/qiskit_env/lib/python3.11/site-packages/qutip/qobj.py:474\u001b[0m, in \u001b[0;36mQobj.__sub__\u001b[0;34m(self, other)\u001b[0m\n\u001b[1;32m    470\u001b[0m \u001b[38;5;28;01mdef\u001b[39;00m \u001b[38;5;21m__sub__\u001b[39m(\u001b[38;5;28mself\u001b[39m, other):\n\u001b[1;32m    471\u001b[0m \u001b[38;5;250m    \u001b[39m\u001b[38;5;124;03m\"\"\"\u001b[39;00m\n\u001b[1;32m    472\u001b[0m \u001b[38;5;124;03m    SUBTRACTION with Qobj on LEFT [ ex. Qobj-4 ]\u001b[39;00m\n\u001b[1;32m    473\u001b[0m \u001b[38;5;124;03m    \"\"\"\u001b[39;00m\n\u001b[0;32m--> 474\u001b[0m     \u001b[38;5;28;01mreturn\u001b[39;00m \u001b[38;5;28;43mself\u001b[39;49m\u001b[43m \u001b[49m\u001b[38;5;241;43m+\u001b[39;49m\u001b[43m \u001b[49m\u001b[43m(\u001b[49m\u001b[38;5;241;43m-\u001b[39;49m\u001b[43mother\u001b[49m\u001b[43m)\u001b[49m\n",
      "File \u001b[0;32m~/miniforge3/envs/qiskit_env/lib/python3.11/site-packages/qutip/qobj.py:433\u001b[0m, in \u001b[0;36mQobj.__add__\u001b[0;34m(self, other)\u001b[0m\n\u001b[1;32m    430\u001b[0m     \u001b[38;5;28;01mreturn\u001b[39;00m out\n\u001b[1;32m    432\u001b[0m \u001b[38;5;28;01melif\u001b[39;00m \u001b[38;5;28mself\u001b[39m\u001b[38;5;241m.\u001b[39mdims \u001b[38;5;241m!=\u001b[39m other\u001b[38;5;241m.\u001b[39mdims:\n\u001b[0;32m--> 433\u001b[0m     \u001b[38;5;28;01mraise\u001b[39;00m \u001b[38;5;167;01mTypeError\u001b[39;00m(\u001b[38;5;124m'\u001b[39m\u001b[38;5;124mIncompatible quantum object dimensions\u001b[39m\u001b[38;5;124m'\u001b[39m)\n\u001b[1;32m    435\u001b[0m \u001b[38;5;28;01melif\u001b[39;00m \u001b[38;5;28mself\u001b[39m\u001b[38;5;241m.\u001b[39mshape \u001b[38;5;241m!=\u001b[39m other\u001b[38;5;241m.\u001b[39mshape:\n\u001b[1;32m    436\u001b[0m     \u001b[38;5;28;01mraise\u001b[39;00m \u001b[38;5;167;01mTypeError\u001b[39;00m(\u001b[38;5;124m'\u001b[39m\u001b[38;5;124mMatrix shapes do not match\u001b[39m\u001b[38;5;124m'\u001b[39m)\n",
      "\u001b[0;31mTypeError\u001b[0m: Incompatible quantum object dimensions"
     ]
    }
   ],
   "source": [
    "# Liouvillian, could be from (1.8), i.e. integral over the energies\n",
    "\n",
    "N = 2**num_energy_bits\n",
    "N_labels = np.arange(N / 2, dtype=int)\n",
    "N_labels_neg = np.arange(- N / 2, 0, dtype=int)\n",
    "N_labels = np.concatenate((N_labels, N_labels_neg))\n",
    "energy_labels = 2 * np.pi * N_labels / N \n",
    "time_labels = N_labels\n",
    "\n",
    "jump_op = qt.tensor([qt.qeye(2), qt.sigmax(), qt.qeye(2)]).full()\n",
    "\n",
    "boltzmann = lambda beta, energy: np.min([1, np.exp(-beta * energy)])\n",
    "#?How do I get Liouvillian without a reference DM?\n",
    "\n",
    "# liouvillian = np.zeros((2**num_qubits, 2**num_qubits), dtype=complex)\n",
    "# for phase in N_labels:\n",
    "#     energy = 2 * np.pi * phase / 2**num_energy_bits\n",
    "#     oft_op = oft(jump_op, phase, 2**num_energy_bits, sigma, hamiltonian=hamiltonian.qt.full())\n",
    "#     liouvillian += boltzmann(beta, energy)*(-0.5 * oft_op.conj().T @ oft_op @ initial_dm\n",
    "#                                       -0.5 * initial_dm @ oft_op.conj().T @ oft_op\n",
    "#                                       + oft_op @ initial_dm @ oft_op.conj().T)\n",
    "    \n",
    "    \n",
    "    \n",
    "liouvillian_superop = np.zeros((N**2, N**2), dtype=complex)\n",
    "for phase in N_labels:\n",
    "    energy = 2 * np.pi * phase / 2**num_energy_bits\n",
    "    oft_op = qt.Qobj(np.sqrt(boltzmann(beta, energy)) * oft(jump_op, phase, N, sigma, hamiltonian=hamiltonian.qt.full()))\n",
    "    liouvillian_superop = qt.sprepost(oft_op, oft_op.dag()) - 0.5 * qt.sprepost(oft_op.dag() * oft_op, qt.qeye(N)) \\\n",
    "        - 0.5 * qt.sprepost(qt.qeye(N), oft_op.dag() * oft_op)\n",
    "\n"
   ]
  }
 ],
 "metadata": {
  "kernelspec": {
   "display_name": "qiskit_env",
   "language": "python",
   "name": "python3"
  },
  "language_info": {
   "codemirror_mode": {
    "name": "ipython",
    "version": 3
   },
   "file_extension": ".py",
   "mimetype": "text/x-python",
   "name": "python",
   "nbconvert_exporter": "python",
   "pygments_lexer": "ipython3",
   "version": "3.11.5"
  }
 },
 "nbformat": 4,
 "nbformat_minor": 2
}
