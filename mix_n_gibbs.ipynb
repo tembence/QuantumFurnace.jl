{
 "cells": [
  {
   "cell_type": "code",
   "execution_count": 2,
   "metadata": {},
   "outputs": [],
   "source": [
    "\n",
    "import sys\n",
    "sys.path.append('/Users/bence/code/liouvillian_metro/')\n",
    "\n",
    "import numpy as np\n",
    "import qutip as qt\n",
    "import matplotlib.pyplot as plt\n",
    "from scipy.linalg import expm\n",
    "import pickle\n",
    "from copy import deepcopy\n",
    "from qiskit.quantum_info import DensityMatrix, Statevector, partial_trace, state_fidelity\n",
    "import time\n",
    "\n",
    "from oft import oft\n",
    "from tools.classical import find_ideal_heisenberg, trotter_step_heisenberg_qt, ham_evol_qt, hamiltonian_matrix\n",
    "\n",
    "np.random.seed(667)"
   ]
  },
  {
   "cell_type": "code",
   "execution_count": 3,
   "metadata": {},
   "outputs": [
    {
     "name": "stdout",
     "output_type": "stream",
     "text": [
      "Number of qubits: 4\n",
      "Construction time: 0.003715991973876953\n",
      "Diagonalization time: 0.00034618377685546875\n",
      "Number of qubits: 5\n",
      "Construction time: 0.0028722286224365234\n",
      "Diagonalization time: 0.0002949237823486328\n",
      "Number of qubits: 6\n",
      "Construction time: 0.0033462047576904297\n",
      "Diagonalization time: 0.002092123031616211\n",
      "Number of qubits: 7\n",
      "Construction time: 0.009341955184936523\n",
      "Diagonalization time: 0.021015167236328125\n",
      "Number of qubits: 8\n",
      "Construction time: 0.007850885391235352\n",
      "Diagonalization time: 0.10253405570983887\n",
      "Number of qubits: 9\n",
      "Construction time: 0.01694011688232422\n",
      "Diagonalization time: 0.1712629795074463\n",
      "Number of qubits: 10\n",
      "Construction time: 0.067626953125\n",
      "Diagonalization time: 0.9517068862915039\n",
      "Number of qubits: 11\n",
      "Construction time: 0.31467390060424805\n",
      "Diagonalization time: 7.284855127334595\n",
      "Number of qubits: 12\n",
      "Construction time: 1.5288047790527344\n",
      "Diagonalization time: 42.197052240371704\n"
     ]
    }
   ],
   "source": [
    "coeffs = [1.1, 0.8, 0.2, 1]\n",
    "X = qt.sigmax()\n",
    "Y = qt.sigmay()\n",
    "Z = qt.sigmaz()\n",
    "\n",
    "constr_times = []\n",
    "diag_times = []\n",
    "for n in range(4, 13, 1):\n",
    "    print(f'Number of qubits: {n}')\n",
    "\n",
    "    t0 = time.time()\n",
    "    hamiltonian_qt = hamiltonian_matrix([X, X], [Y, Y], [Z, Z], coeffs=coeffs, num_qubits=n, symbreak_term=[Z])\n",
    "    t1 = time.time()\n",
    "    eigenenergies, eigenstates = np.linalg.eigh(hamiltonian_qt)\n",
    "    t2 = time.time()\n",
    "    diag_times.append(t2 - t1)\n",
    "    constr_times.append(t1 - t0)\n",
    "    print(f'Construction time: {t1 - t0}')\n",
    "    print(f'Diagonalization time: {t2 - t1}')\n"
   ]
  },
  {
   "cell_type": "code",
   "execution_count": 5,
   "metadata": {},
   "outputs": [
    {
     "data": {
      "text/plain": [
       "Text(0, 0.5, 'Time (s)')"
      ]
     },
     "execution_count": 5,
     "metadata": {},
     "output_type": "execute_result"
    },
    {
     "data": {
      "image/png": "[encoded data removed]",
      "text/plain": [
       "<Figure size 640x480 with 1 Axes>"
      ]
     },
     "metadata": {},
     "output_type": "display_data"
    }
   ],
   "source": [
    "#plot the results\n",
    "plt.figure()\n",
    "plt.plot(range(4, 13, 1), constr_times, label='Construction time')\n",
    "plt.plot(range(4, 13, 1), diag_times, label='Diagonalization time')\n",
    "plt.xlabel('Number of qubits')\n",
    "plt.ylabel('Time (s)')\n"
   ]
  },
  {
   "cell_type": "code",
   "execution_count": 8,
   "metadata": {},
   "outputs": [
    {
     "ename": "RuntimeError",
     "evalue": "Optimal parameters not found: Number of calls to function has reached maxfev = 800.",
     "output_type": "error",
     "traceback": [
      "\u001b[0;31m---------------------------------------------------------------------------\u001b[0m",
      "\u001b[0;31mRuntimeError\u001b[0m                              Traceback (most recent call last)",
      "Cell \u001b[0;32mIn[8], line 6\u001b[0m\n\u001b[1;32m      3\u001b[0m \u001b[38;5;28;01mdef\u001b[39;00m \u001b[38;5;21mfunc\u001b[39m(x, a, b, c):\n\u001b[1;32m      4\u001b[0m     \u001b[38;5;28;01mreturn\u001b[39;00m a \u001b[38;5;241m*\u001b[39m x\u001b[38;5;241m*\u001b[39m\u001b[38;5;241m*\u001b[39mb \u001b[38;5;241m+\u001b[39m c\n\u001b[0;32m----> 6\u001b[0m popt, pcov \u001b[38;5;241m=\u001b[39m \u001b[43mcurve_fit\u001b[49m\u001b[43m(\u001b[49m\u001b[43mfunc\u001b[49m\u001b[43m,\u001b[49m\u001b[43m \u001b[49m\u001b[38;5;28;43mrange\u001b[39;49m\u001b[43m(\u001b[49m\u001b[38;5;241;43m4\u001b[39;49m\u001b[43m,\u001b[49m\u001b[43m \u001b[49m\u001b[38;5;241;43m13\u001b[39;49m\u001b[43m,\u001b[49m\u001b[43m \u001b[49m\u001b[38;5;241;43m1\u001b[39;49m\u001b[43m)\u001b[49m\u001b[43m,\u001b[49m\u001b[43m \u001b[49m\u001b[43mdiag_times\u001b[49m\u001b[43m)\u001b[49m\n\u001b[1;32m      7\u001b[0m \u001b[38;5;28mprint\u001b[39m(popt)\n\u001b[1;32m      8\u001b[0m x \u001b[38;5;241m=\u001b[39m np\u001b[38;5;241m.\u001b[39mlinspace(\u001b[38;5;241m4\u001b[39m, \u001b[38;5;241m20\u001b[39m, \u001b[38;5;241m100\u001b[39m)\n",
      "File \u001b[0;32m~/miniforge3/envs/qiskit_1_env/lib/python3.12/site-packages/scipy/optimize/_minpack_py.py:968\u001b[0m, in \u001b[0;36mcurve_fit\u001b[0;34m(f, xdata, ydata, p0, sigma, absolute_sigma, check_finite, bounds, method, jac, full_output, nan_policy, **kwargs)\u001b[0m\n\u001b[1;32m    966\u001b[0m     cost \u001b[38;5;241m=\u001b[39m np\u001b[38;5;241m.\u001b[39msum(infodict[\u001b[38;5;124m'\u001b[39m\u001b[38;5;124mfvec\u001b[39m\u001b[38;5;124m'\u001b[39m] \u001b[38;5;241m*\u001b[39m\u001b[38;5;241m*\u001b[39m \u001b[38;5;241m2\u001b[39m)\n\u001b[1;32m    967\u001b[0m     \u001b[38;5;28;01mif\u001b[39;00m ier \u001b[38;5;129;01mnot\u001b[39;00m \u001b[38;5;129;01min\u001b[39;00m [\u001b[38;5;241m1\u001b[39m, \u001b[38;5;241m2\u001b[39m, \u001b[38;5;241m3\u001b[39m, \u001b[38;5;241m4\u001b[39m]:\n\u001b[0;32m--> 968\u001b[0m         \u001b[38;5;28;01mraise\u001b[39;00m \u001b[38;5;167;01mRuntimeError\u001b[39;00m(\u001b[38;5;124m\"\u001b[39m\u001b[38;5;124mOptimal parameters not found: \u001b[39m\u001b[38;5;124m\"\u001b[39m \u001b[38;5;241m+\u001b[39m errmsg)\n\u001b[1;32m    969\u001b[0m \u001b[38;5;28;01melse\u001b[39;00m:\n\u001b[1;32m    970\u001b[0m     \u001b[38;5;66;03m# Rename maxfev (leastsq) to max_nfev (least_squares), if specified.\u001b[39;00m\n\u001b[1;32m    971\u001b[0m     \u001b[38;5;28;01mif\u001b[39;00m \u001b[38;5;124m'\u001b[39m\u001b[38;5;124mmax_nfev\u001b[39m\u001b[38;5;124m'\u001b[39m \u001b[38;5;129;01mnot\u001b[39;00m \u001b[38;5;129;01min\u001b[39;00m kwargs:\n",
      "\u001b[0;31mRuntimeError\u001b[0m: Optimal parameters not found: Number of calls to function has reached maxfev = 800."
     ]
    }
   ],
   "source": [
    "# Extrapolate to 20 qubits\n",
    "from scipy.optimize import curve_fit\n",
    "def func(x, a, b, c):\n",
    "    return a * x**b\n",
    "\n",
    "popt, pcov = curve_fit(func, range(4, 13, 1), diag_times)\n",
    "print(popt)\n",
    "x = np.linspace(4, 20, 100)\n",
    "y = func(x, *popt)\n",
    "plt.plot(x, y, label='Extrapolation')\n"
   ]
  },
  {
   "cell_type": "code",
   "execution_count": 50,
   "metadata": {},
   "outputs": [
    {
     "name": "stderr",
     "output_type": "stream",
     "text": [
      "/Users/bence/code/liouvillian_metro/tools/classical.py:222: SyntaxWarning: invalid escape sequence '\\o'\n",
      "  \"\"\"Get the smallest Bohr frequency $\\omega_0$ for a given Hamiltonian.\n"
     ]
    },
    {
     "ename": "KeyboardInterrupt",
     "evalue": "",
     "output_type": "error",
     "traceback": [
      "\u001b[0;31m---------------------------------------------------------------------------\u001b[0m",
      "\u001b[0;31mKeyboardInterrupt\u001b[0m                         Traceback (most recent call last)",
      "Cell \u001b[0;32mIn[50], line 11\u001b[0m\n\u001b[1;32m      8\u001b[0m eig_index \u001b[38;5;241m=\u001b[39m \u001b[38;5;241m2\u001b[39m\n\u001b[1;32m      9\u001b[0m mix_time \u001b[38;5;241m=\u001b[39m \u001b[38;5;241m10\u001b[39m\n\u001b[0;32m---> 11\u001b[0m hamiltonian \u001b[38;5;241m=\u001b[39m \u001b[43mfind_ideal_heisenberg\u001b[49m\u001b[43m(\u001b[49m\u001b[43mnum_qubits\u001b[49m\u001b[43m,\u001b[49m\u001b[43m \u001b[49m\u001b[43mbohr_bound\u001b[49m\u001b[43m,\u001b[49m\u001b[43m \u001b[49m\u001b[43meps\u001b[49m\u001b[43m,\u001b[49m\u001b[43m \u001b[49m\u001b[43msigned\u001b[49m\u001b[38;5;241;43m=\u001b[39;49m\u001b[38;5;28;43;01mFalse\u001b[39;49;00m\u001b[43m,\u001b[49m\u001b[43m \u001b[49m\u001b[43mfor_oft\u001b[49m\u001b[38;5;241;43m=\u001b[39;49m\u001b[38;5;28;43;01mTrue\u001b[39;49;00m\u001b[43m)\u001b[49m\n\u001b[1;32m     13\u001b[0m initial_state \u001b[38;5;241m=\u001b[39m hamiltonian\u001b[38;5;241m.\u001b[39meigenstates[:, eig_index]\n\u001b[1;32m     14\u001b[0m initial_dm \u001b[38;5;241m=\u001b[39m DensityMatrix(initial_state)\u001b[38;5;241m.\u001b[39mdata\n",
      "File \u001b[0;32m~/code/liouvillian_metro/tools/classical.py:56\u001b[0m, in \u001b[0;36mfind_ideal_heisenberg\u001b[0;34m(num_qubits, bohr_bound, eps, signed, for_oft)\u001b[0m\n\u001b[1;32m     53\u001b[0m rescaling_factor, shift \u001b[38;5;241m=\u001b[39m rescaling_and_shift_factors(hamiltonian_qt, eps\u001b[38;5;241m=\u001b[39meps, signed\u001b[38;5;241m=\u001b[39msigned, for_oft\u001b[38;5;241m=\u001b[39mfor_oft)\n\u001b[1;32m     55\u001b[0m rescaled_hamiltonian_qt \u001b[38;5;241m=\u001b[39m hamiltonian_qt \u001b[38;5;241m/\u001b[39m rescaling_factor \u001b[38;5;241m+\u001b[39m shift \u001b[38;5;241m*\u001b[39m qt\u001b[38;5;241m.\u001b[39mqeye(hamiltonian_qt\u001b[38;5;241m.\u001b[39mshape[\u001b[38;5;241m0\u001b[39m])\n\u001b[0;32m---> 56\u001b[0m rescaled_spectrum \u001b[38;5;241m=\u001b[39m \u001b[43mnp\u001b[49m\u001b[38;5;241;43m.\u001b[39;49m\u001b[43mlinalg\u001b[49m\u001b[38;5;241;43m.\u001b[39;49m\u001b[43meigvalsh\u001b[49m\u001b[43m(\u001b[49m\u001b[43mrescaled_hamiltonian_qt\u001b[49m\u001b[43m)\u001b[49m\n\u001b[1;32m     58\u001b[0m \u001b[38;5;66;03m# Accept coeff only if all bohr freuquencies are not shorter than the bohr_bound\u001b[39;00m\n\u001b[1;32m     59\u001b[0m \u001b[38;5;28;01mfor\u001b[39;00m eigval_i \u001b[38;5;129;01min\u001b[39;00m rescaled_spectrum:\n",
      "File \u001b[0;32m~/miniforge3/envs/qiskit_1_env/lib/python3.12/site-packages/numpy/linalg/linalg.py:1181\u001b[0m, in \u001b[0;36meigvalsh\u001b[0;34m(a, UPLO)\u001b[0m\n\u001b[1;32m   1179\u001b[0m t, result_t \u001b[38;5;241m=\u001b[39m _commonType(a)\n\u001b[1;32m   1180\u001b[0m signature \u001b[38;5;241m=\u001b[39m \u001b[38;5;124m'\u001b[39m\u001b[38;5;124mD->d\u001b[39m\u001b[38;5;124m'\u001b[39m \u001b[38;5;28;01mif\u001b[39;00m isComplexType(t) \u001b[38;5;28;01melse\u001b[39;00m \u001b[38;5;124m'\u001b[39m\u001b[38;5;124md->d\u001b[39m\u001b[38;5;124m'\u001b[39m\n\u001b[0;32m-> 1181\u001b[0m w \u001b[38;5;241m=\u001b[39m \u001b[43mgufunc\u001b[49m\u001b[43m(\u001b[49m\u001b[43ma\u001b[49m\u001b[43m,\u001b[49m\u001b[43m \u001b[49m\u001b[43msignature\u001b[49m\u001b[38;5;241;43m=\u001b[39;49m\u001b[43msignature\u001b[49m\u001b[43m,\u001b[49m\u001b[43m \u001b[49m\u001b[43mextobj\u001b[49m\u001b[38;5;241;43m=\u001b[39;49m\u001b[43mextobj\u001b[49m\u001b[43m)\u001b[49m\n\u001b[1;32m   1182\u001b[0m \u001b[38;5;28;01mreturn\u001b[39;00m w\u001b[38;5;241m.\u001b[39mastype(_realType(result_t), copy\u001b[38;5;241m=\u001b[39m\u001b[38;5;28;01mFalse\u001b[39;00m)\n",
      "\u001b[0;31mKeyboardInterrupt\u001b[0m: "
     ]
    }
   ],
   "source": [
    "num_qubits = 10\n",
    "num_energy_bits = 11\n",
    "delta = 0.01\n",
    "eps = 0.1\n",
    "sigma = 5\n",
    "bohr_bound = 2 ** (-num_energy_bits + 1)\n",
    "beta = 1\n",
    "eig_index = 2\n",
    "mix_time = 10\n",
    "\n",
    "hamiltonian = find_ideal_heisenberg(num_qubits, bohr_bound, eps, signed=False, for_oft=True)\n",
    "\n",
    "initial_state = hamiltonian.eigenstates[:, eig_index]\n",
    "initial_dm = DensityMatrix(initial_state).data"
   ]
  },
  {
   "cell_type": "code",
   "execution_count": 40,
   "metadata": {},
   "outputs": [
    {
     "name": "stdout",
     "output_type": "stream",
     "text": [
      "(8, 8)\n"
     ]
    }
   ],
   "source": [
    "# Create Gibbs state from eigenstates and eigenenergies\n",
    "gibbs = expm(-beta * hamiltonian.qt.full()) / np.trace(expm(-beta * hamiltonian.qt.full()))\n",
    "print(gibbs.shape)"
   ]
  },
  {
   "cell_type": "code",
   "execution_count": 41,
   "metadata": {},
   "outputs": [],
   "source": [
    "# Liouvillian, could be from (1.8), i.e. integral over the energies\n",
    "\n",
    "N = 2**num_energy_bits\n",
    "N_labels = np.arange(N / 2, dtype=int)\n",
    "N_labels_neg = np.arange(- N / 2, 0, dtype=int)\n",
    "N_labels = np.concatenate((N_labels, N_labels_neg))\n",
    "energy_labels = 2 * np.pi * N_labels / N \n",
    "time_labels = N_labels\n",
    "\n",
    "# rand_jump_index = np.random.randint(0, num_qubits)\n",
    "site_list = [qt.qeye(2), qt.qeye(2), qt.qeye(2)]\n",
    "x_jump_ops = []\n",
    "for q in range(num_qubits):\n",
    "    site_list[q] = qt.sigmax()\n",
    "    x_jump_ops.append(qt.tensor(site_list).full())"
   ]
  },
  {
   "cell_type": "markdown",
   "metadata": {},
   "source": [
    "### With Qutip MESOLVE"
   ]
  },
  {
   "cell_type": "code",
   "execution_count": 42,
   "metadata": {},
   "outputs": [],
   "source": [
    "def trdist_to_gibbs(t, state):\n",
    "    gibbs = qt.Qobj(expm(-beta * hamiltonian.qt.full()) / np.trace(expm(-beta * hamiltonian.qt.full())))\n",
    "    trdist = qt.tracedist(state, gibbs)\n",
    "    # print(f'Trace distance to Gibbs at time {t} is {trdist}')\n",
    "    return trdist\n",
    "\n",
    "def fid_with_gibbs(t, state):\n",
    "    gibbs = qt.Qobj(expm(-beta * hamiltonian.qt.full()) / np.trace(expm(-beta * hamiltonian.qt.full())))\n",
    "    fid = qt.fidelity(state, gibbs)\n",
    "    # print(f'Fidelity with Gibbs at time {t} is {fid}')\n",
    "    return fid\n",
    "\n",
    "all_oft_jump_ops = []\n",
    "for i in range(len(x_jump_ops)):\n",
    "    jump_op = x_jump_ops[i]\n",
    "    for phase in N_labels:\n",
    "        energy = 2 * np.pi * phase / 2**num_energy_bits\n",
    "        oft_op = oft(jump_op, phase, 2**num_energy_bits, sigma, hamiltonian=hamiltonian.qt.full())\n",
    "        all_oft_jump_ops.append(qt.Qobj(oft_op))\n",
    "\n",
    "no_H = qt.qeye(2**num_qubits)\n",
    "times = np.linspace(0.0, mix_time, 10)\n",
    "result_qt = qt.mesolve(no_H, qt.Qobj(initial_dm), times, all_oft_jump_ops, \n",
    "                       e_ops=[trdist_to_gibbs, fid_with_gibbs], options=qt.Options(store_states=True))\n"
   ]
  },
  {
   "cell_type": "code",
   "execution_count": 43,
   "metadata": {},
   "outputs": [
    {
     "name": "stdout",
     "output_type": "stream",
     "text": [
      "Last trace distance to Gibbs is (0.08095893142529378+0j)\n",
      "Last fid value is (0.9964337132962702+0j)\n"
     ]
    }
   ],
   "source": [
    "print(f'Last trace distance to Gibbs is {result_qt.expect[0][-1]}')\n",
    "print(f'Last fid value is {result_qt.expect[1][-1]}')"
   ]
  },
  {
   "cell_type": "code",
   "execution_count": 44,
   "metadata": {},
   "outputs": [
    {
     "name": "stderr",
     "output_type": "stream",
     "text": [
      "<>:2: SyntaxWarning: invalid escape sequence '\\m'\n",
      "<>:6: SyntaxWarning: invalid escape sequence '\\s'\n",
      "<>:6: SyntaxWarning: invalid escape sequence '\\s'\n",
      "<>:2: SyntaxWarning: invalid escape sequence '\\m'\n",
      "<>:6: SyntaxWarning: invalid escape sequence '\\s'\n",
      "<>:6: SyntaxWarning: invalid escape sequence '\\s'\n",
      "/var/folders/pg/6vn02n251m14stcv7vg03pjr0000gn/T/ipykernel_57383/381797867.py:2: SyntaxWarning: invalid escape sequence '\\m'\n",
      "  plt.title('$e^{\\mathcal{L}t}$, with $A = \\{\\sigma_i^x\\}$')\n",
      "/var/folders/pg/6vn02n251m14stcv7vg03pjr0000gn/T/ipykernel_57383/381797867.py:6: SyntaxWarning: invalid escape sequence '\\s'\n",
      "  plt.legend((\"$D(\\\\rho, \\sigma)$\", \"$F(\\\\rho, \\sigma)$\"))\n",
      "/var/folders/pg/6vn02n251m14stcv7vg03pjr0000gn/T/ipykernel_57383/381797867.py:6: SyntaxWarning: invalid escape sequence '\\s'\n",
      "  plt.legend((\"$D(\\\\rho, \\sigma)$\", \"$F(\\\\rho, \\sigma)$\"))\n"
     ]
    },
    {
     "data": {
      "image/png": "[encoded data removed]",
      "text/plain": [
       "<Figure size 640x480 with 1 Axes>"
      ]
     },
     "metadata": {},
     "output_type": "display_data"
    }
   ],
   "source": [
    "plt.figure() \n",
    "plt.title('$e^{\\mathcal{L}t}$, with $A = \\{\\sigma_i^x\\}$')\n",
    "plt.plot(times, result_qt.expect[0]) \n",
    "plt.plot(times, result_qt.expect[1]) \n",
    "plt.xlabel('Time') \n",
    "plt.legend((\"$D(\\\\rho, \\sigma)$\", \"$F(\\\\rho, \\sigma)$\")) \n",
    "plt.show() "
   ]
  },
  {
   "cell_type": "markdown",
   "metadata": {},
   "source": [
    "### $\\left[ \\mathbb{I} + \\mathcal{L}\\delta + \\mathcal{O}(\\delta^2) \\right] \\times \\lceil t_{mix} / \\delta \\rceil$"
   ]
  },
  {
   "cell_type": "code",
   "execution_count": 45,
   "metadata": {},
   "outputs": [
    {
     "name": "stdout",
     "output_type": "stream",
     "text": [
      "Liouv step 0\n",
      "Jump on site 1\n",
      "Liouv step 1\n",
      "Jump on site 1\n",
      "Liouv step 2\n",
      "Jump on site 0\n",
      "Liouv step 3\n",
      "Jump on site 2\n",
      "Liouv step 4\n",
      "Jump on site 0\n",
      "Liouv step 5\n",
      "Jump on site 2\n",
      "Liouv step 6\n",
      "Jump on site 0\n",
      "Liouv step 7\n",
      "Jump on site 0\n",
      "Liouv step 8\n",
      "Jump on site 0\n",
      "Liouv step 9\n",
      "Jump on site 1\n",
      "Liouv step 10\n",
      "Jump on site 1\n",
      "Liouv step 11\n",
      "Jump on site 2\n",
      "Liouv step 12\n",
      "Jump on site 0\n",
      "Liouv step 13\n",
      "Jump on site 1\n",
      "Liouv step 14\n",
      "Jump on site 2\n",
      "Liouv step 15\n",
      "Jump on site 2\n",
      "Liouv step 16\n",
      "Jump on site 2\n",
      "Liouv step 17\n",
      "Jump on site 2\n",
      "Liouv step 18\n",
      "Jump on site 2\n",
      "Liouv step 19\n",
      "Jump on site 2\n",
      "Liouv step 20\n",
      "Jump on site 2\n",
      "Liouv step 21\n",
      "Jump on site 2\n",
      "Liouv step 22\n",
      "Jump on site 2\n",
      "Liouv step 23\n",
      "Jump on site 0\n",
      "Liouv step 24\n",
      "Jump on site 0\n",
      "Liouv step 25\n",
      "Jump on site 2\n",
      "Liouv step 26\n",
      "Jump on site 2\n",
      "Liouv step 27\n",
      "Jump on site 1\n",
      "Liouv step 28\n",
      "Jump on site 0\n",
      "Liouv step 29\n",
      "Jump on site 0\n"
     ]
    }
   ],
   "source": [
    "def alg_liouv_evolve(initial_dm: np.ndarray, time: float, delta: float, jump_ops: list[np.ndarray]) -> np.ndarray:\n",
    "    \"\"\"\n",
    "    time evolution is between [0, time]\n",
    "    `jump_ops`: non-OFT form\n",
    "    \"\"\"\n",
    "    \n",
    "    num_liouv_steps = int(np.ceil(time / delta))\n",
    "    \n",
    "    N = 2**num_energy_bits\n",
    "    N_labels = np.arange(N / 2, dtype=int)\n",
    "    N_labels_neg = np.arange(- N / 2, 0, dtype=int)\n",
    "    N_labels = np.concatenate((N_labels, N_labels_neg))\n",
    "    \n",
    "    boltzmann = lambda beta, energy: np.min([1, np.exp(-beta * energy)])\n",
    "    \n",
    "    evolved_dms = []\n",
    "    evolved_dm = deepcopy(initial_dm)\n",
    "    #* Exact\n",
    "    for liouv_step in range(num_liouv_steps): #? Normalize?\n",
    "        print(f'Liouv step {liouv_step}')\n",
    "        \n",
    "        rand_jump_index = np.random.randint(0, len(jump_ops))\n",
    "        jump_op = jump_ops[rand_jump_index]\n",
    "        print(f'Jump on site {rand_jump_index}')\n",
    "        \n",
    "        previous_dm = deepcopy(evolved_dm) / np.trace(evolved_dm)\n",
    "        for phase in N_labels:\n",
    "            energy = 2 * np.pi * phase / N\n",
    "            oft_op = oft(jump_op, phase, N, sigma, hamiltonian=hamiltonian.qt.full())\n",
    "            evolved_dm += delta * boltzmann(beta, energy)*(-0.5 * oft_op.conj().T @ oft_op @ previous_dm\n",
    "                                            -0.5 * previous_dm @ oft_op.conj().T @ oft_op\n",
    "                                            + oft_op @ previous_dm @ oft_op.conj().T)\n",
    "\n",
    "        evolved_dms.append(evolved_dm / np.trace(evolved_dm))\n",
    "        \n",
    "    return evolved_dms\n",
    "\n",
    "alg_evolved_dms = alg_liouv_evolve(initial_dm, mix_time*3, 1.0, jump_ops=x_jump_ops)\n"
   ]
  },
  {
   "cell_type": "code",
   "execution_count": 46,
   "metadata": {},
   "outputs": [
    {
     "name": "stdout",
     "output_type": "stream",
     "text": [
      "Trace distance between exact and alg is 0.08120754484553538\n",
      "Fidelity between exact and alg is 0.9962293853145081\n"
     ]
    }
   ],
   "source": [
    "# exact_state_at_t = lambda t: result_qt.states[np.argmin(np.abs(times - t))]\n",
    "#? Why can the fidelity be over 1 in larger delta cases? Is it because it somehow deviates after a while from a CPTP map\n",
    "#? And for that Fidelity becomes inappropriate, even if we normalize the states?\n",
    "\n",
    "exact_state = result_qt.states[-1] / np.trace(result_qt.states[-1])\n",
    "\n",
    "trdist_alg_exact = qt.tracedist(qt.Qobj(alg_evolved_dms[-1]), exact_state)\n",
    "fid_alg_exact = qt.fidelity(qt.Qobj(alg_evolved_dms[-1]), exact_state)\n",
    "print(f'Trace distance between exact and alg is {trdist_alg_exact}')\n",
    "print(f'Fidelity between exact and alg is {fid_alg_exact}')"
   ]
  },
  {
   "cell_type": "code",
   "execution_count": 47,
   "metadata": {},
   "outputs": [
    {
     "name": "stderr",
     "output_type": "stream",
     "text": [
      "<>:5: SyntaxWarning: invalid escape sequence '\\m'\n",
      "<>:10: SyntaxWarning: invalid escape sequence '\\s'\n",
      "<>:10: SyntaxWarning: invalid escape sequence '\\s'\n",
      "<>:11: SyntaxWarning: invalid escape sequence '\\d'\n",
      "<>:5: SyntaxWarning: invalid escape sequence '\\m'\n",
      "<>:10: SyntaxWarning: invalid escape sequence '\\s'\n",
      "<>:10: SyntaxWarning: invalid escape sequence '\\s'\n",
      "<>:11: SyntaxWarning: invalid escape sequence '\\d'\n",
      "/var/folders/pg/6vn02n251m14stcv7vg03pjr0000gn/T/ipykernel_57383/3881565001.py:5: SyntaxWarning: invalid escape sequence '\\m'\n",
      "  plt.title('$\\mathbb{I} + \\mathcal{L}\\delta + \\mathcal{O}(\\delta^2)$ with $A\\in\\{\\sigma_i^x\\}$')\n",
      "/var/folders/pg/6vn02n251m14stcv7vg03pjr0000gn/T/ipykernel_57383/3881565001.py:10: SyntaxWarning: invalid escape sequence '\\s'\n",
      "  plt.legend((\"$D(\\\\rho, \\sigma)$\", \"$F(\\\\rho, \\sigma)$\"))\n",
      "/var/folders/pg/6vn02n251m14stcv7vg03pjr0000gn/T/ipykernel_57383/3881565001.py:10: SyntaxWarning: invalid escape sequence '\\s'\n",
      "  plt.legend((\"$D(\\\\rho, \\sigma)$\", \"$F(\\\\rho, \\sigma)$\"))\n",
      "/var/folders/pg/6vn02n251m14stcv7vg03pjr0000gn/T/ipykernel_57383/3881565001.py:11: SyntaxWarning: invalid escape sequence '\\d'\n",
      "  plt.annotate(f'$\\delta$ = {delta}', xy=(0, 0.83))\n"
     ]
    },
    {
     "data": {
      "image/png": "[encoded data removed]",
      "text/plain": [
       "<Figure size 640x480 with 1 Axes>"
      ]
     },
     "metadata": {},
     "output_type": "display_data"
    }
   ],
   "source": [
    "liouv_times = np.linspace(0.0, mix_time*3, len(alg_evolved_dms))\n",
    "fid_alg_with_gibbs = [qt.fidelity(qt.Qobj(dm), qt.Qobj(gibbs)) for dm in alg_evolved_dms]\n",
    "trdist_alg_with_gibbs = [qt.tracedist(qt.Qobj(dm), qt.Qobj(gibbs)) for dm in alg_evolved_dms]\n",
    "plt.figure() \n",
    "plt.title('$\\mathbb{I} + \\mathcal{L}\\delta + \\mathcal{O}(\\delta^2)$ with $A\\in\\{\\sigma_i^x\\}$')\n",
    "plt.plot(liouv_times, trdist_alg_with_gibbs) \n",
    "plt.plot(liouv_times, fid_alg_with_gibbs) \n",
    "plt.xlabel('Step')\n",
    "plt.xticks(np.arange(0, mix_time*3 + 1, delta))\n",
    "plt.legend((\"$D(\\\\rho, \\sigma)$\", \"$F(\\\\rho, \\sigma)$\"))\n",
    "plt.annotate(f'$\\delta$ = {delta}', xy=(0, 0.83))\n",
    "plt.show() "
   ]
  },
  {
   "cell_type": "markdown",
   "metadata": {},
   "source": [
    "### Spectral gap / mixing time"
   ]
  },
  {
   "cell_type": "code",
   "execution_count": 48,
   "metadata": {},
   "outputs": [],
   "source": [
    "all_oft_jump_ops = []\n",
    "for i in range(len(x_jump_ops)):\n",
    "    jump_op = x_jump_ops[i]\n",
    "    for phase in N_labels:\n",
    "        energy = 2 * np.pi * phase / 2**num_energy_bits\n",
    "        oft_op = oft(jump_op, phase, 2**num_energy_bits, sigma, hamiltonian=hamiltonian.qt.full())\n",
    "        all_oft_jump_ops.append(qt.Qobj(oft_op))\n",
    "\n",
    "no_H = qt.qeye(2**num_qubits)\n",
    "liouvillian = qt.liouvillian(no_H, c_ops=all_oft_jump_ops)"
   ]
  },
  {
   "cell_type": "code",
   "execution_count": 49,
   "metadata": {},
   "outputs": [
    {
     "name": "stdout",
     "output_type": "stream",
     "text": [
      "Spectral gap 0.25616789909083354\n",
      "Smallest eigenvalue of Gibbs state 0.09805527488367287\n",
      "Mixing time bound 9.232557153591214\n"
     ]
    }
   ],
   "source": [
    "spectrum = liouvillian.eigenenergies()\n",
    "spectral_gap = spectrum[-1] - spectrum[-2]\n",
    "print(f'Spectral gap {spectral_gap}')\n",
    "smallest_gibbs_ev = qt.Qobj(gibbs).eigenenergies()[0]\n",
    "print(f'Smallest eigenvalue of Gibbs state {smallest_gibbs_ev}')\n",
    "\n",
    "desired_trdist = 0.3\n",
    "mixing_time_bound = (np.log(np.sqrt(1 / smallest_gibbs_ev)) -np.log(desired_trdist)) / spectral_gap\n",
    "print(f'Mixing time bound {mixing_time_bound}')"
   ]
  },
  {
   "cell_type": "markdown",
   "metadata": {},
   "source": [
    "### Mixing time with log-Sobolev"
   ]
  },
  {
   "cell_type": "code",
   "execution_count": null,
   "metadata": {},
   "outputs": [],
   "source": []
  }
 ],
 "metadata": {
  "kernelspec": {
   "display_name": "qiskit_env",
   "language": "python",
   "name": "python3"
  },
  "language_info": {
   "codemirror_mode": {
    "name": "ipython",
    "version": 3
   },
   "file_extension": ".py",
   "mimetype": "text/x-python",
   "name": "python",
   "nbconvert_exporter": "python",
   "pygments_lexer": "ipython3",
   "version": "3.12.2"
  }
 },
 "nbformat": 4,
 "nbformat_minor": 2
}
