{
 "cells": [
  {
   "cell_type": "code",
   "execution_count": 4,
   "metadata": {},
   "outputs": [],
   "source": [
    "\n",
    "import sys\n",
    "sys.path.append('/Users/bence/code/liouvillian_metro/')\n",
    "\n",
    "import numpy as np\n",
    "import qutip as qt\n",
    "import matplotlib.pyplot as plt\n",
    "from scipy.linalg import expm\n",
    "import pickle\n",
    "from copy import deepcopy\n",
    "from qiskit.quantum_info import DensityMatrix, Statevector, partial_trace, state_fidelity\n",
    "import time\n",
    "\n",
    "from oft_n_liouv_np import oft, liouvillian_evol, liouvillian_step\n",
    "from tools.classical import find_ideal_heisenberg, trotter_step_heisenberg_qt, ham_evol_qt, \\\n",
    "    hamiltonian_matrix, HamHam, rescaling_and_shift_factors\n",
    "\n",
    "np.random.seed(667)"
   ]
  },
  {
   "cell_type": "code",
   "execution_count": 7,
   "metadata": {},
   "outputs": [
    {
     "ename": "IndexError",
     "evalue": "list index out of range",
     "output_type": "error",
     "traceback": [
      "\u001b[0;31m---------------------------------------------------------------------------\u001b[0m",
      "\u001b[0;31mIndexError\u001b[0m                                Traceback (most recent call last)",
      "Cell \u001b[0;32mIn[7], line 12\u001b[0m\n\u001b[1;32m      6\u001b[0m \u001b[38;5;66;03m# constr_times = []\u001b[39;00m\n\u001b[1;32m      7\u001b[0m \u001b[38;5;66;03m# diag_times = []\u001b[39;00m\n\u001b[1;32m      8\u001b[0m \u001b[38;5;66;03m# for n in range(4, 13, 1):\u001b[39;00m\n\u001b[1;32m      9\u001b[0m \u001b[38;5;66;03m#     print(f'Number of qubits: {n}')\u001b[39;00m\n\u001b[1;32m     11\u001b[0m t0 \u001b[38;5;241m=\u001b[39m time\u001b[38;5;241m.\u001b[39mtime()\n\u001b[0;32m---> 12\u001b[0m hamiltonian_qt \u001b[38;5;241m=\u001b[39m \u001b[43mhamiltonian_matrix\u001b[49m\u001b[43m(\u001b[49m\u001b[43m[\u001b[49m\u001b[43mX\u001b[49m\u001b[43m,\u001b[49m\u001b[43m \u001b[49m\u001b[43mX\u001b[49m\u001b[43m]\u001b[49m\u001b[43m,\u001b[49m\u001b[43m \u001b[49m\u001b[43m[\u001b[49m\u001b[43mY\u001b[49m\u001b[43m,\u001b[49m\u001b[43m \u001b[49m\u001b[43mY\u001b[49m\u001b[43m]\u001b[49m\u001b[43m,\u001b[49m\u001b[43m \u001b[49m\u001b[43m[\u001b[49m\u001b[43mZ\u001b[49m\u001b[43m,\u001b[49m\u001b[43m \u001b[49m\u001b[43mZ\u001b[49m\u001b[43m]\u001b[49m\u001b[43m,\u001b[49m\u001b[43m \u001b[49m\u001b[43mcoeffs\u001b[49m\u001b[38;5;241;43m=\u001b[39;49m\u001b[43m[\u001b[49m\u001b[38;5;241;43m1\u001b[39;49m\u001b[43m,\u001b[49m\u001b[43m \u001b[49m\u001b[38;5;241;43m1\u001b[39;49m\u001b[43m,\u001b[49m\u001b[43m \u001b[49m\u001b[38;5;241;43m1\u001b[39;49m\u001b[43m]\u001b[49m\u001b[43m,\u001b[49m\u001b[43m \u001b[49m\u001b[43mnum_qubits\u001b[49m\u001b[38;5;241;43m=\u001b[39;49m\u001b[43mnum_qubits\u001b[49m\u001b[43m,\u001b[49m\u001b[43m \u001b[49m\u001b[43msymbreak_term\u001b[49m\u001b[38;5;241;43m=\u001b[39;49m\u001b[43m[\u001b[49m\u001b[43mX\u001b[49m\u001b[43m]\u001b[49m\u001b[43m,\u001b[49m\u001b[43m \u001b[49m\u001b[43msymbreak_coeffs\u001b[49m\u001b[38;5;241;43m=\u001b[39;49m\u001b[43m[\u001b[49m\u001b[38;5;241;43m1.\u001b[39;49m\u001b[43m,\u001b[49m\u001b[43m \u001b[49m\u001b[38;5;241;43m1.\u001b[39;49m\u001b[43m,\u001b[49m\u001b[43m \u001b[49m\u001b[38;5;241;43m1.\u001b[39;49m\u001b[43m,\u001b[49m\u001b[43m \u001b[49m\u001b[38;5;241;43m1.\u001b[39;49m\u001b[43m]\u001b[49m\u001b[43m)\u001b[49m\n\u001b[1;32m     13\u001b[0m t1 \u001b[38;5;241m=\u001b[39m time\u001b[38;5;241m.\u001b[39mtime()\n\u001b[1;32m     14\u001b[0m \u001b[38;5;28mprint\u001b[39m(\u001b[38;5;124mf\u001b[39m\u001b[38;5;124m'\u001b[39m\u001b[38;5;124mConstruction time: \u001b[39m\u001b[38;5;132;01m{\u001b[39;00mt1\u001b[38;5;250m \u001b[39m\u001b[38;5;241m-\u001b[39m\u001b[38;5;250m \u001b[39mt0\u001b[38;5;132;01m}\u001b[39;00m\u001b[38;5;124m'\u001b[39m)\n",
      "File \u001b[0;32m~/code/liouvillian_metro/tools/classical.py:156\u001b[0m, in \u001b[0;36mhamiltonian_matrix\u001b[0;34m(coeffs, num_qubits, symbreak_term, symbreak_coeffs, *terms)\u001b[0m\n\u001b[1;32m    153\u001b[0m \u001b[38;5;28;01mif\u001b[39;00m (\u001b[38;5;28mlen\u001b[39m(symbreak_term) \u001b[38;5;241m!=\u001b[39m \u001b[38;5;241m0\u001b[39m) \u001b[38;5;129;01mand\u001b[39;00m (num_qubits \u001b[38;5;241m!=\u001b[39m \u001b[38;5;241m2\u001b[39m):\n\u001b[1;32m    154\u001b[0m     \u001b[38;5;28;01mfor\u001b[39;00m q \u001b[38;5;129;01min\u001b[39;00m \u001b[38;5;28mrange\u001b[39m(\u001b[38;5;241m0\u001b[39m, num_qubits):\n\u001b[1;32m    155\u001b[0m         \u001b[38;5;66;03m# print(f'Applied sym breaking term onto qubit {q}')\u001b[39;00m\n\u001b[0;32m--> 156\u001b[0m         hamiltonian \u001b[38;5;241m+\u001b[39m\u001b[38;5;241m=\u001b[39m \u001b[43msymbreak_coeffs\u001b[49m\u001b[43m[\u001b[49m\u001b[43mq\u001b[49m\u001b[43m]\u001b[49m \u001b[38;5;241m*\u001b[39m pad_term(symbreak_term, num_qubits, q)\u001b[38;5;241m.\u001b[39mdata\n\u001b[1;32m    158\u001b[0m \u001b[38;5;28;01mreturn\u001b[39;00m hamiltonian\n",
      "\u001b[0;31mIndexError\u001b[0m: list index out of range"
     ]
    }
   ],
   "source": [
    "# coeffs = [1.1, 0.8, 0.2, 1]\n",
    "X = qt.sigmax()\n",
    "Y = qt.sigmay()\n",
    "Z = qt.sigmaz()\n",
    "num_qubits = 5\n",
    "# constr_times = []\n",
    "# diag_times = []\n",
    "# for n in range(4, 13, 1):\n",
    "#     print(f'Number of qubits: {n}')\n",
    "\n",
    "t0 = time.time()\n",
    "hamiltonian_qt = hamiltonian_matrix([X, X], [Y, Y], [Z, Z], coeffs=[1, 1, 1], num_qubits=num_qubits, symbreak_term=[X], symbreak_coeffs=[1., 1., 1., 1., 1.])\n",
    "t1 = time.time()\n",
    "print(f'Construction time: {t1 - t0}')\n",
    "print(hamiltonian_qt)\n",
    "\n"
   ]
  },
  {
   "cell_type": "code",
   "execution_count": 8,
   "metadata": {},
   "outputs": [
    {
     "name": "stdout",
     "output_type": "stream",
     "text": [
      "41.0492 0.2063898931038851\n"
     ]
    }
   ],
   "source": [
    "symbreak_coeffs=[1., 1., 1., 1., 1.]\n",
    "coeffs = [1., 1., 1.]\n",
    "hamiltonian_qt = hamiltonian_matrix([X, X], [Y, Y], [Z, Z], coeffs=coeffs, num_qubits=num_qubits, \n",
    "                                                symbreak_term=[Z], symbreak_coeffs=symbreak_coeffs)\n",
    "\n",
    "rescaling_factor, shift = rescaling_and_shift_factors(hamiltonian_qt, eps=0.1)\n",
    "print(rescaling_factor, shift)"
   ]
  },
  {
   "cell_type": "code",
   "execution_count": 21,
   "metadata": {},
   "outputs": [],
   "source": [
    "#plot the results\n",
    "# plt.figure()\n",
    "# plt.plot(range(4, 13, 1), constr_times, label='Construction time')\n",
    "# plt.plot(range(4, 13, 1), diag_times, label='Diagonalization time')\n",
    "# plt.xlabel('Number of qubits')\n",
    "# plt.ylabel('Time (s)')\n"
   ]
  },
  {
   "cell_type": "markdown",
   "metadata": {},
   "source": [
    "$n = 3, k = 6$\n",
    "\n",
    "$n = 4, k = 8$"
   ]
  },
  {
   "cell_type": "code",
   "execution_count": 22,
   "metadata": {},
   "outputs": [
    {
     "name": "stdout",
     "output_type": "stream",
     "text": [
      "Ideal spectrum:  [0.     0.0761 0.1207 0.1648 0.1936 0.1995 0.2374 0.2409 0.2445 0.2725\n",
      " 0.2824 0.2882 0.317  0.3614 0.4057 0.45  ]\n",
      "Rescaled coefficients:  [0.03008844 0.03008844 0.03008844 0.02106191 0.02539464 0.02036987\n",
      " 0.02190438]\n"
     ]
    }
   ],
   "source": [
    "np.random.seed(666)\n",
    "num_qubits = 4\n",
    "num_energy_bits = 6\n",
    "delta = 0.01\n",
    "eps = 0.1\n",
    "sigma = 5\n",
    "bohr_bound = 0 # 2 ** (-num_energy_bits + 1)\n",
    "beta = 1\n",
    "eig_index = 2\n",
    "mix_time = 1\n",
    "\n",
    "hamiltonian = find_ideal_heisenberg(num_qubits, bohr_bound, eps, fix_coeffs=[1, 1, 1], signed=False, for_oft=True)\n",
    "\n",
    "initial_state = hamiltonian.eigvecs[:, eig_index]\n",
    "initial_dm = initial_state @ initial_state.conj().T"
   ]
  },
  {
   "cell_type": "code",
   "execution_count": 23,
   "metadata": {},
   "outputs": [],
   "source": [
    "# Get the diagonal elements of the Hermitian matrix (real part only)\n",
    "diag_ham = np.diagflat(hamiltonian.spectrum)"
   ]
  },
  {
   "cell_type": "code",
   "execution_count": 24,
   "metadata": {},
   "outputs": [
    {
     "name": "stdout",
     "output_type": "stream",
     "text": [
      "(16, 16)\n"
     ]
    }
   ],
   "source": [
    "# Create Gibbs state from eigenstates and eigenenergies\n",
    "gibbs = expm(-beta * hamiltonian.qt.full()) / np.trace(expm(-beta * hamiltonian.qt.full()))\n",
    "print(gibbs.shape)"
   ]
  },
  {
   "cell_type": "code",
   "execution_count": 25,
   "metadata": {},
   "outputs": [],
   "source": [
    "# Liouvillian, could be from (1.8), i.e. integral over the energies\n",
    "\n",
    "N = 2**num_energy_bits\n",
    "N_labels = np.arange(N / 2, dtype=int)\n",
    "N_labels_neg = np.arange(- N / 2, 0, dtype=int)\n",
    "N_labels = np.concatenate((N_labels, N_labels_neg))\n",
    "energy_labels = 2 * np.pi * N_labels / N \n",
    "time_labels = N_labels\n",
    "\n",
    "# rand_jump_index = np.random.randint(0, num_qubits)ú\n",
    "site_list = [qt.qeye(2) for _ in range(num_qubits)]\n",
    "x_jump_ops = []\n",
    "for q in range(num_qubits):\n",
    "    site_list[q] = qt.sigmax()\n",
    "    x_jump_ops.append(qt.tensor(site_list).full())"
   ]
  },
  {
   "cell_type": "markdown",
   "metadata": {},
   "source": [
    "### With Qutip MESOLVE"
   ]
  },
  {
   "cell_type": "code",
   "execution_count": 53,
   "metadata": {},
   "outputs": [
    {
     "name": "stdout",
     "output_type": "stream",
     "text": [
      "Qutip ME 0.5962679386138916 seconds, num qubits 4, num Lindblad ops 256, time steps 10\n"
     ]
    }
   ],
   "source": [
    "def trdist_to_gibbs(t, state):\n",
    "    gibbs = qt.Qobj(expm(-beta * hamiltonian.qt.full()) / np.trace(expm(-beta * hamiltonian.qt.full())))\n",
    "    trdist = qt.tracedist(state, gibbs)\n",
    "    # print(f'Trace distance to Gibbs at time {t} is {trdist}')\n",
    "    return trdist\n",
    "\n",
    "def fid_with_gibbs(t, state):\n",
    "    gibbs = qt.Qobj(expm(-beta * hamiltonian.qt.full()) / np.trace(expm(-beta * hamiltonian.qt.full())))\n",
    "    fid = qt.fidelity(state, gibbs)\n",
    "    # print(f'Fidelity with Gibbs at time {t} is {fid}')\n",
    "    return fid\n",
    "\n",
    "obs  = qt.tensor([qt.sigmax() for _ in range(num_qubits)]).full() #! Undo for Gibbs\n",
    "obs = qt.tensor([qt.sigmax(), qt.qeye(2), qt.sigmaz(), qt.sigmax()]).full()\n",
    "\n",
    "all_oft_jump_ops = []\n",
    "for i in range(len(x_jump_ops)):\n",
    "    jump_op = x_jump_ops[i]\n",
    "    for phase in N_labels:\n",
    "        energy = 2 * np.pi * phase / N\n",
    "        oft_op = oft(jump_op, phase, N, sigma, hamiltonian)\n",
    "        all_oft_jump_ops.append(qt.Qobj(oft_op))\n",
    "\n",
    "no_H = qt.qeye(2**num_qubits)\n",
    "timesteps = 10\n",
    "times = np.linspace(0.0, mix_time, timesteps)\n",
    "t0 = time.time()\n",
    "result_qt = qt.mesolve(no_H, qt.Qobj(initial_state), times, all_oft_jump_ops, \n",
    "                       qt.Qobj(obs), options=qt.Options(store_states=True))\n",
    "print(f'Qutip ME {time.time() - t0} seconds, num qubits {num_qubits}, num Lindblad ops {len(all_oft_jump_ops)}, time steps {timesteps}')\n",
    "#4q - 20s\n"
   ]
  },
  {
   "cell_type": "code",
   "execution_count": 56,
   "metadata": {},
   "outputs": [
    {
     "name": "stdout",
     "output_type": "stream",
     "text": [
      "10.0%. Run time:   3.57s. Est. time left: 00:00:00:32\n",
      "20.0%. Run time:   6.71s. Est. time left: 00:00:00:26\n",
      "30.0%. Run time:  10.05s. Est. time left: 00:00:00:23\n",
      "40.0%. Run time:  13.21s. Est. time left: 00:00:00:19\n",
      "50.0%. Run time:  16.45s. Est. time left: 00:00:00:16\n",
      "60.0%. Run time:  19.73s. Est. time left: 00:00:00:13\n",
      "70.0%. Run time:  22.87s. Est. time left: 00:00:00:09\n",
      "80.0%. Run time:  26.22s. Est. time left: 00:00:00:06\n",
      "90.0%. Run time:  29.48s. Est. time left: 00:00:00:03\n",
      "100.0%. Run time:  32.80s. Est. time left: 00:00:00:00\n",
      "Total run time:  32.82s\n",
      "Qutip MC 33.0206561088562 seconds, num qubits 4, num Lindblad ops 256, time steps 10\n"
     ]
    }
   ],
   "source": [
    "\n",
    "all_oft_jump_ops = []\n",
    "for i in range(len(x_jump_ops)):\n",
    "    jump_op = x_jump_ops[i]\n",
    "    for phase in N_labels:\n",
    "        energy = 2 * np.pi * phase / N\n",
    "        oft_op = oft(jump_op, phase, N, sigma, hamiltonian)\n",
    "        all_oft_jump_ops.append(qt.Qobj(oft_op))\n",
    "\n",
    "no_H = qt.qeye(2**num_qubits)\n",
    "timesteps = 10\n",
    "times = np.linspace(0.0, mix_time, timesteps)\n",
    "t0 = time.time()\n",
    "mc_result = qt.mcsolve(no_H, qt.Qobj(initial_state), times, all_oft_jump_ops,\n",
    "                       e_ops=[qt.Qobj(obs)], options=qt.Options(store_states=True, ntraj=3000))\n",
    "print(f'Qutip MC {time.time() - t0} seconds, num qubits {num_qubits}, num Lindblad ops {len(all_oft_jump_ops)}, time steps {timesteps}')"
   ]
  },
  {
   "cell_type": "code",
   "execution_count": null,
   "metadata": {},
   "outputs": [
    {
     "name": "stdout",
     "output_type": "stream",
     "text": [
      "Extrapolated y value at x = 15 : 72055.97998350307\n"
     ]
    },
    {
     "data": {
      "text/plain": [
       "20.01554999541752"
      ]
     },
     "execution_count": 24,
     "metadata": {},
     "output_type": "execute_result"
    }
   ],
   "source": [
    "import numpy as np\n",
    "from scipy.optimize import curve_fit\n",
    "\n",
    "def exponential_func(x, a, b):\n",
    "    return a * np.exp(b * x)\n",
    "\n",
    "x_data = np.array([6, 7, 8, 9])  # Your x-values\n",
    "y_data = np.array([2, 5, 18.2, 58.8])\n",
    "\n",
    "params, covariance = curve_fit(exponential_func, x_data, y_data)\n",
    "a_fit, b_fit = params\n",
    "\n",
    "# Define the new x value(s) you want to extrapolate to\n",
    "new_x_value = 15\n",
    "\n",
    "# Use the fitted parameters to compute the corresponding y value(s)\n",
    "extrapolated_y_value = exponential_func(new_x_value, a_fit, b_fit)\n",
    "\n",
    "print(\"Extrapolated y value at x =\", new_x_value, \":\", extrapolated_y_value)\n",
    "extrapolated_y_value / (3600)"
   ]
  },
  {
   "cell_type": "code",
   "execution_count": null,
   "metadata": {},
   "outputs": [
    {
     "name": "stdout",
     "output_type": "stream",
     "text": [
      "Last trace distance to Gibbs is (0.32766739668820594+0j)\n",
      "Last fid value is (0.930801474040255+0j)\n"
     ]
    }
   ],
   "source": [
    "print(f'Last trace distance to Gibbs is {result_qt.expect[0][-1]}')\n",
    "print(f'Last fid value is {result_qt.expect[1][-1]}')"
   ]
  },
  {
   "cell_type": "code",
   "execution_count": null,
   "metadata": {},
   "outputs": [
    {
     "ename": "IndexError",
     "evalue": "list index out of range",
     "output_type": "error",
     "traceback": [
      "\u001b[0;31m---------------------------------------------------------------------------\u001b[0m",
      "\u001b[0;31mIndexError\u001b[0m                                Traceback (most recent call last)",
      "Cell \u001b[0;32mIn[16], line 1\u001b[0m\n\u001b[0;32m----> 1\u001b[0m \u001b[38;5;28mprint\u001b[39m(\u001b[43mmc_result\u001b[49m\u001b[38;5;241;43m.\u001b[39;49m\u001b[43mexpect\u001b[49m\u001b[43m[\u001b[49m\u001b[38;5;241;43m0\u001b[39;49m\u001b[43m]\u001b[49m)\n",
      "\u001b[0;31mIndexError\u001b[0m: list index out of range"
     ]
    }
   ],
   "source": [
    "print(mc_result.expect[0])"
   ]
  },
  {
   "cell_type": "code",
   "execution_count": 57,
   "metadata": {},
   "outputs": [
    {
     "name": "stderr",
     "output_type": "stream",
     "text": [
      "<string>:3: SyntaxWarning: invalid escape sequence '\\{'\n",
      "<string>:3: SyntaxWarning: invalid escape sequence '\\}'\n",
      "<>:3: SyntaxWarning: invalid escape sequence '\\{'\n",
      "<>:3: SyntaxWarning: invalid escape sequence '\\}'\n",
      "<>:3: SyntaxWarning: invalid escape sequence '\\m'\n",
      "<>:3: SyntaxWarning: invalid escape sequence '\\s'\n",
      "<string>:3: SyntaxWarning: invalid escape sequence '\\{'\n",
      "<string>:3: SyntaxWarning: invalid escape sequence '\\}'\n",
      "<>:3: SyntaxWarning: invalid escape sequence '\\{'\n",
      "<>:3: SyntaxWarning: invalid escape sequence '\\}'\n",
      "<>:3: SyntaxWarning: invalid escape sequence '\\m'\n",
      "<>:3: SyntaxWarning: invalid escape sequence '\\s'\n",
      "/var/folders/pg/6vn02n251m14stcv7vg03pjr0000gn/T/ipykernel_6115/4010540311.py:3: SyntaxWarning: invalid escape sequence '\\{'\n",
      "  plt.title(f'$e^{{\\mathcal{{L}}t}}$, with $A = \\{{\\sigma_i^x\\}}$, n = {num_qubits}')\n",
      "/var/folders/pg/6vn02n251m14stcv7vg03pjr0000gn/T/ipykernel_6115/4010540311.py:3: SyntaxWarning: invalid escape sequence '\\}'\n",
      "  plt.title(f'$e^{{\\mathcal{{L}}t}}$, with $A = \\{{\\sigma_i^x\\}}$, n = {num_qubits}')\n",
      "/var/folders/pg/6vn02n251m14stcv7vg03pjr0000gn/T/ipykernel_6115/4010540311.py:3: SyntaxWarning: invalid escape sequence '\\m'\n",
      "  plt.title(f'$e^{{\\mathcal{{L}}t}}$, with $A = \\{{\\sigma_i^x\\}}$, n = {num_qubits}')\n",
      "/var/folders/pg/6vn02n251m14stcv7vg03pjr0000gn/T/ipykernel_6115/4010540311.py:3: SyntaxWarning: invalid escape sequence '\\s'\n",
      "  plt.title(f'$e^{{\\mathcal{{L}}t}}$, with $A = \\{{\\sigma_i^x\\}}$, n = {num_qubits}')\n"
     ]
    },
    {
     "data": {
      "image/png": "[encoded data removed]",
      "text/plain": [
       "<Figure size 640x480 with 1 Axes>"
      ]
     },
     "metadata": {},
     "output_type": "display_data"
    }
   ],
   "source": [
    "# plot mc and me results\n",
    "plt.figure() \n",
    "plt.title(f'$e^{{\\mathcal{{L}}t}}$, with $A = \\{{\\sigma_i^x\\}}$, n = {num_qubits}')\n",
    "plt.plot(times, result_qt.expect[0])\n",
    "plt.plot(times, mc_result.expect[0])\n",
    "plt.xlabel('Time')\n",
    "plt.ylabel('Trace distance to Gibbs')\n",
    "plt.legend(('Master equation', 'Monte Carlo'))\n",
    "plt.show() \n",
    " \n",
    " \n",
    "# plt.plot(times, result_qt.expect[0]) \n",
    "# plt.plot(times, result_qt.expect[1]) \n",
    "# plt.xlabel('Time') \n",
    "# plt.legend((\"$D(\\\\rho, \\sigma)$\", \"$F(\\\\rho, \\sigma)$\")) \n",
    "# plt.show() "
   ]
  },
  {
   "cell_type": "markdown",
   "metadata": {},
   "source": [
    "### $\\left[ \\mathbb{I} + \\mathcal{L}\\delta + \\mathcal{O}(\\delta^2) \\right] \\times \\lceil t_{mix} / \\delta \\rceil$"
   ]
  },
  {
   "cell_type": "code",
   "execution_count": null,
   "metadata": {},
   "outputs": [],
   "source": [
    "# def alg_liouv_evolve(initial_dm: np.ndarray, time: float, delta: float, jump_ops: list[np.ndarray]) -> np.ndarray:\n",
    "#     \"\"\"\n",
    "#     time evolution is between [0, time]\n",
    "#     `jump_ops`: non-OFT form\n",
    "#     \"\"\"\n",
    "    \n",
    "#     num_liouv_steps = int(np.ceil(time / delta))\n",
    "    \n",
    "#     N = 2**num_energy_bits\n",
    "#     N_labels = np.arange(N / 2, dtype=int)\n",
    "#     N_labels_neg = np.arange(- N / 2, 0, dtype=int)\n",
    "#     N_labels = np.concatenate((N_labels, N_labels_neg))\n",
    "    \n",
    "#     boltzmann = lambda beta, energy: np.min([1, np.exp(-beta * energy)])\n",
    "    \n",
    "#     evolved_dms = []\n",
    "#     evolved_dm = deepcopy(initial_dm)\n",
    "#     #* Exact\n",
    "#     for liouv_step in range(num_liouv_steps): #? Normalize?\n",
    "#         print(f'Liouv step {liouv_step}')\n",
    "        \n",
    "#         rand_jump_index = np.random.randint(0, len(jump_ops))\n",
    "#         jump_op = jump_ops[rand_jump_index]\n",
    "#         print(f'Jump on site {rand_jump_index}')\n",
    "        \n",
    "#         previous_dm = deepcopy(evolved_dm) / np.trace(evolved_dm)\n",
    "#         for phase in N_labels:\n",
    "#             energy = 2 * np.pi * phase / N\n",
    "#             oft_op = oft(jump_op, phase, N, sigma, hamiltonian=hamiltonian)\n",
    "#             evolved_dm += delta * boltzmann(beta, energy)*(-0.5 * oft_op.conj().T @ oft_op @ previous_dm\n",
    "#                                             -0.5 * previous_dm @ oft_op.conj().T @ oft_op\n",
    "#                                             + oft_op @ previous_dm @ oft_op.conj().T)\n",
    "\n",
    "#         evolved_dms.append(evolved_dm / np.trace(evolved_dm))\n",
    "        \n",
    "#     return evolved_dms\n",
    "\n",
    "# alg_evolved_dms = alg_liouv_evolve(initial_dm, mix_time*3, delta, jump_ops=x_jump_ops)\n"
   ]
  },
  {
   "cell_type": "code",
   "execution_count": null,
   "metadata": {},
   "outputs": [
    {
     "ename": "NameError",
     "evalue": "name 'alg_evolved_dms' is not defined",
     "output_type": "error",
     "traceback": [
      "\u001b[0;31m---------------------------------------------------------------------------\u001b[0m",
      "\u001b[0;31mNameError\u001b[0m                                 Traceback (most recent call last)",
      "Cell \u001b[0;32mIn[68], line 7\u001b[0m\n\u001b[1;32m      1\u001b[0m \u001b[38;5;66;03m# exact_state_at_t = lambda t: result_qt.states[np.argmin(np.abs(times - t))]\u001b[39;00m\n\u001b[1;32m      2\u001b[0m \u001b[38;5;66;03m#? Why can the fidelity be over 1 in larger delta cases? Is it because it somehow deviates after a while from a CPTP map\u001b[39;00m\n\u001b[1;32m      3\u001b[0m \u001b[38;5;66;03m#? And for that Fidelity becomes inappropriate, even if we normalize the states?\u001b[39;00m\n\u001b[1;32m      5\u001b[0m exact_state \u001b[38;5;241m=\u001b[39m result_qt\u001b[38;5;241m.\u001b[39mstates[\u001b[38;5;241m-\u001b[39m\u001b[38;5;241m1\u001b[39m] \u001b[38;5;241m/\u001b[39m np\u001b[38;5;241m.\u001b[39mtrace(result_qt\u001b[38;5;241m.\u001b[39mstates[\u001b[38;5;241m-\u001b[39m\u001b[38;5;241m1\u001b[39m])\n\u001b[0;32m----> 7\u001b[0m trdist_alg_exact \u001b[38;5;241m=\u001b[39m qt\u001b[38;5;241m.\u001b[39mtracedist(qt\u001b[38;5;241m.\u001b[39mQobj(\u001b[43malg_evolved_dms\u001b[49m[\u001b[38;5;241m-\u001b[39m\u001b[38;5;241m1\u001b[39m]), exact_state)\n\u001b[1;32m      8\u001b[0m fid_alg_exact \u001b[38;5;241m=\u001b[39m qt\u001b[38;5;241m.\u001b[39mfidelity(qt\u001b[38;5;241m.\u001b[39mQobj(alg_evolved_dms[\u001b[38;5;241m-\u001b[39m\u001b[38;5;241m1\u001b[39m]), exact_state)\n\u001b[1;32m      9\u001b[0m \u001b[38;5;28mprint\u001b[39m(\u001b[38;5;124mf\u001b[39m\u001b[38;5;124m'\u001b[39m\u001b[38;5;124mTrace distance between exact evol and alg is \u001b[39m\u001b[38;5;132;01m{\u001b[39;00mtrdist_alg_exact\u001b[38;5;132;01m}\u001b[39;00m\u001b[38;5;124m'\u001b[39m)\n",
      "\u001b[0;31mNameError\u001b[0m: name 'alg_evolved_dms' is not defined"
     ]
    }
   ],
   "source": [
    "# exact_state_at_t = lambda t: result_qt.states[np.argmin(np.abs(times - t))]\n",
    "#? Why can the fidelity be over 1 in larger delta cases? Is it because it somehow deviates after a while from a CPTP map\n",
    "#? And for that Fidelity becomes inappropriate, even if we normalize the states?\n",
    "\n",
    "exact_state = result_qt.states[-1] / np.trace(result_qt.states[-1])\n",
    "\n",
    "trdist_alg_exact = qt.tracedist(qt.Qobj(alg_evolved_dms[-1]), exact_state)\n",
    "fid_alg_exact = qt.fidelity(qt.Qobj(alg_evolved_dms[-1]), exact_state)\n",
    "print(f'Trace distance between exact evol and alg is {trdist_alg_exact}')\n",
    "print(f'Fidelity between exact evol and alg is {fid_alg_exact}')\n",
    "\n",
    "trdist_alg_gibbs = qt.tracedist(qt.Qobj(alg_evolved_dms[-1]), qt.Qobj(gibbs))\n",
    "fid_alg_gibbs = qt.fidelity(qt.Qobj(alg_evolved_dms[-1]), qt.Qobj(gibbs))\n",
    "print(f'Trace distance between Gibbs and alg is {trdist_alg_gibbs}')\n",
    "print(f'Fidelity between Gibbs and alg is {fid_alg_gibbs}')"
   ]
  },
  {
   "cell_type": "code",
   "execution_count": null,
   "metadata": {},
   "outputs": [
    {
     "name": "stderr",
     "output_type": "stream",
     "text": [
      "<>:5: SyntaxWarning: invalid escape sequence '\\m'\n",
      "<>:10: SyntaxWarning: invalid escape sequence '\\s'\n",
      "<>:10: SyntaxWarning: invalid escape sequence '\\s'\n",
      "<>:11: SyntaxWarning: invalid escape sequence '\\d'\n",
      "<>:5: SyntaxWarning: invalid escape sequence '\\m'\n",
      "<>:10: SyntaxWarning: invalid escape sequence '\\s'\n",
      "<>:10: SyntaxWarning: invalid escape sequence '\\s'\n",
      "<>:11: SyntaxWarning: invalid escape sequence '\\d'\n",
      "/var/folders/pg/6vn02n251m14stcv7vg03pjr0000gn/T/ipykernel_70097/3881565001.py:5: SyntaxWarning: invalid escape sequence '\\m'\n",
      "  plt.title('$\\mathbb{I} + \\mathcal{L}\\delta + \\mathcal{O}(\\delta^2)$ with $A\\in\\{\\sigma_i^x\\}$')\n",
      "/var/folders/pg/6vn02n251m14stcv7vg03pjr0000gn/T/ipykernel_70097/3881565001.py:10: SyntaxWarning: invalid escape sequence '\\s'\n",
      "  plt.legend((\"$D(\\\\rho, \\sigma)$\", \"$F(\\\\rho, \\sigma)$\"))\n",
      "/var/folders/pg/6vn02n251m14stcv7vg03pjr0000gn/T/ipykernel_70097/3881565001.py:10: SyntaxWarning: invalid escape sequence '\\s'\n",
      "  plt.legend((\"$D(\\\\rho, \\sigma)$\", \"$F(\\\\rho, \\sigma)$\"))\n",
      "/var/folders/pg/6vn02n251m14stcv7vg03pjr0000gn/T/ipykernel_70097/3881565001.py:11: SyntaxWarning: invalid escape sequence '\\d'\n",
      "  plt.annotate(f'$\\delta$ = {delta}', xy=(0, 0.83))\n"
     ]
    },
    {
     "data": {
      "image/png": "[encoded data removed]",
      "text/plain": [
       "<Figure size 640x480 with 1 Axes>"
      ]
     },
     "metadata": {},
     "output_type": "display_data"
    }
   ],
   "source": [
    "liouv_times = np.linspace(0.0, mix_time*3, len(alg_evolved_dms))\n",
    "fid_alg_with_gibbs = [qt.fidelity(qt.Qobj(dm), qt.Qobj(gibbs)) for dm in alg_evolved_dms]\n",
    "trdist_alg_with_gibbs = [qt.tracedist(qt.Qobj(dm), qt.Qobj(gibbs)) for dm in alg_evolved_dms]\n",
    "plt.figure() \n",
    "plt.title('$\\mathbb{I} + \\mathcal{L}\\delta + \\mathcal{O}(\\delta^2)$ with $A\\in\\{\\sigma_i^x\\}$')\n",
    "plt.plot(liouv_times, trdist_alg_with_gibbs) \n",
    "plt.plot(liouv_times, fid_alg_with_gibbs) \n",
    "plt.xlabel('Step')\n",
    "plt.xticks(np.arange(0, mix_time*3 + 1, delta))\n",
    "plt.legend((\"$D(\\\\rho, \\sigma)$\", \"$F(\\\\rho, \\sigma)$\"))\n",
    "plt.annotate(f'$\\delta$ = {delta}', xy=(0, 0.83))\n",
    "plt.show() "
   ]
  },
  {
   "cell_type": "markdown",
   "metadata": {},
   "source": [
    "### Spectral gap / mixing time"
   ]
  },
  {
   "cell_type": "code",
   "execution_count": null,
   "metadata": {},
   "outputs": [
    {
     "ename": "KeyboardInterrupt",
     "evalue": "",
     "output_type": "error",
     "traceback": [
      "\u001b[0;31m---------------------------------------------------------------------------\u001b[0m",
      "\u001b[0;31mKeyboardInterrupt\u001b[0m                         Traceback (most recent call last)",
      "Cell \u001b[0;32mIn[45], line 6\u001b[0m\n\u001b[1;32m      4\u001b[0m     \u001b[38;5;28;01mfor\u001b[39;00m phase \u001b[38;5;129;01min\u001b[39;00m N_labels:\n\u001b[1;32m      5\u001b[0m         energy \u001b[38;5;241m=\u001b[39m \u001b[38;5;241m2\u001b[39m \u001b[38;5;241m*\u001b[39m np\u001b[38;5;241m.\u001b[39mpi \u001b[38;5;241m*\u001b[39m phase \u001b[38;5;241m/\u001b[39m \u001b[38;5;241m2\u001b[39m\u001b[38;5;241m*\u001b[39m\u001b[38;5;241m*\u001b[39mnum_energy_bits\n\u001b[0;32m----> 6\u001b[0m         oft_op \u001b[38;5;241m=\u001b[39m \u001b[43moft\u001b[49m\u001b[43m(\u001b[49m\u001b[43mjump_op\u001b[49m\u001b[43m,\u001b[49m\u001b[43m \u001b[49m\u001b[43mphase\u001b[49m\u001b[43m,\u001b[49m\u001b[43m \u001b[49m\u001b[38;5;241;43m2\u001b[39;49m\u001b[38;5;241;43m*\u001b[39;49m\u001b[38;5;241;43m*\u001b[39;49m\u001b[43mnum_energy_bits\u001b[49m\u001b[43m,\u001b[49m\u001b[43m \u001b[49m\u001b[43msigma\u001b[49m\u001b[43m,\u001b[49m\u001b[43m \u001b[49m\u001b[43mhamiltonian\u001b[49m\u001b[43m)\u001b[49m\n\u001b[1;32m      7\u001b[0m         all_oft_jump_ops\u001b[38;5;241m.\u001b[39mappend(qt\u001b[38;5;241m.\u001b[39mQobj(oft_op))\n\u001b[1;32m      9\u001b[0m no_H \u001b[38;5;241m=\u001b[39m qt\u001b[38;5;241m.\u001b[39mqeye(\u001b[38;5;241m2\u001b[39m\u001b[38;5;241m*\u001b[39m\u001b[38;5;241m*\u001b[39mnum_qubits)\n",
      "File \u001b[0;32m~/code/liouvillian_metro/oft_n_liouv_np.py:37\u001b[0m, in \u001b[0;36moft\u001b[0;34m(jump_op, phase, num_labels, sigma, hamiltonian, trotter)\u001b[0m\n\u001b[1;32m     33\u001b[0m \u001b[38;5;28;01melif\u001b[39;00m hamiltonian \u001b[38;5;129;01mis\u001b[39;00m \u001b[38;5;129;01mnot\u001b[39;00m \u001b[38;5;28;01mNone\u001b[39;00m \u001b[38;5;129;01mand\u001b[39;00m trotter \u001b[38;5;129;01mis\u001b[39;00m \u001b[38;5;28;01mNone\u001b[39;00m:  \u001b[38;5;66;03m#* Exact\u001b[39;00m\n\u001b[1;32m     34\u001b[0m     \u001b[38;5;66;03m# Prediagonalized, preexponentiated Hamiltonian for speed\u001b[39;00m\n\u001b[1;32m     35\u001b[0m     diag_elements_for_all_times \u001b[38;5;241m=\u001b[39m np\u001b[38;5;241m.\u001b[39mexp(\u001b[38;5;241m1\u001b[39mj \u001b[38;5;241m*\u001b[39m time_labels[:, np\u001b[38;5;241m.\u001b[39mnewaxis] \u001b[38;5;241m*\u001b[39m hamiltonian\u001b[38;5;241m.\u001b[39mspectrum)\n\u001b[0;32m---> 37\u001b[0m     oft_op \u001b[38;5;241m=\u001b[39m \u001b[43mnp\u001b[49m\u001b[38;5;241;43m.\u001b[39;49m\u001b[43meinsum\u001b[49m\u001b[43m(\u001b[49m\u001b[38;5;124;43m'\u001b[39;49m\u001b[38;5;124;43mi, i, ja, ia, ak, km, mb, ib, bn  -> jn\u001b[39;49m\u001b[38;5;124;43m'\u001b[39;49m\u001b[43m,\u001b[49m\u001b[43m \u001b[49m\n\u001b[1;32m     38\u001b[0m \u001b[43m                    \u001b[49m\u001b[43mnormalized_gauss_values_bin_order\u001b[49m\u001b[43m,\u001b[49m\u001b[43m \u001b[49m\u001b[43mphase_factors\u001b[49m\u001b[43m,\u001b[49m\u001b[43m \u001b[49m\n\u001b[1;32m     39\u001b[0m \u001b[43m                    \u001b[49m\u001b[43mhamiltonian\u001b[49m\u001b[38;5;241;43m.\u001b[39;49m\u001b[43meigvecs\u001b[49m\u001b[43m,\u001b[49m\u001b[43m \u001b[49m\u001b[43mdiag_elements_for_all_times\u001b[49m\u001b[43m,\u001b[49m\u001b[43m \u001b[49m\u001b[43mhamiltonian\u001b[49m\u001b[38;5;241;43m.\u001b[39;49m\u001b[43m \u001b[49m\u001b[43meigvecs\u001b[49m\u001b[38;5;241;43m.\u001b[39;49m\u001b[43mconj\u001b[49m\u001b[43m(\u001b[49m\u001b[43m)\u001b[49m\u001b[38;5;241;43m.\u001b[39;49m\u001b[43mT\u001b[49m\u001b[43m,\u001b[49m\u001b[43m \u001b[49m\n\u001b[1;32m     40\u001b[0m \u001b[43m                    \u001b[49m\u001b[43mjump_op\u001b[49m\u001b[43m,\u001b[49m\u001b[43m \u001b[49m\n\u001b[1;32m     41\u001b[0m \u001b[43m                    \u001b[49m\u001b[43mhamiltonian\u001b[49m\u001b[38;5;241;43m.\u001b[39;49m\u001b[43meigvecs\u001b[49m\u001b[43m,\u001b[49m\u001b[43m \u001b[49m\u001b[43mdiag_elements_for_all_times\u001b[49m\u001b[38;5;241;43m.\u001b[39;49m\u001b[43mconj\u001b[49m\u001b[43m(\u001b[49m\u001b[43m)\u001b[49m\u001b[43m,\u001b[49m\u001b[43m \u001b[49m\u001b[43mhamiltonian\u001b[49m\u001b[38;5;241;43m.\u001b[39;49m\u001b[43meigvecs\u001b[49m\u001b[38;5;241;43m.\u001b[39;49m\u001b[43mconj\u001b[49m\u001b[43m(\u001b[49m\u001b[43m)\u001b[49m\u001b[38;5;241;43m.\u001b[39;49m\u001b[43mT\u001b[49m\u001b[43m,\u001b[49m\u001b[43m \u001b[49m\n\u001b[1;32m     42\u001b[0m \u001b[43m                    \u001b[49m\u001b[43moptimize\u001b[49m\u001b[38;5;241;43m=\u001b[39;49m\u001b[38;5;28;43;01mTrue\u001b[39;49;00m\u001b[43m)\u001b[49m \u001b[38;5;241m/\u001b[39m np\u001b[38;5;241m.\u001b[39msqrt(num_labels)\n\u001b[1;32m     43\u001b[0m \u001b[38;5;28;01mreturn\u001b[39;00m oft_op\n",
      "File \u001b[0;32m~/miniforge3/envs/qiskit_1_env/lib/python3.12/site-packages/numpy/core/einsumfunc.py:1419\u001b[0m, in \u001b[0;36meinsum\u001b[0;34m(out, optimize, *operands, **kwargs)\u001b[0m\n\u001b[1;32m   1416\u001b[0m     right_pos\u001b[38;5;241m.\u001b[39mappend(input_right\u001b[38;5;241m.\u001b[39mfind(s))\n\u001b[1;32m   1418\u001b[0m \u001b[38;5;66;03m# Contract!\u001b[39;00m\n\u001b[0;32m-> 1419\u001b[0m new_view \u001b[38;5;241m=\u001b[39m \u001b[43mtensordot\u001b[49m\u001b[43m(\u001b[49m\u001b[38;5;241;43m*\u001b[39;49m\u001b[43mtmp_operands\u001b[49m\u001b[43m,\u001b[49m\u001b[43m \u001b[49m\u001b[43maxes\u001b[49m\u001b[38;5;241;43m=\u001b[39;49m\u001b[43m(\u001b[49m\u001b[38;5;28;43mtuple\u001b[39;49m\u001b[43m(\u001b[49m\u001b[43mleft_pos\u001b[49m\u001b[43m)\u001b[49m\u001b[43m,\u001b[49m\u001b[43m \u001b[49m\u001b[38;5;28;43mtuple\u001b[39;49m\u001b[43m(\u001b[49m\u001b[43mright_pos\u001b[49m\u001b[43m)\u001b[49m\u001b[43m)\u001b[49m\u001b[43m)\u001b[49m\n\u001b[1;32m   1421\u001b[0m \u001b[38;5;66;03m# Build a new view if needed\u001b[39;00m\n\u001b[1;32m   1422\u001b[0m \u001b[38;5;28;01mif\u001b[39;00m (tensor_result \u001b[38;5;241m!=\u001b[39m results_index) \u001b[38;5;129;01mor\u001b[39;00m handle_out:\n",
      "File \u001b[0;32m~/miniforge3/envs/qiskit_1_env/lib/python3.12/site-packages/numpy/core/numeric.py:1121\u001b[0m, in \u001b[0;36mtensordot\u001b[0;34m(a, b, axes)\u001b[0m\n\u001b[1;32m   1119\u001b[0m at \u001b[38;5;241m=\u001b[39m a\u001b[38;5;241m.\u001b[39mtranspose(newaxes_a)\u001b[38;5;241m.\u001b[39mreshape(newshape_a)\n\u001b[1;32m   1120\u001b[0m bt \u001b[38;5;241m=\u001b[39m b\u001b[38;5;241m.\u001b[39mtranspose(newaxes_b)\u001b[38;5;241m.\u001b[39mreshape(newshape_b)\n\u001b[0;32m-> 1121\u001b[0m res \u001b[38;5;241m=\u001b[39m \u001b[43mdot\u001b[49m\u001b[43m(\u001b[49m\u001b[43mat\u001b[49m\u001b[43m,\u001b[49m\u001b[43m \u001b[49m\u001b[43mbt\u001b[49m\u001b[43m)\u001b[49m\n\u001b[1;32m   1122\u001b[0m \u001b[38;5;28;01mreturn\u001b[39;00m res\u001b[38;5;241m.\u001b[39mreshape(olda \u001b[38;5;241m+\u001b[39m oldb)\n",
      "\u001b[0;31mKeyboardInterrupt\u001b[0m: "
     ]
    }
   ],
   "source": [
    "all_oft_jump_ops = []\n",
    "for i in range(len(x_jump_ops)):\n",
    "    jump_op = x_jump_ops[i]\n",
    "    for phase in N_labels:\n",
    "        energy = 2 * np.pi * phase / 2**num_energy_bits\n",
    "        oft_op = oft(jump_op, phase, 2**num_energy_bits, sigma, hamiltonian)\n",
    "        all_oft_jump_ops.append(qt.Qobj(oft_op))\n",
    "\n",
    "no_H = qt.qeye(2**num_qubits)\n",
    "liouvillian = qt.liouvillian(no_H, c_ops=all_oft_jump_ops)"
   ]
  },
  {
   "cell_type": "code",
   "execution_count": null,
   "metadata": {},
   "outputs": [
    {
     "name": "stdout",
     "output_type": "stream",
     "text": [
      "Spectral gap 0.3255278319257359\n",
      "Smallest eigenvalue of Gibbs state 0.09497093525296871\n",
      "Mixing time bound 7.314474402047588\n"
     ]
    }
   ],
   "source": [
    "spectrum = liouvillian.eigenenergies()\n",
    "spectral_gap = spectrum[-1] - spectrum[-2]\n",
    "print(f'Spectral gap {spectral_gap}')\n",
    "smallest_gibbs_ev = qt.Qobj(gibbs).eigenenergies()[0]\n",
    "print(f'Smallest eigenvalue of Gibbs state {smallest_gibbs_ev}')\n",
    "\n",
    "desired_trdist = 0.3\n",
    "mixing_time_bound = (np.log(np.sqrt(1 / smallest_gibbs_ev)) -np.log(desired_trdist)) / spectral_gap\n",
    "print(f'Mixing time bound {mixing_time_bound}')"
   ]
  },
  {
   "cell_type": "code",
   "execution_count": null,
   "metadata": {},
   "outputs": [
    {
     "name": "stdout",
     "output_type": "stream",
     "text": [
      "(1024, 1024)\n",
      "Liouvillian step time 361.1937301158905\n"
     ]
    }
   ],
   "source": [
    "# 8 -10: 7.4s;  \n",
    "jump_op = x_jump_ops[0]\n",
    "t0 = time.time()\n",
    "liouv_step_evolved_dm = liouvillian_step(initial_dm, beta, delta, jump_op, N, sigma, hamiltonian)\n",
    "print(f'Liouvillian step time {time.time() - t0}')"
   ]
  }
 ],
 "metadata": {
  "kernelspec": {
   "display_name": "qiskit_env",
   "language": "python",
   "name": "python3"
  },
  "language_info": {
   "codemirror_mode": {
    "name": "ipython",
    "version": 3
   },
   "file_extension": ".py",
   "mimetype": "text/x-python",
   "name": "python",
   "nbconvert_exporter": "python",
   "pygments_lexer": "ipython3",
   "version": "3.12.2"
  }
 },
 "nbformat": 4,
 "nbformat_minor": 2
}
