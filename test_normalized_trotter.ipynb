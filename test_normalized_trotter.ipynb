{
 "cells": [
  {
   "cell_type": "code",
   "execution_count": 1,
   "metadata": {},
   "outputs": [],
   "source": [
    "import numpy as np\n",
    "import qutip as qt\n",
    "from scipy.linalg import logm, expm\n",
    "from qiskit.quantum_info import Operator, state_fidelity\n",
    "from qiskit import QuantumCircuit\n",
    "from copy import deepcopy\n",
    "\n",
    "from tools.classical import *\n",
    "from tools.quantum import *"
   ]
  },
  {
   "cell_type": "markdown",
   "metadata": {},
   "source": [
    "#### Qutip Exact Hamiltonian"
   ]
  },
  {
   "cell_type": "code",
   "execution_count": 3,
   "metadata": {},
   "outputs": [
    {
     "name": "stdout",
     "output_type": "stream",
     "text": [
      "Rescaling factor 8.0\n",
      "Shift 0.5\n",
      "Original spectrum [-4.         -3.46410162 -2.82842712 -2.          2.          2.82842712\n",
      "  3.46410162  4.        ]\n",
      "Normalized spectrum [-7.11644431e-17  6.69872981e-02  1.46446609e-01  2.50000000e-01\n",
      "  7.50000000e-01  8.53553391e-01  9.33012702e-01  1.00000000e+00]\n"
     ]
    }
   ],
   "source": [
    "num_qubits = 3\n",
    "\n",
    "X = qt.sigmax()\n",
    "Y = qt.sigmay()\n",
    "Z = qt.sigmaz()\n",
    "coeffs = [1, 1, 1, 1]\n",
    "hamiltonian_qt = hamiltonian_matrix([X, X], [Y, Y], [Z, Z], coeffs=coeffs, num_qubits=num_qubits, symbreak_term=[Z])\n",
    "# print(hamiltonian_qt)\n",
    "#* HAMILTONIANS\n",
    "exact_spec = np.linalg.eigvalsh(hamiltonian_qt)\n",
    "rescaling_factor, shift = rescaling_and_shift_factors(hamiltonian_qt)  # Shift already rescaled\n",
    "rescaled_hamiltonian_qt = hamiltonian_qt / rescaling_factor + shift * qt.qeye(hamiltonian_qt.shape[0])\n",
    "\n",
    "#* SPECTRUMS\n",
    "# print(f'Shifted spectrum {np.linalg.eigvalsh(shifted_hamiltonian_qt)}')\n",
    "print(f'Rescaling factor {rescaling_factor}')\n",
    "print(f'Shift {shift}')\n",
    "print(f'Original spectrum {exact_spec}')\n",
    "print(f'Normalized spectrum {np.linalg.eigvalsh(rescaled_hamiltonian_qt)}')"
   ]
  },
  {
   "cell_type": "markdown",
   "metadata": {},
   "source": [
    "### Qutip unitary evolution construction and comparison: Exact vs Trotterized"
   ]
  },
  {
   "cell_type": "markdown",
   "metadata": {},
   "source": [
    "$n = 3, k = 4$\n",
    "Hamiltonian is rescaled already by its coupling strength, not by the rescaled time anymore (bit easier to have an overview)\n",
    "$$H = 0.125\\times Heisenberg_3 + Z_{bulk}$$"
   ]
  },
  {
   "cell_type": "code",
   "execution_count": 4,
   "metadata": {},
   "outputs": [
    {
     "name": "stdout",
     "output_type": "stream",
     "text": [
      "Distance between Qutip Trotter vs Exact 0.04150634298227714\n"
     ]
    }
   ],
   "source": [
    "T = 1\n",
    "total_time = T * 2 * np.pi\n",
    "num_trotter_steps = 100\n",
    "step_size = total_time / num_trotter_steps\n",
    "rescaled_coeffs = coeffs / rescaling_factor\n",
    "\n",
    "rescaled_total_time = total_time / rescaling_factor\n",
    "rescaled_step_size = rescaled_total_time / num_trotter_steps\n",
    "\n",
    "#* EXACT UNITARIES\n",
    "exact_U_qt = expm(1j * rescaled_hamiltonian_qt * total_time)\n",
    "\n",
    "#* QUTIP TROTTER\n",
    "trott_U_qt = trotter_heisenberg_qutip(num_qubits, step_size, num_trotter_steps, coeffs=rescaled_coeffs, shift=(total_time*shift))\n",
    "# UUdag_minus_id = exact_U_qt * trott_U_qt.dag() - qt.qeye(exact_U_qt.shape[0])\n",
    "\n",
    "#* QUTIP DISTANCES\n",
    "dist_between_unitaries = np.linalg.norm(exact_U_qt - trott_U_qt)\n",
    "print(f'Distance between Qutip Trotter vs Exact {dist_between_unitaries}')\n",
    "\n",
    "# with np.printoptions(precision=3, suppress=True):\n",
    "#     print(exact_U_qt)\n",
    "#     print(trott_U_qt)\n",
    "#     print(UUdag_minus_id)\n",
    "    \n",
    "# logU_shifted = logm(shifted_trott_U_qt) / (1j * T)\n",
    "# logU = logm(trott_U_qt) / (1j * T)\n",
    "# dist_shifted = np.linalg.norm(logU_shifted - shifted_exact_U_qt)\n",
    "# dist = np.linalg.norm(logU - exact_U_qt)\n",
    "# print(dist_shifted)\n",
    "# print(dist)"
   ]
  },
  {
   "cell_type": "markdown",
   "metadata": {},
   "source": [
    "### Observable expectation comparison: Exact vs Trotterized, finding a good number of Trotter steps"
   ]
  },
  {
   "cell_type": "code",
   "execution_count": 5,
   "metadata": {},
   "outputs": [
    {
     "name": "stdout",
     "output_type": "stream",
     "text": [
      "[1. 0. 0. 1. 0. 0. 1. 1.]\n",
      "Initial energy (0.6875+0j)\n",
      "Exact-Evolved fidelity 0.9999394380316122\n"
     ]
    }
   ],
   "source": [
    "#* Initial state\n",
    "# initial_state = np.ones(2**num_qubits) / np.sqrt(2**num_qubits)  # Equal superposition\n",
    "np.random.seed(666)\n",
    "randstate_better = np.zeros(2**num_qubits)\n",
    "randstate_better[np.random.choice(2**num_qubits, 2**num_qubits//2, replace=False)] = 1\n",
    "print(randstate_better)\n",
    "randstate_better /= np.linalg.norm(randstate_better)\n",
    "rand_ini_state = randstate_better\n",
    "rand_ini_state_qt = rand_ini_state\n",
    "\n",
    "initial_energy = rand_ini_state.conj().T @ rescaled_hamiltonian_qt.data @ rand_ini_state\n",
    "print(f'Initial energy {initial_energy}')\n",
    "\n",
    "# Pretty garbage:\n",
    "# rand_state0 = np.random.random(2**num_qubits) + 1j * np.random.random(2**num_qubits)  # Random state\n",
    "# rand_state0 /= np.linalg.norm(rand_state0)\n",
    "# rand_state1 = np.random.random(2**num_qubits) + 1j * np.random.random(2**num_qubits)  # Random state\n",
    "# rand_state1 /= np.linalg.norm(rand_state1)\n",
    "# print(qt.fidelity(qt.Qobj(randstate_better), qt.Qobj(rand_state1)))\n",
    "\n",
    "#* Evolved states\n",
    "exact_evolved_state = qt.Qobj(exact_U_qt) * qt.Qobj(rand_ini_state_qt)\n",
    "trott_evolved_state = qt.Qobj(trott_U_qt) * qt.Qobj(rand_ini_state_qt)\n",
    "\n",
    "#* Fidelities\n",
    "exact_evolved_fidelity = qt.fidelity(exact_evolved_state, trott_evolved_state)\n",
    "# print('Shifted:')  #* Global phase won't show up in fidelity\n",
    "# fid_of_states_shifted = qt.fidelity(exact_evolved_state_shifted, trott_evolved_state_shifted)\n",
    "print(f'Exact-Evolved fidelity {exact_evolved_fidelity}')\n"
   ]
  },
  {
   "cell_type": "markdown",
   "metadata": {},
   "source": [
    "#### Circuit"
   ]
  },
  {
   "cell_type": "code",
   "execution_count": 23,
   "metadata": {},
   "outputs": [],
   "source": [
    "shift_1q = lambda shift: np.diag(np.ones(2) * np.exp(1j * shift))"
   ]
  },
  {
   "cell_type": "code",
   "execution_count": 24,
   "metadata": {},
   "outputs": [
    {
     "name": "stdout",
     "output_type": "stream",
     "text": [
      "#Qubits 3\n",
      "#Trotter steps 100\n",
      "#Gates 1003\n"
     ]
    }
   ],
   "source": [
    "trotter_step = trotter_step_heisenberg(num_qubits, coeffs=coeffs, symbreak=True)\n",
    "ham_time_evol = ham_evol(num_qubits, trotter_step=trotter_step, num_trotter_steps=num_trotter_steps, time=rescaled_total_time)\n",
    "\n",
    "# num_trott_steps = int(np.ceil(8 * np.pi * np.abs(T) / rescaling_factor))\n",
    "circ = QuantumCircuit(num_qubits, name=\"H\")\n",
    "\n",
    "for q in range(num_qubits):\n",
    "    # phase_gate = Operator(pad_term(shift_1q(shift), num_qubits, q))\n",
    "    phase_gate = Operator(shift_1q(shift*total_time))\n",
    "    circ.append(phase_gate, [q])\n",
    "    \n",
    "circ.compose(ham_time_evol, range(num_qubits), inplace=True)\n",
    "\n",
    "print(f'#Qubits {num_qubits}')\n",
    "print(f'#Trotter steps {num_trotter_steps}')\n",
    "print(f'#Gates {len([(op, _, _) for (op, _, _) in circ.data])}')\n",
    "# print(circ)\n"
   ]
  },
  {
   "cell_type": "markdown",
   "metadata": {},
   "source": [
    "### Comparing Circuit unitary operator to Exact"
   ]
  },
  {
   "cell_type": "code",
   "execution_count": 25,
   "metadata": {},
   "outputs": [
    {
     "name": "stdout",
     "output_type": "stream",
     "text": [
      "Distance between circ unitary and exact 0.04150634298227804\n",
      "Distance between circ unitary and qutip trotter 0.0\n",
      "Quantum object: dims = [[8], [8]], shape = (8, 8), type = oper, isherm = True\n",
      "Qobj data =\n",
      "[[0. 0. 0. 0. 0. 0. 0. 0.]\n",
      " [0. 0. 0. 0. 0. 0. 0. 0.]\n",
      " [0. 0. 0. 0. 0. 0. 0. 0.]\n",
      " [0. 0. 0. 0. 0. 0. 0. 0.]\n",
      " [0. 0. 0. 0. 0. 0. 0. 0.]\n",
      " [0. 0. 0. 0. 0. 0. 0. 0.]\n",
      " [0. 0. 0. 0. 0. 0. 0. 0.]\n",
      " [0. 0. 0. 0. 0. 0. 0. 0.]]\n"
     ]
    }
   ],
   "source": [
    "#* Circuit operators\n",
    "trotterized_evolution_unitary = Operator(circ).data\n",
    "\n",
    "#* Distance to exact unitary\n",
    "dist_circ_unitary_vs_exact = np.linalg.norm(trotterized_evolution_unitary - exact_U_qt)\n",
    "\n",
    "#* Distance to qutip trotter\n",
    "dist_circ_vs_qutip_trotter = np.linalg.norm(trotterized_evolution_unitary - trott_U_qt)  # Correct without shift\n",
    "circ_qutip_dag = qt.Qobj(trotterized_evolution_unitary) * qt.Qobj(trott_U_qt).dag() - qt.qeye(trotterized_evolution_unitary.shape[0])\n",
    "\n",
    "print(f'Distance between circ unitary and exact {dist_circ_unitary_vs_exact}')\n",
    "print(f'Distance between circ unitary and qutip trotter {dist_circ_vs_qutip_trotter}')\n",
    "print(circ_qutip_dag)"
   ]
  },
  {
   "cell_type": "markdown",
   "metadata": {},
   "source": [
    "### Fidelity of Circuit vs Exact"
   ]
  },
  {
   "cell_type": "code",
   "execution_count": 28,
   "metadata": {},
   "outputs": [
    {
     "name": "stdout",
     "output_type": "stream",
     "text": [
      "Energy of initial state:\n",
      "0.6875\n",
      "Energy after time evolution (should not be changed):\n",
      "0.6888257178930521\n",
      "QISKIT CIRCUIT FIDELITY\n",
      "To qutip exact 0.9998788797309984\n",
      "To qutip Trotter 0.9999999999997906\n"
     ]
    }
   ],
   "source": [
    "circ_with_ini_state = QuantumCircuit(num_qubits, name=\"H\")\n",
    "circ_with_ini_state.initialize(rand_ini_state, range(num_qubits))  #! Qiskit and Qutip order is not reversed for the state!\n",
    "initial_state_from_circ = Statevector(circ_with_ini_state).data\n",
    "energy_initial_state_from_circ_np = initial_state_from_circ.conj().T @ rescaled_hamiltonian_qt.data @ initial_state_from_circ\n",
    "print('Energy of initial state:')\n",
    "print(energy_initial_state_from_circ_np.real)\n",
    "\n",
    "circ_with_ini_state.compose(ham_time_evol, range(num_qubits), inplace=True)\n",
    "qiskit_end_state = Statevector(circ_with_ini_state).data  # Circ to state\n",
    "\n",
    "print('Energy after time evolution (should not be changed):')\n",
    "end_energy = qiskit_end_state.conj().T @ rescaled_hamiltonian_qt.data @ qiskit_end_state\n",
    "print(end_energy.real)\n",
    "\n",
    "print('QISKIT CIRCUIT FIDELITY')\n",
    "qiskit_trott_evolved_state = Statevector(trott_evolved_state.full())\n",
    "qiskit_exact_evolved_state = Statevector(exact_evolved_state.full())\n",
    "\n",
    "print(f'To qutip exact {state_fidelity(qiskit_exact_evolved_state, qiskit_end_state)}')\n",
    "print(f'To qutip Trotter {state_fidelity(qiskit_trott_evolved_state, qiskit_end_state)}')\n"
   ]
  },
  {
   "cell_type": "code",
   "execution_count": null,
   "metadata": {},
   "outputs": [],
   "source": []
  },
  {
   "cell_type": "markdown",
   "metadata": {},
   "source": [
    "### Trotterized Hamiltonian comparison, Qiskit vs Exact, Qutip vs Exact"
   ]
  },
  {
   "cell_type": "code",
   "execution_count": null,
   "metadata": {},
   "outputs": [],
   "source": [
    "#* LOGM\n",
    "# logU = logm(trotterized_evolution_unitary)  # log U = i 2pi H T / rescaling_factor  #! It's not unique if any eigenenergy < 0\n",
    "# trotterized_ham_from_circuit = logU / (1j * T) #- shift * qt.qeye(hamiltonian_qt.shape[0])\n",
    "# qiskit_trott_ham_spec = np.linalg.eigvalsh(trotterized_ham_from_circuit)\n",
    "# spectrum_dist = np.linalg.norm(qiskit_trott_ham_spec - exact_spec)\n",
    "# print(f'Spectrum distance {spectrum_dist}')"
   ]
  },
  {
   "cell_type": "markdown",
   "metadata": {},
   "source": [
    "#### Qiskit gate angle convention! RXX(-2x) = exp(x)"
   ]
  },
  {
   "cell_type": "code",
   "execution_count": null,
   "metadata": {},
   "outputs": [],
   "source": [
    "c = QuantumCircuit(2)\n",
    "c.rxx(np.pi/2, 0, 1)\n",
    "op = Operator(c)\n",
    "print(op.data)\n",
    "X = qt.sigmax()\n",
    "XX = qt.tensor(X, X)\n",
    "op_qt = expm(-1j*np.pi* XX / 4)\n",
    "print(op_qt)\n"
   ]
  },
  {
   "cell_type": "markdown",
   "metadata": {},
   "source": [
    "### Compare qiskit and qutip gates in the Trotter"
   ]
  },
  {
   "cell_type": "code",
   "execution_count": null,
   "metadata": {},
   "outputs": [],
   "source": [
    "# np.random.seed(138)\n",
    "num_qubits = 10\n",
    "# dist_qutip_qiskit = 0.\n",
    "# while dist_qutip_qiskit < 1:\n",
    "step_size = np.random.rand()\n",
    "step_size = 1.1\n",
    "print(f'RXX angle , {step_size}')\n",
    "i = np.random.randint(0, num_qubits)\n",
    "j = (i + 1) % num_qubits\n",
    "print(f'Sites {i, j}')\n",
    "\n",
    "#* Qutip\n",
    "XX = pad_term([qt.sigmax(), qt.sigmax()], num_qubits, i)\n",
    "eXX = expm(1j*step_size*XX.full())\n",
    "\n",
    "# XX_byhand_reversed = qt.tensor([qt.qeye(2), qt.sigmax(), qt.sigmax()])\n",
    "# eXX_byhand_reversed = expm(1j*step_size*XX_byhand_reversed.full())\n",
    "print('Qutip')\n",
    "print(eXX)\n",
    "#* Qiskit\n",
    "rxx_circ = QuantumCircuit(num_qubits)\n",
    "rxx_circ.rxx(-2 * step_size, i, j)\n",
    "rxx_op = Operator(rxx_circ)\n",
    "print('Qiskit')\n",
    "print(rxx_op)\n",
    "\n",
    "dist_qutip_qiskit = np.linalg.norm(eXX - rxx_op.data)\n",
    "# dist_qutip_qiskit_reversed = np.linalg.norm(eXX_byhand_reversed - rxx_op.data)\n",
    "print(f'Distance between Qutip and Qiskit RXX {dist_qutip_qiskit}')\n",
    "# print(f'Distance between Qutip and Qiskit RXX reversed {dist_qutip_qiskit_reversed}')\n",
    "\n"
   ]
  }
 ],
 "metadata": {
  "kernelspec": {
   "display_name": "qiskit_env",
   "language": "python",
   "name": "python3"
  },
  "language_info": {
   "codemirror_mode": {
    "name": "ipython",
    "version": 3
   },
   "file_extension": ".py",
   "mimetype": "text/x-python",
   "name": "python",
   "nbconvert_exporter": "python",
   "pygments_lexer": "ipython3",
   "version": "3.11.5"
  }
 },
 "nbformat": 4,
 "nbformat_minor": 2
}
