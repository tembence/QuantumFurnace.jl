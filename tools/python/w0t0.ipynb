{
 "cells": [
  {
   "cell_type": "code",
   "execution_count": 2,
   "metadata": {},
   "outputs": [],
   "source": [
    "import numpy as np\n",
    "import qutip as qt\n",
    "import sys \n",
    "sys.path.append('/Users/bence/code/liouvillian_metro/')\n",
    "\n",
    "from tools.classical import HamHam, find_ideal_heisenberg"
   ]
  },
  {
   "cell_type": "code",
   "execution_count": 4,
   "metadata": {},
   "outputs": [
    {
     "name": "stdout",
     "output_type": "stream",
     "text": [
      "Ideal spectrum:  [-0.      0.0864  0.1254  0.1617  0.2096  0.2151  0.2326  0.2495  0.2667\n",
      "  0.2849  0.2903  0.2994  0.3382  0.3763  0.4136  0.45  ]\n",
      "Rescaled coefficients:  [0.03118028 0.03118028 0.03118028 0.03118028 0.02519366 0.02391527\n",
      " 0.00985297 0.01633847]\n"
     ]
    }
   ],
   "source": [
    "#best seed = 2691, n = 4\n",
    "num_qubits = 4\n",
    "num_energy_bits = 8\n",
    "delta = 0.01\n",
    "eps = 0.1\n",
    "sigma = 5\n",
    "bohr_bound = 0 #2 ** (-num_energy_bits + 1)\n",
    "beta = 1\n",
    "eig_index = 2\n",
    "mix_time = 4\n",
    "\n",
    "best_ham = None\n",
    "w0_best = 0.\n",
    "# for seed in range(10000):\n",
    "np.random.seed(2691)\n",
    "hamiltonian = find_ideal_heisenberg(num_qubits, bohr_bound, eps, fix_coeffs=[1, 1, 1, 1], signed=False, for_oft=True)\n",
    "w0 = np.min(np.diff(hamiltonian.spectrum))\n",
    "# if w0 > w0_best:\n",
    "#     best_ham = hamiltonian\n",
    "#     w0_best = w0 \n",
    "#     # best_seed = seed   \n",
    "#     print('-------------------')\n",
    "#     print(f'w0 = {w0_best}')\n",
    "#     print('-------------------')\n",
    "\n",
    "# print(f'best_seed = {best_seed}, w0_best = {w0_best}')"
   ]
  },
  {
   "cell_type": "code",
   "execution_count": 6,
   "metadata": {},
   "outputs": [
    {
     "name": "stdout",
     "output_type": "stream",
     "text": [
      "w0 = 0.005433756348348806\n",
      "ideal_N = 184.03475163251974\n",
      "ideal_r = 8\n",
      "theoretical mean N for chaotic systems = 512.0\n",
      "theoretical mean r for chaotic systems = 9\n"
     ]
    }
   ],
   "source": [
    "initial_state = hamiltonian.eigvecs[:, eig_index]\n",
    "initial_dm = initial_state @ initial_state.conj().T\n",
    "\n",
    "w0 = np.min(np.diff(hamiltonian.spectrum))\n",
    "# w0 = w0_best\n",
    "print(f'w0 = {w0}')\n",
    "ideal_N = 1 / w0\n",
    "ideal_r = int(np.ceil(np.log2(ideal_N)))  #! This is varying crazy for different random disordering coeffs\n",
    "print(f'ideal_N = {ideal_N}')\n",
    "print(f'ideal_r = {ideal_r}')\n",
    "\n",
    "theoretical_chaotic_N = 2 * num_qubits * 2**(1.5 * num_qubits)\n",
    "theoretical_chaotic_r = int(np.ceil(np.log2(theoretical_chaotic_N)))\n",
    "print(f'theoretical mean N for chaotic systems = {theoretical_chaotic_N}')\n",
    "print(f'theoretical mean r for chaotic systems = {theoretical_chaotic_r}')"
   ]
  },
  {
   "cell_type": "code",
   "execution_count": 46,
   "metadata": {},
   "outputs": [
    {
     "name": "stdout",
     "output_type": "stream",
     "text": [
      "w0 = 0.012935910094733327, t0 = 3.141592653589793\n",
      "[ 0.          0.01293591  0.02587182  0.03880773  0.05174364  0.06467955\n",
      "  0.07761546  0.09055137  0.10348728  0.11642319  0.1293591   0.14229501\n",
      "  0.15523092  0.16816683  0.18110274  0.19403865  0.20697456  0.21991047\n",
      "  0.23284638  0.24578229  0.2587182   0.27165411  0.28459002  0.29752593\n",
      "  0.31046184  0.32339775  0.33633366  0.34926957  0.36220548  0.37514139\n",
      "  0.3880773   0.40101321  0.41394912  0.42688503  0.43982094  0.45275685\n",
      "  0.46569276  0.47862867  0.49156458  0.50450049  0.5174364   0.53037231\n",
      "  0.54330822  0.55624413  0.56918004  0.58211595  0.59505186  0.60798777\n",
      "  0.62092368  0.63385959  0.6467955   0.65973141  0.67266732  0.68560324\n",
      "  0.69853915  0.71147506  0.72441097  0.73734688  0.75028279  0.7632187\n",
      "  0.77615461  0.78909052  0.80202643  0.81496234  0.82789825  0.84083416\n",
      "  0.85377007  0.86670598  0.87964189  0.8925778   0.90551371  0.91844962\n",
      "  0.93138553  0.94432144  0.95725735  0.97019326  0.98312917  0.99606508\n",
      " -0.99606508 -0.98312917 -0.97019326 -0.95725735 -0.94432144 -0.93138553\n",
      " -0.91844962 -0.90551371 -0.8925778  -0.87964189 -0.86670598 -0.85377007\n",
      " -0.84083416 -0.82789825 -0.81496234 -0.80202643 -0.78909052 -0.77615461\n",
      " -0.7632187  -0.75028279 -0.73734688 -0.72441097 -0.71147506 -0.69853915\n",
      " -0.68560324 -0.67266732 -0.65973141 -0.6467955  -0.63385959 -0.62092368\n",
      " -0.60798777 -0.59505186 -0.58211595 -0.56918004 -0.55624413 -0.54330822\n",
      " -0.53037231 -0.5174364  -0.50450049 -0.49156458 -0.47862867 -0.46569276\n",
      " -0.45275685 -0.43982094 -0.42688503 -0.41394912 -0.40101321 -0.3880773\n",
      " -0.37514139 -0.36220548 -0.34926957 -0.33633366 -0.32339775 -0.31046184\n",
      " -0.29752593 -0.28459002 -0.27165411 -0.2587182  -0.24578229 -0.23284638\n",
      " -0.21991047 -0.20697456 -0.19403865 -0.18110274 -0.16816683 -0.15523092\n",
      " -0.14229501 -0.1293591  -0.11642319 -0.10348728 -0.09055137 -0.07761546\n",
      " -0.06467955 -0.05174364 -0.03880773 -0.02587182 -0.01293591  0.        ]\n"
     ]
    }
   ],
   "source": [
    "N = 2 ** num_energy_bits\n",
    "N = ideal_N * 2\n",
    "N_labels = np.arange(N / 2, dtype=int)\n",
    "N_labels_neg = np.arange(- N / 2, 0, dtype=int)\n",
    "N_labels = np.concatenate((N_labels, N_labels_neg))\n",
    "# Smallest energy difference in spectrum\n",
    "t0 = 2 * np.pi / (w0 * N)\n",
    "print(f'w0 = {w0}, t0 = {t0}')\n",
    "time_labels = t0 * N_labels\n",
    "energy_labels = w0 * N_labels\n",
    "print(energy_labels)\n"
   ]
  },
  {
   "cell_type": "code",
   "execution_count": 18,
   "metadata": {},
   "outputs": [
    {
     "name": "stdout",
     "output_type": "stream",
     "text": [
      "w0_ideal = 0.03125\n",
      "[ 0.       0.03125  0.0625   0.09375  0.125    0.15625  0.1875   0.21875\n",
      "  0.25     0.28125  0.3125   0.34375  0.375    0.40625  0.4375   0.46875\n",
      " -0.5     -0.46875 -0.4375  -0.40625 -0.375   -0.34375 -0.3125  -0.28125\n",
      " -0.25    -0.21875 -0.1875  -0.15625 -0.125   -0.09375 -0.0625  -0.03125]\n",
      "[   0.            6.28318531   12.56637061   18.84955592   25.13274123\n",
      "   31.41592654   37.69911184   43.98229715   50.26548246   56.54866776\n",
      "   62.83185307   69.11503838   75.39822369   81.68140899   87.9645943\n",
      "   94.24777961 -100.53096491  -94.24777961  -87.9645943   -81.68140899\n",
      "  -75.39822369  -69.11503838  -62.83185307  -56.54866776  -50.26548246\n",
      "  -43.98229715  -37.69911184  -31.41592654  -25.13274123  -18.84955592\n",
      "  -12.56637061   -6.28318531]\n"
     ]
    }
   ],
   "source": [
    "w0_ideal = 1 / N\n",
    "print(f'w0_ideal = {w0_ideal}')\n",
    "t0_ideal = 2 * np.pi / (w0_ideal * N)\n",
    "energy_labels_ideal = w0_ideal * N_labels\n",
    "print(energy_labels_ideal)\n",
    "time_labels_ideal = t0_ideal * N_labels\n",
    "print(time_labels_ideal)"
   ]
  }
 ],
 "metadata": {
  "kernelspec": {
   "display_name": "qiskit_1_env",
   "language": "python",
   "name": "python3"
  },
  "language_info": {
   "codemirror_mode": {
    "name": "ipython",
    "version": 3
   },
   "file_extension": ".py",
   "mimetype": "text/x-python",
   "name": "python",
   "nbconvert_exporter": "python",
   "pygments_lexer": "ipython3",
   "version": "3.12.2"
  }
 },
 "nbformat": 4,
 "nbformat_minor": 2
}
