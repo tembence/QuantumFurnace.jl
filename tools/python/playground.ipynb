{
 "cells": [
  {
   "cell_type": "code",
   "execution_count": 2,
   "metadata": {},
   "outputs": [],
   "source": [
    "import numpy as np\n",
    "import qutip as qt\n",
    "from qiskit import QuantumCircuit, QuantumRegister, ClassicalRegister, transpile\n",
    "from qiskit.quantum_info.operators import Operator, Pauli\n",
    "from qiskit.quantum_info import DensityMatrix, partial_trace\n",
    "from qiskit.circuit.library import QFT\n",
    "from random import randint\n",
    "import matplotlib.pyplot as plt\n",
    "from time import time\n",
    "\n",
    "\n",
    "from tools.classical import *\n",
    "from tools.quantum import *\n",
    "from boltzmann import *"
   ]
  },
  {
   "cell_type": "code",
   "execution_count": 22,
   "metadata": {},
   "outputs": [
    {
     "name": "stdout",
     "output_type": "stream",
     "text": [
      "[ 0.          0.07843137  0.15686275  0.23529412  0.31372549  0.39215686\n",
      "  0.47058824  0.54901961  0.62745098  0.70588235  0.78431373  0.8627451\n",
      "  0.94117647  1.01960784  1.09803922  1.17647059  1.25490196  1.33333333\n",
      "  1.41176471  1.49019608  1.56862745  1.64705882  1.7254902   1.80392157\n",
      "  1.88235294  1.96078431  2.03921569  2.11764706  2.19607843  2.2745098\n",
      "  2.35294118  2.43137255  2.50980392  2.58823529  2.66666667  2.74509804\n",
      "  2.82352941  2.90196078  2.98039216  3.05882353  3.1372549   3.21568627\n",
      "  3.29411765  3.37254902  3.45098039  3.52941176  3.60784314  3.68627451\n",
      "  3.76470588  3.84313725  3.92156863  4.          4.07843137  4.15686275\n",
      "  4.23529412  4.31372549  4.39215686  4.47058824  4.54901961  4.62745098\n",
      "  4.70588235  4.78431373  4.8627451   4.94117647  5.01960784  5.09803922\n",
      "  5.17647059  5.25490196  5.33333333  5.41176471  5.49019608  5.56862745\n",
      "  5.64705882  5.7254902   5.80392157  5.88235294  5.96078431  6.03921569\n",
      "  6.11764706  6.19607843  6.2745098   6.35294118  6.43137255  6.50980392\n",
      "  6.58823529  6.66666667  6.74509804  6.82352941  6.90196078  6.98039216\n",
      "  7.05882353  7.1372549   7.21568627  7.29411765  7.37254902  7.45098039\n",
      "  7.52941176  7.60784314  7.68627451  7.76470588  7.84313725  7.92156863\n",
      "  8.          8.07843137  8.15686275  8.23529412  8.31372549  8.39215686\n",
      "  8.47058824  8.54901961  8.62745098  8.70588235  8.78431373  8.8627451\n",
      "  8.94117647  9.01960784  9.09803922  9.17647059  9.25490196  9.33333333\n",
      "  9.41176471  9.49019608  9.56862745  9.64705882  9.7254902   9.80392157\n",
      "  9.88235294  9.96078431 10.03921569 10.11764706 10.19607843 10.2745098\n",
      " 10.35294118 10.43137255 10.50980392 10.58823529 10.66666667 10.74509804\n",
      " 10.82352941 10.90196078 10.98039216 11.05882353 11.1372549  11.21568627\n",
      " 11.29411765 11.37254902 11.45098039 11.52941176 11.60784314 11.68627451\n",
      " 11.76470588 11.84313725 11.92156863 12.         12.07843137 12.15686275\n",
      " 12.23529412 12.31372549 12.39215686 12.47058824 12.54901961 12.62745098\n",
      " 12.70588235 12.78431373 12.8627451  12.94117647 13.01960784 13.09803922\n",
      " 13.17647059 13.25490196 13.33333333 13.41176471 13.49019608 13.56862745\n",
      " 13.64705882 13.7254902  13.80392157 13.88235294 13.96078431 14.03921569\n",
      " 14.11764706 14.19607843 14.2745098  14.35294118 14.43137255 14.50980392\n",
      " 14.58823529 14.66666667 14.74509804 14.82352941 14.90196078 14.98039216\n",
      " 15.05882353 15.1372549  15.21568627 15.29411765 15.37254902 15.45098039\n",
      " 15.52941176 15.60784314 15.68627451 15.76470588 15.84313725 15.92156863\n",
      " 16.         16.07843137 16.15686275 16.23529412 16.31372549 16.39215686\n",
      " 16.47058824 16.54901961 16.62745098 16.70588235 16.78431373 16.8627451\n",
      " 16.94117647 17.01960784 17.09803922 17.17647059 17.25490196 17.33333333\n",
      " 17.41176471 17.49019608 17.56862745 17.64705882 17.7254902  17.80392157\n",
      " 17.88235294 17.96078431 18.03921569 18.11764706 18.19607843 18.2745098\n",
      " 18.35294118 18.43137255 18.50980392 18.58823529 18.66666667 18.74509804\n",
      " 18.82352941 18.90196078 18.98039216 19.05882353 19.1372549  19.21568627\n",
      " 19.29411765 19.37254902 19.45098039 19.52941176 19.60784314 19.68627451\n",
      " 19.76470588 19.84313725 19.92156863 20.        ]\n",
      "[-0.5        -0.49609375 -0.4921875  -0.48828125 -0.484375   -0.48046875\n",
      " -0.4765625  -0.47265625 -0.46875    -0.46484375 -0.4609375  -0.45703125\n",
      " -0.453125   -0.44921875 -0.4453125  -0.44140625 -0.4375     -0.43359375\n",
      " -0.4296875  -0.42578125 -0.421875   -0.41796875 -0.4140625  -0.41015625\n",
      " -0.40625    -0.40234375 -0.3984375  -0.39453125 -0.390625   -0.38671875\n",
      " -0.3828125  -0.37890625 -0.375      -0.37109375 -0.3671875  -0.36328125\n",
      " -0.359375   -0.35546875 -0.3515625  -0.34765625 -0.34375    -0.33984375\n",
      " -0.3359375  -0.33203125 -0.328125   -0.32421875 -0.3203125  -0.31640625\n",
      " -0.3125     -0.30859375 -0.3046875  -0.30078125 -0.296875   -0.29296875\n",
      " -0.2890625  -0.28515625 -0.28125    -0.27734375 -0.2734375  -0.26953125\n",
      " -0.265625   -0.26171875 -0.2578125  -0.25390625 -0.25       -0.24609375\n",
      " -0.2421875  -0.23828125 -0.234375   -0.23046875 -0.2265625  -0.22265625\n",
      " -0.21875    -0.21484375 -0.2109375  -0.20703125 -0.203125   -0.19921875\n",
      " -0.1953125  -0.19140625 -0.1875     -0.18359375 -0.1796875  -0.17578125\n",
      " -0.171875   -0.16796875 -0.1640625  -0.16015625 -0.15625    -0.15234375\n",
      " -0.1484375  -0.14453125 -0.140625   -0.13671875 -0.1328125  -0.12890625\n",
      " -0.125      -0.12109375 -0.1171875  -0.11328125 -0.109375   -0.10546875\n",
      " -0.1015625  -0.09765625 -0.09375    -0.08984375 -0.0859375  -0.08203125\n",
      " -0.078125   -0.07421875 -0.0703125  -0.06640625 -0.0625     -0.05859375\n",
      " -0.0546875  -0.05078125 -0.046875   -0.04296875 -0.0390625  -0.03515625\n",
      " -0.03125    -0.02734375 -0.0234375  -0.01953125 -0.015625   -0.01171875\n",
      " -0.0078125  -0.00390625  0.          0.00390625  0.0078125   0.01171875\n",
      "  0.015625    0.01953125  0.0234375   0.02734375  0.03125     0.03515625\n",
      "  0.0390625   0.04296875  0.046875    0.05078125  0.0546875   0.05859375\n",
      "  0.0625      0.06640625  0.0703125   0.07421875  0.078125    0.08203125\n",
      "  0.0859375   0.08984375  0.09375     0.09765625  0.1015625   0.10546875\n",
      "  0.109375    0.11328125  0.1171875   0.12109375  0.125       0.12890625\n",
      "  0.1328125   0.13671875  0.140625    0.14453125  0.1484375   0.15234375\n",
      "  0.15625     0.16015625  0.1640625   0.16796875  0.171875    0.17578125\n",
      "  0.1796875   0.18359375  0.1875      0.19140625  0.1953125   0.19921875\n",
      "  0.203125    0.20703125  0.2109375   0.21484375  0.21875     0.22265625\n",
      "  0.2265625   0.23046875  0.234375    0.23828125  0.2421875   0.24609375\n",
      "  0.25        0.25390625  0.2578125   0.26171875  0.265625    0.26953125\n",
      "  0.2734375   0.27734375  0.28125     0.28515625  0.2890625   0.29296875\n",
      "  0.296875    0.30078125  0.3046875   0.30859375  0.3125      0.31640625\n",
      "  0.3203125   0.32421875  0.328125    0.33203125  0.3359375   0.33984375\n",
      "  0.34375     0.34765625  0.3515625   0.35546875  0.359375    0.36328125\n",
      "  0.3671875   0.37109375  0.375       0.37890625  0.3828125   0.38671875\n",
      "  0.390625    0.39453125  0.3984375   0.40234375  0.40625     0.41015625\n",
      "  0.4140625   0.41796875  0.421875    0.42578125  0.4296875   0.43359375\n",
      "  0.4375      0.44140625  0.4453125   0.44921875  0.453125    0.45703125\n",
      "  0.4609375   0.46484375  0.46875     0.47265625  0.4765625   0.48046875\n",
      "  0.484375    0.48828125  0.4921875   0.49609375]\n"
     ]
    },
    {
     "data": {
      "image/png": "[encoded data removed]",
      "text/plain": [
       "<Figure size 640x480 with 1 Axes>"
      ]
     },
     "metadata": {},
     "output_type": "display_data"
    }
   ],
   "source": [
    "import matplotlib.pyplot as plt\n",
    "\n",
    "N = 256\n",
    "t = np.fft.ifftshift(np.linspace(-100, 100, N))\n",
    "t = np.linspace(0, 20, N)\n",
    "print(t)\n",
    "\n",
    "# sp = np.fft.fft(np.exp(-t**2))\n",
    "sp = np.fft.fftshift(np.fft.fft(np.sin(t)))\n",
    "\n",
    "freq = np.fft.fftshift(np.fft.fftfreq(t.shape[-1]))\n",
    "print(freq)\n",
    "\n",
    "plt.plot(freq, sp.real, freq, sp.imag)\n",
    "\n",
    "plt.show()"
   ]
  },
  {
   "cell_type": "code",
   "execution_count": null,
   "metadata": {},
   "outputs": [],
   "source": []
  },
  {
   "cell_type": "code",
   "execution_count": 42,
   "metadata": {},
   "outputs": [
    {
     "name": "stdout",
     "output_type": "stream",
     "text": [
      "Expected damage 1: 69.2\n",
      "Expected damage 2: 68.69999999999999\n",
      "Ratio: 1.0072780203784573\n",
      "Quick damage 1: 64.0\n",
      "Quick damage 2: 64.0\n",
      "Quick ratio: 1.0\n"
     ]
    }
   ],
   "source": [
    "damage = lambda stab, type, power, level: ((2*level / 5 + 2) * power / 50 + 2) * stab * type\n",
    "\n",
    "stab1 = 1.\n",
    "type1 = 1.\n",
    "power1 = 80\n",
    "\n",
    "stab2 = 1.5\n",
    "type2 = 0.5\n",
    "power2 = 80 * 4 / 3\n",
    "\n",
    "level = 100\n",
    "\n",
    "print(f'Expected damage 1: {damage(stab1, type1, power1, level)}')\n",
    "print(f'Expected damage 2: {damage(stab2, type2, power2, level)}')\n",
    "\n",
    "ratio = damage(stab1, type1, power1, level) / damage(stab2, type2, power2, level)\n",
    "print(f'Ratio: {ratio}')\n",
    "\n",
    "quick_damage = lambda stab, type, power, level: ((2*level / 5 ) * power / 50) * stab * type\n",
    "print(f'Quick damage 1: {quick_damage(stab1, type1, power1, level)}')\n",
    "print(f'Quick damage 2: {quick_damage(stab2, type2, power2, level)}')\n",
    "\n",
    "quick_ratio = quick_damage(stab1, type1, power1, level) / quick_damage(stab2, type2, power2, level)\n",
    "print(f'Quick ratio: {quick_ratio}')\n"
   ]
  },
  {
   "cell_type": "code",
   "execution_count": 6,
   "metadata": {},
   "outputs": [
    {
     "name": "stdout",
     "output_type": "stream",
     "text": [
      "Time to build Hamiltonian matrix:  1.297010898590088\n"
     ]
    }
   ],
   "source": [
    "X = qt.sigmax()\n",
    "Y = qt.sigmay()\n",
    "Z = qt.sigmaz()\n",
    "num_qubits = 12\n",
    "coeffs = [1, 1, 1]\n",
    "t0 = time()\n",
    "hamiltonian_qt = hamiltonian_matrix([X, X], [Y, Y], [Z, Z], coeffs=coeffs, num_qubits=num_qubits)\n",
    "print(\"Time to build Hamiltonian matrix: \", time()-t0)"
   ]
  },
  {
   "cell_type": "code",
   "execution_count": 3,
   "metadata": {},
   "outputs": [
    {
     "name": "stdout",
     "output_type": "stream",
     "text": [
      "11.261979818344116\n",
      "11.548596858978271\n"
     ]
    }
   ],
   "source": [
    "np.random.seed(666)\n",
    "\n",
    "def matrix_multiply():\n",
    "    rows = 10000  # Set the number of rows\n",
    "    cols = 10000  # Set the number of columns\n",
    "\n",
    "    # Define two matrices of size rows x cols\n",
    "    mat1 = np.random.rand(rows, cols)\n",
    "    mat2 = np.random.rand(rows, cols)\n",
    "\n",
    "    # Multiply matrices\n",
    "    result = np.dot(mat1, mat2)\n",
    "\n",
    "    return result\n",
    "\n",
    "# t0 = time()\n",
    "# res = matrix_multiply()\n",
    "# print(\"Time taken for matrix multiplication: \", time()-t0)\n",
    "\n",
    "rows = 10000  # Set the number of rows\n",
    "cols = 10000  # Set the number of columns\n",
    "mat1 = np.random.rand(rows, cols)\n",
    "mat2 = np.random.rand(rows, cols)\n",
    "\n",
    "# teinsum = time()\n",
    "# res_einsum = np.einsum('ij, jk -> ik', mat1, mat2, optimize=True)\n",
    "# print(time() - teinsum)\n",
    "\n",
    "tmatmul = time()\n",
    "np.matmul(mat1, mat2)\n",
    "print(time() - tmatmul)\n",
    "qt.tensor\n",
    "timeat = time()\n",
    "mat1 @ mat2\n",
    "print(time() - timeat)"
   ]
  },
  {
   "cell_type": "code",
   "execution_count": 6,
   "metadata": {},
   "outputs": [
    {
     "name": "stdout",
     "output_type": "stream",
     "text": [
      "[[0.70043712 0.20024754 0.0232363  0.88889931]\n",
      " [0.70043712 0.74415417 0.0232363  0.88889931]\n",
      " [0.70043712 0.192892   0.0232363  0.88889931]\n",
      " ...\n",
      " [0.50806631 0.11285765 0.32569065 0.21940924]\n",
      " [0.50806631 0.11095367 0.32569065 0.21940924]\n",
      " [0.50806631 0.24766823 0.32569065 0.21940924]]\n"
     ]
    }
   ],
   "source": [
    "\n",
    "\n",
    "# Define the bounds for random values\n",
    "coeff_lower_bound = 0\n",
    "coeff_upper_bound = 1\n",
    "num_points = 10  # Number of random points in each dimension\n",
    "\n",
    "# Generate random values for each dimension\n",
    "coeff_xx = np.random.uniform(coeff_lower_bound, coeff_upper_bound, num_points)\n",
    "coeff_yy = np.random.uniform(coeff_lower_bound, coeff_upper_bound, num_points)\n",
    "coeff_zz = np.random.uniform(coeff_lower_bound, coeff_upper_bound, num_points)\n",
    "coeff_z = np.random.uniform(coeff_lower_bound, coeff_upper_bound, num_points)\n",
    "\n",
    "# Create meshgrid and reshape it\n",
    "coeff_mesh = np.array(np.meshgrid(coeff_xx, coeff_yy, coeff_zz, coeff_z)).T.reshape(-1, 4)\n",
    "\n",
    "print(coeff_mesh)\n"
   ]
  },
  {
   "cell_type": "code",
   "execution_count": 12,
   "metadata": {},
   "outputs": [
    {
     "name": "stdout",
     "output_type": "stream",
     "text": [
      "             \n",
      "q_0: ───■────\n",
      "     ┌──┴───┐\n",
      "q_1: ┤0     ├\n",
      "     │  RXX │\n",
      "q_2: ┤1     ├\n",
      "     └──────┘\n",
      "       ┌────────┐  ┌─────────┐ ┌───────────┐             ┌───────────┐»\n",
      "q_0: ──┤ Rx(-π) ├──┤ Ry(π/2) ├─┤0          ├─────────────┤0          ├»\n",
      "     ┌─┴────────┴┐┌┴─────────┴┐│  Rxx(π/2) │┌───────────┐│           │»\n",
      "q_1: ┤ Ry(-3π/4) ├┤ Rx(-3π/2) ├┤1          ├┤ Ry(-3π/4) ├┤  Rxx(π/2) ├»\n",
      "     ├───────────┤└───────────┘└───────────┘└───────────┘│           │»\n",
      "q_2: ┤ Ry(-3π/4) ├───────────────────────────────────────┤1          ├»\n",
      "     └───────────┘                                       └───────────┘»\n",
      "«      ┌───────┐                                      ┌───────────┐»\n",
      "«q_0: ─┤ Ry(π) ├──────────────────────────────────────┤0          ├»\n",
      "«      └───────┘              ┌───────────┐┌─────────┐│           │»\n",
      "«q_1: ────────────────────────┤0          ├┤ Rx(π/4) ├┤  Rxx(π/2) ├»\n",
      "«     ┌──────────┐┌──────────┐│  Rxx(π/2) │├─────────┤│           │»\n",
      "«q_2: ┤ Rx(-π/2) ├┤ Ry(3π/4) ├┤1          ├┤ Ry(π/4) ├┤1          ├»\n",
      "«     └──────────┘└──────────┘└───────────┘└─────────┘└───────────┘»\n",
      "«     ┌────────────┐                                                »\n",
      "«q_0: ┤ Rx(-13π/4) ├────────────────────────────────────────────────»\n",
      "«     └────────────┘            ┌───────────┐┌─────────┐  ┌────────┐»\n",
      "«q_1: ──────────────────────────┤0          ├┤ Ry(π/2) ├──┤ Rx(-π) ├»\n",
      "«      ┌──────────┐ ┌──────────┐│  Rxx(π/2) │├─────────┴┐┌┴────────┤»\n",
      "«q_2: ─┤ Rx(-π/2) ├─┤ Ry(-π/4) ├┤1          ├┤ Rx(-π/2) ├┤ Ry(π/4) ├»\n",
      "«      └──────────┘ └──────────┘└───────────┘└──────────┘└─────────┘»\n",
      "«                   ┌───────────┐┌───────────┐                          »\n",
      "«q_0: ──────────────┤0          ├┤0          ├──────────────────────────»\n",
      "«                   │           ││  Rxx(π/2) │   ┌─────────┐  ┌────────┐»\n",
      "«q_1: ──────────────┤  Rxx(π/2) ├┤1          ├───┤ Ry(π/4) ├──┤ Rx(-π) ├»\n",
      "«     ┌────────────┐│           │├───────────┴┐┌─┴─────────┴─┐└────────┘»\n",
      "«q_2: ┤ Rx(-2.691) ├┤1          ├┤ Ry(1.1601) ├┤ Rx(-2.4516) ├──────────»\n",
      "«     └────────────┘└───────────┘└────────────┘└─────────────┘          »\n",
      "«     ┌───────────┐           ┌───────────┐                     ┌───────────┐»\n",
      "«q_0: ┤0          ├───────────┤0          ├─────────────────────┤0          ├»\n",
      "«     │  Rxx(π/2) │┌─────────┐│           │                     │           │»\n",
      "«q_1: ┤1          ├┤ Ry(π/2) ├┤  Rxx(π/2) ├─────────────────────┤  Rxx(π/2) ├»\n",
      "«     └───────────┘└─────────┘│           │┌─────────┐┌────────┐│           │»\n",
      "«q_2: ────────────────────────┤1          ├┤ Ry(0.6) ├┤ Rx(-π) ├┤1          ├»\n",
      "«                             └───────────┘└─────────┘└────────┘└───────────┘»\n",
      "«                                                  ┌───────────┐            »\n",
      "«q_0: ─────────────────────────────────────────────┤0          ├────────────»\n",
      "«                         ┌───────────┐┌──────────┐│           │            »\n",
      "«q_1: ────────────────────┤0          ├┤ Rx(-π/4) ├┤  Rxx(π/2) ├────────────»\n",
      "«     ┌─────────┐┌───────┐│  Rxx(π/2) │├─────────┬┘│           │┌──────────┐»\n",
      "«q_2: ┤ Ry(π/2) ├┤ Rx(π) ├┤1          ├┤ Ry(π/4) ├─┤1          ├┤ Rx(-π/2) ├»\n",
      "«     └─────────┘└───────┘└───────────┘└─────────┘ └───────────┘└──────────┘»\n",
      "«                                                                        »\n",
      "«q_0: ───────────────────────────────────────────────────────────────────»\n",
      "«                 ┌───────────┐┌─────────┐ ┌─────────────┐               »\n",
      "«q_1: ────────────┤0          ├┤ Ry(π/2) ├─┤ Rx(-4.0969) ├───────────────»\n",
      "«     ┌──────────┐│  Rxx(π/2) │├─────────┴┐└─┬─────────┬─┘┌─────────────┐»\n",
      "«q_2: ┤ Ry(-π/4) ├┤1          ├┤ Rx(-π/2) ├──┤ Ry(π/4) ├──┤ Rx(-3.7571) ├»\n",
      "«     └──────────┘└───────────┘└──────────┘  └─────────┘  └─────────────┘»\n",
      "«     ┌───────────┐ ┌────────┐   ┌────────┐  ┌───────────┐ ┌────────┐»\n",
      "«q_0: ┤0          ├─┤ Ry(-π) ├───┤ Rx(-π) ├──┤0          ├─┤ Ry(-π) ├»\n",
      "«     │           │ └────────┘   └────────┘  │  Rxx(π/2) │┌┴────────┤»\n",
      "«q_1: ┤  Rxx(π/2) ├──────────────────────────┤1          ├┤ Ry(π/3) ├»\n",
      "«     │           │┌─────────┐┌─────────────┐└───────────┘└─────────┘»\n",
      "«q_2: ┤1          ├┤ Ry(π/3) ├┤ Rx(-3.7571) ├────────────────────────»\n",
      "«     └───────────┘└─────────┘└─────────────┘                        »\n",
      "«      ┌───────────┐ ┌───────────┐           ┌───────────┐┌──────────┐\n",
      "«q_0: ─┤ Rx(-9π/4) ├─┤0          ├───────────┤0          ├┤ Ry(-π/2) ├\n",
      "«     ┌┴───────────┴┐│  Rxx(π/2) │┌─────────┐│           │└──────────┘\n",
      "«q_1: ┤ Rx(-5.6677) ├┤1          ├┤ Ry(π/4) ├┤  Rxx(π/2) ├────────────\n",
      "«     └─────────────┘└───────────┘└─────────┘│           │┌──────────┐\n",
      "«q_2: ───────────────────────────────────────┤1          ├┤ Ry(-π/4) ├\n",
      "«                                            └───────────┘└──────────┘\n"
     ]
    }
   ],
   "source": [
    "rxx_circ = QuantumCircuit(2, name=\"RXX\")\n",
    "rxx_circ.rxx(1.2, 0, 1)\n",
    "CRXX = rxx_circ.control(1)\n",
    "circ = QuantumCircuit(3)\n",
    "circ.compose(CRXX, [0, 1, 2], inplace=True)\n",
    "print(circ)\n",
    "tr_circ = transpile(circ, basis_gates=['cx', 'rx', 'ry'], optimization_level=3)\n",
    "tr_circ = transpile(tr_circ, basis_gates=['rxx', 'rx', 'ry'], optimization_level=3)\n",
    "print(tr_circ)\n"
   ]
  },
  {
   "cell_type": "code",
   "execution_count": 26,
   "metadata": {},
   "outputs": [
    {
     "name": "stdout",
     "output_type": "stream",
     "text": [
      "Quantum object: dims = [[2, 2, 2, 2, 2, 2, 2, 2], [2, 2, 2, 2, 2, 2, 2, 2]], shape = (256, 256), type = oper, isherm = True\n",
      "Qobj data =\n",
      "[[1. 0. 0. ... 0. 0. 0.]\n",
      " [0. 0. 0. ... 0. 0. 0.]\n",
      " [0. 0. 0. ... 0. 0. 0.]\n",
      " ...\n",
      " [0. 0. 0. ... 0. 0. 0.]\n",
      " [0. 0. 0. ... 0. 0. 0.]\n",
      " [0. 0. 0. ... 0. 0. 0.]]\n"
     ]
    },
    {
     "ename": "QiskitError",
     "evalue": "'Invalid input: not a vector or column-vector.'",
     "output_type": "error",
     "traceback": [
      "\u001b[0;31m---------------------------------------------------------------------------\u001b[0m",
      "\u001b[0;31mQiskitError\u001b[0m                               Traceback (most recent call last)",
      "Cell \u001b[0;32mIn[26], line 4\u001b[0m\n\u001b[1;32m      2\u001b[0m all_zero_ancillas_state \u001b[38;5;241m=\u001b[39m all_zero_ancillas_state \u001b[38;5;241m*\u001b[39m all_zero_ancillas_state\u001b[38;5;241m.\u001b[39mdag()\n\u001b[1;32m      3\u001b[0m \u001b[38;5;28mprint\u001b[39m(all_zero_ancillas_state)\n\u001b[0;32m----> 4\u001b[0m all_zero_ancillas_state \u001b[38;5;241m=\u001b[39m \u001b[43mStatevector\u001b[49m\u001b[43m(\u001b[49m\u001b[43mall_zero_ancillas_state\u001b[49m\u001b[38;5;241;43m.\u001b[39;49m\u001b[43mfull\u001b[49m\u001b[43m(\u001b[49m\u001b[43m)\u001b[49m\u001b[43m)\u001b[49m\n\u001b[1;32m      6\u001b[0m circ \u001b[38;5;241m=\u001b[39m QuantumCircuit(\u001b[38;5;241m8\u001b[39m)\n\u001b[1;32m      7\u001b[0m circ\u001b[38;5;241m.\u001b[39minitialize(all_zero_ancillas_state)\n",
      "File \u001b[0;32m~/miniforge3/envs/qiskit_env/lib/python3.11/site-packages/qiskit/quantum_info/states/statevector.py:103\u001b[0m, in \u001b[0;36mStatevector.__init__\u001b[0;34m(self, data, dims)\u001b[0m\n\u001b[1;32m    101\u001b[0m         shape \u001b[38;5;241m=\u001b[39m \u001b[38;5;28mself\u001b[39m\u001b[38;5;241m.\u001b[39m_data\u001b[38;5;241m.\u001b[39mshape\n\u001b[1;32m    102\u001b[0m     \u001b[38;5;28;01melif\u001b[39;00m ndim \u001b[38;5;241m!=\u001b[39m \u001b[38;5;241m2\u001b[39m \u001b[38;5;129;01mor\u001b[39;00m shape[\u001b[38;5;241m1\u001b[39m] \u001b[38;5;241m!=\u001b[39m \u001b[38;5;241m1\u001b[39m:\n\u001b[0;32m--> 103\u001b[0m         \u001b[38;5;28;01mraise\u001b[39;00m QiskitError(\u001b[38;5;124m\"\u001b[39m\u001b[38;5;124mInvalid input: not a vector or column-vector.\u001b[39m\u001b[38;5;124m\"\u001b[39m)\n\u001b[1;32m    104\u001b[0m \u001b[38;5;28msuper\u001b[39m()\u001b[38;5;241m.\u001b[39m\u001b[38;5;21m__init__\u001b[39m(op_shape\u001b[38;5;241m=\u001b[39mOpShape\u001b[38;5;241m.\u001b[39mauto(shape\u001b[38;5;241m=\u001b[39mshape, dims_l\u001b[38;5;241m=\u001b[39mdims, num_qubits_r\u001b[38;5;241m=\u001b[39m\u001b[38;5;241m0\u001b[39m))\n",
      "\u001b[0;31mQiskitError\u001b[0m: 'Invalid input: not a vector or column-vector.'"
     ]
    }
   ],
   "source": [
    "all_zero_ancillas_state = qt.tensor([qt.basis(2, 0)] * (2 + 6))\n",
    "all_zero_ancillas_state = all_zero_ancillas_state * all_zero_ancillas_state.dag()\n",
    "print(all_zero_ancillas_state)\n",
    "all_zero_ancillas_state = Statevector(all_zero_ancillas_state.full())\n",
    "\n",
    "circ = QuantumCircuit(8)\n",
    "circ.initialize(all_zero_ancillas_state)\n"
   ]
  },
  {
   "cell_type": "code",
   "execution_count": 5,
   "metadata": {},
   "outputs": [
    {
     "name": "stdout",
     "output_type": "stream",
     "text": [
      "[[1 2]\n",
      " [3 4]]\n",
      "[[1 2]\n",
      " [3 4]]\n"
     ]
    }
   ],
   "source": [
    "# jump_ops = [Operator(Pauli('X'))]\n",
    "# rand_jump = np.random.choice(jump_ops)\n",
    "import numpy as np\n",
    "\n",
    "# Assuming you have a list of numpy matrices called matrix_list\n",
    "# For example, let's say matrix_list contains 3 matrices\n",
    "matrix_list = [np.array([[1, 2], [3, 4]]), np.array([[5, 6], [7, 8]]), np.array([[9, 10], [11, 12]])]\n",
    "\n",
    "# Generate a random index to select a matrix from matrix_list\n",
    "random_index = np.random.randint(0, len(matrix_list))\n",
    "\n",
    "# Select the matrix using the random index\n",
    "random_matrix = matrix_list[random_index]\n",
    "\n",
    "print(random_matrix)\n",
    "\n",
    "print(random_matrix)"
   ]
  },
  {
   "cell_type": "code",
   "execution_count": 10,
   "metadata": {},
   "outputs": [
    {
     "name": "stdout",
     "output_type": "stream",
     "text": [
      "[  0   1   2   3   4   5   6   7   8   9  10  11  12  13  14  15  16  17\n",
      "  18  19  20  21  22  23  24  25  26  27  28  29  30  31 -32 -31 -30 -29\n",
      " -28 -27 -26 -25 -24 -23 -22 -21 -20 -19 -18 -17 -16 -15 -14 -13 -12 -11\n",
      " -10  -9  -8  -7  -6  -5  -4  -3  -2  -1]\n"
     ]
    },
    {
     "data": {
      "text/plain": [
       "[0,\n",
       " 1,\n",
       " 2,\n",
       " 3,\n",
       " 4,\n",
       " 5,\n",
       " 6,\n",
       " 7,\n",
       " 8,\n",
       " 9,\n",
       " 10,\n",
       " 11,\n",
       " 12,\n",
       " 13,\n",
       " 14,\n",
       " 15,\n",
       " 16,\n",
       " 17,\n",
       " 18,\n",
       " 19,\n",
       " 20,\n",
       " 21,\n",
       " 22,\n",
       " 23,\n",
       " 24,\n",
       " 25,\n",
       " 26,\n",
       " 27,\n",
       " 28,\n",
       " 29,\n",
       " 30,\n",
       " 31,\n",
       " -32,\n",
       " -31,\n",
       " -30,\n",
       " -29,\n",
       " -28,\n",
       " -27,\n",
       " -26,\n",
       " -25,\n",
       " -24,\n",
       " -23,\n",
       " -22,\n",
       " -21,\n",
       " -20,\n",
       " -19,\n",
       " -18,\n",
       " -17,\n",
       " -16,\n",
       " -15,\n",
       " -14,\n",
       " -13,\n",
       " -12,\n",
       " -11,\n",
       " -10,\n",
       " -9,\n",
       " -8,\n",
       " -7,\n",
       " -6,\n",
       " -5,\n",
       " -4,\n",
       " -3,\n",
       " -2,\n",
       " -1]"
      ]
     },
     "execution_count": 10,
     "metadata": {},
     "output_type": "execute_result"
    }
   ],
   "source": [
    "decimal_time_labels = list(range(2**(6 - 1)))\n",
    "decimal_time_labels.extend(list(range(- 2**(6 - 1), 0)))\n",
    "\n",
    "N_labels = np.arange(2**6 / 2, dtype=int)\n",
    "N_labels_neg = np.arange(- 2**6 / 2, 0, dtype=int)\n",
    "N_labels = np.concatenate((N_labels, N_labels_neg))\n",
    "print(N_labels)\n",
    "decimal_time_labels"
   ]
  },
  {
   "cell_type": "code",
   "execution_count": 40,
   "metadata": {},
   "outputs": [
    {
     "data": {
      "text/plain": [
       "array([0.        , 0.1125    , 0.151875  , 0.219375  , 0.28125   ,\n",
       "       0.343125  , 0.38753437, 0.45      ])"
      ]
     },
     "execution_count": 40,
     "metadata": {},
     "output_type": "execute_result"
    }
   ],
   "source": [
    "spectrum = np.array([-4,    -2, -1.3, -0.1,     1,  2.1,     2.8895,  4])\n",
    "eps = 0.1\n",
    "signed = False\n",
    "\"\"\"Rescale and shift to get spectrum in [0, 1] or [0, 1 - eps]\n",
    "\"\"\"\n",
    "# eigenenergies = np.linalg.eigvalsh(hamiltonian)\n",
    "# smallest_eigval = np.round(eigenenergies[0])\n",
    "smallest_eigval = spectrum[0]\n",
    "# largest_eigval = np.round(eigenenergies[-1])\n",
    "largest_eigval = spectrum[-1]\n",
    "\n",
    "# Rescaling factor and shift for [-0.5, 0.5]\n",
    "rescaling_factor = largest_eigval - smallest_eigval\n",
    "if eps == 0:\n",
    "    shift = -(largest_eigval + smallest_eigval) / (2 * rescaling_factor)\n",
    "    \n",
    "if eps != 0:\n",
    "    rescaling_factor *= 2/ (1 - eps) # [-0.5, 0.5 - eps]\n",
    "    shift = - (largest_eigval - smallest_eigval * eps) / (2 * (largest_eigval - smallest_eigval))\n",
    "# Centre spectrum around 0: \n",
    "\n",
    "if signed == False:  # shift to [0, 1]\n",
    "    shift += 0.5\n",
    "\n",
    "rescaled_spectrum = (spectrum) / rescaling_factor + shift\n",
    "rescaled_spectrum"
   ]
  },
  {
   "cell_type": "code",
   "execution_count": 134,
   "metadata": {},
   "outputs": [
    {
     "name": "stdout",
     "output_type": "stream",
     "text": [
      "[2, 3, 4, 5]\n",
      "[2, 3, 4, 5]\n",
      "Qiskit DM: (0.2499999999999998+0j)\n",
      "Statevector: (0.24999999999999994+0j)\n",
      "Partial trace: (0.24999999999999978+0j)\n",
      "Another partial trace: (0.24999999999999978+0j)\n"
     ]
    }
   ],
   "source": [
    "num_qubits = 4\n",
    "num_ancillas = 2\n",
    "qr_sys = QuantumRegister(num_qubits, 'sys')\n",
    "qr_anc = QuantumRegister(num_ancillas, 'anc')\n",
    "\n",
    "# np.random.seed(666)\n",
    "randstate_better = np.zeros(2**(num_qubits))\n",
    "randstate_better[np.random.choice(2**num_qubits, 2**num_qubits//2, replace=False)] = 1\n",
    "randstate_better /= np.linalg.norm(randstate_better)\n",
    "\n",
    "circ = QuantumCircuit(qr_anc, qr_sys)\n",
    "# random circuit\n",
    "circ.initialize(randstate_better, qr_sys)\n",
    "\n",
    "statevector = Statevector(circ).data\n",
    "\n",
    "dm = DensityMatrix(circ)\n",
    "\n",
    "I = qt.qeye(2)\n",
    "X = qt.sigmax()\n",
    "Y = qt.sigmay()\n",
    "Z = qt.sigmaz()\n",
    "\n",
    "tensor_list = pad_term([X, X], num_qubits=num_qubits, position=1)\n",
    "print(list(range(num_qubits+ num_ancillas))[num_ancillas:])\n",
    "print(list(range(num_ancillas, num_qubits+ num_ancillas)))\n",
    "\n",
    "op = (qt.tensor(tensor_list).full())\n",
    "padded_op = qt.tensor([qt.Qobj(op), qt.qeye(2**num_ancillas)])\n",
    "expval_qiskit_dm = dm.expectation_value(op, list(range(num_qubits+ num_ancillas))[num_ancillas:])\n",
    "expval = statevector.conj().T @ padded_op.full() @ statevector\n",
    "print('Qiskit DM:', expval_qiskit_dm)\n",
    "print('Statevector:', expval)\n",
    "\n",
    "sys_dm = partial_trace(dm, [0, 1])\n",
    "expval_from_partial_dm = np.trace(sys_dm.data @ op)\n",
    "print('Partial trace:', expval_from_partial_dm)\n",
    "\n",
    "another_expval_from_partial_dm = sys_dm.expectation_value(op)\n",
    "print('Another partial trace:', another_expval_from_partial_dm)"
   ]
  },
  {
   "cell_type": "code",
   "execution_count": 7,
   "metadata": {},
   "outputs": [
    {
     "data": {
      "text/plain": [
       "array([[1., 0., 0., ..., 0., 0., 0.],\n",
       "       [0., 1., 0., ..., 0., 0., 0.],\n",
       "       [0., 0., 1., ..., 0., 0., 0.],\n",
       "       ...,\n",
       "       [0., 0., 0., ..., 0., 0., 0.],\n",
       "       [0., 0., 0., ..., 0., 0., 0.],\n",
       "       [0., 0., 0., ..., 0., 0., 0.]])"
      ]
     },
     "execution_count": 7,
     "metadata": {},
     "output_type": "execute_result"
    }
   ],
   "source": [
    "num_energy_bits = 6\n",
    "num_qubits = 3\n",
    "zerozero = np.array([[1, 0], [0, 0]])\n",
    "padded_zerozero = np.kron(np.eye(2**num_qubits), zerozero)\n",
    "padded_zerozero = np.kron(padded_zerozero, np.eye(2**num_energy_bits))\n",
    "padded_zerozero"
   ]
  },
  {
   "cell_type": "code",
   "execution_count": 10,
   "metadata": {},
   "outputs": [
    {
     "data": {
      "text/plain": [
       "0.0"
      ]
     },
     "execution_count": 10,
     "metadata": {},
     "output_type": "execute_result"
    }
   ],
   "source": [
    "padded_tensor_list = [qt.Qobj(np.eye(2**num_qubits)), qt.Qobj(zerozero), qt.Qobj(np.eye(2**num_energy_bits))]\n",
    "qt_padded = qt.tensor(padded_tensor_list)\n",
    "\n",
    "dist = np.linalg.norm(qt_padded.full() - padded_zerozero)\n",
    "dist"
   ]
  },
  {
   "cell_type": "code",
   "execution_count": 23,
   "metadata": {},
   "outputs": [],
   "source": [
    "num_qubits = 5\n",
    "coeffs = [1.5, 1.2, 0.6, 0.9]\n",
    "theta = np.pi / (-0.5)\n",
    "\n",
    "inverse_trotter_step_circ = inverse_trotter_step_heisenberg(num_qubits, coeffs, symbreak=True)\n",
    "trotter_step_circ = trotter_step_heisenberg(num_qubits, coeffs, symbreak=True)\n",
    "# inverse_trotter_step_circ.assign_parameters([-theta], inplace=True)\n",
    "# trotter_step_circ.assign_parameters([theta], inplace=True)\n",
    "# prev_inverse_trotter_step_circ = trotter_step_heisenberg(num_qubits, coeffs, symbreak=True)\n",
    "# prev_inverse_trotter_step_circ.assign_parameters([-theta], inplace=True)\n",
    "\n",
    "# prev_inverse_op = Operator(prev_inverse_trotter_step_circ)\n",
    "# inverse_op = Operator(inverse_trotter_step_circ)\n",
    "# op = Operator(trotter_step_circ)\n",
    "\n",
    "# distance_to_id = np.linalg.norm(op.data @ inverse_op.data - np.eye(2**num_qubits))\n",
    "# print(f'Distance with inverse Trotter: {distance_to_id}')\n",
    "# distance_to_id_prev = np.linalg.norm(op.data @ prev_inverse_op.data - np.eye(2**num_qubits))\n",
    "# print(f'Distance prev: {distance_to_id_prev}')\n"
   ]
  },
  {
   "cell_type": "code",
   "execution_count": 24,
   "metadata": {},
   "outputs": [],
   "source": [
    "num_trotter_steps = 10\n",
    "T = 1\n",
    "total_time = 2 * np.pi * T\n",
    "U = ham_evol(num_qubits, trotter_step=trotter_step_circ, num_trotter_steps=num_trotter_steps, time=total_time)\n",
    "U_dag = ham_evol(num_qubits, trotter_step=inverse_trotter_step_circ, num_trotter_steps=num_trotter_steps, time=-total_time)\n",
    "U_op = Operator(U)\n",
    "U_dag_op = Operator(U_dag)"
   ]
  },
  {
   "cell_type": "code",
   "execution_count": 26,
   "metadata": {},
   "outputs": [
    {
     "name": "stdout",
     "output_type": "stream",
     "text": [
      "Distance with evolution: 3.2289662155096717e-14\n"
     ]
    }
   ],
   "source": [
    "dist_to_id_evol = np.linalg.norm(U_op.data @ U_dag_op.data - np.eye(2**num_qubits))\n",
    "print(f'Distance with evolution: {dist_to_id_evol}')"
   ]
  },
  {
   "cell_type": "code",
   "execution_count": 5,
   "metadata": {},
   "outputs": [
    {
     "name": "stdout",
     "output_type": "stream",
     "text": [
      "{'001001': 471, '111001': 216, '111011': 136, '001011': 130, '000111': 42, '110111': 3, '010111': 1, '010101': 1}\n",
      "{'1': 1000}\n"
     ]
    }
   ],
   "source": [
    "num_energy_bits = 6\n",
    "cr_energy = ClassicalRegister(num_energy_bits, name='cr_energy')\n",
    "cr_boltzmann = ClassicalRegister(1, name='cr_boltz')\n",
    "bithandler = BitHandler([cr_energy, cr_boltzmann])\n",
    "\n",
    "counts = {'100100 1': 471, '111100 1': 216, '111101 1': 136, '100101 1': 130, '100011 1': 42, '111011 1': 3, '101011 1': 1, '101010 1': 1}\n",
    "bithandler.measured_counts = counts\n",
    "energy_counts = bithandler.get_counts_for_creg(cr_energy)\n",
    "print(energy_counts)\n",
    "boltzmann_counts = bithandler.get_counts_for_creg(cr_boltzmann)\n",
    "print(boltzmann_counts)\n",
    "# phase_bits = list(energy_counts.keys())[0] # take the most often obtaned result\n",
    "# phase_bits_shots = energy_counts[phase_bits]"
   ]
  },
  {
   "cell_type": "code",
   "execution_count": 3,
   "metadata": {},
   "outputs": [
    {
     "name": "stdout",
     "output_type": "stream",
     "text": [
      "{'1010': 360, '1001': 212, '1111': 196, '0000': 108, '1011': 20}\n"
     ]
    }
   ],
   "source": [
    "num_energy_bits = 4\n",
    "cr_energy = ClassicalRegister(num_energy_bits, name='w')\n",
    "cr_boltzmann = ClassicalRegister(1, name='b')\n",
    "bithandler = BitHandler([cr_boltzmann, cr_energy])\n",
    "\n",
    "counts = {'1010 0': 298, '1001 1': 212, '1111 1': 177, '0000 0': 108, '1010 1': 62, '1011 0': 20, '1111 0': 19}\n",
    "bithandler.measured_counts = counts\n",
    "counts_for_energy = bithandler.get_counts_for_crreg(cr_energy)\n",
    "print(counts_for_energy)"
   ]
  },
  {
   "cell_type": "code",
   "execution_count": 17,
   "metadata": {},
   "outputs": [
    {
     "name": "stdout",
     "output_type": "stream",
     "text": [
      "Coeffs used: [1, 1, 1, 1] for spectrum [-8.41480675e+00 -8.01149686e+00 -7.45710970e+00 -6.56278848e+00\n",
      " -4.82842712e+00 -3.76446278e+00 -3.46410162e+00 -3.10903996e+00\n",
      " -2.56016642e+00 -2.48908833e+00 -1.72700584e+00 -1.54375254e+00\n",
      " -1.12310563e+00 -3.68457240e-01 -7.30967063e-16 -6.65773340e-16\n",
      "  8.28427125e-01  9.50705136e-01  1.02497194e+00  1.68545843e+00\n",
      "  1.85582806e+00  2.00000000e+00  2.57314158e+00  3.08156908e+00\n",
      "  3.46410162e+00  3.87693371e+00  4.00000000e+00  4.00000000e+00\n",
      "  4.84875524e+00  6.11081172e+00  7.12310563e+00  8.00000000e+00]\n",
      "Energy to predict -1.727005838385661\n",
      "[[-1.72700584+0.j]]\n",
      "-1.7270058383856617\n"
     ]
    }
   ],
   "source": [
    "num_qubits = 5\n",
    "X_qt = qt.sigmax()\n",
    "Y_qt = qt.sigmay()\n",
    "Z_qt = qt.sigmaz()\n",
    "coeffs = [1, 1, 1, 1]\n",
    "hamiltonian_qt = hamiltonian_matrix([X_qt, X_qt], [Y_qt, Y_qt], [Z_qt, Z_qt], coeffs=coeffs, num_qubits=num_qubits, symbreak_term=[Z_qt])\n",
    "spectrum, eigenstates = np.linalg.eigh(hamiltonian_qt)\n",
    "print(f'Coeffs used: {coeffs} for spectrum {spectrum}')\n",
    "eig_index = 10\n",
    "eigenstate = eigenstates[:, eig_index]  #! \n",
    "exact_energy = spectrum[eig_index]\n",
    "print(f'Energy to predict {exact_energy}')\n",
    "\n",
    "expval = eigenstate.conj().T @ hamiltonian_qt @ eigenstate\n",
    "print(expval)\n",
    "\n",
    "expval_qt = qt.expect(qt.Qobj(hamiltonian_qt), qt.Qobj(eigenstate))\n",
    "print(expval_qt)\n",
    "\n"
   ]
  },
  {
   "cell_type": "code",
   "execution_count": 15,
   "metadata": {},
   "outputs": [
    {
     "name": "stdout",
     "output_type": "stream",
     "text": [
      "[[ 5  6 10 12]\n",
      " [ 7  8 14 16]\n",
      " [15 18 20 24]\n",
      " [21 24 28 32]]\n",
      "[[ 5  6 10 12]\n",
      " [ 7  8 14 16]\n",
      " [15 18 20 24]\n",
      " [21 24 28 32]]\n",
      "[[1 0 0 0]\n",
      " [0 1 0 0]\n",
      " [0 0 1 0]\n",
      " [0 0 0 1]]\n",
      "[[1 0 0 0]\n",
      " [0 1 0 0]\n",
      " [0 0 1 0]\n",
      " [0 0 0 1]]\n"
     ]
    }
   ],
   "source": [
    "import numpy as np\n",
    "\n",
    "# Define two matrices A and B\n",
    "A = np.array([[1, 2], [3, 4]])\n",
    "B = np.array([[5, 6], [7, 8]])\n",
    "a = np.array([[1, 0], [0, 1]])\n",
    "b = a\n",
    "\n",
    "# Compute the Kronecker product\n",
    "result = np.kron(A, B)\n",
    "res = np.kron(a, b)\n",
    "result2 = np.tensordot(A, B, axes=0)\n",
    "res2 = np.tensordot(a, b, axes=0)\n",
    "\n",
    "# Compute the tensor product using np.einsum\n",
    "result3 = np.einsum('ij,kl->ikjl', A, B).reshape(A.shape[0] * B.shape[0], A.shape[1] * B.shape[1])\n",
    "res3 = np.einsum('ij,kl->ikjl', a, b).reshape(a.shape[0] * b.shape[0], a.shape[1] * b.shape[1])\n",
    "print(result)\n",
    "# print(result2.reshape(4, 4))\n",
    "print(result3)\n",
    "\n",
    "print(res)\n",
    "# print(res2.reshape(4, 4))\n",
    "print(res3)"
   ]
  },
  {
   "cell_type": "code",
   "execution_count": 5,
   "metadata": {},
   "outputs": [
    {
     "name": "stdout",
     "output_type": "stream",
     "text": [
      "global phase: 2\n",
      "     ┌───┐\n",
      "q_0: ┤ H ├\n",
      "     ├───┤\n",
      "q_1: ┤ H ├\n",
      "     ├───┤\n",
      "q_2: ┤ H ├\n",
      "     └───┘\n",
      "q_3: ─────\n",
      "          \n"
     ]
    }
   ],
   "source": [
    "circ = QuantumCircuit(3)\n",
    "circ.h(range(3))\n",
    "circ.global_phase = 2\n",
    "big_circ = QuantumCircuit(4)\n",
    "big_circ.compose(circ, range(3), inplace=True)\n",
    "\n",
    "print(big_circ)\n",
    "\n",
    "add_phase = [[]]"
   ]
  },
  {
   "cell_type": "code",
   "execution_count": 18,
   "metadata": {},
   "outputs": [
    {
     "data": {
      "text/plain": [
       "'-0b101'"
      ]
     },
     "execution_count": 18,
     "metadata": {},
     "output_type": "execute_result"
    }
   ],
   "source": [
    "bin(-5)"
   ]
  },
  {
   "cell_type": "code",
   "execution_count": 4,
   "metadata": {},
   "outputs": [
    {
     "name": "stdout",
     "output_type": "stream",
     "text": [
      "[-9.11961148e+00 -9.11961148e+00 -6.47213595e+00 -6.47213595e+00\n",
      " -4.47213595e+00 -4.47213595e+00 -4.38516481e+00 -3.33653707e+00\n",
      " -3.33653707e+00 -3.23606798e+00 -3.23606798e+00 -2.60555128e+00\n",
      " -1.00895946e-15 -3.40718886e-16  6.80517146e-16  9.91538347e-16\n",
      "  1.23606798e+00  1.23606798e+00  2.47213595e+00  2.47213595e+00\n",
      "  2.57260505e+00  2.57260505e+00  2.76393202e+00  2.76393202e+00\n",
      "  3.88354350e+00  3.88354350e+00  4.47213595e+00  4.47213595e+00\n",
      "  4.60555128e+00  6.38516481e+00  7.23606798e+00  7.23606798e+00]\n",
      "[-1.47665609e-06 -1.47665607e-06  2.64747405e+00  2.64747405e+00\n",
      "  4.64747405e+00  4.64747405e+00  4.73444519e+00  5.78307293e+00\n",
      "  5.78307293e+00  5.88354202e+00  5.88354202e+00  6.51405872e+00\n",
      "  9.11961000e+00  9.11961000e+00  9.11961000e+00  9.11961000e+00\n",
      "  1.03556780e+01  1.03556780e+01  1.15917460e+01  1.15917460e+01\n",
      "  1.16922151e+01  1.16922151e+01  1.18835420e+01  1.18835420e+01\n",
      "  1.30031535e+01  1.30031535e+01  1.35917460e+01  1.35917460e+01\n",
      "  1.37251613e+01  1.55047748e+01  1.63556780e+01  1.63556780e+01]\n",
      "[False False  True  True  True  True  True  True  True  True  True  True\n",
      "  True  True  True  True  True  True  True  True  True  True  True  True\n",
      "  True  True  True  True  True  True  True  True]\n",
      "0\n",
      "[QuantumRegister(5, 'sys')]\n"
     ]
    },
    {
     "data": {
      "text/plain": [
       "5.0"
      ]
     },
     "execution_count": 4,
     "metadata": {},
     "output_type": "execute_result"
    }
   ],
   "source": [
    "X = qt.sigmax()\n",
    "Y = qt.sigmay()\n",
    "Z = qt.sigmaz()\n",
    "\n",
    "num_qubits = 5\n",
    "H = hamiltonian_matrix([X, X], [Y, Y], [Z, Z], [X, Z, Z], num_qubits=num_qubits)\n",
    "eigvals = np.linalg.eigvalsh(H)\n",
    "print(eigvals)\n",
    "shifted_H = shift_spectrum(H)\n",
    "shifted_eigvals = np.linalg.eigvalsh(shifted_H)\n",
    "print(shifted_eigvals)\n",
    "\n",
    "print(np.isclose(eigvals + np.abs(eigvals[0]), shifted_eigvals))\n",
    "\n",
    "qr0 = QuantumRegister(1, 'qr0')\n",
    "qr1 = QuantumRegister(2, 'qr1')\n",
    "qrsys = QuantumRegister(num_qubits, 'sys')\n",
    "qr3 = QuantumRegister(4, 'q3')\n",
    "qr_r = QuantumRegister(3, 'qr_r')\n",
    "\n",
    "circ = QuantumCircuit(qrsys)\n",
    "qr_index = circ.qregs.index(qrsys)\n",
    "print(qr_index)\n",
    "\n",
    "print(circ.qregs)\n",
    "\n",
    "\n",
    "energy = energy_from_full_state(circ, H, subspace_qubits=[qrsys], qr_index=qr_index)\n",
    "energy"
   ]
  },
  {
   "cell_type": "code",
   "execution_count": 4,
   "metadata": {},
   "outputs": [
    {
     "name": "stdout",
     "output_type": "stream",
     "text": [
      "Quantum object: dims = [[1, 2], [1, 2]], shape = (2, 2), type = oper, isherm = True\n",
      "Qobj data =\n",
      "[[1. 0.]\n",
      " [0. 1.]]\n"
     ]
    }
   ],
   "source": [
    "full_obs = qt.qeye(1)\n",
    "full_obs = qt.tensor([full_obs, qt.qeye(2)])\n",
    "print(full_obs)"
   ]
  },
  {
   "cell_type": "code",
   "execution_count": 2,
   "metadata": {},
   "outputs": [
    {
     "name": "stdout",
     "output_type": "stream",
     "text": [
      "[-8, -7, -6, -5, -4, -3, -2, -1, 0, 1, 2, 3, 4, 5, 6, 7]\n",
      "[0, 1, 2, 3, 4, 5, 6, 7, -8, -7, -6, -5, -4, -3, -2, -1]\n",
      "[9.58758528e-01 2.00966705e-01 1.85083937e-03 7.48933209e-07\n",
      " 1.33151846e-11 1.04011424e-17 3.56980615e-25 5.38316844e-34\n",
      " 3.56665457e-44 5.38316844e-34 3.56980615e-25 1.04011424e-17\n",
      " 1.33151846e-11 7.48933209e-07 1.85083937e-03 2.00966705e-01]\n"
     ]
    },
    {
     "data": {
      "text/plain": [
       "<matplotlib.collections.PathCollection at 0x1272b1250>"
      ]
     },
     "execution_count": 2,
     "metadata": {},
     "output_type": "execute_result"
    },
    {
     "data": {
      "image/png": "[encoded data removed]",
      "text/plain": [
       "<Figure size 640x480 with 1 Axes>"
      ]
     },
     "metadata": {},
     "output_type": "display_data"
    }
   ],
   "source": [
    "num_energy_bits = 4\n",
    "sigma = num_energy_bits / 10\n",
    "decimal_time_labels = list(range(- 2 ** (num_energy_bits - 1), 2 ** (num_energy_bits - 1)))\n",
    "print(decimal_time_labels)\n",
    "\n",
    "decimal_time_labels2 = list(range(2**(num_energy_bits - 1)))\n",
    "decimal_time_labels2.extend(list(range(- 2**(num_energy_bits - 1), 0)))\n",
    "print(decimal_time_labels2)\n",
    "\n",
    "gauss_amplitude = lambda decimal_time: np.exp(-(decimal_time ** 2) / (4 * sigma ** 2))\n",
    "amplitudes = [gauss_amplitude(decimal_time) for decimal_time in decimal_time_labels]\n",
    "amplitudes /= np.linalg.norm(amplitudes)\n",
    "amplitudes2 = [gauss_amplitude(decimal_time) for decimal_time in decimal_time_labels2]\n",
    "amplitudes2 /= np.linalg.norm(amplitudes2)\n",
    "print(amplitudes2)\n",
    "# plot amplitudes, amplitudes2 as dots\n",
    "# plt.scatter(decimal_time_labels, amplitudes)\n",
    "plt.scatter(decimal_time_labels2, amplitudes2)\n",
    "\n"
   ]
  },
  {
   "cell_type": "code",
   "execution_count": null,
   "metadata": {},
   "outputs": [],
   "source": []
  }
 ],
 "metadata": {
  "kernelspec": {
   "display_name": "qiskit_env",
   "language": "python",
   "name": "python3"
  },
  "language_info": {
   "codemirror_mode": {
    "name": "ipython",
    "version": 3
   },
   "file_extension": ".py",
   "mimetype": "text/x-python",
   "name": "python",
   "nbconvert_exporter": "python",
   "pygments_lexer": "ipython3",
   "version": "3.12.2"
  }
 },
 "nbformat": 4,
 "nbformat_minor": 2
}
