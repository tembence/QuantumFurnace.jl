{
 "cells": [
  {
   "cell_type": "code",
   "execution_count": 1,
   "metadata": {},
   "outputs": [],
   "source": [
    "import numpy as np\n",
    "import qutip as qt\n",
    "from scipy.linalg import logm, expm\n",
    "from qiskit import QuantumCircuit, QuantumRegister, ClassicalRegister, transpile\n",
    "from qiskit.quantum_info import Statevector\n",
    "from qiskit_aer import Aer\n",
    "import matplotlib.pyplot as plt\n",
    "from qiskit.circuit.library import QFT\n",
    "\n",
    "\n",
    "import sys\n",
    "sys.path.append('/Users/bence/code/liouvillian_metro/')\n",
    "\n",
    "from unitary.op_fourier_trafo_unitary import brute_prepare_gaussian_state"
   ]
  },
  {
   "cell_type": "code",
   "execution_count": 2,
   "metadata": {},
   "outputs": [],
   "source": [
    "def signed_order_counts(counts: dict, num_energy_bits: int) -> dict:\n",
    "    bitstrings_pos = [bin(i)[2:].zfill(num_energy_bits - 1) for i in range(2**(num_energy_bits - 1))]\n",
    "    bitstrings_pos = ['0' + bitstring for bitstring in bitstrings_pos]\n",
    "    bitstrings_neg = [bin(i)[2:].zfill(num_energy_bits - 1) for i in range(2**(num_energy_bits - 1))]\n",
    "    bitstrings_neg = ['1' + bitstring for bitstring in bitstrings_neg]\n",
    "    bitstrings_ordered = bitstrings_neg + bitstrings_pos\n",
    "    for bitstring in bitstrings_ordered:\n",
    "        if bitstring not in counts.keys():\n",
    "            counts[bitstring] = 0\n",
    "    counts_ordered = {bitstrings_ordered[i]: counts[bitstrings_ordered[i]] \n",
    "                    for i in range(len(bitstrings_ordered)) if bitstrings_ordered[i] in counts.keys()}\n",
    "    return counts_ordered"
   ]
  },
  {
   "cell_type": "markdown",
   "metadata": {},
   "source": [
    "### Normal Gauss"
   ]
  },
  {
   "cell_type": "code",
   "execution_count": 19,
   "metadata": {},
   "outputs": [],
   "source": [
    "sigma = 5\n",
    "num_energy_bits = 12\n",
    "N = 2**num_energy_bits\n",
    "\n",
    "N_labels = np.arange(N / 2, dtype=int)\n",
    "N_labels_neg = np.arange(- N / 2, 0, dtype=int)\n",
    "N_labels = np.concatenate((N_labels, N_labels_neg))\n",
    "time_labels = N_labels\n",
    "energy_labels = 2 * np.pi * N_labels / N"
   ]
  },
  {
   "cell_type": "code",
   "execution_count": 11,
   "metadata": {},
   "outputs": [
    {
     "name": "stderr",
     "output_type": "stream",
     "text": [
      "/Users/bence/miniforge3/envs/qiskit_1_env/lib/python3.12/site-packages/numpy/linalg/linalg.py:2180: RuntimeWarning: divide by zero encountered in det\n",
      "  r = _umath_linalg.det(a, signature=signature)\n",
      "/Users/bence/miniforge3/envs/qiskit_1_env/lib/python3.12/site-packages/numpy/linalg/linalg.py:2180: RuntimeWarning: invalid value encountered in det\n",
      "  r = _umath_linalg.det(a, signature=signature)\n"
     ]
    },
    {
     "ename": "KeyboardInterrupt",
     "evalue": "",
     "output_type": "error",
     "traceback": [
      "\u001b[0;31m---------------------------------------------------------------------------\u001b[0m",
      "\u001b[0;31mKeyboardInterrupt\u001b[0m                         Traceback (most recent call last)",
      "Cell \u001b[0;32mIn[11], line 23\u001b[0m\n\u001b[1;32m     21\u001b[0m shots \u001b[38;5;241m=\u001b[39m \u001b[38;5;241m10000\u001b[39m\n\u001b[1;32m     22\u001b[0m job \u001b[38;5;241m=\u001b[39m simulator\u001b[38;5;241m.\u001b[39mrun(tr_circ, shots\u001b[38;5;241m=\u001b[39mshots)\n\u001b[0;32m---> 23\u001b[0m counts \u001b[38;5;241m=\u001b[39m \u001b[43mjob\u001b[49m\u001b[38;5;241;43m.\u001b[39;49m\u001b[43mresult\u001b[49m\u001b[43m(\u001b[49m\u001b[43m)\u001b[49m\u001b[38;5;241m.\u001b[39mget_counts()\n\u001b[1;32m     24\u001b[0m counts_ordered \u001b[38;5;241m=\u001b[39m signed_order_counts(counts, num_energy_bits)\n\u001b[1;32m     26\u001b[0m plt\u001b[38;5;241m.\u001b[39mfigure(figsize\u001b[38;5;241m=\u001b[39m(\u001b[38;5;241m10\u001b[39m,\u001b[38;5;241m6\u001b[39m))\n",
      "File \u001b[0;32m~/miniforge3/envs/qiskit_1_env/lib/python3.12/site-packages/qiskit_aer/jobs/utils.py:42\u001b[0m, in \u001b[0;36mrequires_submit.<locals>._wrapper\u001b[0;34m(self, *args, **kwargs)\u001b[0m\n\u001b[1;32m     40\u001b[0m \u001b[38;5;28;01mif\u001b[39;00m \u001b[38;5;28mself\u001b[39m\u001b[38;5;241m.\u001b[39m_future \u001b[38;5;129;01mis\u001b[39;00m \u001b[38;5;28;01mNone\u001b[39;00m:\n\u001b[1;32m     41\u001b[0m     \u001b[38;5;28;01mraise\u001b[39;00m JobError(\u001b[38;5;124m\"\u001b[39m\u001b[38;5;124mJob not submitted yet!. You have to .submit() first!\u001b[39m\u001b[38;5;124m\"\u001b[39m)\n\u001b[0;32m---> 42\u001b[0m \u001b[38;5;28;01mreturn\u001b[39;00m \u001b[43mfunc\u001b[49m\u001b[43m(\u001b[49m\u001b[38;5;28;43mself\u001b[39;49m\u001b[43m,\u001b[49m\u001b[43m \u001b[49m\u001b[38;5;241;43m*\u001b[39;49m\u001b[43margs\u001b[49m\u001b[43m,\u001b[49m\u001b[43m \u001b[49m\u001b[38;5;241;43m*\u001b[39;49m\u001b[38;5;241;43m*\u001b[39;49m\u001b[43mkwargs\u001b[49m\u001b[43m)\u001b[49m\n",
      "File \u001b[0;32m~/miniforge3/envs/qiskit_1_env/lib/python3.12/site-packages/qiskit_aer/jobs/aerjob.py:114\u001b[0m, in \u001b[0;36mAerJob.result\u001b[0;34m(self, timeout)\u001b[0m\n\u001b[1;32m     96\u001b[0m \u001b[38;5;129m@requires_submit\u001b[39m\n\u001b[1;32m     97\u001b[0m \u001b[38;5;28;01mdef\u001b[39;00m \u001b[38;5;21mresult\u001b[39m(\u001b[38;5;28mself\u001b[39m, timeout\u001b[38;5;241m=\u001b[39m\u001b[38;5;28;01mNone\u001b[39;00m):\n\u001b[1;32m     98\u001b[0m     \u001b[38;5;66;03m# pylint: disable=arguments-differ\u001b[39;00m\n\u001b[1;32m     99\u001b[0m \u001b[38;5;250m    \u001b[39m\u001b[38;5;124;03m\"\"\"Get job result. The behavior is the same as the underlying\u001b[39;00m\n\u001b[1;32m    100\u001b[0m \u001b[38;5;124;03m    concurrent Future objects,\u001b[39;00m\n\u001b[1;32m    101\u001b[0m \n\u001b[0;32m   (...)\u001b[0m\n\u001b[1;32m    112\u001b[0m \u001b[38;5;124;03m        concurrent.futures.CancelledError: if job cancelled before completed.\u001b[39;00m\n\u001b[1;32m    113\u001b[0m \u001b[38;5;124;03m    \"\"\"\u001b[39;00m\n\u001b[0;32m--> 114\u001b[0m     \u001b[38;5;28;01mreturn\u001b[39;00m \u001b[38;5;28;43mself\u001b[39;49m\u001b[38;5;241;43m.\u001b[39;49m\u001b[43m_future\u001b[49m\u001b[38;5;241;43m.\u001b[39;49m\u001b[43mresult\u001b[49m\u001b[43m(\u001b[49m\u001b[43mtimeout\u001b[49m\u001b[38;5;241;43m=\u001b[39;49m\u001b[43mtimeout\u001b[49m\u001b[43m)\u001b[49m\n",
      "File \u001b[0;32m~/miniforge3/envs/qiskit_1_env/lib/python3.12/concurrent/futures/_base.py:451\u001b[0m, in \u001b[0;36mFuture.result\u001b[0;34m(self, timeout)\u001b[0m\n\u001b[1;32m    448\u001b[0m \u001b[38;5;28;01melif\u001b[39;00m \u001b[38;5;28mself\u001b[39m\u001b[38;5;241m.\u001b[39m_state \u001b[38;5;241m==\u001b[39m FINISHED:\n\u001b[1;32m    449\u001b[0m     \u001b[38;5;28;01mreturn\u001b[39;00m \u001b[38;5;28mself\u001b[39m\u001b[38;5;241m.\u001b[39m__get_result()\n\u001b[0;32m--> 451\u001b[0m \u001b[38;5;28;43mself\u001b[39;49m\u001b[38;5;241;43m.\u001b[39;49m\u001b[43m_condition\u001b[49m\u001b[38;5;241;43m.\u001b[39;49m\u001b[43mwait\u001b[49m\u001b[43m(\u001b[49m\u001b[43mtimeout\u001b[49m\u001b[43m)\u001b[49m\n\u001b[1;32m    453\u001b[0m \u001b[38;5;28;01mif\u001b[39;00m \u001b[38;5;28mself\u001b[39m\u001b[38;5;241m.\u001b[39m_state \u001b[38;5;129;01min\u001b[39;00m [CANCELLED, CANCELLED_AND_NOTIFIED]:\n\u001b[1;32m    454\u001b[0m     \u001b[38;5;28;01mraise\u001b[39;00m CancelledError()\n",
      "File \u001b[0;32m~/miniforge3/envs/qiskit_1_env/lib/python3.12/threading.py:355\u001b[0m, in \u001b[0;36mCondition.wait\u001b[0;34m(self, timeout)\u001b[0m\n\u001b[1;32m    353\u001b[0m \u001b[38;5;28;01mtry\u001b[39;00m:    \u001b[38;5;66;03m# restore state no matter what (e.g., KeyboardInterrupt)\u001b[39;00m\n\u001b[1;32m    354\u001b[0m     \u001b[38;5;28;01mif\u001b[39;00m timeout \u001b[38;5;129;01mis\u001b[39;00m \u001b[38;5;28;01mNone\u001b[39;00m:\n\u001b[0;32m--> 355\u001b[0m         \u001b[43mwaiter\u001b[49m\u001b[38;5;241;43m.\u001b[39;49m\u001b[43macquire\u001b[49m\u001b[43m(\u001b[49m\u001b[43m)\u001b[49m\n\u001b[1;32m    356\u001b[0m         gotit \u001b[38;5;241m=\u001b[39m \u001b[38;5;28;01mTrue\u001b[39;00m\n\u001b[1;32m    357\u001b[0m     \u001b[38;5;28;01melse\u001b[39;00m:\n",
      "\u001b[0;31mKeyboardInterrupt\u001b[0m: "
     ]
    }
   ],
   "source": [
    "\n",
    "\n",
    "qr_energy = QuantumRegister(num_energy_bits, name=\"qr_w\")\n",
    "cr_energy = ClassicalRegister(num_energy_bits, name=\"cr_w\")\n",
    "circ = QuantumCircuit(qr_energy, cr_energy)\n",
    "gauss = brute_prepare_gaussian_state(num_energy_bits, sigma)\n",
    "\n",
    "circ.compose(gauss, qr_energy, inplace=True)\n",
    "circ.measure(qr_energy, cr_energy)\n",
    "tr_circ = transpile(circ, basis_gates=['u', 'cx'], optimization_level=3)\n",
    "\n",
    "simulator = Aer.get_backend('statevector_simulator')\n",
    "shots = 10000\n",
    "job = simulator.run(tr_circ, shots=shots)\n",
    "counts = job.result().get_counts()\n",
    "counts_ordered = signed_order_counts(counts, num_energy_bits)\n",
    "\n",
    "plt.figure(figsize=(10,6))\n",
    "plt.bar(counts_ordered.keys(), counts_ordered.values())"
   ]
  },
  {
   "cell_type": "markdown",
   "metadata": {},
   "source": [
    "Note, that this is practically already a truncateed Gaussian, and there isn't really any tail here far away. But mathematically, it seems to be important to use some STD and a truncations instead of using a smaller STD. But that then resembles to a rectangle, making the Gaussian less of a Gaussian no?"
   ]
  },
  {
   "cell_type": "markdown",
   "metadata": {},
   "source": [
    "### Fourier trafod Gauss"
   ]
  },
  {
   "cell_type": "code",
   "execution_count": 4,
   "metadata": {},
   "outputs": [
    {
     "data": {
      "text/plain": [
       "<BarContainer object of 64 artists>"
      ]
     },
     "execution_count": 4,
     "metadata": {},
     "output_type": "execute_result"
    },
    {
     "data": {
      "image/png": "[encoded data removed]",
      "text/plain": [
       "<Figure size 1000x600 with 1 Axes>"
      ]
     },
     "metadata": {},
     "output_type": "display_data"
    }
   ],
   "source": [
    "def discrete_fourier_trafo():\n",
    "    ...\n",
    "    \n",
    "DFT_gauss_amplitudes = lambda energy: np.sqrt(sigma * np.sqrt(2 * np.pi)) * np.exp(- sigma**2 * energy**2)\n",
    "dft_amplitudes = []\n",
    "for energy in energy_labels:\n",
    "    dft_amplitudes.append(DFT_gauss_amplitudes(energy))\n",
    "    \n",
    "dft_amplitudes /= np.linalg.norm(dft_amplitudes)\n",
    "\n",
    "dft_prep_circ = QuantumCircuit(num_energy_bits, name=\"gauss\")\n",
    "dft_prep_circ.initialize(dft_amplitudes, range(num_energy_bits))\n",
    "\n",
    "qr_energy = QuantumRegister(num_energy_bits, name=\"qr_w\")\n",
    "cr_energy = ClassicalRegister(num_energy_bits, name=\"cr_w\")\n",
    "circ = QuantumCircuit(qr_energy, cr_energy)\n",
    "\n",
    "circ.compose(dft_prep_circ, qr_energy, inplace=True)\n",
    "circ.measure(qr_energy, cr_energy)\n",
    "tr_circ = transpile(circ, basis_gates=['u', 'cx'], optimization_level=3)\n",
    "\n",
    "simulator = Aer.get_backend('statevector_simulator')\n",
    "shots = 10000\n",
    "job = simulator.run(tr_circ, shots=shots)\n",
    "counts = job.result().get_counts()\n",
    "counts_ordered = signed_order_counts(counts, num_energy_bits)\n",
    "\n",
    "plt.figure(figsize=(10,6))\n",
    "plt.bar(counts_ordered.keys(), counts_ordered.values())\n"
   ]
  },
  {
   "cell_type": "markdown",
   "metadata": {},
   "source": [
    "### What Qiskit QFT does"
   ]
  },
  {
   "cell_type": "code",
   "execution_count": 32,
   "metadata": {},
   "outputs": [
    {
     "name": "stdout",
     "output_type": "stream",
     "text": [
      "Distance between circuit QFT and expected QFT of Gaussian: 1.1058651126469291e-15\n"
     ]
    }
   ],
   "source": [
    "qr_energy = QuantumRegister(num_energy_bits, name=\"qr_w\")\n",
    "cr_energy = ClassicalRegister(num_energy_bits, name=\"cr_w\")\n",
    "circ = QuantumCircuit(qr_energy, cr_energy)\n",
    "gauss = brute_prepare_gaussian_state(num_energy_bits, sigma)\n",
    "qft = QFT(num_energy_bits, do_swaps=True, inverse=True)\n",
    "\n",
    "circ.compose(gauss, qr_energy, inplace=True)\n",
    "circ.compose(qft, qr_energy, inplace=True)\n",
    "circ_state = Statevector(circ).data\n",
    "\n",
    "\n",
    "ft_gauss = lambda energy: np.exp(-sigma**2 * energy**2)\n",
    "ft_gauss_amplitudes = np.array([ft_gauss(energy) for energy in energy_labels])  # Binary ordered\n",
    "ft_gauss_normalization = np.linalg.norm(ft_gauss_amplitudes)\n",
    "ft_gauss_amplitudes /= ft_gauss_normalization\n",
    "# ft_gauss_amplitudes /= (2 * sigma * np.sqrt(np.pi)/ np.sqrt(N))  #! Failed finding the correct normalization by hand\n",
    "\n",
    "# Compare\n",
    "dist_gauss = np.linalg.norm(circ_state - ft_gauss_amplitudes)\n",
    "print(f'Distance between circuit QFT and expected QFT of Gaussian: {dist_gauss}')\n"
   ]
  },
  {
   "cell_type": "code",
   "execution_count": 33,
   "metadata": {},
   "outputs": [
    {
     "name": "stdout",
     "output_type": "stream",
     "text": [
      "[0.0782285  0.0782239  0.07821009 ... 0.07818709 0.07821009 0.0782239 ]\n",
      "[   0    1    2    3    4    5    6    7    8    9   10   11   12   13\n",
      "   14   15   16   17   18   19   20   21   22   23   24   25   26   27\n",
      "   28   29   30   31   32   33   34   35   36   37   38   39   40   41\n",
      "   42   43   44   45   46   47   48   49   50   51   52   53   54   55\n",
      "   56   57   58   59   60   61   62   63   64   65   66   67   68   69\n",
      "   70   71   72   73   74   75   76   77   78   79   80   81   82   83\n",
      "   84   85   86   87   88   89   90   91   92   93   94   95   96   97\n",
      "   98   99  100  101  102  103  104  105  106  107  108  109  110  111\n",
      "  112  113  114  115  116  117  118  119  120  121  122  123  124  125\n",
      "  126  127  128  129  130  131  132  133  134  135  136  137  138  139\n",
      "  140  141  142  143  144  145  146  147  148  149  150  151  152  153\n",
      "  154  155  156  157  158  159  160  161  162  163  164  165  166  167\n",
      "  168  169  170  171  172  173  174  175  176  177  178  179  180  181\n",
      "  182  183  184  185  186  187  188  189  190  191  192  193  194  195\n",
      "  196  197  198  199  200  201  202  203  204  205  206  207  208  209\n",
      "  210  211  212  213  214  215  216  217  218  219  220  221  222  223\n",
      "  224  225  226  227  228  229  230  231  232  233  234  235  236  237\n",
      "  238  239  240  241  242  243  244  245  246  247  248  249  250  251\n",
      "  252  253  254  255  256  257  258  259  260  261  262  263  264  265\n",
      "  266  267  268  269  270  271  272  273  274  275  276  277  278  279\n",
      "  280  281  282  283  284  285  286  287  288  289  290  291  292  293\n",
      "  294  295  296  297  298  299  300  301  302  303  304  305  306  307\n",
      "  308  309  310  311  312  313  314  315  316  317  318  319  320  321\n",
      "  322  323  324  325  326  327  328  329  330  331  332  333  334  335\n",
      "  336 3760 3761 3762 3763 3764 3765 3766 3767 3768 3769 3770 3771 3772\n",
      " 3773 3774 3775 3776 3777 3778 3779 3780 3781 3782 3783 3784 3785 3786\n",
      " 3787 3788 3789 3790 3791 3792 3793 3794 3795 3796 3797 3798 3799 3800\n",
      " 3801 3802 3803 3804 3805 3806 3807 3808 3809 3810 3811 3812 3813 3814\n",
      " 3815 3816 3817 3818 3819 3820 3821 3822 3823 3824 3825 3826 3827 3828\n",
      " 3829 3830 3831 3832 3833 3834 3835 3836 3837 3838 3839 3840 3841 3842\n",
      " 3843 3844 3845 3846 3847 3848 3849 3850 3851 3852 3853 3854 3855 3856\n",
      " 3857 3858 3859 3860 3861 3862 3863 3864 3865 3866 3867 3868 3869 3870\n",
      " 3871 3872 3873 3874 3875 3876 3877 3878 3879 3880 3881 3882 3883 3884\n",
      " 3885 3886 3887 3888 3889 3890 3891 3892 3893 3894 3895 3896 3897 3898\n",
      " 3899 3900 3901 3902 3903 3904 3905 3906 3907 3908 3909 3910 3911 3912\n",
      " 3913 3914 3915 3916 3917 3918 3919 3920 3921 3922 3923 3924 3925 3926\n",
      " 3927 3928 3929 3930 3931 3932 3933 3934 3935 3936 3937 3938 3939 3940\n",
      " 3941 3942 3943 3944 3945 3946 3947 3948 3949 3950 3951 3952 3953 3954\n",
      " 3955 3956 3957 3958 3959 3960 3961 3962 3963 3964 3965 3966 3967 3968\n",
      " 3969 3970 3971 3972 3973 3974 3975 3976 3977 3978 3979 3980 3981 3982\n",
      " 3983 3984 3985 3986 3987 3988 3989 3990 3991 3992 3993 3994 3995 3996\n",
      " 3997 3998 3999 4000 4001 4002 4003 4004 4005 4006 4007 4008 4009 4010\n",
      " 4011 4012 4013 4014 4015 4016 4017 4018 4019 4020 4021 4022 4023 4024\n",
      " 4025 4026 4027 4028 4029 4030 4031 4032 4033 4034 4035 4036 4037 4038\n",
      " 4039 4040 4041 4042 4043 4044 4045 4046 4047 4048 4049 4050 4051 4052\n",
      " 4053 4054 4055 4056 4057 4058 4059 4060 4061 4062 4063 4064 4065 4066\n",
      " 4067 4068 4069 4070 4071 4072 4073 4074 4075 4076 4077 4078 4079 4080\n",
      " 4081 4082 4083 4084 4085 4086 4087 4088 4089 4090 4091 4092 4093 4094\n",
      " 4095]\n",
      "Number of non-zero amplitudes: 673 out of 4096\n",
      "Ratio of non-zero amplitudes:  0.164306640625\n"
     ]
    }
   ],
   "source": [
    "# distance from 0 of gaussian that has amplitudes above epsilon \n",
    "eps = 1e-4\n",
    "truncated_gauss_amplitudes = np.array([amp if np.abs(amp) > eps else 0 for amp in ft_gauss_amplitudes])\n",
    "print(truncated_gauss_amplitudes)\n",
    "truncated_energy_labels = np.where(np.abs(truncated_gauss_amplitudes) > eps)[0]\n",
    "print(truncated_energy_labels)\n",
    "print(f'Number of non-zero amplitudes: {len(truncated_energy_labels)} out of {N}')\n",
    "print('Ratio of non-zero amplitudes: ', len(truncated_energy_labels) / N)"
   ]
  },
  {
   "cell_type": "code",
   "execution_count": 34,
   "metadata": {},
   "outputs": [
    {
     "name": "stdout",
     "output_type": "stream",
     "text": [
      "Cut-off distance: 0.5162254973058138\n",
      "Cut-off number of labels: 337\n"
     ]
    }
   ],
   "source": [
    "cut_off_dist = np.sqrt(-np.log(ft_gauss_normalization * eps) / sigma**2)  # in energy units\n",
    "print(f'Cut-off distance: {cut_off_dist}')\n",
    "cut_off_num_labels = int(np.ceil(cut_off_dist * N / (2 * np.pi)))\n",
    "print(f'Cut-off number of labels: {cut_off_num_labels}')"
   ]
  }
 ],
 "metadata": {
  "kernelspec": {
   "display_name": "qiskit_1_env",
   "language": "python",
   "name": "python3"
  },
  "language_info": {
   "codemirror_mode": {
    "name": "ipython",
    "version": 3
   },
   "file_extension": ".py",
   "mimetype": "text/x-python",
   "name": "python",
   "nbconvert_exporter": "python",
   "pygments_lexer": "ipython3",
   "version": "3.12.2"
  }
 },
 "nbformat": 4,
 "nbformat_minor": 2
}
