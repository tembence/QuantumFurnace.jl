{
 "cells": [
  {
   "cell_type": "code",
   "execution_count": 1,
   "metadata": {},
   "outputs": [],
   "source": [
    "import numpy as np\n",
    "import qutip as qt\n",
    "from scipy.linalg import logm, expm\n",
    "from qiskit.quantum_info import Operator, state_fidelity\n",
    "from qiskit import QuantumCircuit\n",
    "from qiskit_aer import StatevectorSimulator\n",
    "from qiskit import Aer\n",
    "from qiskit.circuit.library import QFT\n",
    "import pickle\n",
    "from time import time\n",
    "import tqdm\n",
    "\n",
    "import sys\n",
    "sys.path.append('/Users/bence/code/liouvillian_metro/')\n",
    "\n",
    "from op_fourier_trafo_unitary import operator_fourier_circuit, brute_prepare_gaussian_state, \\\n",
    "    inverse_operator_fourier_circuit\n",
    "from boltzmann import lookup_table_boltzmann, inverse_lookup_table_boltzmann\n",
    "from tools.classical import *\n",
    "from tools.quantum import *\n"
   ]
  },
  {
   "cell_type": "code",
   "execution_count": 12,
   "metadata": {},
   "outputs": [
    {
     "name": "stderr",
     "output_type": "stream",
     "text": [
      "  0%|          | 0/10 [00:00<?, ?it/s]"
     ]
    },
    {
     "name": "stdout",
     "output_type": "stream",
     "text": [
      "eig_index: 6\n",
      "Original spectrum:  [-4.     -3.4641 -2.8284 -2.      2.      2.8284  3.4641  4.    ]\n",
      "Ideal spectrum:  [-0.      0.0301  0.0659  0.1125  0.3375  0.3841  0.4199  0.45  ]\n",
      "Nonrescaled coefficients:  [1. 1. 1. 1.]\n",
      "Rescaled coefficients:  [0.05625 0.05625 0.05625 0.05625]\n",
      "Energy before jump: 0.41985571585149867\n",
      "Jump applied to 2th qubit\n",
      "Energy after jump: 0.35490381056766684\n",
      "Energy jump: -0.06495190528383182\n",
      "Inverse jump applied to 2th qubit\n"
     ]
    },
    {
     "name": "stderr",
     "output_type": "stream",
     "text": [
      " 10%|█         | 1/10 [00:07<01:10,  7.85s/it]"
     ]
    },
    {
     "name": "stdout",
     "output_type": "stream",
     "text": [
      "Basic distance 1.2279142402809964\n",
      "Fidelity: 0.06057176099374703\n",
      "eig_index: 7\n",
      "Original spectrum:  [-4.     -3.4641 -2.8284 -2.      2.      2.8284  3.4641  4.    ]\n",
      "Ideal spectrum:  [-0.      0.0301  0.0659  0.1125  0.3375  0.3841  0.4199  0.45  ]\n",
      "Nonrescaled coefficients:  [1. 1. 1. 1.]\n",
      "Rescaled coefficients:  [0.05625 0.05625 0.05625 0.05625]\n",
      "Energy before jump: 0.44999999999999996\n",
      "Jump applied to 2th qubit\n",
      "Energy after jump: 0.22499999999999998\n",
      "Energy jump: -0.22499999999999998\n",
      "Inverse jump applied to 2th qubit\n"
     ]
    },
    {
     "name": "stderr",
     "output_type": "stream",
     "text": [
      " 10%|█         | 1/10 [00:14<02:12, 14.68s/it]\n"
     ]
    },
    {
     "ename": "KeyboardInterrupt",
     "evalue": "",
     "output_type": "error",
     "traceback": [
      "\u001b[0;31m---------------------------------------------------------------------------\u001b[0m",
      "\u001b[0;31mKeyboardInterrupt\u001b[0m                         Traceback (most recent call last)",
      "Cell \u001b[0;32mIn[12], line 68\u001b[0m\n\u001b[1;32m     65\u001b[0m circ\u001b[38;5;241m.\u001b[39mcompose(U_circ, [qr_boltzmann[\u001b[38;5;241m0\u001b[39m], \u001b[38;5;241m*\u001b[39m\u001b[38;5;28mlist\u001b[39m(qr_energy), \u001b[38;5;241m*\u001b[39m\u001b[38;5;28mlist\u001b[39m(qr_sys)], inplace\u001b[38;5;241m=\u001b[39m\u001b[38;5;28;01mTrue\u001b[39;00m)\n\u001b[1;32m     66\u001b[0m circ\u001b[38;5;241m.\u001b[39mcompose(U_dag_circ, [qr_boltzmann[\u001b[38;5;241m0\u001b[39m], \u001b[38;5;241m*\u001b[39m\u001b[38;5;28mlist\u001b[39m(qr_energy), \u001b[38;5;241m*\u001b[39m\u001b[38;5;28mlist\u001b[39m(qr_sys)], inplace\u001b[38;5;241m=\u001b[39m\u001b[38;5;28;01mTrue\u001b[39;00m)\n\u001b[0;32m---> 68\u001b[0m end_state_UUdag \u001b[38;5;241m=\u001b[39m \u001b[43mStatevector\u001b[49m\u001b[43m(\u001b[49m\u001b[43mcirc\u001b[49m\u001b[43m)\u001b[49m\n\u001b[1;32m     70\u001b[0m boltz_initial_state \u001b[38;5;241m=\u001b[39m Statevector(np\u001b[38;5;241m.\u001b[39marray([\u001b[38;5;241m1\u001b[39m, \u001b[38;5;241m0\u001b[39m]))\n\u001b[1;32m     71\u001b[0m full_initial_state \u001b[38;5;241m=\u001b[39m boltz_initial_state\u001b[38;5;241m.\u001b[39mexpand(gauss_state)\u001b[38;5;241m.\u001b[39mexpand(initial_state)\u001b[38;5;241m.\u001b[39mdata\n",
      "File \u001b[0;32m~/miniforge3/envs/qiskit_env/lib/python3.11/site-packages/qiskit/quantum_info/states/statevector.py:91\u001b[0m, in \u001b[0;36mStatevector.__init__\u001b[0;34m(self, data, dims)\u001b[0m\n\u001b[1;32m     89\u001b[0m     \u001b[38;5;28mself\u001b[39m\u001b[38;5;241m.\u001b[39m_data \u001b[38;5;241m=\u001b[39m np\u001b[38;5;241m.\u001b[39mravel(data\u001b[38;5;241m.\u001b[39mdata)\n\u001b[1;32m     90\u001b[0m \u001b[38;5;28;01melif\u001b[39;00m \u001b[38;5;28misinstance\u001b[39m(data, (QuantumCircuit, Instruction)):\n\u001b[0;32m---> 91\u001b[0m     \u001b[38;5;28mself\u001b[39m\u001b[38;5;241m.\u001b[39m_data \u001b[38;5;241m=\u001b[39m \u001b[43mStatevector\u001b[49m\u001b[38;5;241;43m.\u001b[39;49m\u001b[43mfrom_instruction\u001b[49m\u001b[43m(\u001b[49m\u001b[43mdata\u001b[49m\u001b[43m)\u001b[49m\u001b[38;5;241m.\u001b[39mdata\n\u001b[1;32m     92\u001b[0m \u001b[38;5;28;01melse\u001b[39;00m:\n\u001b[1;32m     93\u001b[0m     \u001b[38;5;28;01mraise\u001b[39;00m QiskitError(\u001b[38;5;124m\"\u001b[39m\u001b[38;5;124mInvalid input data format for Statevector\u001b[39m\u001b[38;5;124m\"\u001b[39m)\n",
      "File \u001b[0;32m~/miniforge3/envs/qiskit_env/lib/python3.11/site-packages/qiskit/quantum_info/states/statevector.py:768\u001b[0m, in \u001b[0;36mStatevector.from_instruction\u001b[0;34m(cls, instruction)\u001b[0m\n\u001b[1;32m    766\u001b[0m init[\u001b[38;5;241m0\u001b[39m] \u001b[38;5;241m=\u001b[39m \u001b[38;5;241m1.0\u001b[39m\n\u001b[1;32m    767\u001b[0m vec \u001b[38;5;241m=\u001b[39m Statevector(init, dims\u001b[38;5;241m=\u001b[39minstruction\u001b[38;5;241m.\u001b[39mnum_qubits \u001b[38;5;241m*\u001b[39m (\u001b[38;5;241m2\u001b[39m,))\n\u001b[0;32m--> 768\u001b[0m \u001b[38;5;28;01mreturn\u001b[39;00m \u001b[43mStatevector\u001b[49m\u001b[38;5;241;43m.\u001b[39;49m\u001b[43m_evolve_instruction\u001b[49m\u001b[43m(\u001b[49m\u001b[43mvec\u001b[49m\u001b[43m,\u001b[49m\u001b[43m \u001b[49m\u001b[43minstruction\u001b[49m\u001b[43m)\u001b[49m\n",
      "File \u001b[0;32m~/miniforge3/envs/qiskit_env/lib/python3.11/site-packages/qiskit/quantum_info/states/statevector.py:960\u001b[0m, in \u001b[0;36mStatevector._evolve_instruction\u001b[0;34m(statevec, obj, qargs)\u001b[0m\n\u001b[1;32m    958\u001b[0m     \u001b[38;5;28;01melse\u001b[39;00m:\n\u001b[1;32m    959\u001b[0m         new_qargs \u001b[38;5;241m=\u001b[39m [qargs[qubits[tup]] \u001b[38;5;28;01mfor\u001b[39;00m tup \u001b[38;5;129;01min\u001b[39;00m instruction\u001b[38;5;241m.\u001b[39mqubits]\n\u001b[0;32m--> 960\u001b[0m     \u001b[43mStatevector\u001b[49m\u001b[38;5;241;43m.\u001b[39;49m\u001b[43m_evolve_instruction\u001b[49m\u001b[43m(\u001b[49m\u001b[43mstatevec\u001b[49m\u001b[43m,\u001b[49m\u001b[43m \u001b[49m\u001b[43minstruction\u001b[49m\u001b[38;5;241;43m.\u001b[39;49m\u001b[43moperation\u001b[49m\u001b[43m,\u001b[49m\u001b[43m \u001b[49m\u001b[43mqargs\u001b[49m\u001b[38;5;241;43m=\u001b[39;49m\u001b[43mnew_qargs\u001b[49m\u001b[43m)\u001b[49m\n\u001b[1;32m    961\u001b[0m \u001b[38;5;28;01mreturn\u001b[39;00m statevec\n",
      "File \u001b[0;32m~/miniforge3/envs/qiskit_env/lib/python3.11/site-packages/qiskit/quantum_info/states/statevector.py:960\u001b[0m, in \u001b[0;36mStatevector._evolve_instruction\u001b[0;34m(statevec, obj, qargs)\u001b[0m\n\u001b[1;32m    958\u001b[0m     \u001b[38;5;28;01melse\u001b[39;00m:\n\u001b[1;32m    959\u001b[0m         new_qargs \u001b[38;5;241m=\u001b[39m [qargs[qubits[tup]] \u001b[38;5;28;01mfor\u001b[39;00m tup \u001b[38;5;129;01min\u001b[39;00m instruction\u001b[38;5;241m.\u001b[39mqubits]\n\u001b[0;32m--> 960\u001b[0m     \u001b[43mStatevector\u001b[49m\u001b[38;5;241;43m.\u001b[39;49m\u001b[43m_evolve_instruction\u001b[49m\u001b[43m(\u001b[49m\u001b[43mstatevec\u001b[49m\u001b[43m,\u001b[49m\u001b[43m \u001b[49m\u001b[43minstruction\u001b[49m\u001b[38;5;241;43m.\u001b[39;49m\u001b[43moperation\u001b[49m\u001b[43m,\u001b[49m\u001b[43m \u001b[49m\u001b[43mqargs\u001b[49m\u001b[38;5;241;43m=\u001b[39;49m\u001b[43mnew_qargs\u001b[49m\u001b[43m)\u001b[49m\n\u001b[1;32m    961\u001b[0m \u001b[38;5;28;01mreturn\u001b[39;00m statevec\n",
      "File \u001b[0;32m~/miniforge3/envs/qiskit_env/lib/python3.11/site-packages/qiskit/quantum_info/states/statevector.py:900\u001b[0m, in \u001b[0;36mStatevector._evolve_instruction\u001b[0;34m(statevec, obj, qargs)\u001b[0m\n\u001b[1;32m    896\u001b[0m mat \u001b[38;5;241m=\u001b[39m Operator\u001b[38;5;241m.\u001b[39m_instruction_to_matrix(obj)\n\u001b[1;32m    897\u001b[0m \u001b[38;5;28;01mif\u001b[39;00m mat \u001b[38;5;129;01mis\u001b[39;00m \u001b[38;5;129;01mnot\u001b[39;00m \u001b[38;5;28;01mNone\u001b[39;00m:\n\u001b[1;32m    898\u001b[0m     \u001b[38;5;66;03m# Perform the composition and inplace update the current state\u001b[39;00m\n\u001b[1;32m    899\u001b[0m     \u001b[38;5;66;03m# of the operator\u001b[39;00m\n\u001b[0;32m--> 900\u001b[0m     \u001b[38;5;28;01mreturn\u001b[39;00m \u001b[43mStatevector\u001b[49m\u001b[38;5;241;43m.\u001b[39;49m\u001b[43m_evolve_operator\u001b[49m\u001b[43m(\u001b[49m\u001b[43mstatevec\u001b[49m\u001b[43m,\u001b[49m\u001b[43m \u001b[49m\u001b[43mOperator\u001b[49m\u001b[43m(\u001b[49m\u001b[43mmat\u001b[49m\u001b[43m)\u001b[49m\u001b[43m,\u001b[49m\u001b[43m \u001b[49m\u001b[43mqargs\u001b[49m\u001b[38;5;241;43m=\u001b[39;49m\u001b[43mqargs\u001b[49m\u001b[43m)\u001b[49m\n\u001b[1;32m    902\u001b[0m \u001b[38;5;66;03m# Special instruction types\u001b[39;00m\n\u001b[1;32m    903\u001b[0m \u001b[38;5;28;01mif\u001b[39;00m \u001b[38;5;28misinstance\u001b[39m(obj, Reset):\n",
      "File \u001b[0;32m~/miniforge3/envs/qiskit_env/lib/python3.11/site-packages/qiskit/quantum_info/states/statevector.py:873\u001b[0m, in \u001b[0;36mStatevector._evolve_operator\u001b[0;34m(statevec, oper, qargs)\u001b[0m\n\u001b[1;32m    869\u001b[0m tensor_shape \u001b[38;5;241m=\u001b[39m tensor\u001b[38;5;241m.\u001b[39mshape\n\u001b[1;32m    871\u001b[0m \u001b[38;5;66;03m# Perform contraction\u001b[39;00m\n\u001b[1;32m    872\u001b[0m tensor \u001b[38;5;241m=\u001b[39m np\u001b[38;5;241m.\u001b[39mreshape(\n\u001b[0;32m--> 873\u001b[0m     np\u001b[38;5;241m.\u001b[39mdot(oper\u001b[38;5;241m.\u001b[39mdata, \u001b[43mnp\u001b[49m\u001b[38;5;241;43m.\u001b[39;49m\u001b[43mreshape\u001b[49m\u001b[43m(\u001b[49m\u001b[43mtensor\u001b[49m\u001b[43m,\u001b[49m\u001b[43m \u001b[49m\u001b[43mcontract_shape\u001b[49m\u001b[43m)\u001b[49m),\n\u001b[1;32m    874\u001b[0m     tensor_shape,\n\u001b[1;32m    875\u001b[0m )\n\u001b[1;32m    877\u001b[0m \u001b[38;5;66;03m# Transpose back to  original subsystem spec and flatten\u001b[39;00m\n\u001b[1;32m    878\u001b[0m statevec\u001b[38;5;241m.\u001b[39m_data \u001b[38;5;241m=\u001b[39m np\u001b[38;5;241m.\u001b[39mreshape(np\u001b[38;5;241m.\u001b[39mtranspose(tensor, axes_inv), new_shape\u001b[38;5;241m.\u001b[39mshape[\u001b[38;5;241m0\u001b[39m])\n",
      "File \u001b[0;32m~/miniforge3/envs/qiskit_env/lib/python3.11/site-packages/numpy/core/fromnumeric.py:285\u001b[0m, in \u001b[0;36mreshape\u001b[0;34m(a, newshape, order)\u001b[0m\n\u001b[1;32m    200\u001b[0m \u001b[38;5;129m@array_function_dispatch\u001b[39m(_reshape_dispatcher)\n\u001b[1;32m    201\u001b[0m \u001b[38;5;28;01mdef\u001b[39;00m \u001b[38;5;21mreshape\u001b[39m(a, newshape, order\u001b[38;5;241m=\u001b[39m\u001b[38;5;124m'\u001b[39m\u001b[38;5;124mC\u001b[39m\u001b[38;5;124m'\u001b[39m):\n\u001b[1;32m    202\u001b[0m \u001b[38;5;250m    \u001b[39m\u001b[38;5;124;03m\"\"\"\u001b[39;00m\n\u001b[1;32m    203\u001b[0m \u001b[38;5;124;03m    Gives a new shape to an array without changing its data.\u001b[39;00m\n\u001b[1;32m    204\u001b[0m \n\u001b[0;32m   (...)\u001b[0m\n\u001b[1;32m    283\u001b[0m \u001b[38;5;124;03m           [5, 6]])\u001b[39;00m\n\u001b[1;32m    284\u001b[0m \u001b[38;5;124;03m    \"\"\"\u001b[39;00m\n\u001b[0;32m--> 285\u001b[0m     \u001b[38;5;28;01mreturn\u001b[39;00m \u001b[43m_wrapfunc\u001b[49m\u001b[43m(\u001b[49m\u001b[43ma\u001b[49m\u001b[43m,\u001b[49m\u001b[43m \u001b[49m\u001b[38;5;124;43m'\u001b[39;49m\u001b[38;5;124;43mreshape\u001b[39;49m\u001b[38;5;124;43m'\u001b[39;49m\u001b[43m,\u001b[49m\u001b[43m \u001b[49m\u001b[43mnewshape\u001b[49m\u001b[43m,\u001b[49m\u001b[43m \u001b[49m\u001b[43morder\u001b[49m\u001b[38;5;241;43m=\u001b[39;49m\u001b[43morder\u001b[49m\u001b[43m)\u001b[49m\n",
      "File \u001b[0;32m~/miniforge3/envs/qiskit_env/lib/python3.11/site-packages/numpy/core/fromnumeric.py:59\u001b[0m, in \u001b[0;36m_wrapfunc\u001b[0;34m(obj, method, *args, **kwds)\u001b[0m\n\u001b[1;32m     56\u001b[0m     \u001b[38;5;28;01mreturn\u001b[39;00m _wrapit(obj, method, \u001b[38;5;241m*\u001b[39margs, \u001b[38;5;241m*\u001b[39m\u001b[38;5;241m*\u001b[39mkwds)\n\u001b[1;32m     58\u001b[0m \u001b[38;5;28;01mtry\u001b[39;00m:\n\u001b[0;32m---> 59\u001b[0m     \u001b[38;5;28;01mreturn\u001b[39;00m \u001b[43mbound\u001b[49m\u001b[43m(\u001b[49m\u001b[38;5;241;43m*\u001b[39;49m\u001b[43margs\u001b[49m\u001b[43m,\u001b[49m\u001b[43m \u001b[49m\u001b[38;5;241;43m*\u001b[39;49m\u001b[38;5;241;43m*\u001b[39;49m\u001b[43mkwds\u001b[49m\u001b[43m)\u001b[49m\n\u001b[1;32m     60\u001b[0m \u001b[38;5;28;01mexcept\u001b[39;00m \u001b[38;5;167;01mTypeError\u001b[39;00m:\n\u001b[1;32m     61\u001b[0m     \u001b[38;5;66;03m# A TypeError occurs if the object does have such a method in its\u001b[39;00m\n\u001b[1;32m     62\u001b[0m     \u001b[38;5;66;03m# class, but its signature is not identical to that of NumPy's. This\u001b[39;00m\n\u001b[0;32m   (...)\u001b[0m\n\u001b[1;32m     66\u001b[0m     \u001b[38;5;66;03m# Call _wrapit from within the except clause to ensure a potential\u001b[39;00m\n\u001b[1;32m     67\u001b[0m     \u001b[38;5;66;03m# exception has a traceback chain.\u001b[39;00m\n\u001b[1;32m     68\u001b[0m     \u001b[38;5;28;01mreturn\u001b[39;00m _wrapit(obj, method, \u001b[38;5;241m*\u001b[39margs, \u001b[38;5;241m*\u001b[39m\u001b[38;5;241m*\u001b[39mkwds)\n",
      "\u001b[0;31mKeyboardInterrupt\u001b[0m: "
     ]
    }
   ],
   "source": [
    "distances = []\n",
    "for _ in tqdm.tqdm(range(10)):\n",
    "    # np.random.seed(667)\n",
    "    num_qubits = 3\n",
    "    num_energy_bits = 4\n",
    "    bohr_bound = 0 # 2 ** (-num_energy_bits + 1) #!\n",
    "    eps = 0.1\n",
    "    sigma = 5\n",
    "    eig_index = np.random.randint(2 ** num_qubits)\n",
    "    print(f\"eig_index: {eig_index}\")\n",
    "    T = 1\n",
    "    shots = 1\n",
    "    delta = 0.001\n",
    "\n",
    "    hamiltonian = find_ideal_heisenberg(num_qubits, bohr_bound, eps, signed=False, for_oft=True)\n",
    "    rescaled_coeff = hamiltonian.rescaled_coeffs\n",
    "    # Corresponding Trotter step circuit\n",
    "    trotter_step_circ = trotter_step_heisenberg(num_qubits, coeffs=rescaled_coeff, disordering=True)\n",
    "    inverse_trotter_step_circ = inverse_trotter_step_heisenberg(num_qubits, coeffs=rescaled_coeff, disordering=True)\n",
    "    hamiltonian.trotter_step_circ = trotter_step_circ\n",
    "    hamiltonian.inverse_trotter_step_circ = inverse_trotter_step_circ\n",
    "\n",
    "    initial_state = hamiltonian.eigenstates[:, eig_index]\n",
    "    initial_state = Statevector(initial_state)\n",
    "\n",
    "    qr_delta = QuantumRegister(1, name='delta')\n",
    "    qr_boltzmann = QuantumRegister(1, name='boltz')\n",
    "    qr_energy = QuantumRegister(num_energy_bits, name=\"w\")\n",
    "    qr_sys  = QuantumRegister(num_qubits, name=\"sys\")\n",
    "\n",
    "    circ = QuantumCircuit(qr_boltzmann, qr_energy, qr_sys)\n",
    "    U_circ = QuantumCircuit(qr_boltzmann, qr_energy, qr_sys, name='U')\n",
    "    U_dag_circ = QuantumCircuit(qr_boltzmann, qr_energy, qr_sys, name='U_dag')\n",
    "    \n",
    "    if sigma != 0.:\n",
    "        prep_circ = brute_prepare_gaussian_state(num_energy_bits, sigma)\n",
    "        gauss_state = Statevector(prep_circ)\n",
    "        circ.compose(prep_circ, qr_energy, inplace=True)\n",
    "    else:  # Conventional QPE\n",
    "        circ.h(qr_energy)\n",
    "    \n",
    "    # System prep\n",
    "    circ.initialize(initial_state, qr_sys)\n",
    "\n",
    "    jump_op = Operator(Pauli('X'))\n",
    "    #* --- U\n",
    "    # OFT\n",
    "    oft_circ = operator_fourier_circuit(jump_op, num_qubits, num_energy_bits, hamiltonian, \n",
    "                                        initial_state=initial_state)\n",
    "    U_circ.compose(oft_circ, [*list(qr_energy), *list(qr_sys)], inplace=True)\n",
    "\n",
    "    # W\n",
    "    boltzmann_circ = lookup_table_boltzmann(num_energy_bits)\n",
    "    U_circ.compose(boltzmann_circ, [qr_boltzmann[0], *list(qr_energy)], inplace=True)\n",
    "\n",
    "    #* --- U_dag\n",
    "    # W\n",
    "    boltzmann_circ_inverse = inverse_lookup_table_boltzmann(num_energy_bits)\n",
    "    U_dag_circ.compose(boltzmann_circ_inverse, [qr_boltzmann[0], *list(qr_energy)], inplace=True)\n",
    "\n",
    "    # OFT\n",
    "    inverse_oft_circ = inverse_operator_fourier_circuit(jump_op, num_qubits, num_energy_bits, hamiltonian)\n",
    "    U_dag_circ.compose(inverse_oft_circ, [*list(qr_energy), *list(qr_sys)], inplace=True)\n",
    "\n",
    "    circ.compose(U_circ, [qr_boltzmann[0], *list(qr_energy), *list(qr_sys)], inplace=True)\n",
    "    circ.compose(U_dag_circ, [qr_boltzmann[0], *list(qr_energy), *list(qr_sys)], inplace=True)\n",
    "    \n",
    "    end_state_UUdag = Statevector(circ)\n",
    "    \n",
    "    boltz_initial_state = Statevector(np.array([1, 0]))\n",
    "    full_initial_state = boltz_initial_state.expand(gauss_state).expand(initial_state).data\n",
    "    dist_to_initial_state = np.linalg.norm(full_initial_state - end_state_UUdag.data)\n",
    "    print(f'Basic distance {dist_to_initial_state}')\n",
    "    \n",
    "    fid = state_fidelity(full_initial_state, end_state_UUdag)\n",
    "    print(f'Fidelity: {fid}')\n",
    "    \n",
    "    \n",
    "    # U_op = Operator(U_circ).data\n",
    "    # U_dag_op = Operator(U_dag_circ).data\n",
    "    # dist_to_id = np.linalg.norm(U_op @ U_dag_op - np.eye(2 ** (num_qubits + num_energy_bits + 1)))\n",
    "    # distances.append(dist_to_id)\n"
   ]
  }
 ],
 "metadata": {
  "kernelspec": {
   "display_name": "qiskit_env",
   "language": "python",
   "name": "python3"
  },
  "language_info": {
   "codemirror_mode": {
    "name": "ipython",
    "version": 3
   },
   "file_extension": ".py",
   "mimetype": "text/x-python",
   "name": "python",
   "nbconvert_exporter": "python",
   "pygments_lexer": "ipython3",
   "version": "3.11.5"
  }
 },
 "nbformat": 4,
 "nbformat_minor": 2
}
