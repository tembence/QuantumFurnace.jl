{
 "cells": [
  {
   "cell_type": "markdown",
   "source": [
    "# Finding a Thermal State\n",
    "In this tutorial we will give more details on one of the core functions of the software package:\n",
    "on how to drive a given quantum system to the thermal state via a simulated open quantum system evolution.\n",
    "We will see how to set up everything for the function `run_thermalization` and also what it actually does behind\n",
    "the curtains.\n",
    "\n",
    "In summary, `run_thermalization` takes in a basic set of configurations (number of qubits, temperature, etc.),\n",
    "the Hamiltonian $H$ that describes the system, an initial state $\\rho_0$ where the evolution starts from and the set of jumps\n",
    "$\\{A^a\\}$ that prescribe that evolution. It will simulate the [open quantum system evolution](theory_oqs_dynamics.md) or Lindbladian evolution\n",
    "with a [weak-measurement based algorithm](theory_weak_measurement.md). You can read more about them in the Theory section if you follow\n",
    "the links. Here, it is enough to just think of it as the following process:\n",
    "- Start from an initial density matrix $\\rho_0$.\n",
    "- Evolve it for a short $\\delta$ amount of time, $\\rho_\\delta = (\\mathds{1} + \\delta \\mathcal{L})\\rho_0 + \\mathcal{O}(\\delta^2) \\simeq e^{\\delta \\mathcal{L}}(\\rho_0)$.\n",
    "- Repeat until $\\rho_t$ gets close enough to the target state $\\sigma_\\beta = e^{-\\beta H} / Z$, i.e. the Gibbs state.\n",
    "Here the magic is still hidden in the generator $\\mathcal{L}$, but the crucial property it has is that the dynamics it generates,\n",
    "given by $e^{t \\mathcal{L}}$, has the Gibbs state as its unique fixed point. Thus if we evolve the system for a long enough time\n",
    "all other contribution will decay and the only state that survives is the Gibbs state.\n",
    "\n",
    "Let us go through the main steps of the code:\n",
    "\n",
    "## 1. Configure the algorithm parameters"
   ],
   "metadata": {}
  },
  {
   "outputs": [
    {
     "output_type": "execute_result",
     "data": {
      "text/plain": "ThermalizeConfig(3, true, false, TimeDomain(), 10.0, 0.0, 0.0, 10, 0.1227184630308513, 0.05, -1.0, -1, 10.0, 0.1, false)"
     },
     "metadata": {},
     "execution_count": 1
    }
   ],
   "cell_type": "code",
   "source": [
    "using QuantumFurnace\n",
    "using LinearAlgebra\n",
    "\n",
    "num_qubits = 3\n",
    "dim = 2^num_qubits\n",
    "num_energy_bits = 10\n",
    "beta = 10.0\n",
    "w0 = 0.05                            # Energy estimating precision\n",
    "t0 = 2pi / (2^num_energy_bits * w0)  # Time estimating precision\n",
    "\n",
    "domain = TimeDomain()\n",
    "\n",
    "with_coherent = true                  # For exact detailed balance\n",
    "with_linear_combination = false       # Gaussian transitions\n",
    "a = 0.0\n",
    "b = 0.0\n",
    "eta = 0.0\n",
    "\n",
    "mixing_time_bound = 10.0\n",
    "delta = 0.1\n",
    "\n",
    "config = ThermalizeConfig(\n",
    "    num_qubits = num_qubits,\n",
    "    with_coherent = with_coherent,\n",
    "    with_linear_combination = with_linear_combination,\n",
    "    domain = domain,\n",
    "    beta = beta,\n",
    "    a = a,\n",
    "    b = b,\n",
    "    num_energy_bits = num_energy_bits,\n",
    "    w0 = w0,\n",
    "    t0 = t0,\n",
    "    mixing_time = mixing_time_bound,\n",
    "    delta = delta,\n",
    ")"
   ],
   "metadata": {},
   "execution_count": 1
  },
  {
   "cell_type": "markdown",
   "source": [
    "**Domains** $\\quad$ Algorithms are translated to the quantum computer in the form of quantum circuits, a set of unitary\n",
    "quantum gates, that inherently work in the time domain, which is also what we mean by choosing `domain` to be `TimeDomain`.\n",
    "More realistically, time evolutions are decomposed into a Trotter product, which is also possible to see in our code via\n",
    "`TrotterDomain`. Though the original mathematical problem of finding a Lindbladian that evolves the system to the thermal\n",
    "state is formulated in the Bohr and Energy domains, that should pose no problem for us. We can always move from the time\n",
    "domain to the energy domain with the Fourier transform.\n",
    "\n",
    "**Coherent term** $\\quad$ It has been proven (see [Theory](theory_detailed_balance.md)) that by adding a specific coherent term\n",
    "to the Lindbladian, we can have the Gibbs state as the unique fixed point of the generator. But even if we omit it\n",
    "by setting `with_coherent = false`, we would find an approximately good (or bad) result.\n",
    "\n",
    "**Linear combinations** $\\quad$ A simpler version of the theory is when we don't take a convex combination of\n",
    "Lindbladians. We can think of this as singling out a thin Gaussian region for which we allow transitions for certain\n",
    "energy differences induced by the jumps. We can also turn on the linear combination option, and thus have more borad\n",
    "transition while keeping the Gibbs state as the target state (see [Theory](theory_convex_combination.md)).\n",
    "\n",
    "## 2. Define the system Hamiltonian\n",
    "\n",
    "Next, we will define and construct the Hamiltonian of the subsystem we want to thermalize. We will use the function called\n",
    "`create_hamham`. If we know how the terms in our Hamiltonian decompose into tensor products of single qubit terms, then\n",
    "this function will generate a Hamiltonian whose spectrum is within [0.0, 0.45] and creates a HamHam object with some other\n",
    "necessary fields in it like its eigenvectors, or its Gibbs state."
   ],
   "metadata": {}
  },
  {
   "outputs": [
    {
     "output_type": "execute_result",
     "data": {
      "text/plain": "3-element Vector{Float64}:\n 0.7155465615228992\n 0.5916354319282241\n 0.5145101991358585"
     },
     "metadata": {},
     "execution_count": 2
    }
   ],
   "cell_type": "code",
   "source": [
    "X::Matrix{ComplexF64} = [0 1; 1 0]\n",
    "Y::Matrix{ComplexF64} = [0.0 -im; im 0.0]\n",
    "Z::Matrix{ComplexF64} = [1 0; 0 -1]\n",
    "\n",
    "hamiltonian_terms = [[X, X], [Y, Y], [Z, Z]]\n",
    "hamiltonian_coeffs = fill(1.0, length(hamiltonian_terms))\n",
    "disordering_term = [Z]\n",
    "disordering_coeffs = rand(num_qubits)"
   ],
   "metadata": {},
   "execution_count": 2
  },
  {
   "cell_type": "markdown",
   "source": [
    "Generate a 4-qubit chain antiferromagnetic Heisenberg Hamiltonian with a disordering field"
   ],
   "metadata": {}
  },
  {
   "outputs": [
    {
     "output_type": "execute_result",
     "data": {
      "text/plain": "8×8 LinearAlgebra.Hermitian{ComplexF64, Matrix{ComplexF64}}:\n 0.33037+0.0im       0.0+0.0im  …         0.0+0.0im         0.0+0.0im\n     0.0-0.0im  0.292325+0.0im            0.0+0.0im         0.0+0.0im\n     0.0-0.0im       0.0-0.0im            0.0+0.0im         0.0+0.0im\n     0.0-0.0im       0.0-0.0im            0.0+0.0im         0.0+0.0im\n     0.0-0.0im       0.0-0.0im            0.0+0.0im         0.0+0.0im\n     0.0-0.0im       0.0-0.0im  …         0.0+0.0im         0.0+0.0im\n     0.0-0.0im       0.0-0.0im     0.00693935+0.0im         0.0+0.0im\n     0.0-0.0im       0.0-0.0im            0.0-0.0im  0.00367007+0.0im"
     },
     "metadata": {},
     "execution_count": 3
    }
   ],
   "cell_type": "code",
   "source": [
    "hamiltonian = create_hamham(hamiltonian_terms, hamiltonian_coeffs, disordering_term, disordering_coeffs, num_qubits)\n",
    "hamiltonian.gibbs = Hermitian(gibbs_state_in_eigen(hamiltonian, beta))"
   ],
   "metadata": {},
   "execution_count": 3
  },
  {
   "cell_type": "markdown",
   "source": [
    "Note that we added here a disordering field to the Hamiltonian in order to make its spectrum unique. A priori the algorithm\n",
    "should also work with degenerate spectra, but a unique one definitely makes things easier to converge. Nevertheless\n",
    "exploring what effects a degenerate spectrum have on the algorithm would be quite interesting too."
   ],
   "metadata": {}
  },
  {
   "cell_type": "markdown",
   "source": [
    "## 3. Define the jump operators for the evolution"
   ],
   "metadata": {}
  },
  {
   "outputs": [
    {
     "output_type": "execute_result",
     "data": {
      "text/plain": "3-element Vector{Vector{Matrix{ComplexF64}}}:\n [[0.0 + 0.0im 1.0 + 0.0im; 1.0 + 0.0im 0.0 + 0.0im]]\n [[0.0 + 0.0im 0.0 - 1.0im; 0.0 + 1.0im 0.0 + 0.0im]]\n [[1.0 + 0.0im 0.0 + 0.0im; 0.0 + 0.0im -1.0 + 0.0im]]"
     },
     "metadata": {},
     "execution_count": 4
    }
   ],
   "cell_type": "code",
   "source": [
    "jump_set = [[X], [Y], [Z]]"
   ],
   "metadata": {},
   "execution_count": 4
  },
  {
   "cell_type": "markdown",
   "source": [
    "1-site Pauli jumps over each system site"
   ],
   "metadata": {}
  },
  {
   "outputs": [],
   "cell_type": "code",
   "source": [
    "jumps::Vector{JumpOp} = []\n",
    "jump_normalization = sqrt(length(jump_set) * num_qubits)\n",
    "for jump_a in jump_set\n",
    "    for site in 1:num_qubits\n",
    "        jump_op = Matrix(pad_term(jump_a, num_qubits, site)) / jump_normalization\n",
    "        jump_op_in_eigenbasis = hamiltonian.eigvecs' * jump_op * hamiltonian.eigvecs\n",
    "        orthogonal = (jump_op == transpose(jump_op))\n",
    "        jump = JumpOp(jump_op, jump_op_in_eigenbasis, orthogonal)\n",
    "        push!(jumps, jump)\n",
    "    end\n",
    "end"
   ],
   "metadata": {},
   "execution_count": 5
  },
  {
   "cell_type": "markdown",
   "source": [
    "Even though it seems unassuming, that we use single-site Pauli jump operators, the actual jumps that are\n",
    "applied to the system are spread out time evolved operators of the form $A(t) = f(t) exp(iHt) A exp(-iHt)$,\n",
    "with some Gaussian filter function f(t). Since the time evolutions can be quite large, while the simulable systems\n",
    "quite small, the actual jumps are effectively full system sized in most cases.\n",
    "The jump normalization is required for the block encoding in the algorithm, as the operators should have a norm\n",
    "less than or equal to 1."
   ],
   "metadata": {}
  },
  {
   "cell_type": "markdown",
   "source": [
    "## 4. Find the thermal state\n",
    "Finally we can run the core function, that we will evolve the initial state by approximated Lindbladian evolution,\n",
    "always a $\\delta$ step at a time. The result then will be deviating by $\\mathcal{O}(\\delta^2)$ errors from the\n",
    "target Gibbs state."
   ],
   "metadata": {}
  },
  {
   "outputs": [
    {
     "output_type": "execute_result",
     "data": {
      "text/plain": "8×8 Matrix{ComplexF64}:\n 0.125+0.0im    0.0+0.0im    0.0+0.0im  …    0.0+0.0im    0.0+0.0im\n   0.0+0.0im  0.125+0.0im    0.0+0.0im       0.0+0.0im    0.0+0.0im\n   0.0+0.0im    0.0+0.0im  0.125+0.0im       0.0+0.0im    0.0+0.0im\n   0.0+0.0im    0.0+0.0im    0.0+0.0im       0.0+0.0im    0.0+0.0im\n   0.0+0.0im    0.0+0.0im    0.0+0.0im       0.0+0.0im    0.0+0.0im\n   0.0+0.0im    0.0+0.0im    0.0+0.0im  …    0.0+0.0im    0.0+0.0im\n   0.0+0.0im    0.0+0.0im    0.0+0.0im     0.125+0.0im    0.0+0.0im\n   0.0+0.0im    0.0+0.0im    0.0+0.0im       0.0+0.0im  0.125+0.0im"
     },
     "metadata": {},
     "execution_count": 6
    }
   ],
   "cell_type": "code",
   "source": [
    "initial_dm = Matrix{ComplexF64}(I(dim) / dim)"
   ],
   "metadata": {},
   "execution_count": 6
  },
  {
   "cell_type": "markdown",
   "source": [
    "Evolve the system:"
   ],
   "metadata": {}
  },
  {
   "outputs": [
    {
     "name": "stdout",
     "output_type": "stream",
     "text": [
      "--- The Press ---\n",
      "domain: TimeDomain()\n",
      "num_qubits: 3\n",
      "num_energy_bits: 10\n",
      "beta: 10.0\n",
      "a: 0.0\n",
      "b: 0.0\n",
      "t0: 0.1227184630308513\n",
      "w0: 0.05\n",
      "with_coherent: true\n",
      "with_linear_combination: false\n",
      "mixing time: 10.0\n",
      "delta: 0.1\n",
      "unravel: false\n",
      "-----------------\n",
      "Thermalizing (Time)\n",
      "Gaussian\n",
      "Gaussian\n",
      "Dist to Gibbs: 0.44626234276120735\n",
      "Dist to Gibbs: 0.44132850985968586\n",
      "Dist to Gibbs: 0.4364495346358409\n",
      "Dist to Gibbs: 0.43162476679713996\n",
      "Dist to Gibbs: 0.42685356587377915\n",
      "Dist to Gibbs: 0.4221353009852812\n",
      "Dist to Gibbs: 0.4174693506150311\n",
      "Dist to Gibbs: 0.41285510239245493\n",
      "Dist to Gibbs: 0.4082919528825384\n",
      "Dist to Gibbs: 0.4037793073824036\n",
      "Dist to Gibbs: 0.39931657972466994\n",
      "Dist to Gibbs: 0.3949031920873365\n",
      "Dist to Gibbs: 0.390538574809937\n",
      "Dist to Gibbs: 0.38622216621572253\n",
      "Dist to Gibbs: 0.38195341243964115\n",
      "Dist to Gibbs: 0.3777317672618941\n",
      "Dist to Gibbs: 0.37355669194684854\n",
      "Dist to Gibbs: 0.3694276550871103\n",
      "Dist to Gibbs: 0.3653441324525494\n",
      "Dist to Gibbs: 0.36130560684409874\n",
      "Dist to Gibbs: 0.3573115679521356\n",
      "Dist to Gibbs: 0.3533615122192783\n",
      "Dist to Gibbs: 0.34945494270742467\n",
      "Dist to Gibbs: 0.3455913689688761\n",
      "Dist to Gibbs: 0.34177030692138893\n",
      "Dist to Gibbs: 0.3379912787270075\n",
      "Dist to Gibbs: 0.3342538126745333\n",
      "Dist to Gibbs: 0.3305574430654975\n",
      "Dist to Gibbs: 0.3269017101035002\n",
      "Dist to Gibbs: 0.32328615978679576\n",
      "Dist to Gibbs: 0.319710343803998\n",
      "Dist to Gibbs: 0.3161738194327931\n",
      "Dist to Gibbs: 0.31267614944154454\n",
      "Dist to Gibbs: 0.309216901993686\n",
      "Dist to Gibbs: 0.3057956505547975\n",
      "Dist to Gibbs: 0.302411973802266\n",
      "Dist to Gibbs: 0.29906545553743547\n",
      "Dist to Gibbs: 0.29575568460015544\n",
      "Dist to Gibbs: 0.2924822547856406\n",
      "Dist to Gibbs: 0.28924476476355526\n",
      "Dist to Gibbs: 0.28604281799924536\n",
      "Dist to Gibbs: 0.28287602267703726\n",
      "Dist to Gibbs: 0.27974399162552976\n",
      "Dist to Gibbs: 0.2766463422448089\n",
      "Dist to Gibbs: 0.27358269643551425\n",
      "Dist to Gibbs: 0.2705526805296936\n",
      "Dist to Gibbs: 0.26755592522338\n",
      "Dist to Gibbs: 0.2645920655108318\n",
      "Dist to Gibbs: 0.2616607406203767\n",
      "Dist to Gibbs: 0.2587615939518034\n",
      "Dist to Gibbs: 0.25589427301524664\n",
      "Dist to Gibbs: 0.25305842937151485\n",
      "Dist to Gibbs: 0.2502537185738094\n",
      "Dist to Gibbs: 0.24747980011078782\n",
      "Dist to Gibbs: 0.24473633735092531\n",
      "Dist to Gibbs: 0.2420229974881309\n",
      "Dist to Gibbs: 0.2393394514885734\n",
      "Dist to Gibbs: 0.23668537403868034\n",
      "Dist to Gibbs: 0.23406044349426677\n",
      "Dist to Gibbs: 0.2314643418307585\n",
      "Dist to Gibbs: 0.2288967545944731\n",
      "Dist to Gibbs: 0.22635737085492413\n",
      "Dist to Gibbs: 0.22384588315811438\n",
      "Dist to Gibbs: 0.22136198748078686\n",
      "Dist to Gibbs: 0.21890538318560224\n",
      "Dist to Gibbs: 0.21647577297721374\n",
      "Dist to Gibbs: 0.21407286285920943\n",
      "Dist to Gibbs: 0.2116963620918966\n",
      "Dist to Gibbs: 0.2093459831509003\n",
      "Dist to Gibbs: 0.207021441686551\n",
      "Dist to Gibbs: 0.204722456484038\n",
      "Dist to Gibbs: 0.20244874942430388\n",
      "Dist to Gibbs: 0.2002000454456582\n",
      "Dist to Gibbs: 0.19797607250608823\n",
      "Dist to Gibbs: 0.1957765615462478\n",
      "Dist to Gibbs: 0.19360124645310078\n",
      "Dist to Gibbs: 0.19144986402420294\n",
      "Dist to Gibbs: 0.18932215393260296\n",
      "Dist to Gibbs: 0.18721785869234386\n",
      "Dist to Gibbs: 0.18513672362454844\n",
      "Dist to Gibbs: 0.18307849682407176\n",
      "Dist to Gibbs: 0.18104292912670647\n",
      "Dist to Gibbs: 0.17902977407692205\n",
      "Dist to Gibbs: 0.17703878789612779\n",
      "Dist to Gibbs: 0.17506972945144164\n",
      "Dist to Gibbs: 0.1731223602249533\n",
      "Dist to Gibbs: 0.17119644428346775\n",
      "Dist to Gibbs: 0.16929174824871693\n",
      "Dist to Gibbs: 0.16740804126802686\n",
      "Dist to Gibbs: 0.16554509498542858\n",
      "Dist to Gibbs: 0.1637026835132028\n",
      "Dist to Gibbs: 0.16188058340384498\n",
      "Dist to Gibbs: 0.1600785736224427\n",
      "Dist to Gibbs: 0.1582964355194541\n",
      "Dist to Gibbs: 0.1565339528038773\n",
      "Dist to Gibbs: 0.1547909115168027\n",
      "Dist to Gibbs: 0.15306710000533694\n",
      "Dist to Gibbs: 0.15136230889689306\n",
      "Dist to Gibbs: 0.14967633107383457\n",
      "Dist to Gibbs: 0.14800896164846838\n",
      "\n",
      " Last distance to Gibbs: %s\n",
      "0.14800896164846838\n"
     ]
    }
   ],
   "cell_type": "code",
   "source": [
    "results = run_thermalization(jumps, config, initial_dm, hamiltonian)\n",
    "\n",
    "println(\"\\n Last distance to Gibbs: %s\\n\", results.distances_to_gibbs[end])"
   ],
   "metadata": {},
   "execution_count": 7
  },
  {
   "cell_type": "markdown",
   "source": [
    "---\n",
    "\n",
    "*This notebook was generated using [Literate.jl](https://github.com/fredrikekre/Literate.jl).*"
   ],
   "metadata": {}
  }
 ],
 "nbformat_minor": 3,
 "metadata": {
  "language_info": {
   "file_extension": ".jl",
   "mimetype": "application/julia",
   "name": "julia",
   "version": "1.12.1"
  },
  "kernelspec": {
   "name": "julia-1.12",
   "display_name": "Julia 1.12.1",
   "language": "julia"
  }
 },
 "nbformat": 4
}