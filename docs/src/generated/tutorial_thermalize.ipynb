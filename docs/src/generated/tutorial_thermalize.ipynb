{
 "cells": [
  {
   "cell_type": "markdown",
   "source": [
    "# Finding a Thermal State\n",
    "In this tutorial we will give more details on one of the core functions of the software package:\n",
    "on how to drive a given quantum system to the thermal state via a simulated open quantum system evolution.\n",
    "We will see how to set up everything for the function `run_thermalization` and also what it actually does behind\n",
    "the curtains.\n",
    "\n",
    "In summary, `run_thermalization` takes in a basic set of configurations (number of qubits, temperature, etc.),\n",
    "the Hamiltonian $H$ that describes the system, an initial state $\\rho_0$ where the evolution starts from and the set of jumps\n",
    "$\\{A^a\\}$ that prescribe that evolution. It will simulate the [open quantum system evolution](theory_oqs_dynamics.md) or Lindbladian evolution\n",
    "with a [weak-measurement based algorithm](theory_weak_measurement.md). You can read more about them in the Theory section if you follow\n",
    "the links. Here, it is enough to just think of it as the following process:\n",
    "- Start from an initial density matrix $\\rho_0$.\n",
    "- Evolve it for a short $\\delta$ amount of time, $\\rho_\\delta = (\\mathds{1} + \\delta \\mathcal{L})\\rho_0 + \\mathcal{O}(\\delta^2) \\simeq e^{\\delta \\mathcal{L}}(\\rho_0)$.\n",
    "- Repeat until $\\rho_t$ gets close enough to the target state $\\sigma_\\beta = e^{-\\beta H} / Z$, i.e. the Gibbs state.\n",
    "Here the magic is still hidden in the generator $\\mathcal{L}$, but the crucial property it has is that the dynamics it generates,\n",
    "given by $e^{t \\mathcal{L}}$, has the Gibbs state as its unique fixed point. Thus if we evolve the system for a long enough time\n",
    "all other contribution will decay and the only state that survives is the Gibbs state.\n",
    "\n",
    "Let us go through the main steps of the code:\n",
    "\n",
    "## 1. Configure the algorithm parameters"
   ],
   "metadata": {}
  },
  {
   "outputs": [],
   "cell_type": "code",
   "source": [
    "using QuantumFurnace\n",
    "using LinearAlgebra\n",
    "\n",
    "num_qubits = 3\n",
    "dim = 2^num_qubits\n",
    "num_energy_bits = 10\n",
    "beta = 10.0\n",
    "w0 = 0.05                            # Energy estimating precision\n",
    "t0 = 2pi / (2^num_energy_bits * w0)  # Time estimating precision\n",
    "\n",
    "domain = TimeDomain()\n",
    "\n",
    "with_coherent = true                  # For exact detailed balance\n",
    "with_linear_combination = false       # Gaussian transitions\n",
    "a = 0.0\n",
    "b = 0.0\n",
    "eta = 0.0\n",
    "\n",
    "mixing_time_bound = 10.0\n",
    "delta = 0.1\n",
    "\n",
    "config = ThermalizeConfig(\n",
    "    num_qubits = num_qubits,\n",
    "    with_coherent = with_coherent,\n",
    "    with_linear_combination = with_linear_combination,\n",
    "    domain = domain,\n",
    "    beta = beta,\n",
    "    a = a,\n",
    "    b = b,\n",
    "    num_energy_bits = num_energy_bits,\n",
    "    w0 = w0,\n",
    "    t0 = t0,\n",
    "    mixing_time = mixing_time_bound,\n",
    "    delta = delta,\n",
    ") ;"
   ],
   "metadata": {},
   "execution_count": 1
  },
  {
   "cell_type": "markdown",
   "source": [
    "**Domains** $\\quad$ Algorithms are translated to the quantum computer in the form of quantum circuits, a set of unitary\n",
    "quantum gates, that inherently work in the time domain, which is also what we mean by choosing `domain` to be `TimeDomain`.\n",
    "More realistically, time evolutions are decomposed into a Trotter product, which is also possible to see in our code via\n",
    "`TrotterDomain`. Though the original mathematical problem of finding a Lindbladian that evolves the system to the thermal\n",
    "state is formulated in the Bohr and Energy domains, that should pose no problem for us. We can always move from the time\n",
    "domain to the energy domain with the Fourier transform.\n",
    "\n",
    "**Coherent term** $\\quad$ It has been proven (see [Theory](theory_detailed_balance.md)) that by adding a specific coherent term\n",
    "to the Lindbladian, we can have the Gibbs state as the unique fixed point of the generator. But even if we omit it\n",
    "by setting `with_coherent = false`, we would find an approximately good (or bad) result.\n",
    "\n",
    "**Linear combinations** $\\quad$ A simpler version of the theory is when we don't take a convex combination of\n",
    "Lindbladians. We can think of this as singling out a thin Gaussian region for which we allow transitions for certain\n",
    "energy differences induced by the jumps. We can also turn on the linear combination option, and thus have more borad\n",
    "transition while keeping the Gibbs state as the target state (see [Theory](theory_convex_combination.md)).\n",
    "\n",
    "## 2. Define the system Hamiltonian\n",
    "\n",
    "Next, we will define and construct the Hamiltonian of the subsystem we want to thermalize. We will use the function called\n",
    "`create_hamham`. If we know how the terms in our Hamiltonian decompose into tensor products of single qubit terms, then\n",
    "this function will generate a Hamiltonian whose spectrum is within [0.0, 0.45] and creates a HamHam object with some other\n",
    "necessary fields in it like its eigenvectors, or its Gibbs state."
   ],
   "metadata": {}
  },
  {
   "outputs": [],
   "cell_type": "code",
   "source": [
    "X::Matrix{ComplexF64} = [0 1; 1 0]\n",
    "Y::Matrix{ComplexF64} = [0.0 -im; im 0.0]\n",
    "Z::Matrix{ComplexF64} = [1 0; 0 -1]\n",
    "\n",
    "hamiltonian_terms = [[X, X], [Y, Y], [Z, Z]]\n",
    "hamiltonian_coeffs = fill(1.0, length(hamiltonian_terms))\n",
    "disordering_term = [Z]\n",
    "disordering_coeffs = rand(num_qubits) ;"
   ],
   "metadata": {},
   "execution_count": 2
  },
  {
   "cell_type": "markdown",
   "source": [
    "Generate a 4-qubit chain antiferromagnetic Heisenberg Hamiltonian with a disordering field"
   ],
   "metadata": {}
  },
  {
   "outputs": [],
   "cell_type": "code",
   "source": [
    "hamiltonian = create_hamham(hamiltonian_terms, hamiltonian_coeffs, disordering_term, disordering_coeffs, num_qubits)\n",
    "hamiltonian.gibbs = Hermitian(gibbs_state_in_eigen(hamiltonian, beta)) ;"
   ],
   "metadata": {},
   "execution_count": 3
  },
  {
   "cell_type": "markdown",
   "source": [
    "Note that we added here a disordering field to the Hamiltonian in order to make its spectrum unique. A priori the algorithm\n",
    "should also work with degenerate spectra, but a unique one definitely makes things easier to converge. Nevertheless\n",
    "exploring what effects a degenerate spectrum have on the algorithm would be quite interesting too."
   ],
   "metadata": {}
  },
  {
   "cell_type": "markdown",
   "source": [
    "## 3. Define the jump operators for the evolution"
   ],
   "metadata": {}
  },
  {
   "outputs": [],
   "cell_type": "code",
   "source": [
    "jump_set = [[X], [Y], [Z]] ;"
   ],
   "metadata": {},
   "execution_count": 4
  },
  {
   "cell_type": "markdown",
   "source": [
    "1-site Pauli jumps are generated over each system site and save their form in the eigenbasis\n",
    "we work in for effficiency:"
   ],
   "metadata": {}
  },
  {
   "outputs": [],
   "cell_type": "code",
   "source": [
    "jumps::Vector{JumpOp} = []\n",
    "jump_normalization = sqrt(length(jump_set) * num_qubits)\n",
    "for jump_a in jump_set\n",
    "    for site in 1:num_qubits\n",
    "        jump_op = Matrix(pad_term(jump_a, num_qubits, site)) / jump_normalization\n",
    "        jump_op_in_eigenbasis = hamiltonian.eigvecs' * jump_op * hamiltonian.eigvecs\n",
    "        orthogonal = (jump_op == transpose(jump_op))\n",
    "        jump = JumpOp(jump_op, jump_op_in_eigenbasis, orthogonal)\n",
    "        push!(jumps, jump)\n",
    "    end\n",
    "end ;"
   ],
   "metadata": {},
   "execution_count": 5
  },
  {
   "cell_type": "markdown",
   "source": [
    "Even though it seems unassuming, that we use single-site Pauli jump operators, the actual jumps that are\n",
    "applied to the system are spread out time evolved operators of the form $A(t) = f(t) exp(iHt) A exp(-iHt)$,\n",
    "with some Gaussian filter function f(t). Since the time evolutions can be quite large, while the simulable systems\n",
    "quite small, the actual jumps are effectively full system sized in most cases.\n",
    "The jump normalization is required for the block encoding in the algorithm, as the operators should have a norm\n",
    "less than or equal to 1."
   ],
   "metadata": {}
  },
  {
   "cell_type": "markdown",
   "source": [
    "## 4. Find the thermal state\n",
    "Finally we can run the core function, that we will evolve the initial state by approximated Lindbladian evolution,\n",
    "always a $\\delta$ step at a time. The result then will be deviating by $\\mathcal{O}(\\delta^2)$ errors from the\n",
    "target Gibbs state."
   ],
   "metadata": {}
  },
  {
   "outputs": [],
   "cell_type": "code",
   "source": [
    "initial_dm = Matrix{ComplexF64}(I(dim) / dim) ;"
   ],
   "metadata": {},
   "execution_count": 6
  },
  {
   "cell_type": "markdown",
   "source": [
    "Evolve the system:"
   ],
   "metadata": {}
  },
  {
   "outputs": [
    {
     "name": "stdout",
     "output_type": "stream",
     "text": [
      "--- The Press ---\n",
      "domain: TimeDomain()\n",
      "num_qubits: 3\n",
      "num_energy_bits: 10\n",
      "beta: 10.0\n",
      "a: 0.0\n",
      "b: 0.0\n",
      "t0: 0.1227184630308513\n",
      "w0: 0.05\n",
      "with_coherent: true\n",
      "with_linear_combination: false\n",
      "mixing time: 10.0\n",
      "delta: 0.1\n",
      "unravel: false\n",
      "-----------------\n",
      "Thermalizing (Time)\n",
      "Gaussian\n",
      "Gaussian\n",
      "Dist to Gibbs: 0.4298082480411382\n",
      "Dist to Gibbs: 0.4237099269726555\n",
      "Dist to Gibbs: 0.41770178743407166\n",
      "Dist to Gibbs: 0.4117823628581474\n",
      "Dist to Gibbs: 0.4059502153298974\n",
      "Dist to Gibbs: 0.4002039348647662\n",
      "Dist to Gibbs: 0.39454213870968385\n",
      "Dist to Gibbs: 0.3889634706661635\n",
      "Dist to Gibbs: 0.38346660043463504\n",
      "Dist to Gibbs: 0.3780502229792392\n",
      "Dist to Gibbs: 0.3727130579123429\n",
      "Dist to Gibbs: 0.36745384889806276\n",
      "Dist to Gibbs: 0.36227136307411034\n",
      "Dist to Gibbs: 0.35716439049130244\n",
      "Dist to Gibbs: 0.3521317435701045\n",
      "Dist to Gibbs: 0.34717225657360007\n",
      "Dist to Gibbs: 0.3422847850963015\n",
      "Dist to Gibbs: 0.33746820556824386\n",
      "Dist to Gibbs: 0.332721414773818\n",
      "Dist to Gibbs: 0.32804332938483194\n",
      "Dist to Gibbs: 0.32343288550729365\n",
      "Dist to Gibbs: 0.318889038241443\n",
      "Dist to Gibbs: 0.3144107612545697\n",
      "Dist to Gibbs: 0.30999704636617165\n",
      "Dist to Gibbs: 0.3056469031450327\n",
      "Dist to Gibbs: 0.3013593585178044\n",
      "Dist to Gibbs: 0.29713345638870237\n",
      "Dist to Gibbs: 0.29296825726993275\n",
      "Dist to Gibbs: 0.2888628379224878\n",
      "Dist to Gibbs: 0.28481629100695743\n",
      "Dist to Gibbs: 0.28082772474401796\n",
      "Dist to Gibbs: 0.2768962625842742\n",
      "Dist to Gibbs: 0.2730210428871397\n",
      "Dist to Gibbs: 0.2692012186084562\n",
      "Dist to Gibbs: 0.2654359569965583\n",
      "Dist to Gibbs: 0.26172443929650774\n",
      "Dist to Gibbs: 0.25806586046222424\n",
      "Dist to Gibbs: 0.25445942887625755\n",
      "Dist to Gibbs: 0.25090436607694755\n",
      "Dist to Gibbs: 0.2473999064927341\n",
      "Dist to Gibbs: 0.2439452971833841\n",
      "Dist to Gibbs: 0.24053979758791302\n",
      "Dist to Gibbs: 0.2371826792789859\n",
      "Dist to Gibbs: 0.23387322572358943\n",
      "Dist to Gibbs: 0.2306107320497781\n",
      "Dist to Gibbs: 0.22739450481929868\n",
      "Dist to Gibbs: 0.22422386180591136\n",
      "Dist to Gibbs: 0.2210981317792251\n",
      "Dist to Gibbs: 0.21801665429387693\n",
      "Dist to Gibbs: 0.21497877948389013\n",
      "Dist to Gibbs: 0.21198386786204834\n",
      "Dist to Gibbs: 0.20903129012413307\n",
      "Dist to Gibbs: 0.20612042695787544\n",
      "Dist to Gibbs: 0.20325066885647788\n",
      "Dist to Gibbs: 0.20042141593656848\n",
      "Dist to Gibbs: 0.1976320777604523\n",
      "Dist to Gibbs: 0.19488207316253287\n",
      "Dist to Gibbs: 0.192170830079778\n",
      "Dist to Gibbs: 0.18949778538611045\n",
      "Dist to Gibbs: 0.18686238473060746\n",
      "Dist to Gibbs: 0.18426408237939723\n",
      "Dist to Gibbs: 0.18170234106114444\n",
      "Dist to Gibbs: 0.17917663181602042\n",
      "Dist to Gibbs: 0.17668643384805782\n",
      "Dist to Gibbs: 0.1742312343807922\n",
      "Dist to Gibbs: 0.17181052851609657\n",
      "Dist to Gibbs: 0.16942381909611848\n",
      "Dist to Gibbs: 0.16707061656823205\n",
      "Dist to Gibbs: 0.16475043885292065\n",
      "Dist to Gibbs: 0.16246281121450823\n",
      "Dist to Gibbs: 0.16020726613465902\n",
      "Dist to Gibbs: 0.15798334318857266\n",
      "Dist to Gibbs: 0.15579058892379677\n",
      "Dist to Gibbs: 0.15362855674158937\n",
      "Dist to Gibbs: 0.15149680678075927\n",
      "Dist to Gibbs: 0.14939490580391968\n",
      "Dist to Gibbs: 0.14732242708608953\n",
      "Dist to Gibbs: 0.14527895030558063\n",
      "Dist to Gibbs: 0.14326406143711012\n",
      "Dist to Gibbs: 0.1412773526470798\n",
      "Dist to Gibbs: 0.1393184221909654\n",
      "Dist to Gibbs: 0.13738687431276306\n",
      "Dist to Gibbs: 0.1354823191464367\n",
      "Dist to Gibbs: 0.13360437261931857\n",
      "Dist to Gibbs: 0.13175265635741068\n",
      "Dist to Gibbs: 0.12992679759254144\n",
      "Dist to Gibbs: 0.12812642907132826\n",
      "Dist to Gibbs: 0.12635118896590408\n",
      "Dist to Gibbs: 0.12460072078636111\n",
      "Dist to Gibbs: 0.12287467329487245\n",
      "Dist to Gibbs: 0.12117270042144854\n",
      "Dist to Gibbs: 0.11949446118128886\n",
      "Dist to Gibbs: 0.11783961959369177\n",
      "Dist to Gibbs: 0.116207844602484\n",
      "Dist to Gibbs: 0.11459880999793322\n",
      "Dist to Gibbs: 0.11301219434010999\n",
      "Dist to Gibbs: 0.11144768088366416\n",
      "Dist to Gibbs: 0.10990495750398174\n",
      "Dist to Gibbs: 0.10838371662469283\n",
      "Dist to Gibbs: 0.10688365514649646\n",
      "\n",
      " Last distance to Gibbs: %s\n",
      "0.10688365514649646\n"
     ]
    }
   ],
   "cell_type": "code",
   "source": [
    "results = run_thermalization(jumps, config, initial_dm, hamiltonian)\n",
    "\n",
    "println(\"\\n Last distance to Gibbs: %s\\n\", results.distances_to_gibbs[end])"
   ],
   "metadata": {},
   "execution_count": 7
  },
  {
   "cell_type": "markdown",
   "source": [
    "---\n",
    "\n",
    "*This notebook was generated using [Literate.jl](https://github.com/fredrikekre/Literate.jl).*"
   ],
   "metadata": {}
  }
 ],
 "nbformat_minor": 3,
 "metadata": {
  "language_info": {
   "file_extension": ".jl",
   "mimetype": "application/julia",
   "name": "julia",
   "version": "1.12.1"
  },
  "kernelspec": {
   "name": "julia-1.12",
   "display_name": "Julia 1.12.1",
   "language": "julia"
  }
 },
 "nbformat": 4
}