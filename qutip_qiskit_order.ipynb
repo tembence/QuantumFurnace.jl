{
 "cells": [
  {
   "cell_type": "code",
   "execution_count": 6,
   "metadata": {},
   "outputs": [],
   "source": [
    "import numpy as np\n",
    "import qutip as qt\n",
    "from scipy.linalg import logm, expm\n",
    "from qiskit.quantum_info import Operator, state_fidelity\n",
    "from qiskit import QuantumCircuit, QuantumRegister, ClassicalRegister, Aer\n",
    "\n",
    "from tools.classical import *\n",
    "from tools.quantum import *"
   ]
  },
  {
   "cell_type": "code",
   "execution_count": 7,
   "metadata": {},
   "outputs": [
    {
     "name": "stdout",
     "output_type": "stream",
     "text": [
      "{'00010': 1000}\n"
     ]
    }
   ],
   "source": [
    "\n",
    "#* Qiskit Convention: indices run from TOP -> BOTTOM and resulting bitstrings are read from RIGHT -> LEFT\n",
    "#* It's like a fallen tree, the LSB in circuit is the top one, and in the resulting bitstring then the right most one\n",
    "num_qubits = 5\n",
    "qr = QuantumRegister(num_qubits)\n",
    "cr = ClassicalRegister(num_qubits)\n",
    "circ = QuantumCircuit(qr, cr)\n",
    "i_qiskit = 1\n",
    "j_qiskit = 2\n",
    "\n",
    "circ.x(qr[i_qiskit])\n",
    "circ.x(qr[j_qiskit])\n",
    "circ.y(qr[j_qiskit])\n",
    "circ.measure(qr, cr)\n",
    "\n",
    "tr_circ = transpile(circ, basis_gates=['cx', 'u3'], optimization_level=3)\n",
    "simulator = Aer.get_backend('statevector_simulator')\n",
    "shots = 1000\n",
    "job = simulator.run(tr_circ, shots=shots)\n",
    "counts = job.result().get_counts()\n",
    "counts = dict(sorted(counts.items(), key=lambda item: item[1], reverse=True))\n",
    "\n",
    "print(counts)"
   ]
  },
  {
   "cell_type": "code",
   "execution_count": 10,
   "metadata": {},
   "outputs": [],
   "source": [
    "\n",
    "#* Qutip and my Numpy way of tensor product gives the same result as Qiskit -> THEY DON'T HAVE REVERSED ORDER\n",
    "\n",
    "def tensor_product(arrays : list[np.ndarray]):\n",
    "    \"\"\"Returns the tensor product of the given arrays\"\"\"\n",
    "    if len(arrays) == 1:\n",
    "        return arrays[0]\n",
    "    else:\n",
    "        return np.kron(arrays[0], tensor_product(arrays[1:]))\n",
    "\n",
    "X = np.array([[0, 1], [1, 0]]) # Pauli X\n",
    "Y = np.array([[0, -1j], [1j, 0]]) # Pauli Y\n",
    "I = np.eye(2)\n",
    "op_list_qiskit_indices_XX = [I, X, X, I, I]\n",
    "op_list_qiskit_indices_XX.reverse()\n",
    "op_list = op_list_qiskit_indices_XX\n",
    "opXX = tensor_product(op_list)\n",
    "\n",
    "op_list_qiskit_indices_Y = [I, I, Y, I, I]\n",
    "op_list_qiskit_indices_Y.reverse()\n",
    "op_list = op_list_qiskit_indices_Y\n",
    "opY = tensor_product(op_list)\n",
    "\n",
    "\n",
    "# op_list_qiskit_indices = [qt.Qobj(I), qt.Qobj(X), qt.Qobj(X), qt.Qobj(I), qt.Qobj(I)]\n",
    "# op_list_qiskit_indices.reverse()\n",
    "# op_list = op_list_qiskit_indices\n",
    "# op = qt.tensor(op_list).full()\n",
    "\n",
    "# opXX = pad_term([qt.Qobj(X), qt.Qobj(X)], num_qubits, i_qiskit).full()\n",
    "# opY = pad_term([qt.Qobj(Y)], num_qubits, j_qiskit).full()\n",
    "\n",
    "op = opY @ opXX"
   ]
  },
  {
   "cell_type": "code",
   "execution_count": 11,
   "metadata": {},
   "outputs": [
    {
     "name": "stdout",
     "output_type": "stream",
     "text": [
      "{'00010': 1000}\n"
     ]
    }
   ],
   "source": [
    "op = Operator(op)\n",
    "circ_np = QuantumCircuit(qr, cr)\n",
    "circ_np.append(op, qr)\n",
    "circ_np.measure(qr, cr)\n",
    "\n",
    "tr_circ_np = transpile(circ_np, basis_gates=['cx', 'u3'], optimization_level=3)\n",
    "simulator = Aer.get_backend('statevector_simulator')\n",
    "shots = 1000\n",
    "job = simulator.run(tr_circ_np, shots=shots)\n",
    "counts = job.result().get_counts()\n",
    "counts = dict(sorted(counts.items(), key=lambda item: item[1], reverse=True))\n",
    "print(counts)\n"
   ]
  },
  {
   "cell_type": "code",
   "execution_count": 13,
   "metadata": {},
   "outputs": [
    {
     "name": "stdout",
     "output_type": "stream",
     "text": [
      "RXX angle , 1.1\n",
      "Sites (2, 3)\n",
      "Qutip\n",
      "[[0.45359612+0.j 0.        +0.j 0.        +0.j ... 0.        +0.j\n",
      "  0.        +0.j 0.        +0.j]\n",
      " [0.        +0.j 0.45359612+0.j 0.        +0.j ... 0.        +0.j\n",
      "  0.        +0.j 0.        +0.j]\n",
      " [0.        +0.j 0.        +0.j 0.45359612+0.j ... 0.        +0.j\n",
      "  0.        +0.j 0.        +0.j]\n",
      " ...\n",
      " [0.        +0.j 0.        +0.j 0.        +0.j ... 0.45359612+0.j\n",
      "  0.        +0.j 0.        +0.j]\n",
      " [0.        +0.j 0.        +0.j 0.        +0.j ... 0.        +0.j\n",
      "  0.45359612+0.j 0.        +0.j]\n",
      " [0.        +0.j 0.        +0.j 0.        +0.j ... 0.        +0.j\n",
      "  0.        +0.j 0.45359612+0.j]]\n",
      "Qiskit\n",
      "Operator([[0.45359612+0.j, 0.        +0.j, 0.        +0.j, ...,\n",
      "           0.        +0.j, 0.        +0.j, 0.        +0.j],\n",
      "          [0.        +0.j, 0.45359612+0.j, 0.        +0.j, ...,\n",
      "           0.        +0.j, 0.        +0.j, 0.        +0.j],\n",
      "          [0.        +0.j, 0.        +0.j, 0.45359612+0.j, ...,\n",
      "           0.        +0.j, 0.        +0.j, 0.        +0.j],\n",
      "          ...,\n",
      "          [0.        +0.j, 0.        +0.j, 0.        +0.j, ...,\n",
      "           0.45359612+0.j, 0.        +0.j, 0.        +0.j],\n",
      "          [0.        +0.j, 0.        +0.j, 0.        +0.j, ...,\n",
      "           0.        +0.j, 0.45359612+0.j, 0.        +0.j],\n",
      "          [0.        +0.j, 0.        +0.j, 0.        +0.j, ...,\n",
      "           0.        +0.j, 0.        +0.j, 0.45359612+0.j]],\n",
      "         input_dims=(2, 2, 2, 2, 2), output_dims=(2, 2, 2, 2, 2))\n",
      "Distance between Qutip and Qiskit RXX 9.42055475210265e-16\n"
     ]
    }
   ],
   "source": [
    "# np.random.seed(138)\n",
    "# dist_qutip_qiskit = 0.\n",
    "# while dist_qutip_qiskit < 1:\n",
    "step_size = np.random.rand()\n",
    "step_size = 1.1\n",
    "print(f'RXX angle , {step_size}')\n",
    "i = np.random.randint(0, num_qubits)\n",
    "j = (i + 1) % num_qubits\n",
    "print(f'Sites {i, j}')\n",
    "\n",
    "#* Qutip\n",
    "XX = pad_term([qt.sigmax(), qt.sigmax()], num_qubits, i)\n",
    "eXX = expm(1j*step_size*XX.full())\n",
    "\n",
    "# XX_byhand_reversed = qt.tensor([qt.qeye(2), qt.sigmax(), qt.sigmax()])\n",
    "# eXX_byhand_reversed = expm(1j*step_size*XX_byhand_reversed.full())\n",
    "\n",
    "print('Qutip')\n",
    "print(eXX)\n",
    "#* Qiskit\n",
    "rxx_circ = QuantumCircuit(num_qubits)\n",
    "rxx_circ.rxx(-2 * step_size, i, j)\n",
    "rxx_op = Operator(rxx_circ)\n",
    "print('Qiskit')\n",
    "print(rxx_op)\n",
    "\n",
    "dist_qutip_qiskit = np.linalg.norm(eXX - rxx_op.data)\n",
    "# dist_qutip_qiskit_reversed = np.linalg.norm(eXX_byhand_reversed - rxx_op.data)\n",
    "print(f'Distance between Qutip and Qiskit RXX {dist_qutip_qiskit}')\n",
    "# print(f'Distance between Qutip and Qiskit RXX reversed {dist_qutip_qiskit_reversed}')\n"
   ]
  },
  {
   "cell_type": "markdown",
   "metadata": {},
   "source": [
    "### Register order"
   ]
  },
  {
   "cell_type": "code",
   "execution_count": 21,
   "metadata": {},
   "outputs": [
    {
     "name": "stdout",
     "output_type": "stream",
     "text": [
      "            ┌─┐                        \n",
      "  A_0: ─────┤M├────────────────────────\n",
      "       ┌───┐└╥┘                  ┌─┐   \n",
      "  A_1: ┤ X ├─╫───────────────────┤M├───\n",
      "       └───┘ ║ ┌─┐               └╥┘   \n",
      "  A_2: ──────╫─┤M├────────────────╫────\n",
      "             ║ └╥┘┌─┐             ║    \n",
      "  A_3: ──────╫──╫─┤M├─────────────╫────\n",
      "             ║  ║ └╥┘┌─┐          ║    \n",
      "  B_0: ──────╫──╫──╫─┤M├──────────╫────\n",
      "             ║  ║  ║ └╥┘┌─┐       ║    \n",
      "  B_1: ──────╫──╫──╫──╫─┤M├───────╫────\n",
      "             ║  ║  ║  ║ └╥┘┌─┐    ║    \n",
      "  B_2: ──────╫──╫──╫──╫──╫─┤M├────╫────\n",
      "             ║  ║  ║  ║  ║ └╥┘┌─┐ ║    \n",
      "  B_3: ──────╫──╫──╫──╫──╫──╫─┤M├─╫────\n",
      "       ┌───┐ ║  ║  ║  ║  ║  ║ └╥┘ ║ ┌─┐\n",
      "  B_4: ┤ X ├─╫──╫──╫──╫──╫──╫──╫──╫─┤M├\n",
      "       └┬─┬┘ ║  ║  ║  ║  ║  ║  ║  ║ └╥┘\n",
      "  B_5: ─┤M├──╫──╫──╫──╫──╫──╫──╫──╫──╫─\n",
      "        └╥┘  ║  ║  ║  ║  ║  ║  ║  ║  ║ \n",
      "c16: 4/══╬═══╩══╩══╩══╬══╬══╬══╬══╩══╬═\n",
      "         ║   0  2  3  ║  ║  ║  ║  1  ║ \n",
      "c17: 6/══╩════════════╩══╩══╩══╩═════╩═\n",
      "         5            0  1  2  3     4 \n",
      "{'010000 0010': 1000}\n"
     ]
    },
    {
     "name": "stderr",
     "output_type": "stream",
     "text": [
      "/Users/bence/miniforge3/envs/qiskit_env/lib/python3.11/site-packages/numpy/linalg/linalg.py:2180: RuntimeWarning: divide by zero encountered in det\n",
      "  r = _umath_linalg.det(a, signature=signature)\n",
      "/Users/bence/miniforge3/envs/qiskit_env/lib/python3.11/site-packages/numpy/linalg/linalg.py:2180: RuntimeWarning: invalid value encountered in det\n",
      "  r = _umath_linalg.det(a, signature=signature)\n"
     ]
    }
   ],
   "source": [
    "num_qubits_0 = 4\n",
    "num_qubits_1 = 6\n",
    "qr0 = QuantumRegister(num_qubits_0, name='A')\n",
    "qr1 = QuantumRegister(num_qubits_1, name='B')\n",
    "cr0 = ClassicalRegister(num_qubits_0)\n",
    "cr1 = ClassicalRegister(num_qubits_1)\n",
    "\n",
    "circ = QuantumCircuit(qr0, qr1, cr0, cr1)\n",
    "circ.x(qr0[1])\n",
    "circ.x(qr1[4])\n",
    "print(circ)\n",
    "\n",
    "circ.measure(qr0, cr0)\n",
    "circ.measure(qr1, cr1)\n",
    "\n",
    "\n",
    "\n",
    "tr_circ = transpile(circ, basis_gates=['cx', 'u3'], optimization_level=3)\n",
    "simulator = Aer.get_backend('statevector_simulator')\n",
    "shots = 1000\n",
    "job = simulator.run(tr_circ, shots=shots)\n",
    "counts = job.result().get_counts()\n",
    "counts = dict(sorted(counts.items(), key=lambda item: item[1], reverse=True))\n",
    "print(counts)\n"
   ]
  }
 ],
 "metadata": {
  "kernelspec": {
   "display_name": "qiskit_env",
   "language": "python",
   "name": "python3"
  },
  "language_info": {
   "codemirror_mode": {
    "name": "ipython",
    "version": 3
   },
   "file_extension": ".py",
   "mimetype": "text/x-python",
   "name": "python",
   "nbconvert_exporter": "python",
   "pygments_lexer": "ipython3",
   "version": "3.11.5"
  }
 },
 "nbformat": 4,
 "nbformat_minor": 2
}
