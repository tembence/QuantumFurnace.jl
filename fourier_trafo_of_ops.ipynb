{
 "cells": [
  {
   "cell_type": "code",
   "execution_count": 220,
   "metadata": {},
   "outputs": [],
   "source": [
    "import numpy as np\n",
    "import qutip as qt\n",
    "import pickle\n",
    "from qiskit.quantum_info import DensityMatrix, Statevector, partial_trace\n",
    "from scipy.linalg import logm, expm\n",
    "\n",
    "\n",
    "import sys\n",
    "sys.path.append('/Users/bence/code/liouvillian_metro/')\n",
    "\n",
    "from tools.classical import HamHam, find_ideal_heisenberg"
   ]
  },
  {
   "cell_type": "code",
   "execution_count": 221,
   "metadata": {},
   "outputs": [],
   "source": [
    "#TODO: Check with bound on sum_w A A^\\dagger for unitary A, if the oft is calculated correctly.\n"
   ]
  },
  {
   "cell_type": "code",
   "execution_count": 222,
   "metadata": {},
   "outputs": [],
   "source": [
    "def oft(jump_op: np.ndarray, energy: float, num_labels: int, \n",
    "                          hamiltonian: np.ndarray, sigma: float) -> np.ndarray:\n",
    "    \n",
    "    time_labels = np.arange(-0.5, 0.5, 1/num_labels)\n",
    "    \n",
    "    gauss = lambda t: np.exp(-(t ** 2) / (4 * sigma ** 2))\n",
    "    gauss_normalization = np.sum([np.sqrt(np.abs(gauss(t))**2) for t in time_labels])\n",
    "    time_evolution = lambda t: expm(1j * t * hamiltonian)\n",
    "    \n",
    "    oft_op = np.zeros_like(hamiltonian, dtype=np.complex128)\n",
    "    for t in time_labels:\n",
    "        oft_op += np.exp(1j * 2 * np.pi * energy * t / num_labels) * gauss(t) * time_evolution(t) @ jump_op @ time_evolution(-t)\n",
    "        \n",
    "    return oft_op / (np.sqrt(num_labels) * gauss_normalization)\n",
    "    "
   ]
  },
  {
   "cell_type": "code",
   "execution_count": 223,
   "metadata": {},
   "outputs": [
    {
     "name": "stdout",
     "output_type": "stream",
     "text": [
      "Original spectrum:  [-3.5    -2.9921 -2.3725 -1.5     1.6025  2.1     2.8895  3.7725]\n",
      "Ideal spectrum:  [-0.0071  0.0255  0.0653  0.1214  0.3209  0.3529  0.4036  0.4604]\n",
      "Nonrescaled coefficients:  [0.9 0.7 0.9 1. ]\n",
      "Rescaled coefficients:  [0.05785714 0.045      0.05785714 0.06428571]\n"
     ]
    }
   ],
   "source": [
    "num_energy_bits = 6\n",
    "num_qubits = 3\n",
    "bohr_bound = 2 ** (-num_energy_bits + 1)\n",
    "eps = 0.05\n",
    "sigma = 10\n",
    "\n",
    "jump_op = qt.sigmax()\n",
    "jump_op = qt.tensor([qt.qeye(2), jump_op, qt.qeye(2)]).full()\n",
    "hamiltonian = find_ideal_heisenberg(num_qubits, bohr_bound, eps, signed=False, for_oft=True)\n",
    "\n",
    "\n",
    "oft_op = oft(jump_op, 0.4, 2**num_energy_bits, hamiltonian.qt.full(), sigma)"
   ]
  },
  {
   "cell_type": "code",
   "execution_count": 224,
   "metadata": {},
   "outputs": [
    {
     "name": "stderr",
     "output_type": "stream",
     "text": [
      "/var/folders/pg/6vn02n251m14stcv7vg03pjr0000gn/T/ipykernel_20927/2763597389.py:2: RuntimeWarning: divide by zero encountered in divide\n",
      "  energy_labels = 2*np.pi / (time_labels * 2**num_energy_bits)\n"
     ]
    }
   ],
   "source": [
    "time_labels = np.arange(-0.5, 0.5, 1/2**num_energy_bits)\n",
    "energy_labels = 2*np.pi / (time_labels * 2**num_energy_bits)\n",
    "energy_labels[int(2**num_energy_bits / 2)] = 0\n",
    "\n",
    "big_sum = np.zeros_like(hamiltonian.qt.full(), dtype=np.complex128)\n",
    "for w in energy_labels:\n",
    "    oft_op = oft(jump_op, w, 2**num_energy_bits, hamiltonian.qt.full(), sigma)\n",
    "    big_sum += oft_op @ oft_op.conj().T\n",
    "    "
   ]
  },
  {
   "cell_type": "code",
   "execution_count": 225,
   "metadata": {},
   "outputs": [
    {
     "data": {
      "text/plain": [
       "0.9997916388571882"
      ]
     },
     "execution_count": 225,
     "metadata": {},
     "output_type": "execute_result"
    }
   ],
   "source": [
    "gauss = lambda t: np.exp(-(t ** 2) / (4 * sigma ** 2))\n",
    "gauss_normalization = np.sum([np.sqrt(gauss(t)**2) for t in time_labels])\n",
    "\n",
    "gauss_squared_sum = np.sum([gauss(t)**2 for t in time_labels]) / gauss_normalization\n",
    "gauss_squared_sum"
   ]
  },
  {
   "cell_type": "code",
   "execution_count": 229,
   "metadata": {},
   "outputs": [
    {
     "name": "stdout",
     "output_type": "stream",
     "text": [
      "2.8100746983237292\n",
      "Absolute distance to wanted result: 0.02266644642332293\n",
      "Relative distance: 0.008066136617949679\n",
      "Distance with random matrix: 3.4479062230035353\n"
     ]
    }
   ],
   "source": [
    "big_sum_norm = np.linalg.norm(big_sum)\n",
    "print(big_sum_norm)\n",
    "# Test with random matrix\n",
    "random_matrix = np.random.rand(2**num_qubits, 2**num_qubits) + 1j * np.random.rand(2**num_qubits, 2**num_qubits)\n",
    "random_matrix /= np.linalg.norm(random_matrix)\n",
    "random_matrix *= big_sum_norm\n",
    "\n",
    "dist = np.linalg.norm(big_sum - np.eye(2**num_qubits)*gauss_squared_sum)\n",
    "print(f'Absolute distance to wanted result: {dist}')\n",
    "print(f'Relative distance: {dist / np.linalg.norm(big_sum)}')\n",
    "dist2 = np.linalg.norm(random_matrix - np.eye(2**num_qubits)*gauss_squared_sum)\n",
    "print(f'Distance with random matrix: {dist2}')"
   ]
  }
 ],
 "metadata": {
  "kernelspec": {
   "display_name": "qiskit_env",
   "language": "python",
   "name": "python3"
  },
  "language_info": {
   "codemirror_mode": {
    "name": "ipython",
    "version": 3
   },
   "file_extension": ".py",
   "mimetype": "text/x-python",
   "name": "python",
   "nbconvert_exporter": "python",
   "pygments_lexer": "ipython3",
   "version": "3.11.5"
  }
 },
 "nbformat": 4,
 "nbformat_minor": 2
}
