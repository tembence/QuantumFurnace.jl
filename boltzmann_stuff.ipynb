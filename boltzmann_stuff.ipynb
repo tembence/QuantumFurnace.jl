{
 "cells": [
  {
   "cell_type": "code",
   "execution_count": 12,
   "metadata": {},
   "outputs": [],
   "source": [
    "import numpy as np\n",
    "import qutip as qt\n",
    "from qiskit import QuantumCircuit, QuantumRegister, ClassicalRegister, transpile, Aer\n",
    "from qiskit_aer import StatevectorSimulator\n",
    "from qiskit.quantum_info.operators import Operator, Pauli\n",
    "from qiskit.quantum_info import Statevector, random_statevector, partial_trace\n",
    "from qiskit.circuit import Parameter\n",
    "from qiskit.circuit.library import QFT\n",
    "import random\n",
    "from time import time\n",
    "from typing import Optional\n",
    "\n",
    "from tools.quantum import *\n",
    "from tools.classical import *\n",
    "from boltzmann import lookup_table_boltzmann"
   ]
  },
  {
   "cell_type": "markdown",
   "metadata": {},
   "source": [
    "### Test the Boltzmann lookup table"
   ]
  },
  {
   "cell_type": "code",
   "execution_count": 25,
   "metadata": {},
   "outputs": [
    {
     "name": "stdout",
     "output_type": "stream",
     "text": [
      "111011\n",
      "Estimated energy: -0.4908738521234052\n"
     ]
    }
   ],
   "source": [
    "num_energy_bits = 6\n",
    "beta = 1.\n",
    "T = 1\n",
    "# random energy bitstring as string\n",
    "np.random.seed(665)\n",
    "phase_bits = np.random.choice(['0', '1'], size=num_energy_bits).tolist()\n",
    "phase_bits = ''.join(phase_bits)\n",
    "phase_bits = '111001'\n",
    "print(phase_bits)\n",
    "if phase_bits[0] == '1':\n",
    "    phase = (int(phase_bits[1:], 2) - 2**(num_energy_bits - 1)) / 2**num_energy_bits  # exp(i 2pi phase)\n",
    "else:\n",
    "    phase = int(phase_bits[1:], 2) / 2**num_energy_bits\n",
    "    \n",
    "estimated_energy = 2 * np.pi * phase / T  # exp(i 2pi phase) = exp(i E T)\n",
    "print(f'Estimated energy: {estimated_energy}')\n"
   ]
  },
  {
   "cell_type": "code",
   "execution_count": 14,
   "metadata": {},
   "outputs": [
    {
     "name": "stdout",
     "output_type": "stream",
     "text": [
      "omega: 0.0\n",
      "boltzmann weight: 1.0\n",
      "W matrix: [[ 0.  1.]\n",
      " [ 1. -0.]]\n",
      "end state: [0. 1.]\n",
      "Accept probability: 1.0\n",
      "Reject probability: 0.0\n"
     ]
    }
   ],
   "source": [
    "# np.random.seed(666)\n",
    "num_energy_bits = 4\n",
    "beta = 1\n",
    "bitstrings = [bin(i)[2:].zfill(num_energy_bits - 1) for i in range(2**(num_energy_bits - 1))]\n",
    "bitstring = bitstrings[np.random.randint(0, len(bitstrings))]\n",
    "omega = int(bitstring, 2) / 2**(num_energy_bits - 1)\n",
    "boltzmann_weight = lambda w: np.exp(- w * beta)\n",
    "# W if |1> is 'accept'\n",
    "W_matrix = np.array([[np.sqrt(1 - boltzmann_weight(omega)), np.sqrt(boltzmann_weight(omega))],\n",
    "                     [np.sqrt(boltzmann_weight(omega)), -np.sqrt(1 - boltzmann_weight(omega))]])\n",
    "\n",
    "print(\"omega:\", omega)\n",
    "print(\"boltzmann weight:\", boltzmann_weight(omega))\n",
    "print(\"W matrix:\", W_matrix)\n",
    "accept_state = np.array([0, 1])\n",
    "reject_state = np.array([1, 0])\n",
    "\n",
    "initial_state = np.array([1, 0])\n",
    "end_state = W_matrix @ initial_state\n",
    "print(\"end state:\", end_state)\n",
    "print(f'Accept probability: {end_state[1] ** 2}')\n",
    "print(f'Reject probability: {end_state[0] ** 2}')\n",
    "\n"
   ]
  },
  {
   "cell_type": "code",
   "execution_count": 15,
   "metadata": {},
   "outputs": [
    {
     "name": "stdout",
     "output_type": "stream",
     "text": [
      "global phase: 3π/2\n",
      "   ┌────────┐\n",
      "q: ┤ Rx(-π) ├\n",
      "   └────────┘\n"
     ]
    }
   ],
   "source": [
    "from qiskit.circuit.library import RXGate, RYGate, CXGate\n",
    "W_op = Operator(W_matrix)\n",
    "circ = QuantumCircuit(1)\n",
    "# circ.x(0)  # To undo the cx from the default case that energy is negative\n",
    "circ.append(W_op, [0])\n",
    "tr_circ = transpile(circ, basis_gates=['rx', 'ry', 'cx'])\n",
    "print(tr_circ)\n"
   ]
  },
  {
   "cell_type": "code",
   "execution_count": 16,
   "metadata": {},
   "outputs": [
    {
     "name": "stdout",
     "output_type": "stream",
     "text": [
      "0.0\n"
     ]
    }
   ],
   "source": [
    "boltz_angle = 2 * np.arccos(np.sqrt(boltzmann_weight(omega))) #* Angle!\n",
    "\n",
    "qr_boltz = QuantumRegister(1, 'boltz')\n",
    "cr_boltz = ClassicalRegister(1, 'cr_boltz')\n",
    "W_circ = QuantumCircuit(qr_boltz, cr_boltz)\n",
    "W_circ.barrier()\n",
    "W_circ.ry(boltz_angle, 0)\n",
    "W_circ.x(0)\n",
    "W_circ.barrier()\n",
    "\n",
    "\n",
    "W_circ_op = Operator(W_circ)\n",
    "# Distance to actual W\n",
    "print(np.linalg.norm(W_circ_op.data - W_matrix))\n"
   ]
  },
  {
   "cell_type": "code",
   "execution_count": 17,
   "metadata": {},
   "outputs": [
    {
     "name": "stdout",
     "output_type": "stream",
     "text": [
      "0.0\n"
     ]
    }
   ],
   "source": [
    "boltz_angle = - 2 * np.arccos(np.sqrt(boltzmann_weight(omega))) #* Angle!\n",
    "\n",
    "qr_boltz = QuantumRegister(1, 'boltz')\n",
    "cr_boltz = ClassicalRegister(1, 'cr_boltz')\n",
    "W_circ = QuantumCircuit(qr_boltz, cr_boltz)\n",
    "W_circ.barrier()\n",
    "W_circ.x(0)\n",
    "W_circ.ry(boltz_angle, 0)\n",
    "W_circ.barrier()\n",
    "\n",
    "\n",
    "W_circ_op = Operator(W_circ)\n",
    "# Distance to actual W\n",
    "print(np.linalg.norm(W_circ_op.data - W_matrix))"
   ]
  }
 ],
 "metadata": {
  "kernelspec": {
   "display_name": "qiskit_env",
   "language": "python",
   "name": "python3"
  },
  "language_info": {
   "codemirror_mode": {
    "name": "ipython",
    "version": 3
   },
   "file_extension": ".py",
   "mimetype": "text/x-python",
   "name": "python",
   "nbconvert_exporter": "python",
   "pygments_lexer": "ipython3",
   "version": "3.11.5"
  }
 },
 "nbformat": 4,
 "nbformat_minor": 2
}
