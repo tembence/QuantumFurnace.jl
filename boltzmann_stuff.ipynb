{
 "cells": [
  {
   "cell_type": "code",
   "execution_count": 7,
   "metadata": {},
   "outputs": [],
   "source": [
    "import numpy as np\n",
    "import qutip as qt\n",
    "from qiskit import QuantumCircuit, QuantumRegister, ClassicalRegister, transpile, Aer\n",
    "from qiskit_aer import StatevectorSimulator\n",
    "from qiskit.quantum_info.operators import Operator, Pauli\n",
    "from qiskit.quantum_info import Statevector, random_statevector, partial_trace\n",
    "from qiskit.circuit import Parameter\n",
    "from qiskit.circuit.library import QFT\n",
    "import random\n",
    "from time import time\n",
    "from typing import Optional\n",
    "\n",
    "from tools.quantum import *\n",
    "from tools.classical import *\n",
    "from boltzmann import *"
   ]
  },
  {
   "cell_type": "code",
   "execution_count": 8,
   "metadata": {},
   "outputs": [
    {
     "name": "stdout",
     "output_type": "stream",
     "text": [
      "omega: 0.625\n",
      "boltzmann weight: 0.5352614285189903\n",
      "W matrix: [[ 0.68171737  0.73161563]\n",
      " [ 0.73161563 -0.68171737]]\n",
      "end state: [0.68171737 0.73161563]\n",
      "Accept probability: 0.5352614285189903\n",
      "Reject probability: 0.4647385714810097\n"
     ]
    }
   ],
   "source": [
    "# np.random.seed(666)\n",
    "num_energy_bits = 4\n",
    "beta = 1\n",
    "bitstrings = [bin(i)[2:].zfill(num_energy_bits - 1) for i in range(2**(num_energy_bits - 1))]\n",
    "bitstring = bitstrings[np.random.randint(0, len(bitstrings))]\n",
    "omega = int(bitstring, 2) / 2**(num_energy_bits - 1)\n",
    "boltzmann_weight = lambda w: np.exp(- w * beta)\n",
    "# W if |1> is 'accept'\n",
    "W_matrix = np.array([[np.sqrt(1 - boltzmann_weight(omega)), np.sqrt(boltzmann_weight(omega))],\n",
    "                     [np.sqrt(boltzmann_weight(omega)), -np.sqrt(1 - boltzmann_weight(omega))]])\n",
    "\n",
    "print(\"omega:\", omega)\n",
    "print(\"boltzmann weight:\", boltzmann_weight(omega))\n",
    "print(\"W matrix:\", W_matrix)\n",
    "accept_state = np.array([0, 1])\n",
    "reject_state = np.array([1, 0])\n",
    "\n",
    "initial_state = np.array([1, 0])\n",
    "end_state = W_matrix @ initial_state\n",
    "print(\"end state:\", end_state)\n",
    "print(f'Accept probability: {end_state[1] ** 2}')\n",
    "print(f'Reject probability: {end_state[0] ** 2}')\n",
    "\n"
   ]
  },
  {
   "cell_type": "code",
   "execution_count": 9,
   "metadata": {},
   "outputs": [
    {
     "name": "stdout",
     "output_type": "stream",
     "text": [
      "global phase: 3π/2\n",
      "   ┌────────┐┌─────────────┐\n",
      "q: ┤ Rx(-π) ├┤ Ry(-1.5002) ├\n",
      "   └────────┘└─────────────┘\n"
     ]
    }
   ],
   "source": [
    "from qiskit.circuit.library import RXGate, RYGate, CXGate\n",
    "W_op = Operator(W_matrix)\n",
    "circ = QuantumCircuit(1)\n",
    "# circ.x(0)  # To undo the cx from the default case that energy is negative\n",
    "circ.append(W_op, [0])\n",
    "tr_circ = transpile(circ, basis_gates=['rx', 'ry', 'cx'])\n",
    "print(tr_circ)\n"
   ]
  },
  {
   "cell_type": "code",
   "execution_count": 10,
   "metadata": {},
   "outputs": [
    {
     "name": "stdout",
     "output_type": "stream",
     "text": [
      "0.0\n"
     ]
    }
   ],
   "source": [
    "boltz_angle = 2 * np.arccos(np.sqrt(boltzmann_weight(omega))) #* Angle!\n",
    "\n",
    "qr_boltz = QuantumRegister(1, 'boltz')\n",
    "cr_boltz = ClassicalRegister(1, 'cr_boltz')\n",
    "W_circ = QuantumCircuit(qr_boltz, cr_boltz)\n",
    "W_circ.barrier()\n",
    "W_circ.ry(boltz_angle, 0)\n",
    "W_circ.x(0)\n",
    "W_circ.barrier()\n",
    "\n",
    "\n",
    "W_circ_op = Operator(W_circ)\n",
    "# Distance to actual W\n",
    "print(np.linalg.norm(W_circ_op.data - W_matrix))\n"
   ]
  },
  {
   "cell_type": "code",
   "execution_count": 11,
   "metadata": {},
   "outputs": [
    {
     "name": "stdout",
     "output_type": "stream",
     "text": [
      "0.0\n"
     ]
    }
   ],
   "source": [
    "boltz_angle = - 2 * np.arccos(np.sqrt(boltzmann_weight(omega))) #* Angle!\n",
    "\n",
    "qr_boltz = QuantumRegister(1, 'boltz')\n",
    "cr_boltz = ClassicalRegister(1, 'cr_boltz')\n",
    "W_circ = QuantumCircuit(qr_boltz, cr_boltz)\n",
    "W_circ.barrier()\n",
    "W_circ.x(0)\n",
    "W_circ.ry(boltz_angle, 0)\n",
    "W_circ.barrier()\n",
    "\n",
    "\n",
    "W_circ_op = Operator(W_circ)\n",
    "# Distance to actual W\n",
    "print(np.linalg.norm(W_circ_op.data - W_matrix))"
   ]
  }
 ],
 "metadata": {
  "kernelspec": {
   "display_name": "qiskit_env",
   "language": "python",
   "name": "python3"
  },
  "language_info": {
   "codemirror_mode": {
    "name": "ipython",
    "version": 3
   },
   "file_extension": ".py",
   "mimetype": "text/x-python",
   "name": "python",
   "nbconvert_exporter": "python",
   "pygments_lexer": "ipython3",
   "version": "3.11.5"
  }
 },
 "nbformat": 4,
 "nbformat_minor": 2
}
