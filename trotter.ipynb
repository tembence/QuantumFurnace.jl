{
 "cells": [
  {
   "cell_type": "code",
   "execution_count": 1,
   "metadata": {},
   "outputs": [],
   "source": [
    "import numpy as np\n",
    "import qutip as qt\n",
    "from scipy.linalg import logm, expm\n",
    "from qiskit.quantum_info import Operator, state_fidelity\n",
    "from qiskit import QuantumCircuit\n",
    "from copy import deepcopy\n",
    "\n",
    "from tools.classical import *\n",
    "from tools.quantum import *"
   ]
  },
  {
   "cell_type": "markdown",
   "metadata": {},
   "source": [
    "#### Qutip Exact Hamiltonian"
   ]
  },
  {
   "cell_type": "code",
   "execution_count": 4,
   "metadata": {},
   "outputs": [
    {
     "name": "stdout",
     "output_type": "stream",
     "text": [
      "Rescaling factor 16.41481\n",
      "Shift 0.5126352361069059\n",
      "Original spectrum [-8.41480675e+00 -8.01149686e+00 -7.45710970e+00 -6.56278848e+00\n",
      " -4.82842712e+00 -3.76446278e+00 -3.46410162e+00 -3.10903996e+00\n",
      " -2.56016642e+00 -2.48908833e+00 -1.72700584e+00 -1.54375254e+00\n",
      " -1.12310563e+00 -3.68457240e-01 -1.47629054e-15 -3.06637963e-16\n",
      "  8.28427125e-01  9.50705136e-01  1.02497194e+00  1.68545843e+00\n",
      "  1.85582806e+00  2.00000000e+00  2.57314158e+00  3.08156908e+00\n",
      "  3.46410162e+00  3.87693371e+00  4.00000000e+00  4.00000000e+00\n",
      "  4.84875524e+00  6.11081172e+00  7.12310563e+00  8.00000000e+00]\n",
      "Normalized spectrum [1.97901509e-07 2.45700765e-02 5.83436725e-02 1.12826254e-01\n",
      " 2.18484580e-01 2.83301922e-01 3.01600103e-01 3.23230670e-01\n",
      " 3.56668373e-01 3.60998493e-01 4.07425012e-01 4.18588912e-01\n",
      " 4.44214973e-01 4.90188602e-01 5.12635236e-01 5.12635236e-01\n",
      " 5.63103510e-01 5.70552759e-01 5.75077137e-01 6.15314367e-01\n",
      " 6.25693387e-01 6.34476427e-01 6.69392553e-01 7.00366259e-01\n",
      " 7.23670369e-01 7.48820347e-01 7.56317618e-01 7.56317618e-01\n",
      " 8.08024293e-01 8.84909525e-01 9.46579073e-01 1.00000000e+00]\n"
     ]
    }
   ],
   "source": [
    "num_qubits = 5\n",
    "\n",
    "X = qt.sigmax()\n",
    "Y = qt.sigmay()\n",
    "Z = qt.sigmaz()\n",
    "coeffs = [1, 1, 1, 1]\n",
    "hamiltonian_qt = hamiltonian_matrix([X, X], [Y, Y], [Z, Z], coeffs=coeffs, num_qubits=num_qubits, symbreak_term=[Z])\n",
    "# print(hamiltonian_qt)\n",
    "#* HAMILTONIANS\n",
    "exact_spec = np.linalg.eigvalsh(hamiltonian_qt)\n",
    "rescaling_factor, shift = rescaling_and_shift_factors(hamiltonian_qt)  # Shift already rescaled\n",
    "rescaled_hamiltonian_qt = hamiltonian_qt / rescaling_factor + shift * qt.qeye(hamiltonian_qt.shape[0])\n",
    "\n",
    "#* SPECTRUMS\n",
    "# print(f'Shifted spectrum {np.linalg.eigvalsh(shifted_hamiltonian_qt)}')\n",
    "print(f'Rescaling factor {rescaling_factor}')\n",
    "print(f'Shift {shift}')\n",
    "print(f'Original spectrum {exact_spec}')\n",
    "print(f'Normalized spectrum {np.linalg.eigvalsh(rescaled_hamiltonian_qt)}')"
   ]
  },
  {
   "cell_type": "markdown",
   "metadata": {},
   "source": [
    "### Qutip unitary evolution construction and comparison: Exact vs Trotterized"
   ]
  },
  {
   "cell_type": "markdown",
   "metadata": {},
   "source": [
    "$n = 3, k = 4$\n",
    "Hamiltonian is rescaled already by its coupling strength, not by the rescaled time anymore (bit easier to have an overview)\n",
    "$$H = 0.125\\times Heisenberg_3 + Z_{bulk}$$"
   ]
  },
  {
   "cell_type": "code",
   "execution_count": 5,
   "metadata": {},
   "outputs": [
    {
     "name": "stdout",
     "output_type": "stream",
     "text": [
      "eXX, eYY, eZZ for qubit (0, 1)\n",
      "eXX, eYY, eZZ for qubit (1, 2)\n",
      "eXX, eYY, eZZ for qubit (2, 3)\n",
      "eXX, eYY, eZZ for qubit (3, 4)\n",
      "eXX, eYY, eZZ for qubit (4, 0)\n",
      "Distance between Qutip Trotter vs Exact 0.4087914213758463\n"
     ]
    }
   ],
   "source": [
    "repeat = 1\n",
    "T = 1 * repeat\n",
    "total_time = T * 2 * np.pi\n",
    "num_trotter_steps = 10 * repeat\n",
    "step_size = total_time / num_trotter_steps\n",
    "rescaled_coeffs = coeffs / rescaling_factor\n",
    "\n",
    "# rescaled_total_time = total_time / rescaling_factor\n",
    "# rescaled_step_size = rescaled_total_time / num_trotter_steps\n",
    "\n",
    "#* EXACT UNITARIES\n",
    "exact_U_qt = expm(1j * rescaled_hamiltonian_qt * total_time)\n",
    "\n",
    "#* QUTIP TROTTER\n",
    "trott_U_qt = trotter_heisenberg_qutip(num_qubits, step_size, num_trotter_steps, coeffs=rescaled_coeffs, shift=(total_time*shift))\n",
    "# UUdag_minus_id = exact_U_qt * trott_U_qt.dag() - qt.qeye(exact_U_qt.shape[0])\n",
    "\n",
    "#* QUTIP DISTANCES\n",
    "dist_between_unitaries = np.linalg.norm(exact_U_qt - trott_U_qt)\n",
    "print(f'Distance between Qutip Trotter vs Exact {dist_between_unitaries}')\n",
    "\n",
    "# with np.printoptions(precision=3, suppress=True):\n",
    "#     print(exact_U_qt)\n",
    "#     print(trott_U_qt)\n",
    "#     print(UUdag_minus_id)\n",
    "    \n",
    "# logU_shifted = logm(shifted_trott_U_qt) / (1j * T)\n",
    "# logU = logm(trott_U_qt) / (1j * T)\n",
    "# dist_shifted = np.linalg.norm(logU_shifted - shifted_exact_U_qt)\n",
    "# dist = np.linalg.norm(logU - exact_U_qt)\n",
    "# print(dist_shifted)\n",
    "# print(dist)"
   ]
  },
  {
   "cell_type": "markdown",
   "metadata": {},
   "source": [
    "### Observable expectation comparison: Exact vs Trotterized, finding a good number of Trotter steps"
   ]
  },
  {
   "cell_type": "code",
   "execution_count": 6,
   "metadata": {},
   "outputs": [
    {
     "name": "stdout",
     "output_type": "stream",
     "text": [
      "[1. 0. 0. 1. 0. 0. 0. 0. 0. 0. 1. 1. 0. 0. 0. 0. 0. 1. 1. 0. 1. 1. 1. 1.\n",
      " 0. 1. 1. 1. 1. 1. 1. 0.]\n",
      "Initial energy (0.680166873695157+0j)\n",
      "Exact-Evolved fidelity 0.9989372754251261\n"
     ]
    }
   ],
   "source": [
    "#* Initial state\n",
    "# initial_state = np.ones(2**num_qubits) / np.sqrt(2**num_qubits)  # Equal superposition\n",
    "np.random.seed(666)\n",
    "randstate_better = np.zeros(2**num_qubits)\n",
    "randstate_better[np.random.choice(2**num_qubits, 2**num_qubits//2, replace=False)] = 1\n",
    "print(randstate_better)\n",
    "randstate_better /= np.linalg.norm(randstate_better)\n",
    "rand_ini_state = randstate_better\n",
    "rand_ini_state_qt = rand_ini_state\n",
    "\n",
    "initial_energy = rand_ini_state.conj().T @ rescaled_hamiltonian_qt.data @ rand_ini_state\n",
    "print(f'Initial energy {initial_energy}')\n",
    "\n",
    "# Pretty garbage:\n",
    "# rand_state0 = np.random.random(2**num_qubits) + 1j * np.random.random(2**num_qubits)  # Random state\n",
    "# rand_state0 /= np.linalg.norm(rand_state0)\n",
    "# rand_state1 = np.random.random(2**num_qubits) + 1j * np.random.random(2**num_qubits)  # Random state\n",
    "# rand_state1 /= np.linalg.norm(rand_state1)\n",
    "# print(qt.fidelity(qt.Qobj(randstate_better), qt.Qobj(rand_state1)))\n",
    "\n",
    "#* Evolved states\n",
    "exact_evolved_state = qt.Qobj(exact_U_qt) * qt.Qobj(rand_ini_state_qt)\n",
    "trott_evolved_state = qt.Qobj(trott_U_qt) * qt.Qobj(rand_ini_state_qt)\n",
    "\n",
    "#* Fidelities\n",
    "exact_evolved_fidelity = qt.fidelity(exact_evolved_state, trott_evolved_state)\n",
    "# print('Shifted:')  #* Global phase won't show up in fidelity\n",
    "# fid_of_states_shifted = qt.fidelity(exact_evolved_state_shifted, trott_evolved_state_shifted)\n",
    "print(f'Exact-Evolved fidelity {exact_evolved_fidelity}')\n"
   ]
  },
  {
   "cell_type": "markdown",
   "metadata": {},
   "source": [
    "#### Circuit"
   ]
  },
  {
   "cell_type": "code",
   "execution_count": 7,
   "metadata": {},
   "outputs": [],
   "source": [
    "shift_1q = lambda shift: np.diag(np.ones(2) * np.exp(1j * shift))"
   ]
  },
  {
   "cell_type": "code",
   "execution_count": 8,
   "metadata": {},
   "outputs": [
    {
     "name": "stdout",
     "output_type": "stream",
     "text": [
      "#Qubits 5\n",
      "#Trotter steps 10\n",
      "#Gates 185\n"
     ]
    }
   ],
   "source": [
    "trotter_step = trotter_step_heisenberg(num_qubits, coeffs=rescaled_coeffs, symbreak=True)\n",
    "ham_time_evol = ham_evol(num_qubits, trotter_step=trotter_step, num_trotter_steps=num_trotter_steps, time=total_time)\n",
    "\n",
    "circ = QuantumCircuit(num_qubits, name=\"H\")\n",
    "\n",
    "for q in range(num_qubits):\n",
    "    phase_gate = Operator(shift_1q(shift*total_time))\n",
    "    circ.append(phase_gate, [q])\n",
    "    \n",
    "circ.compose(ham_time_evol, range(num_qubits), inplace=True)\n",
    "\n",
    "print(f'#Qubits {num_qubits}')\n",
    "print(f'#Trotter steps {num_trotter_steps}')\n",
    "print(f'#Gates {len([(op, _, _) for (op, _, _) in circ.data])}')\n",
    "# print(circ)\n"
   ]
  },
  {
   "cell_type": "markdown",
   "metadata": {},
   "source": [
    "### Comparing Circuit unitary operator to Exact"
   ]
  },
  {
   "cell_type": "code",
   "execution_count": 9,
   "metadata": {},
   "outputs": [
    {
     "name": "stdout",
     "output_type": "stream",
     "text": [
      "Distance between circ unitary and exact 1.8326900127349894\n",
      "Distance between circ unitary and qutip trotter 1.788841479862522\n",
      "Quantum object: dims = [[32], [32]], shape = (32, 32), type = oper, isherm = True\n",
      "Qobj data =\n",
      "[[0. 0. 0. ... 0. 0. 0.]\n",
      " [0. 0. 0. ... 0. 0. 0.]\n",
      " [0. 0. 0. ... 0. 0. 0.]\n",
      " ...\n",
      " [0. 0. 0. ... 0. 0. 0.]\n",
      " [0. 0. 0. ... 0. 0. 0.]\n",
      " [0. 0. 0. ... 0. 0. 0.]]\n",
      "0.0\n"
     ]
    }
   ],
   "source": [
    "#* Circuit operators\n",
    "trotterized_evolution_unitary = Operator(circ).data\n",
    "\n",
    "#* Distance to exact unitary\n",
    "dist_circ_unitary_vs_exact = np.linalg.norm(trotterized_evolution_unitary - exact_U_qt)\n",
    "\n",
    "#* Distance to qutip trotter\n",
    "dist_circ_vs_qutip_trotter = np.linalg.norm(trotterized_evolution_unitary - trott_U_qt)  # Correct without shift\n",
    "circ_qutip_dag = np.abs((qt.Qobj(trotterized_evolution_unitary) * qt.Qobj(trott_U_qt).dag()).full()) - qt.qeye(trotterized_evolution_unitary.shape[0])\n",
    "\n",
    "print(f'Distance between circ unitary and exact {dist_circ_unitary_vs_exact}')\n",
    "print(f'Distance between circ unitary and qutip trotter {dist_circ_vs_qutip_trotter}')\n",
    "print(circ_qutip_dag)\n",
    "print(np.linalg.norm(circ_qutip_dag))"
   ]
  },
  {
   "cell_type": "markdown",
   "metadata": {},
   "source": [
    "### Fidelity of Circuit vs Exact"
   ]
  },
  {
   "cell_type": "code",
   "execution_count": 10,
   "metadata": {},
   "outputs": [
    {
     "name": "stdout",
     "output_type": "stream",
     "text": [
      "Energy of initial state:\n",
      "0.680166873695157\n",
      "Energy after time evolution (should not be changed):\n",
      "0.6789641541258478\n",
      "QISKIT CIRCUIT FIDELITY\n",
      "To qutip exact 0.9978756802337818\n",
      "To qutip Trotter 1.000000000000031\n"
     ]
    }
   ],
   "source": [
    "circ_with_ini_state = QuantumCircuit(num_qubits, name=\"H\")\n",
    "circ_with_ini_state.initialize(rand_ini_state, range(num_qubits))  #! Qiskit and Qutip order is not reversed for the state!\n",
    "initial_state_from_circ = Statevector(circ_with_ini_state).data\n",
    "energy_initial_state_from_circ_np = initial_state_from_circ.conj().T @ rescaled_hamiltonian_qt.data @ initial_state_from_circ\n",
    "print('Energy of initial state:')\n",
    "print(energy_initial_state_from_circ_np.real)\n",
    "\n",
    "circ_with_ini_state.compose(ham_time_evol, range(num_qubits), inplace=True)\n",
    "qiskit_end_state = Statevector(circ_with_ini_state).data  # Circ to state\n",
    "\n",
    "print('Energy after time evolution (should not be changed):')\n",
    "end_energy = qiskit_end_state.conj().T @ rescaled_hamiltonian_qt.data @ qiskit_end_state\n",
    "print(end_energy.real)\n",
    "\n",
    "print('QISKIT CIRCUIT FIDELITY')\n",
    "trott_evolved_state = Statevector(trott_evolved_state.full())\n",
    "exact_evolved_state = Statevector(exact_evolved_state.full())\n",
    "\n",
    "print(f'To qutip exact {state_fidelity(exact_evolved_state, qiskit_end_state)}')\n",
    "print(f'To qutip Trotter {state_fidelity(trott_evolved_state, qiskit_end_state)}')\n"
   ]
  },
  {
   "cell_type": "markdown",
   "metadata": {},
   "source": [
    "### Trotterized Hamiltonian comparison, Qiskit vs Exact, Qutip vs Exact"
   ]
  },
  {
   "cell_type": "code",
   "execution_count": 11,
   "metadata": {},
   "outputs": [],
   "source": [
    "#* LOGM\n",
    "# logU = logm(trotterized_evolution_unitary)  # log U = i 2pi H T / rescaling_factor  #! It's not unique if any eigenenergy < 0\n",
    "# trotterized_ham_from_circuit = logU / (1j * T) #- shift * qt.qeye(hamiltonian_qt.shape[0])\n",
    "# qiskit_trott_ham_spec = np.linalg.eigvalsh(trotterized_ham_from_circuit)\n",
    "# spectrum_dist = np.linalg.norm(qiskit_trott_ham_spec - exact_spec)\n",
    "# print(f'Spectrum distance {spectrum_dist}')"
   ]
  },
  {
   "cell_type": "markdown",
   "metadata": {},
   "source": [
    "#### Qiskit gate angle convention! RXX(-2x) = exp(x)"
   ]
  },
  {
   "cell_type": "code",
   "execution_count": 12,
   "metadata": {},
   "outputs": [
    {
     "name": "stdout",
     "output_type": "stream",
     "text": [
      "[[0.70710678+0.j         0.        +0.j         0.        +0.j\n",
      "  0.        -0.70710678j]\n",
      " [0.        +0.j         0.70710678+0.j         0.        -0.70710678j\n",
      "  0.        +0.j        ]\n",
      " [0.        +0.j         0.        -0.70710678j 0.70710678+0.j\n",
      "  0.        +0.j        ]\n",
      " [0.        -0.70710678j 0.        +0.j         0.        +0.j\n",
      "  0.70710678+0.j        ]]\n",
      "[[0.70710678+0.j         0.        +0.j         0.        +0.j\n",
      "  0.        -0.70710678j]\n",
      " [0.        +0.j         0.70710678+0.j         0.        -0.70710678j\n",
      "  0.        +0.j        ]\n",
      " [0.        +0.j         0.        -0.70710678j 0.70710678+0.j\n",
      "  0.        +0.j        ]\n",
      " [0.        -0.70710678j 0.        +0.j         0.        +0.j\n",
      "  0.70710678+0.j        ]]\n"
     ]
    }
   ],
   "source": [
    "c = QuantumCircuit(2)\n",
    "c.rxx(np.pi/2, 0, 1)\n",
    "op = Operator(c)\n",
    "print(op.data)\n",
    "X = qt.sigmax()\n",
    "XX = qt.tensor(X, X)\n",
    "op_qt = expm(-1j*np.pi* XX / 4)\n",
    "print(op_qt)\n"
   ]
  },
  {
   "cell_type": "code",
   "execution_count": null,
   "metadata": {},
   "outputs": [],
   "source": [
    "num_qubits = 3\n",
    "num_energy_bits = 6\n",
    "bohr_bound = 2 ** (-num_energy_bits + 1)\n",
    "eps = 0.1\n",
    "sigma = 5\n",
    "eig_index = 2\n",
    "T = 1\n",
    "total_time = T\n",
    "shots = 1\n",
    "num_trotter_steps = 100\n",
    "\n",
    "hamiltonian = find_ideal_heisenberg(num_qubits, bohr_bound, eps, signed=False, for_oft=True)\n",
    "rescaled_coeff = hamiltonian.rescaled_coeffs\n",
    "# Corresponding Trotter step circuit\n",
    "trotter_step_circ = trotter_step_heisenberg(num_qubits, coeffs=rescaled_coeff, symbreak=True)\n",
    "hamiltonian.trotter_step_circ = trotter_step_circ\n",
    "\n",
    "step_size = total_time / num_trotter_steps\n",
    "trott_U_qt = trotter_heisenberg_qutip(num_qubits, step_size, num_trotter_steps, \n",
    "                                      coeffs=hamiltonian.rescaled_coeffs, shift=(total_time*hamiltonian.shift))"
   ]
  }
 ],
 "metadata": {
  "kernelspec": {
   "display_name": "qiskit_env",
   "language": "python",
   "name": "python3"
  },
  "language_info": {
   "codemirror_mode": {
    "name": "ipython",
    "version": 3
   },
   "file_extension": ".py",
   "mimetype": "text/x-python",
   "name": "python",
   "nbconvert_exporter": "python",
   "pygments_lexer": "ipython3",
   "version": "3.11.5"
  }
 },
 "nbformat": 4,
 "nbformat_minor": 2
}
