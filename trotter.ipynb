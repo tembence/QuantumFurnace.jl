{
 "cells": [
  {
   "cell_type": "code",
   "execution_count": 64,
   "metadata": {},
   "outputs": [
    {
     "data": {
      "text/plain": [
       "<contextlib._GeneratorContextManager at 0x1540cec90>"
      ]
     },
     "execution_count": 64,
     "metadata": {},
     "output_type": "execute_result"
    }
   ],
   "source": [
    "import numpy as np\n",
    "import qutip as qt\n",
    "from scipy.linalg import logm, expm\n",
    "from qiskit.quantum_info import Operator, state_fidelity\n",
    "from qiskit import QuantumCircuit\n",
    "from copy import deepcopy\n",
    "\n",
    "from tools.classical import *\n",
    "from tools.quantum import *\n",
    "\n",
    "np.printoptions(precision=3, suppress=True)\n"
   ]
  },
  {
   "cell_type": "markdown",
   "metadata": {},
   "source": [
    "#### Qutip Exact Hamiltonian"
   ]
  },
  {
   "cell_type": "code",
   "execution_count": 65,
   "metadata": {},
   "outputs": [
    {
     "name": "stdout",
     "output_type": "stream",
     "text": [
      "Original spectrum:  [-6.8015 -4.4489 -4.     -2.1796 -1.5341 -1.3091 -0.6806  0.      0.6806\n",
      "  1.02    1.3091  1.8956  2.1796  3.327   4.4489  6.0929]\n",
      "Ideal spectrum:  [0.     0.0821 0.0978 0.1613 0.1838 0.1917 0.2136 0.2374 0.2611 0.273\n",
      " 0.2831 0.3035 0.3134 0.3535 0.3926 0.45  ]\n",
      "Nonrescaled coefficients:  [0.9 0.6 1.  1. ]\n",
      "Rescaled coefficients:  [0.03140896 0.02093931 0.03489884 0.03489884]\n"
     ]
    }
   ],
   "source": [
    "np.random.seed(667)\n",
    "num_qubits = 4\n",
    "num_energy_bits = 8\n",
    "bohr_bound = 2 ** (-num_energy_bits + 1)\n",
    "eps = 0.1\n",
    "sigma = 5\n",
    "eig_index = 1\n",
    "T = 1\n",
    "total_time = T * 64\n",
    "num_trotter_steps = 100\n",
    "\n",
    "hamiltonian = find_ideal_heisenberg(num_qubits, bohr_bound, eps, signed=False, for_oft=True)\n",
    "rescaled_coeff = hamiltonian.rescaled_coeffs\n",
    "# Corresponding Trotter step circuit\n",
    "hamiltonian.trotter_step_circ = trotter_step_heisenberg(num_qubits, coeffs=rescaled_coeff, symbreak=True)"
   ]
  },
  {
   "cell_type": "markdown",
   "metadata": {},
   "source": [
    "### Qutip unitary evolution construction and comparison: Exact vs Trotterized"
   ]
  },
  {
   "cell_type": "markdown",
   "metadata": {},
   "source": [
    "$n = 3, k = 4$\n",
    "Hamiltonian is rescaled already by its coupling strength, not by the rescaled time anymore (bit easier to have an overview)\n",
    "$$H = 0.125\\times Heisenberg_3 + Z_{bulk}$$"
   ]
  },
  {
   "cell_type": "code",
   "execution_count": 66,
   "metadata": {},
   "outputs": [
    {
     "name": "stdout",
     "output_type": "stream",
     "text": [
      "Distance between Qutip Trotter vs Exact 2.803443040366976\n",
      "Frobenius dist between Qutip Trotter vs Exact 2.8034430403669766\n"
     ]
    }
   ],
   "source": [
    "step_size = total_time / num_trotter_steps\n",
    "\n",
    "#* EXACT UNITARIES\n",
    "exact_U_qt = qt.Qobj(expm(1j * hamiltonian.qt * total_time))\n",
    "\n",
    "#* QUTIP TROTTER\n",
    "trott_step_qt = trotter_step_heisenberg_qt(num_qubits, step_size, coeffs=hamiltonian.rescaled_coeffs, symbreak = True)\n",
    "trott_U_qt = ham_evol_qt(num_qubits, trott_step_qt, num_trotter_steps)\n",
    "total_shift = total_time * hamiltonian.shift\n",
    "shifted_trott_U_qt = qt.Qobj(expm(1j * total_shift * np.eye(2**num_qubits))) * trott_U_qt  \n",
    "\n",
    "\n",
    "#* QUTIP DISTANCES\n",
    "dist = np.linalg.norm(exact_U_qt.full() - shifted_trott_U_qt.full())\n",
    "print(f'Distance between Qutip Trotter vs Exact {dist}')\n",
    "fro_dist_exact_vs_trott_qt = qt.Qobj(exact_U_qt - shifted_trott_U_qt).norm('fro')\n",
    "print(f'Frobenius dist between Qutip Trotter vs Exact {fro_dist_exact_vs_trott_qt}')\n"
   ]
  },
  {
   "cell_type": "markdown",
   "metadata": {},
   "source": [
    "### Observable expectation comparison: Exact vs Trotterized, finding a good number of Trotter steps"
   ]
  },
  {
   "cell_type": "code",
   "execution_count": 67,
   "metadata": {},
   "outputs": [],
   "source": [
    "#* Initial state\n",
    "randstate_better = np.zeros(2**num_qubits)\n",
    "randstate_better[np.random.choice(2**num_qubits, 2**num_qubits//2, replace=False)] = 1\n",
    "randstate_better /= np.linalg.norm(randstate_better)\n",
    "\n",
    "# initial_energy = rand_ini_state.conj().T @ rescaled_hamiltonian_qt.data @ rand_ini_state\n",
    "# print(f'Initial energy {initial_energy}')\n",
    "\n",
    "# # Pretty garbage:\n",
    "# # rand_state0 = np.random.random(2**num_qubits) + 1j * np.random.random(2**num_qubits)  # Random state\n",
    "# # rand_state0 /= np.linalg.norm(rand_state0)\n",
    "# # rand_state1 = np.random.random(2**num_qubits) + 1j * np.random.random(2**num_qubits)  # Random state\n",
    "# # rand_state1 /= np.linalg.norm(rand_state1)\n",
    "# # print(qt.fidelity(qt.Qobj(randstate_better), qt.Qobj(rand_state1)))\n",
    "\n",
    "# #* Evolved states\n",
    "# exact_evolved_state = qt.Qobj(exact_U_qt) * qt.Qobj(rand_ini_state_qt)\n",
    "# trott_evolved_state = qt.Qobj(trott_U_qt) * qt.Qobj(rand_ini_state_qt)\n",
    "\n",
    "# #* Fidelities\n",
    "# exact_evolved_fidelity = qt.fidelity(exact_evolved_state, trott_evolved_state)\n",
    "# # print('Shifted:')  #* Global phase won't show up in fidelity\n",
    "# # fid_of_states_shifted = qt.fidelity(exact_evolved_state_shifted, trott_evolved_state_shifted)\n",
    "# print(f'Exact-Evolved fidelity {exact_evolved_fidelity}')\n"
   ]
  },
  {
   "cell_type": "markdown",
   "metadata": {},
   "source": [
    "#### Circuit"
   ]
  },
  {
   "cell_type": "code",
   "execution_count": 68,
   "metadata": {},
   "outputs": [
    {
     "name": "stdout",
     "output_type": "stream",
     "text": [
      "#Qubits 4\n",
      "#Trotter steps 10\n",
      "#Gates 141\n"
     ]
    }
   ],
   "source": [
    "shift_allq = expm(1j * total_shift * np.eye(2**num_qubits))\n",
    "ham_time_evol = ham_evol(num_qubits, trotter_step=hamiltonian.trotter_step_circ,\n",
    "                         num_trotter_steps=num_trotter_steps, time=total_time)\n",
    "\n",
    "circ = QuantumCircuit(num_qubits, name=\"H\")\n",
    "\n",
    "circ.append(Operator(shift_allq), range(num_qubits))\n",
    "circ.compose(ham_time_evol, range(num_qubits), inplace=True)\n",
    "\n",
    "print(f'#Qubits {num_qubits}')\n",
    "print(f'#Trotter steps {num_trotter_steps}')\n",
    "print(f'#Gates {len([(op, _, _) for (op, _, _) in circ.data])}')\n",
    "# print(circ)\n"
   ]
  },
  {
   "cell_type": "markdown",
   "metadata": {},
   "source": [
    "### Comparing Circuit unitary operator to Exact"
   ]
  },
  {
   "cell_type": "code",
   "execution_count": 69,
   "metadata": {},
   "outputs": [
    {
     "name": "stdout",
     "output_type": "stream",
     "text": [
      "Distance between circ unitary and exact 2.8034430403669757\n",
      "Distance between circ unitary and qutip trotter 5.838143449046149e-15\n",
      "Frobenius distance between circ unitary and qutip trotter 5.838143449046149e-15\n"
     ]
    }
   ],
   "source": [
    "#* Circuit operators\n",
    "trott_evol_circ_op = Operator(circ).data\n",
    "\n",
    "#* Distance to exact unitary\n",
    "dist_circ_vs_exact = np.linalg.norm(trott_evol_circ_op - exact_U_qt)\n",
    "print(f'Distance between circ unitary and exact {dist_circ_vs_exact}')\n",
    "\n",
    "# #* Distance to qutip trotter\n",
    "dist_circ_vs_qutip_trotter = np.linalg.norm(trott_evol_circ_op - shifted_trott_U_qt.full())\n",
    "print(f'Distance between circ unitary and qutip trotter {dist_circ_vs_qutip_trotter}')\n",
    "frob_dist_circ_vs_qutip_trotter = np.linalg.norm(trott_evol_circ_op - shifted_trott_U_qt.full(), 'fro')\n",
    "print(f'Frobenius distance between circ unitary and qutip trotter {frob_dist_circ_vs_qutip_trotter}')\n",
    "# circ_qutip_dag = np.abs((qt.Qobj(trotterized_evolution_unitary) * qt.Qobj(trott_U_qt).dag()).full()) - qt.qeye(trotterized_evolution_unitary.shape[0])\n",
    "\n",
    "# print(f'Distance between circ unitary and exact {dist_circ_unitary_vs_exact}')\n",
    "# print(f'Distance between circ unitary and qutip trotter {dist_circ_vs_qutip_trotter}')\n",
    "# print(circ_qutip_dag)\n",
    "# print(np.linalg.norm(circ_qutip_dag))"
   ]
  },
  {
   "cell_type": "markdown",
   "metadata": {},
   "source": [
    "### Fidelity of Circuit vs Exact"
   ]
  },
  {
   "cell_type": "code",
   "execution_count": 70,
   "metadata": {},
   "outputs": [],
   "source": [
    "# circ_with_ini_state = QuantumCircuit(num_qubits, name=\"H\")\n",
    "# circ_with_ini_state.initialize(rand_ini_state, range(num_qubits))  #! Qiskit and Qutip order is not reversed for the state!\n",
    "# initial_state_from_circ = Statevector(circ_with_ini_state).data\n",
    "# energy_initial_state_from_circ_np = initial_state_from_circ.conj().T @ rescaled_hamiltonian_qt.data @ initial_state_from_circ\n",
    "# print('Energy of initial state:')\n",
    "# print(energy_initial_state_from_circ_np.real)\n",
    "\n",
    "# circ_with_ini_state.compose(ham_time_evol, range(num_qubits), inplace=True)\n",
    "# qiskit_end_state = Statevector(circ_with_ini_state).data  # Circ to state\n",
    "\n",
    "# print('Energy after time evolution (should not be changed):')\n",
    "# end_energy = qiskit_end_state.conj().T @ rescaled_hamiltonian_qt.data @ qiskit_end_state\n",
    "# print(end_energy.real)\n",
    "\n",
    "# print('QISKIT CIRCUIT FIDELITY')\n",
    "# trott_evolved_state = Statevector(trott_evolved_state.full())\n",
    "# exact_evolved_state = Statevector(exact_evolved_state.full())\n",
    "\n",
    "# print(f'To qutip exact {state_fidelity(exact_evolved_state, qiskit_end_state)}')\n",
    "# print(f'To qutip Trotter {state_fidelity(trott_evolved_state, qiskit_end_state)}')\n"
   ]
  },
  {
   "cell_type": "markdown",
   "metadata": {},
   "source": [
    "### Trotterized Hamiltonian comparison, Qiskit vs Exact, Qutip vs Exact"
   ]
  },
  {
   "cell_type": "code",
   "execution_count": 71,
   "metadata": {},
   "outputs": [],
   "source": [
    "#* LOGM\n",
    "# logU = logm(trotterized_evolution_unitary)  # log U = i 2pi H T / rescaling_factor  #! It's not unique if any eigenenergy < 0\n",
    "# trotterized_ham_from_circuit = logU / (1j * T) #- shift * qt.qeye(hamiltonian_qt.shape[0])\n",
    "# qiskit_trott_ham_spec = np.linalg.eigvalsh(trotterized_ham_from_circuit)\n",
    "# spectrum_dist = np.linalg.norm(qiskit_trott_ham_spec - exact_spec)\n",
    "# print(f'Spectrum distance {spectrum_dist}')"
   ]
  },
  {
   "cell_type": "markdown",
   "metadata": {},
   "source": [
    "#### Qiskit gate angle convention! RXX(-2x) = exp(x)"
   ]
  },
  {
   "cell_type": "code",
   "execution_count": 72,
   "metadata": {},
   "outputs": [
    {
     "name": "stdout",
     "output_type": "stream",
     "text": [
      "[[0.70710678+0.j         0.        +0.j         0.        +0.j\n",
      "  0.        -0.70710678j]\n",
      " [0.        +0.j         0.70710678+0.j         0.        -0.70710678j\n",
      "  0.        +0.j        ]\n",
      " [0.        +0.j         0.        -0.70710678j 0.70710678+0.j\n",
      "  0.        +0.j        ]\n",
      " [0.        -0.70710678j 0.        +0.j         0.        +0.j\n",
      "  0.70710678+0.j        ]]\n",
      "[[0.70710678+0.j         0.        +0.j         0.        +0.j\n",
      "  0.        -0.70710678j]\n",
      " [0.        +0.j         0.70710678+0.j         0.        -0.70710678j\n",
      "  0.        +0.j        ]\n",
      " [0.        +0.j         0.        -0.70710678j 0.70710678+0.j\n",
      "  0.        +0.j        ]\n",
      " [0.        -0.70710678j 0.        +0.j         0.        +0.j\n",
      "  0.70710678+0.j        ]]\n"
     ]
    }
   ],
   "source": [
    "c = QuantumCircuit(2)\n",
    "c.rxx(np.pi/2, 0, 1)\n",
    "op = Operator(c)\n",
    "print(op.data)\n",
    "X = qt.sigmax()\n",
    "XX = qt.tensor(X, X)\n",
    "op_qt = expm(-1j*np.pi* XX / 4)\n",
    "print(op_qt)\n"
   ]
  }
 ],
 "metadata": {
  "kernelspec": {
   "display_name": "qiskit_env",
   "language": "python",
   "name": "python3"
  },
  "language_info": {
   "codemirror_mode": {
    "name": "ipython",
    "version": 3
   },
   "file_extension": ".py",
   "mimetype": "text/x-python",
   "name": "python",
   "nbconvert_exporter": "python",
   "pygments_lexer": "ipython3",
   "version": "3.11.5"
  }
 },
 "nbformat": 4,
 "nbformat_minor": 2
}
