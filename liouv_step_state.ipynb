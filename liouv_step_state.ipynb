{
 "cells": [
  {
   "cell_type": "code",
   "execution_count": 2,
   "metadata": {},
   "outputs": [],
   "source": [
    "\n",
    "import sys\n",
    "sys.path.append('/Users/bence/code/liouvillian_metro/')\n",
    "\n",
    "import numpy as np\n",
    "import qutip as qt\n",
    "from scipy.linalg import expm\n",
    "import pickle\n",
    "from qiskit.quantum_info import DensityMatrix, Statevector, partial_trace\n",
    "\n",
    "from oft import oft\n",
    "from tools.classical import find_ideal_heisenberg, trotter_heisenberg_qutip"
   ]
  },
  {
   "cell_type": "markdown",
   "metadata": {},
   "source": [
    "### State we should get\n",
    "\n",
    "$$\\rho' = \\mathbb{I} + \\delta \\left[ \\sum_\\omega \\gamma(\\omega) \\left(-\\frac{1}{2} \\{\\sigma_x(\\omega)^\\dagger \\sigma_x(\\omega), \\rho\\} + \\sigma_x(\\omega) \\rho \\sigma_x(\\omega)^\\dagger\\right) \\right]+ \\mathcal{O}(\\delta^2)$$\n",
    "Where we used the $\\sigma_x$ jump on the 1st system qubit out of the [0, 1, 2]. Here it is still under inverstigation how large should $\\delta$ be s.t we can really drop the higher orders, and also that we only have those terms there that should be dropped."
   ]
  },
  {
   "cell_type": "code",
   "execution_count": 3,
   "metadata": {},
   "outputs": [
    {
     "name": "stdout",
     "output_type": "stream",
     "text": [
      "Original spectrum:  [-3.5    -2.9921 -2.3725 -1.5     1.6025  2.1     2.8895  3.7725]\n",
      "Ideal spectrum:  [-0.0071  0.0255  0.0653  0.1214  0.3209  0.3529  0.4036  0.4604]\n",
      "Nonrescaled coefficients:  [0.9 0.7 0.9 1. ]\n",
      "Rescaled coefficients:  [0.05785714 0.045      0.05785714 0.06428571]\n",
      "eXX, eYY, eZZ for qubit (0, 1)\n",
      "eXX, eYY, eZZ for qubit (1, 2)\n",
      "eXX, eYY, eZZ for qubit (2, 0)\n"
     ]
    }
   ],
   "source": [
    "num_qubits = 3\n",
    "num_energy_bits = 6\n",
    "delta = 0.01\n",
    "eps = 0.05\n",
    "sigma = 10\n",
    "bohr_bound = 2 ** (-num_energy_bits + 1)\n",
    "beta = 1\n",
    "\n",
    "\n",
    "hamiltonian = find_ideal_heisenberg(num_qubits, bohr_bound, eps, signed=False, for_oft=True)\n",
    "T = 1\n",
    "total_time = T * 2 * np.pi\n",
    "num_trotter_steps = 10\n",
    "step_size = total_time / num_trotter_steps\n",
    "trott_U_qt = trotter_heisenberg_qutip(num_qubits, step_size, num_trotter_steps, \n",
    "                                      coeffs=hamiltonian.rescaled_coeffs, shift=(total_time*hamiltonian.shift))\n",
    "\n",
    "# U = expm(1j * total_time * hamiltonian.qt.full())\n",
    "# print(np.linalg.norm(U - trott_U_qt.full()))\n",
    "\n",
    "#* Initial state\n",
    "with open(f'data/initial_state_n{num_qubits}k{num_energy_bits}d{delta}.pkl', 'rb') as f:\n",
    "    initial_state = pickle.load(f)\n",
    "\n",
    "initial_dm = DensityMatrix(initial_state).data"
   ]
  },
  {
   "cell_type": "code",
   "execution_count": 4,
   "metadata": {},
   "outputs": [
    {
     "name": "stderr",
     "output_type": "stream",
     "text": [
      "/var/folders/pg/6vn02n251m14stcv7vg03pjr0000gn/T/ipykernel_25725/2210737432.py:4: RuntimeWarning: divide by zero encountered in divide\n",
      "  energy_labels = 2*np.pi / (time_labels * 2**num_energy_bits)\n"
     ]
    },
    {
     "ename": "TypeError",
     "evalue": "exponent must be an integer",
     "output_type": "error",
     "traceback": [
      "\u001b[0;31m---------------------------------------------------------------------------\u001b[0m",
      "\u001b[0;31mTypeError\u001b[0m                                 Traceback (most recent call last)",
      "File \u001b[0;32m~/miniforge3/envs/qiskit_env/lib/python3.11/site-packages/numpy/linalg/linalg.py:639\u001b[0m, in \u001b[0;36mmatrix_power\u001b[0;34m(a, n)\u001b[0m\n\u001b[1;32m    638\u001b[0m \u001b[38;5;28;01mtry\u001b[39;00m:\n\u001b[0;32m--> 639\u001b[0m     n \u001b[38;5;241m=\u001b[39m \u001b[43moperator\u001b[49m\u001b[38;5;241;43m.\u001b[39;49m\u001b[43mindex\u001b[49m\u001b[43m(\u001b[49m\u001b[43mn\u001b[49m\u001b[43m)\u001b[49m\n\u001b[1;32m    640\u001b[0m \u001b[38;5;28;01mexcept\u001b[39;00m \u001b[38;5;167;01mTypeError\u001b[39;00m \u001b[38;5;28;01mas\u001b[39;00m e:\n",
      "\u001b[0;31mTypeError\u001b[0m: 'numpy.float64' object cannot be interpreted as an integer",
      "\nThe above exception was the direct cause of the following exception:\n",
      "\u001b[0;31mTypeError\u001b[0m                                 Traceback (most recent call last)",
      "Cell \u001b[0;32mIn[4], line 17\u001b[0m\n\u001b[1;32m     10\u001b[0m \u001b[38;5;66;03m# for w in energy_labels:\u001b[39;00m\n\u001b[1;32m     11\u001b[0m \u001b[38;5;66;03m#     oft_op = oft(jump_op, w, 2**num_energy_bits, sigma, hamiltonian=hamiltonian.qt.full())\u001b[39;00m\n\u001b[1;32m     12\u001b[0m \u001b[38;5;66;03m#     dm_we_should_get += boltzmann(w)*(-0.5 * oft_op.conj().T @ oft_op @ initial_dm\u001b[39;00m\n\u001b[1;32m     13\u001b[0m \u001b[38;5;66;03m#                                       -0.5 * initial_dm @ oft_op.conj().T @ oft_op\u001b[39;00m\n\u001b[1;32m     14\u001b[0m \u001b[38;5;66;03m#                                       + oft_op @ initial_dm @ oft_op.conj().T)\u001b[39;00m\n\u001b[1;32m     16\u001b[0m \u001b[38;5;28;01mfor\u001b[39;00m w \u001b[38;5;129;01min\u001b[39;00m energy_labels:\n\u001b[0;32m---> 17\u001b[0m     oft_op \u001b[38;5;241m=\u001b[39m \u001b[43moft\u001b[49m\u001b[43m(\u001b[49m\u001b[43mjump_op\u001b[49m\u001b[43m,\u001b[49m\u001b[43m \u001b[49m\u001b[43mw\u001b[49m\u001b[43m,\u001b[49m\u001b[43m \u001b[49m\u001b[38;5;241;43m2\u001b[39;49m\u001b[38;5;241;43m*\u001b[39;49m\u001b[38;5;241;43m*\u001b[39;49m\u001b[43mnum_energy_bits\u001b[49m\u001b[43m,\u001b[49m\u001b[43m \u001b[49m\u001b[43msigma\u001b[49m\u001b[43m,\u001b[49m\u001b[43m \u001b[49m\u001b[43mU\u001b[49m\u001b[38;5;241;43m=\u001b[39;49m\u001b[43mtrott_U_qt\u001b[49m\u001b[38;5;241;43m.\u001b[39;49m\u001b[43mfull\u001b[49m\u001b[43m(\u001b[49m\u001b[43m)\u001b[49m\u001b[43m)\u001b[49m\n\u001b[1;32m     18\u001b[0m     dm_we_should_get \u001b[38;5;241m+\u001b[39m\u001b[38;5;241m=\u001b[39m boltzmann(w)\u001b[38;5;241m*\u001b[39m(\u001b[38;5;241m-\u001b[39m\u001b[38;5;241m0.5\u001b[39m \u001b[38;5;241m*\u001b[39m oft_op\u001b[38;5;241m.\u001b[39mconj()\u001b[38;5;241m.\u001b[39mT \u001b[38;5;241m@\u001b[39m oft_op \u001b[38;5;241m@\u001b[39m initial_dm\n\u001b[1;32m     19\u001b[0m                                       \u001b[38;5;241m-\u001b[39m\u001b[38;5;241m0.5\u001b[39m \u001b[38;5;241m*\u001b[39m initial_dm \u001b[38;5;241m@\u001b[39m oft_op\u001b[38;5;241m.\u001b[39mconj()\u001b[38;5;241m.\u001b[39mT \u001b[38;5;241m@\u001b[39m oft_op\n\u001b[1;32m     20\u001b[0m                                       \u001b[38;5;241m+\u001b[39m oft_op \u001b[38;5;241m@\u001b[39m initial_dm \u001b[38;5;241m@\u001b[39m oft_op\u001b[38;5;241m.\u001b[39mconj()\u001b[38;5;241m.\u001b[39mT)\n",
      "File \u001b[0;32m~/code/liouvillian_metro/oft.py:24\u001b[0m, in \u001b[0;36moft\u001b[0;34m(jump_op, energy, num_labels, sigma, hamiltonian, U)\u001b[0m\n\u001b[1;32m     22\u001b[0m oft_op \u001b[38;5;241m=\u001b[39m np\u001b[38;5;241m.\u001b[39mzeros_like(jump_op, dtype\u001b[38;5;241m=\u001b[39mnp\u001b[38;5;241m.\u001b[39mcomplex128)\n\u001b[1;32m     23\u001b[0m \u001b[38;5;28;01mfor\u001b[39;00m t \u001b[38;5;129;01min\u001b[39;00m time_labels:\n\u001b[0;32m---> 24\u001b[0m     oft_op \u001b[38;5;241m+\u001b[39m\u001b[38;5;241m=\u001b[39m np\u001b[38;5;241m.\u001b[39mexp(\u001b[38;5;241m1\u001b[39mj \u001b[38;5;241m*\u001b[39m \u001b[38;5;241m2\u001b[39m \u001b[38;5;241m*\u001b[39m np\u001b[38;5;241m.\u001b[39mpi \u001b[38;5;241m*\u001b[39m energy \u001b[38;5;241m*\u001b[39m t \u001b[38;5;241m/\u001b[39m num_labels) \u001b[38;5;241m*\u001b[39m gauss(t) \u001b[38;5;241m*\u001b[39m \u001b[43mtime_evolution\u001b[49m\u001b[43m(\u001b[49m\u001b[43mt\u001b[49m\u001b[43m)\u001b[49m \u001b[38;5;241m@\u001b[39m jump_op \u001b[38;5;241m@\u001b[39m time_evolution(\u001b[38;5;241m-\u001b[39mt)\n\u001b[1;32m     26\u001b[0m \u001b[38;5;28;01mreturn\u001b[39;00m oft_op \u001b[38;5;241m/\u001b[39m (np\u001b[38;5;241m.\u001b[39msqrt(num_labels) \u001b[38;5;241m*\u001b[39m gauss_normalization)\n",
      "File \u001b[0;32m~/code/liouvillian_metro/oft.py:18\u001b[0m, in \u001b[0;36moft.<locals>.<lambda>\u001b[0;34m(t)\u001b[0m\n\u001b[1;32m     15\u001b[0m gauss_normalization \u001b[38;5;241m=\u001b[39m np\u001b[38;5;241m.\u001b[39msum([np\u001b[38;5;241m.\u001b[39msqrt(np\u001b[38;5;241m.\u001b[39mabs(gauss(t))\u001b[38;5;241m*\u001b[39m\u001b[38;5;241m*\u001b[39m\u001b[38;5;241m2\u001b[39m) \u001b[38;5;28;01mfor\u001b[39;00m t \u001b[38;5;129;01min\u001b[39;00m time_labels])\n\u001b[1;32m     17\u001b[0m \u001b[38;5;28;01mif\u001b[39;00m hamiltonian \u001b[38;5;129;01mis\u001b[39;00m \u001b[38;5;28;01mNone\u001b[39;00m:\n\u001b[0;32m---> 18\u001b[0m     time_evolution \u001b[38;5;241m=\u001b[39m \u001b[38;5;28;01mlambda\u001b[39;00m t: \u001b[43mnp\u001b[49m\u001b[38;5;241;43m.\u001b[39;49m\u001b[43mlinalg\u001b[49m\u001b[38;5;241;43m.\u001b[39;49m\u001b[43mmatrix_power\u001b[49m\u001b[43m(\u001b[49m\u001b[43mU\u001b[49m\u001b[43m,\u001b[49m\u001b[43m \u001b[49m\u001b[43mt\u001b[49m\u001b[43m)\u001b[49m\n\u001b[1;32m     19\u001b[0m \u001b[38;5;28;01melse\u001b[39;00m:\n\u001b[1;32m     20\u001b[0m     time_evolution \u001b[38;5;241m=\u001b[39m \u001b[38;5;28;01mlambda\u001b[39;00m t: expm(\u001b[38;5;241m1\u001b[39mj \u001b[38;5;241m*\u001b[39m t \u001b[38;5;241m*\u001b[39m hamiltonian)\n",
      "File \u001b[0;32m~/miniforge3/envs/qiskit_env/lib/python3.11/site-packages/numpy/linalg/linalg.py:641\u001b[0m, in \u001b[0;36mmatrix_power\u001b[0;34m(a, n)\u001b[0m\n\u001b[1;32m    639\u001b[0m     n \u001b[38;5;241m=\u001b[39m operator\u001b[38;5;241m.\u001b[39mindex(n)\n\u001b[1;32m    640\u001b[0m \u001b[38;5;28;01mexcept\u001b[39;00m \u001b[38;5;167;01mTypeError\u001b[39;00m \u001b[38;5;28;01mas\u001b[39;00m e:\n\u001b[0;32m--> 641\u001b[0m     \u001b[38;5;28;01mraise\u001b[39;00m \u001b[38;5;167;01mTypeError\u001b[39;00m(\u001b[38;5;124m\"\u001b[39m\u001b[38;5;124mexponent must be an integer\u001b[39m\u001b[38;5;124m\"\u001b[39m) \u001b[38;5;28;01mfrom\u001b[39;00m \u001b[38;5;21;01me\u001b[39;00m\n\u001b[1;32m    643\u001b[0m \u001b[38;5;66;03m# Fall back on dot for object arrays. Object arrays are not supported by\u001b[39;00m\n\u001b[1;32m    644\u001b[0m \u001b[38;5;66;03m# the current implementation of matmul using einsum\u001b[39;00m\n\u001b[1;32m    645\u001b[0m \u001b[38;5;28;01mif\u001b[39;00m a\u001b[38;5;241m.\u001b[39mdtype \u001b[38;5;241m!=\u001b[39m \u001b[38;5;28mobject\u001b[39m:\n",
      "\u001b[0;31mTypeError\u001b[0m: exponent must be an integer"
     ]
    }
   ],
   "source": [
    "boltzmann = lambda w: np.min([1, np.exp(-beta * w)])\n",
    "\n",
    "time_labels = np.arange(-0.5, 0.5, 1/2**num_energy_bits)\n",
    "energy_labels = 2*np.pi / (time_labels * 2**num_energy_bits)\n",
    "energy_labels[int(2**num_energy_bits / 2)] = 0\n",
    "\n",
    "jump_op = qt.tensor([qt.qeye(2), qt.sigmax(), qt.qeye(2)]).full()\n",
    "\n",
    "dm_we_should_get = np.eye(2**num_qubits, dtype=np.complex128)\n",
    "# for w in energy_labels:\n",
    "#     oft_op = oft(jump_op, w, 2**num_energy_bits, sigma, hamiltonian=hamiltonian.qt.full())\n",
    "#     dm_we_should_get += boltzmann(w)*(-0.5 * oft_op.conj().T @ oft_op @ initial_dm\n",
    "#                                       -0.5 * initial_dm @ oft_op.conj().T @ oft_op\n",
    "#                                       + oft_op @ initial_dm @ oft_op.conj().T)\n",
    "\n",
    "for w in energy_labels:\n",
    "    oft_op = oft(jump_op, w, 2**num_energy_bits, sigma, U=trott_U_qt.full())\n",
    "    dm_we_should_get += boltzmann(w)*(-0.5 * oft_op.conj().T @ oft_op @ initial_dm\n",
    "                                      -0.5 * initial_dm @ oft_op.conj().T @ oft_op\n",
    "                                      + oft_op @ initial_dm @ oft_op.conj().T)\n",
    "    \n"
   ]
  },
  {
   "cell_type": "code",
   "execution_count": null,
   "metadata": {},
   "outputs": [
    {
     "data": {
      "text/plain": [
       "0.09961190603426436"
      ]
     },
     "execution_count": 29,
     "metadata": {},
     "output_type": "execute_result"
    }
   ],
   "source": [
    "the_time = 1\n",
    "time_evolution_trott = lambda t: np.linalg.matrix_power(trott_U_qt, 1 * t)\n",
    "time_evolution = lambda t: expm(1j * 2*np.pi * t * hamiltonian.qt.full())\n",
    "np.linalg.norm(time_evolution(the_time) - time_evolution_trott(the_time))"
   ]
  },
  {
   "cell_type": "code",
   "execution_count": null,
   "metadata": {},
   "outputs": [],
   "source": [
    "with open(f'data/state_before_measure_n{num_qubits}k{num_energy_bits}d{delta}.pkl', 'rb') as f:\n",
    "    circ_state = pickle.load(f)\n",
    "\n",
    "circ_sys_dm = partial_trace(circ_state, list(range(2 + num_energy_bits))).data"
   ]
  },
  {
   "cell_type": "code",
   "execution_count": null,
   "metadata": {},
   "outputs": [
    {
     "data": {
      "text/plain": [
       "3.1329677184427442"
      ]
     },
     "execution_count": 41,
     "metadata": {},
     "output_type": "execute_result"
    }
   ],
   "source": [
    "dist = np.linalg.norm(dm_we_should_get - circ_sys_dm)\n",
    "dist"
   ]
  }
 ],
 "metadata": {
  "kernelspec": {
   "display_name": "qiskit_env",
   "language": "python",
   "name": "python3"
  },
  "language_info": {
   "codemirror_mode": {
    "name": "ipython",
    "version": 3
   },
   "file_extension": ".py",
   "mimetype": "text/x-python",
   "name": "python",
   "nbconvert_exporter": "python",
   "pygments_lexer": "ipython3",
   "version": "3.11.5"
  }
 },
 "nbformat": 4,
 "nbformat_minor": 2
}
