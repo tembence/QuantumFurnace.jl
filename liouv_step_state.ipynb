{
 "cells": [
  {
   "cell_type": "code",
   "execution_count": 31,
   "metadata": {},
   "outputs": [],
   "source": [
    "\n",
    "import sys\n",
    "sys.path.append('/Users/bence/code/liouvillian_metro/')\n",
    "\n",
    "import numpy as np\n",
    "import qutip as qt\n",
    "from scipy.linalg import expm\n",
    "import pickle\n",
    "from qiskit.quantum_info import DensityMatrix, Statevector, partial_trace\n",
    "\n",
    "from oft import oft\n",
    "from tools.classical import find_ideal_heisenberg, trotter_heisenberg_qutip"
   ]
  },
  {
   "cell_type": "markdown",
   "metadata": {},
   "source": [
    "### State we should get\n",
    "\n",
    "$$\\rho' = \\mathbb{I} + \\delta \\left[ \\sum_\\omega \\gamma(\\omega) \\left(-\\frac{1}{2} \\{\\sigma_x(\\omega)^\\dagger \\sigma_x(\\omega), \\rho\\} + \\sigma_x(\\omega) \\rho \\sigma_x(\\omega)^\\dagger\\right) \\right]+ \\mathcal{O}(\\delta^2)$$\n",
    "Where we used the $\\sigma_x$ jump on the 1st system qubit out of the [0, 1, 2]. Here it is still under inverstigation how large should $\\delta$ be s.t we can really drop the higher orders, and also that we only have those terms there that should be dropped."
   ]
  },
  {
   "cell_type": "code",
   "execution_count": 32,
   "metadata": {},
   "outputs": [
    {
     "name": "stdout",
     "output_type": "stream",
     "text": [
      "Original spectrum:  [-3.5    -2.9921 -2.3725 -1.5     1.6025  2.1     2.8895  3.7725]\n",
      "Ideal spectrum:  [-0.0071  0.0255  0.0653  0.1214  0.3209  0.3529  0.4036  0.4604]\n",
      "Nonrescaled coefficients:  [0.9 0.7 0.9 1. ]\n",
      "Rescaled coefficients:  [0.05785714 0.045      0.05785714 0.06428571]\n",
      "eXX, eYY, eZZ for qubit (0, 1)\n",
      "eXX, eYY, eZZ for qubit (1, 2)\n",
      "eXX, eYY, eZZ for qubit (2, 0)\n"
     ]
    }
   ],
   "source": [
    "num_qubits = 3\n",
    "num_energy_bits = 6\n",
    "delta = 0.01 \n",
    "eps = 0.05\n",
    "sigma = 10\n",
    "bohr_bound = 2 ** (-num_energy_bits + 1)\n",
    "beta = 1\n",
    "\n",
    "\n",
    "hamiltonian = find_ideal_heisenberg(num_qubits, bohr_bound, eps, signed=False, for_oft=True)\n",
    "T = 1\n",
    "total_time = T * 2 * np.pi\n",
    "num_trotter_steps = 10\n",
    "step_size = total_time / num_trotter_steps\n",
    "trott_U_qt = trotter_heisenberg_qutip(num_qubits, step_size, num_trotter_steps, \n",
    "                                      coeffs=hamiltonian.rescaled_coeffs, shift=(total_time*hamiltonian.shift))\n",
    "\n",
    "# U = expm(1j * total_time * hamiltonian.qt.full())\n",
    "# print(np.linalg.norm(U - trott_U_qt.full()))\n",
    "\n",
    "#* Initial state\n",
    "with open(f'data/initial_state_n{num_qubits}k{num_energy_bits}d{delta}.pkl', 'rb') as f:\n",
    "    initial_state = pickle.load(f)\n",
    "\n",
    "initial_dm = DensityMatrix(initial_state).data"
   ]
  },
  {
   "cell_type": "code",
   "execution_count": 33,
   "metadata": {},
   "outputs": [
    {
     "name": "stderr",
     "output_type": "stream",
     "text": [
      "/var/folders/pg/6vn02n251m14stcv7vg03pjr0000gn/T/ipykernel_30247/1453247532.py:4: RuntimeWarning: divide by zero encountered in divide\n",
      "  energy_labels = 1 / (time_labels * 2**num_energy_bits)\n"
     ]
    }
   ],
   "source": [
    "boltzmann = lambda w: np.min([1, np.exp(-beta * w)])\n",
    "\n",
    "time_labels = np.arange(-0.5, 0.5, 1/2**num_energy_bits)\n",
    "energy_labels = 1 / (time_labels * 2**num_energy_bits)\n",
    "energy_labels[int(2**num_energy_bits / 2)] = 0\n",
    "\n",
    "jump_op = qt.tensor([qt.qeye(2), qt.sigmax(), qt.qeye(2)]).full()\n",
    "\n",
    "dm_we_should_get = np.eye(2**num_qubits, dtype=np.complex128)\n",
    "#* Exact\n",
    "# for w in energy_labels:\n",
    "#     oft_op = oft(jump_op, w, 2**num_energy_bits, sigma, hamiltonian=hamiltonian.qt.full())\n",
    "#     dm_we_should_get += delta * boltzmann(w)*(-0.5 * oft_op.conj().T @ oft_op @ initial_dm\n",
    "#                                       -0.5 * initial_dm @ oft_op.conj().T @ oft_op\n",
    "#                                       + oft_op @ initial_dm @ oft_op.conj().T)\n",
    "\n",
    "#* Trotter\n",
    "for w in energy_labels:\n",
    "    oft_op = oft(jump_op, w, 2**num_energy_bits, sigma, trotter=trott_U_qt.full())\n",
    "    dm_we_should_get += delta * boltzmann(w)*(-0.5 * oft_op.conj().T @ oft_op @ initial_dm\n",
    "                                      -0.5 * initial_dm @ oft_op.conj().T @ oft_op\n",
    "                                      + oft_op @ initial_dm @ oft_op.conj().T)\n",
    "    \n"
   ]
  },
  {
   "cell_type": "code",
   "execution_count": 34,
   "metadata": {},
   "outputs": [
    {
     "data": {
      "text/plain": [
       "0.09961190603426436"
      ]
     },
     "execution_count": 34,
     "metadata": {},
     "output_type": "execute_result"
    }
   ],
   "source": [
    "the_time = 1\n",
    "time_evolution_trott = lambda t: np.linalg.matrix_power(trott_U_qt, 1 * t)\n",
    "time_evolution = lambda t: expm(1j * 2*np.pi * t * hamiltonian.qt.full())\n",
    "np.linalg.norm(time_evolution(the_time) - time_evolution_trott(the_time))"
   ]
  },
  {
   "cell_type": "code",
   "execution_count": 35,
   "metadata": {},
   "outputs": [],
   "source": [
    "with open(f'data/state_before_measure_n{num_qubits}k{num_energy_bits}d{delta}.pkl', 'rb') as f:\n",
    "    circ_state = pickle.load(f)\n",
    "\n",
    "circ_sys_dm = partial_trace(circ_state, list(range(2 + num_energy_bits))).data"
   ]
  },
  {
   "cell_type": "code",
   "execution_count": 36,
   "metadata": {},
   "outputs": [
    {
     "data": {
      "text/plain": [
       "2.643137687081575"
      ]
     },
     "execution_count": 36,
     "metadata": {},
     "output_type": "execute_result"
    }
   ],
   "source": [
    "dist = np.linalg.norm(dm_we_should_get - circ_sys_dm)\n",
    "dist"
   ]
  }
 ],
 "metadata": {
  "kernelspec": {
   "display_name": "qiskit_env",
   "language": "python",
   "name": "python3"
  },
  "language_info": {
   "codemirror_mode": {
    "name": "ipython",
    "version": 3
   },
   "file_extension": ".py",
   "mimetype": "text/x-python",
   "name": "python",
   "nbconvert_exporter": "python",
   "pygments_lexer": "ipython3",
   "version": "3.11.5"
  }
 },
 "nbformat": 4,
 "nbformat_minor": 2
}
