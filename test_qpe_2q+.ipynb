{
 "cells": [
  {
   "cell_type": "code",
   "execution_count": 9,
   "metadata": {},
   "outputs": [],
   "source": [
    "import numpy as np\n",
    "import qutip as qt\n",
    "from scipy.linalg import logm, expm\n",
    "from qiskit.quantum_info import Operator, state_fidelity\n",
    "from qiskit import QuantumCircuit\n",
    "from qiskit_aer import StatevectorSimulator\n",
    "from qiskit import Aer\n",
    "from qiskit.circuit.library import QFT\n",
    "\n",
    "\n",
    "from tools.classical import *\n",
    "from tools.quantum import *"
   ]
  },
  {
   "cell_type": "code",
   "execution_count": 10,
   "metadata": {},
   "outputs": [],
   "source": [
    "num_qubits = 3\n",
    "num_estimating_qubits = 4\n",
    "qpe_precision = 2 ** (-num_estimating_qubits)\n",
    "\n",
    "X = qt.sigmax()\n",
    "Y = qt.sigmay()\n",
    "Z = qt.sigmaz()"
   ]
  },
  {
   "cell_type": "markdown",
   "metadata": {},
   "source": [
    "### Find Heisenberg coefficients for non degenerate spectrum"
   ]
  },
  {
   "cell_type": "code",
   "execution_count": 11,
   "metadata": {},
   "outputs": [
    {
     "name": "stdout",
     "output_type": "stream",
     "text": [
      "Original spectrum:  [-4.     -3.4641 -2.8284 -2.      2.      2.8284  3.4641  4.    ]\n",
      "Ideal spectrum found:  [0.     0.0628 0.1373 0.2344 0.7031 0.8002 0.8747 0.9375]\n",
      "Nonrescaled coefficients:  [1. 1. 1. 1.]\n",
      "Rescaling factor 8.533333333333333, shift 0.46875\n",
      "Rescaled coefficients:  [0.1171875 0.1171875 0.1171875 0.1171875]\n"
     ]
    }
   ],
   "source": [
    "coeff_lower_bound = 0\n",
    "coeff_xx = np.arange(1, coeff_lower_bound, -0.1)\n",
    "coeff_yy = np.arange(1, coeff_lower_bound, -0.1)\n",
    "coeff_zz = np.arange(1, coeff_lower_bound, -0.1)\n",
    "coeff_z = np.arange(1, coeff_lower_bound, -0.1)\n",
    "\n",
    "#* Find ideal spectrum\n",
    "coeffs = np.array(np.meshgrid(coeff_xx, coeff_yy, coeff_zz, coeff_z)).T.reshape(-1, 4)\n",
    "hamiltonian_ideal_qt = None\n",
    "coeffs_ideal_spec = []\n",
    "found_ideal_spectrum = False\n",
    "for coeff in coeffs:\n",
    "    hamiltonian_qt = hamiltonian_matrix([X, X], [Y, Y], [Z, Z], coeffs=coeff, num_qubits=num_qubits, symbreak_term=[Z])\n",
    "    rescaling_factor, shift = rescaling_and_shift_factors(hamiltonian_qt)\n",
    "    rescaling_factor /= (1 - qpe_precision)  # [0, 1 - eps]\n",
    "    shift *= (1 - qpe_precision)             # [0, 1 - eps]\n",
    "    rescaled_hamiltonian_qt = hamiltonian_qt / rescaling_factor + shift * qt.qeye(hamiltonian_qt.shape[0])\n",
    "    \n",
    "    rescaled_exact_spec = np.linalg.eigvalsh(rescaled_hamiltonian_qt)\n",
    "    \n",
    "    # Accept coeff only if all spectrum elements are not closer than qpe_precision\n",
    "    for eigval_i in rescaled_exact_spec:\n",
    "        spec_without_eigval_i = np.delete(rescaled_exact_spec, np.where(rescaled_exact_spec == eigval_i))\n",
    "        if np.any(np.abs(spec_without_eigval_i - eigval_i) < qpe_precision):\n",
    "            break\n",
    "    else:\n",
    "        found_ideal_spectrum = True\n",
    "        hamiltonian_ideal_qt = hamiltonian_qt\n",
    "        coeffs_ideal_spec = coeff\n",
    "        exact_spec = np.linalg.eigvalsh(hamiltonian_qt)\n",
    "        print('Original spectrum: ', np.round(exact_spec, 4))\n",
    "        print(\"Ideal spectrum found: \", np.round(rescaled_exact_spec, 4))\n",
    "        print(\"Nonrescaled coefficients: \", coeffs_ideal_spec)\n",
    "        break\n",
    "\n",
    "if not found_ideal_spectrum:\n",
    "    print(\"No ideal spectrum found\")\n",
    "    \n",
    "#* Found ideal spectrum with bulk sym break term Z, strength 1, for 3-4 and 4-6 system qubits - estimating qubits\n",
    "    \n",
    "rescaling_factor, shift = rescaling_and_shift_factors(hamiltonian_ideal_qt)\n",
    "rescaling_factor /= (1 - qpe_precision)  # [0, 1 - eps]\n",
    "shift *= (1 - qpe_precision)             # [0, 1 - eps]\n",
    "print(f'Rescaling factor {rescaling_factor}, shift {shift}')\n",
    "\n",
    "rescaled_hamiltonian_qt = hamiltonian_qt / rescaling_factor + shift * qt.qeye(hamiltonian_qt.shape[0])  #* Shift / No Shift\n",
    "rescaled_coeff = coeffs_ideal_spec / rescaling_factor\n",
    "print('Rescaled coefficients: ', rescaled_coeff)\n"
   ]
  },
  {
   "cell_type": "code",
   "execution_count": 12,
   "metadata": {},
   "outputs": [
    {
     "name": "stdout",
     "output_type": "stream",
     "text": [
      "Jump on qubit 1\n",
      "Energy after jump = (0.234375+0j)\n",
      "Initial energy in circuit = (0.23437499999999983+0j)\n",
      "                    ┌───┐              ┌───────────┐                        »\n",
      "  E_0: ─────────────┤ H ├──────────────┤ P(15π/16) ├──■─────────────────────»\n",
      "                    ├───┤              └┬──────────┤  │                     »\n",
      "  E_1: ─────────────┤ H ├───────────────┤ P(15π/8) ├──┼─────■─────■─────────»\n",
      "                    ├───┤               ├──────────┤  │     │     │         »\n",
      "  E_2: ─────────────┤ H ├───────────────┤ P(15π/4) ├──┼─────┼─────┼─────■───»\n",
      "                    ├───┤               ├──────────┤  │     │     │     │   »\n",
      "  E_3: ─────────────┤ H ├───────────────┤ P(15π/2) ├──┼─────┼─────┼─────┼───»\n",
      "       ┌────────────┴───┴─────────────┐ └──────────┘┌─┴──┐┌─┴──┐┌─┴──┐┌─┴──┐»\n",
      "sys_0: ┤0                             ├─────────────┤0   ├┤0   ├┤0   ├┤0   ├»\n",
      "       │                              │    ┌───┐    │    ││    ││    ││    │»\n",
      "sys_1: ┤1 Initialize(1,0,0,0,0,0,0,0) ├────┤ X ├────┤1 H ├┤1 H ├┤1 H ├┤1 H ├»\n",
      "       │                              │    └───┘    │    ││    ││    ││    │»\n",
      "sys_2: ┤2                             ├─────────────┤2   ├┤2   ├┤2   ├┤2   ├»\n",
      "       └──────────────────────────────┘             └────┘└────┘└────┘└────┘»\n",
      "crE: 4/═════════════════════════════════════════════════════════════════════»\n",
      "                                                                            »\n",
      "«                                                                         »\n",
      "«  E_0: ──────────────────────────────────────────────────────────────────»\n",
      "«                                                                         »\n",
      "«  E_1: ──────────────────────────────────────────────────────────────────»\n",
      "«                                                                         »\n",
      "«  E_2: ──■─────■─────■───────────────────────────────────────────────────»\n",
      "«         │     │     │                                                   »\n",
      "«  E_3: ──┼─────┼─────┼─────■─────■─────■─────■─────■─────■─────■─────■───»\n",
      "«       ┌─┴──┐┌─┴──┐┌─┴──┐┌─┴──┐┌─┴──┐┌─┴──┐┌─┴──┐┌─┴──┐┌─┴──┐┌─┴──┐┌─┴──┐»\n",
      "«sys_0: ┤0   ├┤0   ├┤0   ├┤0   ├┤0   ├┤0   ├┤0   ├┤0   ├┤0   ├┤0   ├┤0   ├»\n",
      "«       │    ││    ││    ││    ││    ││    ││    ││    ││    ││    ││    │»\n",
      "«sys_1: ┤1 H ├┤1 H ├┤1 H ├┤1 H ├┤1 H ├┤1 H ├┤1 H ├┤1 H ├┤1 H ├┤1 H ├┤1 H ├»\n",
      "«       │    ││    ││    ││    ││    ││    ││    ││    ││    ││    ││    │»\n",
      "«sys_2: ┤2   ├┤2   ├┤2   ├┤2   ├┤2   ├┤2   ├┤2   ├┤2   ├┤2   ├┤2   ├┤2   ├»\n",
      "«       └────┘└────┘└────┘└────┘└────┘└────┘└────┘└────┘└────┘└────┘└────┘»\n",
      "«crE: 4/══════════════════════════════════════════════════════════════════»\n",
      "«                                                                         »\n",
      "«       ┌──────────┐┌─┐         \n",
      "«  E_0: ┤0         ├┤M├─────────\n",
      "«       │          │└╥┘┌─┐      \n",
      "«  E_1: ┤1         ├─╫─┤M├──────\n",
      "«       │  IQFT_dg │ ║ └╥┘┌─┐   \n",
      "«  E_2: ┤2         ├─╫──╫─┤M├───\n",
      "«       │          │ ║  ║ └╥┘┌─┐\n",
      "«  E_3: ┤3         ├─╫──╫──╫─┤M├\n",
      "«       └──────────┘ ║  ║  ║ └╥┘\n",
      "«sys_0: ─────────────╫──╫──╫──╫─\n",
      "«                    ║  ║  ║  ║ \n",
      "«sys_1: ─────────────╫──╫──╫──╫─\n",
      "«                    ║  ║  ║  ║ \n",
      "«sys_2: ─────────────╫──╫──╫──╫─\n",
      "«                    ║  ║  ║  ║ \n",
      "«crE: 4/═════════════╩══╩══╩══╩═\n",
      "«                    0  1  2  3 \n"
     ]
    }
   ],
   "source": [
    "np.random.seed(667)\n",
    "exact_spec, eigenstates = np.linalg.eigh(rescaled_hamiltonian_qt)\n",
    "\n",
    "#* Initial state = eigenstate\n",
    "eig_index = 7\n",
    "initial_state = eigenstates[:, eig_index]\n",
    "\n",
    "#* Jump\n",
    "jumped = True\n",
    "rand_qubit = np.random.randint(num_qubits)\n",
    "print(f'Jump on qubit {rand_qubit}')\n",
    "jump_op = pad_term([X], num_qubits, rand_qubit)\n",
    "state_after_jump = jump_op.full() @ initial_state\n",
    "energy_after_jump = state_after_jump.conj().T @ rescaled_hamiltonian_qt.full() @ state_after_jump\n",
    "print(f'Energy after jump = {energy_after_jump}')\n",
    "\n",
    "#* Initial state = superposition of two eigenstates\n",
    "# initial_state = np.sqrt(0.4) * eigenstates[:, 3] + np.sqrt(0.6) * eigenstates[:, 4]\n",
    "#TODO: try complex states / amplitudes\n",
    "\n",
    "#* Initial state = random state\n",
    "# randstate_better = np.zeros(2**num_qubits)\n",
    "# randstate_better[np.random.choice(2**num_qubits, 2**num_qubits//2, replace=False)] = 1\n",
    "# randstate_better /= np.linalg.norm(randstate_better)\n",
    "# initial_state = randstate_better\n",
    "\n",
    "# initial_energy = initial_state.conj().T @ rescaled_hamiltonian_qt.full() @ initial_state\n",
    "# print(f'Initial energy = {initial_energy}')\n",
    "\n",
    "# Initialize\n",
    "initial_state = Statevector(initial_state)\n",
    "qr_energy = QuantumRegister(num_estimating_qubits, name=\"E\")\n",
    "cr_energy = ClassicalRegister(num_estimating_qubits, name=\"crE\")\n",
    "qr_sys  = QuantumRegister(num_qubits, name=\"sys\")\n",
    "circ = QuantumCircuit(qr_energy, qr_sys, cr_energy)\n",
    "circ.initialize(initial_state, qr_sys)\n",
    "circ.h(qr_energy)\n",
    "#TODO: Figure out register order, and order within\n",
    "\n",
    "# Jump\n",
    "if jumped:\n",
    "    # circ.x(qr_sys[num_qubits - 1 - rand_qubit]) #FIXME: ? Reversed? \n",
    "    circ.x(qr_sys[rand_qubit]) #FIXME: ? Reversed? \n",
    "\n",
    "statevector = Statevector(circ).data\n",
    "padded_rescaled_hamiltonian = np.kron(rescaled_hamiltonian_qt.full(), np.eye(2**num_estimating_qubits))  # top-bottom = right-left\n",
    "energy = statevector.conj().T @ padded_rescaled_hamiltonian @ statevector\n",
    "print(f'Initial energy in circuit = {energy}')\n",
    "\n",
    "# QPE\n",
    "T = 1\n",
    "time = T * 2 * np.pi\n",
    "num_trotter_steps = 10\n",
    "\n",
    "trotter_step_circ = trotter_step_heisenberg(num_qubits, coeffs=rescaled_coeff, symbreak=True)\n",
    "U = ham_evol(num_qubits, trotter_step=trotter_step_circ, num_trotter_steps=num_trotter_steps, time=time)\n",
    "cU = U.control(1)\n",
    "for q in range(num_estimating_qubits):\n",
    "    circ.p(time * shift * 2**q, qr_energy[q])  #* Shift\n",
    "    for _ in range(2**q):\n",
    "        circ.compose(cU, [q, *list(qr_sys)], inplace=True)\n",
    "\n",
    "# Inverse QFT\n",
    "qft_circ = QFT(num_estimating_qubits, inverse=True)  # With SWAPs\n",
    "circ.compose(qft_circ, qr_energy, inplace=True)\n",
    "\n",
    "circ.measure(qr_energy, cr_energy)\n",
    "print(circ)"
   ]
  },
  {
   "cell_type": "code",
   "execution_count": 13,
   "metadata": {},
   "outputs": [
    {
     "name": "stderr",
     "output_type": "stream",
     "text": [
      "/Users/bence/miniforge3/envs/qiskit_env/lib/python3.11/site-packages/numpy/linalg/linalg.py:2180: RuntimeWarning: divide by zero encountered in det\n",
      "  r = _umath_linalg.det(a, signature=signature)\n",
      "/Users/bence/miniforge3/envs/qiskit_env/lib/python3.11/site-packages/numpy/linalg/linalg.py:2180: RuntimeWarning: invalid value encountered in det\n",
      "  r = _umath_linalg.det(a, signature=signature)\n"
     ]
    }
   ],
   "source": [
    "tr_circ = transpile(circ, basis_gates=['u', 'cx'], optimization_level=3)"
   ]
  },
  {
   "cell_type": "code",
   "execution_count": 14,
   "metadata": {},
   "outputs": [
    {
     "name": "stdout",
     "output_type": "stream",
     "text": [
      "{'0001': 788, '1110': 187, '0100': 19, '0011': 3, '0010': 2, '0000': 1}\n"
     ]
    }
   ],
   "source": [
    "simulator = Aer.get_backend('statevector_simulator')\n",
    "shots = 1000\n",
    "job = simulator.run(tr_circ, shots=shots)\n",
    "counts = job.result().get_counts()\n",
    "counts = dict(sorted(counts.items(), key=lambda item: item[1], reverse=True))\n",
    "\n",
    "print(counts)\n"
   ]
  },
  {
   "cell_type": "code",
   "execution_count": 15,
   "metadata": {},
   "outputs": [
    {
     "name": "stdout",
     "output_type": "stream",
     "text": [
      "Exact energy: 0.234375\n",
      "Estimated energy: 0.0625\n",
      "Combined estimated energy: 0.21843749999999998\n"
     ]
    }
   ],
   "source": [
    "phase_bits = list(counts.keys())[0] # take the most often obtaned result\n",
    "phase_bits_shots = counts[phase_bits]\n",
    "\n",
    "# second_phase_bits = list(counts.keys())[1]\n",
    "# second_phase_bits_shots = counts[second_phase_bits]\n",
    "\n",
    "combined_phase = 0.\n",
    "# Combine all phases\n",
    "for i in range(len(counts.keys())):\n",
    "    combined_phase += int(list(counts.keys())[i], 2) * list(counts.values())[i] / shots\n",
    "\n",
    "combined_phase /= 2**num_estimating_qubits\n",
    "\n",
    "phase = int(phase_bits, 2) / 2**num_estimating_qubits  # exp(i 2pi phase)\n",
    "    \n",
    "estimated_energy = phase / T  # exp(i 2pi phase) = exp(i 2pi E T)\n",
    "estimated_combined_energy = combined_phase / T\n",
    "print(f'Exact energy: {energy_after_jump.real}')\n",
    "print(f'Estimated energy: {estimated_energy}')  # I guess it peaks at the two most probable eigenstates and it will give either one of them and\n",
    "                                                # not the energy in between them.\n",
    "print(f'Combined estimated energy: {estimated_combined_energy}')  "
   ]
  }
 ],
 "metadata": {
  "kernelspec": {
   "display_name": "qiskit_env",
   "language": "python",
   "name": "python3"
  },
  "language_info": {
   "codemirror_mode": {
    "name": "ipython",
    "version": 3
   },
   "file_extension": ".py",
   "mimetype": "text/x-python",
   "name": "python",
   "nbconvert_exporter": "python",
   "pygments_lexer": "ipython3",
   "version": "3.11.5"
  }
 },
 "nbformat": 4,
 "nbformat_minor": 2
}
