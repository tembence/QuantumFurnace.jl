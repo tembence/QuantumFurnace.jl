{
 "cells": [
  {
   "cell_type": "code",
   "execution_count": 1,
   "metadata": {},
   "outputs": [],
   "source": [
    "import numpy as np\n",
    "import qutip as qt\n",
    "from scipy.linalg import logm, expm\n",
    "from qiskit.quantum_info import Operator, state_fidelity\n",
    "from qiskit import QuantumCircuit\n",
    "from qiskit_aer import StatevectorSimulator\n",
    "from qiskit import Aer\n",
    "from qiskit.circuit.library import QFT\n",
    "\n",
    "\n",
    "from tools.classical import *\n",
    "from tools.quantum import *"
   ]
  },
  {
   "cell_type": "code",
   "execution_count": 2,
   "metadata": {},
   "outputs": [],
   "source": [
    "num_qubits = 3\n",
    "num_estimating_qubits = 4\n",
    "qpe_precision = 2 ** (-num_estimating_qubits)\n",
    "\n",
    "X = qt.sigmax()\n",
    "Y = qt.sigmay()\n",
    "Z = qt.sigmaz()"
   ]
  },
  {
   "cell_type": "markdown",
   "metadata": {},
   "source": [
    "### Find Heisenberg coefficients for non degenerate spectrum"
   ]
  },
  {
   "cell_type": "code",
   "execution_count": 3,
   "metadata": {},
   "outputs": [
    {
     "name": "stdout",
     "output_type": "stream",
     "text": [
      "Original spectrum:  [-4.     -3.4641 -2.8284 -2.      2.      2.8284  3.4641  4.    ]\n",
      "Ideal spectrum found:  [0.     0.0628 0.1373 0.2344 0.7031 0.8002 0.8747 0.9375]\n",
      "Nonrescaled coefficients:  [1. 1. 1. 1.]\n",
      "Rescaling factor 8.533333333333333, shift 0.46875\n",
      "Rescaled coefficients:  [0.1171875 0.1171875 0.1171875 0.1171875]\n"
     ]
    }
   ],
   "source": [
    "coeff_lower_bound = 0\n",
    "coeff_xx = np.arange(1, coeff_lower_bound, -0.1)\n",
    "coeff_yy = np.arange(1, coeff_lower_bound, -0.1)\n",
    "coeff_zz = np.arange(1, coeff_lower_bound, -0.1)\n",
    "coeff_z = np.arange(1, coeff_lower_bound, -0.1)\n",
    "\n",
    "#* Find ideal spectrum\n",
    "coeffs = np.array(np.meshgrid(coeff_xx, coeff_yy, coeff_zz, coeff_z)).T.reshape(-1, 4)\n",
    "hamiltonian_ideal_qt = None\n",
    "coeffs_ideal_spec = []\n",
    "found_ideal_spectrum = False\n",
    "for coeff in coeffs:\n",
    "    hamiltonian_qt = hamiltonian_matrix([X, X], [Y, Y], [Z, Z], coeffs=coeff, num_qubits=num_qubits, symbreak_term=[Z])\n",
    "    rescaling_factor, shift = rescaling_and_shift_factors(hamiltonian_qt)\n",
    "    rescaling_factor /= (1 - qpe_precision)  # [0, 1 - eps]\n",
    "    shift *= (1 - qpe_precision)             # [0, 1 - eps]\n",
    "    rescaled_hamiltonian_qt = hamiltonian_qt / rescaling_factor + shift * qt.qeye(hamiltonian_qt.shape[0])\n",
    "    \n",
    "    rescaled_exact_spec = np.linalg.eigvalsh(rescaled_hamiltonian_qt)\n",
    "    \n",
    "    # Accept coeff only if all spectrum elements are not closer than qpe_precision\n",
    "    for eigval_i in rescaled_exact_spec:\n",
    "        spec_without_eigval_i = np.delete(rescaled_exact_spec, np.where(rescaled_exact_spec == eigval_i))\n",
    "        if np.any(np.abs(spec_without_eigval_i - eigval_i) < qpe_precision):\n",
    "            break\n",
    "    else:\n",
    "        found_ideal_spectrum = True\n",
    "        hamiltonian_ideal_qt = hamiltonian_qt\n",
    "        coeffs_ideal_spec = coeff\n",
    "        exact_spec = np.linalg.eigvalsh(hamiltonian_qt)\n",
    "        print('Original spectrum: ', np.round(exact_spec, 4))\n",
    "        print(\"Ideal spectrum found: \", np.round(rescaled_exact_spec, 4))\n",
    "        print(\"Nonrescaled coefficients: \", coeffs_ideal_spec)\n",
    "        break\n",
    "\n",
    "if not found_ideal_spectrum:\n",
    "    print(\"No ideal spectrum found\")\n",
    "    \n",
    "#* Found ideal spectrum with bulk sym break term Z, strength 1, for 3-4 and 4-6 system qubits - estimating qubits\n",
    "    \n",
    "rescaling_factor, shift = rescaling_and_shift_factors(hamiltonian_ideal_qt)\n",
    "rescaling_factor /= (1 - qpe_precision)  # [0, 1 - eps]\n",
    "shift *= (1 - qpe_precision)             # [0, 1 - eps]\n",
    "print(f'Rescaling factor {rescaling_factor}, shift {shift}')\n",
    "\n",
    "rescaled_hamiltonian_qt = hamiltonian_qt / rescaling_factor + shift * qt.qeye(hamiltonian_qt.shape[0])  #* Shift / No Shift\n",
    "rescaled_coeff = coeffs_ideal_spec / rescaling_factor\n",
    "print('Rescaled coefficients: ', rescaled_coeff)\n"
   ]
  },
  {
   "cell_type": "code",
   "execution_count": 4,
   "metadata": {},
   "outputs": [
    {
     "name": "stdout",
     "output_type": "stream",
     "text": [
      "Jump on qubit 2\n",
      "Initial energy = (0.46875+0j)\n",
      "Initial energy in circuit = (0.8203124999999996+0j)\n",
      "       ┌──────────────────────────────┐             \n",
      "sys_0: ┤0                             ├─────────────\n",
      "       │                              │             \n",
      "sys_1: ┤1 Initialize(0,0,0,0,1,0,0,0) ├─────────────\n",
      "       │                              │    ┌───┐    \n",
      "sys_2: ┤2                             ├────┤ X ├────\n",
      "       └────────────┬───┬─────────────┘┌───┴───┴───┐\n",
      "  E_0: ─────────────┤ H ├──────────────┤ P(15π/16) ├\n",
      "                    ├───┤              └┬──────────┤\n",
      "  E_1: ─────────────┤ H ├───────────────┤ P(15π/8) ├\n",
      "                    ├───┤               ├──────────┤\n",
      "  E_2: ─────────────┤ H ├───────────────┤ P(15π/4) ├\n",
      "                    ├───┤               ├──────────┤\n",
      "  E_3: ─────────────┤ H ├───────────────┤ P(15π/2) ├\n",
      "                    └───┘               └──────────┘\n",
      "crE: 4/═════════════════════════════════════════════\n",
      "                                                    \n"
     ]
    }
   ],
   "source": [
    "np.random.seed(668)\n",
    "exact_spec, eigenstates = np.linalg.eigh(rescaled_hamiltonian_qt)\n",
    "\n",
    "#* Initial state = eigenstate\n",
    "eig_index = 7\n",
    "initial_state = eigenstates[:, eig_index]\n",
    "\n",
    "#* Jump\n",
    "jumped = True\n",
    "rand_qubit = np.random.randint(num_qubits)\n",
    "print(f'Jump on qubit {rand_qubit}')\n",
    "jump_op = pad_term([X], num_qubits, rand_qubit)\n",
    "initial_state = jump_op.full() @ initial_state\n",
    "\n",
    "#* Initial state = superposition of two eigenstates\n",
    "# initial_state = np.sqrt(0.4) * eigenstates[:, 3] + np.sqrt(0.6) * eigenstates[:, 4]\n",
    "#TODO: try complex states / amplitudes\n",
    "\n",
    "#* Initial state = random state\n",
    "# randstate_better = np.zeros(2**num_qubits)\n",
    "# randstate_better[np.random.choice(2**num_qubits, 2**num_qubits//2, replace=False)] = 1\n",
    "# randstate_better /= np.linalg.norm(randstate_better)\n",
    "# initial_state = randstate_better\n",
    "\n",
    "initial_energy = initial_state.conj().T @ rescaled_hamiltonian_qt.full() @ initial_state\n",
    "print(f'Initial energy = {initial_energy}')\n",
    "\n",
    "# Initialize\n",
    "initial_state = Statevector(initial_state)\n",
    "qr_energy = QuantumRegister(num_estimating_qubits, name=\"E\")\n",
    "cr_energy = ClassicalRegister(num_estimating_qubits, name=\"crE\")\n",
    "qr_sys  = QuantumRegister(num_qubits, name=\"sys\")\n",
    "circ = QuantumCircuit(qr_energy, qr_sys, cr_energy)\n",
    "circ.initialize(initial_state, qr_sys)\n",
    "circ.h(qr_energy)\n",
    "#TODO: Figure out register order, and order within\n",
    "\n",
    "# Jump\n",
    "if jumped:\n",
    "    # circ.x(qr_sys[num_qubits - 1 - rand_qubit]) #FIXME: ? Reversed? \n",
    "    circ.x(qr_sys[rand_qubit]) #FIXME: ? Reversed? \n",
    "\n",
    "statevector = Statevector(circ).data\n",
    "padded_rescaled_hamiltonian = np.kron(rescaled_hamiltonian_qt.full(), np.eye(2**num_estimating_qubits))  # top-bottom = right-left\n",
    "energy = statevector.conj().T @ padded_rescaled_hamiltonian @ statevector\n",
    "print(f'Initial energy in circuit = {energy}')\n",
    "\n",
    "# QPE\n",
    "T = 1\n",
    "time = T * 2 * np.pi\n",
    "num_trotter_steps = 10\n",
    "\n",
    "trotter_step_circ = trotter_step_heisenberg(num_qubits, coeffs=rescaled_coeff, symbreak=True)\n",
    "U = ham_evol(num_qubits, trotter_step=trotter_step_circ, num_trotter_steps=num_trotter_steps, time=time)\n",
    "cU = U.control(1)\n",
    "for q in range(num_estimating_qubits):\n",
    "    circ.p(time * shift * 2**q, qr_energy[q])  #* Shift\n",
    "    for _ in range(2**q):\n",
    "        circ.compose(cU, [q, *list(qr_sys)], inplace=True)\n",
    "\n",
    "# Inverse QFT\n",
    "qft_circ = QFT(num_estimating_qubits, inverse=True)  # With SWAPs\n",
    "circ.compose(qft_circ, qr_energy, inplace=True)\n",
    "\n",
    "circ.measure(qr_energy, cr_energy)\n",
    "print(circ)"
   ]
  },
  {
   "cell_type": "code",
   "execution_count": 5,
   "metadata": {},
   "outputs": [
    {
     "name": "stderr",
     "output_type": "stream",
     "text": [
      "/Users/bence/miniforge3/envs/qiskit_env/lib/python3.11/site-packages/numpy/linalg/linalg.py:2180: RuntimeWarning: divide by zero encountered in det\n",
      "  r = _umath_linalg.det(a, signature=signature)\n",
      "/Users/bence/miniforge3/envs/qiskit_env/lib/python3.11/site-packages/numpy/linalg/linalg.py:2180: RuntimeWarning: invalid value encountered in det\n",
      "  r = _umath_linalg.det(a, signature=signature)\n"
     ]
    },
    {
     "ename": "QiskitError",
     "evalue": "'This function can only operate with blocks of 2 qubits.This block had 1'",
     "output_type": "error",
     "traceback": [
      "\u001b[0;31m---------------------------------------------------------------------------\u001b[0m",
      "\u001b[0;31mQiskitError\u001b[0m                               Traceback (most recent call last)",
      "Cell \u001b[0;32mIn[5], line 1\u001b[0m\n\u001b[0;32m----> 1\u001b[0m tr_circ \u001b[38;5;241m=\u001b[39m \u001b[43mtranspile\u001b[49m\u001b[43m(\u001b[49m\u001b[43mcirc\u001b[49m\u001b[43m,\u001b[49m\u001b[43m \u001b[49m\u001b[43mbasis_gates\u001b[49m\u001b[38;5;241;43m=\u001b[39;49m\u001b[43m[\u001b[49m\u001b[38;5;124;43m'\u001b[39;49m\u001b[38;5;124;43mu\u001b[39;49m\u001b[38;5;124;43m'\u001b[39;49m\u001b[43m,\u001b[49m\u001b[43m \u001b[49m\u001b[38;5;124;43m'\u001b[39;49m\u001b[38;5;124;43mcx\u001b[39;49m\u001b[38;5;124;43m'\u001b[39;49m\u001b[43m]\u001b[49m\u001b[43m,\u001b[49m\u001b[43m \u001b[49m\u001b[43moptimization_level\u001b[49m\u001b[38;5;241;43m=\u001b[39;49m\u001b[38;5;241;43m3\u001b[39;49m\u001b[43m)\u001b[49m\n",
      "File \u001b[0;32m~/miniforge3/envs/qiskit_env/lib/python3.11/site-packages/qiskit/compiler/transpiler.py:428\u001b[0m, in \u001b[0;36mtranspile\u001b[0;34m(circuits, backend, basis_gates, inst_map, coupling_map, backend_properties, initial_layout, layout_method, routing_method, translation_method, scheduling_method, instruction_durations, dt, approximation_degree, timing_constraints, seed_transpiler, optimization_level, callback, output_name, unitary_synthesis_method, unitary_synthesis_plugin_config, target, hls_config, init_method, optimization_method, ignore_backend_supplied_default_methods)\u001b[0m\n\u001b[1;32m    400\u001b[0m         instruction_durations \u001b[38;5;241m=\u001b[39m _parse_instruction_durations(\n\u001b[1;32m    401\u001b[0m             backend, instruction_durations, dt, circuits[\u001b[38;5;241m0\u001b[39m]\n\u001b[1;32m    402\u001b[0m         )\n\u001b[1;32m    404\u001b[0m pm \u001b[38;5;241m=\u001b[39m generate_preset_pass_manager(\n\u001b[1;32m    405\u001b[0m     optimization_level,\n\u001b[1;32m    406\u001b[0m     backend\u001b[38;5;241m=\u001b[39mbackend,\n\u001b[0;32m   (...)\u001b[0m\n\u001b[1;32m    426\u001b[0m     _skip_target\u001b[38;5;241m=\u001b[39m_skip_target,\n\u001b[1;32m    427\u001b[0m )\n\u001b[0;32m--> 428\u001b[0m out_circuits \u001b[38;5;241m=\u001b[39m \u001b[43mpm\u001b[49m\u001b[38;5;241;43m.\u001b[39;49m\u001b[43mrun\u001b[49m\u001b[43m(\u001b[49m\u001b[43mcircuits\u001b[49m\u001b[43m,\u001b[49m\u001b[43m \u001b[49m\u001b[43mcallback\u001b[49m\u001b[38;5;241;43m=\u001b[39;49m\u001b[43mcallback\u001b[49m\u001b[43m)\u001b[49m\n\u001b[1;32m    429\u001b[0m \u001b[38;5;28;01mfor\u001b[39;00m name, circ \u001b[38;5;129;01min\u001b[39;00m \u001b[38;5;28mzip\u001b[39m(output_name, out_circuits):\n\u001b[1;32m    430\u001b[0m     circ\u001b[38;5;241m.\u001b[39mname \u001b[38;5;241m=\u001b[39m name\n",
      "File \u001b[0;32m~/miniforge3/envs/qiskit_env/lib/python3.11/site-packages/qiskit/transpiler/passmanager.py:532\u001b[0m, in \u001b[0;36mStagedPassManager.run\u001b[0;34m(self, circuits, output_name, callback)\u001b[0m\n\u001b[1;32m    525\u001b[0m \u001b[38;5;28;01mdef\u001b[39;00m \u001b[38;5;21mrun\u001b[39m(\n\u001b[1;32m    526\u001b[0m     \u001b[38;5;28mself\u001b[39m,\n\u001b[1;32m    527\u001b[0m     circuits: _CircuitsT,\n\u001b[1;32m    528\u001b[0m     output_name: \u001b[38;5;28mstr\u001b[39m \u001b[38;5;241m|\u001b[39m \u001b[38;5;28;01mNone\u001b[39;00m \u001b[38;5;241m=\u001b[39m \u001b[38;5;28;01mNone\u001b[39;00m,\n\u001b[1;32m    529\u001b[0m     callback: Callable \u001b[38;5;241m|\u001b[39m \u001b[38;5;28;01mNone\u001b[39;00m \u001b[38;5;241m=\u001b[39m \u001b[38;5;28;01mNone\u001b[39;00m,\n\u001b[1;32m    530\u001b[0m ) \u001b[38;5;241m-\u001b[39m\u001b[38;5;241m>\u001b[39m _CircuitsT:\n\u001b[1;32m    531\u001b[0m     \u001b[38;5;28mself\u001b[39m\u001b[38;5;241m.\u001b[39m_update_passmanager()\n\u001b[0;32m--> 532\u001b[0m     \u001b[38;5;28;01mreturn\u001b[39;00m \u001b[38;5;28;43msuper\u001b[39;49m\u001b[43m(\u001b[49m\u001b[43m)\u001b[49m\u001b[38;5;241;43m.\u001b[39;49m\u001b[43mrun\u001b[49m\u001b[43m(\u001b[49m\u001b[43mcircuits\u001b[49m\u001b[43m,\u001b[49m\u001b[43m \u001b[49m\u001b[43moutput_name\u001b[49m\u001b[43m,\u001b[49m\u001b[43m \u001b[49m\u001b[43mcallback\u001b[49m\u001b[43m)\u001b[49m\n",
      "File \u001b[0;32m~/miniforge3/envs/qiskit_env/lib/python3.11/site-packages/qiskit/transpiler/passmanager.py:551\u001b[0m, in \u001b[0;36m_replace_error.<locals>.wrapper\u001b[0;34m(*meth_args, **meth_kwargs)\u001b[0m\n\u001b[1;32m    548\u001b[0m \u001b[38;5;129m@wraps\u001b[39m(meth)\n\u001b[1;32m    549\u001b[0m \u001b[38;5;28;01mdef\u001b[39;00m \u001b[38;5;21mwrapper\u001b[39m(\u001b[38;5;241m*\u001b[39mmeth_args, \u001b[38;5;241m*\u001b[39m\u001b[38;5;241m*\u001b[39mmeth_kwargs):\n\u001b[1;32m    550\u001b[0m     \u001b[38;5;28;01mtry\u001b[39;00m:\n\u001b[0;32m--> 551\u001b[0m         \u001b[38;5;28;01mreturn\u001b[39;00m \u001b[43mmeth\u001b[49m\u001b[43m(\u001b[49m\u001b[38;5;241;43m*\u001b[39;49m\u001b[43mmeth_args\u001b[49m\u001b[43m,\u001b[49m\u001b[43m \u001b[49m\u001b[38;5;241;43m*\u001b[39;49m\u001b[38;5;241;43m*\u001b[39;49m\u001b[43mmeth_kwargs\u001b[49m\u001b[43m)\u001b[49m\n\u001b[1;32m    552\u001b[0m     \u001b[38;5;28;01mexcept\u001b[39;00m PassManagerError \u001b[38;5;28;01mas\u001b[39;00m ex:\n\u001b[1;32m    553\u001b[0m         \u001b[38;5;28;01mraise\u001b[39;00m TranspilerError(ex\u001b[38;5;241m.\u001b[39mmessage) \u001b[38;5;28;01mfrom\u001b[39;00m \u001b[38;5;21;01mex\u001b[39;00m\n",
      "File \u001b[0;32m~/miniforge3/envs/qiskit_env/lib/python3.11/site-packages/qiskit/transpiler/passmanager.py:291\u001b[0m, in \u001b[0;36mPassManager.run\u001b[0;34m(self, circuits, output_name, callback)\u001b[0m\n\u001b[1;32m    288\u001b[0m \u001b[38;5;28;01mif\u001b[39;00m callback \u001b[38;5;129;01mis\u001b[39;00m \u001b[38;5;129;01mnot\u001b[39;00m \u001b[38;5;28;01mNone\u001b[39;00m:\n\u001b[1;32m    289\u001b[0m     callback \u001b[38;5;241m=\u001b[39m _legacy_style_callback(callback)\n\u001b[0;32m--> 291\u001b[0m \u001b[38;5;28;01mreturn\u001b[39;00m \u001b[38;5;28;43msuper\u001b[39;49m\u001b[43m(\u001b[49m\u001b[43m)\u001b[49m\u001b[38;5;241;43m.\u001b[39;49m\u001b[43mrun\u001b[49m\u001b[43m(\u001b[49m\n\u001b[1;32m    292\u001b[0m \u001b[43m    \u001b[49m\u001b[43min_programs\u001b[49m\u001b[38;5;241;43m=\u001b[39;49m\u001b[43mcircuits\u001b[49m\u001b[43m,\u001b[49m\n\u001b[1;32m    293\u001b[0m \u001b[43m    \u001b[49m\u001b[43mcallback\u001b[49m\u001b[38;5;241;43m=\u001b[39;49m\u001b[43mcallback\u001b[49m\u001b[43m,\u001b[49m\n\u001b[1;32m    294\u001b[0m \u001b[43m    \u001b[49m\u001b[43moutput_name\u001b[49m\u001b[38;5;241;43m=\u001b[39;49m\u001b[43moutput_name\u001b[49m\u001b[43m,\u001b[49m\n\u001b[1;32m    295\u001b[0m \u001b[43m\u001b[49m\u001b[43m)\u001b[49m\n",
      "File \u001b[0;32m~/miniforge3/envs/qiskit_env/lib/python3.11/site-packages/qiskit/passmanager/passmanager.py:222\u001b[0m, in \u001b[0;36mBasePassManager.run\u001b[0;34m(self, in_programs, callback, **kwargs)\u001b[0m\n\u001b[1;32m    219\u001b[0m     is_list \u001b[38;5;241m=\u001b[39m \u001b[38;5;28;01mFalse\u001b[39;00m\n\u001b[1;32m    221\u001b[0m \u001b[38;5;28;01mif\u001b[39;00m \u001b[38;5;28mlen\u001b[39m(in_programs) \u001b[38;5;241m==\u001b[39m \u001b[38;5;241m1\u001b[39m:\n\u001b[0;32m--> 222\u001b[0m     out_program \u001b[38;5;241m=\u001b[39m \u001b[43m_run_workflow\u001b[49m\u001b[43m(\u001b[49m\n\u001b[1;32m    223\u001b[0m \u001b[43m        \u001b[49m\u001b[43mprogram\u001b[49m\u001b[38;5;241;43m=\u001b[39;49m\u001b[43min_programs\u001b[49m\u001b[43m[\u001b[49m\u001b[38;5;241;43m0\u001b[39;49m\u001b[43m]\u001b[49m\u001b[43m,\u001b[49m\n\u001b[1;32m    224\u001b[0m \u001b[43m        \u001b[49m\u001b[43mpass_manager\u001b[49m\u001b[38;5;241;43m=\u001b[39;49m\u001b[38;5;28;43mself\u001b[39;49m\u001b[43m,\u001b[49m\n\u001b[1;32m    225\u001b[0m \u001b[43m        \u001b[49m\u001b[43mcallback\u001b[49m\u001b[38;5;241;43m=\u001b[39;49m\u001b[43mcallback\u001b[49m\u001b[43m,\u001b[49m\n\u001b[1;32m    226\u001b[0m \u001b[43m        \u001b[49m\u001b[38;5;241;43m*\u001b[39;49m\u001b[38;5;241;43m*\u001b[39;49m\u001b[43mkwargs\u001b[49m\u001b[43m,\u001b[49m\n\u001b[1;32m    227\u001b[0m \u001b[43m    \u001b[49m\u001b[43m)\u001b[49m\n\u001b[1;32m    228\u001b[0m     \u001b[38;5;28;01mif\u001b[39;00m is_list:\n\u001b[1;32m    229\u001b[0m         \u001b[38;5;28;01mreturn\u001b[39;00m [out_program]\n",
      "File \u001b[0;32m~/miniforge3/envs/qiskit_env/lib/python3.11/site-packages/qiskit/passmanager/passmanager.py:284\u001b[0m, in \u001b[0;36m_run_workflow\u001b[0;34m(program, pass_manager, **kwargs)\u001b[0m\n\u001b[1;32m    278\u001b[0m initial_status \u001b[38;5;241m=\u001b[39m WorkflowStatus()\n\u001b[1;32m    280\u001b[0m passmanager_ir \u001b[38;5;241m=\u001b[39m pass_manager\u001b[38;5;241m.\u001b[39m_passmanager_frontend(\n\u001b[1;32m    281\u001b[0m     input_program\u001b[38;5;241m=\u001b[39mprogram,\n\u001b[1;32m    282\u001b[0m     \u001b[38;5;241m*\u001b[39m\u001b[38;5;241m*\u001b[39mkwargs,\n\u001b[1;32m    283\u001b[0m )\n\u001b[0;32m--> 284\u001b[0m passmanager_ir, _ \u001b[38;5;241m=\u001b[39m \u001b[43mflow_controller\u001b[49m\u001b[38;5;241;43m.\u001b[39;49m\u001b[43mexecute\u001b[49m\u001b[43m(\u001b[49m\n\u001b[1;32m    285\u001b[0m \u001b[43m    \u001b[49m\u001b[43mpassmanager_ir\u001b[49m\u001b[38;5;241;43m=\u001b[39;49m\u001b[43mpassmanager_ir\u001b[49m\u001b[43m,\u001b[49m\n\u001b[1;32m    286\u001b[0m \u001b[43m    \u001b[49m\u001b[43mstate\u001b[49m\u001b[38;5;241;43m=\u001b[39;49m\u001b[43mPassManagerState\u001b[49m\u001b[43m(\u001b[49m\n\u001b[1;32m    287\u001b[0m \u001b[43m        \u001b[49m\u001b[43mworkflow_status\u001b[49m\u001b[38;5;241;43m=\u001b[39;49m\u001b[43minitial_status\u001b[49m\u001b[43m,\u001b[49m\n\u001b[1;32m    288\u001b[0m \u001b[43m        \u001b[49m\u001b[43mproperty_set\u001b[49m\u001b[38;5;241;43m=\u001b[39;49m\u001b[43mpass_manager\u001b[49m\u001b[38;5;241;43m.\u001b[39;49m\u001b[43mproperty_set\u001b[49m\u001b[43m,\u001b[49m\n\u001b[1;32m    289\u001b[0m \u001b[43m    \u001b[49m\u001b[43m)\u001b[49m\u001b[43m,\u001b[49m\n\u001b[1;32m    290\u001b[0m \u001b[43m    \u001b[49m\u001b[43mcallback\u001b[49m\u001b[38;5;241;43m=\u001b[39;49m\u001b[43mkwargs\u001b[49m\u001b[38;5;241;43m.\u001b[39;49m\u001b[43mget\u001b[49m\u001b[43m(\u001b[49m\u001b[38;5;124;43m\"\u001b[39;49m\u001b[38;5;124;43mcallback\u001b[39;49m\u001b[38;5;124;43m\"\u001b[39;49m\u001b[43m,\u001b[49m\u001b[43m \u001b[49m\u001b[38;5;28;43;01mNone\u001b[39;49;00m\u001b[43m)\u001b[49m\u001b[43m,\u001b[49m\n\u001b[1;32m    291\u001b[0m \u001b[43m\u001b[49m\u001b[43m)\u001b[49m\n\u001b[1;32m    292\u001b[0m out_program \u001b[38;5;241m=\u001b[39m pass_manager\u001b[38;5;241m.\u001b[39m_passmanager_backend(\n\u001b[1;32m    293\u001b[0m     passmanager_ir\u001b[38;5;241m=\u001b[39mpassmanager_ir,\n\u001b[1;32m    294\u001b[0m     in_program\u001b[38;5;241m=\u001b[39mprogram,\n\u001b[1;32m    295\u001b[0m     \u001b[38;5;241m*\u001b[39m\u001b[38;5;241m*\u001b[39mkwargs,\n\u001b[1;32m    296\u001b[0m )\n\u001b[1;32m    298\u001b[0m \u001b[38;5;28;01mreturn\u001b[39;00m out_program\n",
      "File \u001b[0;32m~/miniforge3/envs/qiskit_env/lib/python3.11/site-packages/qiskit/transpiler/runningpassmanager.py:161\u001b[0m, in \u001b[0;36m_replace_error.<locals>.wrapper\u001b[0;34m(*meth_args, **meth_kwargs)\u001b[0m\n\u001b[1;32m    158\u001b[0m \u001b[38;5;129m@wraps\u001b[39m(meth)\n\u001b[1;32m    159\u001b[0m \u001b[38;5;28;01mdef\u001b[39;00m \u001b[38;5;21mwrapper\u001b[39m(\u001b[38;5;241m*\u001b[39mmeth_args, \u001b[38;5;241m*\u001b[39m\u001b[38;5;241m*\u001b[39mmeth_kwargs):\n\u001b[1;32m    160\u001b[0m     \u001b[38;5;28;01mtry\u001b[39;00m:\n\u001b[0;32m--> 161\u001b[0m         \u001b[38;5;28;01mreturn\u001b[39;00m \u001b[43mmeth\u001b[49m\u001b[43m(\u001b[49m\u001b[38;5;241;43m*\u001b[39;49m\u001b[43mmeth_args\u001b[49m\u001b[43m,\u001b[49m\u001b[43m \u001b[49m\u001b[38;5;241;43m*\u001b[39;49m\u001b[38;5;241;43m*\u001b[39;49m\u001b[43mmeth_kwargs\u001b[49m\u001b[43m)\u001b[49m\n\u001b[1;32m    162\u001b[0m     \u001b[38;5;28;01mexcept\u001b[39;00m PassManagerError \u001b[38;5;28;01mas\u001b[39;00m ex:\n\u001b[1;32m    163\u001b[0m         \u001b[38;5;28;01mraise\u001b[39;00m TranspilerError(ex\u001b[38;5;241m.\u001b[39mmessage) \u001b[38;5;28;01mfrom\u001b[39;00m \u001b[38;5;21;01mex\u001b[39;00m\n",
      "File \u001b[0;32m~/miniforge3/envs/qiskit_env/lib/python3.11/site-packages/qiskit/passmanager/base_tasks.py:218\u001b[0m, in \u001b[0;36mBaseController.execute\u001b[0;34m(self, passmanager_ir, state, callback)\u001b[0m\n\u001b[1;32m    216\u001b[0m     \u001b[38;5;28;01mreturn\u001b[39;00m passmanager_ir, state\n\u001b[1;32m    217\u001b[0m \u001b[38;5;28;01mwhile\u001b[39;00m \u001b[38;5;28;01mTrue\u001b[39;00m:\n\u001b[0;32m--> 218\u001b[0m     passmanager_ir, state \u001b[38;5;241m=\u001b[39m \u001b[43mnext_task\u001b[49m\u001b[38;5;241;43m.\u001b[39;49m\u001b[43mexecute\u001b[49m\u001b[43m(\u001b[49m\n\u001b[1;32m    219\u001b[0m \u001b[43m        \u001b[49m\u001b[43mpassmanager_ir\u001b[49m\u001b[38;5;241;43m=\u001b[39;49m\u001b[43mpassmanager_ir\u001b[49m\u001b[43m,\u001b[49m\n\u001b[1;32m    220\u001b[0m \u001b[43m        \u001b[49m\u001b[43mstate\u001b[49m\u001b[38;5;241;43m=\u001b[39;49m\u001b[43mstate\u001b[49m\u001b[43m,\u001b[49m\n\u001b[1;32m    221\u001b[0m \u001b[43m        \u001b[49m\u001b[43mcallback\u001b[49m\u001b[38;5;241;43m=\u001b[39;49m\u001b[43mcallback\u001b[49m\u001b[43m,\u001b[49m\n\u001b[1;32m    222\u001b[0m \u001b[43m    \u001b[49m\u001b[43m)\u001b[49m\n\u001b[1;32m    223\u001b[0m     \u001b[38;5;28;01mtry\u001b[39;00m:\n\u001b[1;32m    224\u001b[0m         \u001b[38;5;66;03m# Sending the object through the generator implies the custom controllers\u001b[39;00m\n\u001b[1;32m    225\u001b[0m         \u001b[38;5;66;03m# can always rely on the latest data to choose the next task to run.\u001b[39;00m\n\u001b[1;32m    226\u001b[0m         next_task \u001b[38;5;241m=\u001b[39m task_generator\u001b[38;5;241m.\u001b[39msend(state)\n",
      "File \u001b[0;32m~/miniforge3/envs/qiskit_env/lib/python3.11/site-packages/qiskit/passmanager/base_tasks.py:218\u001b[0m, in \u001b[0;36mBaseController.execute\u001b[0;34m(self, passmanager_ir, state, callback)\u001b[0m\n\u001b[1;32m    216\u001b[0m     \u001b[38;5;28;01mreturn\u001b[39;00m passmanager_ir, state\n\u001b[1;32m    217\u001b[0m \u001b[38;5;28;01mwhile\u001b[39;00m \u001b[38;5;28;01mTrue\u001b[39;00m:\n\u001b[0;32m--> 218\u001b[0m     passmanager_ir, state \u001b[38;5;241m=\u001b[39m \u001b[43mnext_task\u001b[49m\u001b[38;5;241;43m.\u001b[39;49m\u001b[43mexecute\u001b[49m\u001b[43m(\u001b[49m\n\u001b[1;32m    219\u001b[0m \u001b[43m        \u001b[49m\u001b[43mpassmanager_ir\u001b[49m\u001b[38;5;241;43m=\u001b[39;49m\u001b[43mpassmanager_ir\u001b[49m\u001b[43m,\u001b[49m\n\u001b[1;32m    220\u001b[0m \u001b[43m        \u001b[49m\u001b[43mstate\u001b[49m\u001b[38;5;241;43m=\u001b[39;49m\u001b[43mstate\u001b[49m\u001b[43m,\u001b[49m\n\u001b[1;32m    221\u001b[0m \u001b[43m        \u001b[49m\u001b[43mcallback\u001b[49m\u001b[38;5;241;43m=\u001b[39;49m\u001b[43mcallback\u001b[49m\u001b[43m,\u001b[49m\n\u001b[1;32m    222\u001b[0m \u001b[43m    \u001b[49m\u001b[43m)\u001b[49m\n\u001b[1;32m    223\u001b[0m     \u001b[38;5;28;01mtry\u001b[39;00m:\n\u001b[1;32m    224\u001b[0m         \u001b[38;5;66;03m# Sending the object through the generator implies the custom controllers\u001b[39;00m\n\u001b[1;32m    225\u001b[0m         \u001b[38;5;66;03m# can always rely on the latest data to choose the next task to run.\u001b[39;00m\n\u001b[1;32m    226\u001b[0m         next_task \u001b[38;5;241m=\u001b[39m task_generator\u001b[38;5;241m.\u001b[39msend(state)\n",
      "File \u001b[0;32m~/miniforge3/envs/qiskit_env/lib/python3.11/site-packages/qiskit/transpiler/basepasses.py:195\u001b[0m, in \u001b[0;36mTransformationPass.execute\u001b[0;34m(self, passmanager_ir, state, callback)\u001b[0m\n\u001b[1;32m    189\u001b[0m \u001b[38;5;28;01mdef\u001b[39;00m \u001b[38;5;21mexecute\u001b[39m(\n\u001b[1;32m    190\u001b[0m     \u001b[38;5;28mself\u001b[39m,\n\u001b[1;32m    191\u001b[0m     passmanager_ir: PassManagerIR,\n\u001b[1;32m    192\u001b[0m     state: PassManagerState,\n\u001b[1;32m    193\u001b[0m     callback: Callable \u001b[38;5;241m=\u001b[39m \u001b[38;5;28;01mNone\u001b[39;00m,\n\u001b[1;32m    194\u001b[0m ) \u001b[38;5;241m-\u001b[39m\u001b[38;5;241m>\u001b[39m \u001b[38;5;28mtuple\u001b[39m[PassManagerIR, PassManagerState]:\n\u001b[0;32m--> 195\u001b[0m     new_dag, state \u001b[38;5;241m=\u001b[39m \u001b[38;5;28;43msuper\u001b[39;49m\u001b[43m(\u001b[49m\u001b[43m)\u001b[49m\u001b[38;5;241;43m.\u001b[39;49m\u001b[43mexecute\u001b[49m\u001b[43m(\u001b[49m\n\u001b[1;32m    196\u001b[0m \u001b[43m        \u001b[49m\u001b[43mpassmanager_ir\u001b[49m\u001b[38;5;241;43m=\u001b[39;49m\u001b[43mpassmanager_ir\u001b[49m\u001b[43m,\u001b[49m\n\u001b[1;32m    197\u001b[0m \u001b[43m        \u001b[49m\u001b[43mstate\u001b[49m\u001b[38;5;241;43m=\u001b[39;49m\u001b[43mstate\u001b[49m\u001b[43m,\u001b[49m\n\u001b[1;32m    198\u001b[0m \u001b[43m        \u001b[49m\u001b[43mcallback\u001b[49m\u001b[38;5;241;43m=\u001b[39;49m\u001b[43mcallback\u001b[49m\u001b[43m,\u001b[49m\n\u001b[1;32m    199\u001b[0m \u001b[43m    \u001b[49m\u001b[43m)\u001b[49m\n\u001b[1;32m    201\u001b[0m     \u001b[38;5;28;01mif\u001b[39;00m state\u001b[38;5;241m.\u001b[39mworkflow_status\u001b[38;5;241m.\u001b[39mprevious_run \u001b[38;5;241m==\u001b[39m RunState\u001b[38;5;241m.\u001b[39mSUCCESS:\n\u001b[1;32m    202\u001b[0m         \u001b[38;5;28;01mif\u001b[39;00m \u001b[38;5;28misinstance\u001b[39m(new_dag, DAGCircuit):\n\u001b[1;32m    203\u001b[0m             \u001b[38;5;66;03m# Copy calibration data from the original program\u001b[39;00m\n",
      "File \u001b[0;32m~/miniforge3/envs/qiskit_env/lib/python3.11/site-packages/qiskit/passmanager/base_tasks.py:98\u001b[0m, in \u001b[0;36mGenericPass.execute\u001b[0;34m(self, passmanager_ir, state, callback)\u001b[0m\n\u001b[1;32m     96\u001b[0m \u001b[38;5;28;01mtry\u001b[39;00m:\n\u001b[1;32m     97\u001b[0m     \u001b[38;5;28;01mif\u001b[39;00m \u001b[38;5;28mself\u001b[39m \u001b[38;5;129;01mnot\u001b[39;00m \u001b[38;5;129;01min\u001b[39;00m state\u001b[38;5;241m.\u001b[39mworkflow_status\u001b[38;5;241m.\u001b[39mcompleted_passes:\n\u001b[0;32m---> 98\u001b[0m         ret \u001b[38;5;241m=\u001b[39m \u001b[38;5;28;43mself\u001b[39;49m\u001b[38;5;241;43m.\u001b[39;49m\u001b[43mrun\u001b[49m\u001b[43m(\u001b[49m\u001b[43mpassmanager_ir\u001b[49m\u001b[43m)\u001b[49m\n\u001b[1;32m     99\u001b[0m         run_state \u001b[38;5;241m=\u001b[39m RunState\u001b[38;5;241m.\u001b[39mSUCCESS\n\u001b[1;32m    100\u001b[0m     \u001b[38;5;28;01melse\u001b[39;00m:\n",
      "File \u001b[0;32m~/miniforge3/envs/qiskit_env/lib/python3.11/site-packages/qiskit/transpiler/passes/optimization/consolidate_blocks.py:127\u001b[0m, in \u001b[0;36mConsolidateBlocks.run\u001b[0;34m(self, dag)\u001b[0m\n\u001b[1;32m    125\u001b[0m     unitary \u001b[38;5;241m=\u001b[39m UnitaryGate(Operator(qc), check_input\u001b[38;5;241m=\u001b[39m\u001b[38;5;28;01mFalse\u001b[39;00m)\n\u001b[1;32m    126\u001b[0m \u001b[38;5;28;01melse\u001b[39;00m:\n\u001b[0;32m--> 127\u001b[0m     matrix \u001b[38;5;241m=\u001b[39m \u001b[43m_block_to_matrix\u001b[49m\u001b[43m(\u001b[49m\u001b[43mblock\u001b[49m\u001b[43m,\u001b[49m\u001b[43m \u001b[49m\u001b[43mblock_index_map\u001b[49m\u001b[43m)\u001b[49m\n\u001b[1;32m    128\u001b[0m     unitary \u001b[38;5;241m=\u001b[39m UnitaryGate(matrix, check_input\u001b[38;5;241m=\u001b[39m\u001b[38;5;28;01mFalse\u001b[39;00m)\n\u001b[1;32m    130\u001b[0m max_2q_depth \u001b[38;5;241m=\u001b[39m \u001b[38;5;241m20\u001b[39m  \u001b[38;5;66;03m# If depth > 20, there will be 1q gates to consolidate.\u001b[39;00m\n",
      "File \u001b[0;32m~/miniforge3/envs/qiskit_env/lib/python3.11/site-packages/qiskit/transpiler/passes/utils/block_to_matrix.py:35\u001b[0m, in \u001b[0;36m_block_to_matrix\u001b[0;34m(block, block_index_map)\u001b[0m\n\u001b[1;32m     33\u001b[0m block_index_length \u001b[38;5;241m=\u001b[39m \u001b[38;5;28mlen\u001b[39m(block_index_map)\n\u001b[1;32m     34\u001b[0m \u001b[38;5;28;01mif\u001b[39;00m block_index_length \u001b[38;5;241m!=\u001b[39m \u001b[38;5;241m2\u001b[39m:\n\u001b[0;32m---> 35\u001b[0m     \u001b[38;5;28;01mraise\u001b[39;00m QiskitError(\n\u001b[1;32m     36\u001b[0m         \u001b[38;5;124m\"\u001b[39m\u001b[38;5;124mThis function can only operate with blocks of 2 qubits.\u001b[39m\u001b[38;5;124m\"\u001b[39m\n\u001b[1;32m     37\u001b[0m         \u001b[38;5;241m+\u001b[39m \u001b[38;5;124mf\u001b[39m\u001b[38;5;124m\"\u001b[39m\u001b[38;5;124mThis block had \u001b[39m\u001b[38;5;132;01m{\u001b[39;00mblock_index_length\u001b[38;5;132;01m}\u001b[39;00m\u001b[38;5;124m\"\u001b[39m\n\u001b[1;32m     38\u001b[0m     )\n\u001b[1;32m     39\u001b[0m \u001b[38;5;28;01mfor\u001b[39;00m node \u001b[38;5;129;01min\u001b[39;00m block:\n\u001b[1;32m     40\u001b[0m     \u001b[38;5;28;01mtry\u001b[39;00m:\n",
      "\u001b[0;31mQiskitError\u001b[0m: 'This function can only operate with blocks of 2 qubits.This block had 1'"
     ]
    }
   ],
   "source": [
    "tr_circ = transpile(circ, basis_gates=['u', 'cx'], optimization_level=3)"
   ]
  },
  {
   "cell_type": "code",
   "execution_count": null,
   "metadata": {},
   "outputs": [
    {
     "name": "stdout",
     "output_type": "stream",
     "text": [
      "{'1111': 1000}\n"
     ]
    }
   ],
   "source": [
    "simulator = Aer.get_backend('statevector_simulator')\n",
    "shots = 1000\n",
    "job = simulator.run(tr_circ, shots=shots)\n",
    "counts = job.result().get_counts()\n",
    "counts = dict(sorted(counts.items(), key=lambda item: item[1], reverse=True))\n",
    "\n",
    "print(counts)\n"
   ]
  },
  {
   "cell_type": "code",
   "execution_count": null,
   "metadata": {},
   "outputs": [
    {
     "name": "stdout",
     "output_type": "stream",
     "text": [
      "Exact energy: 0.234375\n",
      "Estimated energy: 0.9375\n",
      "Combined estimated energy: 0.9375\n"
     ]
    }
   ],
   "source": [
    "phase_bits = list(counts.keys())[0] # take the most often obtaned result\n",
    "phase_bits_shots = counts[phase_bits]\n",
    "\n",
    "# second_phase_bits = list(counts.keys())[1]\n",
    "# second_phase_bits_shots = counts[second_phase_bits]\n",
    "\n",
    "combined_phase = 0.\n",
    "# Combine all phases\n",
    "for i in range(len(counts.keys())):\n",
    "    combined_phase += int(list(counts.keys())[i], 2) * list(counts.values())[i] / shots\n",
    "\n",
    "combined_phase /= 2**num_estimating_qubits\n",
    "\n",
    "phase = int(phase_bits, 2) / 2**num_estimating_qubits  # exp(i 2pi phase)\n",
    "    \n",
    "estimated_energy = phase / T  # exp(i 2pi phase) = exp(i 2pi E T)\n",
    "estimated_combined_energy = combined_phase / T\n",
    "print(f'Exact energy: {initial_energy.real}')\n",
    "print(f'Estimated energy: {estimated_energy}')  # I guess it peaks at the two most probable eigenstates and it will give either one of them and\n",
    "                                                # not the energy in between them.\n",
    "print(f'Combined estimated energy: {estimated_combined_energy}')  "
   ]
  }
 ],
 "metadata": {
  "kernelspec": {
   "display_name": "qiskit_env",
   "language": "python",
   "name": "python3"
  },
  "language_info": {
   "codemirror_mode": {
    "name": "ipython",
    "version": 3
   },
   "file_extension": ".py",
   "mimetype": "text/x-python",
   "name": "python",
   "nbconvert_exporter": "python",
   "pygments_lexer": "ipython3",
   "version": "3.11.5"
  }
 },
 "nbformat": 4,
 "nbformat_minor": 2
}
