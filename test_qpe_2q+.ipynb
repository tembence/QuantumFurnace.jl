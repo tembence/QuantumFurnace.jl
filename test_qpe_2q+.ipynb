{
 "cells": [
  {
   "cell_type": "code",
   "execution_count": 8,
   "metadata": {},
   "outputs": [],
   "source": [
    "import numpy as np\n",
    "import qutip as qt\n",
    "from scipy.linalg import logm, expm\n",
    "from qiskit.quantum_info import Operator, state_fidelity\n",
    "from qiskit import QuantumCircuit\n",
    "from qiskit_aer import StatevectorSimulator\n",
    "from qiskit import Aer\n",
    "from qiskit.circuit.library import QFT\n",
    "\n",
    "\n",
    "from tools.classical import *\n",
    "from tools.quantum import *"
   ]
  },
  {
   "cell_type": "code",
   "execution_count": 9,
   "metadata": {},
   "outputs": [],
   "source": [
    "num_qubits = 3\n",
    "num_estimating_qubits = 4\n",
    "qpe_precision = 2 ** (-num_estimating_qubits)\n",
    "\n",
    "X = qt.sigmax()\n",
    "Y = qt.sigmay()\n",
    "Z = qt.sigmaz()\n",
    "\n",
    "# print(hamiltonian_qt)\n",
    "#* HAMILTONIANS\n",
    "# rescaling_factor, shift = rescaling_and_shift_factors(hamiltonian_qt)  # Shift already rescaled\n",
    "# just_shift = shift * rescaling_factor                                  # Unscaled shift\n",
    "# shifted_hamiltonian_qt = hamiltonian_qt + just_shift * qt.qeye(hamiltonian_qt.shape[0])\n",
    "# rescaled_hamiltonian_qt = hamiltonian_qt / rescaling_factor + shift * qt.qeye(hamiltonian_qt.shape[0])"
   ]
  },
  {
   "cell_type": "markdown",
   "metadata": {},
   "source": [
    "### Find Heisenberg coefficients for non degenerate spectrum"
   ]
  },
  {
   "cell_type": "code",
   "execution_count": 10,
   "metadata": {},
   "outputs": [
    {
     "name": "stdout",
     "output_type": "stream",
     "text": [
      "Original spectrum:  [-4.     -3.4641 -2.8284 -2.      2.      2.8284  3.4641  4.    ]\n",
      "Unique spectrum found:  [-0.      0.067   0.1464  0.25    0.75    0.8536  0.933   1.    ]\n",
      "Nonrescaled coefficients:  [1. 1. 1. 1.]\n",
      "Rescaling factor 8.0, shift 0.5\n",
      "Rescaled coefficients:  [0.125 0.125 0.125 0.125]\n"
     ]
    }
   ],
   "source": [
    "coeff_lower_bound = 0\n",
    "coeff_xx = np.arange(1, coeff_lower_bound, -0.1)\n",
    "coeff_yy = np.arange(1, coeff_lower_bound, -0.1)\n",
    "coeff_zz = np.arange(1, coeff_lower_bound, -0.1)\n",
    "coeff_z = 1.0\n",
    "\n",
    "# get all combinations of coefficients\n",
    "coeffs = np.array(np.meshgrid(coeff_xx, coeff_yy, coeff_zz, coeff_z)).T.reshape(-1, 4)\n",
    "hamiltonian_ideal_qt = None\n",
    "coeffs_ideal_spec = []\n",
    "found_ideal_spectrum = False\n",
    "for coeff in coeffs:\n",
    "    hamiltonian_qt = hamiltonian_matrix([X, X], [Y, Y], [Z, Z], coeffs=coeff, num_qubits=num_qubits, symbreak_term=[Z])\n",
    "    rescaled_hamitlonian_qt = rescale_and_shift_spectrum(hamiltonian_qt)\n",
    "    \n",
    "    exact_spec = np.linalg.eigvalsh(hamiltonian_qt)\n",
    "    print('Original spectrum: ', np.round(exact_spec, 4))\n",
    "    rescaled_exact_spec = np.linalg.eigvalsh(rescaled_hamitlonian_qt)\n",
    "    \n",
    "    # Accept coeff only if all spectrum elements are not closer than qpe_precision\n",
    "    for eigval_i in rescaled_exact_spec:\n",
    "        spec_without_eigval_i = np.delete(rescaled_exact_spec, np.where(rescaled_exact_spec == eigval_i))\n",
    "        if np.any(np.abs(spec_without_eigval_i - eigval_i) < qpe_precision):\n",
    "            break\n",
    "    else:\n",
    "        found_ideal_spectrum = True\n",
    "        hamiltonian_ideal_qt = hamiltonian_qt\n",
    "        coeffs_ideal_spec = coeff\n",
    "        print(\"Unique spectrum found: \", np.round(rescaled_exact_spec, 4))\n",
    "        print(\"Nonrescaled coefficients: \", coeffs_ideal_spec)\n",
    "        break\n",
    "\n",
    "if not found_ideal_spectrum:\n",
    "    print(\"No ideal spectrum found\")\n",
    "    \n",
    "#* Found ideal spectrum with bulk sym break term Z, strength 1, for 3-4 and 4-6 system qubits - estimating qubits\n",
    "    \n",
    "rescaling_factor, shift = rescaling_and_shift_factors(hamiltonian_ideal_qt)\n",
    "print(f'Rescaling factor {rescaling_factor}, shift {shift}')\n",
    "rescaled_hamiltonian_qt = hamiltonian_qt / rescaling_factor + shift * qt.qeye(hamiltonian_qt.shape[0])  #* Shift / No Shift\n",
    "rescaled_coeff = coeffs_ideal_spec / rescaling_factor\n",
    "print('Rescaled coefficients: ', rescaled_coeff)\n"
   ]
  },
  {
   "cell_type": "code",
   "execution_count": 11,
   "metadata": {},
   "outputs": [
    {
     "name": "stdout",
     "output_type": "stream",
     "text": [
      "Initial energy = 0.8535533905932734\n",
      "(0.8535533905932727+0j)\n",
      "                         ┌───┐                    ┌──────┐                  »\n",
      "  E_0: ──────────────────┤ H ├────────────────────┤ P(π) ├──■───────────────»\n",
      "                         ├───┤                   ┌┴──────┤  │               »\n",
      "  E_1: ──────────────────┤ H ├───────────────────┤ P(2π) ├──┼─────■─────■───»\n",
      "                         ├───┤                   ├───────┤  │     │     │   »\n",
      "  E_2: ──────────────────┤ H ├───────────────────┤ P(4π) ├──┼─────┼─────┼───»\n",
      "                         ├───┤                   ├───────┤  │     │     │   »\n",
      "  E_3: ──────────────────┤ H ├───────────────────┤ P(8π) ├──┼─────┼─────┼───»\n",
      "       ┌─────────────────┴───┴──────────────────┐└───────┘┌─┴──┐┌─┴──┐┌─┴──┐»\n",
      "sys_0: ┤0                                       ├─────────┤0   ├┤0   ├┤0   ├»\n",
      "       │                                        │         │    ││    ││    │»\n",
      "sys_1: ┤1 Initialize(0,0,0,0.5,0,0.70711,0.5,0) ├─────────┤1 H ├┤1 H ├┤1 H ├»\n",
      "       │                                        │         │    ││    ││    │»\n",
      "sys_2: ┤2                                       ├─────────┤2   ├┤2   ├┤2   ├»\n",
      "       └────────────────────────────────────────┘         └────┘└────┘└────┘»\n",
      "crE: 4/═════════════════════════════════════════════════════════════════════»\n",
      "                                                                            »\n",
      "«                                                                         »\n",
      "«  E_0: ──────────────────────────────────────────────────────────────────»\n",
      "«                                                                         »\n",
      "«  E_1: ──────────────────────────────────────────────────────────────────»\n",
      "«                                                                         »\n",
      "«  E_2: ──■─────■─────■─────■─────────────────────────────────────────────»\n",
      "«         │     │     │     │                                             »\n",
      "«  E_3: ──┼─────┼─────┼─────┼─────■─────■─────■─────■─────■─────■─────■───»\n",
      "«       ┌─┴──┐┌─┴──┐┌─┴──┐┌─┴──┐┌─┴──┐┌─┴──┐┌─┴──┐┌─┴──┐┌─┴──┐┌─┴──┐┌─┴──┐»\n",
      "«sys_0: ┤0   ├┤0   ├┤0   ├┤0   ├┤0   ├┤0   ├┤0   ├┤0   ├┤0   ├┤0   ├┤0   ├»\n",
      "«       │    ││    ││    ││    ││    ││    ││    ││    ││    ││    ││    │»\n",
      "«sys_1: ┤1 H ├┤1 H ├┤1 H ├┤1 H ├┤1 H ├┤1 H ├┤1 H ├┤1 H ├┤1 H ├┤1 H ├┤1 H ├»\n",
      "«       │    ││    ││    ││    ││    ││    ││    ││    ││    ││    ││    │»\n",
      "«sys_2: ┤2   ├┤2   ├┤2   ├┤2   ├┤2   ├┤2   ├┤2   ├┤2   ├┤2   ├┤2   ├┤2   ├»\n",
      "«       └────┘└────┘└────┘└────┘└────┘└────┘└────┘└────┘└────┘└────┘└────┘»\n",
      "«crE: 4/══════════════════════════════════════════════════════════════════»\n",
      "«                                                                         »\n",
      "«             ┌──────────┐┌─┐         \n",
      "«  E_0: ──────┤0         ├┤M├─────────\n",
      "«             │          │└╥┘┌─┐      \n",
      "«  E_1: ──────┤1         ├─╫─┤M├──────\n",
      "«             │  IQFT_dg │ ║ └╥┘┌─┐   \n",
      "«  E_2: ──────┤2         ├─╫──╫─┤M├───\n",
      "«             │          │ ║  ║ └╥┘┌─┐\n",
      "«  E_3: ──■───┤3         ├─╫──╫──╫─┤M├\n",
      "«       ┌─┴──┐└──────────┘ ║  ║  ║ └╥┘\n",
      "«sys_0: ┤0   ├─────────────╫──╫──╫──╫─\n",
      "«       │    │             ║  ║  ║  ║ \n",
      "«sys_1: ┤1 H ├─────────────╫──╫──╫──╫─\n",
      "«       │    │             ║  ║  ║  ║ \n",
      "«sys_2: ┤2   ├─────────────╫──╫──╫──╫─\n",
      "«       └────┘             ║  ║  ║  ║ \n",
      "«crE: 4/═══════════════════╩══╩══╩══╩═\n",
      "«                          0  1  2  3 \n"
     ]
    }
   ],
   "source": [
    "exact_spec, eigenstates = np.linalg.eigh(rescaled_hamiltonian_qt)\n",
    "eig_index = 5\n",
    "eigenstate = eigenstates[:, eig_index]\n",
    "\n",
    "initial_exact_energy = exact_spec[eig_index]\n",
    "initial_eigenstate = Statevector(eigenstate)\n",
    "print(f'Initial energy = {initial_exact_energy}')\n",
    "\n",
    "# Initialize\n",
    "qr_energy = QuantumRegister(num_estimating_qubits, name=\"E\")\n",
    "cr_energy = ClassicalRegister(num_estimating_qubits, name=\"crE\")\n",
    "qr_sys  = QuantumRegister(num_qubits, name=\"sys\")\n",
    "circ = QuantumCircuit(qr_energy, qr_sys, cr_energy)\n",
    "circ.initialize(initial_eigenstate, qr_sys)\n",
    "\n",
    "circ.h(qr_energy)\n",
    "\n",
    "statevector = Statevector(circ).data\n",
    "padded_rescaled_hamiltonian = np.kron(rescaled_hamiltonian_qt.full(), np.eye(2**num_estimating_qubits))  # top-bottom = right-left\n",
    "energy = statevector.conj().T @ padded_rescaled_hamiltonian @ statevector\n",
    "print(energy)\n",
    "\n",
    "# QPE\n",
    "T = 1\n",
    "time = T * 2 * np.pi\n",
    "num_trotter_steps = 10\n",
    "\n",
    "trotter_step_circ = trotter_step_heisenberg(num_qubits, coeffs=rescaled_coeff, symbreak=True)\n",
    "U = ham_evol(num_qubits, trotter_step=trotter_step_circ, num_trotter_steps=num_trotter_steps, time=time)\n",
    "cU = U.control(1)\n",
    "for q in range(num_estimating_qubits):\n",
    "    circ.p(time * shift * 2**q, qr_energy[q])  #* Shift\n",
    "    for _ in range(2**q):\n",
    "        circ.compose(cU, [q, *list(qr_sys)], inplace=True)\n",
    "\n",
    "# Inverse QFT\n",
    "qft_circ = QFT(num_estimating_qubits, inverse=True)  # With SWAPs\n",
    "circ.compose(qft_circ, qr_energy, inplace=True)\n",
    "\n",
    "circ.measure(qr_energy, cr_energy)\n",
    "print(circ)"
   ]
  },
  {
   "cell_type": "code",
   "execution_count": 12,
   "metadata": {},
   "outputs": [],
   "source": [
    "tr_circ = transpile(circ, basis_gates=['u', 'cx'], optimization_level=3)"
   ]
  },
  {
   "cell_type": "code",
   "execution_count": 13,
   "metadata": {},
   "outputs": [
    {
     "name": "stdout",
     "output_type": "stream",
     "text": [
      "{'0110': 5, '1000': 4, '1010': 6, '1001': 4, '0101': 2, '0000': 17, '0010': 11, '1011': 13, '0001': 6, '0011': 1, '1101': 184, '1111': 44, '0111': 3, '1110': 660, '0100': 4, '1100': 36}\n"
     ]
    }
   ],
   "source": [
    "simulator = Aer.get_backend('statevector_simulator')\n",
    "shots = 1000\n",
    "job = simulator.run(tr_circ, shots=shots)\n",
    "counts = job.result().get_counts()\n",
    "print(counts)\n",
    "\n",
    "#! For non rescaled spectrum, under 100 Trotter steps we have garbage as we found out!"
   ]
  },
  {
   "cell_type": "code",
   "execution_count": 14,
   "metadata": {},
   "outputs": [
    {
     "name": "stdout",
     "output_type": "stream",
     "text": [
      "Exact energy: 0.8535533905932734\n",
      "Estimated energy: 0.875\n"
     ]
    }
   ],
   "source": [
    "phase_bits = max(counts, key=counts.get) # take the most often obtaned result\n",
    "phase = int(phase_bits, 2) / 2**num_estimating_qubits  # exp(i 2pi phase)\n",
    "    \n",
    "estimated_energy = phase / T  # exp(i 2pi phase) = exp(i 2pi E T)\n",
    "print(f'Exact energy: {initial_exact_energy}')\n",
    "print(f'Estimated energy: {estimated_energy}')"
   ]
  }
 ],
 "metadata": {
  "kernelspec": {
   "display_name": "qiskit_env",
   "language": "python",
   "name": "python3"
  },
  "language_info": {
   "codemirror_mode": {
    "name": "ipython",
    "version": 3
   },
   "file_extension": ".py",
   "mimetype": "text/x-python",
   "name": "python",
   "nbconvert_exporter": "python",
   "pygments_lexer": "ipython3",
   "version": "3.11.5"
  }
 },
 "nbformat": 4,
 "nbformat_minor": 2
}
