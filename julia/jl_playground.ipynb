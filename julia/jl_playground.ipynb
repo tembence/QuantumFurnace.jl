{
 "cells": [
  {
   "cell_type": "code",
   "execution_count": 4,
   "metadata": {},
   "outputs": [
    {
     "data": {
      "text/plain": [
       "rescaling_and_shift_factors (generic function with 1 method)"
      ]
     },
     "metadata": {},
     "output_type": "display_data"
    }
   ],
   "source": [
    "using LinearAlgebra\n",
    "using Random\n",
    "using ITensors\n",
    "using Printf\n",
    "using QuantumOptics\n",
    "using JLD\n",
    "include(\"hamiltonian_tools.jl\")"
   ]
  },
  {
   "cell_type": "code",
   "execution_count": 50,
   "metadata": {},
   "outputs": [
    {
     "name": "stdout",
     "output_type": "stream",
     "text": [
      "2.45431681699399e-5\n",
      "6.40459443487607e-5\n",
      "0.009402970235384268\n",
      "0.0008548154759440992\n"
     ]
    }
   ],
   "source": [
    "n = 4\n",
    "# generate random n qubit density Matrix\n",
    "\n",
    "rho = rand(2^n, 2^n) + 1im * rand(2^n, 2^n)\n",
    "rho = rho * rho'\n",
    "rho = rho / tr(rho)\n",
    "rho = Hermitian(rho)\n",
    "println(maximum(eigvals(rho)))\n",
    "\n",
    "sigma = rand(2^n, 2^n) + 1im * rand(2^n, 2^n)\n",
    "sigma = sigma * sigma'\n",
    "sigma = sigma / tr(sigma)\n",
    "sigma = Hermitian(sigma)\n",
    "println(maximum(eigvals(sigma)))\n",
    "\n",
    "summed = rho + 10 * sigma\n",
    "println(maximum(eigvals(summed)))\n",
    "summed = summed / tr(summed)\n",
    "summed = Hermitian(summed)\n",
    "println(maximum(eigvals(summed)))\n"
   ]
  },
  {
   "cell_type": "code",
   "execution_count": 52,
   "metadata": {},
   "outputs": [
    {
     "data": {
      "text/plain": [
       "2×2 Matrix{Float64}:\n",
       " 0.9  1.2\n",
       " 0.8  1.1"
      ]
     },
     "metadata": {},
     "output_type": "display_data"
    },
    {
     "data": {
      "text/plain": [
       "2×2 Matrix{Float64}:\n",
       " 2.7  4.8\n",
       " 4.0  7.7"
      ]
     },
     "metadata": {},
     "output_type": "display_data"
    }
   ],
   "source": [
    "jump = [3 4; 5 7]\n",
    "bohr_freqs = [0.1 -0.2; 0.2 -0.1]\n",
    "sigma = 5\n",
    "energy = 1.\n",
    "\n",
    "display(energy .- bohr_freqs)\n",
    "\n",
    "jump.* (energy .- bohr_freqs)"
   ]
  },
  {
   "cell_type": "code",
   "execution_count": 44,
   "metadata": {},
   "outputs": [
    {
     "data": {
      "text/plain": [
       "Dict{Any, Any} with 10 entries:\n",
       "  5  => 0.353112\n",
       "  4  => 0.894245\n",
       "  6  => 0.394255\n",
       "  7  => 0.953125\n",
       "  2  => 0.549051\n",
       "  10 => 0.748415\n",
       "  9  => 0.49425\n",
       "  8  => 0.795547\n",
       "  3  => 0.218587\n",
       "  1  => 0.325977"
      ]
     },
     "metadata": {},
     "output_type": "display_data"
    },
    {
     "data": {
      "text/plain": [
       "10"
      ]
     },
     "metadata": {},
     "output_type": "display_data"
    }
   ],
   "source": [
    "# random dict\n",
    "function random_dict(n)\n",
    "    d = Dict()\n",
    "    for i in 1:n\n",
    "        d[i] = rand()\n",
    "    end\n",
    "    return d\n",
    "end\n",
    "\n",
    "Random.seed!(1234)\n",
    "rand_dict = random_dict(10)\n",
    "display(rand_dict)\n",
    "rand(keys(rand_dict))"
   ]
  },
  {
   "cell_type": "code",
   "execution_count": 4,
   "metadata": {},
   "outputs": [
    {
     "data": {
      "text/plain": [
       "-1.77e-10"
      ]
     },
     "metadata": {},
     "output_type": "display_data"
    }
   ],
   "source": [
    "# 2 very small floating point number\n",
    "a = 1.1e-10\n",
    "b = 2.1e-10\n",
    "c = 3.3e-11\n",
    "l = [a, b, c]\n",
    "minimum(diff(l))"
   ]
  },
  {
   "cell_type": "code",
   "execution_count": 2,
   "metadata": {},
   "outputs": [
    {
     "name": "stdout",
     "output_type": "stream",
     "text": [
      "  8.671321 seconds (489.82 M allocations: 8.789 GiB, 5.95% gc time)\n",
      "  9.001961 seconds (489.82 M allocations: 8.789 GiB, 5.09% gc time)\n"
     ]
    }
   ],
   "source": [
    "#Create a random matrix\n",
    "size = 10000\n",
    "A = randn(size,size)\n",
    "\n",
    "@time begin\n",
    "    for j in 1:size\n",
    "        for i in 1:size\n",
    "            A[i,j] = A[i,j] + 1\n",
    "        end\n",
    "    end\n",
    "end\n",
    "\n",
    "@time begin\n",
    "    for i in 1:size, j in 1:size\n",
    "        A[i,j] = A[i,j] + 1\n",
    "    end\n",
    "end"
   ]
  },
  {
   "cell_type": "code",
   "execution_count": 13,
   "metadata": {},
   "outputs": [
    {
     "name": "stdout",
     "output_type": "stream",
     "text": [
      "[-1.44 -2.44 -3.44]\n",
      "[2.0736 5.9536 11.833599999999999]\n",
      "[-0.5184 -1.4884 -2.9583999999999997]\n"
     ]
    }
   ],
   "source": [
    "energy = -0.44\n",
    "a = [1. 2. 3.]\n",
    "println(energy .- a)\n",
    "println((energy .- a).^2)\n",
    "println(-(energy .- a).^2 * 0.5^2)"
   ]
  },
  {
   "cell_type": "code",
   "execution_count": 1,
   "metadata": {},
   "outputs": [
    {
     "name": "stdout",
     "output_type": "stream",
     "text": [
      "Entry at (2, 3): 5\n"
     ]
    }
   ],
   "source": [
    "using SparseArrays\n",
    "\n",
    "# Create a sparse matrix\n",
    "A = sparse([1, 2, 3], [2, 3, 1], [4, 5, 6])\n",
    "\n",
    "# Access the (i, j) entry\n",
    "i = 2\n",
    "j = 3\n",
    "entry_ij = A[i, j]\n",
    "\n",
    "println(\"Entry at ($i, $j): \", entry_ij)\n"
   ]
  },
  {
   "cell_type": "code",
   "execution_count": 76,
   "metadata": {},
   "outputs": [
    {
     "data": {
      "text/plain": [
       "1×4 Matrix{Int64}:\n",
       " 1  2  3  4"
      ]
     },
     "metadata": {},
     "output_type": "display_data"
    },
    {
     "data": {
      "text/plain": [
       "1×4 Matrix{Int64}:\n",
       " 2  3  4  5"
      ]
     },
     "metadata": {},
     "output_type": "display_data"
    },
    {
     "data": {
      "text/plain": [
       "4×4 Matrix{Int64}:\n",
       "  0   1   2  3\n",
       " -1   0   1  2\n",
       " -2  -1   0  1\n",
       " -3  -2  -1  0"
      ]
     },
     "metadata": {},
     "output_type": "display_data"
    }
   ],
   "source": [
    "a = [1 2 3 4]\n",
    "b = [2 3 4 5]\n",
    "\n",
    "display(a)\n",
    "display(b)\n",
    "a .- transpose(a)"
   ]
  },
  {
   "cell_type": "code",
   "execution_count": 13,
   "metadata": {},
   "outputs": [
    {
     "ename": "ErrorException",
     "evalue": "syntax: \"...\" expression outside call around /Users/bence/code/liouvillian_metro/julia/jl_playground.ipynb:2",
     "output_type": "error",
     "traceback": [
      "syntax: \"...\" expression outside call around /Users/bence/code/liouvillian_metro/julia/jl_playground.ipynb:2\n",
      "\n",
      "Stacktrace:\n",
      " [1] top-level scope\n",
      "   @ ~/code/liouvillian_metro/julia/jl_playground.ipynb:2"
     ]
    }
   ],
   "source": [
    "a = [[1, 2] [3, 4]]\n",
    "a..."
   ]
  },
  {
   "cell_type": "code",
   "execution_count": 8,
   "metadata": {},
   "outputs": [
    {
     "data": {
      "text/plain": [
       "(dim=4|id=146|\"index_n\")"
      ]
     },
     "metadata": {},
     "output_type": "display_data"
    }
   ],
   "source": [
    "i = Index(2,\"index_i\"); j = Index(2,\"index_j\"); m = Index(4,\"index_m\"); n = Index(4,\"index_n\")"
   ]
  },
  {
   "cell_type": "code",
   "execution_count": 7,
   "metadata": {},
   "outputs": [
    {
     "data": {
      "text/plain": [
       "8×8 Matrix{Float64}:\n",
       "  45.0   50.0   54.0   60.0   90.0  100.0  108.0  120.0\n",
       "  55.0   60.0   66.0   72.0  110.0  120.0  132.0  144.0\n",
       "  63.0   70.0   72.0   80.0  126.0  140.0  144.0  160.0\n",
       "  77.0   84.0   88.0   96.0  154.0  168.0  176.0  192.0\n",
       " 135.0  150.0  162.0  180.0  180.0  200.0  216.0  240.0\n",
       " 165.0  180.0  198.0  216.0  220.0  240.0  264.0  288.0\n",
       " 189.0  210.0  216.0  240.0  252.0  280.0  288.0  320.0\n",
       " 231.0  252.0  264.0  288.0  308.0  336.0  352.0  384.0"
      ]
     },
     "metadata": {},
     "output_type": "display_data"
    },
    {
     "data": {
      "text/plain": [
       "2×2 Matrix{Float64}:\n",
       "  45.0  120.0\n",
       " 231.0  384.0"
      ]
     },
     "metadata": {},
     "output_type": "display_data"
    }
   ],
   "source": [
    "M = [1.0 2.0; 3.0 4.0]\n",
    "N = [5.0 6.0; 7.0 8.0]\n",
    "L = [9.0 10.0; 11.0 12.0]\n",
    "\n",
    "tensorprod_linalg = kron(kron(M, N), L)\n",
    "display(tensorprod_linalg)\n",
    "\n",
    "\n",
    "# res = M .* N \n",
    "# display(res)\n"
   ]
  },
  {
   "cell_type": "code",
   "execution_count": 51,
   "metadata": {},
   "outputs": [
    {
     "name": "stdout",
     "output_type": "stream",
     "text": [
      "Matrix{ComplexF64}\n",
      "0.5726465858035323 + 0.35776898836267246im\n"
     ]
    },
    {
     "data": {
      "text/plain": [
       "gaussian2 (generic function with 1 method)"
      ]
     },
     "metadata": {},
     "output_type": "display_data"
    }
   ],
   "source": [
    "num_qubits = 15\n",
    "dim = 2^num_qubits\n",
    "sigma = 0.1\n",
    "\n",
    "Random.seed!(666)\n",
    "random_matrix = rand(ComplexF64, dim, dim)\n",
    "println(typeof(random_matrix))\n",
    "println(random_matrix[1, 1])\n",
    "# Apply a vectorized function to the matrix, that weights the entries with a Gaussian\n",
    "function gaussian(matrix::Matrix{ComplexF64}, sigma::Float64)\n",
    "    return exp.(-abs2.(matrix) / (2 * sigma^2))\n",
    "end\n",
    "\n",
    "function gaussian2(matrix_entry::ComplexF64, sigma::Float64)\n",
    "    return exp(-abs2(matrix_entry) / (2 * sigma^2))\n",
    "end"
   ]
  },
  {
   "cell_type": "code",
   "execution_count": 52,
   "metadata": {},
   "outputs": [],
   "source": [
    "# time it\n",
    "@time weighted_matrix = gaussian(random_matrix, sigma)\n",
    "@time weighted_matrix2 = gaussian2.(random_matrix, sigma)\n",
    "\n",
    "#Check if they are the same\n",
    "println(weighted_matrix == weighted_matrix2)"
   ]
  }
 ],
 "metadata": {
  "kernelspec": {
   "display_name": "Julia 1.10.2",
   "language": "julia",
   "name": "julia-1.10"
  },
  "language_info": {
   "file_extension": ".jl",
   "mimetype": "application/julia",
   "name": "julia",
   "version": "1.10.2"
  }
 },
 "nbformat": 4,
 "nbformat_minor": 2
}
