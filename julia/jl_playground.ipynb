{
 "cells": [
  {
   "cell_type": "code",
   "execution_count": 35,
   "metadata": {},
   "outputs": [],
   "source": [
    "using LinearAlgebra\n",
    "using Random"
   ]
  },
  {
   "cell_type": "code",
   "execution_count": 51,
   "metadata": {},
   "outputs": [
    {
     "name": "stdout",
     "output_type": "stream",
     "text": [
      "Matrix{ComplexF64}\n",
      "0.5726465858035323 + 0.35776898836267246im\n"
     ]
    },
    {
     "data": {
      "text/plain": [
       "gaussian2 (generic function with 1 method)"
      ]
     },
     "metadata": {},
     "output_type": "display_data"
    }
   ],
   "source": [
    "num_qubits = 15\n",
    "dim = 2^num_qubits\n",
    "sigma = 0.1\n",
    "\n",
    "Random.seed!(666)\n",
    "random_matrix = rand(ComplexF64, dim, dim)\n",
    "println(typeof(random_matrix))\n",
    "println(random_matrix[1, 1])\n",
    "# Apply a vectorized function to the matrix, that weights the entries with a Gaussian\n",
    "function gaussian(matrix::Matrix{ComplexF64}, sigma::Float64)\n",
    "    return exp.(-abs2.(matrix) / (2 * sigma^2))\n",
    "end\n",
    "\n",
    "function gaussian2(matrix_entry::ComplexF64, sigma::Float64)\n",
    "    return exp(-abs2(matrix_entry) / (2 * sigma^2))\n",
    "end"
   ]
  },
  {
   "cell_type": "code",
   "execution_count": 52,
   "metadata": {},
   "outputs": [],
   "source": [
    "# time it\n",
    "@time weighted_matrix = gaussian(random_matrix, sigma)\n",
    "@time weighted_matrix2 = gaussian2.(random_matrix, sigma)\n",
    "\n",
    "#Check if they are the same\n",
    "println(weighted_matrix == weighted_matrix2)"
   ]
  }
 ],
 "metadata": {
  "kernelspec": {
   "display_name": "Julia 1.10.2",
   "language": "julia",
   "name": "julia-1.10"
  },
  "language_info": {
   "file_extension": ".jl",
   "mimetype": "application/julia",
   "name": "julia",
   "version": "1.10.2"
  }
 },
 "nbformat": 4,
 "nbformat_minor": 2
}
