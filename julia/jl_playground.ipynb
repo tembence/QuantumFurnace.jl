{
 "cells": [
  {
   "cell_type": "code",
   "execution_count": 1,
   "metadata": {},
   "outputs": [
    {
     "data": {
      "text/plain": [
       "showall (generic function with 2 methods)"
      ]
     },
     "metadata": {},
     "output_type": "display_data"
    }
   ],
   "source": [
    "using LinearAlgebra\n",
    "using Random\n",
    "using Printf\n",
    "using JLD\n",
    "using TensorOperations\n",
    "using Base.Iterators\n",
    "using Random\n",
    "include(\"hamiltonian_tools.jl\")\n",
    "include(\"qi_tools.jl\")\n",
    "include(\"thermalizing_tools.jl\")\n",
    "\n",
    "function showall(io, x, limit = false) \n",
    "    println(io, summary(x), \":\")\n",
    "    Base.print_matrix(IOContext(io, :limit => limit), x)\n",
    "end\n",
    "  "
   ]
  },
  {
   "cell_type": "code",
   "execution_count": 2,
   "metadata": {},
   "outputs": [
    {
     "data": {
      "text/plain": [
       "2-element Vector{CartesianIndex{2}}:\n",
       " CartesianIndex(1, 1)\n",
       " CartesianIndex(2, 2)"
      ]
     },
     "metadata": {},
     "output_type": "display_data"
    },
    {
     "data": {
      "text/plain": [
       "2×2 SparseMatrixCSC{Float64, Int64} with 2 stored entries:\n",
       " 10.0   ⋅ \n",
       "   ⋅   9.0"
      ]
     },
     "metadata": {},
     "output_type": "display_data"
    },
    {
     "data": {
      "text/plain": [
       "1-element Vector{CartesianIndex{2}}:\n",
       " CartesianIndex(1, 2)"
      ]
     },
     "metadata": {},
     "output_type": "display_data"
    }
   ],
   "source": [
    "index1 = (1, 2)\n",
    "index2 = [[1], [2]]\n",
    "index3 = [[1, 1, 2, 2], [1, 2, 1, 2]]\n",
    "values = [1, 2, 3, 4]\n",
    "A = spzeros(2, 2)\n",
    "B = spzeros(2, 2)\n",
    "Random.seed!(666)\n",
    "# indices = CartesianIndex.(index3[1], index3[2])\n",
    "# C[indices] .= values\n",
    "C::SparseMatrixCSC{Float64} = spzeros(2, 2)\n",
    "dim = size(C, 1)\n",
    "diag_indices = CartesianIndex.(1:dim, 1:dim)\n",
    "\n",
    "display(diag_indices)\n",
    "D = [10 1; 1 9]\n",
    "C[diag_indices] .= D[diag_indices]\n",
    "display(C)\n",
    "\n",
    "display([CartesianIndex(1, 2)])\n",
    "\n",
    "# display(C)\n",
    "# # A[index1...] = 1\n",
    "# # B[index2[1], index2[2]] .= 1\n",
    "# # C[index3[1], index3[2]] .= values\n",
    "# # display(A)\n",
    "# # display(B)\n",
    "# # display(C)\n",
    "# bohr_dict = Dict{Float64, Vector{CartesianIndex}}()\n",
    "# bohr_dict[0.0] = CartesianIndex.(collect(1:4), collect(1:4)) \n",
    "# CartesianIndex(1, 2)"
   ]
  },
  {
   "cell_type": "code",
   "execution_count": 4,
   "metadata": {},
   "outputs": [
    {
     "data": {
      "text/plain": [
       "5×5 SparseMatrixCSC{Float64, Int64} with 9 stored entries:\n",
       "  ⋅   10.0  10.0  10.0   ⋅ \n",
       "  ⋅   20.0  20.0  20.0   ⋅ \n",
       "  ⋅   30.0  30.0  30.0   ⋅ \n",
       "  ⋅     ⋅     ⋅     ⋅    ⋅ \n",
       "  ⋅     ⋅     ⋅     ⋅    ⋅ "
      ]
     },
     "metadata": {},
     "output_type": "display_data"
    }
   ],
   "source": [
    "using SparseArrays\n",
    "\n",
    "# Example sparse matrix\n",
    "n = 5\n",
    "sparse_matrix = spzeros(n, n)\n",
    "\n",
    "# Indices and values to set\n",
    "rows = [1, 2, 3]  # Row indices\n",
    "cols = [2, 3, 4]  # Column indices\n",
    "values = [10.0, 20.0, 30.0]  # Values to set\n",
    "\n",
    "# Assign values\n",
    "sparse_matrix[rows, cols] .= values\n",
    "\n",
    "display(sparse_matrix)"
   ]
  },
  {
   "cell_type": "code",
   "execution_count": 2,
   "metadata": {},
   "outputs": [
    {
     "name": "stdout",
     "output_type": "stream",
     "text": [
      "nradn0\n",
      "nrand2\n",
      "nrand1\n",
      "nrand3\n"
     ]
    }
   ],
   "source": [
    "random_dict = Dict()\n",
    "random_dict[\"nradn0\"] = 0\n",
    "random_dict[\"nrand1\"] = 1\n",
    "random_dict[\"nrand2\"] = 2\n",
    "random_dict[\"nrand3\"] = 3\n",
    "\n",
    "for k in keys(random_dict)\n",
    "    println(k)\n",
    "end"
   ]
  },
  {
   "cell_type": "code",
   "execution_count": null,
   "metadata": {},
   "outputs": [
    {
     "data": {
      "text/plain": [
       "2×2 SparseMatrixCSC{Float64, Int64} with 2 stored entries:\n",
       " 1.0   ⋅ \n",
       "  ⋅   4.0"
      ]
     },
     "metadata": {},
     "output_type": "display_data"
    }
   ],
   "source": [
    "A = [1 2; 3 4]\n",
    "diag_vals = \n",
    "B = spzeros(2,2)\n",
    "B .= spdiagm(0 => diag(A))"
   ]
  },
  {
   "cell_type": "code",
   "execution_count": 6,
   "metadata": {},
   "outputs": [],
   "source": [
    "beta = 2.0\n",
    "alpha(nu_1, nu_2) = exp(-beta^2 * (nu_1 + nu_2 + 2/beta)^2 / 16) * exp(-beta^2 * (nu_1 - nu_2)^2 / 8)\n",
    "\n",
    "for _ in 1:100000\n",
    "    nu_1 = 0.9 * rand() - 0.45\n",
    "    nu_2 = 0.9 * rand() - 0.45  \n",
    "    alpha_val = alpha(nu_1, nu_2)\n",
    "    alpha_skew_val = alpha(-nu_2, -nu_1) * exp(-beta * (nu_1 + nu_2) / 2)\n",
    "    if norm(alpha_val - alpha_skew_val) > 1e-14\n",
    "        println(alpha_val)\n",
    "        println(alpha_skew_val, \"\\n\")\n",
    "    else\n",
    "        # @printf(\"Good for nu_1 = %f, nu_2 = %f\\n\", nu_1, nu_2)\n",
    "    end\n",
    "end"
   ]
  },
  {
   "cell_type": "code",
   "execution_count": 72,
   "metadata": {},
   "outputs": [
    {
     "name": "stdout",
     "output_type": "stream",
     "text": [
      "  0.532505 seconds (13.64 M allocations: 304.125 MiB, 1.50% gc time)\n"
     ]
    }
   ],
   "source": [
    "num_qubits = 10\n",
    "ham_filename(n) = @sprintf(\"/Users/bence/code/liouvillian_metro/julia/data/hamiltonian_n%d.jld\", n)\n",
    "hamiltonian = load(ham_filename(num_qubits))[\"ideal_ham\"]\n",
    "bohr_freqs = hamiltonian.eigvals .- transpose(hamiltonian.eigvals)\n",
    "# bohr_freqs_plus = - (hamiltonian.eigvals .+ transpose(hamiltonian.eigvals))\n",
    "# bohr_freq_23_plus = bohr_freqs_plus[2, 3] .+ 2 * hamiltonian.eigvals\n",
    "\n",
    "# bohr_freq_23_plus[5] == - (hamiltonian.eigvals[2] + hamiltonian.eigvals[3]) + 2 * hamiltonian.eigvals[5]\n",
    "\n",
    "# bohr_freqs_plus[2, 3] == - (hamiltonian.eigvals[2] + hamiltonian.eigvals[3])\n",
    "# iterate over all entries of bohr freqs\n",
    "@time begin\n",
    "    for j in 1:2^num_qubits\n",
    "        for i in 1:2^num_qubits\n",
    "            madonna = exp(1im * bohr_freqs[i, j]) - sqrt(1 - abs(exp(1im * bohr_freqs[i, j]))^2)\n",
    "        end\n",
    "    end\n",
    "end"
   ]
  },
  {
   "cell_type": "code",
   "execution_count": 8,
   "metadata": {},
   "outputs": [
    {
     "data": {
      "text/plain": [
       "38.8329756778952"
      ]
     },
     "metadata": {},
     "output_type": "display_data"
    }
   ],
   "source": [
    "eigvals = 1im .* [1.0, 2.0, 3.0]\n",
    "trotter_time_evolution = Diagonal(eigvals.^3)\n",
    "or = Diagonal(eigvals .* 3)\n",
    "norm(trotter_time_evolution - or)\n"
   ]
  },
  {
   "cell_type": "code",
   "execution_count": 4,
   "metadata": {},
   "outputs": [
    {
     "name": "stdout",
     "output_type": "stream",
     "text": [
      "Commutator norm no control 0.014112695174805954, \n",
      "Commutator norm with control 0.0, \n"
     ]
    }
   ],
   "source": [
    "zero = [1, 0]\n",
    "one = [0, 1]\n",
    "oneone = kron(one, one')\n",
    "zerozero = kron(zero, zero')\n",
    "\n",
    "phase_gate(phi) = [1 0; 0 exp(1im * phi)]\n",
    "cp_gate(phi) = kron(oneone, phase_gate(phi)) + kron(zerozero, I(2))\n",
    "\n",
    "rygate(theta) = [cos(theta/2) -sin(theta/2); sin(theta/2) cos(theta/2)]\n",
    "crygate(theta) = kron(zerozero, rygate(theta)) + kron(oneone, I(2))\n",
    "\n",
    "# display(kron(oneone, phase_gate(0.1)) + kron(zerozero, I(2)))\n",
    "# display(cp_gate(0.1))\n",
    "\n",
    "# commutation\n",
    "function commutator(A, B)\n",
    "    return A * B - B * A\n",
    "end\n",
    "\n",
    "phi = 0.1\n",
    "theta = 0.2\n",
    "@printf(\"Commutator norm no control %s, \\n\", norm(commutator(phase_gate(phi), rygate(theta))))\n",
    "@printf(\"Commutator norm with control %s, \\n\", norm(commutator(cp_gate(phi), crygate(theta))))"
   ]
  },
  {
   "cell_type": "code",
   "execution_count": 1,
   "metadata": {},
   "outputs": [
    {
     "data": {
      "text/plain": [
       "true"
      ]
     },
     "metadata": {},
     "output_type": "display_data"
    }
   ],
   "source": [
    "2 * im == 2im"
   ]
  },
  {
   "cell_type": "code",
   "execution_count": 5,
   "metadata": {},
   "outputs": [
    {
     "data": {
      "text/plain": [
       "3×3 Matrix{Int64}:\n",
       " 1  2  3\n",
       " 4  5  6\n",
       " 7  8  9"
      ]
     },
     "metadata": {},
     "output_type": "display_data"
    },
    {
     "data": {
      "text/plain": [
       "9-element Vector{Int64}:\n",
       " 1\n",
       " 4\n",
       " 7\n",
       " 2\n",
       " 5\n",
       " 8\n",
       " 3\n",
       " 6\n",
       " 9"
      ]
     },
     "metadata": {},
     "output_type": "display_data"
    },
    {
     "data": {
      "text/plain": [
       "3×3 Matrix{Int64}:\n",
       " 1  2  3\n",
       " 4  5  6\n",
       " 7  8  9"
      ]
     },
     "metadata": {},
     "output_type": "display_data"
    }
   ],
   "source": [
    "M = [1 2 3; 4 5 6; 7 8 9]\n",
    "display(M)\n",
    "display(vec(M))\n",
    "display(reshape(vec(M), 3, 3))"
   ]
  },
  {
   "cell_type": "code",
   "execution_count": 37,
   "metadata": {},
   "outputs": [
    {
     "data": {
      "text/plain": [
       "true"
      ]
     },
     "metadata": {},
     "output_type": "display_data"
    }
   ],
   "source": [
    "function compute_b1(time_labels::Vector{Float64})\n",
    "    f1(t) = 1 / cosh(2 * pi * t)\n",
    "    f2(t) = sin(-t) * exp(-2 * t^2)\n",
    "    return 2 * sqrt(pi) * exp(1/8) * convolute.(Ref(f1), Ref(f2), time_labels)\n",
    "end\n",
    "\n",
    "function compute_b2(time_labels::Vector{Float64})\n",
    "    return exp.(-4*time_labels.^2 .- 2*im*time_labels) / sqrt(4*pi^3)\n",
    "end\n",
    "\n",
    "num_energy_bits = 10\n",
    "N = 2^(num_energy_bits)\n",
    "N_labels = [0:1:Int(N/2)-1; -Int(N/2):1:-1]\n",
    "w0 = 0.01\n",
    "t0 = 2 * pi / (N * hamiltonian.w0)\n",
    "time_labels = t0 * N_labels\n",
    "\n",
    "b2 = Vector{ComplexF64}(compute_b2(time_labels))\n",
    "b2_negative = Vector{ComplexF64}(compute_b2(-time_labels))\n",
    "atol = 1e-14\n",
    "truncated_indices_b2 = findall(x -> abs(real(x)) >= atol || abs(imag(x)) >= atol, b2)\n",
    "truncated_indices_b2_negative = findall(x -> abs(real(x)) >= atol || abs(imag(x)) >= atol, b2_negative)\n",
    "b2_truncated_times = time_labels[truncated_indices_b2]\n",
    "b2_truncated_vals = b2[truncated_indices_b2]\n",
    "b2_negative_truncated_times = time_labels[truncated_indices_b2_negative]\n",
    "b2_negative_truncated_vals = b2_negative[truncated_indices_b2_negative]\n",
    "\n",
    "conj.(b2) == b2_negative\n",
    "conj.(b2_truncated_vals) == b2_negative_truncated_vals\n",
    "\n",
    "# For b1\n",
    "b1 = Vector{ComplexF64}(compute_b1(time_labels))\n",
    "b1_negative = Vector{ComplexF64}(compute_b1(time_labels))\n",
    "truncated_indices_b1 = findall(x -> abs(real(x)) >= atol || abs(imag(x)) >= atol, b1)\n",
    "truncated_indices_b1_negative = findall(x -> abs(real(x)) >= atol || abs(imag(x)) >= atol, b1_negative)\n",
    "b1_truncated_times = time_labels[truncated_indices_b1]\n",
    "b1_truncated_vals = b1[truncated_indices_b1]\n",
    "b1_negative_truncated_times = time_labels[truncated_indices_b1_negative]\n",
    "b1_negative_truncated_vals = b1_negative[truncated_indices_b1_negative]\n",
    "\n",
    "conj.(b1) == b1_negative\n",
    "# conj.(b1_truncated_vals) == b1_negative_truncated_vals\n",
    "\n",
    "# b::Vector{ComplexF64} = []\n",
    "# indices_b = findall(x -> abs(real(x)) > atol || abs(imag(x)) > atol, b)"
   ]
  },
  {
   "cell_type": "code",
   "execution_count": 34,
   "metadata": {},
   "outputs": [
    {
     "data": {
      "text/plain": [
       "1.0 + 0.0im"
      ]
     },
     "metadata": {},
     "output_type": "display_data"
    }
   ],
   "source": [
    "num_qubits = 7\n",
    "beta = 1000.\n",
    "b = SpinBasis(1//2)^num_qubits\n",
    "\n",
    "hamiltonian = load(\"/Users/bence/code/liouvillian_metro/julia/data/hamiltonian_n7.jld\")[\"ideal_ham\"]\n",
    "\n",
    "max_mixed_state = ones(2^num_qubits) / sqrt(2^num_qubits)\n",
    "max_mixed_dm = max_mixed_state * max_mixed_state'\n",
    "gibbs = gibbs_state(hamiltonian, beta)\n",
    "\n",
    "trdist = tracedistance_nh(Operator(b, max_mixed_dm), Operator(b, gibbs))\n",
    "\n"
   ]
  },
  {
   "cell_type": "code",
   "execution_count": 28,
   "metadata": {},
   "outputs": [
    {
     "data": {
      "text/plain": [
       "361"
      ]
     },
     "metadata": {},
     "output_type": "display_data"
    },
    {
     "data": {
      "text/plain": [
       "361"
      ]
     },
     "metadata": {},
     "output_type": "display_data"
    }
   ],
   "source": [
    "w0 = 2.5e-3\n",
    "beta = 1\n",
    "num_energy_bits = ceil(Int64, log2((0.45 * 4 + 2/beta) / w0))# Under Fig. 5. with secular approx.\n",
    "N = 2^(num_energy_bits)\n",
    "N_labels = [0:1:Int(N/2)-1; -Int(N/2):1:-1]\n",
    "\n",
    "t0 = 2 * pi / (N * w0)\n",
    "time_labels = t0 * N_labels\n",
    "energy_labels = w0 * N_labels\n",
    "energy_labels = energy_labels[abs.(energy_labels) .<= 0.45]\n",
    "# transition_metropolis(energy) = exp(-beta * maximum([energy + 1/(2*beta), 0]))\n",
    "transition_gaussian(energy) = exp(-(beta * energy + 1)^2 / 2)\n",
    "# transition_weights = transition_metropolis.(energy_labels)\n",
    "transition_weights = transition_gaussian.(energy_labels)\n",
    "\n",
    "# Find elements below 1e-14\n",
    "display(length(transition_weights))\n",
    "display(length(transition_weights[transition_weights .> 0.1]))"
   ]
  },
  {
   "cell_type": "code",
   "execution_count": 14,
   "metadata": {},
   "outputs": [
    {
     "data": {
      "text/plain": [
       "2"
      ]
     },
     "metadata": {},
     "output_type": "display_data"
    }
   ],
   "source": [
    "maximum([0, 1, 2])"
   ]
  },
  {
   "cell_type": "code",
   "execution_count": 9,
   "metadata": {},
   "outputs": [
    {
     "data": {
      "text/plain": [
       "101-element Vector{Real}:\n",
       " 1.0\n",
       " 1.0\n",
       " 1.0\n",
       " 1.0\n",
       " 1.0\n",
       " 0\n",
       " 0\n",
       " 0\n",
       " 0\n",
       " 0\n",
       " ⋮\n",
       " 0\n",
       " 0\n",
       " 0\n",
       " 0\n",
       " 0\n",
       " 0\n",
       " 0\n",
       " 0\n",
       " 0"
      ]
     },
     "metadata": {},
     "output_type": "display_data"
    }
   ],
   "source": [
    "time_labels = 0:0.1:10\n",
    "eta = 0.4\n",
    "\n",
    "# filtered_labels = ifelse.(abs.(time_labels) .> eta, 0, time_labels)\n",
    "filtered_labels_broadcast = ifelse.(abs.(time_labels) .> eta, 0, ones(length(time_labels)))"
   ]
  },
  {
   "cell_type": "code",
   "execution_count": 117,
   "metadata": {},
   "outputs": [
    {
     "name": "stdout",
     "output_type": "stream",
     "text": [
      "0.0\n"
     ]
    },
    {
     "data": {
      "text/plain": [
       "1.4142135624137618e-6"
      ]
     },
     "metadata": {},
     "output_type": "display_data"
    }
   ],
   "source": [
    "dim = 2^8\n",
    "# Create a random Hermitian in LinAlg\n",
    "Random.seed!(1234)\n",
    "H = Hermitian(randn(dim, dim) + 1im*randn(dim, dim))\n",
    "eps = 1e-6\n",
    "H_kicked = copy(Matrix(H))\n",
    "H_kicked[1, 3] =  H[1, 3] + eps\n",
    "println(norm(H - H'))\n",
    "norm(H_kicked - H_kicked')"
   ]
  },
  {
   "cell_type": "code",
   "execution_count": 38,
   "metadata": {},
   "outputs": [
    {
     "data": {
      "text/plain": [
       "9-element Vector{Float64}:\n",
       "  1.0\n",
       "  2.0\n",
       "  3.0\n",
       "  4.0\n",
       "  5.0\n",
       "  6.0\n",
       "  8.0\n",
       "  9.0\n",
       " 10.0"
      ]
     },
     "metadata": {},
     "output_type": "display_data"
    },
    {
     "data": {
      "text/plain": [
       "0.5782319465613976 + 0.7279350012266056im"
      ]
     },
     "metadata": {},
     "output_type": "display_data"
    },
    {
     "data": {
      "text/plain": [
       "0.9296459272405604"
      ]
     },
     "metadata": {},
     "output_type": "display_data"
    }
   ],
   "source": [
    "function truncate_time_labels_b1b2(time_labels::Vector{Float64}, b1::Vector{ComplexF64}, b2::Vector{ComplexF64}, atol::Float64 = 0.2)\n",
    "   \n",
    "    # find elements that are smaller than 1e-14\n",
    "    indices_b1_real = findall(x -> abs(x) > atol, real.(b1))\n",
    "    indices_b1_imag = findall(x -> abs(x) > atol, imag.(b1))\n",
    "    indices_b2_real = findall(x -> abs(x) > atol, real.(b2))\n",
    "    indices_b2_imag = findall(x -> abs(x) > atol, imag.(b2))\n",
    "    indices_b1 = union(indices_b1_real, indices_b1_imag)\n",
    "    indices_b2 = union(indices_b2_real, indices_b2_imag)\n",
    "    indices = intersect(indices_b1, indices_b2)\n",
    "    truncated_time_labels = time_labels[indices]\n",
    "    return truncated_time_labels\n",
    "end\n",
    "\n",
    "Random.seed!(1234)\n",
    "b1 = [rand() + rand()*im for i in 1:10]\n",
    "b2 = [rand() + rand()*im for i in 1:10]\n",
    "time_labels = collect(1.0:1.0:10.0)\n",
    "turncated_time_labels = truncate_time_labels_b1b2(time_labels, b1, b2)\n",
    "display(turncated_time_labels)\n",
    "display(b1[6])\n",
    "display(abs(b1[6]))"
   ]
  },
  {
   "cell_type": "code",
   "execution_count": 22,
   "metadata": {},
   "outputs": [
    {
     "name": "stdout",
     "output_type": "stream",
     "text": [
      "  0.009205 seconds (21 allocations: 672 bytes)\n",
      "  0.115122 seconds (31 allocations: 160.001 MiB, 87.04% gc time)\n"
     ]
    },
    {
     "data": {
      "text/plain": [
       "true"
      ]
     },
     "metadata": {},
     "output_type": "display_data"
    }
   ],
   "source": [
    "# create a list of random matrices \n",
    "d = 1024\n",
    "N = 10\n",
    "A = [randn(d,d) + im*randn(d,d) for i in 1:N]\n",
    "\n",
    "sum = zeros(ComplexF64, d,d)\n",
    "@time begin\n",
    "    for i in 1:N\n",
    "        sum .+= A[i]\n",
    "    end\n",
    "end\n",
    "\n",
    "sum2 = zeros(ComplexF64, d,d)\n",
    "@time begin\n",
    "    for i in 1:N\n",
    "        sum2 += A[i]\n",
    "    end\n",
    "end\n",
    "\n",
    "# compare\n",
    "sum == sum2\n"
   ]
  },
  {
   "cell_type": "code",
   "execution_count": 17,
   "metadata": {},
   "outputs": [],
   "source": [
    "num_qubits = 4\n",
    "hamiltonian = find_ideal_heisenberg(num_qubits, fill(1.0, 3), batch_size=1)\n",
    "hamiltonian.bohr_freqs = hamiltonian.eigvals .- transpose(hamiltonian.eigvals)\n",
    "display(hamiltonian.bohr_freqs)\n",
    "\n",
    "@time begin\n",
    "    nu_tensor = zeros(2^num_qubits, 2^num_qubits, 2^num_qubits, 2^num_qubits) \n",
    "    for i in 1:2^num_qubits\n",
    "        for j in 1:2^num_qubits\n",
    "            for k in 1:2^num_qubits\n",
    "                for l in 1:2^num_qubits\n",
    "                    nu_tensor[i, j, k, l] = hamiltonian.bohr_freqs[i, j] - hamiltonian.bohr_freqs[k, l]\n",
    "                end\n",
    "            end\n",
    "        end\n",
    "    end\n",
    "end\n"
   ]
  },
  {
   "cell_type": "code",
   "execution_count": 4,
   "metadata": {},
   "outputs": [
    {
     "ename": "InexactError",
     "evalue": "InexactError: Int64(58.99999999999999)",
     "output_type": "error",
     "traceback": [
      "InexactError: Int64(58.99999999999999)\n",
      "\n",
      "Stacktrace:\n",
      " [1] Int64(x::Float64)\n",
      "   @ Base ./float.jl:912\n",
      " [2] top-level scope\n",
      "   @ ~/code/liouvillian_metro/julia/jl_playground.ipynb:1"
     ]
    }
   ],
   "source": [
    "Int64(58.99999999999999)"
   ]
  },
  {
   "cell_type": "code",
   "execution_count": 3,
   "metadata": {},
   "outputs": [
    {
     "data": {
      "text/plain": [
       "true"
      ]
     },
     "metadata": {},
     "output_type": "display_data"
    }
   ],
   "source": [
    "rand_vector = randn(ComplexF64, 2^4)\n",
    "num_trotter_steps_per_t0 = 20\n",
    "\n",
    "Diagonal(rand_vector)^num_trotter_steps_per_t0 == Diagonal(rand_vector.^num_trotter_steps_per_t0)"
   ]
  },
  {
   "cell_type": "code",
   "execution_count": 14,
   "metadata": {},
   "outputs": [
    {
     "name": "stdout",
     "output_type": "stream",
     "text": [
      "10\n",
      "9\n",
      "8\n",
      "7\n",
      "6\n",
      "5\n",
      "4\n",
      "3\n",
      "2\n",
      "1\n"
     ]
    }
   ],
   "source": [
    "for i in 10:-1:1\n",
    "    println(i)\n",
    "end"
   ]
  },
  {
   "cell_type": "code",
   "execution_count": 7,
   "metadata": {},
   "outputs": [
    {
     "name": "stdout",
     "output_type": "stream",
     "text": [
      "  0.000015 seconds (8 allocations: 136.406 KiB)\n",
      "  0.000124 seconds (9 allocations: 264.406 KiB)\n"
     ]
    },
    {
     "data": {
      "text/plain": [
       "0.0"
      ]
     },
     "metadata": {},
     "output_type": "display_data"
    }
   ],
   "source": [
    "T = 10.\n",
    "num_qubits = 13\n",
    "\n",
    "@time simpler = exp(im * T * 1.2) * I(2^num_qubits) \n",
    "@time more_complicated = exp(im * T * 1.2 * I(2^num_qubits)) \n",
    "dist = norm(simpler - more_complicated)"
   ]
  },
  {
   "cell_type": "code",
   "execution_count": 6,
   "metadata": {},
   "outputs": [
    {
     "data": {
      "text/plain": [
       "5-element Vector{Float64}:\n",
       " 5.4\n",
       " 4.4\n",
       " 3.4000000000000004\n",
       " 2.4000000000000004\n",
       " 1.4000000000000004"
      ]
     },
     "metadata": {},
     "output_type": "display_data"
    }
   ],
   "source": [
    "f = 6.4\n",
    "array = [1, 2, 3, 4, 5]\n",
    "\n",
    "f .- array"
   ]
  },
  {
   "cell_type": "code",
   "execution_count": 27,
   "metadata": {},
   "outputs": [
    {
     "name": "stdout",
     "output_type": "stream",
     "text": [
      "isapprox(imag(myway), zeros(16, 16)) = true\n"
     ]
    },
    {
     "data": {
      "text/plain": [
       "true"
      ]
     },
     "metadata": {},
     "output_type": "display_data"
    }
   ],
   "source": [
    "sigmax::Matrix{ComplexF64} = [0 1; 1 0]\n",
    "sigmay::Matrix{ComplexF64} = [0.0 -im; im 0.0]\n",
    "sigmaz::Matrix{ComplexF64} = [1 0; 0 -1]\n",
    "id = Matrix{ComplexF64}(I(2))\n",
    "\n",
    "myway = kron(sigmay, id, id, sigmay)\n",
    "# is it real\n",
    "@show isapprox(imag(myway), zeros(16, 16))"
   ]
  },
  {
   "cell_type": "code",
   "execution_count": 151,
   "metadata": {},
   "outputs": [
    {
     "data": {
      "text/plain": [
       "4×4 Diagonal{ComplexF64, Vector{ComplexF64}}:\n",
       " 0.540302+0.841471im            ⋅          …            ⋅    \n",
       "          ⋅           -0.989992+0.14112im               ⋅    \n",
       "          ⋅                     ⋅                       ⋅    \n",
       "          ⋅                     ⋅             -0.416147+0.909297im"
      ]
     },
     "metadata": {},
     "output_type": "display_data"
    },
    {
     "data": {
      "text/plain": [
       "Vector{Diagonal{ComplexF64, Vector{ComplexF64}}}\u001b[90m (alias for \u001b[39m\u001b[90mArray{Diagonal{Complex{Float64}, Array{Complex{Float64}, 1}}, 1}\u001b[39m\u001b[90m)\u001b[39m"
      ]
     },
     "metadata": {},
     "output_type": "display_data"
    }
   ],
   "source": [
    "labels = collect(1:1:5)\n",
    "# diags_for_times = transpose(Diagonal(exp.(1im * [1., 1., 1., 2.])) .* labels)\n",
    "diag_exponentiate(t) = Diagonal(exp.(1im * [1., 3., 1., 2.] * t))\n",
    "diag_for_times = diag_exponentiate.(labels)\n",
    "# showall(stdout, diags_for_times[1, :], false)\n",
    "display(diag_for_times[1])\n",
    "typeof(diag_for_times)"
   ]
  },
  {
   "cell_type": "code",
   "execution_count": 149,
   "metadata": {},
   "outputs": [
    {
     "data": {
      "text/plain": [
       "2×2×5 Array{ComplexF64, 3}:\n",
       "[:, :, 1] =\n",
       " 0.0+0.0im  0.0+0.0im\n",
       " 0.0+0.0im  0.0+0.0im\n",
       "\n",
       "[:, :, 2] =\n",
       " 0.0+0.0im  0.0+0.0im\n",
       " 0.0+0.0im  0.0+0.0im\n",
       "\n",
       "[:, :, 3] =\n",
       " 0.0+0.0im  0.0+0.0im\n",
       " 0.0+0.0im  0.0+0.0im\n",
       "\n",
       "[:, :, 4] =\n",
       " 0.0+0.0im  0.0+0.0im\n",
       " 0.0+0.0im  0.0+0.0im\n",
       "\n",
       "[:, :, 5] =\n",
       " 0.0+0.0im  0.0+0.0im\n",
       " 0.0+0.0im  0.0+0.0im"
      ]
     },
     "metadata": {},
     "output_type": "display_data"
    }
   ],
   "source": [
    "# Create 3 dim array\n",
    "F = zeros(ComplexF64, 2, 2, 5)\n",
    "\n"
   ]
  },
  {
   "cell_type": "code",
   "execution_count": 3,
   "metadata": {},
   "outputs": [
    {
     "data": {
      "text/plain": [
       "4×16 Matrix{Int64}:\n",
       "  7   9  11  13  15  17  19  21  23   25   27   29   31   33   35   37\n",
       " 14  18  22  26  30  34  38  42  46   50   54   58   62   66   70   74\n",
       " 21  27  33  39  45  51  57  63  69   75   81   87   93   99  105  111\n",
       " 28  36  44  52  60  68  76  84  92  100  108  116  124  132  140  148"
      ]
     },
     "metadata": {},
     "output_type": "display_data"
    }
   ],
   "source": [
    "time_labels = [1, 2, 3, 4]\n",
    "spectrum = [5 + 2 * i for i in 1:16]\n",
    "transpose(spectrum) .* time_labels\n"
   ]
  },
  {
   "cell_type": "code",
   "execution_count": 48,
   "metadata": {},
   "outputs": [
    {
     "name": "stdout",
     "output_type": "stream",
     "text": [
      "  0.010333 seconds (2.47 k allocations: 178.641 KiB, 98.80% compilation time)\n"
     ]
    },
    {
     "data": {
      "text/plain": [
       "16×10 Matrix{ComplexF64}:\n",
       " -0.288956+8.11876im    2.43233+7.57643im  …    2.02651+7.02675im\n",
       "  -2.31426+10.3405im   0.659788+9.44323im      0.722303+8.56549im\n",
       "  0.480568+8.31066im   0.654993+7.54983im       1.20201+7.33919im\n",
       " -0.343589+7.22817im    1.31214+6.2675im        2.18496+5.90561im\n",
       "  -1.15894+9.08584im  -0.113593+8.98344im       1.68548+7.74724im\n",
       " -0.649139+8.34972im    1.05852+7.04113im  …   0.294465+7.06226im\n",
       "   -1.5635+7.09719im  -0.380816+8.1343im       -0.30895+7.74422im\n",
       "  -4.36608+8.41464im  -0.916562+8.81981im     -0.901213+7.93934im\n",
       " -0.416516+7.79108im    1.79739+7.45979im       1.34766+6.56564im\n",
       "  0.398676+8.49733im    2.37999+7.59483im       2.81553+7.60292im\n",
       "  -1.11497+9.439im      0.12202+7.14709im  …    1.10528+7.70629im\n",
       "   -3.0999+8.29288im  -0.703854+7.54712im      0.499334+7.62714im\n",
       "  0.194035+7.5628im     1.88111+7.04856im       2.47727+6.64518im\n",
       "  -1.90148+8.61615im   0.246544+8.58332im       2.10259+7.35138im\n",
       " -0.397386+7.42992im    1.03936+6.98307im      0.608549+6.13351im\n",
       "  -1.11037+8.76365im   0.878072+7.27747im  …   0.488862+6.8934im"
      ]
     },
     "metadata": {},
     "output_type": "display_data"
    }
   ],
   "source": [
    "Random.seed!(666)\n",
    "# 2 random vectors\n",
    "size = 16\n",
    "A2 = rand(ComplexF64, size, size)\n",
    "A3 = rand(ComplexF64, size, size)\n",
    "v1 = rand(ComplexF64, size)\n",
    "\n",
    "A = rand(ComplexF64, size, size)\n",
    "B = rand(ComplexF64, size, size)\n",
    "time_labels = rand(ComplexF64, 10)\n",
    "D = rand(ComplexF64, 10, size)\n",
    "t_vec1 = rand(ComplexF64, 10)\n",
    "t_vec2 = rand(ComplexF64, 10)\n",
    "t_vec_comb = t_vec1 .* t_vec2\n",
    "\n",
    "\n",
    "@time @tensor begin \n",
    "    oft_op[j, n] := t_vec_comb[t] * A[j, a] * D[t, a] * B[a, b] * adjoint(D)[t, b] * adjoint(A)[b, n]\n",
    "end \n",
    "\n",
    "@time @tensor begin \n",
    "    oft_op[:] := t_vec_comb[t] * A[-1, a] * D[t, 2] * B[2, 1] * adjoint(D)[t, 1] * adjoint(A)[4, -2]\n",
    "end \n",
    "\n",
    "# @tensor begin\n",
    "#     res[:] := time_labels[2] * A1[-1, 1] * D[2, 1] * adjoint(A1)[1, -2]\n",
    "#     # res[:] := A1[-1, 1] * v1[1]\n",
    "# end\n",
    "\n",
    "# @tensor begin\n",
    "#     res[k] := A1[i, j] * v1[j] * v1[i] * v1[k]\n",
    "# end\n",
    "# display(res)\n",
    "\n",
    "# Compare \n",
    "# res2 = sum(v1 .* v1)"
   ]
  },
  {
   "cell_type": "code",
   "execution_count": 51,
   "metadata": {},
   "outputs": [
    {
     "name": "stdout",
     "output_type": "stream",
     "text": [
      "0.7870638398897274\n",
      "0.7665813161470543\n",
      "8.419659768788073\n",
      "0.7654236153443704\n"
     ]
    }
   ],
   "source": [
    "n = 4\n",
    "# generate random n qubit density Matrix\n",
    "\n",
    "rho = rand(2^n, 2^n) + 1im * rand(2^n, 2^n)\n",
    "rho = rho * rho'\n",
    "rho = rho / tr(rho)\n",
    "rho = Hermitian(rho)\n",
    "println(maximum(eigvals(rho)))\n",
    "\n",
    "sigma = rand(2^n, 2^n) + 1im * rand(2^n, 2^n)\n",
    "sigma = sigma * sigma'\n",
    "sigma = sigma / tr(sigma)\n",
    "sigma = Hermitian(sigma)\n",
    "println(maximum(eigvals(sigma)))\n",
    "\n",
    "summed = rho + 10 * sigma\n",
    "println(maximum(eigvals(summed)))\n",
    "summed = summed / tr(summed)\n",
    "summed = Hermitian(summed)\n",
    "println(maximum(eigvals(summed)))\n"
   ]
  },
  {
   "cell_type": "code",
   "execution_count": 52,
   "metadata": {},
   "outputs": [
    {
     "data": {
      "text/plain": [
       "2×2 Matrix{Float64}:\n",
       " 0.9  1.2\n",
       " 0.8  1.1"
      ]
     },
     "metadata": {},
     "output_type": "display_data"
    },
    {
     "data": {
      "text/plain": [
       "2×2 Matrix{Float64}:\n",
       " 2.7  4.8\n",
       " 4.0  7.7"
      ]
     },
     "metadata": {},
     "output_type": "display_data"
    }
   ],
   "source": [
    "jump = [3 4; 5 7]\n",
    "bohr_freqs = [0.1 -0.2; 0.2 -0.1]\n",
    "sigma = 5\n",
    "energy = 1.\n",
    "\n",
    "display(energy .- bohr_freqs)\n",
    "\n",
    "jump.* (energy .- bohr_freqs)"
   ]
  },
  {
   "cell_type": "code",
   "execution_count": 44,
   "metadata": {},
   "outputs": [
    {
     "data": {
      "text/plain": [
       "Dict{Any, Any} with 10 entries:\n",
       "  5  => 0.353112\n",
       "  4  => 0.894245\n",
       "  6  => 0.394255\n",
       "  7  => 0.953125\n",
       "  2  => 0.549051\n",
       "  10 => 0.748415\n",
       "  9  => 0.49425\n",
       "  8  => 0.795547\n",
       "  3  => 0.218587\n",
       "  1  => 0.325977"
      ]
     },
     "metadata": {},
     "output_type": "display_data"
    },
    {
     "data": {
      "text/plain": [
       "10"
      ]
     },
     "metadata": {},
     "output_type": "display_data"
    }
   ],
   "source": [
    "# random dict\n",
    "function random_dict(n)\n",
    "    d = Dict()\n",
    "    for i in 1:n\n",
    "        d[i] = rand()\n",
    "    end\n",
    "    return d\n",
    "end\n",
    "\n",
    "Random.seed!(1234)\n",
    "rand_dict = random_dict(10)\n",
    "display(rand_dict)\n",
    "rand(keys(rand_dict))"
   ]
  },
  {
   "cell_type": "code",
   "execution_count": 4,
   "metadata": {},
   "outputs": [
    {
     "data": {
      "text/plain": [
       "-1.77e-10"
      ]
     },
     "metadata": {},
     "output_type": "display_data"
    }
   ],
   "source": [
    "# 2 very small floating point number\n",
    "a = 1.1e-10\n",
    "b = 2.1e-10\n",
    "c = 3.3e-11\n",
    "l = [a, b, c]\n",
    "minimum(diff(l))"
   ]
  },
  {
   "cell_type": "code",
   "execution_count": 2,
   "metadata": {},
   "outputs": [
    {
     "name": "stdout",
     "output_type": "stream",
     "text": [
      "  8.671321 seconds (489.82 M allocations: 8.789 GiB, 5.95% gc time)\n",
      "  9.001961 seconds (489.82 M allocations: 8.789 GiB, 5.09% gc time)\n"
     ]
    }
   ],
   "source": [
    "#Create a random matrix\n",
    "size = 10000\n",
    "A = randn(size,size)\n",
    "\n",
    "@time begin\n",
    "    for j in 1:size\n",
    "        for i in 1:size\n",
    "            A[i,j] = A[i,j] + 1\n",
    "        end\n",
    "    end\n",
    "end\n",
    "\n",
    "@time begin\n",
    "    for i in 1:size, j in 1:size\n",
    "        A[i,j] = A[i,j] + 1\n",
    "    end\n",
    "end"
   ]
  },
  {
   "cell_type": "code",
   "execution_count": 13,
   "metadata": {},
   "outputs": [
    {
     "name": "stdout",
     "output_type": "stream",
     "text": [
      "[-1.44 -2.44 -3.44]\n",
      "[2.0736 5.9536 11.833599999999999]\n",
      "[-0.5184 -1.4884 -2.9583999999999997]\n"
     ]
    }
   ],
   "source": [
    "energy = -0.44\n",
    "a = [1. 2. 3.]\n",
    "println(energy .- a)\n",
    "println((energy .- a).^2)\n",
    "println(-(energy .- a).^2 * 0.5^2)"
   ]
  },
  {
   "cell_type": "code",
   "execution_count": 1,
   "metadata": {},
   "outputs": [
    {
     "name": "stdout",
     "output_type": "stream",
     "text": [
      "Entry at (2, 3): 5\n"
     ]
    }
   ],
   "source": [
    "using SparseArrays\n",
    "\n",
    "# Create a sparse matrix\n",
    "A = sparse([1, 2, 3], [2, 3, 1], [4, 5, 6])\n",
    "\n",
    "# Access the (i, j) entry\n",
    "i = 2\n",
    "j = 3\n",
    "entry_ij = A[i, j]\n",
    "\n",
    "println(\"Entry at ($i, $j): \", entry_ij)\n"
   ]
  },
  {
   "cell_type": "code",
   "execution_count": 76,
   "metadata": {},
   "outputs": [
    {
     "data": {
      "text/plain": [
       "1×4 Matrix{Int64}:\n",
       " 1  2  3  4"
      ]
     },
     "metadata": {},
     "output_type": "display_data"
    },
    {
     "data": {
      "text/plain": [
       "1×4 Matrix{Int64}:\n",
       " 2  3  4  5"
      ]
     },
     "metadata": {},
     "output_type": "display_data"
    },
    {
     "data": {
      "text/plain": [
       "4×4 Matrix{Int64}:\n",
       "  0   1   2  3\n",
       " -1   0   1  2\n",
       " -2  -1   0  1\n",
       " -3  -2  -1  0"
      ]
     },
     "metadata": {},
     "output_type": "display_data"
    }
   ],
   "source": [
    "a = [1 2 3 4]\n",
    "b = [2 3 4 5]\n",
    "\n",
    "display(a)\n",
    "display(b)\n",
    "a .- transpose(a)"
   ]
  },
  {
   "cell_type": "code",
   "execution_count": 13,
   "metadata": {},
   "outputs": [
    {
     "ename": "ErrorException",
     "evalue": "syntax: \"...\" expression outside call around /Users/bence/code/liouvillian_metro/julia/jl_playground.ipynb:2",
     "output_type": "error",
     "traceback": [
      "syntax: \"...\" expression outside call around /Users/bence/code/liouvillian_metro/julia/jl_playground.ipynb:2\n",
      "\n",
      "Stacktrace:\n",
      " [1] top-level scope\n",
      "   @ ~/code/liouvillian_metro/julia/jl_playground.ipynb:2"
     ]
    }
   ],
   "source": [
    "a = [[1, 2] [3, 4]]\n",
    "a..."
   ]
  },
  {
   "cell_type": "code",
   "execution_count": 8,
   "metadata": {},
   "outputs": [
    {
     "data": {
      "text/plain": [
       "(dim=4|id=146|\"index_n\")"
      ]
     },
     "metadata": {},
     "output_type": "display_data"
    }
   ],
   "source": [
    "i = Index(2,\"index_i\"); j = Index(2,\"index_j\"); m = Index(4,\"index_m\"); n = Index(4,\"index_n\")"
   ]
  },
  {
   "cell_type": "code",
   "execution_count": 7,
   "metadata": {},
   "outputs": [
    {
     "data": {
      "text/plain": [
       "8×8 Matrix{Float64}:\n",
       "  45.0   50.0   54.0   60.0   90.0  100.0  108.0  120.0\n",
       "  55.0   60.0   66.0   72.0  110.0  120.0  132.0  144.0\n",
       "  63.0   70.0   72.0   80.0  126.0  140.0  144.0  160.0\n",
       "  77.0   84.0   88.0   96.0  154.0  168.0  176.0  192.0\n",
       " 135.0  150.0  162.0  180.0  180.0  200.0  216.0  240.0\n",
       " 165.0  180.0  198.0  216.0  220.0  240.0  264.0  288.0\n",
       " 189.0  210.0  216.0  240.0  252.0  280.0  288.0  320.0\n",
       " 231.0  252.0  264.0  288.0  308.0  336.0  352.0  384.0"
      ]
     },
     "metadata": {},
     "output_type": "display_data"
    },
    {
     "data": {
      "text/plain": [
       "2×2 Matrix{Float64}:\n",
       "  45.0  120.0\n",
       " 231.0  384.0"
      ]
     },
     "metadata": {},
     "output_type": "display_data"
    }
   ],
   "source": [
    "M = [1.0 2.0; 3.0 4.0]\n",
    "N = [5.0 6.0; 7.0 8.0]\n",
    "L = [9.0 10.0; 11.0 12.0]\n",
    "\n",
    "tensorprod_linalg = kron(kron(M, N), L)\n",
    "display(tensorprod_linalg)\n",
    "\n",
    "\n",
    "# res = M .* N \n",
    "# display(res)\n"
   ]
  },
  {
   "cell_type": "code",
   "execution_count": 51,
   "metadata": {},
   "outputs": [
    {
     "name": "stdout",
     "output_type": "stream",
     "text": [
      "Matrix{ComplexF64}\n",
      "0.5726465858035323 + 0.35776898836267246im\n"
     ]
    },
    {
     "data": {
      "text/plain": [
       "gaussian2 (generic function with 1 method)"
      ]
     },
     "metadata": {},
     "output_type": "display_data"
    }
   ],
   "source": [
    "num_qubits = 15\n",
    "dim = 2^num_qubits\n",
    "sigma = 0.1\n",
    "\n",
    "Random.seed!(666)\n",
    "random_matrix = rand(ComplexF64, dim, dim)\n",
    "println(typeof(random_matrix))\n",
    "println(random_matrix[1, 1])\n",
    "# Apply a vectorized function to the matrix, that weights the entries with a Gaussian\n",
    "function gaussian(matrix::Matrix{ComplexF64}, sigma::Float64)\n",
    "    return exp.(-abs2.(matrix) / (2 * sigma^2))\n",
    "end\n",
    "\n",
    "function gaussian2(matrix_entry::ComplexF64, sigma::Float64)\n",
    "    return exp(-abs2(matrix_entry) / (2 * sigma^2))\n",
    "end"
   ]
  },
  {
   "cell_type": "code",
   "execution_count": 52,
   "metadata": {},
   "outputs": [],
   "source": [
    "# time it\n",
    "@time weighted_matrix = gaussian(random_matrix, sigma)\n",
    "@time weighted_matrix2 = gaussian2.(random_matrix, sigma)\n",
    "\n",
    "#Check if they are the same\n",
    "println(weighted_matrix == weighted_matrix2)"
   ]
  }
 ],
 "metadata": {
  "kernelspec": {
   "display_name": "Julia 1.10.4",
   "language": "julia",
   "name": "julia-1.10"
  },
  "language_info": {
   "file_extension": ".jl",
   "mimetype": "application/julia",
   "name": "julia",
   "version": "1.10.4"
  }
 },
 "nbformat": 4,
 "nbformat_minor": 2
}
