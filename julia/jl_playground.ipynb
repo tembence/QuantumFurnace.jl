{
 "cells": [
  {
   "cell_type": "code",
   "execution_count": 1,
   "metadata": {},
   "outputs": [
    {
     "data": {
      "text/plain": [
       "showall (generic function with 2 methods)"
      ]
     },
     "metadata": {},
     "output_type": "display_data"
    }
   ],
   "source": [
    "using LinearAlgebra\n",
    "using Random\n",
    "using Printf\n",
    "using JLD\n",
    "using TensorOperations\n",
    "using Base.Iterators\n",
    "using Random\n",
    "using SpecialFunctions: erfc\n",
    "include(\"hamiltonian.jl\")\n",
    "include(\"qi_tools.jl\")\n",
    "include(\"thermalize_with_alg.jl\")\n",
    "\n",
    "function showall(io, x, limit = false) \n",
    "    println(io, summary(x), \":\")\n",
    "    Base.print_matrix(IOContext(io, :limit => limit), x)\n",
    "end\n",
    "  "
   ]
  },
  {
   "cell_type": "code",
   "execution_count": 5,
   "metadata": {},
   "outputs": [
    {
     "data": {
      "text/plain": [
       "11-element Vector{Complex{Int64}}:\n",
       " 1 + 0im\n",
       " 1 + 0im\n",
       " 1 + 1im\n",
       " 1 + 1im\n",
       " 1 + 1im\n",
       " 1 + 1im\n",
       " 1 + 1im\n",
       " 1 + 1im\n",
       " 1 + 1im\n",
       " 1 + 0im\n",
       " 1 + 0im"
      ]
     },
     "metadata": {},
     "output_type": "display_data"
    }
   ],
   "source": [
    "f(t, eta) = 1 + (abs(t) <= eta) * 1im\n",
    "eta = 0.3\n",
    "times = [-0.5:0.1:0.5;]\n",
    "f.(times, eta)"
   ]
  },
  {
   "cell_type": "code",
   "execution_count": 51,
   "metadata": {},
   "outputs": [
    {
     "data": {
      "text/plain": [
       "4×4 Diagonal{Float64, Vector{Float64}}:\n",
       " 0.794439   ⋅         ⋅         ⋅ \n",
       "  ⋅        0.892163   ⋅         ⋅ \n",
       "  ⋅         ⋅        0.910135   ⋅ \n",
       "  ⋅         ⋅         ⋅        0.992077"
      ]
     },
     "metadata": {},
     "output_type": "display_data"
    },
    {
     "data": {
      "text/plain": [
       "4×4 Matrix{Float64}:\n",
       " 0.794439  1.0       1.0       1.0\n",
       " 1.0       0.892163  1.0       1.0\n",
       " 1.0       1.0       0.910135  1.0\n",
       " 1.0       1.0       1.0       0.992077"
      ]
     },
     "metadata": {},
     "output_type": "display_data"
    },
    {
     "name": "stdout",
     "output_type": "stream",
     "text": [
      "3.4641016151377544\n"
     ]
    }
   ],
   "source": [
    "\n",
    "dim = 2^2\n",
    "random_eigvals = rand(dim)\n",
    "random_matrix = Diagonal(rand(dim, dim))\n",
    "id = I(dim)\n",
    "norm(sin.(random_matrix) * cos.(2 * random_matrix) * id - id * cos.(2 * random_matrix) * sin.(random_matrix))\n",
    "# norm(sin(random_matrix) * cos(2 * random_matrix) * id - id * cos(2 * random_matrix) * sin(random_matrix))\n",
    "# norm(sin(2 * random_matrix) - sin.(2 * random_matrix))\n",
    "println(norm(cos(random_matrix) - cos.(random_matrix)))\n",
    "display(cos(random_matrix))\n",
    "display(cos.(random_matrix))\n"
   ]
  },
  {
   "cell_type": "code",
   "execution_count": 17,
   "metadata": {},
   "outputs": [
    {
     "name": "stdout",
     "output_type": "stream",
     "text": [
      "  3.397559 seconds (2 allocations: 8.000 GiB, 11.62% gc time)\n",
      "  0.000228 seconds (5 allocations: 32.562 KiB)\n",
      "  0.000029 seconds (5 allocations: 32.562 KiB)\n",
      "  0.127051 seconds (134.30 k allocations: 9.009 MiB, 99.86% compilation time)\n",
      "really"
     ]
    }
   ],
   "source": [
    "dim = 2^30\n",
    "random_eigvals = @time rand(dim)\n",
    "U(t) = Diagonal(exp.(1im * t * random_matrix))\n",
    "U_t = @time U(1.0)\n",
    "U_minus2t = @time U(-2.0)\n",
    "U_minus2t_from_1t = @time U_t^(-2.0)\n",
    "@printf(\"really\")"
   ]
  },
  {
   "cell_type": "code",
   "execution_count": 13,
   "metadata": {},
   "outputs": [
    {
     "data": {
      "text/plain": [
       "1×8 Matrix{ComplexF64}:\n",
       " 1.0+0.0im  2.0+0.0im  3.0+0.0im  …  6.0+0.0im  7.0+0.0im  8.0+0.0im"
      ]
     },
     "metadata": {},
     "output_type": "display_data"
    },
    {
     "data": {
      "text/plain": [
       "1×8 Matrix{ComplexF64}:\n",
       " 1.0+1.0im  2.0+0.5im  3.0+0.333333im  …  6.0+0.0im  7.0+0.0im  8.0+0.0im"
      ]
     },
     "metadata": {},
     "output_type": "display_data"
    }
   ],
   "source": [
    "A = Matrix{ComplexF64}([1 2 3 4 5 6 7 8])\n",
    "display(A)\n",
    "eta = 3\n",
    "indices = findall(x -> abs(x) <= eta, A)\n",
    "\n",
    "A[indices] .+= (0.0 + 1.0im) ./ A[indices]\n",
    "display(A)"
   ]
  },
  {
   "cell_type": "code",
   "execution_count": null,
   "metadata": {},
   "outputs": [],
   "source": []
  },
  {
   "cell_type": "code",
   "execution_count": 16,
   "metadata": {},
   "outputs": [
    {
     "data": {
      "image/png": "[encoded data removed]",
      "image/svg+xml": [
       "<?xml version=\"1.0\" encoding=\"utf-8\"?>\n",
       "<svg xmlns=\"http://www.w3.org/2000/svg\" xmlns:xlink=\"http://www.w3.org/1999/xlink\" width=\"600\" height=\"400\" viewBox=\"0 0 2400 1600\">\n",
       "<defs>\n",
       "  <clipPath id=\"clip330\">\n",
       "    <rect x=\"0\" y=\"0\" width=\"2400\" height=\"1600\"/>\n",
       "  </clipPath>\n",
       "</defs>\n",
       "<path clip-path=\"url(#clip330)\" d=\"M0 1600 L2400 1600 L2400 8.88178e-14 L0 8.88178e-14  Z\" fill=\"#ffffff\" fill-rule=\"evenodd\" fill-opacity=\"1\"/>\n",
       "<defs>\n",
       "  <clipPath id=\"clip331\">\n",
       "    <rect x=\"480\" y=\"0\" width=\"1681\" height=\"1600\"/>\n",
       "  </clipPath>\n",
       "</defs>\n",
       "<path clip-path=\"url(#clip330)\" d=\"M186.274 1486.45 L2352.76 1486.45 L2352.76 47.2441 L186.274 47.2441  Z\" fill=\"#ffffff\" fill-rule=\"evenodd\" fill-opacity=\"1\"/>\n",
       "<defs>\n",
       "  <clipPath id=\"clip332\">\n",
       "    <rect x=\"186\" y=\"47\" width=\"2167\" height=\"1440\"/>\n",
       "  </clipPath>\n",
       "</defs>\n",
       "<polyline clip-path=\"url(#clip332)\" style=\"stroke:#000000; stroke-linecap:round; stroke-linejoin:round; stroke-width:2; stroke-opacity:0.1; fill:none\" points=\"247.59,1486.45 247.59,47.2441 \"/>\n",
       "<polyline clip-path=\"url(#clip332)\" style=\"stroke:#000000; stroke-linecap:round; stroke-linejoin:round; stroke-width:2; stroke-opacity:0.1; fill:none\" points=\"758.552,1486.45 758.552,47.2441 \"/>\n",
       "<polyline clip-path=\"url(#clip332)\" style=\"stroke:#000000; stroke-linecap:round; stroke-linejoin:round; stroke-width:2; stroke-opacity:0.1; fill:none\" points=\"1269.51,1486.45 1269.51,47.2441 \"/>\n",
       "<polyline clip-path=\"url(#clip332)\" style=\"stroke:#000000; stroke-linecap:round; stroke-linejoin:round; stroke-width:2; stroke-opacity:0.1; fill:none\" points=\"1780.48,1486.45 1780.48,47.2441 \"/>\n",
       "<polyline clip-path=\"url(#clip332)\" style=\"stroke:#000000; stroke-linecap:round; stroke-linejoin:round; stroke-width:2; stroke-opacity:0.1; fill:none\" points=\"2291.44,1486.45 2291.44,47.2441 \"/>\n",
       "<polyline clip-path=\"url(#clip332)\" style=\"stroke:#000000; stroke-linecap:round; stroke-linejoin:round; stroke-width:2; stroke-opacity:0.1; fill:none\" points=\"186.274,1445.75 2352.76,1445.75 \"/>\n",
       "<polyline clip-path=\"url(#clip332)\" style=\"stroke:#000000; stroke-linecap:round; stroke-linejoin:round; stroke-width:2; stroke-opacity:0.1; fill:none\" points=\"186.274,1106.31 2352.76,1106.31 \"/>\n",
       "<polyline clip-path=\"url(#clip332)\" style=\"stroke:#000000; stroke-linecap:round; stroke-linejoin:round; stroke-width:2; stroke-opacity:0.1; fill:none\" points=\"186.274,766.865 2352.76,766.865 \"/>\n",
       "<polyline clip-path=\"url(#clip332)\" style=\"stroke:#000000; stroke-linecap:round; stroke-linejoin:round; stroke-width:2; stroke-opacity:0.1; fill:none\" points=\"186.274,427.42 2352.76,427.42 \"/>\n",
       "<polyline clip-path=\"url(#clip332)\" style=\"stroke:#000000; stroke-linecap:round; stroke-linejoin:round; stroke-width:2; stroke-opacity:0.1; fill:none\" points=\"186.274,87.9763 2352.76,87.9763 \"/>\n",
       "<polyline clip-path=\"url(#clip330)\" style=\"stroke:#000000; stroke-linecap:round; stroke-linejoin:round; stroke-width:4; stroke-opacity:1; fill:none\" points=\"186.274,1486.45 2352.76,1486.45 \"/>\n",
       "<polyline clip-path=\"url(#clip330)\" style=\"stroke:#000000; stroke-linecap:round; stroke-linejoin:round; stroke-width:4; stroke-opacity:1; fill:none\" points=\"247.59,1486.45 247.59,1467.55 \"/>\n",
       "<polyline clip-path=\"url(#clip330)\" style=\"stroke:#000000; stroke-linecap:round; stroke-linejoin:round; stroke-width:4; stroke-opacity:1; fill:none\" points=\"758.552,1486.45 758.552,1467.55 \"/>\n",
       "<polyline clip-path=\"url(#clip330)\" style=\"stroke:#000000; stroke-linecap:round; stroke-linejoin:round; stroke-width:4; stroke-opacity:1; fill:none\" points=\"1269.51,1486.45 1269.51,1467.55 \"/>\n",
       "<polyline clip-path=\"url(#clip330)\" style=\"stroke:#000000; stroke-linecap:round; stroke-linejoin:round; stroke-width:4; stroke-opacity:1; fill:none\" points=\"1780.48,1486.45 1780.48,1467.55 \"/>\n",
       "<polyline clip-path=\"url(#clip330)\" style=\"stroke:#000000; stroke-linecap:round; stroke-linejoin:round; stroke-width:4; stroke-opacity:1; fill:none\" points=\"2291.44,1486.45 2291.44,1467.55 \"/>\n",
       "<path clip-path=\"url(#clip330)\" d=\"M194.118 1532.02 L223.793 1532.02 L223.793 1535.95 L194.118 1535.95 L194.118 1532.02 Z\" fill=\"#000000\" fill-rule=\"nonzero\" fill-opacity=\"1\" /><path clip-path=\"url(#clip330)\" d=\"M234.696 1544.91 L242.335 1544.91 L242.335 1518.55 L234.025 1520.21 L234.025 1515.95 L242.289 1514.29 L246.965 1514.29 L246.965 1544.91 L254.603 1544.91 L254.603 1548.85 L234.696 1548.85 L234.696 1544.91 Z\" fill=\"#000000\" fill-rule=\"nonzero\" fill-opacity=\"1\" /><path clip-path=\"url(#clip330)\" d=\"M264.048 1542.97 L268.932 1542.97 L268.932 1548.85 L264.048 1548.85 L264.048 1542.97 Z\" fill=\"#000000\" fill-rule=\"nonzero\" fill-opacity=\"1\" /><path clip-path=\"url(#clip330)\" d=\"M289.117 1517.37 Q285.506 1517.37 283.677 1520.93 Q281.872 1524.47 281.872 1531.6 Q281.872 1538.71 283.677 1542.27 Q285.506 1545.82 289.117 1545.82 Q292.751 1545.82 294.557 1542.27 Q296.386 1538.71 296.386 1531.6 Q296.386 1524.47 294.557 1520.93 Q292.751 1517.37 289.117 1517.37 M289.117 1513.66 Q294.927 1513.66 297.983 1518.27 Q301.061 1522.85 301.061 1531.6 Q301.061 1540.33 297.983 1544.94 Q294.927 1549.52 289.117 1549.52 Q283.307 1549.52 280.228 1544.94 Q277.173 1540.33 277.173 1531.6 Q277.173 1522.85 280.228 1518.27 Q283.307 1513.66 289.117 1513.66 Z\" fill=\"#000000\" fill-rule=\"nonzero\" fill-opacity=\"1\" /><path clip-path=\"url(#clip330)\" d=\"M705.578 1532.02 L735.254 1532.02 L735.254 1535.95 L705.578 1535.95 L705.578 1532.02 Z\" fill=\"#000000\" fill-rule=\"nonzero\" fill-opacity=\"1\" /><path clip-path=\"url(#clip330)\" d=\"M755.346 1517.37 Q751.735 1517.37 749.906 1520.93 Q748.101 1524.47 748.101 1531.6 Q748.101 1538.71 749.906 1542.27 Q751.735 1545.82 755.346 1545.82 Q758.98 1545.82 760.786 1542.27 Q762.615 1538.71 762.615 1531.6 Q762.615 1524.47 760.786 1520.93 Q758.98 1517.37 755.346 1517.37 M755.346 1513.66 Q761.156 1513.66 764.212 1518.27 Q767.291 1522.85 767.291 1531.6 Q767.291 1540.33 764.212 1544.94 Q761.156 1549.52 755.346 1549.52 Q749.536 1549.52 746.457 1544.94 Q743.402 1540.33 743.402 1531.6 Q743.402 1522.85 746.457 1518.27 Q749.536 1513.66 755.346 1513.66 Z\" fill=\"#000000\" fill-rule=\"nonzero\" fill-opacity=\"1\" /><path clip-path=\"url(#clip330)\" d=\"M775.508 1542.97 L780.392 1542.97 L780.392 1548.85 L775.508 1548.85 L775.508 1542.97 Z\" fill=\"#000000\" fill-rule=\"nonzero\" fill-opacity=\"1\" /><path clip-path=\"url(#clip330)\" d=\"M790.624 1514.29 L808.98 1514.29 L808.98 1518.22 L794.906 1518.22 L794.906 1526.7 Q795.925 1526.35 796.943 1526.19 Q797.962 1526 798.98 1526 Q804.767 1526 808.147 1529.17 Q811.526 1532.34 811.526 1537.76 Q811.526 1543.34 808.054 1546.44 Q804.582 1549.52 798.263 1549.52 Q796.087 1549.52 793.818 1549.15 Q791.573 1548.78 789.166 1548.04 L789.166 1543.34 Q791.249 1544.47 793.471 1545.03 Q795.693 1545.58 798.17 1545.58 Q802.175 1545.58 804.513 1543.48 Q806.851 1541.37 806.851 1537.76 Q806.851 1534.15 804.513 1532.04 Q802.175 1529.94 798.17 1529.94 Q796.295 1529.94 794.42 1530.35 Q792.568 1530.77 790.624 1531.65 L790.624 1514.29 Z\" fill=\"#000000\" fill-rule=\"nonzero\" fill-opacity=\"1\" /><path clip-path=\"url(#clip330)\" d=\"M1246.9 1517.37 Q1243.29 1517.37 1241.46 1520.93 Q1239.65 1524.47 1239.65 1531.6 Q1239.65 1538.71 1241.46 1542.27 Q1243.29 1545.82 1246.9 1545.82 Q1250.53 1545.82 1252.34 1542.27 Q1254.17 1538.71 1254.17 1531.6 Q1254.17 1524.47 1252.34 1520.93 Q1250.53 1517.37 1246.9 1517.37 M1246.9 1513.66 Q1252.71 1513.66 1255.77 1518.27 Q1258.84 1522.85 1258.84 1531.6 Q1258.84 1540.33 1255.77 1544.94 Q1252.71 1549.52 1246.9 1549.52 Q1241.09 1549.52 1238.01 1544.94 Q1234.95 1540.33 1234.95 1531.6 Q1234.95 1522.85 1238.01 1518.27 Q1241.09 1513.66 1246.9 1513.66 Z\" fill=\"#000000\" fill-rule=\"nonzero\" fill-opacity=\"1\" /><path clip-path=\"url(#clip330)\" d=\"M1267.06 1542.97 L1271.95 1542.97 L1271.95 1548.85 L1267.06 1548.85 L1267.06 1542.97 Z\" fill=\"#000000\" fill-rule=\"nonzero\" fill-opacity=\"1\" /><path clip-path=\"url(#clip330)\" d=\"M1292.13 1517.37 Q1288.52 1517.37 1286.69 1520.93 Q1284.89 1524.47 1284.89 1531.6 Q1284.89 1538.71 1286.69 1542.27 Q1288.52 1545.82 1292.13 1545.82 Q1295.76 1545.82 1297.57 1542.27 Q1299.4 1538.71 1299.4 1531.6 Q1299.4 1524.47 1297.57 1520.93 Q1295.76 1517.37 1292.13 1517.37 M1292.13 1513.66 Q1297.94 1513.66 1301 1518.27 Q1304.07 1522.85 1304.07 1531.6 Q1304.07 1540.33 1301 1544.94 Q1297.94 1549.52 1292.13 1549.52 Q1286.32 1549.52 1283.24 1544.94 Q1280.19 1540.33 1280.19 1531.6 Q1280.19 1522.85 1283.24 1518.27 Q1286.32 1513.66 1292.13 1513.66 Z\" fill=\"#000000\" fill-rule=\"nonzero\" fill-opacity=\"1\" /><path clip-path=\"url(#clip330)\" d=\"M1758.36 1517.37 Q1754.75 1517.37 1752.92 1520.93 Q1751.11 1524.47 1751.11 1531.6 Q1751.11 1538.71 1752.92 1542.27 Q1754.75 1545.82 1758.36 1545.82 Q1761.99 1545.82 1763.8 1542.27 Q1765.63 1538.71 1765.63 1531.6 Q1765.63 1524.47 1763.8 1520.93 Q1761.99 1517.37 1758.36 1517.37 M1758.36 1513.66 Q1764.17 1513.66 1767.23 1518.27 Q1770.3 1522.85 1770.3 1531.6 Q1770.3 1540.33 1767.23 1544.94 Q1764.17 1549.52 1758.36 1549.52 Q1752.55 1549.52 1749.47 1544.94 Q1746.42 1540.33 1746.42 1531.6 Q1746.42 1522.85 1749.47 1518.27 Q1752.55 1513.66 1758.36 1513.66 Z\" fill=\"#000000\" fill-rule=\"nonzero\" fill-opacity=\"1\" /><path clip-path=\"url(#clip330)\" d=\"M1778.52 1542.97 L1783.41 1542.97 L1783.41 1548.85 L1778.52 1548.85 L1778.52 1542.97 Z\" fill=\"#000000\" fill-rule=\"nonzero\" fill-opacity=\"1\" /><path clip-path=\"url(#clip330)\" d=\"M1793.64 1514.29 L1811.99 1514.29 L1811.99 1518.22 L1797.92 1518.22 L1797.92 1526.7 Q1798.94 1526.35 1799.96 1526.19 Q1800.98 1526 1801.99 1526 Q1807.78 1526 1811.16 1529.17 Q1814.54 1532.34 1814.54 1537.76 Q1814.54 1543.34 1811.07 1546.44 Q1807.6 1549.52 1801.28 1549.52 Q1799.1 1549.52 1796.83 1549.15 Q1794.59 1548.78 1792.18 1548.04 L1792.18 1543.34 Q1794.26 1544.47 1796.48 1545.03 Q1798.71 1545.58 1801.18 1545.58 Q1805.19 1545.58 1807.53 1543.48 Q1809.86 1541.37 1809.86 1537.76 Q1809.86 1534.15 1807.53 1532.04 Q1805.19 1529.94 1801.18 1529.94 Q1799.31 1529.94 1797.43 1530.35 Q1795.58 1530.77 1793.64 1531.65 L1793.64 1514.29 Z\" fill=\"#000000\" fill-rule=\"nonzero\" fill-opacity=\"1\" /><path clip-path=\"url(#clip330)\" d=\"M2258.59 1544.91 L2266.23 1544.91 L2266.23 1518.55 L2257.92 1520.21 L2257.92 1515.95 L2266.19 1514.29 L2270.86 1514.29 L2270.86 1544.91 L2278.5 1544.91 L2278.5 1548.85 L2258.59 1548.85 L2258.59 1544.91 Z\" fill=\"#000000\" fill-rule=\"nonzero\" fill-opacity=\"1\" /><path clip-path=\"url(#clip330)\" d=\"M2287.95 1542.97 L2292.83 1542.97 L2292.83 1548.85 L2287.95 1548.85 L2287.95 1542.97 Z\" fill=\"#000000\" fill-rule=\"nonzero\" fill-opacity=\"1\" /><path clip-path=\"url(#clip330)\" d=\"M2313.01 1517.37 Q2309.4 1517.37 2307.57 1520.93 Q2305.77 1524.47 2305.77 1531.6 Q2305.77 1538.71 2307.57 1542.27 Q2309.4 1545.82 2313.01 1545.82 Q2316.65 1545.82 2318.45 1542.27 Q2320.28 1538.71 2320.28 1531.6 Q2320.28 1524.47 2318.45 1520.93 Q2316.65 1517.37 2313.01 1517.37 M2313.01 1513.66 Q2318.82 1513.66 2321.88 1518.27 Q2324.96 1522.85 2324.96 1531.6 Q2324.96 1540.33 2321.88 1544.94 Q2318.82 1549.52 2313.01 1549.52 Q2307.2 1549.52 2304.13 1544.94 Q2301.07 1540.33 2301.07 1531.6 Q2301.07 1522.85 2304.13 1518.27 Q2307.2 1513.66 2313.01 1513.66 Z\" fill=\"#000000\" fill-rule=\"nonzero\" fill-opacity=\"1\" /><polyline clip-path=\"url(#clip330)\" style=\"stroke:#000000; stroke-linecap:round; stroke-linejoin:round; stroke-width:4; stroke-opacity:1; fill:none\" points=\"186.274,1486.45 186.274,47.2441 \"/>\n",
       "<polyline clip-path=\"url(#clip330)\" style=\"stroke:#000000; stroke-linecap:round; stroke-linejoin:round; stroke-width:4; stroke-opacity:1; fill:none\" points=\"186.274,1445.75 205.172,1445.75 \"/>\n",
       "<polyline clip-path=\"url(#clip330)\" style=\"stroke:#000000; stroke-linecap:round; stroke-linejoin:round; stroke-width:4; stroke-opacity:1; fill:none\" points=\"186.274,1106.31 205.172,1106.31 \"/>\n",
       "<polyline clip-path=\"url(#clip330)\" style=\"stroke:#000000; stroke-linecap:round; stroke-linejoin:round; stroke-width:4; stroke-opacity:1; fill:none\" points=\"186.274,766.865 205.172,766.865 \"/>\n",
       "<polyline clip-path=\"url(#clip330)\" style=\"stroke:#000000; stroke-linecap:round; stroke-linejoin:round; stroke-width:4; stroke-opacity:1; fill:none\" points=\"186.274,427.42 205.172,427.42 \"/>\n",
       "<polyline clip-path=\"url(#clip330)\" style=\"stroke:#000000; stroke-linecap:round; stroke-linejoin:round; stroke-width:4; stroke-opacity:1; fill:none\" points=\"186.274,87.9763 205.172,87.9763 \"/>\n",
       "<path clip-path=\"url(#clip330)\" d=\"M62.9365 1431.55 Q59.3254 1431.55 57.4967 1435.12 Q55.6912 1438.66 55.6912 1445.79 Q55.6912 1452.89 57.4967 1456.46 Q59.3254 1460 62.9365 1460 Q66.5707 1460 68.3763 1456.46 Q70.205 1452.89 70.205 1445.79 Q70.205 1438.66 68.3763 1435.12 Q66.5707 1431.55 62.9365 1431.55 M62.9365 1427.85 Q68.7467 1427.85 71.8022 1432.45 Q74.8809 1437.04 74.8809 1445.79 Q74.8809 1454.51 71.8022 1459.12 Q68.7467 1463.7 62.9365 1463.7 Q57.1264 1463.7 54.0477 1459.12 Q50.9921 1454.51 50.9921 1445.79 Q50.9921 1437.04 54.0477 1432.45 Q57.1264 1427.85 62.9365 1427.85 Z\" fill=\"#000000\" fill-rule=\"nonzero\" fill-opacity=\"1\" /><path clip-path=\"url(#clip330)\" d=\"M83.0984 1457.15 L87.9827 1457.15 L87.9827 1463.03 L83.0984 1463.03 L83.0984 1457.15 Z\" fill=\"#000000\" fill-rule=\"nonzero\" fill-opacity=\"1\" /><path clip-path=\"url(#clip330)\" d=\"M108.168 1431.55 Q104.557 1431.55 102.728 1435.12 Q100.922 1438.66 100.922 1445.79 Q100.922 1452.89 102.728 1456.46 Q104.557 1460 108.168 1460 Q111.802 1460 113.608 1456.46 Q115.436 1452.89 115.436 1445.79 Q115.436 1438.66 113.608 1435.12 Q111.802 1431.55 108.168 1431.55 M108.168 1427.85 Q113.978 1427.85 117.033 1432.45 Q120.112 1437.04 120.112 1445.79 Q120.112 1454.51 117.033 1459.12 Q113.978 1463.7 108.168 1463.7 Q102.358 1463.7 99.2789 1459.12 Q96.2234 1454.51 96.2234 1445.79 Q96.2234 1437.04 99.2789 1432.45 Q102.358 1427.85 108.168 1427.85 Z\" fill=\"#000000\" fill-rule=\"nonzero\" fill-opacity=\"1\" /><path clip-path=\"url(#clip330)\" d=\"M138.33 1431.55 Q134.719 1431.55 132.89 1435.12 Q131.084 1438.66 131.084 1445.79 Q131.084 1452.89 132.89 1456.46 Q134.719 1460 138.33 1460 Q141.964 1460 143.769 1456.46 Q145.598 1452.89 145.598 1445.79 Q145.598 1438.66 143.769 1435.12 Q141.964 1431.55 138.33 1431.55 M138.33 1427.85 Q144.14 1427.85 147.195 1432.45 Q150.274 1437.04 150.274 1445.79 Q150.274 1454.51 147.195 1459.12 Q144.14 1463.7 138.33 1463.7 Q132.519 1463.7 129.441 1459.12 Q126.385 1454.51 126.385 1445.79 Q126.385 1437.04 129.441 1432.45 Q132.519 1427.85 138.33 1427.85 Z\" fill=\"#000000\" fill-rule=\"nonzero\" fill-opacity=\"1\" /><path clip-path=\"url(#clip330)\" d=\"M63.9319 1092.11 Q60.3208 1092.11 58.4921 1095.67 Q56.6865 1099.21 56.6865 1106.34 Q56.6865 1113.45 58.4921 1117.01 Q60.3208 1120.56 63.9319 1120.56 Q67.5661 1120.56 69.3717 1117.01 Q71.2004 1113.45 71.2004 1106.34 Q71.2004 1099.21 69.3717 1095.67 Q67.5661 1092.11 63.9319 1092.11 M63.9319 1088.4 Q69.742 1088.4 72.7976 1093.01 Q75.8763 1097.59 75.8763 1106.34 Q75.8763 1115.07 72.7976 1119.68 Q69.742 1124.26 63.9319 1124.26 Q58.1217 1124.26 55.043 1119.68 Q51.9875 1115.07 51.9875 1106.34 Q51.9875 1097.59 55.043 1093.01 Q58.1217 1088.4 63.9319 1088.4 Z\" fill=\"#000000\" fill-rule=\"nonzero\" fill-opacity=\"1\" /><path clip-path=\"url(#clip330)\" d=\"M84.0938 1117.71 L88.978 1117.71 L88.978 1123.59 L84.0938 1123.59 L84.0938 1117.71 Z\" fill=\"#000000\" fill-rule=\"nonzero\" fill-opacity=\"1\" /><path clip-path=\"url(#clip330)\" d=\"M103.191 1119.65 L119.51 1119.65 L119.51 1123.59 L97.566 1123.59 L97.566 1119.65 Q100.228 1116.9 104.811 1112.27 Q109.418 1107.62 110.598 1106.27 Q112.844 1103.75 113.723 1102.01 Q114.626 1100.26 114.626 1098.57 Q114.626 1095.81 112.682 1094.08 Q110.76 1092.34 107.658 1092.34 Q105.459 1092.34 103.006 1093.1 Q100.575 1093.87 97.7974 1095.42 L97.7974 1090.7 Q100.621 1089.56 103.075 1088.98 Q105.529 1088.4 107.566 1088.4 Q112.936 1088.4 116.131 1091.09 Q119.325 1093.77 119.325 1098.26 Q119.325 1100.39 118.515 1102.32 Q117.728 1104.21 115.621 1106.81 Q115.043 1107.48 111.941 1110.7 Q108.839 1113.89 103.191 1119.65 Z\" fill=\"#000000\" fill-rule=\"nonzero\" fill-opacity=\"1\" /><path clip-path=\"url(#clip330)\" d=\"M129.371 1089.03 L147.728 1089.03 L147.728 1092.96 L133.654 1092.96 L133.654 1101.44 Q134.672 1101.09 135.691 1100.93 Q136.709 1100.74 137.728 1100.74 Q143.515 1100.74 146.894 1103.91 Q150.274 1107.08 150.274 1112.5 Q150.274 1118.08 146.802 1121.18 Q143.33 1124.26 137.01 1124.26 Q134.834 1124.26 132.566 1123.89 Q130.32 1123.52 127.913 1122.78 L127.913 1118.08 Q129.996 1119.21 132.219 1119.77 Q134.441 1120.33 136.918 1120.33 Q140.922 1120.33 143.26 1118.22 Q145.598 1116.11 145.598 1112.5 Q145.598 1108.89 143.26 1106.78 Q140.922 1104.68 136.918 1104.68 Q135.043 1104.68 133.168 1105.09 Q131.316 1105.51 129.371 1106.39 L129.371 1089.03 Z\" fill=\"#000000\" fill-rule=\"nonzero\" fill-opacity=\"1\" /><path clip-path=\"url(#clip330)\" d=\"M62.9365 752.663 Q59.3254 752.663 57.4967 756.228 Q55.6912 759.77 55.6912 766.899 Q55.6912 774.006 57.4967 777.571 Q59.3254 781.112 62.9365 781.112 Q66.5707 781.112 68.3763 777.571 Q70.205 774.006 70.205 766.899 Q70.205 759.77 68.3763 756.228 Q66.5707 752.663 62.9365 752.663 M62.9365 748.96 Q68.7467 748.96 71.8022 753.566 Q74.8809 758.149 74.8809 766.899 Q74.8809 775.626 71.8022 780.233 Q68.7467 784.816 62.9365 784.816 Q57.1264 784.816 54.0477 780.233 Q50.9921 775.626 50.9921 766.899 Q50.9921 758.149 54.0477 753.566 Q57.1264 748.96 62.9365 748.96 Z\" fill=\"#000000\" fill-rule=\"nonzero\" fill-opacity=\"1\" /><path clip-path=\"url(#clip330)\" d=\"M83.0984 778.265 L87.9827 778.265 L87.9827 784.145 L83.0984 784.145 L83.0984 778.265 Z\" fill=\"#000000\" fill-rule=\"nonzero\" fill-opacity=\"1\" /><path clip-path=\"url(#clip330)\" d=\"M98.2141 749.585 L116.57 749.585 L116.57 753.52 L102.496 753.52 L102.496 761.992 Q103.515 761.645 104.534 761.483 Q105.552 761.298 106.571 761.298 Q112.358 761.298 115.737 764.469 Q119.117 767.64 119.117 773.057 Q119.117 778.635 115.645 781.737 Q112.172 784.816 105.853 784.816 Q103.677 784.816 101.409 784.446 Q99.1632 784.075 96.7558 783.334 L96.7558 778.635 Q98.8391 779.77 101.061 780.325 Q103.284 780.881 105.76 780.881 Q109.765 780.881 112.103 778.774 Q114.441 776.668 114.441 773.057 Q114.441 769.446 112.103 767.339 Q109.765 765.233 105.76 765.233 Q103.885 765.233 102.01 765.649 Q100.159 766.066 98.2141 766.946 L98.2141 749.585 Z\" fill=\"#000000\" fill-rule=\"nonzero\" fill-opacity=\"1\" /><path clip-path=\"url(#clip330)\" d=\"M138.33 752.663 Q134.719 752.663 132.89 756.228 Q131.084 759.77 131.084 766.899 Q131.084 774.006 132.89 777.571 Q134.719 781.112 138.33 781.112 Q141.964 781.112 143.769 777.571 Q145.598 774.006 145.598 766.899 Q145.598 759.77 143.769 756.228 Q141.964 752.663 138.33 752.663 M138.33 748.96 Q144.14 748.96 147.195 753.566 Q150.274 758.149 150.274 766.899 Q150.274 775.626 147.195 780.233 Q144.14 784.816 138.33 784.816 Q132.519 784.816 129.441 780.233 Q126.385 775.626 126.385 766.899 Q126.385 758.149 129.441 753.566 Q132.519 748.96 138.33 748.96 Z\" fill=\"#000000\" fill-rule=\"nonzero\" fill-opacity=\"1\" /><path clip-path=\"url(#clip330)\" d=\"M63.9319 413.219 Q60.3208 413.219 58.4921 416.784 Q56.6865 420.326 56.6865 427.455 Q56.6865 434.562 58.4921 438.126 Q60.3208 441.668 63.9319 441.668 Q67.5661 441.668 69.3717 438.126 Q71.2004 434.562 71.2004 427.455 Q71.2004 420.326 69.3717 416.784 Q67.5661 413.219 63.9319 413.219 M63.9319 409.515 Q69.742 409.515 72.7976 414.122 Q75.8763 418.705 75.8763 427.455 Q75.8763 436.182 72.7976 440.788 Q69.742 445.372 63.9319 445.372 Q58.1217 445.372 55.043 440.788 Q51.9875 436.182 51.9875 427.455 Q51.9875 418.705 55.043 414.122 Q58.1217 409.515 63.9319 409.515 Z\" fill=\"#000000\" fill-rule=\"nonzero\" fill-opacity=\"1\" /><path clip-path=\"url(#clip330)\" d=\"M84.0938 438.821 L88.978 438.821 L88.978 444.7 L84.0938 444.7 L84.0938 438.821 Z\" fill=\"#000000\" fill-rule=\"nonzero\" fill-opacity=\"1\" /><path clip-path=\"url(#clip330)\" d=\"M97.9826 410.14 L120.205 410.14 L120.205 412.131 L107.658 444.7 L102.774 444.7 L114.58 414.076 L97.9826 414.076 L97.9826 410.14 Z\" fill=\"#000000\" fill-rule=\"nonzero\" fill-opacity=\"1\" /><path clip-path=\"url(#clip330)\" d=\"M129.371 410.14 L147.728 410.14 L147.728 414.076 L133.654 414.076 L133.654 422.548 Q134.672 422.201 135.691 422.039 Q136.709 421.853 137.728 421.853 Q143.515 421.853 146.894 425.025 Q150.274 428.196 150.274 433.613 Q150.274 439.191 146.802 442.293 Q143.33 445.372 137.01 445.372 Q134.834 445.372 132.566 445.001 Q130.32 444.631 127.913 443.89 L127.913 439.191 Q129.996 440.326 132.219 440.881 Q134.441 441.437 136.918 441.437 Q140.922 441.437 143.26 439.33 Q145.598 437.224 145.598 433.613 Q145.598 430.001 143.26 427.895 Q140.922 425.789 136.918 425.789 Q135.043 425.789 133.168 426.205 Q131.316 426.622 129.371 427.501 L129.371 410.14 Z\" fill=\"#000000\" fill-rule=\"nonzero\" fill-opacity=\"1\" /><path clip-path=\"url(#clip330)\" d=\"M53.7467 101.321 L61.3856 101.321 L61.3856 74.9555 L53.0754 76.6222 L53.0754 72.3629 L61.3393 70.6963 L66.0152 70.6963 L66.0152 101.321 L73.654 101.321 L73.654 105.256 L53.7467 105.256 L53.7467 101.321 Z\" fill=\"#000000\" fill-rule=\"nonzero\" fill-opacity=\"1\" /><path clip-path=\"url(#clip330)\" d=\"M83.0984 99.3767 L87.9827 99.3767 L87.9827 105.256 L83.0984 105.256 L83.0984 99.3767 Z\" fill=\"#000000\" fill-rule=\"nonzero\" fill-opacity=\"1\" /><path clip-path=\"url(#clip330)\" d=\"M108.168 73.775 Q104.557 73.775 102.728 77.3398 Q100.922 80.8814 100.922 88.011 Q100.922 95.1174 102.728 98.6822 Q104.557 102.224 108.168 102.224 Q111.802 102.224 113.608 98.6822 Q115.436 95.1174 115.436 88.011 Q115.436 80.8814 113.608 77.3398 Q111.802 73.775 108.168 73.775 M108.168 70.0713 Q113.978 70.0713 117.033 74.6777 Q120.112 79.261 120.112 88.011 Q120.112 96.7378 117.033 101.344 Q113.978 105.928 108.168 105.928 Q102.358 105.928 99.2789 101.344 Q96.2234 96.7378 96.2234 88.011 Q96.2234 79.261 99.2789 74.6777 Q102.358 70.0713 108.168 70.0713 Z\" fill=\"#000000\" fill-rule=\"nonzero\" fill-opacity=\"1\" /><path clip-path=\"url(#clip330)\" d=\"M138.33 73.775 Q134.719 73.775 132.89 77.3398 Q131.084 80.8814 131.084 88.011 Q131.084 95.1174 132.89 98.6822 Q134.719 102.224 138.33 102.224 Q141.964 102.224 143.769 98.6822 Q145.598 95.1174 145.598 88.011 Q145.598 80.8814 143.769 77.3398 Q141.964 73.775 138.33 73.775 M138.33 70.0713 Q144.14 70.0713 147.195 74.6777 Q150.274 79.261 150.274 88.011 Q150.274 96.7378 147.195 101.344 Q144.14 105.928 138.33 105.928 Q132.519 105.928 129.441 101.344 Q126.385 96.7378 126.385 88.011 Q126.385 79.261 129.441 74.6777 Q132.519 70.0713 138.33 70.0713 Z\" fill=\"#000000\" fill-rule=\"nonzero\" fill-opacity=\"1\" /><polyline clip-path=\"url(#clip332)\" style=\"stroke:#009af9; stroke-linecap:round; stroke-linejoin:round; stroke-width:4; stroke-opacity:1; fill:none\" points=\"247.59,87.9763 249.587,87.9763 251.585,87.9763 253.583,87.9763 255.581,87.9763 257.579,87.9763 259.577,87.9763 261.575,87.9763 263.573,87.9763 265.571,87.9763 267.569,87.9763 269.566,87.9763 271.564,87.9763 273.562,87.9763 275.56,87.9763 277.558,87.9763 279.556,87.9763 281.554,87.9763 283.552,87.9763 285.55,87.9763 287.548,87.9763 289.545,87.9763 291.543,87.9763 293.541,87.9763 295.539,87.9763 297.537,87.9763 299.535,87.9763 301.533,87.9763 303.531,87.9763 305.529,87.9763 307.527,87.9763 309.524,87.9763 311.522,87.9763 313.52,87.9763 315.518,87.9763 317.516,87.9763 319.514,87.9763 321.512,87.9763 323.51,87.9763 325.508,87.9763 327.505,87.9763 329.503,87.9763 331.501,87.9763 333.499,87.9763 335.497,87.9763 337.495,87.9763 339.493,87.9763 341.491,87.9763 343.489,87.9763 345.487,87.9763 347.484,87.9763 349.482,87.9763 351.48,87.9763 353.478,87.9763 355.476,87.9763 357.474,87.9763 359.472,87.9763 361.47,87.9763 363.468,87.9763 365.466,87.9763 367.463,87.9763 369.461,87.9763 371.459,87.9763 373.457,87.9763 375.455,87.9763 377.453,87.9763 379.451,87.9763 381.449,87.9763 383.447,87.9763 385.445,87.9763 387.442,87.9763 389.44,87.9763 391.438,87.9763 393.436,87.9763 395.434,87.9763 397.432,87.9763 399.43,87.9763 401.428,87.9763 403.426,87.9763 405.424,87.9763 407.421,87.9763 409.419,87.9763 411.417,87.9763 413.415,87.9763 415.413,87.9763 417.411,87.9763 419.409,87.9763 421.407,87.9763 423.405,87.9763 425.403,87.9763 427.4,87.9763 429.398,87.9763 431.396,87.9763 433.394,87.9763 435.392,87.9763 437.39,87.9763 439.388,87.9763 441.386,87.9763 443.384,87.9763 445.382,87.9763 447.379,87.9763 449.377,87.9763 451.375,87.9763 453.373,87.9763 455.371,87.9763 457.369,87.9763 459.367,87.9763 461.365,87.9763 463.363,87.9763 465.361,87.9763 467.358,87.9763 469.356,87.9763 471.354,87.9763 473.352,87.9763 475.35,87.9763 477.348,87.9763 479.346,87.9763 481.344,87.9763 483.342,87.9763 485.34,87.9763 487.337,87.9763 489.335,87.9763 491.333,87.9763 493.331,87.9763 495.329,87.9763 497.327,87.9763 499.325,87.9763 501.323,87.9763 503.321,87.9763 505.319,87.9763 507.316,87.9763 509.314,87.9763 511.312,87.9763 513.31,87.9763 515.308,87.9763 517.306,87.9763 519.304,87.9763 521.302,87.9763 523.3,87.9763 525.298,87.9763 527.295,87.9763 529.293,87.9763 531.291,87.9763 533.289,87.9763 535.287,87.9763 537.285,87.9763 539.283,87.9763 541.281,87.9763 543.279,87.9763 545.277,87.9763 547.274,87.9763 549.272,87.9763 551.27,87.9763 553.268,87.9763 555.266,87.9763 557.264,87.9763 559.262,87.9763 561.26,87.9763 563.258,87.9763 565.255,87.9763 567.253,87.9763 569.251,87.9763 571.249,87.9763 573.247,87.9763 575.245,87.9763 577.243,87.9763 579.241,87.9763 581.239,87.9763 583.237,87.9763 585.234,87.9763 587.232,87.9763 589.23,87.9763 591.228,87.9763 593.226,87.9763 595.224,87.9763 597.222,87.9763 599.22,87.9763 601.218,87.9763 603.216,87.9763 605.213,87.9763 607.211,87.9763 609.209,87.9763 611.207,87.9763 613.205,87.9763 615.203,87.9763 617.201,87.9763 619.199,87.9763 621.197,87.9763 623.195,87.9763 625.192,87.9763 627.19,87.9763 629.188,87.9763 631.186,87.9763 633.184,87.9763 635.182,87.9763 637.18,87.9763 639.178,87.9763 641.176,87.9763 643.174,87.9763 645.171,87.9763 647.169,87.9763 649.167,87.9763 651.165,87.9763 653.163,87.9763 655.161,87.9763 657.159,87.9763 659.157,87.9763 661.155,87.9763 663.153,87.9763 665.15,87.9763 667.148,87.9763 669.146,87.9763 671.144,87.9763 673.142,87.9763 675.14,87.9763 677.138,87.9763 679.136,87.9763 681.134,87.9763 683.132,87.9763 685.129,87.9763 687.127,87.9763 689.125,87.9763 691.123,87.9763 693.121,87.9763 695.119,87.9763 697.117,87.9763 699.115,87.9763 701.113,87.9763 703.111,87.9763 705.108,87.9763 707.106,87.9763 709.104,87.9763 711.102,87.9763 713.1,87.9763 715.098,87.9763 717.096,87.9763 719.094,87.9763 721.092,87.9763 723.09,87.9763 725.087,87.9763 727.085,87.9763 729.083,87.9763 731.081,87.9763 733.079,87.9763 735.077,87.9763 737.075,87.9763 739.073,87.9763 741.071,87.9763 743.069,87.9763 745.066,87.9763 747.064,87.9763 749.062,87.9763 751.06,87.9763 753.058,87.9763 755.056,87.9763 757.054,87.9763 759.052,87.9763 761.05,87.9763 763.048,87.9763 765.045,87.9763 767.043,87.9763 769.041,87.9763 771.039,87.9763 773.037,87.9763 775.035,87.9763 777.033,87.9763 779.031,87.9763 781.029,87.9763 783.027,87.9763 785.024,87.9763 787.022,87.9763 789.02,87.9763 791.018,87.9763 793.016,87.9763 795.014,87.9763 797.012,87.9763 799.01,87.9763 801.008,87.9763 803.005,87.9763 805.003,87.9763 807.001,87.9763 808.999,87.9763 810.997,87.9763 812.995,87.9763 814.993,87.9763 816.991,87.9763 818.989,87.9763 820.987,87.9763 822.984,87.9763 824.982,87.9763 826.98,87.9763 828.978,87.9763 830.976,87.9763 832.974,87.9763 834.972,87.9763 836.97,87.9763 838.968,87.9763 840.966,87.9763 842.963,87.9763 844.961,87.9763 846.959,87.9763 848.957,87.9763 850.955,87.9763 852.953,87.9763 854.951,87.9763 856.949,87.9763 858.947,87.9763 860.945,87.9763 862.942,87.9763 864.94,87.9763 866.938,87.9763 868.936,87.9763 870.934,87.9763 872.932,87.9763 874.93,87.9763 876.928,87.9763 878.926,87.9763 880.924,87.9763 882.921,87.9763 884.919,87.9763 886.917,87.9763 888.915,87.9763 890.913,87.9763 892.911,87.9763 894.909,87.9763 896.907,87.9763 898.905,87.9763 900.903,87.9763 902.9,87.9763 904.898,87.9763 906.896,87.9763 908.894,87.9763 910.892,87.9763 912.89,87.9763 914.888,87.9763 916.886,87.9763 918.884,87.9763 920.882,87.9763 922.879,87.9763 924.877,87.9763 926.875,87.9763 928.873,87.9763 930.871,87.9763 932.869,87.9763 934.867,87.9763 936.865,87.9763 938.863,87.9763 940.861,87.9763 942.858,87.9763 944.856,87.9763 946.854,87.9763 948.852,87.9763 950.85,87.9763 952.848,87.9763 954.846,87.9763 956.844,87.9763 958.842,87.9763 960.84,87.9763 962.837,87.9763 964.835,87.9763 966.833,87.9763 968.831,87.9763 970.829,87.9763 972.827,87.9763 974.825,87.9763 976.823,87.9763 978.821,87.9763 980.819,87.9763 982.816,87.9763 984.814,87.9763 986.812,87.9763 988.81,87.9763 990.808,87.9763 992.806,87.9763 994.804,87.9763 996.802,87.9763 998.8,87.9763 1000.8,87.9763 1002.8,87.9763 1004.79,87.9763 1006.79,87.9763 1008.79,87.9763 1010.79,87.9763 1012.78,87.9763 1014.78,87.9763 1016.78,87.9763 1018.78,87.9763 1020.78,87.9763 1022.77,87.9763 1024.77,87.9763 1026.77,87.9763 1028.77,87.9763 1030.77,87.9763 1032.76,87.9763 1034.76,87.9763 1036.76,87.9763 1038.76,87.9763 1040.76,87.9763 1042.75,87.9763 1044.75,87.9763 1046.75,87.9763 1048.75,87.9763 1050.74,87.9763 1052.74,87.9763 1054.74,87.9763 1056.74,87.9763 1058.74,87.9763 1060.73,87.9763 1062.73,87.9763 1064.73,87.9763 1066.73,87.9763 1068.73,87.9763 1070.72,87.9763 1072.72,87.9763 1074.72,87.9763 1076.72,87.9763 1078.72,87.9763 1080.71,87.9763 1082.71,87.9763 1084.71,87.9763 1086.71,87.9763 1088.71,87.9763 1090.7,87.9763 1092.7,87.9763 1094.7,87.9763 1096.7,87.9763 1098.69,87.9763 1100.69,87.9763 1102.69,87.9763 1104.69,87.9763 1106.69,87.9763 1108.68,87.9763 1110.68,87.9763 1112.68,87.9763 1114.68,87.9763 1116.68,87.9763 1118.67,87.9763 1120.67,87.9763 1122.67,87.9763 1124.67,87.9763 1126.67,87.9763 1128.66,87.9763 1130.66,87.9763 1132.66,87.9763 1134.66,87.9763 1136.65,87.9763 1138.65,87.9763 1140.65,87.9763 1142.65,87.9763 1144.65,87.9763 1146.64,87.9763 1148.64,87.9763 1150.64,87.9763 1152.64,87.9763 1154.64,87.9763 1156.63,87.9763 1158.63,87.9763 1160.63,87.9763 1162.63,87.9763 1164.63,87.9763 1166.62,87.9763 1168.62,87.9763 1170.62,87.9763 1172.62,87.9763 1174.61,87.9763 1176.61,87.9763 1178.61,87.9763 1180.61,87.9763 1182.61,87.9763 1184.6,87.9763 1186.6,87.9763 1188.6,87.9763 1190.6,87.9763 1192.6,87.9763 1194.59,87.9763 1196.59,87.9763 1198.59,87.9763 1200.59,87.9763 1202.59,87.9763 1204.58,87.9763 1206.58,87.9763 1208.58,87.9763 1210.58,87.9763 1212.57,87.9763 1214.57,87.9763 1216.57,87.9763 1218.57,89.9657 1220.57,116.214 1222.56,141.955 1224.56,167.197 1226.56,191.95 1228.56,216.225 1230.56,240.029 1232.55,263.372 1234.55,286.264 1236.55,308.712 1238.55,330.726 1240.55,352.313 1242.54,373.483 1244.54,394.242 1246.54,414.6 1248.54,434.564 1250.53,454.141 1252.53,473.339 1254.53,492.165 1256.53,510.627 1258.53,528.732 1260.52,546.486 1262.52,563.896 1264.52,580.969 1266.52,597.712 1268.52,614.13 1270.51,630.231 1272.51,646.02 1274.51,661.503 1276.51,676.686 1278.51,691.576 1280.5,706.177 1282.5,720.496 1284.5,734.537 1286.5,748.306 1288.49,761.809 1290.49,775.051 1292.49,788.036 1294.49,800.77 1296.49,813.257 1298.48,825.502 1300.48,837.511 1302.48,849.286 1304.48,860.834 1306.48,872.159 1308.47,883.264 1310.47,894.154 1312.47,904.833 1314.47,915.305 1316.47,925.575 1318.46,935.646 1320.46,945.522 1322.46,955.207 1324.46,964.704 1326.46,974.017 1328.45,983.15 1330.45,992.106 1332.45,1000.89 1334.45,1009.5 1336.44,1017.95 1338.44,1026.23 1340.44,1034.35 1342.44,1042.32 1344.44,1050.13 1346.43,1057.79 1348.43,1065.3 1350.43,1072.66 1352.43,1079.89 1354.43,1086.97 1356.42,1093.92 1358.42,1100.73 1360.42,1107.41 1362.42,1113.96 1364.42,1120.38 1366.41,1126.68 1368.41,1132.86 1370.41,1138.92 1372.41,1144.86 1374.4,1150.68 1376.4,1156.4 1378.4,1162 1380.4,1167.49 1382.4,1172.88 1384.39,1178.16 1386.39,1183.34 1388.39,1188.42 1390.39,1193.41 1392.39,1198.29 1394.38,1203.08 1396.38,1207.78 1398.38,1212.39 1400.38,1216.91 1402.38,1221.34 1404.37,1225.68 1406.37,1229.94 1408.37,1234.12 1410.37,1238.22 1412.36,1242.24 1414.36,1246.18 1416.36,1250.04 1418.36,1253.83 1420.36,1257.54 1422.35,1261.19 1424.35,1264.76 1426.35,1268.27 1428.35,1271.7 1430.35,1275.07 1432.34,1278.38 1434.34,1281.62 1436.34,1284.79 1438.34,1287.91 1440.34,1290.97 1442.33,1293.96 1444.33,1296.9 1446.33,1299.78 1448.33,1302.61 1450.32,1305.38 1452.32,1308.1 1454.32,1310.76 1456.32,1313.38 1458.32,1315.94 1460.31,1318.45 1462.31,1320.92 1464.31,1323.33 1466.31,1325.7 1468.31,1328.03 1470.3,1330.31 1472.3,1332.54 1474.3,1334.73 1476.3,1336.88 1478.3,1338.99 1480.29,1341.06 1482.29,1343.09 1484.29,1345.07 1486.29,1347.02 1488.28,1348.93 1490.28,1350.81 1492.28,1352.65 1494.28,1354.45 1496.28,1356.22 1498.27,1357.95 1500.27,1359.65 1502.27,1361.32 1504.27,1362.95 1506.27,1364.56 1508.26,1366.13 1510.26,1367.67 1512.26,1369.18 1514.26,1370.66 1516.26,1372.12 1518.25,1373.54 1520.25,1374.94 1522.25,1376.31 1524.25,1377.66 1526.24,1378.97 1528.24,1380.27 1530.24,1381.54 1532.24,1382.78 1534.24,1384 1536.23,1385.19 1538.23,1386.37 1540.23,1387.52 1542.23,1388.64 1544.23,1389.75 1546.22,1390.83 1548.22,1391.9 1550.22,1392.94 1552.22,1393.96 1554.22,1394.96 1556.21,1395.95 1558.21,1396.91 1560.21,1397.86 1562.21,1398.78 1564.21,1399.69 1566.2,1400.59 1568.2,1401.46 1570.2,1402.32 1572.2,1403.16 1574.19,1403.98 1576.19,1404.79 1578.19,1405.58 1580.19,1406.36 1582.19,1407.13 1584.18,1407.87 1586.18,1408.61 1588.18,1409.33 1590.18,1410.03 1592.18,1410.72 1594.17,1411.4 1596.17,1412.07 1598.17,1412.72 1600.17,1413.36 1602.17,1413.98 1604.16,1414.6 1606.16,1415.2 1608.16,1415.79 1610.16,1416.37 1612.15,1416.94 1614.15,1417.5 1616.15,1418.05 1618.15,1418.58 1620.15,1419.11 1622.14,1419.63 1624.14,1420.13 1626.14,1420.63 1628.14,1421.11 1630.14,1421.59 1632.13,1422.06 1634.13,1422.52 1636.13,1422.97 1638.13,1423.41 1640.13,1423.84 1642.12,1424.27 1644.12,1424.68 1646.12,1425.09 1648.12,1425.49 1650.11,1425.88 1652.11,1426.27 1654.11,1426.64 1656.11,1427.01 1658.11,1427.38 1660.1,1427.73 1662.1,1428.08 1664.1,1428.42 1666.1,1428.76 1668.1,1429.09 1670.09,1429.41 1672.09,1429.73 1674.09,1430.04 1676.09,1430.34 1678.09,1430.64 1680.08,1430.93 1682.08,1431.22 1684.08,1431.5 1686.08,1431.78 1688.07,1432.05 1690.07,1432.31 1692.07,1432.57 1694.07,1432.83 1696.07,1433.08 1698.06,1433.32 1700.06,1433.56 1702.06,1433.8 1704.06,1434.03 1706.06,1434.26 1708.05,1434.48 1710.05,1434.7 1712.05,1434.91 1714.05,1435.12 1716.05,1435.33 1718.04,1435.53 1720.04,1435.73 1722.04,1435.92 1724.04,1436.11 1726.03,1436.3 1728.03,1436.48 1730.03,1436.66 1732.03,1436.84 1734.03,1437.01 1736.02,1437.18 1738.02,1437.35 1740.02,1437.51 1742.02,1437.67 1744.02,1437.83 1746.01,1437.98 1748.01,1438.13 1750.01,1438.28 1752.01,1438.42 1754.01,1438.56 1756,1438.7 1758,1438.84 1760,1438.97 1762,1439.1 1763.99,1439.23 1765.99,1439.36 1767.99,1439.48 1769.99,1439.6 1771.99,1439.72 1773.98,1439.84 1775.98,1439.95 1777.98,1440.07 1779.98,1440.18 1781.98,1440.28 1783.97,1440.39 1785.97,1440.49 1787.97,1440.6 1789.97,1440.7 1791.97,1440.79 1793.96,1440.89 1795.96,1440.98 1797.96,1441.08 1799.96,1441.17 1801.96,1441.26 1803.95,1441.34 1805.95,1441.43 1807.95,1441.51 1809.95,1441.59 1811.94,1441.67 1813.94,1441.75 1815.94,1441.83 1817.94,1441.91 1819.94,1441.98 1821.93,1442.05 1823.93,1442.13 1825.93,1442.2 1827.93,1442.27 1829.93,1442.33 1831.92,1442.4 1833.92,1442.46 1835.92,1442.53 1837.92,1442.59 1839.92,1442.65 1841.91,1442.71 1843.91,1442.77 1845.91,1442.83 1847.91,1442.88 1849.9,1442.94 1851.9,1442.99 1853.9,1443.05 1855.9,1443.1 1857.9,1443.15 1859.89,1443.2 1861.89,1443.25 1863.89,1443.3 1865.89,1443.35 1867.89,1443.39 1869.88,1443.44 1871.88,1443.48 1873.88,1443.53 1875.88,1443.57 1877.88,1443.61 1879.87,1443.66 1881.87,1443.7 1883.87,1443.74 1885.87,1443.77 1887.86,1443.81 1889.86,1443.85 1891.86,1443.89 1893.86,1443.92 1895.86,1443.96 1897.85,1443.99 1899.85,1444.03 1901.85,1444.06 1903.85,1444.09 1905.85,1444.13 1907.84,1444.16 1909.84,1444.19 1911.84,1444.22 1913.84,1444.25 1915.84,1444.28 1917.83,1444.31 1919.83,1444.33 1921.83,1444.36 1923.83,1444.39 1925.82,1444.41 1927.82,1444.44 1929.82,1444.47 1931.82,1444.49 1933.82,1444.52 1935.81,1444.54 1937.81,1444.56 1939.81,1444.59 1941.81,1444.61 1943.81,1444.63 1945.8,1444.65 1947.8,1444.67 1949.8,1444.69 1951.8,1444.72 1953.8,1444.74 1955.79,1444.76 1957.79,1444.77 1959.79,1444.79 1961.79,1444.81 1963.78,1444.83 1965.78,1444.85 1967.78,1444.87 1969.78,1444.88 1971.78,1444.9 1973.77,1444.92 1975.77,1444.93 1977.77,1444.95 1979.77,1444.96 1981.77,1444.98 1983.76,1444.99 1985.76,1445.01 1987.76,1445.02 1989.76,1445.04 1991.76,1445.05 1993.75,1445.06 1995.75,1445.08 1997.75,1445.09 1999.75,1445.1 2001.74,1445.12 2003.74,1445.13 2005.74,1445.14 2007.74,1445.15 2009.74,1445.16 2011.73,1445.18 2013.73,1445.19 2015.73,1445.2 2017.73,1445.21 2019.73,1445.22 2021.72,1445.23 2023.72,1445.24 2025.72,1445.25 2027.72,1445.26 2029.72,1445.27 2031.71,1445.28 2033.71,1445.29 2035.71,1445.3 2037.71,1445.31 2039.71,1445.31 2041.7,1445.32 2043.7,1445.33 2045.7,1445.34 2047.7,1445.35 2049.69,1445.35 2051.69,1445.36 2053.69,1445.37 2055.69,1445.38 2057.69,1445.38 2059.68,1445.39 2061.68,1445.4 2063.68,1445.41 2065.68,1445.41 2067.68,1445.42 2069.67,1445.43 2071.67,1445.43 2073.67,1445.44 2075.67,1445.44 2077.67,1445.45 2079.66,1445.46 2081.66,1445.46 2083.66,1445.47 2085.66,1445.47 2087.65,1445.48 2089.65,1445.48 2091.65,1445.49 2093.65,1445.49 2095.65,1445.5 2097.64,1445.5 2099.64,1445.51 2101.64,1445.51 2103.64,1445.52 2105.64,1445.52 2107.63,1445.53 2109.63,1445.53 2111.63,1445.54 2113.63,1445.54 2115.63,1445.54 2117.62,1445.55 2119.62,1445.55 2121.62,1445.56 2123.62,1445.56 2125.61,1445.56 2127.61,1445.57 2129.61,1445.57 2131.61,1445.57 2133.61,1445.58 2135.6,1445.58 2137.6,1445.58 2139.6,1445.59 2141.6,1445.59 2143.6,1445.59 2145.59,1445.6 2147.59,1445.6 2149.59,1445.6 2151.59,1445.61 2153.59,1445.61 2155.58,1445.61 2157.58,1445.61 2159.58,1445.62 2161.58,1445.62 2163.57,1445.62 2165.57,1445.62 2167.57,1445.63 2169.57,1445.63 2171.57,1445.63 2173.56,1445.63 2175.56,1445.64 2177.56,1445.64 2179.56,1445.64 2181.56,1445.64 2183.55,1445.65 2185.55,1445.65 2187.55,1445.65 2189.55,1445.65 2191.55,1445.65 2193.54,1445.66 2195.54,1445.66 2197.54,1445.66 2199.54,1445.66 2201.53,1445.66 2203.53,1445.66 2205.53,1445.67 2207.53,1445.67 2209.53,1445.67 2211.52,1445.67 2213.52,1445.67 2215.52,1445.67 2217.52,1445.68 2219.52,1445.68 2221.51,1445.68 2223.51,1445.68 2225.51,1445.68 2227.51,1445.68 2229.51,1445.68 2231.5,1445.69 2233.5,1445.69 2235.5,1445.69 2237.5,1445.69 2239.5,1445.69 2241.49,1445.69 2243.49,1445.69 2245.49,1445.69 2247.49,1445.7 2249.48,1445.7 2251.48,1445.7 2253.48,1445.7 2255.48,1445.7 2257.48,1445.7 2259.47,1445.7 2261.47,1445.7 2263.47,1445.7 2265.47,1445.7 2267.47,1445.71 2269.46,1445.71 2271.46,1445.71 2273.46,1445.71 2275.46,1445.71 2277.46,1445.71 2279.45,1445.71 2281.45,1445.71 2283.45,1445.71 2285.45,1445.71 2287.44,1445.71 2289.44,1445.71 2291.44,1445.72 \"/>\n",
       "<path clip-path=\"url(#clip330)\" d=\"M2011.46 198.898 L2280.54 198.898 L2280.54 95.2176 L2011.46 95.2176  Z\" fill=\"#ffffff\" fill-rule=\"evenodd\" fill-opacity=\"1\"/>\n",
       "<polyline clip-path=\"url(#clip330)\" style=\"stroke:#000000; stroke-linecap:round; stroke-linejoin:round; stroke-width:4; stroke-opacity:1; fill:none\" points=\"2011.46,198.898 2280.54,198.898 2280.54,95.2176 2011.46,95.2176 2011.46,198.898 \"/>\n",
       "<polyline clip-path=\"url(#clip330)\" style=\"stroke:#009af9; stroke-linecap:round; stroke-linejoin:round; stroke-width:4; stroke-opacity:1; fill:none\" points=\"2035.53,147.058 2179.97,147.058 \"/>\n",
       "<path clip-path=\"url(#clip330)\" d=\"M2217.88 166.745 Q2216.07 171.375 2214.36 172.787 Q2212.65 174.199 2209.78 174.199 L2206.38 174.199 L2206.38 170.634 L2208.88 170.634 Q2210.63 170.634 2211.61 169.8 Q2212.58 168.967 2213.76 165.865 L2214.52 163.921 L2204.04 138.412 L2208.55 138.412 L2216.65 158.689 L2224.76 138.412 L2229.27 138.412 L2217.88 166.745 Z\" fill=\"#000000\" fill-rule=\"nonzero\" fill-opacity=\"1\" /><path clip-path=\"url(#clip330)\" d=\"M2236.56 160.402 L2244.2 160.402 L2244.2 134.037 L2235.89 135.703 L2235.89 131.444 L2244.15 129.778 L2248.83 129.778 L2248.83 160.402 L2256.47 160.402 L2256.47 164.338 L2236.56 164.338 L2236.56 160.402 Z\" fill=\"#000000\" fill-rule=\"nonzero\" fill-opacity=\"1\" /></svg>\n"
      ],
      "text/html": [
       "<?xml version=\"1.0\" encoding=\"utf-8\"?>\n",
       "<svg xmlns=\"http://www.w3.org/2000/svg\" xmlns:xlink=\"http://www.w3.org/1999/xlink\" width=\"600\" height=\"400\" viewBox=\"0 0 2400 1600\">\n",
       "<defs>\n",
       "  <clipPath id=\"clip380\">\n",
       "    <rect x=\"0\" y=\"0\" width=\"2400\" height=\"1600\"/>\n",
       "  </clipPath>\n",
       "</defs>\n",
       "<path clip-path=\"url(#clip380)\" d=\"M0 1600 L2400 1600 L2400 8.88178e-14 L0 8.88178e-14  Z\" fill=\"#ffffff\" fill-rule=\"evenodd\" fill-opacity=\"1\"/>\n",
       "<defs>\n",
       "  <clipPath id=\"clip381\">\n",
       "    <rect x=\"480\" y=\"0\" width=\"1681\" height=\"1600\"/>\n",
       "  </clipPath>\n",
       "</defs>\n",
       "<path clip-path=\"url(#clip380)\" d=\"M186.274 1486.45 L2352.76 1486.45 L2352.76 47.2441 L186.274 47.2441  Z\" fill=\"#ffffff\" fill-rule=\"evenodd\" fill-opacity=\"1\"/>\n",
       "<defs>\n",
       "  <clipPath id=\"clip382\">\n",
       "    <rect x=\"186\" y=\"47\" width=\"2167\" height=\"1440\"/>\n",
       "  </clipPath>\n",
       "</defs>\n",
       "<polyline clip-path=\"url(#clip382)\" style=\"stroke:#000000; stroke-linecap:round; stroke-linejoin:round; stroke-width:2; stroke-opacity:0.1; fill:none\" points=\"247.59,1486.45 247.59,47.2441 \"/>\n",
       "<polyline clip-path=\"url(#clip382)\" style=\"stroke:#000000; stroke-linecap:round; stroke-linejoin:round; stroke-width:2; stroke-opacity:0.1; fill:none\" points=\"758.552,1486.45 758.552,47.2441 \"/>\n",
       "<polyline clip-path=\"url(#clip382)\" style=\"stroke:#000000; stroke-linecap:round; stroke-linejoin:round; stroke-width:2; stroke-opacity:0.1; fill:none\" points=\"1269.51,1486.45 1269.51,47.2441 \"/>\n",
       "<polyline clip-path=\"url(#clip382)\" style=\"stroke:#000000; stroke-linecap:round; stroke-linejoin:round; stroke-width:2; stroke-opacity:0.1; fill:none\" points=\"1780.48,1486.45 1780.48,47.2441 \"/>\n",
       "<polyline clip-path=\"url(#clip382)\" style=\"stroke:#000000; stroke-linecap:round; stroke-linejoin:round; stroke-width:2; stroke-opacity:0.1; fill:none\" points=\"2291.44,1486.45 2291.44,47.2441 \"/>\n",
       "<polyline clip-path=\"url(#clip382)\" style=\"stroke:#000000; stroke-linecap:round; stroke-linejoin:round; stroke-width:2; stroke-opacity:0.1; fill:none\" points=\"186.274,1445.75 2352.76,1445.75 \"/>\n",
       "<polyline clip-path=\"url(#clip382)\" style=\"stroke:#000000; stroke-linecap:round; stroke-linejoin:round; stroke-width:2; stroke-opacity:0.1; fill:none\" points=\"186.274,1106.31 2352.76,1106.31 \"/>\n",
       "<polyline clip-path=\"url(#clip382)\" style=\"stroke:#000000; stroke-linecap:round; stroke-linejoin:round; stroke-width:2; stroke-opacity:0.1; fill:none\" points=\"186.274,766.865 2352.76,766.865 \"/>\n",
       "<polyline clip-path=\"url(#clip382)\" style=\"stroke:#000000; stroke-linecap:round; stroke-linejoin:round; stroke-width:2; stroke-opacity:0.1; fill:none\" points=\"186.274,427.42 2352.76,427.42 \"/>\n",
       "<polyline clip-path=\"url(#clip382)\" style=\"stroke:#000000; stroke-linecap:round; stroke-linejoin:round; stroke-width:2; stroke-opacity:0.1; fill:none\" points=\"186.274,87.9763 2352.76,87.9763 \"/>\n",
       "<polyline clip-path=\"url(#clip380)\" style=\"stroke:#000000; stroke-linecap:round; stroke-linejoin:round; stroke-width:4; stroke-opacity:1; fill:none\" points=\"186.274,1486.45 2352.76,1486.45 \"/>\n",
       "<polyline clip-path=\"url(#clip380)\" style=\"stroke:#000000; stroke-linecap:round; stroke-linejoin:round; stroke-width:4; stroke-opacity:1; fill:none\" points=\"247.59,1486.45 247.59,1467.55 \"/>\n",
       "<polyline clip-path=\"url(#clip380)\" style=\"stroke:#000000; stroke-linecap:round; stroke-linejoin:round; stroke-width:4; stroke-opacity:1; fill:none\" points=\"758.552,1486.45 758.552,1467.55 \"/>\n",
       "<polyline clip-path=\"url(#clip380)\" style=\"stroke:#000000; stroke-linecap:round; stroke-linejoin:round; stroke-width:4; stroke-opacity:1; fill:none\" points=\"1269.51,1486.45 1269.51,1467.55 \"/>\n",
       "<polyline clip-path=\"url(#clip380)\" style=\"stroke:#000000; stroke-linecap:round; stroke-linejoin:round; stroke-width:4; stroke-opacity:1; fill:none\" points=\"1780.48,1486.45 1780.48,1467.55 \"/>\n",
       "<polyline clip-path=\"url(#clip380)\" style=\"stroke:#000000; stroke-linecap:round; stroke-linejoin:round; stroke-width:4; stroke-opacity:1; fill:none\" points=\"2291.44,1486.45 2291.44,1467.55 \"/>\n",
       "<path clip-path=\"url(#clip380)\" d=\"M194.118 1532.02 L223.793 1532.02 L223.793 1535.95 L194.118 1535.95 L194.118 1532.02 Z\" fill=\"#000000\" fill-rule=\"nonzero\" fill-opacity=\"1\" /><path clip-path=\"url(#clip380)\" d=\"M234.696 1544.91 L242.335 1544.91 L242.335 1518.55 L234.025 1520.21 L234.025 1515.95 L242.289 1514.29 L246.965 1514.29 L246.965 1544.91 L254.603 1544.91 L254.603 1548.85 L234.696 1548.85 L234.696 1544.91 Z\" fill=\"#000000\" fill-rule=\"nonzero\" fill-opacity=\"1\" /><path clip-path=\"url(#clip380)\" d=\"M264.048 1542.97 L268.932 1542.97 L268.932 1548.85 L264.048 1548.85 L264.048 1542.97 Z\" fill=\"#000000\" fill-rule=\"nonzero\" fill-opacity=\"1\" /><path clip-path=\"url(#clip380)\" d=\"M289.117 1517.37 Q285.506 1517.37 283.677 1520.93 Q281.872 1524.47 281.872 1531.6 Q281.872 1538.71 283.677 1542.27 Q285.506 1545.82 289.117 1545.82 Q292.751 1545.82 294.557 1542.27 Q296.386 1538.71 296.386 1531.6 Q296.386 1524.47 294.557 1520.93 Q292.751 1517.37 289.117 1517.37 M289.117 1513.66 Q294.927 1513.66 297.983 1518.27 Q301.061 1522.85 301.061 1531.6 Q301.061 1540.33 297.983 1544.94 Q294.927 1549.52 289.117 1549.52 Q283.307 1549.52 280.228 1544.94 Q277.173 1540.33 277.173 1531.6 Q277.173 1522.85 280.228 1518.27 Q283.307 1513.66 289.117 1513.66 Z\" fill=\"#000000\" fill-rule=\"nonzero\" fill-opacity=\"1\" /><path clip-path=\"url(#clip380)\" d=\"M705.578 1532.02 L735.254 1532.02 L735.254 1535.95 L705.578 1535.95 L705.578 1532.02 Z\" fill=\"#000000\" fill-rule=\"nonzero\" fill-opacity=\"1\" /><path clip-path=\"url(#clip380)\" d=\"M755.346 1517.37 Q751.735 1517.37 749.906 1520.93 Q748.101 1524.47 748.101 1531.6 Q748.101 1538.71 749.906 1542.27 Q751.735 1545.82 755.346 1545.82 Q758.98 1545.82 760.786 1542.27 Q762.615 1538.71 762.615 1531.6 Q762.615 1524.47 760.786 1520.93 Q758.98 1517.37 755.346 1517.37 M755.346 1513.66 Q761.156 1513.66 764.212 1518.27 Q767.291 1522.85 767.291 1531.6 Q767.291 1540.33 764.212 1544.94 Q761.156 1549.52 755.346 1549.52 Q749.536 1549.52 746.457 1544.94 Q743.402 1540.33 743.402 1531.6 Q743.402 1522.85 746.457 1518.27 Q749.536 1513.66 755.346 1513.66 Z\" fill=\"#000000\" fill-rule=\"nonzero\" fill-opacity=\"1\" /><path clip-path=\"url(#clip380)\" d=\"M775.508 1542.97 L780.392 1542.97 L780.392 1548.85 L775.508 1548.85 L775.508 1542.97 Z\" fill=\"#000000\" fill-rule=\"nonzero\" fill-opacity=\"1\" /><path clip-path=\"url(#clip380)\" d=\"M790.624 1514.29 L808.98 1514.29 L808.98 1518.22 L794.906 1518.22 L794.906 1526.7 Q795.925 1526.35 796.943 1526.19 Q797.962 1526 798.98 1526 Q804.767 1526 808.147 1529.17 Q811.526 1532.34 811.526 1537.76 Q811.526 1543.34 808.054 1546.44 Q804.582 1549.52 798.263 1549.52 Q796.087 1549.52 793.818 1549.15 Q791.573 1548.78 789.166 1548.04 L789.166 1543.34 Q791.249 1544.47 793.471 1545.03 Q795.693 1545.58 798.17 1545.58 Q802.175 1545.58 804.513 1543.48 Q806.851 1541.37 806.851 1537.76 Q806.851 1534.15 804.513 1532.04 Q802.175 1529.94 798.17 1529.94 Q796.295 1529.94 794.42 1530.35 Q792.568 1530.77 790.624 1531.65 L790.624 1514.29 Z\" fill=\"#000000\" fill-rule=\"nonzero\" fill-opacity=\"1\" /><path clip-path=\"url(#clip380)\" d=\"M1246.9 1517.37 Q1243.29 1517.37 1241.46 1520.93 Q1239.65 1524.47 1239.65 1531.6 Q1239.65 1538.71 1241.46 1542.27 Q1243.29 1545.82 1246.9 1545.82 Q1250.53 1545.82 1252.34 1542.27 Q1254.17 1538.71 1254.17 1531.6 Q1254.17 1524.47 1252.34 1520.93 Q1250.53 1517.37 1246.9 1517.37 M1246.9 1513.66 Q1252.71 1513.66 1255.77 1518.27 Q1258.84 1522.85 1258.84 1531.6 Q1258.84 1540.33 1255.77 1544.94 Q1252.71 1549.52 1246.9 1549.52 Q1241.09 1549.52 1238.01 1544.94 Q1234.95 1540.33 1234.95 1531.6 Q1234.95 1522.85 1238.01 1518.27 Q1241.09 1513.66 1246.9 1513.66 Z\" fill=\"#000000\" fill-rule=\"nonzero\" fill-opacity=\"1\" /><path clip-path=\"url(#clip380)\" d=\"M1267.06 1542.97 L1271.95 1542.97 L1271.95 1548.85 L1267.06 1548.85 L1267.06 1542.97 Z\" fill=\"#000000\" fill-rule=\"nonzero\" fill-opacity=\"1\" /><path clip-path=\"url(#clip380)\" d=\"M1292.13 1517.37 Q1288.52 1517.37 1286.69 1520.93 Q1284.89 1524.47 1284.89 1531.6 Q1284.89 1538.71 1286.69 1542.27 Q1288.52 1545.82 1292.13 1545.82 Q1295.76 1545.82 1297.57 1542.27 Q1299.4 1538.71 1299.4 1531.6 Q1299.4 1524.47 1297.57 1520.93 Q1295.76 1517.37 1292.13 1517.37 M1292.13 1513.66 Q1297.94 1513.66 1301 1518.27 Q1304.07 1522.85 1304.07 1531.6 Q1304.07 1540.33 1301 1544.94 Q1297.94 1549.52 1292.13 1549.52 Q1286.32 1549.52 1283.24 1544.94 Q1280.19 1540.33 1280.19 1531.6 Q1280.19 1522.85 1283.24 1518.27 Q1286.32 1513.66 1292.13 1513.66 Z\" fill=\"#000000\" fill-rule=\"nonzero\" fill-opacity=\"1\" /><path clip-path=\"url(#clip380)\" d=\"M1758.36 1517.37 Q1754.75 1517.37 1752.92 1520.93 Q1751.11 1524.47 1751.11 1531.6 Q1751.11 1538.71 1752.92 1542.27 Q1754.75 1545.82 1758.36 1545.82 Q1761.99 1545.82 1763.8 1542.27 Q1765.63 1538.71 1765.63 1531.6 Q1765.63 1524.47 1763.8 1520.93 Q1761.99 1517.37 1758.36 1517.37 M1758.36 1513.66 Q1764.17 1513.66 1767.23 1518.27 Q1770.3 1522.85 1770.3 1531.6 Q1770.3 1540.33 1767.23 1544.94 Q1764.17 1549.52 1758.36 1549.52 Q1752.55 1549.52 1749.47 1544.94 Q1746.42 1540.33 1746.42 1531.6 Q1746.42 1522.85 1749.47 1518.27 Q1752.55 1513.66 1758.36 1513.66 Z\" fill=\"#000000\" fill-rule=\"nonzero\" fill-opacity=\"1\" /><path clip-path=\"url(#clip380)\" d=\"M1778.52 1542.97 L1783.41 1542.97 L1783.41 1548.85 L1778.52 1548.85 L1778.52 1542.97 Z\" fill=\"#000000\" fill-rule=\"nonzero\" fill-opacity=\"1\" /><path clip-path=\"url(#clip380)\" d=\"M1793.64 1514.29 L1811.99 1514.29 L1811.99 1518.22 L1797.92 1518.22 L1797.92 1526.7 Q1798.94 1526.35 1799.96 1526.19 Q1800.98 1526 1801.99 1526 Q1807.78 1526 1811.16 1529.17 Q1814.54 1532.34 1814.54 1537.76 Q1814.54 1543.34 1811.07 1546.44 Q1807.6 1549.52 1801.28 1549.52 Q1799.1 1549.52 1796.83 1549.15 Q1794.59 1548.78 1792.18 1548.04 L1792.18 1543.34 Q1794.26 1544.47 1796.48 1545.03 Q1798.71 1545.58 1801.18 1545.58 Q1805.19 1545.58 1807.53 1543.48 Q1809.86 1541.37 1809.86 1537.76 Q1809.86 1534.15 1807.53 1532.04 Q1805.19 1529.94 1801.18 1529.94 Q1799.31 1529.94 1797.43 1530.35 Q1795.58 1530.77 1793.64 1531.65 L1793.64 1514.29 Z\" fill=\"#000000\" fill-rule=\"nonzero\" fill-opacity=\"1\" /><path clip-path=\"url(#clip380)\" d=\"M2258.59 1544.91 L2266.23 1544.91 L2266.23 1518.55 L2257.92 1520.21 L2257.92 1515.95 L2266.19 1514.29 L2270.86 1514.29 L2270.86 1544.91 L2278.5 1544.91 L2278.5 1548.85 L2258.59 1548.85 L2258.59 1544.91 Z\" fill=\"#000000\" fill-rule=\"nonzero\" fill-opacity=\"1\" /><path clip-path=\"url(#clip380)\" d=\"M2287.95 1542.97 L2292.83 1542.97 L2292.83 1548.85 L2287.95 1548.85 L2287.95 1542.97 Z\" fill=\"#000000\" fill-rule=\"nonzero\" fill-opacity=\"1\" /><path clip-path=\"url(#clip380)\" d=\"M2313.01 1517.37 Q2309.4 1517.37 2307.57 1520.93 Q2305.77 1524.47 2305.77 1531.6 Q2305.77 1538.71 2307.57 1542.27 Q2309.4 1545.82 2313.01 1545.82 Q2316.65 1545.82 2318.45 1542.27 Q2320.28 1538.71 2320.28 1531.6 Q2320.28 1524.47 2318.45 1520.93 Q2316.65 1517.37 2313.01 1517.37 M2313.01 1513.66 Q2318.82 1513.66 2321.88 1518.27 Q2324.96 1522.85 2324.96 1531.6 Q2324.96 1540.33 2321.88 1544.94 Q2318.82 1549.52 2313.01 1549.52 Q2307.2 1549.52 2304.13 1544.94 Q2301.07 1540.33 2301.07 1531.6 Q2301.07 1522.85 2304.13 1518.27 Q2307.2 1513.66 2313.01 1513.66 Z\" fill=\"#000000\" fill-rule=\"nonzero\" fill-opacity=\"1\" /><polyline clip-path=\"url(#clip380)\" style=\"stroke:#000000; stroke-linecap:round; stroke-linejoin:round; stroke-width:4; stroke-opacity:1; fill:none\" points=\"186.274,1486.45 186.274,47.2441 \"/>\n",
       "<polyline clip-path=\"url(#clip380)\" style=\"stroke:#000000; stroke-linecap:round; stroke-linejoin:round; stroke-width:4; stroke-opacity:1; fill:none\" points=\"186.274,1445.75 205.172,1445.75 \"/>\n",
       "<polyline clip-path=\"url(#clip380)\" style=\"stroke:#000000; stroke-linecap:round; stroke-linejoin:round; stroke-width:4; stroke-opacity:1; fill:none\" points=\"186.274,1106.31 205.172,1106.31 \"/>\n",
       "<polyline clip-path=\"url(#clip380)\" style=\"stroke:#000000; stroke-linecap:round; stroke-linejoin:round; stroke-width:4; stroke-opacity:1; fill:none\" points=\"186.274,766.865 205.172,766.865 \"/>\n",
       "<polyline clip-path=\"url(#clip380)\" style=\"stroke:#000000; stroke-linecap:round; stroke-linejoin:round; stroke-width:4; stroke-opacity:1; fill:none\" points=\"186.274,427.42 205.172,427.42 \"/>\n",
       "<polyline clip-path=\"url(#clip380)\" style=\"stroke:#000000; stroke-linecap:round; stroke-linejoin:round; stroke-width:4; stroke-opacity:1; fill:none\" points=\"186.274,87.9763 205.172,87.9763 \"/>\n",
       "<path clip-path=\"url(#clip380)\" d=\"M62.9365 1431.55 Q59.3254 1431.55 57.4967 1435.12 Q55.6912 1438.66 55.6912 1445.79 Q55.6912 1452.89 57.4967 1456.46 Q59.3254 1460 62.9365 1460 Q66.5707 1460 68.3763 1456.46 Q70.205 1452.89 70.205 1445.79 Q70.205 1438.66 68.3763 1435.12 Q66.5707 1431.55 62.9365 1431.55 M62.9365 1427.85 Q68.7467 1427.85 71.8022 1432.45 Q74.8809 1437.04 74.8809 1445.79 Q74.8809 1454.51 71.8022 1459.12 Q68.7467 1463.7 62.9365 1463.7 Q57.1264 1463.7 54.0477 1459.12 Q50.9921 1454.51 50.9921 1445.79 Q50.9921 1437.04 54.0477 1432.45 Q57.1264 1427.85 62.9365 1427.85 Z\" fill=\"#000000\" fill-rule=\"nonzero\" fill-opacity=\"1\" /><path clip-path=\"url(#clip380)\" d=\"M83.0984 1457.15 L87.9827 1457.15 L87.9827 1463.03 L83.0984 1463.03 L83.0984 1457.15 Z\" fill=\"#000000\" fill-rule=\"nonzero\" fill-opacity=\"1\" /><path clip-path=\"url(#clip380)\" d=\"M108.168 1431.55 Q104.557 1431.55 102.728 1435.12 Q100.922 1438.66 100.922 1445.79 Q100.922 1452.89 102.728 1456.46 Q104.557 1460 108.168 1460 Q111.802 1460 113.608 1456.46 Q115.436 1452.89 115.436 1445.79 Q115.436 1438.66 113.608 1435.12 Q111.802 1431.55 108.168 1431.55 M108.168 1427.85 Q113.978 1427.85 117.033 1432.45 Q120.112 1437.04 120.112 1445.79 Q120.112 1454.51 117.033 1459.12 Q113.978 1463.7 108.168 1463.7 Q102.358 1463.7 99.2789 1459.12 Q96.2234 1454.51 96.2234 1445.79 Q96.2234 1437.04 99.2789 1432.45 Q102.358 1427.85 108.168 1427.85 Z\" fill=\"#000000\" fill-rule=\"nonzero\" fill-opacity=\"1\" /><path clip-path=\"url(#clip380)\" d=\"M138.33 1431.55 Q134.719 1431.55 132.89 1435.12 Q131.084 1438.66 131.084 1445.79 Q131.084 1452.89 132.89 1456.46 Q134.719 1460 138.33 1460 Q141.964 1460 143.769 1456.46 Q145.598 1452.89 145.598 1445.79 Q145.598 1438.66 143.769 1435.12 Q141.964 1431.55 138.33 1431.55 M138.33 1427.85 Q144.14 1427.85 147.195 1432.45 Q150.274 1437.04 150.274 1445.79 Q150.274 1454.51 147.195 1459.12 Q144.14 1463.7 138.33 1463.7 Q132.519 1463.7 129.441 1459.12 Q126.385 1454.51 126.385 1445.79 Q126.385 1437.04 129.441 1432.45 Q132.519 1427.85 138.33 1427.85 Z\" fill=\"#000000\" fill-rule=\"nonzero\" fill-opacity=\"1\" /><path clip-path=\"url(#clip380)\" d=\"M63.9319 1092.11 Q60.3208 1092.11 58.4921 1095.67 Q56.6865 1099.21 56.6865 1106.34 Q56.6865 1113.45 58.4921 1117.01 Q60.3208 1120.56 63.9319 1120.56 Q67.5661 1120.56 69.3717 1117.01 Q71.2004 1113.45 71.2004 1106.34 Q71.2004 1099.21 69.3717 1095.67 Q67.5661 1092.11 63.9319 1092.11 M63.9319 1088.4 Q69.742 1088.4 72.7976 1093.01 Q75.8763 1097.59 75.8763 1106.34 Q75.8763 1115.07 72.7976 1119.68 Q69.742 1124.26 63.9319 1124.26 Q58.1217 1124.26 55.043 1119.68 Q51.9875 1115.07 51.9875 1106.34 Q51.9875 1097.59 55.043 1093.01 Q58.1217 1088.4 63.9319 1088.4 Z\" fill=\"#000000\" fill-rule=\"nonzero\" fill-opacity=\"1\" /><path clip-path=\"url(#clip380)\" d=\"M84.0938 1117.71 L88.978 1117.71 L88.978 1123.59 L84.0938 1123.59 L84.0938 1117.71 Z\" fill=\"#000000\" fill-rule=\"nonzero\" fill-opacity=\"1\" /><path clip-path=\"url(#clip380)\" d=\"M103.191 1119.65 L119.51 1119.65 L119.51 1123.59 L97.566 1123.59 L97.566 1119.65 Q100.228 1116.9 104.811 1112.27 Q109.418 1107.62 110.598 1106.27 Q112.844 1103.75 113.723 1102.01 Q114.626 1100.26 114.626 1098.57 Q114.626 1095.81 112.682 1094.08 Q110.76 1092.34 107.658 1092.34 Q105.459 1092.34 103.006 1093.1 Q100.575 1093.87 97.7974 1095.42 L97.7974 1090.7 Q100.621 1089.56 103.075 1088.98 Q105.529 1088.4 107.566 1088.4 Q112.936 1088.4 116.131 1091.09 Q119.325 1093.77 119.325 1098.26 Q119.325 1100.39 118.515 1102.32 Q117.728 1104.21 115.621 1106.81 Q115.043 1107.48 111.941 1110.7 Q108.839 1113.89 103.191 1119.65 Z\" fill=\"#000000\" fill-rule=\"nonzero\" fill-opacity=\"1\" /><path clip-path=\"url(#clip380)\" d=\"M129.371 1089.03 L147.728 1089.03 L147.728 1092.96 L133.654 1092.96 L133.654 1101.44 Q134.672 1101.09 135.691 1100.93 Q136.709 1100.74 137.728 1100.74 Q143.515 1100.74 146.894 1103.91 Q150.274 1107.08 150.274 1112.5 Q150.274 1118.08 146.802 1121.18 Q143.33 1124.26 137.01 1124.26 Q134.834 1124.26 132.566 1123.89 Q130.32 1123.52 127.913 1122.78 L127.913 1118.08 Q129.996 1119.21 132.219 1119.77 Q134.441 1120.33 136.918 1120.33 Q140.922 1120.33 143.26 1118.22 Q145.598 1116.11 145.598 1112.5 Q145.598 1108.89 143.26 1106.78 Q140.922 1104.68 136.918 1104.68 Q135.043 1104.68 133.168 1105.09 Q131.316 1105.51 129.371 1106.39 L129.371 1089.03 Z\" fill=\"#000000\" fill-rule=\"nonzero\" fill-opacity=\"1\" /><path clip-path=\"url(#clip380)\" d=\"M62.9365 752.663 Q59.3254 752.663 57.4967 756.228 Q55.6912 759.77 55.6912 766.899 Q55.6912 774.006 57.4967 777.571 Q59.3254 781.112 62.9365 781.112 Q66.5707 781.112 68.3763 777.571 Q70.205 774.006 70.205 766.899 Q70.205 759.77 68.3763 756.228 Q66.5707 752.663 62.9365 752.663 M62.9365 748.96 Q68.7467 748.96 71.8022 753.566 Q74.8809 758.149 74.8809 766.899 Q74.8809 775.626 71.8022 780.233 Q68.7467 784.816 62.9365 784.816 Q57.1264 784.816 54.0477 780.233 Q50.9921 775.626 50.9921 766.899 Q50.9921 758.149 54.0477 753.566 Q57.1264 748.96 62.9365 748.96 Z\" fill=\"#000000\" fill-rule=\"nonzero\" fill-opacity=\"1\" /><path clip-path=\"url(#clip380)\" d=\"M83.0984 778.265 L87.9827 778.265 L87.9827 784.145 L83.0984 784.145 L83.0984 778.265 Z\" fill=\"#000000\" fill-rule=\"nonzero\" fill-opacity=\"1\" /><path clip-path=\"url(#clip380)\" d=\"M98.2141 749.585 L116.57 749.585 L116.57 753.52 L102.496 753.52 L102.496 761.992 Q103.515 761.645 104.534 761.483 Q105.552 761.298 106.571 761.298 Q112.358 761.298 115.737 764.469 Q119.117 767.64 119.117 773.057 Q119.117 778.635 115.645 781.737 Q112.172 784.816 105.853 784.816 Q103.677 784.816 101.409 784.446 Q99.1632 784.075 96.7558 783.334 L96.7558 778.635 Q98.8391 779.77 101.061 780.325 Q103.284 780.881 105.76 780.881 Q109.765 780.881 112.103 778.774 Q114.441 776.668 114.441 773.057 Q114.441 769.446 112.103 767.339 Q109.765 765.233 105.76 765.233 Q103.885 765.233 102.01 765.649 Q100.159 766.066 98.2141 766.946 L98.2141 749.585 Z\" fill=\"#000000\" fill-rule=\"nonzero\" fill-opacity=\"1\" /><path clip-path=\"url(#clip380)\" d=\"M138.33 752.663 Q134.719 752.663 132.89 756.228 Q131.084 759.77 131.084 766.899 Q131.084 774.006 132.89 777.571 Q134.719 781.112 138.33 781.112 Q141.964 781.112 143.769 777.571 Q145.598 774.006 145.598 766.899 Q145.598 759.77 143.769 756.228 Q141.964 752.663 138.33 752.663 M138.33 748.96 Q144.14 748.96 147.195 753.566 Q150.274 758.149 150.274 766.899 Q150.274 775.626 147.195 780.233 Q144.14 784.816 138.33 784.816 Q132.519 784.816 129.441 780.233 Q126.385 775.626 126.385 766.899 Q126.385 758.149 129.441 753.566 Q132.519 748.96 138.33 748.96 Z\" fill=\"#000000\" fill-rule=\"nonzero\" fill-opacity=\"1\" /><path clip-path=\"url(#clip380)\" d=\"M63.9319 413.219 Q60.3208 413.219 58.4921 416.784 Q56.6865 420.326 56.6865 427.455 Q56.6865 434.562 58.4921 438.126 Q60.3208 441.668 63.9319 441.668 Q67.5661 441.668 69.3717 438.126 Q71.2004 434.562 71.2004 427.455 Q71.2004 420.326 69.3717 416.784 Q67.5661 413.219 63.9319 413.219 M63.9319 409.515 Q69.742 409.515 72.7976 414.122 Q75.8763 418.705 75.8763 427.455 Q75.8763 436.182 72.7976 440.788 Q69.742 445.372 63.9319 445.372 Q58.1217 445.372 55.043 440.788 Q51.9875 436.182 51.9875 427.455 Q51.9875 418.705 55.043 414.122 Q58.1217 409.515 63.9319 409.515 Z\" fill=\"#000000\" fill-rule=\"nonzero\" fill-opacity=\"1\" /><path clip-path=\"url(#clip380)\" d=\"M84.0938 438.821 L88.978 438.821 L88.978 444.7 L84.0938 444.7 L84.0938 438.821 Z\" fill=\"#000000\" fill-rule=\"nonzero\" fill-opacity=\"1\" /><path clip-path=\"url(#clip380)\" d=\"M97.9826 410.14 L120.205 410.14 L120.205 412.131 L107.658 444.7 L102.774 444.7 L114.58 414.076 L97.9826 414.076 L97.9826 410.14 Z\" fill=\"#000000\" fill-rule=\"nonzero\" fill-opacity=\"1\" /><path clip-path=\"url(#clip380)\" d=\"M129.371 410.14 L147.728 410.14 L147.728 414.076 L133.654 414.076 L133.654 422.548 Q134.672 422.201 135.691 422.039 Q136.709 421.853 137.728 421.853 Q143.515 421.853 146.894 425.025 Q150.274 428.196 150.274 433.613 Q150.274 439.191 146.802 442.293 Q143.33 445.372 137.01 445.372 Q134.834 445.372 132.566 445.001 Q130.32 444.631 127.913 443.89 L127.913 439.191 Q129.996 440.326 132.219 440.881 Q134.441 441.437 136.918 441.437 Q140.922 441.437 143.26 439.33 Q145.598 437.224 145.598 433.613 Q145.598 430.001 143.26 427.895 Q140.922 425.789 136.918 425.789 Q135.043 425.789 133.168 426.205 Q131.316 426.622 129.371 427.501 L129.371 410.14 Z\" fill=\"#000000\" fill-rule=\"nonzero\" fill-opacity=\"1\" /><path clip-path=\"url(#clip380)\" d=\"M53.7467 101.321 L61.3856 101.321 L61.3856 74.9555 L53.0754 76.6222 L53.0754 72.3629 L61.3393 70.6963 L66.0152 70.6963 L66.0152 101.321 L73.654 101.321 L73.654 105.256 L53.7467 105.256 L53.7467 101.321 Z\" fill=\"#000000\" fill-rule=\"nonzero\" fill-opacity=\"1\" /><path clip-path=\"url(#clip380)\" d=\"M83.0984 99.3767 L87.9827 99.3767 L87.9827 105.256 L83.0984 105.256 L83.0984 99.3767 Z\" fill=\"#000000\" fill-rule=\"nonzero\" fill-opacity=\"1\" /><path clip-path=\"url(#clip380)\" d=\"M108.168 73.775 Q104.557 73.775 102.728 77.3398 Q100.922 80.8814 100.922 88.011 Q100.922 95.1174 102.728 98.6822 Q104.557 102.224 108.168 102.224 Q111.802 102.224 113.608 98.6822 Q115.436 95.1174 115.436 88.011 Q115.436 80.8814 113.608 77.3398 Q111.802 73.775 108.168 73.775 M108.168 70.0713 Q113.978 70.0713 117.033 74.6777 Q120.112 79.261 120.112 88.011 Q120.112 96.7378 117.033 101.344 Q113.978 105.928 108.168 105.928 Q102.358 105.928 99.2789 101.344 Q96.2234 96.7378 96.2234 88.011 Q96.2234 79.261 99.2789 74.6777 Q102.358 70.0713 108.168 70.0713 Z\" fill=\"#000000\" fill-rule=\"nonzero\" fill-opacity=\"1\" /><path clip-path=\"url(#clip380)\" d=\"M138.33 73.775 Q134.719 73.775 132.89 77.3398 Q131.084 80.8814 131.084 88.011 Q131.084 95.1174 132.89 98.6822 Q134.719 102.224 138.33 102.224 Q141.964 102.224 143.769 98.6822 Q145.598 95.1174 145.598 88.011 Q145.598 80.8814 143.769 77.3398 Q141.964 73.775 138.33 73.775 M138.33 70.0713 Q144.14 70.0713 147.195 74.6777 Q150.274 79.261 150.274 88.011 Q150.274 96.7378 147.195 101.344 Q144.14 105.928 138.33 105.928 Q132.519 105.928 129.441 101.344 Q126.385 96.7378 126.385 88.011 Q126.385 79.261 129.441 74.6777 Q132.519 70.0713 138.33 70.0713 Z\" fill=\"#000000\" fill-rule=\"nonzero\" fill-opacity=\"1\" /><polyline clip-path=\"url(#clip382)\" style=\"stroke:#009af9; stroke-linecap:round; stroke-linejoin:round; stroke-width:4; stroke-opacity:1; fill:none\" points=\"247.59,87.9763 249.587,87.9763 251.585,87.9763 253.583,87.9763 255.581,87.9763 257.579,87.9763 259.577,87.9763 261.575,87.9763 263.573,87.9763 265.571,87.9763 267.569,87.9763 269.566,87.9763 271.564,87.9763 273.562,87.9763 275.56,87.9763 277.558,87.9763 279.556,87.9763 281.554,87.9763 283.552,87.9763 285.55,87.9763 287.548,87.9763 289.545,87.9763 291.543,87.9763 293.541,87.9763 295.539,87.9763 297.537,87.9763 299.535,87.9763 301.533,87.9763 303.531,87.9763 305.529,87.9763 307.527,87.9763 309.524,87.9763 311.522,87.9763 313.52,87.9763 315.518,87.9763 317.516,87.9763 319.514,87.9763 321.512,87.9763 323.51,87.9763 325.508,87.9763 327.505,87.9763 329.503,87.9763 331.501,87.9763 333.499,87.9763 335.497,87.9763 337.495,87.9763 339.493,87.9763 341.491,87.9763 343.489,87.9763 345.487,87.9763 347.484,87.9763 349.482,87.9763 351.48,87.9763 353.478,87.9763 355.476,87.9763 357.474,87.9763 359.472,87.9763 361.47,87.9763 363.468,87.9763 365.466,87.9763 367.463,87.9763 369.461,87.9763 371.459,87.9763 373.457,87.9763 375.455,87.9763 377.453,87.9763 379.451,87.9763 381.449,87.9763 383.447,87.9763 385.445,87.9763 387.442,87.9763 389.44,87.9763 391.438,87.9763 393.436,87.9763 395.434,87.9763 397.432,87.9763 399.43,87.9763 401.428,87.9763 403.426,87.9763 405.424,87.9763 407.421,87.9763 409.419,87.9763 411.417,87.9763 413.415,87.9763 415.413,87.9763 417.411,87.9763 419.409,87.9763 421.407,87.9763 423.405,87.9763 425.403,87.9763 427.4,87.9763 429.398,87.9763 431.396,87.9763 433.394,87.9763 435.392,87.9763 437.39,87.9763 439.388,87.9763 441.386,87.9763 443.384,87.9763 445.382,87.9763 447.379,87.9763 449.377,87.9763 451.375,87.9763 453.373,87.9763 455.371,87.9763 457.369,87.9763 459.367,87.9763 461.365,87.9763 463.363,87.9763 465.361,87.9763 467.358,87.9763 469.356,87.9763 471.354,87.9763 473.352,87.9763 475.35,87.9763 477.348,87.9763 479.346,87.9763 481.344,87.9763 483.342,87.9763 485.34,87.9763 487.337,87.9763 489.335,87.9763 491.333,87.9763 493.331,87.9763 495.329,87.9763 497.327,87.9763 499.325,87.9763 501.323,87.9763 503.321,87.9763 505.319,87.9763 507.316,87.9763 509.314,87.9763 511.312,87.9763 513.31,87.9763 515.308,87.9763 517.306,87.9763 519.304,87.9763 521.302,87.9763 523.3,87.9763 525.298,87.9763 527.295,87.9763 529.293,87.9763 531.291,87.9763 533.289,87.9763 535.287,87.9763 537.285,87.9763 539.283,87.9763 541.281,87.9763 543.279,87.9763 545.277,87.9763 547.274,87.9763 549.272,87.9763 551.27,87.9763 553.268,87.9763 555.266,87.9763 557.264,87.9763 559.262,87.9763 561.26,87.9763 563.258,87.9763 565.255,87.9763 567.253,87.9763 569.251,87.9763 571.249,87.9763 573.247,87.9763 575.245,87.9763 577.243,87.9763 579.241,87.9763 581.239,87.9763 583.237,87.9763 585.234,87.9763 587.232,87.9763 589.23,87.9763 591.228,87.9763 593.226,87.9763 595.224,87.9763 597.222,87.9763 599.22,87.9763 601.218,87.9763 603.216,87.9763 605.213,87.9763 607.211,87.9763 609.209,87.9763 611.207,87.9763 613.205,87.9763 615.203,87.9763 617.201,87.9763 619.199,87.9763 621.197,87.9763 623.195,87.9763 625.192,87.9763 627.19,87.9763 629.188,87.9763 631.186,87.9763 633.184,87.9763 635.182,87.9763 637.18,87.9763 639.178,87.9763 641.176,87.9763 643.174,87.9763 645.171,87.9763 647.169,87.9763 649.167,87.9763 651.165,87.9763 653.163,87.9763 655.161,87.9763 657.159,87.9763 659.157,87.9763 661.155,87.9763 663.153,87.9763 665.15,87.9763 667.148,87.9763 669.146,87.9763 671.144,87.9763 673.142,87.9763 675.14,87.9763 677.138,87.9763 679.136,87.9763 681.134,87.9763 683.132,87.9763 685.129,87.9763 687.127,87.9763 689.125,87.9763 691.123,87.9763 693.121,87.9763 695.119,87.9763 697.117,87.9763 699.115,87.9763 701.113,87.9763 703.111,87.9763 705.108,87.9763 707.106,87.9763 709.104,87.9763 711.102,87.9763 713.1,87.9763 715.098,87.9763 717.096,87.9763 719.094,87.9763 721.092,87.9763 723.09,87.9763 725.087,87.9763 727.085,87.9763 729.083,87.9763 731.081,87.9763 733.079,87.9763 735.077,87.9763 737.075,87.9763 739.073,87.9763 741.071,87.9763 743.069,87.9763 745.066,87.9763 747.064,87.9763 749.062,87.9763 751.06,87.9763 753.058,87.9763 755.056,87.9763 757.054,87.9763 759.052,87.9763 761.05,87.9763 763.048,87.9763 765.045,87.9763 767.043,87.9763 769.041,87.9763 771.039,87.9763 773.037,87.9763 775.035,87.9763 777.033,87.9763 779.031,87.9763 781.029,87.9763 783.027,87.9763 785.024,87.9763 787.022,87.9763 789.02,87.9763 791.018,87.9763 793.016,87.9763 795.014,87.9763 797.012,87.9763 799.01,87.9763 801.008,87.9763 803.005,87.9763 805.003,87.9763 807.001,87.9763 808.999,87.9763 810.997,87.9763 812.995,87.9763 814.993,87.9763 816.991,87.9763 818.989,87.9763 820.987,87.9763 822.984,87.9763 824.982,87.9763 826.98,87.9763 828.978,87.9763 830.976,87.9763 832.974,87.9763 834.972,87.9763 836.97,87.9763 838.968,87.9763 840.966,87.9763 842.963,87.9763 844.961,87.9763 846.959,87.9763 848.957,87.9763 850.955,87.9763 852.953,87.9763 854.951,87.9763 856.949,87.9763 858.947,87.9763 860.945,87.9763 862.942,87.9763 864.94,87.9763 866.938,87.9763 868.936,87.9763 870.934,87.9763 872.932,87.9763 874.93,87.9763 876.928,87.9763 878.926,87.9763 880.924,87.9763 882.921,87.9763 884.919,87.9763 886.917,87.9763 888.915,87.9763 890.913,87.9763 892.911,87.9763 894.909,87.9763 896.907,87.9763 898.905,87.9763 900.903,87.9763 902.9,87.9763 904.898,87.9763 906.896,87.9763 908.894,87.9763 910.892,87.9763 912.89,87.9763 914.888,87.9763 916.886,87.9763 918.884,87.9763 920.882,87.9763 922.879,87.9763 924.877,87.9763 926.875,87.9763 928.873,87.9763 930.871,87.9763 932.869,87.9763 934.867,87.9763 936.865,87.9763 938.863,87.9763 940.861,87.9763 942.858,87.9763 944.856,87.9763 946.854,87.9763 948.852,87.9763 950.85,87.9763 952.848,87.9763 954.846,87.9763 956.844,87.9763 958.842,87.9763 960.84,87.9763 962.837,87.9763 964.835,87.9763 966.833,87.9763 968.831,87.9763 970.829,87.9763 972.827,87.9763 974.825,87.9763 976.823,87.9763 978.821,87.9763 980.819,87.9763 982.816,87.9763 984.814,87.9763 986.812,87.9763 988.81,87.9763 990.808,87.9763 992.806,87.9763 994.804,87.9763 996.802,87.9763 998.8,87.9763 1000.8,87.9763 1002.8,87.9763 1004.79,87.9763 1006.79,87.9763 1008.79,87.9763 1010.79,87.9763 1012.78,87.9763 1014.78,87.9763 1016.78,87.9763 1018.78,87.9763 1020.78,87.9763 1022.77,87.9763 1024.77,87.9763 1026.77,87.9763 1028.77,87.9763 1030.77,87.9763 1032.76,87.9763 1034.76,87.9763 1036.76,87.9763 1038.76,87.9763 1040.76,87.9763 1042.75,87.9763 1044.75,87.9763 1046.75,87.9763 1048.75,87.9763 1050.74,87.9763 1052.74,87.9763 1054.74,87.9763 1056.74,87.9763 1058.74,87.9763 1060.73,87.9763 1062.73,87.9763 1064.73,87.9763 1066.73,87.9763 1068.73,87.9763 1070.72,87.9763 1072.72,87.9763 1074.72,87.9763 1076.72,87.9763 1078.72,87.9763 1080.71,87.9763 1082.71,87.9763 1084.71,87.9763 1086.71,87.9763 1088.71,87.9763 1090.7,87.9763 1092.7,87.9763 1094.7,87.9763 1096.7,87.9763 1098.69,87.9763 1100.69,87.9763 1102.69,87.9763 1104.69,87.9763 1106.69,87.9763 1108.68,87.9763 1110.68,87.9763 1112.68,87.9763 1114.68,87.9763 1116.68,87.9763 1118.67,87.9763 1120.67,87.9763 1122.67,87.9763 1124.67,87.9763 1126.67,87.9763 1128.66,87.9763 1130.66,87.9763 1132.66,87.9763 1134.66,87.9763 1136.65,87.9763 1138.65,87.9763 1140.65,87.9763 1142.65,87.9763 1144.65,87.9763 1146.64,87.9763 1148.64,87.9763 1150.64,87.9763 1152.64,87.9763 1154.64,87.9763 1156.63,87.9763 1158.63,87.9763 1160.63,87.9763 1162.63,87.9763 1164.63,87.9763 1166.62,87.9763 1168.62,87.9763 1170.62,87.9763 1172.62,87.9763 1174.61,87.9763 1176.61,87.9763 1178.61,87.9763 1180.61,87.9763 1182.61,87.9763 1184.6,87.9763 1186.6,87.9763 1188.6,87.9763 1190.6,87.9763 1192.6,87.9763 1194.59,87.9763 1196.59,87.9763 1198.59,87.9763 1200.59,87.9763 1202.59,87.9763 1204.58,87.9763 1206.58,87.9763 1208.58,87.9763 1210.58,87.9763 1212.57,87.9763 1214.57,87.9763 1216.57,87.9763 1218.57,89.9657 1220.57,116.214 1222.56,141.955 1224.56,167.197 1226.56,191.95 1228.56,216.225 1230.56,240.029 1232.55,263.372 1234.55,286.264 1236.55,308.712 1238.55,330.726 1240.55,352.313 1242.54,373.483 1244.54,394.242 1246.54,414.6 1248.54,434.564 1250.53,454.141 1252.53,473.339 1254.53,492.165 1256.53,510.627 1258.53,528.732 1260.52,546.486 1262.52,563.896 1264.52,580.969 1266.52,597.712 1268.52,614.13 1270.51,630.231 1272.51,646.02 1274.51,661.503 1276.51,676.686 1278.51,691.576 1280.5,706.177 1282.5,720.496 1284.5,734.537 1286.5,748.306 1288.49,761.809 1290.49,775.051 1292.49,788.036 1294.49,800.77 1296.49,813.257 1298.48,825.502 1300.48,837.511 1302.48,849.286 1304.48,860.834 1306.48,872.159 1308.47,883.264 1310.47,894.154 1312.47,904.833 1314.47,915.305 1316.47,925.575 1318.46,935.646 1320.46,945.522 1322.46,955.207 1324.46,964.704 1326.46,974.017 1328.45,983.15 1330.45,992.106 1332.45,1000.89 1334.45,1009.5 1336.44,1017.95 1338.44,1026.23 1340.44,1034.35 1342.44,1042.32 1344.44,1050.13 1346.43,1057.79 1348.43,1065.3 1350.43,1072.66 1352.43,1079.89 1354.43,1086.97 1356.42,1093.92 1358.42,1100.73 1360.42,1107.41 1362.42,1113.96 1364.42,1120.38 1366.41,1126.68 1368.41,1132.86 1370.41,1138.92 1372.41,1144.86 1374.4,1150.68 1376.4,1156.4 1378.4,1162 1380.4,1167.49 1382.4,1172.88 1384.39,1178.16 1386.39,1183.34 1388.39,1188.42 1390.39,1193.41 1392.39,1198.29 1394.38,1203.08 1396.38,1207.78 1398.38,1212.39 1400.38,1216.91 1402.38,1221.34 1404.37,1225.68 1406.37,1229.94 1408.37,1234.12 1410.37,1238.22 1412.36,1242.24 1414.36,1246.18 1416.36,1250.04 1418.36,1253.83 1420.36,1257.54 1422.35,1261.19 1424.35,1264.76 1426.35,1268.27 1428.35,1271.7 1430.35,1275.07 1432.34,1278.38 1434.34,1281.62 1436.34,1284.79 1438.34,1287.91 1440.34,1290.97 1442.33,1293.96 1444.33,1296.9 1446.33,1299.78 1448.33,1302.61 1450.32,1305.38 1452.32,1308.1 1454.32,1310.76 1456.32,1313.38 1458.32,1315.94 1460.31,1318.45 1462.31,1320.92 1464.31,1323.33 1466.31,1325.7 1468.31,1328.03 1470.3,1330.31 1472.3,1332.54 1474.3,1334.73 1476.3,1336.88 1478.3,1338.99 1480.29,1341.06 1482.29,1343.09 1484.29,1345.07 1486.29,1347.02 1488.28,1348.93 1490.28,1350.81 1492.28,1352.65 1494.28,1354.45 1496.28,1356.22 1498.27,1357.95 1500.27,1359.65 1502.27,1361.32 1504.27,1362.95 1506.27,1364.56 1508.26,1366.13 1510.26,1367.67 1512.26,1369.18 1514.26,1370.66 1516.26,1372.12 1518.25,1373.54 1520.25,1374.94 1522.25,1376.31 1524.25,1377.66 1526.24,1378.97 1528.24,1380.27 1530.24,1381.54 1532.24,1382.78 1534.24,1384 1536.23,1385.19 1538.23,1386.37 1540.23,1387.52 1542.23,1388.64 1544.23,1389.75 1546.22,1390.83 1548.22,1391.9 1550.22,1392.94 1552.22,1393.96 1554.22,1394.96 1556.21,1395.95 1558.21,1396.91 1560.21,1397.86 1562.21,1398.78 1564.21,1399.69 1566.2,1400.59 1568.2,1401.46 1570.2,1402.32 1572.2,1403.16 1574.19,1403.98 1576.19,1404.79 1578.19,1405.58 1580.19,1406.36 1582.19,1407.13 1584.18,1407.87 1586.18,1408.61 1588.18,1409.33 1590.18,1410.03 1592.18,1410.72 1594.17,1411.4 1596.17,1412.07 1598.17,1412.72 1600.17,1413.36 1602.17,1413.98 1604.16,1414.6 1606.16,1415.2 1608.16,1415.79 1610.16,1416.37 1612.15,1416.94 1614.15,1417.5 1616.15,1418.05 1618.15,1418.58 1620.15,1419.11 1622.14,1419.63 1624.14,1420.13 1626.14,1420.63 1628.14,1421.11 1630.14,1421.59 1632.13,1422.06 1634.13,1422.52 1636.13,1422.97 1638.13,1423.41 1640.13,1423.84 1642.12,1424.27 1644.12,1424.68 1646.12,1425.09 1648.12,1425.49 1650.11,1425.88 1652.11,1426.27 1654.11,1426.64 1656.11,1427.01 1658.11,1427.38 1660.1,1427.73 1662.1,1428.08 1664.1,1428.42 1666.1,1428.76 1668.1,1429.09 1670.09,1429.41 1672.09,1429.73 1674.09,1430.04 1676.09,1430.34 1678.09,1430.64 1680.08,1430.93 1682.08,1431.22 1684.08,1431.5 1686.08,1431.78 1688.07,1432.05 1690.07,1432.31 1692.07,1432.57 1694.07,1432.83 1696.07,1433.08 1698.06,1433.32 1700.06,1433.56 1702.06,1433.8 1704.06,1434.03 1706.06,1434.26 1708.05,1434.48 1710.05,1434.7 1712.05,1434.91 1714.05,1435.12 1716.05,1435.33 1718.04,1435.53 1720.04,1435.73 1722.04,1435.92 1724.04,1436.11 1726.03,1436.3 1728.03,1436.48 1730.03,1436.66 1732.03,1436.84 1734.03,1437.01 1736.02,1437.18 1738.02,1437.35 1740.02,1437.51 1742.02,1437.67 1744.02,1437.83 1746.01,1437.98 1748.01,1438.13 1750.01,1438.28 1752.01,1438.42 1754.01,1438.56 1756,1438.7 1758,1438.84 1760,1438.97 1762,1439.1 1763.99,1439.23 1765.99,1439.36 1767.99,1439.48 1769.99,1439.6 1771.99,1439.72 1773.98,1439.84 1775.98,1439.95 1777.98,1440.07 1779.98,1440.18 1781.98,1440.28 1783.97,1440.39 1785.97,1440.49 1787.97,1440.6 1789.97,1440.7 1791.97,1440.79 1793.96,1440.89 1795.96,1440.98 1797.96,1441.08 1799.96,1441.17 1801.96,1441.26 1803.95,1441.34 1805.95,1441.43 1807.95,1441.51 1809.95,1441.59 1811.94,1441.67 1813.94,1441.75 1815.94,1441.83 1817.94,1441.91 1819.94,1441.98 1821.93,1442.05 1823.93,1442.13 1825.93,1442.2 1827.93,1442.27 1829.93,1442.33 1831.92,1442.4 1833.92,1442.46 1835.92,1442.53 1837.92,1442.59 1839.92,1442.65 1841.91,1442.71 1843.91,1442.77 1845.91,1442.83 1847.91,1442.88 1849.9,1442.94 1851.9,1442.99 1853.9,1443.05 1855.9,1443.1 1857.9,1443.15 1859.89,1443.2 1861.89,1443.25 1863.89,1443.3 1865.89,1443.35 1867.89,1443.39 1869.88,1443.44 1871.88,1443.48 1873.88,1443.53 1875.88,1443.57 1877.88,1443.61 1879.87,1443.66 1881.87,1443.7 1883.87,1443.74 1885.87,1443.77 1887.86,1443.81 1889.86,1443.85 1891.86,1443.89 1893.86,1443.92 1895.86,1443.96 1897.85,1443.99 1899.85,1444.03 1901.85,1444.06 1903.85,1444.09 1905.85,1444.13 1907.84,1444.16 1909.84,1444.19 1911.84,1444.22 1913.84,1444.25 1915.84,1444.28 1917.83,1444.31 1919.83,1444.33 1921.83,1444.36 1923.83,1444.39 1925.82,1444.41 1927.82,1444.44 1929.82,1444.47 1931.82,1444.49 1933.82,1444.52 1935.81,1444.54 1937.81,1444.56 1939.81,1444.59 1941.81,1444.61 1943.81,1444.63 1945.8,1444.65 1947.8,1444.67 1949.8,1444.69 1951.8,1444.72 1953.8,1444.74 1955.79,1444.76 1957.79,1444.77 1959.79,1444.79 1961.79,1444.81 1963.78,1444.83 1965.78,1444.85 1967.78,1444.87 1969.78,1444.88 1971.78,1444.9 1973.77,1444.92 1975.77,1444.93 1977.77,1444.95 1979.77,1444.96 1981.77,1444.98 1983.76,1444.99 1985.76,1445.01 1987.76,1445.02 1989.76,1445.04 1991.76,1445.05 1993.75,1445.06 1995.75,1445.08 1997.75,1445.09 1999.75,1445.1 2001.74,1445.12 2003.74,1445.13 2005.74,1445.14 2007.74,1445.15 2009.74,1445.16 2011.73,1445.18 2013.73,1445.19 2015.73,1445.2 2017.73,1445.21 2019.73,1445.22 2021.72,1445.23 2023.72,1445.24 2025.72,1445.25 2027.72,1445.26 2029.72,1445.27 2031.71,1445.28 2033.71,1445.29 2035.71,1445.3 2037.71,1445.31 2039.71,1445.31 2041.7,1445.32 2043.7,1445.33 2045.7,1445.34 2047.7,1445.35 2049.69,1445.35 2051.69,1445.36 2053.69,1445.37 2055.69,1445.38 2057.69,1445.38 2059.68,1445.39 2061.68,1445.4 2063.68,1445.41 2065.68,1445.41 2067.68,1445.42 2069.67,1445.43 2071.67,1445.43 2073.67,1445.44 2075.67,1445.44 2077.67,1445.45 2079.66,1445.46 2081.66,1445.46 2083.66,1445.47 2085.66,1445.47 2087.65,1445.48 2089.65,1445.48 2091.65,1445.49 2093.65,1445.49 2095.65,1445.5 2097.64,1445.5 2099.64,1445.51 2101.64,1445.51 2103.64,1445.52 2105.64,1445.52 2107.63,1445.53 2109.63,1445.53 2111.63,1445.54 2113.63,1445.54 2115.63,1445.54 2117.62,1445.55 2119.62,1445.55 2121.62,1445.56 2123.62,1445.56 2125.61,1445.56 2127.61,1445.57 2129.61,1445.57 2131.61,1445.57 2133.61,1445.58 2135.6,1445.58 2137.6,1445.58 2139.6,1445.59 2141.6,1445.59 2143.6,1445.59 2145.59,1445.6 2147.59,1445.6 2149.59,1445.6 2151.59,1445.61 2153.59,1445.61 2155.58,1445.61 2157.58,1445.61 2159.58,1445.62 2161.58,1445.62 2163.57,1445.62 2165.57,1445.62 2167.57,1445.63 2169.57,1445.63 2171.57,1445.63 2173.56,1445.63 2175.56,1445.64 2177.56,1445.64 2179.56,1445.64 2181.56,1445.64 2183.55,1445.65 2185.55,1445.65 2187.55,1445.65 2189.55,1445.65 2191.55,1445.65 2193.54,1445.66 2195.54,1445.66 2197.54,1445.66 2199.54,1445.66 2201.53,1445.66 2203.53,1445.66 2205.53,1445.67 2207.53,1445.67 2209.53,1445.67 2211.52,1445.67 2213.52,1445.67 2215.52,1445.67 2217.52,1445.68 2219.52,1445.68 2221.51,1445.68 2223.51,1445.68 2225.51,1445.68 2227.51,1445.68 2229.51,1445.68 2231.5,1445.69 2233.5,1445.69 2235.5,1445.69 2237.5,1445.69 2239.5,1445.69 2241.49,1445.69 2243.49,1445.69 2245.49,1445.69 2247.49,1445.7 2249.48,1445.7 2251.48,1445.7 2253.48,1445.7 2255.48,1445.7 2257.48,1445.7 2259.47,1445.7 2261.47,1445.7 2263.47,1445.7 2265.47,1445.7 2267.47,1445.71 2269.46,1445.71 2271.46,1445.71 2273.46,1445.71 2275.46,1445.71 2277.46,1445.71 2279.45,1445.71 2281.45,1445.71 2283.45,1445.71 2285.45,1445.71 2287.44,1445.71 2289.44,1445.71 2291.44,1445.72 \"/>\n",
       "<path clip-path=\"url(#clip380)\" d=\"M2011.46 198.898 L2280.54 198.898 L2280.54 95.2176 L2011.46 95.2176  Z\" fill=\"#ffffff\" fill-rule=\"evenodd\" fill-opacity=\"1\"/>\n",
       "<polyline clip-path=\"url(#clip380)\" style=\"stroke:#000000; stroke-linecap:round; stroke-linejoin:round; stroke-width:4; stroke-opacity:1; fill:none\" points=\"2011.46,198.898 2280.54,198.898 2280.54,95.2176 2011.46,95.2176 2011.46,198.898 \"/>\n",
       "<polyline clip-path=\"url(#clip380)\" style=\"stroke:#009af9; stroke-linecap:round; stroke-linejoin:round; stroke-width:4; stroke-opacity:1; fill:none\" points=\"2035.53,147.058 2179.97,147.058 \"/>\n",
       "<path clip-path=\"url(#clip380)\" d=\"M2217.88 166.745 Q2216.07 171.375 2214.36 172.787 Q2212.65 174.199 2209.78 174.199 L2206.38 174.199 L2206.38 170.634 L2208.88 170.634 Q2210.63 170.634 2211.61 169.8 Q2212.58 168.967 2213.76 165.865 L2214.52 163.921 L2204.04 138.412 L2208.55 138.412 L2216.65 158.689 L2224.76 138.412 L2229.27 138.412 L2217.88 166.745 Z\" fill=\"#000000\" fill-rule=\"nonzero\" fill-opacity=\"1\" /><path clip-path=\"url(#clip380)\" d=\"M2236.56 160.402 L2244.2 160.402 L2244.2 134.037 L2235.89 135.703 L2235.89 131.444 L2244.15 129.778 L2248.83 129.778 L2248.83 160.402 L2256.47 160.402 L2256.47 164.338 L2236.56 164.338 L2236.56 160.402 Z\" fill=\"#000000\" fill-rule=\"nonzero\" fill-opacity=\"1\" /></svg>\n"
      ]
     },
     "metadata": {},
     "output_type": "display_data"
    }
   ],
   "source": [
    "w0 = 0.1\n",
    "N = 2^10\n",
    "beta = 10.\n",
    "transition_metro(w) = exp(-beta * max(w + 1/(2 * beta), 0.0))\n",
    "energies = range(-1.0, 1.0, N)\n",
    "plot(energies, transition_metro.(energies))"
   ]
  },
  {
   "cell_type": "code",
   "execution_count": 2,
   "metadata": {},
   "outputs": [
    {
     "data": {
      "text/plain": [
       "2-element Vector{CartesianIndex{2}}:\n",
       " CartesianIndex(1, 1)\n",
       " CartesianIndex(2, 2)"
      ]
     },
     "metadata": {},
     "output_type": "display_data"
    },
    {
     "data": {
      "text/plain": [
       "2×2 SparseMatrixCSC{Float64, Int64} with 2 stored entries:\n",
       " 10.0   ⋅ \n",
       "   ⋅   9.0"
      ]
     },
     "metadata": {},
     "output_type": "display_data"
    },
    {
     "data": {
      "text/plain": [
       "1-element Vector{CartesianIndex{2}}:\n",
       " CartesianIndex(1, 2)"
      ]
     },
     "metadata": {},
     "output_type": "display_data"
    }
   ],
   "source": [
    "index1 = (1, 2)\n",
    "index2 = [[1], [2]]\n",
    "index3 = [[1, 1, 2, 2], [1, 2, 1, 2]]\n",
    "values = [1, 2, 3, 4]\n",
    "A = spzeros(2, 2)\n",
    "B = spzeros(2, 2)\n",
    "Random.seed!(666)\n",
    "# indices = CartesianIndex.(index3[1], index3[2])\n",
    "# C[indices] .= values\n",
    "C::SparseMatrixCSC{Float64} = spzeros(2, 2)\n",
    "dim = size(C, 1)\n",
    "diag_indices = CartesianIndex.(1:dim, 1:dim)\n",
    "\n",
    "display(diag_indices)\n",
    "D = [10 1; 1 9]\n",
    "C[diag_indices] .= D[diag_indices]\n",
    "display(C)\n",
    "\n",
    "display([CartesianIndex(1, 2)])\n",
    "\n",
    "# display(C)\n",
    "# # A[index1...] = 1\n",
    "# # B[index2[1], index2[2]] .= 1\n",
    "# # C[index3[1], index3[2]] .= values\n",
    "# # display(A)\n",
    "# # display(B)\n",
    "# # display(C)\n",
    "# bohr_dict = Dict{Float64, Vector{CartesianIndex}}()\n",
    "# bohr_dict[0.0] = CartesianIndex.(collect(1:4), collect(1:4)) \n",
    "# CartesianIndex(1, 2)"
   ]
  },
  {
   "cell_type": "code",
   "execution_count": 4,
   "metadata": {},
   "outputs": [
    {
     "data": {
      "text/plain": [
       "5×5 SparseMatrixCSC{Float64, Int64} with 9 stored entries:\n",
       "  ⋅   10.0  10.0  10.0   ⋅ \n",
       "  ⋅   20.0  20.0  20.0   ⋅ \n",
       "  ⋅   30.0  30.0  30.0   ⋅ \n",
       "  ⋅     ⋅     ⋅     ⋅    ⋅ \n",
       "  ⋅     ⋅     ⋅     ⋅    ⋅ "
      ]
     },
     "metadata": {},
     "output_type": "display_data"
    }
   ],
   "source": [
    "using SparseArrays\n",
    "\n",
    "# Example sparse matrix\n",
    "n = 5\n",
    "sparse_matrix = spzeros(n, n)\n",
    "\n",
    "# Indices and values to set\n",
    "rows = [1, 2, 3]  # Row indices\n",
    "cols = [2, 3, 4]  # Column indices\n",
    "values = [10.0, 20.0, 30.0]  # Values to set\n",
    "\n",
    "# Assign values\n",
    "sparse_matrix[rows, cols] .= values\n",
    "\n",
    "display(sparse_matrix)"
   ]
  },
  {
   "cell_type": "code",
   "execution_count": 2,
   "metadata": {},
   "outputs": [
    {
     "name": "stdout",
     "output_type": "stream",
     "text": [
      "nradn0\n",
      "nrand2\n",
      "nrand1\n",
      "nrand3\n"
     ]
    }
   ],
   "source": [
    "random_dict = Dict()\n",
    "random_dict[\"nradn0\"] = 0\n",
    "random_dict[\"nrand1\"] = 1\n",
    "random_dict[\"nrand2\"] = 2\n",
    "random_dict[\"nrand3\"] = 3\n",
    "\n",
    "for k in keys(random_dict)\n",
    "    println(k)\n",
    "end"
   ]
  },
  {
   "cell_type": "code",
   "execution_count": null,
   "metadata": {},
   "outputs": [
    {
     "data": {
      "text/plain": [
       "2×2 SparseMatrixCSC{Float64, Int64} with 2 stored entries:\n",
       " 1.0   ⋅ \n",
       "  ⋅   4.0"
      ]
     },
     "metadata": {},
     "output_type": "display_data"
    }
   ],
   "source": [
    "A = [1 2; 3 4]\n",
    "diag_vals = \n",
    "B = spzeros(2,2)\n",
    "B .= spdiagm(0 => diag(A))"
   ]
  },
  {
   "cell_type": "code",
   "execution_count": 6,
   "metadata": {},
   "outputs": [],
   "source": [
    "beta = 2.0\n",
    "alpha(nu_1, nu_2) = exp(-beta^2 * (nu_1 + nu_2 + 2/beta)^2 / 16) * exp(-beta^2 * (nu_1 - nu_2)^2 / 8)\n",
    "\n",
    "for _ in 1:100000\n",
    "    nu_1 = 0.9 * rand() - 0.45\n",
    "    nu_2 = 0.9 * rand() - 0.45  \n",
    "    alpha_val = alpha(nu_1, nu_2)\n",
    "    alpha_skew_val = alpha(-nu_2, -nu_1) * exp(-beta * (nu_1 + nu_2) / 2)\n",
    "    if norm(alpha_val - alpha_skew_val) > 1e-14\n",
    "        println(alpha_val)\n",
    "        println(alpha_skew_val, \"\\n\")\n",
    "    else\n",
    "        # @printf(\"Good for nu_1 = %f, nu_2 = %f\\n\", nu_1, nu_2)\n",
    "    end\n",
    "end"
   ]
  },
  {
   "cell_type": "code",
   "execution_count": 72,
   "metadata": {},
   "outputs": [
    {
     "name": "stdout",
     "output_type": "stream",
     "text": [
      "  0.532505 seconds (13.64 M allocations: 304.125 MiB, 1.50% gc time)\n"
     ]
    }
   ],
   "source": [
    "num_qubits = 10\n",
    "ham_filename(n) = @sprintf(\"/Users/bence/code/liouvillian_metro/julia/data/hamiltonian_n%d.jld\", n)\n",
    "hamiltonian = load(ham_filename(num_qubits))[\"ideal_ham\"]\n",
    "bohr_freqs = hamiltonian.eigvals .- transpose(hamiltonian.eigvals)\n",
    "# bohr_freqs_plus = - (hamiltonian.eigvals .+ transpose(hamiltonian.eigvals))\n",
    "# bohr_freq_23_plus = bohr_freqs_plus[2, 3] .+ 2 * hamiltonian.eigvals\n",
    "\n",
    "# bohr_freq_23_plus[5] == - (hamiltonian.eigvals[2] + hamiltonian.eigvals[3]) + 2 * hamiltonian.eigvals[5]\n",
    "\n",
    "# bohr_freqs_plus[2, 3] == - (hamiltonian.eigvals[2] + hamiltonian.eigvals[3])\n",
    "# iterate over all entries of bohr freqs\n",
    "@time begin\n",
    "    for j in 1:2^num_qubits\n",
    "        for i in 1:2^num_qubits\n",
    "            madonna = exp(1im * bohr_freqs[i, j]) - sqrt(1 - abs(exp(1im * bohr_freqs[i, j]))^2)\n",
    "        end\n",
    "    end\n",
    "end"
   ]
  },
  {
   "cell_type": "code",
   "execution_count": 8,
   "metadata": {},
   "outputs": [
    {
     "data": {
      "text/plain": [
       "38.8329756778952"
      ]
     },
     "metadata": {},
     "output_type": "display_data"
    }
   ],
   "source": [
    "eigvals = 1im .* [1.0, 2.0, 3.0]\n",
    "trotter_time_evolution = Diagonal(eigvals.^3)\n",
    "or = Diagonal(eigvals .* 3)\n",
    "norm(trotter_time_evolution - or)\n"
   ]
  },
  {
   "cell_type": "code",
   "execution_count": 4,
   "metadata": {},
   "outputs": [
    {
     "name": "stdout",
     "output_type": "stream",
     "text": [
      "Commutator norm no control 0.014112695174805954, \n",
      "Commutator norm with control 0.0, \n"
     ]
    }
   ],
   "source": [
    "zero = [1, 0]\n",
    "one = [0, 1]\n",
    "oneone = kron(one, one')\n",
    "zerozero = kron(zero, zero')\n",
    "\n",
    "phase_gate(phi) = [1 0; 0 exp(1im * phi)]\n",
    "cp_gate(phi) = kron(oneone, phase_gate(phi)) + kron(zerozero, I(2))\n",
    "\n",
    "rygate(theta) = [cos(theta/2) -sin(theta/2); sin(theta/2) cos(theta/2)]\n",
    "crygate(theta) = kron(zerozero, rygate(theta)) + kron(oneone, I(2))\n",
    "\n",
    "# display(kron(oneone, phase_gate(0.1)) + kron(zerozero, I(2)))\n",
    "# display(cp_gate(0.1))\n",
    "\n",
    "# commutation\n",
    "function commutator(A, B)\n",
    "    return A * B - B * A\n",
    "end\n",
    "\n",
    "phi = 0.1\n",
    "theta = 0.2\n",
    "@printf(\"Commutator norm no control %s, \\n\", norm(commutator(phase_gate(phi), rygate(theta))))\n",
    "@printf(\"Commutator norm with control %s, \\n\", norm(commutator(cp_gate(phi), crygate(theta))))"
   ]
  },
  {
   "cell_type": "code",
   "execution_count": 1,
   "metadata": {},
   "outputs": [
    {
     "data": {
      "text/plain": [
       "true"
      ]
     },
     "metadata": {},
     "output_type": "display_data"
    }
   ],
   "source": [
    "2 * im == 2im"
   ]
  },
  {
   "cell_type": "code",
   "execution_count": 5,
   "metadata": {},
   "outputs": [
    {
     "data": {
      "text/plain": [
       "3×3 Matrix{Int64}:\n",
       " 1  2  3\n",
       " 4  5  6\n",
       " 7  8  9"
      ]
     },
     "metadata": {},
     "output_type": "display_data"
    },
    {
     "data": {
      "text/plain": [
       "9-element Vector{Int64}:\n",
       " 1\n",
       " 4\n",
       " 7\n",
       " 2\n",
       " 5\n",
       " 8\n",
       " 3\n",
       " 6\n",
       " 9"
      ]
     },
     "metadata": {},
     "output_type": "display_data"
    },
    {
     "data": {
      "text/plain": [
       "3×3 Matrix{Int64}:\n",
       " 1  2  3\n",
       " 4  5  6\n",
       " 7  8  9"
      ]
     },
     "metadata": {},
     "output_type": "display_data"
    }
   ],
   "source": [
    "M = [1 2 3; 4 5 6; 7 8 9]\n",
    "display(M)\n",
    "display(vec(M))\n",
    "display(reshape(vec(M), 3, 3))"
   ]
  },
  {
   "cell_type": "code",
   "execution_count": 37,
   "metadata": {},
   "outputs": [
    {
     "data": {
      "text/plain": [
       "true"
      ]
     },
     "metadata": {},
     "output_type": "display_data"
    }
   ],
   "source": [
    "function compute_b1(time_labels::Vector{Float64})\n",
    "    f1(t) = 1 / cosh(2 * pi * t)\n",
    "    f2(t) = sin(-t) * exp(-2 * t^2)\n",
    "    return 2 * sqrt(pi) * exp(1/8) * convolute.(Ref(f1), Ref(f2), time_labels)\n",
    "end\n",
    "\n",
    "function compute_b2(time_labels::Vector{Float64})\n",
    "    return exp.(-4*time_labels.^2 .- 2*im*time_labels) / sqrt(4*pi^3)\n",
    "end\n",
    "\n",
    "num_energy_bits = 10\n",
    "N = 2^(num_energy_bits)\n",
    "N_labels = [0:1:Int(N/2)-1; -Int(N/2):1:-1]\n",
    "w0 = 0.01\n",
    "t0 = 2 * pi / (N * hamiltonian.w0)\n",
    "time_labels = t0 * N_labels\n",
    "\n",
    "b2 = Vector{ComplexF64}(compute_b2(time_labels))\n",
    "b2_negative = Vector{ComplexF64}(compute_b2(-time_labels))\n",
    "atol = 1e-14\n",
    "truncated_indices_b2 = findall(x -> abs(real(x)) >= atol || abs(imag(x)) >= atol, b2)\n",
    "truncated_indices_b2_negative = findall(x -> abs(real(x)) >= atol || abs(imag(x)) >= atol, b2_negative)\n",
    "b2_truncated_times = time_labels[truncated_indices_b2]\n",
    "b2_truncated_vals = b2[truncated_indices_b2]\n",
    "b2_negative_truncated_times = time_labels[truncated_indices_b2_negative]\n",
    "b2_negative_truncated_vals = b2_negative[truncated_indices_b2_negative]\n",
    "\n",
    "conj.(b2) == b2_negative\n",
    "conj.(b2_truncated_vals) == b2_negative_truncated_vals\n",
    "\n",
    "# For b1\n",
    "b1 = Vector{ComplexF64}(compute_b1(time_labels))\n",
    "b1_negative = Vector{ComplexF64}(compute_b1(time_labels))\n",
    "truncated_indices_b1 = findall(x -> abs(real(x)) >= atol || abs(imag(x)) >= atol, b1)\n",
    "truncated_indices_b1_negative = findall(x -> abs(real(x)) >= atol || abs(imag(x)) >= atol, b1_negative)\n",
    "b1_truncated_times = time_labels[truncated_indices_b1]\n",
    "b1_truncated_vals = b1[truncated_indices_b1]\n",
    "b1_negative_truncated_times = time_labels[truncated_indices_b1_negative]\n",
    "b1_negative_truncated_vals = b1_negative[truncated_indices_b1_negative]\n",
    "\n",
    "conj.(b1) == b1_negative\n",
    "# conj.(b1_truncated_vals) == b1_negative_truncated_vals\n",
    "\n",
    "# b::Vector{ComplexF64} = []\n",
    "# indices_b = findall(x -> abs(real(x)) > atol || abs(imag(x)) > atol, b)"
   ]
  },
  {
   "cell_type": "code",
   "execution_count": 34,
   "metadata": {},
   "outputs": [
    {
     "data": {
      "text/plain": [
       "1.0 + 0.0im"
      ]
     },
     "metadata": {},
     "output_type": "display_data"
    }
   ],
   "source": [
    "num_qubits = 7\n",
    "beta = 1000.\n",
    "b = SpinBasis(1//2)^num_qubits\n",
    "\n",
    "hamiltonian = load(\"/Users/bence/code/liouvillian_metro/julia/data/hamiltonian_n7.jld\")[\"ideal_ham\"]\n",
    "\n",
    "max_mixed_state = ones(2^num_qubits) / sqrt(2^num_qubits)\n",
    "max_mixed_dm = max_mixed_state * max_mixed_state'\n",
    "gibbs = gibbs_state(hamiltonian, beta)\n",
    "\n",
    "trdist = tracedistance_nh(Operator(b, max_mixed_dm), Operator(b, gibbs))\n",
    "\n"
   ]
  },
  {
   "cell_type": "code",
   "execution_count": 28,
   "metadata": {},
   "outputs": [
    {
     "data": {
      "text/plain": [
       "361"
      ]
     },
     "metadata": {},
     "output_type": "display_data"
    },
    {
     "data": {
      "text/plain": [
       "361"
      ]
     },
     "metadata": {},
     "output_type": "display_data"
    }
   ],
   "source": [
    "w0 = 2.5e-3\n",
    "beta = 1\n",
    "num_energy_bits = ceil(Int64, log2((0.45 * 4 + 2/beta) / w0))# Under Fig. 5. with secular approx.\n",
    "N = 2^(num_energy_bits)\n",
    "N_labels = [0:1:Int(N/2)-1; -Int(N/2):1:-1]\n",
    "\n",
    "t0 = 2 * pi / (N * w0)\n",
    "time_labels = t0 * N_labels\n",
    "energy_labels = w0 * N_labels\n",
    "energy_labels = energy_labels[abs.(energy_labels) .<= 0.45]\n",
    "# transition_metropolis(energy) = exp(-beta * maximum([energy + 1/(2*beta), 0]))\n",
    "transition_gaussian(energy) = exp(-(beta * energy + 1)^2 / 2)\n",
    "# transition_weights = transition_metropolis.(energy_labels)\n",
    "transition_weights = transition_gaussian.(energy_labels)\n",
    "\n",
    "# Find elements below 1e-14\n",
    "display(length(transition_weights))\n",
    "display(length(transition_weights[transition_weights .> 0.1]))"
   ]
  },
  {
   "cell_type": "code",
   "execution_count": 14,
   "metadata": {},
   "outputs": [
    {
     "data": {
      "text/plain": [
       "2"
      ]
     },
     "metadata": {},
     "output_type": "display_data"
    }
   ],
   "source": [
    "maximum([0, 1, 2])"
   ]
  },
  {
   "cell_type": "code",
   "execution_count": 9,
   "metadata": {},
   "outputs": [
    {
     "data": {
      "text/plain": [
       "101-element Vector{Real}:\n",
       " 1.0\n",
       " 1.0\n",
       " 1.0\n",
       " 1.0\n",
       " 1.0\n",
       " 0\n",
       " 0\n",
       " 0\n",
       " 0\n",
       " 0\n",
       " ⋮\n",
       " 0\n",
       " 0\n",
       " 0\n",
       " 0\n",
       " 0\n",
       " 0\n",
       " 0\n",
       " 0\n",
       " 0"
      ]
     },
     "metadata": {},
     "output_type": "display_data"
    }
   ],
   "source": [
    "time_labels = 0:0.1:10\n",
    "eta = 0.4\n",
    "\n",
    "# filtered_labels = ifelse.(abs.(time_labels) .> eta, 0, time_labels)\n",
    "filtered_labels_broadcast = ifelse.(abs.(time_labels) .> eta, 0, ones(length(time_labels)))"
   ]
  },
  {
   "cell_type": "code",
   "execution_count": 117,
   "metadata": {},
   "outputs": [
    {
     "name": "stdout",
     "output_type": "stream",
     "text": [
      "0.0\n"
     ]
    },
    {
     "data": {
      "text/plain": [
       "1.4142135624137618e-6"
      ]
     },
     "metadata": {},
     "output_type": "display_data"
    }
   ],
   "source": [
    "dim = 2^8\n",
    "# Create a random Hermitian in LinAlg\n",
    "Random.seed!(1234)\n",
    "H = Hermitian(randn(dim, dim) + 1im*randn(dim, dim))\n",
    "eps = 1e-6\n",
    "H_kicked = copy(Matrix(H))\n",
    "H_kicked[1, 3] =  H[1, 3] + eps\n",
    "println(norm(H - H'))\n",
    "norm(H_kicked - H_kicked')"
   ]
  },
  {
   "cell_type": "code",
   "execution_count": 38,
   "metadata": {},
   "outputs": [
    {
     "data": {
      "text/plain": [
       "9-element Vector{Float64}:\n",
       "  1.0\n",
       "  2.0\n",
       "  3.0\n",
       "  4.0\n",
       "  5.0\n",
       "  6.0\n",
       "  8.0\n",
       "  9.0\n",
       " 10.0"
      ]
     },
     "metadata": {},
     "output_type": "display_data"
    },
    {
     "data": {
      "text/plain": [
       "0.5782319465613976 + 0.7279350012266056im"
      ]
     },
     "metadata": {},
     "output_type": "display_data"
    },
    {
     "data": {
      "text/plain": [
       "0.9296459272405604"
      ]
     },
     "metadata": {},
     "output_type": "display_data"
    }
   ],
   "source": [
    "function truncate_time_labels_b1b2(time_labels::Vector{Float64}, b1::Vector{ComplexF64}, b2::Vector{ComplexF64}, atol::Float64 = 0.2)\n",
    "   \n",
    "    # find elements that are smaller than 1e-14\n",
    "    indices_b1_real = findall(x -> abs(x) > atol, real.(b1))\n",
    "    indices_b1_imag = findall(x -> abs(x) > atol, imag.(b1))\n",
    "    indices_b2_real = findall(x -> abs(x) > atol, real.(b2))\n",
    "    indices_b2_imag = findall(x -> abs(x) > atol, imag.(b2))\n",
    "    indices_b1 = union(indices_b1_real, indices_b1_imag)\n",
    "    indices_b2 = union(indices_b2_real, indices_b2_imag)\n",
    "    indices = intersect(indices_b1, indices_b2)\n",
    "    truncated_time_labels = time_labels[indices]\n",
    "    return truncated_time_labels\n",
    "end\n",
    "\n",
    "Random.seed!(1234)\n",
    "b1 = [rand() + rand()*im for i in 1:10]\n",
    "b2 = [rand() + rand()*im for i in 1:10]\n",
    "time_labels = collect(1.0:1.0:10.0)\n",
    "turncated_time_labels = truncate_time_labels_b1b2(time_labels, b1, b2)\n",
    "display(turncated_time_labels)\n",
    "display(b1[6])\n",
    "display(abs(b1[6]))"
   ]
  },
  {
   "cell_type": "code",
   "execution_count": 22,
   "metadata": {},
   "outputs": [
    {
     "name": "stdout",
     "output_type": "stream",
     "text": [
      "  0.009205 seconds (21 allocations: 672 bytes)\n",
      "  0.115122 seconds (31 allocations: 160.001 MiB, 87.04% gc time)\n"
     ]
    },
    {
     "data": {
      "text/plain": [
       "true"
      ]
     },
     "metadata": {},
     "output_type": "display_data"
    }
   ],
   "source": [
    "# create a list of random matrices \n",
    "d = 1024\n",
    "N = 10\n",
    "A = [randn(d,d) + im*randn(d,d) for i in 1:N]\n",
    "\n",
    "sum = zeros(ComplexF64, d,d)\n",
    "@time begin\n",
    "    for i in 1:N\n",
    "        sum .+= A[i]\n",
    "    end\n",
    "end\n",
    "\n",
    "sum2 = zeros(ComplexF64, d,d)\n",
    "@time begin\n",
    "    for i in 1:N\n",
    "        sum2 += A[i]\n",
    "    end\n",
    "end\n",
    "\n",
    "# compare\n",
    "sum == sum2\n"
   ]
  },
  {
   "cell_type": "code",
   "execution_count": 17,
   "metadata": {},
   "outputs": [],
   "source": [
    "num_qubits = 4\n",
    "hamiltonian = find_ideal_heisenberg(num_qubits, fill(1.0, 3), batch_size=1)\n",
    "hamiltonian.bohr_freqs = hamiltonian.eigvals .- transpose(hamiltonian.eigvals)\n",
    "display(hamiltonian.bohr_freqs)\n",
    "\n",
    "@time begin\n",
    "    nu_tensor = zeros(2^num_qubits, 2^num_qubits, 2^num_qubits, 2^num_qubits) \n",
    "    for i in 1:2^num_qubits\n",
    "        for j in 1:2^num_qubits\n",
    "            for k in 1:2^num_qubits\n",
    "                for l in 1:2^num_qubits\n",
    "                    nu_tensor[i, j, k, l] = hamiltonian.bohr_freqs[i, j] - hamiltonian.bohr_freqs[k, l]\n",
    "                end\n",
    "            end\n",
    "        end\n",
    "    end\n",
    "end\n"
   ]
  },
  {
   "cell_type": "code",
   "execution_count": 4,
   "metadata": {},
   "outputs": [
    {
     "ename": "InexactError",
     "evalue": "InexactError: Int64(58.99999999999999)",
     "output_type": "error",
     "traceback": [
      "InexactError: Int64(58.99999999999999)\n",
      "\n",
      "Stacktrace:\n",
      " [1] Int64(x::Float64)\n",
      "   @ Base ./float.jl:912\n",
      " [2] top-level scope\n",
      "   @ ~/code/liouvillian_metro/julia/jl_playground.ipynb:1"
     ]
    }
   ],
   "source": [
    "Int64(58.99999999999999)"
   ]
  },
  {
   "cell_type": "code",
   "execution_count": 3,
   "metadata": {},
   "outputs": [
    {
     "data": {
      "text/plain": [
       "true"
      ]
     },
     "metadata": {},
     "output_type": "display_data"
    }
   ],
   "source": [
    "rand_vector = randn(ComplexF64, 2^4)\n",
    "num_trotter_steps_per_t0 = 20\n",
    "\n",
    "Diagonal(rand_vector)^num_trotter_steps_per_t0 == Diagonal(rand_vector.^num_trotter_steps_per_t0)"
   ]
  },
  {
   "cell_type": "code",
   "execution_count": 14,
   "metadata": {},
   "outputs": [
    {
     "name": "stdout",
     "output_type": "stream",
     "text": [
      "10\n",
      "9\n",
      "8\n",
      "7\n",
      "6\n",
      "5\n",
      "4\n",
      "3\n",
      "2\n",
      "1\n"
     ]
    }
   ],
   "source": [
    "for i in 10:-1:1\n",
    "    println(i)\n",
    "end"
   ]
  },
  {
   "cell_type": "code",
   "execution_count": 7,
   "metadata": {},
   "outputs": [
    {
     "name": "stdout",
     "output_type": "stream",
     "text": [
      "  0.000015 seconds (8 allocations: 136.406 KiB)\n",
      "  0.000124 seconds (9 allocations: 264.406 KiB)\n"
     ]
    },
    {
     "data": {
      "text/plain": [
       "0.0"
      ]
     },
     "metadata": {},
     "output_type": "display_data"
    }
   ],
   "source": [
    "T = 10.\n",
    "num_qubits = 13\n",
    "\n",
    "@time simpler = exp(im * T * 1.2) * I(2^num_qubits) \n",
    "@time more_complicated = exp(im * T * 1.2 * I(2^num_qubits)) \n",
    "dist = norm(simpler - more_complicated)"
   ]
  },
  {
   "cell_type": "code",
   "execution_count": 6,
   "metadata": {},
   "outputs": [
    {
     "data": {
      "text/plain": [
       "5-element Vector{Float64}:\n",
       " 5.4\n",
       " 4.4\n",
       " 3.4000000000000004\n",
       " 2.4000000000000004\n",
       " 1.4000000000000004"
      ]
     },
     "metadata": {},
     "output_type": "display_data"
    }
   ],
   "source": [
    "f = 6.4\n",
    "array = [1, 2, 3, 4, 5]\n",
    "\n",
    "f .- array"
   ]
  },
  {
   "cell_type": "code",
   "execution_count": 27,
   "metadata": {},
   "outputs": [
    {
     "name": "stdout",
     "output_type": "stream",
     "text": [
      "isapprox(imag(myway), zeros(16, 16)) = true\n"
     ]
    },
    {
     "data": {
      "text/plain": [
       "true"
      ]
     },
     "metadata": {},
     "output_type": "display_data"
    }
   ],
   "source": [
    "sigmax::Matrix{ComplexF64} = [0 1; 1 0]\n",
    "sigmay::Matrix{ComplexF64} = [0.0 -im; im 0.0]\n",
    "sigmaz::Matrix{ComplexF64} = [1 0; 0 -1]\n",
    "id = Matrix{ComplexF64}(I(2))\n",
    "\n",
    "myway = kron(sigmay, id, id, sigmay)\n",
    "# is it real\n",
    "@show isapprox(imag(myway), zeros(16, 16))"
   ]
  },
  {
   "cell_type": "code",
   "execution_count": 151,
   "metadata": {},
   "outputs": [
    {
     "data": {
      "text/plain": [
       "4×4 Diagonal{ComplexF64, Vector{ComplexF64}}:\n",
       " 0.540302+0.841471im            ⋅          …            ⋅    \n",
       "          ⋅           -0.989992+0.14112im               ⋅    \n",
       "          ⋅                     ⋅                       ⋅    \n",
       "          ⋅                     ⋅             -0.416147+0.909297im"
      ]
     },
     "metadata": {},
     "output_type": "display_data"
    },
    {
     "data": {
      "text/plain": [
       "Vector{Diagonal{ComplexF64, Vector{ComplexF64}}}\u001b[90m (alias for \u001b[39m\u001b[90mArray{Diagonal{Complex{Float64}, Array{Complex{Float64}, 1}}, 1}\u001b[39m\u001b[90m)\u001b[39m"
      ]
     },
     "metadata": {},
     "output_type": "display_data"
    }
   ],
   "source": [
    "labels = collect(1:1:5)\n",
    "# diags_for_times = transpose(Diagonal(exp.(1im * [1., 1., 1., 2.])) .* labels)\n",
    "diag_exponentiate(t) = Diagonal(exp.(1im * [1., 3., 1., 2.] * t))\n",
    "diag_for_times = diag_exponentiate.(labels)\n",
    "# showall(stdout, diags_for_times[1, :], false)\n",
    "display(diag_for_times[1])\n",
    "typeof(diag_for_times)"
   ]
  },
  {
   "cell_type": "code",
   "execution_count": 149,
   "metadata": {},
   "outputs": [
    {
     "data": {
      "text/plain": [
       "2×2×5 Array{ComplexF64, 3}:\n",
       "[:, :, 1] =\n",
       " 0.0+0.0im  0.0+0.0im\n",
       " 0.0+0.0im  0.0+0.0im\n",
       "\n",
       "[:, :, 2] =\n",
       " 0.0+0.0im  0.0+0.0im\n",
       " 0.0+0.0im  0.0+0.0im\n",
       "\n",
       "[:, :, 3] =\n",
       " 0.0+0.0im  0.0+0.0im\n",
       " 0.0+0.0im  0.0+0.0im\n",
       "\n",
       "[:, :, 4] =\n",
       " 0.0+0.0im  0.0+0.0im\n",
       " 0.0+0.0im  0.0+0.0im\n",
       "\n",
       "[:, :, 5] =\n",
       " 0.0+0.0im  0.0+0.0im\n",
       " 0.0+0.0im  0.0+0.0im"
      ]
     },
     "metadata": {},
     "output_type": "display_data"
    }
   ],
   "source": [
    "# Create 3 dim array\n",
    "F = zeros(ComplexF64, 2, 2, 5)\n",
    "\n"
   ]
  },
  {
   "cell_type": "code",
   "execution_count": 3,
   "metadata": {},
   "outputs": [
    {
     "data": {
      "text/plain": [
       "4×16 Matrix{Int64}:\n",
       "  7   9  11  13  15  17  19  21  23   25   27   29   31   33   35   37\n",
       " 14  18  22  26  30  34  38  42  46   50   54   58   62   66   70   74\n",
       " 21  27  33  39  45  51  57  63  69   75   81   87   93   99  105  111\n",
       " 28  36  44  52  60  68  76  84  92  100  108  116  124  132  140  148"
      ]
     },
     "metadata": {},
     "output_type": "display_data"
    }
   ],
   "source": [
    "time_labels = [1, 2, 3, 4]\n",
    "spectrum = [5 + 2 * i for i in 1:16]\n",
    "transpose(spectrum) .* time_labels\n"
   ]
  },
  {
   "cell_type": "code",
   "execution_count": 48,
   "metadata": {},
   "outputs": [
    {
     "name": "stdout",
     "output_type": "stream",
     "text": [
      "  0.010333 seconds (2.47 k allocations: 178.641 KiB, 98.80% compilation time)\n"
     ]
    },
    {
     "data": {
      "text/plain": [
       "16×10 Matrix{ComplexF64}:\n",
       " -0.288956+8.11876im    2.43233+7.57643im  …    2.02651+7.02675im\n",
       "  -2.31426+10.3405im   0.659788+9.44323im      0.722303+8.56549im\n",
       "  0.480568+8.31066im   0.654993+7.54983im       1.20201+7.33919im\n",
       " -0.343589+7.22817im    1.31214+6.2675im        2.18496+5.90561im\n",
       "  -1.15894+9.08584im  -0.113593+8.98344im       1.68548+7.74724im\n",
       " -0.649139+8.34972im    1.05852+7.04113im  …   0.294465+7.06226im\n",
       "   -1.5635+7.09719im  -0.380816+8.1343im       -0.30895+7.74422im\n",
       "  -4.36608+8.41464im  -0.916562+8.81981im     -0.901213+7.93934im\n",
       " -0.416516+7.79108im    1.79739+7.45979im       1.34766+6.56564im\n",
       "  0.398676+8.49733im    2.37999+7.59483im       2.81553+7.60292im\n",
       "  -1.11497+9.439im      0.12202+7.14709im  …    1.10528+7.70629im\n",
       "   -3.0999+8.29288im  -0.703854+7.54712im      0.499334+7.62714im\n",
       "  0.194035+7.5628im     1.88111+7.04856im       2.47727+6.64518im\n",
       "  -1.90148+8.61615im   0.246544+8.58332im       2.10259+7.35138im\n",
       " -0.397386+7.42992im    1.03936+6.98307im      0.608549+6.13351im\n",
       "  -1.11037+8.76365im   0.878072+7.27747im  …   0.488862+6.8934im"
      ]
     },
     "metadata": {},
     "output_type": "display_data"
    }
   ],
   "source": [
    "Random.seed!(666)\n",
    "# 2 random vectors\n",
    "size = 16\n",
    "A2 = rand(ComplexF64, size, size)\n",
    "A3 = rand(ComplexF64, size, size)\n",
    "v1 = rand(ComplexF64, size)\n",
    "\n",
    "A = rand(ComplexF64, size, size)\n",
    "B = rand(ComplexF64, size, size)\n",
    "time_labels = rand(ComplexF64, 10)\n",
    "D = rand(ComplexF64, 10, size)\n",
    "t_vec1 = rand(ComplexF64, 10)\n",
    "t_vec2 = rand(ComplexF64, 10)\n",
    "t_vec_comb = t_vec1 .* t_vec2\n",
    "\n",
    "\n",
    "@time @tensor begin \n",
    "    oft_op[j, n] := t_vec_comb[t] * A[j, a] * D[t, a] * B[a, b] * adjoint(D)[t, b] * adjoint(A)[b, n]\n",
    "end \n",
    "\n",
    "@time @tensor begin \n",
    "    oft_op[:] := t_vec_comb[t] * A[-1, a] * D[t, 2] * B[2, 1] * adjoint(D)[t, 1] * adjoint(A)[4, -2]\n",
    "end \n",
    "\n",
    "# @tensor begin\n",
    "#     res[:] := time_labels[2] * A1[-1, 1] * D[2, 1] * adjoint(A1)[1, -2]\n",
    "#     # res[:] := A1[-1, 1] * v1[1]\n",
    "# end\n",
    "\n",
    "# @tensor begin\n",
    "#     res[k] := A1[i, j] * v1[j] * v1[i] * v1[k]\n",
    "# end\n",
    "# display(res)\n",
    "\n",
    "# Compare \n",
    "# res2 = sum(v1 .* v1)"
   ]
  },
  {
   "cell_type": "code",
   "execution_count": 51,
   "metadata": {},
   "outputs": [
    {
     "name": "stdout",
     "output_type": "stream",
     "text": [
      "0.7870638398897274\n",
      "0.7665813161470543\n",
      "8.419659768788073\n",
      "0.7654236153443704\n"
     ]
    }
   ],
   "source": [
    "n = 4\n",
    "# generate random n qubit density Matrix\n",
    "\n",
    "rho = rand(2^n, 2^n) + 1im * rand(2^n, 2^n)\n",
    "rho = rho * rho'\n",
    "rho = rho / tr(rho)\n",
    "rho = Hermitian(rho)\n",
    "println(maximum(eigvals(rho)))\n",
    "\n",
    "sigma = rand(2^n, 2^n) + 1im * rand(2^n, 2^n)\n",
    "sigma = sigma * sigma'\n",
    "sigma = sigma / tr(sigma)\n",
    "sigma = Hermitian(sigma)\n",
    "println(maximum(eigvals(sigma)))\n",
    "\n",
    "summed = rho + 10 * sigma\n",
    "println(maximum(eigvals(summed)))\n",
    "summed = summed / tr(summed)\n",
    "summed = Hermitian(summed)\n",
    "println(maximum(eigvals(summed)))\n"
   ]
  },
  {
   "cell_type": "code",
   "execution_count": 52,
   "metadata": {},
   "outputs": [
    {
     "data": {
      "text/plain": [
       "2×2 Matrix{Float64}:\n",
       " 0.9  1.2\n",
       " 0.8  1.1"
      ]
     },
     "metadata": {},
     "output_type": "display_data"
    },
    {
     "data": {
      "text/plain": [
       "2×2 Matrix{Float64}:\n",
       " 2.7  4.8\n",
       " 4.0  7.7"
      ]
     },
     "metadata": {},
     "output_type": "display_data"
    }
   ],
   "source": [
    "jump = [3 4; 5 7]\n",
    "bohr_freqs = [0.1 -0.2; 0.2 -0.1]\n",
    "sigma = 5\n",
    "energy = 1.\n",
    "\n",
    "display(energy .- bohr_freqs)\n",
    "\n",
    "jump.* (energy .- bohr_freqs)"
   ]
  },
  {
   "cell_type": "code",
   "execution_count": 44,
   "metadata": {},
   "outputs": [
    {
     "data": {
      "text/plain": [
       "Dict{Any, Any} with 10 entries:\n",
       "  5  => 0.353112\n",
       "  4  => 0.894245\n",
       "  6  => 0.394255\n",
       "  7  => 0.953125\n",
       "  2  => 0.549051\n",
       "  10 => 0.748415\n",
       "  9  => 0.49425\n",
       "  8  => 0.795547\n",
       "  3  => 0.218587\n",
       "  1  => 0.325977"
      ]
     },
     "metadata": {},
     "output_type": "display_data"
    },
    {
     "data": {
      "text/plain": [
       "10"
      ]
     },
     "metadata": {},
     "output_type": "display_data"
    }
   ],
   "source": [
    "# random dict\n",
    "function random_dict(n)\n",
    "    d = Dict()\n",
    "    for i in 1:n\n",
    "        d[i] = rand()\n",
    "    end\n",
    "    return d\n",
    "end\n",
    "\n",
    "Random.seed!(1234)\n",
    "rand_dict = random_dict(10)\n",
    "display(rand_dict)\n",
    "rand(keys(rand_dict))"
   ]
  },
  {
   "cell_type": "code",
   "execution_count": 4,
   "metadata": {},
   "outputs": [
    {
     "data": {
      "text/plain": [
       "-1.77e-10"
      ]
     },
     "metadata": {},
     "output_type": "display_data"
    }
   ],
   "source": [
    "# 2 very small floating point number\n",
    "a = 1.1e-10\n",
    "b = 2.1e-10\n",
    "c = 3.3e-11\n",
    "l = [a, b, c]\n",
    "minimum(diff(l))"
   ]
  },
  {
   "cell_type": "code",
   "execution_count": 2,
   "metadata": {},
   "outputs": [
    {
     "name": "stdout",
     "output_type": "stream",
     "text": [
      "  8.671321 seconds (489.82 M allocations: 8.789 GiB, 5.95% gc time)\n",
      "  9.001961 seconds (489.82 M allocations: 8.789 GiB, 5.09% gc time)\n"
     ]
    }
   ],
   "source": [
    "#Create a random matrix\n",
    "size = 10000\n",
    "A = randn(size,size)\n",
    "\n",
    "@time begin\n",
    "    for j in 1:size\n",
    "        for i in 1:size\n",
    "            A[i,j] = A[i,j] + 1\n",
    "        end\n",
    "    end\n",
    "end\n",
    "\n",
    "@time begin\n",
    "    for i in 1:size, j in 1:size\n",
    "        A[i,j] = A[i,j] + 1\n",
    "    end\n",
    "end"
   ]
  },
  {
   "cell_type": "code",
   "execution_count": 13,
   "metadata": {},
   "outputs": [
    {
     "name": "stdout",
     "output_type": "stream",
     "text": [
      "[-1.44 -2.44 -3.44]\n",
      "[2.0736 5.9536 11.833599999999999]\n",
      "[-0.5184 -1.4884 -2.9583999999999997]\n"
     ]
    }
   ],
   "source": [
    "energy = -0.44\n",
    "a = [1. 2. 3.]\n",
    "println(energy .- a)\n",
    "println((energy .- a).^2)\n",
    "println(-(energy .- a).^2 * 0.5^2)"
   ]
  },
  {
   "cell_type": "code",
   "execution_count": 1,
   "metadata": {},
   "outputs": [
    {
     "name": "stdout",
     "output_type": "stream",
     "text": [
      "Entry at (2, 3): 5\n"
     ]
    }
   ],
   "source": [
    "using SparseArrays\n",
    "\n",
    "# Create a sparse matrix\n",
    "A = sparse([1, 2, 3], [2, 3, 1], [4, 5, 6])\n",
    "\n",
    "# Access the (i, j) entry\n",
    "i = 2\n",
    "j = 3\n",
    "entry_ij = A[i, j]\n",
    "\n",
    "println(\"Entry at ($i, $j): \", entry_ij)\n"
   ]
  },
  {
   "cell_type": "code",
   "execution_count": 76,
   "metadata": {},
   "outputs": [
    {
     "data": {
      "text/plain": [
       "1×4 Matrix{Int64}:\n",
       " 1  2  3  4"
      ]
     },
     "metadata": {},
     "output_type": "display_data"
    },
    {
     "data": {
      "text/plain": [
       "1×4 Matrix{Int64}:\n",
       " 2  3  4  5"
      ]
     },
     "metadata": {},
     "output_type": "display_data"
    },
    {
     "data": {
      "text/plain": [
       "4×4 Matrix{Int64}:\n",
       "  0   1   2  3\n",
       " -1   0   1  2\n",
       " -2  -1   0  1\n",
       " -3  -2  -1  0"
      ]
     },
     "metadata": {},
     "output_type": "display_data"
    }
   ],
   "source": [
    "a = [1 2 3 4]\n",
    "b = [2 3 4 5]\n",
    "\n",
    "display(a)\n",
    "display(b)\n",
    "a .- transpose(a)"
   ]
  },
  {
   "cell_type": "code",
   "execution_count": 13,
   "metadata": {},
   "outputs": [
    {
     "ename": "ErrorException",
     "evalue": "syntax: \"...\" expression outside call around /Users/bence/code/liouvillian_metro/julia/jl_playground.ipynb:2",
     "output_type": "error",
     "traceback": [
      "syntax: \"...\" expression outside call around /Users/bence/code/liouvillian_metro/julia/jl_playground.ipynb:2\n",
      "\n",
      "Stacktrace:\n",
      " [1] top-level scope\n",
      "   @ ~/code/liouvillian_metro/julia/jl_playground.ipynb:2"
     ]
    }
   ],
   "source": [
    "a = [[1, 2] [3, 4]]\n",
    "a..."
   ]
  },
  {
   "cell_type": "code",
   "execution_count": 8,
   "metadata": {},
   "outputs": [
    {
     "data": {
      "text/plain": [
       "(dim=4|id=146|\"index_n\")"
      ]
     },
     "metadata": {},
     "output_type": "display_data"
    }
   ],
   "source": [
    "i = Index(2,\"index_i\"); j = Index(2,\"index_j\"); m = Index(4,\"index_m\"); n = Index(4,\"index_n\")"
   ]
  },
  {
   "cell_type": "code",
   "execution_count": 7,
   "metadata": {},
   "outputs": [
    {
     "data": {
      "text/plain": [
       "8×8 Matrix{Float64}:\n",
       "  45.0   50.0   54.0   60.0   90.0  100.0  108.0  120.0\n",
       "  55.0   60.0   66.0   72.0  110.0  120.0  132.0  144.0\n",
       "  63.0   70.0   72.0   80.0  126.0  140.0  144.0  160.0\n",
       "  77.0   84.0   88.0   96.0  154.0  168.0  176.0  192.0\n",
       " 135.0  150.0  162.0  180.0  180.0  200.0  216.0  240.0\n",
       " 165.0  180.0  198.0  216.0  220.0  240.0  264.0  288.0\n",
       " 189.0  210.0  216.0  240.0  252.0  280.0  288.0  320.0\n",
       " 231.0  252.0  264.0  288.0  308.0  336.0  352.0  384.0"
      ]
     },
     "metadata": {},
     "output_type": "display_data"
    },
    {
     "data": {
      "text/plain": [
       "2×2 Matrix{Float64}:\n",
       "  45.0  120.0\n",
       " 231.0  384.0"
      ]
     },
     "metadata": {},
     "output_type": "display_data"
    }
   ],
   "source": [
    "M = [1.0 2.0; 3.0 4.0]\n",
    "N = [5.0 6.0; 7.0 8.0]\n",
    "L = [9.0 10.0; 11.0 12.0]\n",
    "\n",
    "tensorprod_linalg = kron(kron(M, N), L)\n",
    "display(tensorprod_linalg)\n",
    "\n",
    "\n",
    "# res = M .* N \n",
    "# display(res)\n"
   ]
  },
  {
   "cell_type": "code",
   "execution_count": 51,
   "metadata": {},
   "outputs": [
    {
     "name": "stdout",
     "output_type": "stream",
     "text": [
      "Matrix{ComplexF64}\n",
      "0.5726465858035323 + 0.35776898836267246im\n"
     ]
    },
    {
     "data": {
      "text/plain": [
       "gaussian2 (generic function with 1 method)"
      ]
     },
     "metadata": {},
     "output_type": "display_data"
    }
   ],
   "source": [
    "num_qubits = 15\n",
    "dim = 2^num_qubits\n",
    "sigma = 0.1\n",
    "\n",
    "Random.seed!(666)\n",
    "random_matrix = rand(ComplexF64, dim, dim)\n",
    "println(typeof(random_matrix))\n",
    "println(random_matrix[1, 1])\n",
    "# Apply a vectorized function to the matrix, that weights the entries with a Gaussian\n",
    "function gaussian(matrix::Matrix{ComplexF64}, sigma::Float64)\n",
    "    return exp.(-abs2.(matrix) / (2 * sigma^2))\n",
    "end\n",
    "\n",
    "function gaussian2(matrix_entry::ComplexF64, sigma::Float64)\n",
    "    return exp(-abs2(matrix_entry) / (2 * sigma^2))\n",
    "end"
   ]
  },
  {
   "cell_type": "code",
   "execution_count": 52,
   "metadata": {},
   "outputs": [],
   "source": [
    "# time it\n",
    "@time weighted_matrix = gaussian(random_matrix, sigma)\n",
    "@time weighted_matrix2 = gaussian2.(random_matrix, sigma)\n",
    "\n",
    "#Check if they are the same\n",
    "println(weighted_matrix == weighted_matrix2)"
   ]
  }
 ],
 "metadata": {
  "kernelspec": {
   "display_name": "Julia 1.10.4",
   "language": "julia",
   "name": "julia-1.10"
  },
  "language_info": {
   "file_extension": ".jl",
   "mimetype": "application/julia",
   "name": "julia",
   "version": "1.10.4"
  }
 },
 "nbformat": 4,
 "nbformat_minor": 2
}
