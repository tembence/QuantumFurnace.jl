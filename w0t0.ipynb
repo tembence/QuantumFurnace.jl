{
 "cells": [
  {
   "cell_type": "code",
   "execution_count": 1,
   "metadata": {},
   "outputs": [],
   "source": [
    "import numpy as np\n",
    "import qutip as qt\n",
    "import sys \n",
    "sys.path.append('/Users/bence/code/liouvillian_metro/')\n",
    "\n",
    "from tools.classical import HamHam, find_ideal_heisenberg"
   ]
  },
  {
   "cell_type": "code",
   "execution_count": 82,
   "metadata": {},
   "outputs": [
    {
     "name": "stdout",
     "output_type": "stream",
     "text": [
      "Ideal spectrum:  [0.     0.0975 0.1294 0.1599 0.2268 0.2278 0.2453 0.2582 0.2713 0.2892\n",
      " 0.2902 0.3253 0.3571 0.3885 0.4195 0.45  ]\n",
      "Rescaled coefficients:  [0.03228396 0.03228396 0.03228396 0.03228396 0.0215334  0.01271988\n",
      " 0.00978204 0.01833729]\n",
      "w0 = 0.0010488518428732885\n",
      "ideal_N = 953.4235047540549\n",
      "ideal_r = 10\n",
      "theoretical_N = 512.0\n",
      "theoretical_r = 9\n"
     ]
    }
   ],
   "source": [
    "num_qubits = 4\n",
    "num_energy_bits = 8\n",
    "delta = 0.01\n",
    "eps = 0.1\n",
    "sigma = 5\n",
    "bohr_bound = 0 #2 ** (-num_energy_bits + 1)\n",
    "beta = 1\n",
    "eig_index = 2\n",
    "mix_time = 4\n",
    "\n",
    "\n",
    "hamiltonian = find_ideal_heisenberg(num_qubits, bohr_bound, eps, fix_coeffs=[1, 1, 1, 1], signed=False, for_oft=True)\n",
    "\n",
    "initial_state = hamiltonian.eigvecs[:, eig_index]\n",
    "initial_dm = initial_state @ initial_state.conj().T\n",
    "\n",
    "w0 = np.min(np.diff(hamiltonian.spectrum))\n",
    "print(f'w0 = {w0}')\n",
    "ideal_N = 1 / w0\n",
    "ideal_r = int(np.ceil(np.log2(ideal_N)))  #! This is varying crazy for different random symbreak coeffs\n",
    "print(f'ideal_N = {ideal_N}')\n",
    "print(f'ideal_r = {ideal_r}')\n",
    "\n",
    "theoretical_N = 2 * num_qubits * 2**(1.5 * num_qubits)\n",
    "theoretical_r = int(np.ceil(np.log2(theoretical_N)))\n",
    "print(f'theoretical_N = {theoretical_N}')\n",
    "print(f'theoretical_r = {theoretical_r}')"
   ]
  },
  {
   "cell_type": "code",
   "execution_count": 20,
   "metadata": {},
   "outputs": [
    {
     "name": "stdout",
     "output_type": "stream",
     "text": [
      "w0 = 0.0003606943520742534, t0 = 272.1827216315008\n",
      "[ 0.          0.00036069  0.00072139  0.00108208  0.00144278  0.00180347\n",
      "  0.00216417  0.00252486  0.00288555  0.00324625  0.00360694  0.00396764\n",
      "  0.00432833  0.00468903  0.00504972  0.00541042  0.00577111  0.0061318\n",
      "  0.0064925   0.00685319  0.00721389  0.00757458  0.00793528  0.00829597\n",
      "  0.00865666  0.00901736  0.00937805  0.00973875  0.01009944  0.01046014\n",
      "  0.01082083  0.01118152 -0.01154222 -0.01118152 -0.01082083 -0.01046014\n",
      " -0.01009944 -0.00973875 -0.00937805 -0.00901736 -0.00865666 -0.00829597\n",
      " -0.00793528 -0.00757458 -0.00721389 -0.00685319 -0.0064925  -0.0061318\n",
      " -0.00577111 -0.00541042 -0.00504972 -0.00468903 -0.00432833 -0.00396764\n",
      " -0.00360694 -0.00324625 -0.00288555 -0.00252486 -0.00216417 -0.00180347\n",
      " -0.00144278 -0.00108208 -0.00072139 -0.00036069]\n"
     ]
    }
   ],
   "source": [
    "N = 2 ** num_energy_bits\n",
    "N_labels = np.arange(N / 2, dtype=int)\n",
    "N_labels_neg = np.arange(- N / 2, 0, dtype=int)\n",
    "N_labels = np.concatenate((N_labels, N_labels_neg))\n",
    "# Smallest energy difference in spectrum\n",
    "t0 = 2 * np.pi / (w0 * N)\n",
    "print(f'w0 = {w0}, t0 = {t0}')\n",
    "time_labels = t0 * N_labels\n",
    "energy_labels = w0 * N_labels\n",
    "print(energy_labels)\n"
   ]
  },
  {
   "cell_type": "code",
   "execution_count": 18,
   "metadata": {},
   "outputs": [
    {
     "name": "stdout",
     "output_type": "stream",
     "text": [
      "w0_ideal = 0.03125\n",
      "[ 0.       0.03125  0.0625   0.09375  0.125    0.15625  0.1875   0.21875\n",
      "  0.25     0.28125  0.3125   0.34375  0.375    0.40625  0.4375   0.46875\n",
      " -0.5     -0.46875 -0.4375  -0.40625 -0.375   -0.34375 -0.3125  -0.28125\n",
      " -0.25    -0.21875 -0.1875  -0.15625 -0.125   -0.09375 -0.0625  -0.03125]\n",
      "[   0.            6.28318531   12.56637061   18.84955592   25.13274123\n",
      "   31.41592654   37.69911184   43.98229715   50.26548246   56.54866776\n",
      "   62.83185307   69.11503838   75.39822369   81.68140899   87.9645943\n",
      "   94.24777961 -100.53096491  -94.24777961  -87.9645943   -81.68140899\n",
      "  -75.39822369  -69.11503838  -62.83185307  -56.54866776  -50.26548246\n",
      "  -43.98229715  -37.69911184  -31.41592654  -25.13274123  -18.84955592\n",
      "  -12.56637061   -6.28318531]\n"
     ]
    }
   ],
   "source": [
    "w0_ideal = 1 / N\n",
    "print(f'w0_ideal = {w0_ideal}')\n",
    "t0_ideal = 2 * np.pi / (w0_ideal * N)\n",
    "energy_labels_ideal = w0_ideal * N_labels\n",
    "print(energy_labels_ideal)\n",
    "time_labels_ideal = t0_ideal * N_labels\n",
    "print(time_labels_ideal)"
   ]
  }
 ],
 "metadata": {
  "kernelspec": {
   "display_name": "qiskit_1_env",
   "language": "python",
   "name": "python3"
  },
  "language_info": {
   "codemirror_mode": {
    "name": "ipython",
    "version": 3
   },
   "file_extension": ".py",
   "mimetype": "text/x-python",
   "name": "python",
   "nbconvert_exporter": "python",
   "pygments_lexer": "ipython3",
   "version": "3.12.2"
  }
 },
 "nbformat": 4,
 "nbformat_minor": 2
}
