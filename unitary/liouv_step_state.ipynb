{
 "cells": [
  {
   "cell_type": "code",
   "execution_count": 16,
   "metadata": {},
   "outputs": [],
   "source": [
    "\n",
    "import sys\n",
    "sys.path.append('/Users/bence/code/liouvillian_metro/')\n",
    "\n",
    "import numpy as np\n",
    "import qutip as qt\n",
    "from scipy.linalg import expm\n",
    "import pickle\n",
    "from qiskit.quantum_info import DensityMatrix, Statevector, partial_trace, state_fidelity\n",
    "\n",
    "from oft import oft\n",
    "from tools.classical import find_ideal_heisenberg, trotter_step_heisenberg_qt, ham_evol_qt\n"
   ]
  },
  {
   "cell_type": "markdown",
   "metadata": {},
   "source": [
    "### State we should get\n",
    "\n",
    "$$\\rho' = \\mathbb{I} + \\delta \\left[ \\sum_\\omega \\gamma(\\omega) \\left(-\\frac{1}{2} \\{\\sigma_x(\\omega)^\\dagger \\sigma_x(\\omega), \\rho\\} + \\sigma_x(\\omega) \\rho \\sigma_x(\\omega)^\\dagger\\right) \\right]+ \\mathcal{O}(\\delta^2)$$\n",
    "Where we used the $\\sigma_x$ jump on the 1st system qubit out of the [0, 1, 2]. Here it is still under inverstigation how large should $\\delta$ be s.t we can really drop the higher orders, and also that we only have those terms there that should be dropped."
   ]
  },
  {
   "cell_type": "code",
   "execution_count": 17,
   "metadata": {},
   "outputs": [
    {
     "name": "stdout",
     "output_type": "stream",
     "text": [
      "Original spectrum:  [-3.7    -3.177  -2.5482 -1.7     1.625   2.4547  3.2521  3.7936]\n",
      "Ideal spectrum:  [0.     0.0314 0.0692 0.1201 0.3198 0.3696 0.4175 0.45  ]\n",
      "Nonrescaled coefficients:  [1.  0.8 0.9 1. ]\n",
      "Rescaled coefficients:  [0.06005156 0.04804125 0.05404641 0.06005156]\n"
     ]
    }
   ],
   "source": [
    "num_qubits = 3\n",
    "num_energy_bits = 6\n",
    "delta = 0.1 \n",
    "eps = 0.1\n",
    "sigma = 5\n",
    "bohr_bound = 2 ** (-num_energy_bits + 1)\n",
    "beta = 1\n",
    "T = 1\n",
    "total_time = T\n",
    "num_trotter_steps = 100\n",
    "\n",
    "hamiltonian = find_ideal_heisenberg(num_qubits, bohr_bound, eps, signed=False, for_oft=True)\n",
    "\n",
    "step_size = total_time / num_trotter_steps\n",
    "trott_step_qt = trotter_step_heisenberg_qt(num_qubits, step_size, coeffs=hamiltonian.rescaled_coeffs)\n",
    "trott_U_qt = ham_evol_qt(num_qubits, trott_step_qt, num_trotter_steps)\n",
    "\n",
    "# U = expm(1j * total_time * hamiltonian.qt.full())\n",
    "# print(np.linalg.norm(U - trott_U_qt.full()))\n",
    "\n",
    "#* Initial state\n",
    "with open(f'/Users/bence/code/liouvillian_metro/data/initial_state_n{num_qubits}k{num_energy_bits}d{delta}.pkl', 'rb') as f:\n",
    "    initial_state = pickle.load(f)\n",
    "\n",
    "initial_dm = DensityMatrix(initial_state).data"
   ]
  },
  {
   "cell_type": "code",
   "execution_count": 18,
   "metadata": {},
   "outputs": [],
   "source": [
    "N = 2**num_energy_bits\n",
    "N_labels = np.arange(N / 2, dtype=int)\n",
    "N_labels_neg = np.arange(- N / 2, 0, dtype=int)\n",
    "N_labels = np.concatenate((N_labels, N_labels_neg))\n",
    "energy_labels = 2 * np.pi * N_labels / N \n",
    "time_labels = N_labels\n",
    "\n",
    "jump_op = qt.tensor([qt.qeye(2), qt.sigmax(), qt.qeye(2)]).full()\n",
    "\n",
    "boltzmann = lambda beta, energy: np.min([1, np.exp(-beta * energy)])\n",
    "\n",
    "#* Exact\n",
    "dm_we_should_get = initial_dm\n",
    "for phase in N_labels:\n",
    "    energy = 2 * np.pi * phase / 2**num_energy_bits\n",
    "    oft_op = oft(jump_op, phase, 2**num_energy_bits, sigma, hamiltonian=hamiltonian.qt.full())\n",
    "    dm_we_should_get += delta * boltzmann(beta, energy)*(-0.5 * oft_op.conj().T @ oft_op @ initial_dm\n",
    "                                      -0.5 * initial_dm @ oft_op.conj().T @ oft_op\n",
    "                                      + oft_op @ initial_dm @ oft_op.conj().T)\n",
    "\n",
    "#* Trotter\n",
    "# for w in energy_labels:\n",
    "#     oft_op = oft(jump_op, w, 2**num_energy_bits, sigma, trotter=trott_U_qt.full())\n",
    "#     dm_we_should_get += delta * boltzmann(beta, w)*(-0.5 * oft_op.conj().T @ oft_op @ initial_dm\n",
    "#                                                     -0.5 * initial_dm @ oft_op.conj().T @ oft_op\n",
    "#                                                     + oft_op @ initial_dm @ oft_op.conj().T)\n",
    "    \n",
    "dm_we_should_get /= np.trace(dm_we_should_get)\n"
   ]
  },
  {
   "cell_type": "code",
   "execution_count": 19,
   "metadata": {},
   "outputs": [],
   "source": [
    "with open(f'/Users/bence/code/liouvillian_metro/data/state_before_measure_n{num_qubits}k{num_energy_bits}d{delta}.pkl', 'rb') as f:\n",
    "    circ_state = pickle.load(f)\n",
    "\n",
    "circ_sys_dm = partial_trace(circ_state, list(range(2 + num_energy_bits))).data\n",
    "circ_sys_dm /= np.trace(circ_sys_dm)"
   ]
  },
  {
   "cell_type": "code",
   "execution_count": 20,
   "metadata": {},
   "outputs": [
    {
     "name": "stdout",
     "output_type": "stream",
     "text": [
      "Basic distance = 0.0109\n",
      "Trace distance = 0.0086\n",
      "Fidelity = 0.9997\n"
     ]
    }
   ],
   "source": [
    "dist = np.linalg.norm(dm_we_should_get - circ_sys_dm)\n",
    "print(f'Basic distance = {dist:.4f}')\n",
    "tr_dist = qt.tracedist(qt.Qobj(dm_we_should_get), qt.Qobj(circ_sys_dm))\n",
    "print(f'Trace distance = {tr_dist:.4f}')\n",
    "fidelity = qt.fidelity(qt.Qobj(dm_we_should_get), qt.Qobj(circ_sys_dm))\n",
    "print(f'Fidelity = {fidelity:.4f}')"
   ]
  },
  {
   "cell_type": "code",
   "execution_count": 21,
   "metadata": {},
   "outputs": [],
   "source": [
    "# diamond_norm = qt.dnorm(qt.Qobj(dm_we_should_get), qt.Qobj(circ_sys_dm))\n",
    "# print(f'Diamond norm = {diamond_norm:.4f}')"
   ]
  }
 ],
 "metadata": {
  "kernelspec": {
   "display_name": "qiskit_env",
   "language": "python",
   "name": "python3"
  },
  "language_info": {
   "codemirror_mode": {
    "name": "ipython",
    "version": 3
   },
   "file_extension": ".py",
   "mimetype": "text/x-python",
   "name": "python",
   "nbconvert_exporter": "python",
   "pygments_lexer": "ipython3",
   "version": "3.11.5"
  }
 },
 "nbformat": 4,
 "nbformat_minor": 2
}
