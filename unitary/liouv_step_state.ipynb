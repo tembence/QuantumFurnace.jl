{
 "cells": [
  {
   "cell_type": "code",
   "execution_count": 1,
   "metadata": {},
   "outputs": [],
   "source": [
    "\n",
    "import sys\n",
    "sys.path.append('/Users/bence/code/liouvillian_metro/')\n",
    "\n",
    "import numpy as np\n",
    "import qutip as qt\n",
    "from scipy.linalg import expm\n",
    "import pickle\n",
    "from qiskit.quantum_info import DensityMatrix, Statevector, partial_trace, state_fidelity\n",
    "\n",
    "from oft import oft\n",
    "from tools.classical import find_ideal_heisenberg, trotter_heisenberg_qutip\n",
    "\n",
    "boltzmann = lambda beta, w: np.min([1, np.exp(-beta * w)])\n",
    "trace_dist = lambda rho1, rho2: 0.5 * np.trace(np.sqrt((rho1 - rho2).conj().T @ (rho1 - rho2)))"
   ]
  },
  {
   "cell_type": "markdown",
   "metadata": {},
   "source": [
    "### State we should get\n",
    "\n",
    "$$\\rho' = \\mathbb{I} + \\delta \\left[ \\sum_\\omega \\gamma(\\omega) \\left(-\\frac{1}{2} \\{\\sigma_x(\\omega)^\\dagger \\sigma_x(\\omega), \\rho\\} + \\sigma_x(\\omega) \\rho \\sigma_x(\\omega)^\\dagger\\right) \\right]+ \\mathcal{O}(\\delta^2)$$\n",
    "Where we used the $\\sigma_x$ jump on the 1st system qubit out of the [0, 1, 2]. Here it is still under inverstigation how large should $\\delta$ be s.t we can really drop the higher orders, and also that we only have those terms there that should be dropped."
   ]
  },
  {
   "cell_type": "code",
   "execution_count": 2,
   "metadata": {},
   "outputs": [
    {
     "name": "stdout",
     "output_type": "stream",
     "text": [
      "Original spectrum:  [-3.7    -3.177  -2.5482 -1.7     1.625   2.4547  3.2521  3.7936]\n",
      "Ideal spectrum:  [0.     0.0314 0.0692 0.1201 0.3198 0.3696 0.4175 0.45  ]\n",
      "Nonrescaled coefficients:  [1.  0.8 0.9 1. ]\n",
      "Rescaled coefficients:  [0.06005156 0.04804125 0.05404641 0.06005156]\n",
      "eXX, eYY, eZZ for qubit (0, 1)\n",
      "eXX, eYY, eZZ for qubit (1, 2)\n",
      "eXX, eYY, eZZ for qubit (2, 0)\n"
     ]
    },
    {
     "ename": "FileNotFoundError",
     "evalue": "[Errno 2] No such file or directory: 'data/initial_state_n3k6d0.001.pkl'",
     "output_type": "error",
     "traceback": [
      "\u001b[0;31m---------------------------------------------------------------------------\u001b[0m",
      "\u001b[0;31mFileNotFoundError\u001b[0m                         Traceback (most recent call last)",
      "Cell \u001b[0;32mIn[2], line 22\u001b[0m\n\u001b[1;32m     15\u001b[0m trott_U_qt \u001b[38;5;241m=\u001b[39m trotter_heisenberg_qutip(num_qubits, step_size, num_trotter_steps, \n\u001b[1;32m     16\u001b[0m                                       coeffs\u001b[38;5;241m=\u001b[39mhamiltonian\u001b[38;5;241m.\u001b[39mrescaled_coeffs, shift\u001b[38;5;241m=\u001b[39m(total_time\u001b[38;5;241m*\u001b[39mhamiltonian\u001b[38;5;241m.\u001b[39mshift))\n\u001b[1;32m     18\u001b[0m \u001b[38;5;66;03m# U = expm(1j * total_time * hamiltonian.qt.full())\u001b[39;00m\n\u001b[1;32m     19\u001b[0m \u001b[38;5;66;03m# print(np.linalg.norm(U - trott_U_qt.full()))\u001b[39;00m\n\u001b[1;32m     20\u001b[0m \n\u001b[1;32m     21\u001b[0m \u001b[38;5;66;03m#* Initial state\u001b[39;00m\n\u001b[0;32m---> 22\u001b[0m \u001b[38;5;28;01mwith\u001b[39;00m \u001b[38;5;28;43mopen\u001b[39;49m\u001b[43m(\u001b[49m\u001b[38;5;124;43mf\u001b[39;49m\u001b[38;5;124;43m'\u001b[39;49m\u001b[38;5;124;43mdata/initial_state_n\u001b[39;49m\u001b[38;5;132;43;01m{\u001b[39;49;00m\u001b[43mnum_qubits\u001b[49m\u001b[38;5;132;43;01m}\u001b[39;49;00m\u001b[38;5;124;43mk\u001b[39;49m\u001b[38;5;132;43;01m{\u001b[39;49;00m\u001b[43mnum_energy_bits\u001b[49m\u001b[38;5;132;43;01m}\u001b[39;49;00m\u001b[38;5;124;43md\u001b[39;49m\u001b[38;5;132;43;01m{\u001b[39;49;00m\u001b[43mdelta\u001b[49m\u001b[38;5;132;43;01m}\u001b[39;49;00m\u001b[38;5;124;43m.pkl\u001b[39;49m\u001b[38;5;124;43m'\u001b[39;49m\u001b[43m,\u001b[49m\u001b[43m \u001b[49m\u001b[38;5;124;43m'\u001b[39;49m\u001b[38;5;124;43mrb\u001b[39;49m\u001b[38;5;124;43m'\u001b[39;49m\u001b[43m)\u001b[49m \u001b[38;5;28;01mas\u001b[39;00m f:\n\u001b[1;32m     23\u001b[0m     initial_state \u001b[38;5;241m=\u001b[39m pickle\u001b[38;5;241m.\u001b[39mload(f)\n\u001b[1;32m     25\u001b[0m initial_dm \u001b[38;5;241m=\u001b[39m DensityMatrix(initial_state)\u001b[38;5;241m.\u001b[39mdata\n",
      "File \u001b[0;32m~/miniforge3/envs/qiskit_env/lib/python3.11/site-packages/IPython/core/interactiveshell.py:308\u001b[0m, in \u001b[0;36m_modified_open\u001b[0;34m(file, *args, **kwargs)\u001b[0m\n\u001b[1;32m    301\u001b[0m \u001b[38;5;28;01mif\u001b[39;00m file \u001b[38;5;129;01min\u001b[39;00m {\u001b[38;5;241m0\u001b[39m, \u001b[38;5;241m1\u001b[39m, \u001b[38;5;241m2\u001b[39m}:\n\u001b[1;32m    302\u001b[0m     \u001b[38;5;28;01mraise\u001b[39;00m \u001b[38;5;167;01mValueError\u001b[39;00m(\n\u001b[1;32m    303\u001b[0m         \u001b[38;5;124mf\u001b[39m\u001b[38;5;124m\"\u001b[39m\u001b[38;5;124mIPython won\u001b[39m\u001b[38;5;124m'\u001b[39m\u001b[38;5;124mt let you open fd=\u001b[39m\u001b[38;5;132;01m{\u001b[39;00mfile\u001b[38;5;132;01m}\u001b[39;00m\u001b[38;5;124m by default \u001b[39m\u001b[38;5;124m\"\u001b[39m\n\u001b[1;32m    304\u001b[0m         \u001b[38;5;124m\"\u001b[39m\u001b[38;5;124mas it is likely to crash IPython. If you know what you are doing, \u001b[39m\u001b[38;5;124m\"\u001b[39m\n\u001b[1;32m    305\u001b[0m         \u001b[38;5;124m\"\u001b[39m\u001b[38;5;124myou can use builtins\u001b[39m\u001b[38;5;124m'\u001b[39m\u001b[38;5;124m open.\u001b[39m\u001b[38;5;124m\"\u001b[39m\n\u001b[1;32m    306\u001b[0m     )\n\u001b[0;32m--> 308\u001b[0m \u001b[38;5;28;01mreturn\u001b[39;00m \u001b[43mio_open\u001b[49m\u001b[43m(\u001b[49m\u001b[43mfile\u001b[49m\u001b[43m,\u001b[49m\u001b[43m \u001b[49m\u001b[38;5;241;43m*\u001b[39;49m\u001b[43margs\u001b[49m\u001b[43m,\u001b[49m\u001b[43m \u001b[49m\u001b[38;5;241;43m*\u001b[39;49m\u001b[38;5;241;43m*\u001b[39;49m\u001b[43mkwargs\u001b[49m\u001b[43m)\u001b[49m\n",
      "\u001b[0;31mFileNotFoundError\u001b[0m: [Errno 2] No such file or directory: 'data/initial_state_n3k6d0.001.pkl'"
     ]
    }
   ],
   "source": [
    "num_qubits = 3\n",
    "num_energy_bits = 6\n",
    "delta = 0.001 \n",
    "eps = 0.1\n",
    "sigma = 5\n",
    "bohr_bound = 2 ** (-num_energy_bits + 1)\n",
    "beta = 1\n",
    "T = 1\n",
    "total_time = T #! * 2 * np.pi\n",
    "num_trotter_steps = 10\n",
    "\n",
    "hamiltonian = find_ideal_heisenberg(num_qubits, bohr_bound, eps, signed=False, for_oft=True)\n",
    "\n",
    "step_size = total_time / num_trotter_steps\n",
    "trott_U_qt = trotter_heisenberg_qutip(num_qubits, step_size, num_trotter_steps, \n",
    "                                      coeffs=hamiltonian.rescaled_coeffs, shift=(total_time*hamiltonian.shift))\n",
    "\n",
    "# U = expm(1j * total_time * hamiltonian.qt.full())\n",
    "# print(np.linalg.norm(U - trott_U_qt.full()))\n",
    "\n",
    "#* Initial state\n",
    "with open(f'data/initial_state_n{num_qubits}k{num_energy_bits}d{delta}.pkl', 'rb') as f:\n",
    "    initial_state = pickle.load(f)\n",
    "\n",
    "initial_dm = DensityMatrix(initial_state).data"
   ]
  },
  {
   "cell_type": "code",
   "execution_count": null,
   "metadata": {},
   "outputs": [
    {
     "name": "stdout",
     "output_type": "stream",
     "text": [
      "[ 0.        0.015625  0.03125   0.046875  0.0625    0.078125  0.09375\n",
      "  0.109375  0.125     0.140625  0.15625   0.171875  0.1875    0.203125\n",
      "  0.21875   0.234375  0.25      0.265625  0.28125   0.296875  0.3125\n",
      "  0.328125  0.34375   0.359375  0.375     0.390625  0.40625   0.421875\n",
      "  0.4375    0.453125  0.46875   0.484375 -0.5      -0.484375 -0.46875\n",
      " -0.453125 -0.4375   -0.421875 -0.40625  -0.390625 -0.375    -0.359375\n",
      " -0.34375  -0.328125 -0.3125   -0.296875 -0.28125  -0.265625 -0.25\n",
      " -0.234375 -0.21875  -0.203125 -0.1875   -0.171875 -0.15625  -0.140625\n",
      " -0.125    -0.109375 -0.09375  -0.078125 -0.0625   -0.046875 -0.03125\n",
      " -0.015625]\n"
     ]
    }
   ],
   "source": [
    "N = 2**num_energy_bits\n",
    "N_labels = np.arange(N / 2, dtype=int)\n",
    "N_labels_neg = np.arange(- N / 2, 0, dtype=int)\n",
    "N_labels = np.concatenate((N_labels, N_labels_neg))\n",
    "energy_labels = N_labels / N\n",
    "energy_labels[0] = 0\n",
    "print(energy_labels)\n",
    "\n",
    "jump_op = qt.tensor([qt.qeye(2), qt.sigmax(), qt.qeye(2)]).full()\n",
    "\n",
    "dm_we_should_get = np.eye(2**num_qubits, dtype=np.complex128)\n",
    "#* Exact\n",
    "# for w in energy_labels:\n",
    "#     oft_op = oft(jump_op, w, 2**num_energy_bits, sigma, hamiltonian=hamiltonian.qt.full())\n",
    "#     dm_we_should_get += delta * boltzmann(w)*(-0.5 * oft_op.conj().T @ oft_op @ initial_dm\n",
    "#                                       -0.5 * initial_dm @ oft_op.conj().T @ oft_op\n",
    "#                                       + oft_op @ initial_dm @ oft_op.conj().T)\n",
    "\n",
    "#* Trotter\n",
    "for w in energy_labels:\n",
    "    oft_op = oft(jump_op, w, 2**num_energy_bits, sigma, trotter=trott_U_qt.full())\n",
    "    dm_we_should_get += delta * boltzmann(beta, w)*(-0.5 * oft_op.conj().T @ oft_op @ initial_dm\n",
    "                                                    -0.5 * initial_dm @ oft_op.conj().T @ oft_op\n",
    "                                                    + oft_op @ initial_dm @ oft_op.conj().T)\n",
    "    \n",
    "dm_we_should_get /= np.trace(dm_we_should_get)\n"
   ]
  },
  {
   "cell_type": "code",
   "execution_count": null,
   "metadata": {},
   "outputs": [
    {
     "data": {
      "text/plain": [
       "0.0027514772762741737"
      ]
     },
     "execution_count": 4,
     "metadata": {},
     "output_type": "execute_result"
    }
   ],
   "source": [
    "the_time = 1\n",
    "time_evolution_trott = lambda t: np.linalg.matrix_power(trott_U_qt, 1 * t)\n",
    "time_evolution = lambda t: expm(1j * t * hamiltonian.qt.full())\n",
    "np.linalg.norm(time_evolution(the_time) - time_evolution_trott(the_time))"
   ]
  },
  {
   "cell_type": "code",
   "execution_count": null,
   "metadata": {},
   "outputs": [],
   "source": [
    "with open(f'data/state_before_measure_n{num_qubits}k{num_energy_bits}d{delta}.pkl', 'rb') as f:\n",
    "    circ_state = pickle.load(f)\n",
    "\n",
    "circ_sys_dm = partial_trace(circ_state, list(range(2 + num_energy_bits))).data\n",
    "circ_sys_dm /= np.trace(circ_sys_dm)"
   ]
  },
  {
   "cell_type": "code",
   "execution_count": null,
   "metadata": {},
   "outputs": [
    {
     "name": "stdout",
     "output_type": "stream",
     "text": [
      "Basic distance = 0.9350\n",
      "Trace distance = 1.0776+0.0000j\n",
      "Fidelity = 0.1349\n",
      "Qutip trace distance = 0.8746\n",
      "Qutip fidelity = 0.3672\n"
     ]
    }
   ],
   "source": [
    "dist = np.linalg.norm(dm_we_should_get - circ_sys_dm)\n",
    "print(f'Basic distance = {dist:.4f}')\n",
    "tr_dist = trace_dist(dm_we_should_get, circ_sys_dm)\n",
    "print(f'Trace distance = {tr_dist:.4f}')\n",
    "fidelity = state_fidelity(DensityMatrix(dm_we_should_get), DensityMatrix(circ_sys_dm), validate=False)\n",
    "print(f'Fidelity = {fidelity:.4f}')\n",
    "\n",
    "tr_dist_qt = qt.tracedist(qt.Qobj(dm_we_should_get), qt.Qobj(circ_sys_dm))\n",
    "print(f'Qutip trace distance = {tr_dist_qt:.4f}')\n",
    "fid_qt = qt.fidelity(qt.Qobj(dm_we_should_get), qt.Qobj(circ_sys_dm))\n",
    "print(f'Qutip fidelity = {fid_qt:.4f}')"
   ]
  }
 ],
 "metadata": {
  "kernelspec": {
   "display_name": "qiskit_env",
   "language": "python",
   "name": "python3"
  },
  "language_info": {
   "codemirror_mode": {
    "name": "ipython",
    "version": 3
   },
   "file_extension": ".py",
   "mimetype": "text/x-python",
   "name": "python",
   "nbconvert_exporter": "python",
   "pygments_lexer": "ipython3",
   "version": "3.11.5"
  }
 },
 "nbformat": 4,
 "nbformat_minor": 2
}
