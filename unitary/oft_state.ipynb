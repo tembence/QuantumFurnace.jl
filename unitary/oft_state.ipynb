{
 "cells": [
  {
   "cell_type": "code",
   "execution_count": 71,
   "metadata": {},
   "outputs": [],
   "source": [
    "import numpy as np\n",
    "import qutip as qt\n",
    "import matplotlib.pyplot as plt\n",
    "\n",
    "from scipy.linalg import logm, expm\n",
    "from qiskit.quantum_info import Operator, state_fidelity, Statevector\n",
    "from qiskit import QuantumCircuit\n",
    "from qiskit.circuit.library import QFT\n",
    "\n",
    "import sys\n",
    "sys.path.append('/Users/bence/code/liouvillian_metro/')\n",
    "\n",
    "from oft import oft\n",
    "from tools.classical import find_ideal_heisenberg, trotter_heisenberg_qutip, BitHandler\n",
    "from op_fourier_trafo_unitary import brute_prepare_gaussian_state\n",
    "from tools.quantum import *\n",
    "from tools.classical import HamHam\n",
    "\n",
    "np.random.seed(667)"
   ]
  },
  {
   "cell_type": "code",
   "execution_count": 72,
   "metadata": {},
   "outputs": [],
   "source": [
    "def energy_state_for_bits(bitstring: str) -> np.ndarray:\n",
    "    \"\"\"Convert a bitstring to an energy eigenstate.\"\"\"\n",
    "    tensor_list = []\n",
    "    for bit in bitstring:\n",
    "        if bit == '0':\n",
    "            tensor_list.append(qt.basis(2, 0))\n",
    "        else:\n",
    "            tensor_list.append(qt.basis(2, 1))\n",
    "\n",
    "    state = qt.tensor(tensor_list).full()\n",
    "    return state / np.linalg.norm(state)\n",
    "\n",
    "def projector_to_energy_eigenspace(bitstring: str) -> np.ndarray:\n",
    "    \"\"\"Return the projector to the energy eigenstate corresponding to a bitstring.\"\"\"\n",
    "    state = energy_state_for_bits(bitstring)\n",
    "    return state @ state.conj().T"
   ]
  },
  {
   "cell_type": "markdown",
   "metadata": {},
   "source": [
    "### We shift every unit onto the energy, i.e. $\\omega_0 = \\frac{2\\pi}{N}, t_0 = 1$\n",
    "But on the otherhand we get out $\\bar \\omega$ values that are between $[-0.5, 0.5]$ and not $\\omega_0 S_{N}$"
   ]
  },
  {
   "cell_type": "markdown",
   "metadata": {},
   "source": [
    "### Code:"
   ]
  },
  {
   "cell_type": "code",
   "execution_count": 73,
   "metadata": {},
   "outputs": [
    {
     "name": "stdout",
     "output_type": "stream",
     "text": [
      "Original spectrum:  [-3.7    -3.177  -2.5482 -1.7     1.625   2.4547  3.2521  3.7936]\n",
      "Ideal spectrum:  [0.     0.0314 0.0692 0.1201 0.3198 0.3696 0.4175 0.45  ]\n",
      "Nonrescaled coefficients:  [1.  0.8 0.9 1. ]\n",
      "Rescaled coefficients:  [0.06005156 0.04804125 0.05404641 0.06005156]\n",
      "eXX, eYY, eZZ for qubit (0, 1)\n",
      "eXX, eYY, eZZ for qubit (1, 2)\n",
      "eXX, eYY, eZZ for qubit (2, 0)\n",
      "Initial energy: 0.0691654616279888\n"
     ]
    }
   ],
   "source": [
    "num_qubits = 3\n",
    "num_energy_bits = 6\n",
    "bohr_bound = 2 ** (-num_energy_bits + 1)\n",
    "eps = 0.1\n",
    "sigma = 5\n",
    "eig_index = 2\n",
    "T = 1\n",
    "total_time = T\n",
    "shots = 1\n",
    "num_trotter_steps = 100\n",
    "\n",
    "hamiltonian = find_ideal_heisenberg(num_qubits, bohr_bound, eps, signed=False, for_oft=True)\n",
    "rescaled_coeff = hamiltonian.rescaled_coeffs\n",
    "# Corresponding Trotter step circuit\n",
    "trotter_step_circ = trotter_step_heisenberg(num_qubits, coeffs=rescaled_coeff, symbreak=True)\n",
    "hamiltonian.trotter_step_circ = trotter_step_circ\n",
    "\n",
    "step_size = total_time / num_trotter_steps\n",
    "trott_U_qt = trotter_heisenberg_qutip(num_qubits, step_size, num_trotter_steps, \n",
    "                                      coeffs=hamiltonian.rescaled_coeffs, shift=(total_time*hamiltonian.shift))\n",
    "\n",
    "#* Initial state = eigenstate\n",
    "initial_state = hamiltonian.eigenstates[:, eig_index]\n",
    "initial_state = Statevector(initial_state)\n",
    "print(f'Initial energy: {hamiltonian.spectrum[eig_index]}')"
   ]
  },
  {
   "cell_type": "code",
   "execution_count": 74,
   "metadata": {},
   "outputs": [
    {
     "data": {
      "text/plain": [
       "0.0002751494007943095"
      ]
     },
     "execution_count": 74,
     "metadata": {},
     "output_type": "execute_result"
    }
   ],
   "source": [
    "# Trotter with 10 steps = 1 time unit of evolution with H\n",
    "the_time = 1\n",
    "time_evolution_trott = lambda n: np.linalg.matrix_power(trott_U_qt, 1 * n)\n",
    "time_evolution = lambda t: expm(1j * t * hamiltonian.qt.full())\n",
    "np.linalg.norm(time_evolution(the_time) - time_evolution_trott(the_time))"
   ]
  },
  {
   "cell_type": "code",
   "execution_count": 75,
   "metadata": {},
   "outputs": [
    {
     "name": "stdout",
     "output_type": "stream",
     "text": [
      "Energy before jump: 0.06916546162798878\n",
      "Jump applied to qubit 1\n",
      "Energy after jump: 0.10809281569774586\n",
      "Energy jump: 0.03892735406975707\n"
     ]
    }
   ],
   "source": [
    "#* --- Circuit\n",
    "qr_energy = QuantumRegister(num_energy_bits, name=\"w\")\n",
    "qr_sys  = QuantumRegister(num_qubits, name=\"sys\")\n",
    "\n",
    "cr_energy = ClassicalRegister(num_energy_bits, name=\"cr_w\")\n",
    "bithandler = BitHandler([cr_energy])\n",
    "\n",
    "circ = QuantumCircuit(qr_energy, qr_sys, cr_energy)\n",
    "\n",
    "# --- Initialize qregs\n",
    "# Gaussian prep on energy register\n",
    "if sigma != 0.:\n",
    "    prep_circ = brute_prepare_gaussian_state(num_energy_bits, sigma)\n",
    "    circ.compose(prep_circ, qr_energy, inplace=True)\n",
    "else:  # Conventional QPE\n",
    "    circ.h(qr_energy)\n",
    "    \n",
    "# System prep\n",
    "circ.initialize(initial_state, qr_sys)\n",
    "    \n",
    "# --- Operator Fourier Transform of jump operator\n",
    "jump_op = Operator(Pauli('X'))\n",
    "\n",
    "#* --- OFT\n",
    "trotter_step_circ = hamiltonian.trotter_step_circ\n",
    "qr_energy = QuantumRegister(num_energy_bits, name='w')\n",
    "qr_sys = QuantumRegister(num_qubits, name='sys')\n",
    "oft_circ = QuantumCircuit(qr_energy, qr_sys, name=\"OFT\")\n",
    "\n",
    "# Energy before jump\n",
    "initial_statevector = Statevector(circ).data\n",
    "padded_rescaled_hamiltonian = np.kron(hamiltonian.qt.full(), np.eye(2**num_energy_bits))  # top-bottom = right-left\n",
    "energy_before_jump = initial_statevector.conj().T @ padded_rescaled_hamiltonian @ initial_statevector\n",
    "print(f'Energy before jump: {energy_before_jump.real}')\n",
    "\n",
    "# Time evolutions for unit time, T = 1 (in H's units and scale)\n",
    "U_pos = ham_evol(num_qubits, trotter_step=trotter_step_circ, num_trotter_steps=num_trotter_steps, time=total_time)\n",
    "U_neg = ham_evol(num_qubits, trotter_step=trotter_step_circ, num_trotter_steps=num_trotter_steps, time=(-1)*total_time)\n",
    "cU_pos = U_pos.control(1, label='+')\n",
    "cU_neg = U_neg.control(1, label='-')\n",
    "\n",
    "# exp(-i H T) E_old\n",
    "for w in range(num_energy_bits):\n",
    "    # circ.p(- total_time * hamiltonian.shift * 2**w, qr_energy[w])  #!\n",
    "    if w != num_energy_bits - 1:\n",
    "        for _ in range(2**w):\n",
    "            oft_circ.compose(cU_neg, [w, *list(qr_sys)], inplace=True)\n",
    "    else:  # q = last qubit (MSB) has opposite sign\n",
    "        for _ in range(2**w):\n",
    "            oft_circ.compose(cU_pos, [w, *list(qr_sys)], inplace=True)\n",
    "\n",
    "# Jump A\n",
    "global random_sys_qubit\n",
    "random_sys_qubit = np.random.randint(0, num_qubits)\n",
    "op_circ = QuantumCircuit(1, name=\"A\")\n",
    "op_circ.append(jump_op, [0])\n",
    "oft_circ.compose(op_circ, qr_sys[random_sys_qubit], inplace=True)\n",
    "print(f'Jump applied to qubit {random_sys_qubit}')\n",
    "\n",
    "# For analysis\n",
    "statevector = Statevector(oft_circ).data\n",
    "energy_after_jump = statevector.conj().T @ padded_rescaled_hamiltonian @ statevector\n",
    "print(f'Energy after jump: {energy_after_jump.real}')\n",
    "omega = energy_after_jump - energy_before_jump\n",
    "print(f'Energy jump: {omega.real}')\n",
    "\n",
    "# # exp(i H T)\n",
    "for w in range(num_energy_bits):\n",
    "    # circ.p(total_time * hamiltonian.shift * 2**w, qr_energy[w])  #! Shift cancel\n",
    "    if w != num_energy_bits - 1:\n",
    "        for _ in range(2**w):\n",
    "            oft_circ.compose(cU_pos, [w, *list(qr_sys)], inplace=True)\n",
    "    else:  # q = last qubit (MSB) has opposite sign\n",
    "        for _ in range(2**w):\n",
    "            oft_circ.compose(cU_neg, [w, *list(qr_sys)], inplace=True)\n",
    "    \n",
    "oft_circ.compose(QFT(num_energy_bits, inverse=True), qubits=qr_energy, inplace=True)\n",
    "\n",
    "circ.compose(oft_circ, [*list(qr_energy), *list(qr_sys)], inplace=True)\n",
    "\n",
    "circ_state = Statevector(circ).data.reshape(2**(num_energy_bits + num_qubits), 1)"
   ]
  },
  {
   "cell_type": "code",
   "execution_count": 76,
   "metadata": {},
   "outputs": [
    {
     "name": "stdout",
     "output_type": "stream",
     "text": [
      "Energy: -0.4908738521234052\n"
     ]
    }
   ],
   "source": [
    "# Project into energy\n",
    "phase_bits = '111011'\n",
    "# phase = int(phase_bits[1:], 2)\n",
    "\n",
    "if len(phase_bits) != num_energy_bits:\n",
    "    raise ValueError('This is not the right amount of phase bits')\n",
    "if phase_bits[0] == '1':\n",
    "    phase = (int(phase_bits[1:], 2) - 2**(num_energy_bits - 1)) # exp(i 2pi phase)\n",
    "else:\n",
    "    phase = int(phase_bits[1:], 2)\n",
    "\n",
    "energy = 2 * np.pi * phase / 2**num_energy_bits\n",
    "print(f'Energy: {energy}')\n",
    "\n",
    "projector_to_energy = lambda bitstring: qt.tensor([qt.qeye(2**num_qubits), \n",
    "                                                   qt.Qobj(energy_state_for_bits(bitstring)).dag()]).full()\n",
    "projected_circ_state_w = projector_to_energy(phase_bits) @ circ_state\n",
    "projected_circ_state_w /= np.linalg.norm(projected_circ_state_w)\n",
    "\n",
    "projector = lambda bitstring: qt.tensor([qt.qeye(2**num_qubits), \n",
    "                                         qt.Qobj(energy_state_for_bits(bitstring) @ energy_state_for_bits(bitstring).conj().T)]).full()\n",
    "projected_full_state = projector(phase_bits) @ circ_state\n",
    "projected_full_state /= np.linalg.norm(projected_full_state)\n",
    "\n"
   ]
  },
  {
   "cell_type": "markdown",
   "metadata": {},
   "source": [
    "### Maths:"
   ]
  },
  {
   "cell_type": "code",
   "execution_count": 77,
   "metadata": {},
   "outputs": [
    {
     "name": "stdout",
     "output_type": "stream",
     "text": [
      "Normalized gauss sum 1.0\n"
     ]
    }
   ],
   "source": [
    "\n",
    "#* Units, labels\n",
    "N = 2**(num_energy_bits)\n",
    "N_labels = np.arange(N / 2, dtype=int)\n",
    "N_labels_neg = np.arange(- N / 2, 0, dtype=int)\n",
    "N_labels = np.concatenate((N_labels, N_labels_neg))\n",
    "# N_labels_decimal_order = np.arange(- N / 2, N / 2, dtype=int)\n",
    "\n",
    "energy_labels = 2 * np.pi * N_labels / N\n",
    "time_labels = N_labels\n",
    "\n",
    "# energy_labels_decimal_order = N_labels_decimal_order / N\n",
    "# time_labels_decimal_order = N_labels_decimal_order\n",
    "\n",
    "gauss = lambda t: np.exp(-t**2 / (4 * sigma**2))\n",
    "gauss_values = gauss(time_labels)\n",
    "normalized_gauss_values_bin_order = gauss_values / np.sqrt(np.sum(gauss_values**2))\n",
    "print(f'Normalized gauss sum {np.linalg.norm(normalized_gauss_values_bin_order)}')\n",
    "\n",
    "# plot gauss\n",
    "# plt.plot(time_labels_decimal_order, normalized_gauss_values_bin_order)"
   ]
  },
  {
   "cell_type": "code",
   "execution_count": 78,
   "metadata": {},
   "outputs": [
    {
     "name": "stdout",
     "output_type": "stream",
     "text": [
      "(512, 1)\n",
      "(512, 1)\n",
      "(8,)\n",
      "(8, 1)\n"
     ]
    }
   ],
   "source": [
    "#* Trotterized OFT\n",
    "jump_op = qt.tensor([qt.qeye(2), qt.sigmax(), qt.qeye(2)]).full()\n",
    "oft_op = np.zeros_like(jump_op, dtype=np.complex128)\n",
    "time_evolution = lambda n: np.linalg.matrix_power(trott_U_qt.full(), n)\n",
    "for i, n in enumerate(N_labels):\n",
    "    oft_op += (np.exp(-1j * phase * n * 2 * np.pi  / N)  #!\n",
    "                * normalized_gauss_values_bin_order[i] * time_evolution(n) @ jump_op @ time_evolution(-n)) / np.sqrt(N)\n",
    "    \n",
    "state_we_should_get = oft_op @ initial_state.data\n",
    "state_we_should_get.reshape(2**num_qubits, 1)\n",
    "state_we_should_get /= np.linalg.norm(state_we_should_get)\n",
    "\n",
    "full_state_we_should_get = qt.tensor([\n",
    "    qt.Qobj(state_we_should_get),\n",
    "    qt.Qobj(energy_state_for_bits(phase_bits))\n",
    "]).full()\n",
    "full_state_we_should_get /= np.linalg.norm(full_state_we_should_get)\n",
    "\n",
    "print(full_state_we_should_get.shape)\n",
    "print(projected_full_state.shape)\n",
    "\n",
    "print(state_we_should_get.shape)\n",
    "print(projected_circ_state_w.shape)\n",
    "\n",
    "#* Exact\n",
    "# hamiltonian is not None and trotter is None:  \n",
    "# time_evolution = lambda t: expm(1j * t * hamiltonian)\n",
    "# for n in N_labels:\n",
    "#     oft_op += np.exp(-1j * energy * 2 * np.pi * n) * gauss(n) * time_evolution(2 * np.pi * n) @ jump_op @ time_evolution(-2 * np.pi * n)\n"
   ]
  },
  {
   "cell_type": "code",
   "execution_count": 94,
   "metadata": {},
   "outputs": [
    {
     "data": {
      "text/plain": [
       "0.6271585065591244"
      ]
     },
     "execution_count": 94,
     "metadata": {},
     "output_type": "execute_result"
    }
   ],
   "source": [
    "time_evolution = lambda n: np.linalg.matrix_power(trott_U_qt.full(), n)\n",
    "trotter_time_evolution = time_evolution(1)\n",
    "exact_time_evolution = expm(1j * 1 * hamiltonian.qt.full())\n",
    "trott_circ_op = Operator(ham_evol(num_qubits, trotter_step=trotter_step_circ, num_trotter_steps=num_trotter_steps, time=1)).data\n",
    "qt.Qobj(trott_circ_op - trotter_time_evolution).norm('fro')"
   ]
  },
  {
   "cell_type": "code",
   "execution_count": 79,
   "metadata": {},
   "outputs": [
    {
     "name": "stdout",
     "output_type": "stream",
     "text": [
      "Fidelity: 0.9536945524564571\n",
      "Trace distance: 0.21518889933085444\n",
      "Fidelity qutip: 0.9765728608027447\n"
     ]
    }
   ],
   "source": [
    "# Distance\n",
    "fid = state_fidelity(projected_circ_state_w, state_we_should_get)\n",
    "print(f'Fidelity: {fid}')\n",
    "trdist_qt = qt.tracedist(qt.Qobj(projected_circ_state_w), qt.Qobj(state_we_should_get))\n",
    "print(f'Trace distance: {trdist_qt}')\n",
    "fid_qt = qt.fidelity(qt.Qobj(projected_circ_state_w), qt.Qobj(state_we_should_get))\n",
    "print(f'Fidelity qutip: {fid_qt}')"
   ]
  },
  {
   "cell_type": "code",
   "execution_count": 80,
   "metadata": {},
   "outputs": [
    {
     "name": "stdout",
     "output_type": "stream",
     "text": [
      "Fidelity full: 0.9536945524564571\n",
      "Trace distance full: 0.21518889931669138\n",
      "Fidelity qutip full: 0.9765728608027447\n"
     ]
    }
   ],
   "source": [
    "fid_full = state_fidelity(projected_full_state, full_state_we_should_get)\n",
    "print(f'Fidelity full: {fid_full}')\n",
    "trdist_qt_full = qt.tracedist(qt.Qobj(projected_full_state), qt.Qobj(full_state_we_should_get))\n",
    "print(f'Trace distance full: {trdist_qt_full}')\n",
    "fid_qt_full = qt.fidelity(qt.Qobj(projected_full_state), qt.Qobj(full_state_we_should_get))\n",
    "print(f'Fidelity qutip full: {fid_qt_full}')\n"
   ]
  }
 ],
 "metadata": {
  "kernelspec": {
   "display_name": "qiskit_env",
   "language": "python",
   "name": "python3"
  },
  "language_info": {
   "codemirror_mode": {
    "name": "ipython",
    "version": 3
   },
   "file_extension": ".py",
   "mimetype": "text/x-python",
   "name": "python",
   "nbconvert_exporter": "python",
   "pygments_lexer": "ipython3",
   "version": "3.11.5"
  }
 },
 "nbformat": 4,
 "nbformat_minor": 2
}
