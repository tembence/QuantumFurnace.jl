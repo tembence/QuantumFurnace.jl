{
 "cells": [
  {
   "cell_type": "code",
   "execution_count": 7,
   "metadata": {},
   "outputs": [],
   "source": [
    "\n",
    "import sys\n",
    "sys.path.append('/Users/bence/code/liouvillian_metro/')\n",
    "\n",
    "import numpy as np\n",
    "import qutip as qt\n",
    "from scipy.linalg import expm\n",
    "import pickle\n",
    "from qiskit.quantum_info import DensityMatrix, Statevector, partial_trace, state_fidelity\n",
    "from qiskit import QuantumCircuit\n",
    "\n",
    "from oft import oft\n",
    "from tools.classical import find_ideal_heisenberg, trotter_heisenberg_qutip\n",
    "\n",
    "np.random.seed(667)"
   ]
  },
  {
   "cell_type": "code",
   "execution_count": 8,
   "metadata": {},
   "outputs": [
    {
     "name": "stdout",
     "output_type": "stream",
     "text": [
      "Original spectrum:  [-3.7    -3.177  -2.5482 -1.7     1.625   2.4547  3.2521  3.7936]\n",
      "Ideal spectrum:  [0.     0.0314 0.0692 0.1201 0.3198 0.3696 0.4175 0.45  ]\n",
      "Nonrescaled coefficients:  [1.  0.8 0.9 1. ]\n",
      "Rescaled coefficients:  [0.06005156 0.04804125 0.05404641 0.06005156]\n",
      "eXX, eYY, eZZ for qubit (0, 1)\n",
      "eXX, eYY, eZZ for qubit (1, 2)\n",
      "eXX, eYY, eZZ for qubit (2, 0)\n"
     ]
    }
   ],
   "source": [
    "\n",
    "#! t_0 = 1, w_0 = 2pi/N\n",
    "\n",
    "num_qubits = 3\n",
    "num_energy_bits = 6\n",
    "eps = 0.1\n",
    "sigma = 5\n",
    "bohr_bound = 2 ** (-num_energy_bits + 1)\n",
    "beta = 1\n",
    "T = 1\n",
    "total_time = T\n",
    "num_trotter_steps = 100\n",
    "\n",
    "hamiltonian = find_ideal_heisenberg(num_qubits, bohr_bound, eps, signed=False, for_oft=True)\n",
    "\n",
    "step_size = total_time / num_trotter_steps\n",
    "trott_U_qt = trotter_heisenberg_qutip(num_qubits, step_size, num_trotter_steps, \n",
    "                                      coeffs=hamiltonian.rescaled_coeffs, shift=(total_time*hamiltonian.shift))"
   ]
  },
  {
   "cell_type": "code",
   "execution_count": 9,
   "metadata": {},
   "outputs": [],
   "source": [
    "N = 2**num_energy_bits\n",
    "N_labels = np.arange(N / 2, dtype=int)\n",
    "N_labels_neg = np.arange(- N / 2, 0, dtype=int)\n",
    "N_labels = np.concatenate((N_labels, N_labels_neg))\n",
    "\n",
    "with open(f'/Users/bence/code/liouvillian_metro/data/block_initial_state_n{num_qubits}k{num_energy_bits}.pkl', 'rb') as f:\n",
    "    initial_state = pickle.load(f).data.reshape(2**(num_qubits), 1)\n"
   ]
  },
  {
   "cell_type": "code",
   "execution_count": 10,
   "metadata": {},
   "outputs": [],
   "source": [
    "def energy_state_for_bits(bitstring: str) -> np.ndarray:\n",
    "    \"\"\"Convert a bitstring to an energy eigenstate.\"\"\"\n",
    "    tensor_list = []\n",
    "    for bit in bitstring:\n",
    "        if bit == '0':\n",
    "            tensor_list.append(qt.basis(2, 0))\n",
    "        else:\n",
    "            tensor_list.append(qt.basis(2, 1))\n",
    "    state = qt.tensor(tensor_list).full()\n",
    "    return state / np.linalg.norm(state)\n",
    "\n",
    "def projector_to_energy_eigenspace(bitstring: str) -> np.ndarray:\n",
    "    \"\"\"Return the projector to the energy eigenstate corresponding to a bitstring.\"\"\"\n",
    "    state = energy_state_for_bits(bitstring)\n",
    "    return state @ state.conj().T\n",
    "\n",
    "# def energy_basis_matrix(num_energy_bits: int) -> np.ndarray:\n",
    "    \n",
    "#     all_energy_bitstrings = [f'{i:0{num_energy_bits}b}' for i in range(2**num_energy_bits)]\n",
    "#     all_energy_states = [energy_state_for_bits(bitstring).reshape(1, 2**num_energy_bits) for bitstring in all_energy_bitstrings]\n",
    "#     return np.concatenate(all_energy_states, axis=0)\n"
   ]
  },
  {
   "cell_type": "code",
   "execution_count": 11,
   "metadata": {},
   "outputs": [],
   "source": [
    "# Test projection into eigenspace\n",
    "# coeffs = np.sqrt(np.array([0.25, 0.75]))\n",
    "# print(f'Coeffs {coeffs}')\n",
    "# energy_state_in_circuit = coeffs[0] * energy_state_for_bits('000') + coeffs[1] * energy_state_for_bits('001')\n",
    "# projector = projector_to_energy_eigenspace('011')\n",
    "# projected_state = projector @ energy_state_in_circuit\n",
    "# print(np.linalg.norm(projected_state))\n"
   ]
  },
  {
   "cell_type": "code",
   "execution_count": 12,
   "metadata": {},
   "outputs": [
    {
     "name": "stdout",
     "output_type": "stream",
     "text": [
      "Energy: 1.8653206380689396\n",
      "Trace distance: 0.9940373669185191\n",
      "Fidelity 0.011893161524510159\n"
     ]
    }
   ],
   "source": [
    "with open(f'/Users/bence/code/liouvillian_metro/data/block_state_before_measure_n{num_qubits}k{num_energy_bits}.pkl', 'rb') as f:\n",
    "    circ_state = pickle.load(f).data.reshape(2**(num_qubits + num_energy_bits + 1), 1)\n",
    "    \n",
    "phase_bits = '010011'\n",
    "if len(phase_bits) != num_energy_bits:\n",
    "    raise ValueError('This is not the right amount of phase bits')\n",
    "if phase_bits[0] == '1':\n",
    "    phase = (int(phase_bits[1:], 2) - 2**(num_energy_bits - 1)) # exp(i 2pi phase)\n",
    "else:\n",
    "    phase = int(phase_bits[1:], 2)\n",
    "\n",
    "energy = 2 * np.pi * phase / 2**num_energy_bits\n",
    "print(f'Energy: {energy}')\n",
    "\n",
    "projector_to_boltz_zero = qt.tensor([qt.qeye(2**(num_qubits + num_energy_bits)), qt.basis(2, 0).dag()]).full()\n",
    "projected_circ_state_0 = projector_to_boltz_zero @ circ_state\n",
    "projected_circ_state_0 /= np.linalg.norm(projected_circ_state_0)\n",
    "\n",
    "projector_to_energy = lambda bitstring: qt.tensor([qt.qeye(2**num_qubits), qt.Qobj(energy_state_for_bits(bitstring))]).dag().full()\n",
    "projected_circ_state_0w = projector_to_energy(phase_bits) @ projected_circ_state_0\n",
    "projected_circ_state_0w /= np.linalg.norm(projected_circ_state_0w)\n",
    "\n",
    "#* --- \n",
    "jump_op = qt.tensor([qt.qeye(2), qt.sigmax(), qt.qeye(2)]).full()\n",
    "oft_op = oft(jump_op, phase, 2**num_energy_bits, sigma, trotter=trott_U_qt.full())\n",
    "\n",
    "boltzmann = lambda beta, w: np.min([1, np.exp(-beta * w)])\n",
    "state_we_should_get = lambda w: np.sqrt(boltzmann(beta, w))*(oft_op @ initial_state)\n",
    "\n",
    "state_we_def_should_get = state_we_should_get(energy).reshape(2**num_qubits, 1)\n",
    "state_we_def_should_get /= np.linalg.norm(state_we_def_should_get)\n",
    "# print(state_we_def_should_get)\n",
    "# print(projected_circ_state_0w)\n",
    "\n",
    "dist = qt.tracedist(qt.Qobj(projected_circ_state_0w), qt.Qobj(state_we_def_should_get))\n",
    "print(f'Trace distance: {dist}')\n",
    "fid = state_fidelity(projected_circ_state_0w, state_we_def_should_get)\n",
    "print(f'Fidelity {fid}')\n",
    "\n",
    "# projected_circ_sys_dm = partial_trace(projected_circ_state, list(range(num_energy_bits))).data\n",
    "# projected_circ_sys_dm /= np.trace(projected_circ_sys_dm)\n"
   ]
  }
 ],
 "metadata": {
  "kernelspec": {
   "display_name": "qiskit_env",
   "language": "python",
   "name": "python3"
  },
  "language_info": {
   "codemirror_mode": {
    "name": "ipython",
    "version": 3
   },
   "file_extension": ".py",
   "mimetype": "text/x-python",
   "name": "python",
   "nbconvert_exporter": "python",
   "pygments_lexer": "ipython3",
   "version": "3.11.5"
  }
 },
 "nbformat": 4,
 "nbformat_minor": 2
}
