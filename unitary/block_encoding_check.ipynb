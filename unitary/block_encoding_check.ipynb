{
 "cells": [
  {
   "cell_type": "code",
   "execution_count": 28,
   "metadata": {},
   "outputs": [],
   "source": [
    "\n",
    "import sys\n",
    "sys.path.append('/Users/bence/code/liouvillian_metro/')\n",
    "\n",
    "import numpy as np\n",
    "import qutip as qt\n",
    "from scipy.linalg import expm\n",
    "import pickle\n",
    "from qiskit.quantum_info import DensityMatrix, Statevector, partial_trace, state_fidelity\n",
    "from qiskit import QuantumCircuit\n",
    "\n",
    "from oft import oft\n",
    "from tools.classical import find_ideal_heisenberg, trotter_heisenberg_qutip\n",
    "\n",
    "boltzmann = lambda beta, w: np.min([1, np.exp(-beta * w)])\n",
    "measured_energy = 0.19634954084936207 #! Always updated for new simulations"
   ]
  },
  {
   "cell_type": "code",
   "execution_count": 2,
   "metadata": {},
   "outputs": [
    {
     "name": "stdout",
     "output_type": "stream",
     "text": [
      "Original spectrum:  [-3.7    -3.177  -2.5482 -1.7     1.625   2.4547  3.2521  3.7936]\n",
      "Ideal spectrum:  [0.     0.0314 0.0692 0.1201 0.3198 0.3696 0.4175 0.45  ]\n",
      "Nonrescaled coefficients:  [1.  0.8 0.9 1. ]\n",
      "Rescaled coefficients:  [0.06005156 0.04804125 0.05404641 0.06005156]\n",
      "eXX, eYY, eZZ for qubit (0, 1)\n",
      "eXX, eYY, eZZ for qubit (1, 2)\n",
      "eXX, eYY, eZZ for qubit (2, 0)\n"
     ]
    }
   ],
   "source": [
    "num_qubits = 3\n",
    "num_energy_bits = 6\n",
    "eps = 0.1\n",
    "sigma = 5\n",
    "bohr_bound = 2 ** (-num_energy_bits + 1)\n",
    "beta = 1\n",
    "T = 1\n",
    "total_time = T #! * 2 * np.pi\n",
    "num_trotter_steps = 10\n",
    "\n",
    "hamiltonian = find_ideal_heisenberg(num_qubits, bohr_bound, eps, signed=False, for_oft=True)\n",
    "\n",
    "step_size = total_time / num_trotter_steps\n",
    "trott_U_qt = trotter_heisenberg_qutip(num_qubits, step_size, num_trotter_steps, \n",
    "                                      coeffs=hamiltonian.rescaled_coeffs, shift=(total_time*hamiltonian.shift))"
   ]
  },
  {
   "cell_type": "code",
   "execution_count": 8,
   "metadata": {},
   "outputs": [
    {
     "name": "stdout",
     "output_type": "stream",
     "text": [
      "Energy: 0.19634954084936207\n"
     ]
    }
   ],
   "source": [
    "N = 2**num_energy_bits\n",
    "N_labels = np.arange(N / 2, dtype=int)\n",
    "N_labels_neg = np.arange(- N / 2, 0, dtype=int)\n",
    "N_labels = np.concatenate((N_labels, N_labels_neg))\n",
    "energy_labels = N_labels / N\n",
    "# pick a random energy\n",
    "np.random.seed(666)\n",
    "# w = np.random.choice(energy_labels)\n",
    "w = measured_energy  #! We dont use the right energy yet\n",
    "print(f'Energy: {w}')\n",
    "\n",
    "jump_op = qt.tensor([qt.qeye(2), qt.sigmax(), qt.qeye(2)]).full()\n",
    "\n",
    "with open(f'/Users/bence/code/liouvillian_metro/data/block_initial_state_n{num_qubits}k{num_energy_bits}.pkl', 'rb') as f:\n",
    "    initial_state = pickle.load(f)\n",
    "\n",
    "initial_dm = DensityMatrix(initial_state).data\n",
    "\n",
    "oft_op = oft(jump_op, w, 2**num_energy_bits, sigma, trotter=trott_U_qt.full())\n",
    "dm_we_should_get = boltzmann(beta, w)*(oft_op @ initial_dm @ oft_op.conj().T)\n",
    "    \n",
    "dm_we_should_get /= np.trace(dm_we_should_get)\n"
   ]
  },
  {
   "cell_type": "code",
   "execution_count": 38,
   "metadata": {},
   "outputs": [
    {
     "name": "stdout",
     "output_type": "stream",
     "text": [
      "[[0.+0.j]\n",
      " [1.+0.j]\n",
      " [0.+0.j]\n",
      " [0.+0.j]]\n"
     ]
    },
    {
     "data": {
      "text/plain": [
       "array([1.+0.j])"
      ]
     },
     "execution_count": 38,
     "metadata": {},
     "output_type": "execute_result"
    }
   ],
   "source": [
    "def energy_state_from_bits(bitsring: str) -> np.ndarray:\n",
    "    \"\"\"Convert a bitstring to an energy eigenstate.\"\"\"\n",
    "    reversed_bitstring = bitsring[::-1]\n",
    "    tensor_list = []\n",
    "    for bit in reversed_bitstring:\n",
    "        if bit == '0':\n",
    "            tensor_list.append(qt.basis(2, 0))\n",
    "        else:\n",
    "            tensor_list.append(qt.basis(2, 1))\n",
    "    state = qt.tensor(tensor_list).full()\n",
    "    return state / np.linalg.norm(state)\n",
    "\n",
    "ex_bitstring = '10'\n",
    "energy_state = energy_state_from_bits(ex_bitstring)\n",
    "print(energy_state)\n",
    "circ = QuantumCircuit(2)\n",
    "circ.x(0)\n",
    "st = Statevector(circ).data"
   ]
  },
  {
   "cell_type": "code",
   "execution_count": 19,
   "metadata": {},
   "outputs": [
    {
     "name": "stdout",
     "output_type": "stream",
     "text": [
      "(512,)\n",
      "(8, 8)\n"
     ]
    }
   ],
   "source": [
    "with open(f'/Users/bence/code/liouvillian_metro/data/block_state_before_measure_n{num_qubits}k{num_energy_bits}.pkl', 'rb') as f:\n",
    "    circ_state = pickle.load(f)\n",
    "\n",
    "projector_to_boltz_zero = qt.tensor([qt.qeye(2**(num_qubits + num_energy_bits)), qt.basis(2, 0).dag()]).full()\n",
    "projected_circ_state = projector_to_boltz_zero @ circ_state.data\n",
    "projected_circ_state /= np.linalg.norm(projected_circ_state)\n",
    "\n",
    "projected_circ_sys_dm = partial_trace(projected_circ_state, list(range(num_energy_bits))).data\n",
    "projected_circ_sys_dm /= np.trace(projected_circ_sys_dm)\n"
   ]
  },
  {
   "cell_type": "code",
   "execution_count": 21,
   "metadata": {},
   "outputs": [
    {
     "data": {
      "text/plain": [
       "0.5708647702659243"
      ]
     },
     "execution_count": 21,
     "metadata": {},
     "output_type": "execute_result"
    }
   ],
   "source": [
    "dist = np.linalg.norm(dm_we_should_get - projected_circ_sys_dm)\n",
    "dist"
   ]
  }
 ],
 "metadata": {
  "kernelspec": {
   "display_name": "qiskit_env",
   "language": "python",
   "name": "python3"
  },
  "language_info": {
   "codemirror_mode": {
    "name": "ipython",
    "version": 3
   },
   "file_extension": ".py",
   "mimetype": "text/x-python",
   "name": "python",
   "nbconvert_exporter": "python",
   "pygments_lexer": "ipython3",
   "version": "3.11.5"
  }
 },
 "nbformat": 4,
 "nbformat_minor": 2
}
