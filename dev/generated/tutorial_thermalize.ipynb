{
 "cells": [
  {
   "cell_type": "markdown",
   "source": [
    "# Finding a Thermal State\n",
    "In this tutorial we will give more details on one of the core functions of the software package:\n",
    "on how to drive a given quantum system to the thermal state via a simulated open quantum system evolution.\n",
    "We will see how to set up everything for the function `run_thermalization` and also what it actually does behind\n",
    "the curtains.\n",
    "\n",
    "In summary, `run_thermalization` takes in a basic set of configurations (number of qubits, temperature, etc.),\n",
    "the Hamiltonian $H$ that describes the system, an initial state $\\rho_0$ where the evolution starts from and the set of jumps\n",
    "$\\{A^a\\}$ that prescribe that evolution. It will simulate the [open quantum system evolution](theory_oqs_dynamics.md) or Lindbladian evolution\n",
    "with a [weak-measurement based algorithm](theory_weak_measurement.md). You can read more about them in the Theory section if you follow\n",
    "the links. Here, it is enough to just think of it as the following process:\n",
    "- Start from an initial density matrix $\\rho_0$.\n",
    "- Evolve it for a short $\\delta$ amount of time, $\\rho_\\delta = (\\mathbb{1} + \\delta \\mathcal{L})\\rho_0 + \\mathcal{O}(\\delta^2) \\simeq e^{\\delta \\mathcal{L}}(\\rho_0)$.\n",
    "- Repeat until $\\rho_t$ gets close enough to the target state $\\sigma_\\beta = e^{-\\beta H} / Z$, i.e. the Gibbs state.\n",
    "Here the magic is still hidden in the generator $\\mathcal{L}$, but the crucial property it has is that the dynamics it generates,\n",
    "given by $e^{t \\mathcal{L}}$, has the Gibbs state as its unique fixed point. Thus if we evolve the system for a long enough time\n",
    "all other contribution will decay and the only state that survives is the Gibbs state.\n",
    "\n",
    "Let us go through the main steps of the code:\n",
    "\n",
    "## 1. Configure the algorithm parameters"
   ],
   "metadata": {}
  },
  {
   "outputs": [],
   "cell_type": "code",
   "source": [
    "using QuantumFurnace\n",
    "using LinearAlgebra\n",
    "\n",
    "num_qubits = 3\n",
    "dim = 2^num_qubits\n",
    "num_energy_bits = 10\n",
    "beta = 10.0\n",
    "w0 = 0.05                            # Energy estimating precision\n",
    "t0 = 2pi / (2^num_energy_bits * w0)  # Time estimating precision\n",
    "\n",
    "domain = TimeDomain()\n",
    "\n",
    "with_coherent = true                  # For exact detailed balance\n",
    "with_linear_combination = false       # Gaussian transitions\n",
    "a = 0.0\n",
    "b = 0.0\n",
    "eta = 0.0\n",
    "\n",
    "mixing_time_bound = 10.0\n",
    "delta = 0.1\n",
    "\n",
    "config = ThermalizeConfig(\n",
    "    num_qubits = num_qubits,\n",
    "    with_coherent = with_coherent,\n",
    "    with_linear_combination = with_linear_combination,\n",
    "    domain = domain,\n",
    "    beta = beta,\n",
    "    a = a,\n",
    "    b = b,\n",
    "    num_energy_bits = num_energy_bits,\n",
    "    w0 = w0,\n",
    "    t0 = t0,\n",
    "    mixing_time = mixing_time_bound,\n",
    "    delta = delta,\n",
    ");"
   ],
   "metadata": {},
   "execution_count": 1
  },
  {
   "cell_type": "markdown",
   "source": [
    "**Domains** $\\quad$ Algorithms are translated to the quantum computer in the form of quantum circuits, a set of unitary\n",
    "quantum gates, that inherently work in the time domain, which is also what we mean by choosing `domain` to be `TimeDomain`.\n",
    "More realistically, time evolutions are decomposed into a Trotter product, which is also possible to see in our code via\n",
    "`TrotterDomain`. Though the original mathematical problem of finding a Lindbladian that evolves the system to the thermal\n",
    "state is formulated in the Bohr and Energy domains, that should pose no problem for us. We can always move from the time\n",
    "domain to the energy domain with the Fourier transform.\n",
    "\n",
    "**Coherent term** $\\quad$ It has been proven (see [Theory](theory_detailed_balance.md)) that by adding a specific coherent term\n",
    "to the Lindbladian, we can have the Gibbs state as the unique fixed point of the generator. But even if we omit it\n",
    "by setting `with_coherent = false`, we would find an approximately good (or bad) result.\n",
    "\n",
    "**Linear combinations** $\\quad$ A simpler version of the theory is when we don't take a convex combination of\n",
    "Lindbladians. We can think of this as singling out a thin Gaussian region for which we allow transitions for certain\n",
    "energy differences induced by the jumps. We can also turn on the linear combination option, and thus have more borad\n",
    "transition while keeping the Gibbs state as the target state (see [Theory](theory_convex_combination.md)).\n",
    "\n",
    "## 2. Define the system Hamiltonian\n",
    "\n",
    "Next, we will define and construct the Hamiltonian of the subsystem we want to thermalize. We will use the function called\n",
    "`create_hamham`. If we know how the terms in our Hamiltonian decompose into tensor products of single qubit terms, then\n",
    "this function will generate a Hamiltonian whose spectrum is within [0.0, 0.45] and creates a HamHam object with some other\n",
    "necessary fields in it like its eigenvectors, or its Gibbs state."
   ],
   "metadata": {}
  },
  {
   "outputs": [],
   "cell_type": "code",
   "source": [
    "X::Matrix{ComplexF64} = [0 1; 1 0]\n",
    "Y::Matrix{ComplexF64} = [0.0 -im; im 0.0]\n",
    "Z::Matrix{ComplexF64} = [1 0; 0 -1]\n",
    "\n",
    "hamiltonian_terms = [[X, X], [Y, Y], [Z, Z]]\n",
    "hamiltonian_coeffs = fill(1.0, length(hamiltonian_terms))\n",
    "disordering_term = [Z]\n",
    "disordering_coeffs = rand(num_qubits);"
   ],
   "metadata": {},
   "execution_count": 2
  },
  {
   "cell_type": "markdown",
   "source": [
    "Generate a 4-qubit chain antiferromagnetic Heisenberg Hamiltonian with a disordering field"
   ],
   "metadata": {}
  },
  {
   "outputs": [],
   "cell_type": "code",
   "source": [
    "hamiltonian = create_hamham(hamiltonian_terms, hamiltonian_coeffs, disordering_term, disordering_coeffs, num_qubits)\n",
    "hamiltonian.gibbs = Hermitian(gibbs_state_in_eigen(hamiltonian, beta));"
   ],
   "metadata": {},
   "execution_count": 3
  },
  {
   "cell_type": "markdown",
   "source": [
    "Note that we added here a disordering field to the Hamiltonian in order to make its spectrum unique. A priori the algorithm\n",
    "should also work with degenerate spectra, but a unique one definitely makes things easier to converge. Nevertheless\n",
    "exploring what effects a degenerate spectrum have on the algorithm would be quite interesting too."
   ],
   "metadata": {}
  },
  {
   "cell_type": "markdown",
   "source": [
    "## 3. Define the jump operators for the evolution"
   ],
   "metadata": {}
  },
  {
   "outputs": [],
   "cell_type": "code",
   "source": [
    "jump_set = [[X], [Y], [Z]];"
   ],
   "metadata": {},
   "execution_count": 4
  },
  {
   "cell_type": "markdown",
   "source": [
    "1-site Pauli jumps are generated over each system site and save their form in the eigenbasis\n",
    "we work in for effficiency:"
   ],
   "metadata": {}
  },
  {
   "outputs": [],
   "cell_type": "code",
   "source": [
    "jumps::Vector{JumpOp} = []\n",
    "jump_normalization = sqrt(length(jump_set) * num_qubits)\n",
    "for jump_a in jump_set\n",
    "    for site in 1:num_qubits\n",
    "        jump_op = Matrix(pad_term(jump_a, num_qubits, site)) / jump_normalization\n",
    "        jump_op_in_eigenbasis = hamiltonian.eigvecs' * jump_op * hamiltonian.eigvecs\n",
    "        orthogonal = (jump_op == transpose(jump_op))\n",
    "        jump = JumpOp(jump_op, jump_op_in_eigenbasis, orthogonal)\n",
    "        push!(jumps, jump)\n",
    "    end\n",
    "end"
   ],
   "metadata": {},
   "execution_count": 5
  },
  {
   "cell_type": "markdown",
   "source": [
    "Even though it seems unassuming, that we use single-site Pauli jump operators, the actual jumps that are\n",
    "applied to the system are spread out time evolved operators of the form $A(t) = f(t) e^{iHt} A e^{-iHt}$,\n",
    "with some Gaussian filter function $f(t)$. Since the time evolutions can be quite large, while the simulable systems\n",
    "quite small, the actual jumps are effectively full system sized in most cases.\n",
    "The jump normalization is required for the block encoding in the algorithm, as the operators should have a norm\n",
    "less than or equal to 1."
   ],
   "metadata": {}
  },
  {
   "cell_type": "markdown",
   "source": [
    "## 4. Find the thermal state\n",
    "Finally we can run the core function, that we will evolve the initial state by approximated Lindbladian evolution,\n",
    "always a $\\delta$ step at a time. The result then will be deviating by $\\mathcal{O}(\\delta^2)$ errors from the\n",
    "target Gibbs state."
   ],
   "metadata": {}
  },
  {
   "outputs": [],
   "cell_type": "code",
   "source": [
    "initial_dm = Matrix{ComplexF64}(I(dim) / dim);"
   ],
   "metadata": {},
   "execution_count": 6
  },
  {
   "cell_type": "markdown",
   "source": [
    "Evolve the system:"
   ],
   "metadata": {}
  },
  {
   "outputs": [
    {
     "name": "stdout",
     "output_type": "stream",
     "text": [
      "--- The Press ---\n",
      "domain: TimeDomain()\n",
      "num_qubits: 3\n",
      "num_energy_bits: 10\n",
      "beta: 10.0\n",
      "a: 0.0\n",
      "b: 0.0\n",
      "t0: 0.1227184630308513\n",
      "w0: 0.05\n",
      "with_coherent: true\n",
      "with_linear_combination: false\n",
      "mixing time: 10.0\n",
      "delta: 0.1\n",
      "unravel: false\n",
      "-----------------\n",
      "Thermalizing (Time)\n",
      "Gaussian\n",
      "Gaussian\n",
      "Dist to Gibbs: 0.4602824842206564\n",
      "Dist to Gibbs: 0.4562847261643682\n",
      "Dist to Gibbs: 0.45232071091471876\n",
      "Dist to Gibbs: 0.44839015926477876\n",
      "Dist to Gibbs: 0.4444927947264294\n",
      "Dist to Gibbs: 0.44062834347519636\n",
      "Dist to Gibbs: 0.436796534297254\n",
      "Dist to Gibbs: 0.4329970985385096\n",
      "Dist to Gibbs: 0.4292297700556727\n",
      "Dist to Gibbs: 0.4254942851692235\n",
      "Dist to Gibbs: 0.42179038261819735\n",
      "Dist to Gibbs: 0.41811780351670325\n",
      "Dist to Gibbs: 0.4144762913121017\n",
      "Dist to Gibbs: 0.41086559174476717\n",
      "Dist to Gibbs: 0.4072854528093666\n",
      "Dist to Gibbs: 0.4037356247175818\n",
      "Dist to Gibbs: 0.4002158598622201\n",
      "Dist to Gibbs: 0.3967259127826414\n",
      "Dist to Gibbs: 0.39326554013145004\n",
      "Dist to Gibbs: 0.3898345006423913\n",
      "Dist to Gibbs: 0.386432555099399\n",
      "Dist to Gibbs: 0.38305946630674276\n",
      "Dist to Gibbs: 0.3797149990602245\n",
      "Dist to Gibbs: 0.37639892011937837\n",
      "Dist to Gibbs: 0.3731109981806249\n",
      "Dist to Gibbs: 0.3698510038513413\n",
      "Dist to Gibbs: 0.36661870962480103\n",
      "Dist to Gibbs: 0.3634138898559466\n",
      "Dist to Gibbs: 0.360236320737955\n",
      "Dist to Gibbs: 0.3570857802795615\n",
      "Dist to Gibbs: 0.35396204828310596\n",
      "Dist to Gibbs: 0.35086490632326783\n",
      "Dist to Gibbs: 0.3477941377264599\n",
      "Dist to Gibbs: 0.3447495275508479\n",
      "Dist to Gibbs: 0.34173086256697194\n",
      "Dist to Gibbs: 0.33873793123893436\n",
      "Dist to Gibbs: 0.3357705237061359\n",
      "Dist to Gibbs: 0.33282843176552895\n",
      "Dist to Gibbs: 0.3299114488543681\n",
      "Dist to Gibbs: 0.32701937003343107\n",
      "Dist to Gibbs: 0.3241519919706922\n",
      "Dist to Gibbs: 0.32130911292542536\n",
      "Dist to Gibbs: 0.3184905327327152\n",
      "Dist to Gibbs: 0.3156960527883627\n",
      "Dist to Gibbs: 0.3129254760341611\n",
      "Dist to Gibbs: 0.310178606943528\n",
      "Dist to Gibbs: 0.3074552515074792\n",
      "Dist to Gibbs: 0.30475521722092375\n",
      "Dist to Gibbs: 0.3020783130692696\n",
      "Dist to Gibbs: 0.29942434951532393\n",
      "Dist to Gibbs: 0.29679313848647526\n",
      "Dist to Gibbs: 0.2941844933621436\n",
      "Dist to Gibbs: 0.2915982289614877\n",
      "Dist to Gibbs: 0.2890341615313568\n",
      "Dist to Gibbs: 0.28649210873447717\n",
      "Dist to Gibbs: 0.2839718896378602\n",
      "Dist to Gibbs: 0.2814733247014263\n",
      "Dist to Gibbs: 0.27899623576683086\n",
      "Dist to Gibbs: 0.2765404460464852\n",
      "Dist to Gibbs: 0.2741057801127661\n",
      "Dist to Gibbs: 0.2716920638873994\n",
      "Dist to Gibbs: 0.26929912463101857\n",
      "Dist to Gibbs: 0.2669267909328823\n",
      "Dist to Gibbs: 0.26457489270075146\n",
      "Dist to Gibbs: 0.2622432611509127\n",
      "Dist to Gibbs: 0.25993172879834725\n",
      "Dist to Gibbs: 0.2576401294470359\n",
      "Dist to Gibbs: 0.2553682981803951\n",
      "Dist to Gibbs: 0.25311607135183967\n",
      "Dist to Gibbs: 0.25088328657546655\n",
      "Dist to Gibbs: 0.24866978271685358\n",
      "Dist to Gibbs: 0.2464753998839711\n",
      "Dist to Gibbs: 0.24429997941819917\n",
      "Dist to Gibbs: 0.24214336388544916\n",
      "Dist to Gibbs: 0.24000539706738258\n",
      "Dist to Gibbs: 0.2378859239527267\n",
      "Dist to Gibbs: 0.23578479072868108\n",
      "Dist to Gibbs: 0.23370184477241268\n",
      "Dist to Gibbs: 0.23163693464263554\n",
      "Dist to Gibbs: 0.22958991007127386\n",
      "Dist to Gibbs: 0.2275606219552027\n",
      "Dist to Gibbs: 0.2255489223480672\n",
      "Dist to Gibbs: 0.22355466445217362\n",
      "Dist to Gibbs: 0.22157770261045412\n",
      "Dist to Gibbs: 0.21961789229849948\n",
      "Dist to Gibbs: 0.2176750901166596\n",
      "Dist to Gibbs: 0.21574915378220866\n",
      "Dist to Gibbs: 0.21383994212157392\n",
      "Dist to Gibbs: 0.21194731506262554\n",
      "Dist to Gibbs: 0.210071133627026\n",
      "Dist to Gibbs: 0.20821125992263761\n",
      "Dist to Gibbs: 0.2063675571359861\n",
      "Dist to Gibbs: 0.20453988952477978\n",
      "Dist to Gibbs: 0.20272812241048146\n",
      "Dist to Gibbs: 0.20093212217093295\n",
      "Dist to Gibbs: 0.19915175623303122\n",
      "Dist to Gibbs: 0.19738689306545282\n",
      "Dist to Gibbs: 0.19563740217142828\n",
      "Dist to Gibbs: 0.19390315408156453\n",
      "Dist to Gibbs: 0.19218402034671261\n",
      "\n",
      " Last distance to Gibbs: %s\n",
      "0.19218402034671261\n"
     ]
    }
   ],
   "cell_type": "code",
   "source": [
    "results = run_thermalization(jumps, config, initial_dm, hamiltonian)\n",
    "\n",
    "println(\"\\n Last distance to Gibbs: %s\\n\", results.distances_to_gibbs[end])"
   ],
   "metadata": {},
   "execution_count": 7
  },
  {
   "cell_type": "markdown",
   "source": [
    "---\n",
    "\n",
    "*This notebook was generated using [Literate.jl](https://github.com/fredrikekre/Literate.jl).*"
   ],
   "metadata": {}
  }
 ],
 "nbformat_minor": 3,
 "metadata": {
  "language_info": {
   "file_extension": ".jl",
   "mimetype": "application/julia",
   "name": "julia",
   "version": "1.12.1"
  },
  "kernelspec": {
   "name": "julia-1.12",
   "display_name": "Julia 1.12.1",
   "language": "julia"
  }
 },
 "nbformat": 4
}