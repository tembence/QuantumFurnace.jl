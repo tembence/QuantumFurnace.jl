{
 "cells": [
  {
   "cell_type": "markdown",
   "source": [
    "# Finding a Thermal State\n",
    "In this tutorial we will give more details on one of the core functions of the software package:\n",
    "on how to drive a given quantum system to the thermal state via a simulated open quantum system evolution.\n",
    "We will see how to set up everything for the function `run_thermalization` and also what it actually does behind\n",
    "the curtains.\n",
    "\n",
    "In summary, `run_thermalization` takes in a basic set of configurations (number of qubits, temperature, etc.),\n",
    "the Hamiltonian $H$ that describes the system, an initial state $\\rho_0$ where the evolution starts from and the set of jumps\n",
    "$\\{A^a\\}$ that prescribe that evolution. It will simulate the [open quantum system evolution](theory_oqs_dynamics.md) or Lindbladian evolution\n",
    "with a [weak-measurement based algorithm](theory_weak_measurement.md). You can read more about them in the Theory section if you follow\n",
    "the links. Here, it is enough to just think of it as the following process:\n",
    "- Start from an initial density matrix $\\rho_0$.\n",
    "- Evolve it for a short $\\delta$ amount of time, $\\rho_\\delta = (\\mathds{1} + \\delta \\mathcal{L})\\rho_0 + \\mathcal{O}(\\delta^2) \\simeq e^{\\delta \\mathcal{L}}(\\rho_0)$.\n",
    "- Repeat until $\\rho_t$ gets close enough to the target state $\\sigma_\\beta = e^{-\\beta H} / Z$, i.e. the Gibbs state.\n",
    "Here the magic is still hidden in the generator $\\mathcal{L}$, but the crucial property it has is that the dynamics it generates,\n",
    "given by $e^{t \\mathcal{L}}$, has the Gibbs state as its unique fixed point. Thus if we evolve the system for a long enough time\n",
    "all other contribution will decay and the only state that survives is the Gibbs state.\n",
    "\n",
    "Let us go through the main steps of the code:\n",
    "\n",
    "## 1. Configure the algorithm parameters"
   ],
   "metadata": {}
  },
  {
   "outputs": [],
   "cell_type": "code",
   "source": [
    "using QuantumFurnace\n",
    "using LinearAlgebra\n",
    "\n",
    "num_qubits = 3\n",
    "dim = 2^num_qubits\n",
    "num_energy_bits = 10\n",
    "beta = 10.0\n",
    "w0 = 0.05                            # Energy estimating precision\n",
    "t0 = 2pi / (2^num_energy_bits * w0)  # Time estimating precision\n",
    "\n",
    "domain = TimeDomain()\n",
    "\n",
    "with_coherent = true                  # For exact detailed balance\n",
    "with_linear_combination = false       # Gaussian transitions\n",
    "a = 0.0\n",
    "b = 0.0\n",
    "eta = 0.0\n",
    "\n",
    "mixing_time_bound = 10.0\n",
    "delta = 0.1\n",
    "\n",
    "config = ThermalizeConfig(\n",
    "    num_qubits = num_qubits,\n",
    "    with_coherent = with_coherent,\n",
    "    with_linear_combination = with_linear_combination,\n",
    "    domain = domain,\n",
    "    beta = beta,\n",
    "    a = a,\n",
    "    b = b,\n",
    "    num_energy_bits = num_energy_bits,\n",
    "    w0 = w0,\n",
    "    t0 = t0,\n",
    "    mixing_time = mixing_time_bound,\n",
    "    delta = delta,\n",
    ") ;"
   ],
   "metadata": {},
   "execution_count": 1
  },
  {
   "cell_type": "markdown",
   "source": [
    "**Domains** $\\quad$ Algorithms are translated to the quantum computer in the form of quantum circuits, a set of unitary\n",
    "quantum gates, that inherently work in the time domain, which is also what we mean by choosing `domain` to be `TimeDomain`.\n",
    "More realistically, time evolutions are decomposed into a Trotter product, which is also possible to see in our code via\n",
    "`TrotterDomain`. Though the original mathematical problem of finding a Lindbladian that evolves the system to the thermal\n",
    "state is formulated in the Bohr and Energy domains, that should pose no problem for us. We can always move from the time\n",
    "domain to the energy domain with the Fourier transform.\n",
    "\n",
    "**Coherent term** $\\quad$ It has been proven (see [Theory](theory_detailed_balance.md)) that by adding a specific coherent term\n",
    "to the Lindbladian, we can have the Gibbs state as the unique fixed point of the generator. But even if we omit it\n",
    "by setting `with_coherent = false`, we would find an approximately good (or bad) result.\n",
    "\n",
    "**Linear combinations** $\\quad$ A simpler version of the theory is when we don't take a convex combination of\n",
    "Lindbladians. We can think of this as singling out a thin Gaussian region for which we allow transitions for certain\n",
    "energy differences induced by the jumps. We can also turn on the linear combination option, and thus have more borad\n",
    "transition while keeping the Gibbs state as the target state (see [Theory](theory_convex_combination.md)).\n",
    "\n",
    "## 2. Define the system Hamiltonian\n",
    "\n",
    "Next, we will define and construct the Hamiltonian of the subsystem we want to thermalize. We will use the function called\n",
    "`create_hamham`. If we know how the terms in our Hamiltonian decompose into tensor products of single qubit terms, then\n",
    "this function will generate a Hamiltonian whose spectrum is within [0.0, 0.45] and creates a HamHam object with some other\n",
    "necessary fields in it like its eigenvectors, or its Gibbs state."
   ],
   "metadata": {}
  },
  {
   "outputs": [],
   "cell_type": "code",
   "source": [
    "X::Matrix{ComplexF64} = [0 1; 1 0]\n",
    "Y::Matrix{ComplexF64} = [0.0 -im; im 0.0]\n",
    "Z::Matrix{ComplexF64} = [1 0; 0 -1]\n",
    "\n",
    "hamiltonian_terms = [[X, X], [Y, Y], [Z, Z]]\n",
    "hamiltonian_coeffs = fill(1.0, length(hamiltonian_terms))\n",
    "disordering_term = [Z]\n",
    "disordering_coeffs = rand(num_qubits) ;"
   ],
   "metadata": {},
   "execution_count": 2
  },
  {
   "cell_type": "markdown",
   "source": [
    "Generate a 4-qubit chain antiferromagnetic Heisenberg Hamiltonian with a disordering field"
   ],
   "metadata": {}
  },
  {
   "outputs": [],
   "cell_type": "code",
   "source": [
    "hamiltonian = create_hamham(hamiltonian_terms, hamiltonian_coeffs, disordering_term, disordering_coeffs, num_qubits)\n",
    "hamiltonian.gibbs = Hermitian(gibbs_state_in_eigen(hamiltonian, beta)) ;"
   ],
   "metadata": {},
   "execution_count": 3
  },
  {
   "cell_type": "markdown",
   "source": [
    "Note that we added here a disordering field to the Hamiltonian in order to make its spectrum unique. A priori the algorithm\n",
    "should also work with degenerate spectra, but a unique one definitely makes things easier to converge. Nevertheless\n",
    "exploring what effects a degenerate spectrum have on the algorithm would be quite interesting too."
   ],
   "metadata": {}
  },
  {
   "cell_type": "markdown",
   "source": [
    "## 3. Define the jump operators for the evolution"
   ],
   "metadata": {}
  },
  {
   "outputs": [],
   "cell_type": "code",
   "source": [
    "jump_set = [[X], [Y], [Z]] ;"
   ],
   "metadata": {},
   "execution_count": 4
  },
  {
   "cell_type": "markdown",
   "source": [
    "1-site Pauli jumps are generated over each system site and save their form in the eigenbasis\n",
    "we work in for effficiency:"
   ],
   "metadata": {}
  },
  {
   "outputs": [],
   "cell_type": "code",
   "source": [
    "jumps::Vector{JumpOp} = []\n",
    "jump_normalization = sqrt(length(jump_set) * num_qubits)\n",
    "for jump_a in jump_set\n",
    "    for site in 1:num_qubits\n",
    "        jump_op = Matrix(pad_term(jump_a, num_qubits, site)) / jump_normalization\n",
    "        jump_op_in_eigenbasis = hamiltonian.eigvecs' * jump_op * hamiltonian.eigvecs\n",
    "        orthogonal = (jump_op == transpose(jump_op))\n",
    "        jump = JumpOp(jump_op, jump_op_in_eigenbasis, orthogonal)\n",
    "        push!(jumps, jump)\n",
    "    end\n",
    "end ;"
   ],
   "metadata": {},
   "execution_count": 5
  },
  {
   "cell_type": "markdown",
   "source": [
    "Even though it seems unassuming, that we use single-site Pauli jump operators, the actual jumps that are\n",
    "applied to the system are spread out time evolved operators of the form $A(t) = f(t) exp(iHt) A exp(-iHt)$,\n",
    "with some Gaussian filter function f(t). Since the time evolutions can be quite large, while the simulable systems\n",
    "quite small, the actual jumps are effectively full system sized in most cases.\n",
    "The jump normalization is required for the block encoding in the algorithm, as the operators should have a norm\n",
    "less than or equal to 1."
   ],
   "metadata": {}
  },
  {
   "cell_type": "markdown",
   "source": [
    "## 4. Find the thermal state\n",
    "Finally we can run the core function, that we will evolve the initial state by approximated Lindbladian evolution,\n",
    "always a $\\delta$ step at a time. The result then will be deviating by $\\mathcal{O}(\\delta^2)$ errors from the\n",
    "target Gibbs state."
   ],
   "metadata": {}
  },
  {
   "outputs": [],
   "cell_type": "code",
   "source": [
    "initial_dm = Matrix{ComplexF64}(I(dim) / dim) ;"
   ],
   "metadata": {},
   "execution_count": 6
  },
  {
   "cell_type": "markdown",
   "source": [
    "Evolve the system:"
   ],
   "metadata": {}
  },
  {
   "outputs": [
    {
     "name": "stdout",
     "output_type": "stream",
     "text": [
      "--- The Press ---\n",
      "domain: TimeDomain()\n",
      "num_qubits: 3\n",
      "num_energy_bits: 10\n",
      "beta: 10.0\n",
      "a: 0.0\n",
      "b: 0.0\n",
      "t0: 0.1227184630308513\n",
      "w0: 0.05\n",
      "with_coherent: true\n",
      "with_linear_combination: false\n",
      "mixing time: 10.0\n",
      "delta: 0.1\n",
      "unravel: false\n",
      "-----------------\n",
      "Thermalizing (Time)\n",
      "Gaussian\n",
      "Gaussian\n",
      "Dist to Gibbs: 0.466170047782231\n",
      "Dist to Gibbs: 0.46292761222855217\n",
      "Dist to Gibbs: 0.45970648106991796\n",
      "Dist to Gibbs: 0.4565065260754853\n",
      "Dist to Gibbs: 0.4533276199184374\n",
      "Dist to Gibbs: 0.4501696361541774\n",
      "Dist to Gibbs: 0.4470324491995541\n",
      "Dist to Gibbs: 0.443915934313072\n",
      "Dist to Gibbs: 0.44081996757604314\n",
      "Dist to Gibbs: 0.4377444258746325\n",
      "Dist to Gibbs: 0.43468918688276437\n",
      "Dist to Gibbs: 0.43165412904584005\n",
      "Dist to Gibbs: 0.4286391315652377\n",
      "Dist to Gibbs: 0.4256440743835529\n",
      "Dist to Gibbs: 0.4226688381705481\n",
      "Dist to Gibbs: 0.41971330430977627\n",
      "Dist to Gibbs: 0.4167773548858473\n",
      "Dist to Gibbs: 0.41386087267230803\n",
      "Dist to Gibbs: 0.4109637411201053\n",
      "Dist to Gibbs: 0.4080858443466053\n",
      "Dist to Gibbs: 0.4052270671251418\n",
      "Dist to Gibbs: 0.40238729487506875\n",
      "Dist to Gibbs: 0.3995664136522928\n",
      "Dist to Gibbs: 0.396764310140261\n",
      "Dist to Gibbs: 0.39398087164138496\n",
      "Dist to Gibbs: 0.3912159860688757\n",
      "Dist to Gibbs: 0.38846954193897293\n",
      "Dist to Gibbs: 0.3857414283635469\n",
      "Dist to Gibbs: 0.38303153504305587\n",
      "Dist to Gibbs: 0.3803397522598388\n",
      "Dist to Gibbs: 0.3776659708717317\n",
      "Dist to Gibbs: 0.37501008230598465\n",
      "Dist to Gibbs: 0.37237197855347076\n",
      "Dist to Gibbs: 0.3697515521631653\n",
      "Dist to Gibbs: 0.36714869623688956\n",
      "Dist to Gibbs: 0.3645633044242971\n",
      "Dist to Gibbs: 0.3619952709180967\n",
      "Dist to Gibbs: 0.3594444904494948\n",
      "Dist to Gibbs: 0.35691085828385005\n",
      "Dist to Gibbs: 0.3543942702165251\n",
      "Dist to Gibbs: 0.35189462256892706\n",
      "Dist to Gibbs: 0.3494118121847263\n",
      "Dist to Gibbs: 0.3469457364262441\n",
      "Dist to Gibbs: 0.344496293170999\n",
      "Dist to Gibbs: 0.3420633808084046\n",
      "Dist to Gibbs: 0.33964689823660815\n",
      "Dist to Gibbs: 0.337246744859465\n",
      "Dist to Gibbs: 0.33486282058363953\n",
      "Dist to Gibbs: 0.33249502581582496\n",
      "Dist to Gibbs: 0.33014326146007605\n",
      "Dist to Gibbs: 0.3278074289152482\n",
      "Dist to Gibbs: 0.3254874300725361\n",
      "Dist to Gibbs: 0.3231831673131071\n",
      "Dist to Gibbs: 0.32089454350582103\n",
      "Dist to Gibbs: 0.3186214620050357\n",
      "Dist to Gibbs: 0.3163638266484885\n",
      "Dist to Gibbs: 0.3141215417552498\n",
      "Dist to Gibbs: 0.3118945121237491\n",
      "Dist to Gibbs: 0.30968264302985954\n",
      "Dist to Gibbs: 0.3074858402250463\n",
      "Dist to Gibbs: 0.30530400993456996\n",
      "Dist to Gibbs: 0.3031370588557403\n",
      "Dist to Gibbs: 0.3009848941562214\n",
      "Dist to Gibbs: 0.29884742347237914\n",
      "Dist to Gibbs: 0.2967245549076722\n",
      "Dist to Gibbs: 0.29461619703108205\n",
      "Dist to Gibbs: 0.29252225887557814\n",
      "Dist to Gibbs: 0.2904426499366164\n",
      "Dist to Gibbs: 0.28837728017066877\n",
      "Dist to Gibbs: 0.2863260599937811\n",
      "Dist to Gibbs: 0.28428890028015574\n",
      "Dist to Gibbs: 0.2822657123607594\n",
      "Dist to Gibbs: 0.28025640802195134\n",
      "Dist to Gibbs: 0.2782608995041313\n",
      "Dist to Gibbs: 0.2762790995004058\n",
      "Dist to Gibbs: 0.27431092115526945\n",
      "Dist to Gibbs: 0.2723562780633018\n",
      "Dist to Gibbs: 0.27041508426787547\n",
      "Dist to Gibbs: 0.2684872542598769\n",
      "Dist to Gibbs: 0.2665727029764356\n",
      "Dist to Gibbs: 0.2646713457996633\n",
      "Dist to Gibbs: 0.2627830985553997\n",
      "Dist to Gibbs: 0.26090787751196454\n",
      "Dist to Gibbs: 0.25904559937891414\n",
      "Dist to Gibbs: 0.257196181305804\n",
      "Dist to Gibbs: 0.2553595408809515\n",
      "Dist to Gibbs: 0.2535355961302034\n",
      "Dist to Gibbs: 0.2517242655157038\n",
      "Dist to Gibbs: 0.24992546793466236\n",
      "Dist to Gibbs: 0.24813912271812305\n",
      "Dist to Gibbs: 0.24636514962973163\n",
      "Dist to Gibbs: 0.24460346886450174\n",
      "Dist to Gibbs: 0.24285400104757984\n",
      "Dist to Gibbs: 0.2411166672330063\n",
      "Dist to Gibbs: 0.23939138890247422\n",
      "Dist to Gibbs: 0.23767808796408496\n",
      "Dist to Gibbs: 0.23597668675109906\n",
      "Dist to Gibbs: 0.2342871080206835\n",
      "Dist to Gibbs: 0.23260927495265407\n",
      "Dist to Gibbs: 0.2309431111482129\n",
      "\n",
      " Last distance to Gibbs: %s\n",
      "0.2309431111482129\n"
     ]
    }
   ],
   "cell_type": "code",
   "source": [
    "results = run_thermalization(jumps, config, initial_dm, hamiltonian)\n",
    "\n",
    "println(\"\\n Last distance to Gibbs: %s\\n\", results.distances_to_gibbs[end])"
   ],
   "metadata": {},
   "execution_count": 7
  },
  {
   "cell_type": "markdown",
   "source": [
    "---\n",
    "\n",
    "*This notebook was generated using [Literate.jl](https://github.com/fredrikekre/Literate.jl).*"
   ],
   "metadata": {}
  }
 ],
 "nbformat_minor": 3,
 "metadata": {
  "language_info": {
   "file_extension": ".jl",
   "mimetype": "application/julia",
   "name": "julia",
   "version": "1.12.1"
  },
  "kernelspec": {
   "name": "julia-1.12",
   "display_name": "Julia 1.12.1",
   "language": "julia"
  }
 },
 "nbformat": 4
}