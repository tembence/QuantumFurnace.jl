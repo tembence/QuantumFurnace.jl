{
 "cells": [
  {
   "cell_type": "markdown",
   "source": [
    "# Finding a Thermal State\n",
    "In this tutorial we will give more details on one of the core functions of the software package:\n",
    "on how to drive a given quantum system to the thermal state via a simulated open quantum system evolution.\n",
    "We will see how to set up everything for the function `run_thermalization` and also what it actually does behind\n",
    "the curtains.\n",
    "\n",
    "In summary, `run_thermalization` takes in a basic set of configurations (number of qubits, temperature, etc.),\n",
    "the Hamiltonian $H$ that describes the system, an initial state $\\rho_0$ where the evolution starts from and the set of jumps\n",
    "$\\{A^a\\}$ that prescribe that evolution. It will simulate the [open quantum system evolution](theory_oqs_dynamics.md) or Lindbladian evolution\n",
    "with a [weak-measurement based algorithm](theory_weak_measurement.md). You can read more about them in the Theory section if you follow\n",
    "the links. Here, it is enough to just think of it as the following process:\n",
    "- Start from an initial density matrix $\\rho_0$.\n",
    "- Evolve it for a short $\\delta$ amount of time, $\\rho_\\delta = (\\mathds{1} + \\delta \\mathcal{L})\\rho_0 + \\mathcal{O}(\\delta^2) \\simeq e^{\\delta \\mathcal{L}}(\\rho_0)$.\n",
    "- Repeat until $\\rho_t$ gets close enough to the target state $\\sigma_\\beta = e^{-\\beta H} / Z$, i.e. the Gibbs state.\n",
    "Here the magic is still hidden in the generator $\\mathcal{L}$, but the crucial property it has is that the dynamics it generates,\n",
    "given by $e^{t \\mathcal{L}}$, has the Gibbs state as its unique fixed point. Thus if we evolve the system for a long enough time\n",
    "all other contribution will decay and the only state that survives is the Gibbs state.\n",
    "\n",
    "Let us go through the main steps of the code:\n",
    "\n",
    "## 1. Configure the algorithm parameters"
   ],
   "metadata": {}
  },
  {
   "outputs": [
    {
     "output_type": "execute_result",
     "data": {
      "text/plain": "ThermalizeConfig(3, true, false, TimeDomain(), 10.0, 0.0, 0.0, 10, 0.1227184630308513, 0.05, -1.0, -1, 10.0, 0.1, false)"
     },
     "metadata": {},
     "execution_count": 1
    }
   ],
   "cell_type": "code",
   "source": [
    "using QuantumFurnace\n",
    "using LinearAlgebra\n",
    "\n",
    "num_qubits = 3\n",
    "dim = 2^num_qubits\n",
    "num_energy_bits = 10\n",
    "beta = 10.0\n",
    "w0 = 0.05                            # Energy estimating precision\n",
    "t0 = 2pi / (2^num_energy_bits * w0)  # Time estimating precision\n",
    "\n",
    "domain = TimeDomain()\n",
    "\n",
    "with_coherent = true                  # For exact detailed balance\n",
    "with_linear_combination = false       # Gaussian transitions\n",
    "a = 0.0\n",
    "b = 0.0\n",
    "eta = 0.0\n",
    "\n",
    "mixing_time_bound = 10.0\n",
    "delta = 0.1\n",
    "\n",
    "config = ThermalizeConfig(\n",
    "    num_qubits = num_qubits,\n",
    "    with_coherent = with_coherent,\n",
    "    with_linear_combination = with_linear_combination,\n",
    "    domain = domain,\n",
    "    beta = beta,\n",
    "    a = a,\n",
    "    b = b,\n",
    "    num_energy_bits = num_energy_bits,\n",
    "    w0 = w0,\n",
    "    t0 = t0,\n",
    "    mixing_time = mixing_time_bound,\n",
    "    delta = delta,\n",
    ")"
   ],
   "metadata": {},
   "execution_count": 1
  },
  {
   "cell_type": "markdown",
   "source": [
    "**Domains** $\\quad$ Algorithms are translated to the quantum computer in the form of quantum circuits, a set of unitary\n",
    "quantum gates, that inherently work in the time domain, which is also what we mean by choosing `domain` to be `TimeDomain`.\n",
    "More realistically, time evolutions are decomposed into a Trotter product, which is also possible to see in our code via\n",
    "`TrotterDomain`. Though the original mathematical problem of finding a Lindbladian that evolves the system to the thermal\n",
    "state is formulated in the Bohr and Energy domains, that should pose no problem for us. We can always move from the time\n",
    "domain to the energy domain with the Fourier transform.\n",
    "\n",
    "**Coherent term** $\\quad$ It has been proven (see [Theory](theory_detailed_balance.md)) that by adding a specific coherent term\n",
    "to the Lindbladian, we can have the Gibbs state as the unique fixed point of the generator. But even if we omit it\n",
    "by setting `with_coherent = false`, we would find an approximately good (or bad) result.\n",
    "\n",
    "**Linear combinations** $\\quad$ A simpler version of the theory is when we don't take a convex combination of\n",
    "Lindbladians. We can think of this as singling out a thin Gaussian region for which we allow transitions for certain\n",
    "energy differences induced by the jumps. We can also turn on the linear combination option, and thus have more borad\n",
    "transition while keeping the Gibbs state as the target state (see [Theory](theory_convex_combination.md)).\n",
    "\n",
    "## 2. Define the system Hamiltonian\n",
    "\n",
    "Next, we will define and construct the Hamiltonian of the subsystem we want to thermalize. We will use the function called\n",
    "`create_hamham`. If we know how the terms in our Hamiltonian decompose into tensor products of single qubit terms, then\n",
    "this function will generate a Hamiltonian whose spectrum is within [0.0, 0.45] and creates a HamHam object with some other\n",
    "necessary fields in it like its eigenvectors, or its Gibbs state."
   ],
   "metadata": {}
  },
  {
   "outputs": [
    {
     "output_type": "execute_result",
     "data": {
      "text/plain": "3-element Vector{Float64}:\n 0.61841409909736\n 0.9041973602825483\n 0.023859705638238027"
     },
     "metadata": {},
     "execution_count": 2
    }
   ],
   "cell_type": "code",
   "source": [
    "X::Matrix{ComplexF64} = [0 1; 1 0]\n",
    "Y::Matrix{ComplexF64} = [0.0 -im; im 0.0]\n",
    "Z::Matrix{ComplexF64} = [1 0; 0 -1]\n",
    "\n",
    "hamiltonian_terms = [[X, X], [Y, Y], [Z, Z]]\n",
    "hamiltonian_coeffs = fill(1.0, length(hamiltonian_terms))\n",
    "disordering_term = [Z]\n",
    "disordering_coeffs = rand(num_qubits)"
   ],
   "metadata": {},
   "execution_count": 2
  },
  {
   "cell_type": "markdown",
   "source": [
    "Generate a 4-qubit chain antiferromagnetic Heisenberg Hamiltonian with a disordering field"
   ],
   "metadata": {}
  },
  {
   "outputs": [
    {
     "output_type": "execute_result",
     "data": {
      "text/plain": "8×8 LinearAlgebra.Hermitian{ComplexF64, Matrix{ComplexF64}}:\n 0.384833+0.0im       0.0+0.0im  …         0.0+0.0im         0.0+0.0im\n      0.0-0.0im  0.219712+0.0im            0.0+0.0im         0.0+0.0im\n      0.0-0.0im       0.0-0.0im            0.0+0.0im         0.0+0.0im\n      0.0-0.0im       0.0-0.0im            0.0+0.0im         0.0+0.0im\n      0.0-0.0im       0.0-0.0im            0.0+0.0im         0.0+0.0im\n      0.0-0.0im       0.0-0.0im  …         0.0+0.0im         0.0+0.0im\n      0.0-0.0im       0.0-0.0im     0.00696527+0.0im         0.0+0.0im\n      0.0-0.0im       0.0-0.0im            0.0-0.0im  0.00427511+0.0im"
     },
     "metadata": {},
     "execution_count": 3
    }
   ],
   "cell_type": "code",
   "source": [
    "hamiltonian = create_hamham(hamiltonian_terms, hamiltonian_coeffs, disordering_term, disordering_coeffs, num_qubits)\n",
    "hamiltonian.gibbs = Hermitian(gibbs_state_in_eigen(hamiltonian, beta))"
   ],
   "metadata": {},
   "execution_count": 3
  },
  {
   "cell_type": "markdown",
   "source": [
    "Note that we added here a disordering field to the Hamiltonian in order to make its spectrum unique. A priori the algorithm\n",
    "should also work with degenerate spectra, but a unique one definitely makes things easier to converge. Nevertheless\n",
    "exploring what effects a degenerate spectrum have on the algorithm would be quite interesting too."
   ],
   "metadata": {}
  },
  {
   "cell_type": "markdown",
   "source": [
    "## 3. Define the jump operators for the evolution"
   ],
   "metadata": {}
  },
  {
   "outputs": [
    {
     "output_type": "execute_result",
     "data": {
      "text/plain": "3-element Vector{Vector{Matrix{ComplexF64}}}:\n [[0.0 + 0.0im 1.0 + 0.0im; 1.0 + 0.0im 0.0 + 0.0im]]\n [[0.0 + 0.0im 0.0 - 1.0im; 0.0 + 1.0im 0.0 + 0.0im]]\n [[1.0 + 0.0im 0.0 + 0.0im; 0.0 + 0.0im -1.0 + 0.0im]]"
     },
     "metadata": {},
     "execution_count": 4
    }
   ],
   "cell_type": "code",
   "source": [
    "jump_set = [[X], [Y], [Z]]"
   ],
   "metadata": {},
   "execution_count": 4
  },
  {
   "cell_type": "markdown",
   "source": [
    "1-site Pauli jumps over each system site"
   ],
   "metadata": {}
  },
  {
   "outputs": [],
   "cell_type": "code",
   "source": [
    "jumps::Vector{JumpOp} = []\n",
    "jump_normalization = sqrt(length(jump_set) * num_qubits)\n",
    "for jump_a in jump_set\n",
    "    for site in 1:num_qubits\n",
    "        jump_op = Matrix(pad_term(jump_a, num_qubits, site)) / jump_normalization\n",
    "        jump_op_in_eigenbasis = hamiltonian.eigvecs' * jump_op * hamiltonian.eigvecs\n",
    "        orthogonal = (jump_op == transpose(jump_op))\n",
    "        jump = JumpOp(jump_op, jump_op_in_eigenbasis, orthogonal)\n",
    "        push!(jumps, jump)\n",
    "    end\n",
    "end"
   ],
   "metadata": {},
   "execution_count": 5
  },
  {
   "cell_type": "markdown",
   "source": [
    "Even though it seems unassuming, that we use single-site Pauli jump operators, the actual jumps that are\n",
    "applied to the system are spread out time evolved operators of the form $A(t) = f(t) exp(iHt) A exp(-iHt)$,\n",
    "with some Gaussian filter function f(t). Since the time evolutions can be quite large, while the simulable systems\n",
    "quite small, the actual jumps are effectively full system sized in most cases.\n",
    "The jump normalization is required for the block encoding in the algorithm, as the operators should have a norm\n",
    "less than or equal to 1."
   ],
   "metadata": {}
  },
  {
   "cell_type": "markdown",
   "source": [
    "## 4. Find the thermal state\n",
    "Finally we can run the core function, that we will evolve the initial state by approximated Lindbladian evolution,\n",
    "always a $\\delta$ step at a time. The result then will be deviating by $\\mathcal{O}(\\delta^2)$ errors from the\n",
    "target Gibbs state."
   ],
   "metadata": {}
  },
  {
   "outputs": [
    {
     "output_type": "execute_result",
     "data": {
      "text/plain": "8×8 Matrix{ComplexF64}:\n 0.125+0.0im    0.0+0.0im    0.0+0.0im  …    0.0+0.0im    0.0+0.0im\n   0.0+0.0im  0.125+0.0im    0.0+0.0im       0.0+0.0im    0.0+0.0im\n   0.0+0.0im    0.0+0.0im  0.125+0.0im       0.0+0.0im    0.0+0.0im\n   0.0+0.0im    0.0+0.0im    0.0+0.0im       0.0+0.0im    0.0+0.0im\n   0.0+0.0im    0.0+0.0im    0.0+0.0im       0.0+0.0im    0.0+0.0im\n   0.0+0.0im    0.0+0.0im    0.0+0.0im  …    0.0+0.0im    0.0+0.0im\n   0.0+0.0im    0.0+0.0im    0.0+0.0im     0.125+0.0im    0.0+0.0im\n   0.0+0.0im    0.0+0.0im    0.0+0.0im       0.0+0.0im  0.125+0.0im"
     },
     "metadata": {},
     "execution_count": 6
    }
   ],
   "cell_type": "code",
   "source": [
    "initial_dm = Matrix{ComplexF64}(I(dim) / dim)"
   ],
   "metadata": {},
   "execution_count": 6
  },
  {
   "cell_type": "markdown",
   "source": [
    "Evolve the system:"
   ],
   "metadata": {}
  },
  {
   "outputs": [
    {
     "name": "stdout",
     "output_type": "stream",
     "text": [
      "--- The Press ---\n",
      "domain: TimeDomain()\n",
      "num_qubits: 3\n",
      "num_energy_bits: 10\n",
      "beta: 10.0\n",
      "a: 0.0\n",
      "b: 0.0\n",
      "t0: 0.1227184630308513\n",
      "w0: 0.05\n",
      "with_coherent: true\n",
      "with_linear_combination: false\n",
      "mixing time: 10.0\n",
      "delta: 0.1\n",
      "unravel: false\n",
      "-----------------\n",
      "Thermalizing (Time)\n",
      "Gaussian\n",
      "Gaussian\n",
      "Dist to Gibbs: 0.45037743320535173\n",
      "Dist to Gibbs: 0.44540098285318125\n",
      "Dist to Gibbs: 0.4404798900462644\n",
      "Dist to Gibbs: 0.4356135098249071\n",
      "Dist to Gibbs: 0.4308012061720473\n",
      "Dist to Gibbs: 0.4260423518306666\n",
      "Dist to Gibbs: 0.4213363281268657\n",
      "Dist to Gibbs: 0.4166825247983839\n",
      "Dist to Gibbs: 0.4120803398283388\n",
      "Dist to Gibbs: 0.4075291792839917\n",
      "Dist to Gibbs: 0.40302845716033725\n",
      "Dist to Gibbs: 0.39857759522833547\n",
      "Dist to Gibbs: 0.3941760228876051\n",
      "Dist to Gibbs: 0.38982317702341357\n",
      "Dist to Gibbs: 0.3855185018677979\n",
      "Dist to Gibbs: 0.381261448864664\n",
      "Dist to Gibbs: 0.3770514765387152\n",
      "Dist to Gibbs: 0.37288805036806977\n",
      "Dist to Gibbs: 0.3687706426604291\n",
      "Dist to Gibbs: 0.3646987324326712\n",
      "Dist to Gibbs: 0.3606718052937383\n",
      "Dist to Gibbs: 0.3566893533307074\n",
      "Dist to Gibbs: 0.35275087499792035\n",
      "Dist to Gibbs: 0.3488558750090721\n",
      "Dist to Gibbs: 0.34500386423214535\n",
      "Dist to Gibbs: 0.34119435958709493\n",
      "Dist to Gibbs: 0.3374268839461811\n",
      "Dist to Gibbs: 0.33370096603686145\n",
      "Dist to Gibbs: 0.33001614034715177\n",
      "Dist to Gibbs: 0.3263719470333676\n",
      "Dist to Gibbs: 0.32276793183016683\n",
      "Dist to Gibbs: 0.3192036459628119\n",
      "Dist to Gibbs: 0.3156786460615767\n",
      "Dist to Gibbs: 0.3121924940782248\n",
      "Dist to Gibbs: 0.30874475720448746\n",
      "Dist to Gibbs: 0.3053350077924757\n",
      "Dist to Gibbs: 0.30196282327695984\n",
      "Dist to Gibbs: 0.2986277860994552\n",
      "Dist to Gibbs: 0.2953294836340522\n",
      "Dist to Gibbs: 0.2920675081149355\n",
      "Dist to Gibbs: 0.28884145656553434\n",
      "Dist to Gibbs: 0.28565093072925185\n",
      "Dist to Gibbs: 0.28249553700172164\n",
      "Dist to Gibbs: 0.2793748863645422\n",
      "Dist to Gibbs: 0.276288594320442\n",
      "Dist to Gibbs: 0.2732362808298282\n",
      "Dist to Gibbs: 0.2702175702486767\n",
      "Dist to Gibbs: 0.2672320912677205\n",
      "Dist to Gibbs: 0.26427947685289466\n",
      "Dist to Gibbs: 0.26135936418700007\n",
      "Dist to Gibbs: 0.25847139461254753\n",
      "Dist to Gibbs: 0.25561521357574635\n",
      "Dist to Gibbs: 0.25279047057160103\n",
      "Dist to Gibbs: 0.2499968190900849\n",
      "Dist to Gibbs: 0.247233916563356\n",
      "Dist to Gibbs: 0.2445014243139852\n",
      "Dist to Gibbs: 0.24179900750416608\n",
      "Dist to Gibbs: 0.23912633508587805\n",
      "Dist to Gibbs: 0.23648307975197402\n",
      "Dist to Gibbs: 0.23386891788816772\n",
      "Dist to Gibbs: 0.23128352952589218\n",
      "Dist to Gibbs: 0.22872659829600628\n",
      "Dist to Gibbs: 0.22619781138332504\n",
      "Dist to Gibbs: 0.22369685948195134\n",
      "Dist to Gibbs: 0.22122343675138365\n",
      "Dist to Gibbs: 0.21877724077338345\n",
      "Dist to Gibbs: 0.216357972509577\n",
      "Dist to Gibbs: 0.2139653362597739\n",
      "Dist to Gibbs: 0.21159903962098275\n",
      "Dist to Gibbs: 0.20925879344710624\n",
      "Dist to Gibbs: 0.20694431180929543\n",
      "Dist to Gibbs: 0.20465531195694853\n",
      "Dist to Gibbs: 0.20239151427933724\n",
      "Dist to Gibbs: 0.20015264226784232\n",
      "Dist to Gibbs: 0.19793842247878632\n",
      "Dist to Gibbs: 0.19574858449684615\n",
      "Dist to Gibbs: 0.19358286089903162\n",
      "Dist to Gibbs: 0.19144098721921693\n",
      "Dist to Gibbs: 0.18932270191321107\n",
      "Dist to Gibbs: 0.1872277463243533\n",
      "Dist to Gibbs: 0.18515586464962314\n",
      "Dist to Gibbs: 0.18310680390625222\n",
      "Dist to Gibbs: 0.1810803138988237\n",
      "Dist to Gibbs: 0.17907614718685294\n",
      "Dist to Gibbs: 0.1770940590528342\n",
      "Dist to Gibbs: 0.17513380747074492\n",
      "Dist to Gibbs: 0.17319515307499686\n",
      "Dist to Gibbs: 0.17127785912982468\n",
      "Dist to Gibbs: 0.16938169149910198\n",
      "Dist to Gibbs: 0.1675064186165755\n",
      "Dist to Gibbs: 0.16565181145650967\n",
      "Dist to Gibbs: 0.16381764350473138\n",
      "Dist to Gibbs: 0.16200369073006773\n",
      "Dist to Gibbs: 0.16020973155616813\n",
      "Dist to Gibbs: 0.15843554683370353\n",
      "Dist to Gibbs: 0.15668091981293453\n",
      "Dist to Gibbs: 0.1549456361166415\n",
      "Dist to Gibbs: 0.15322948371340936\n",
      "Dist to Gibbs: 0.15153225289126054\n",
      "Dist to Gibbs: 0.14985373623162876\n",
      "\n",
      " Last distance to Gibbs: %s\n",
      "0.14985373623162876\n"
     ]
    }
   ],
   "cell_type": "code",
   "source": [
    "results = run_thermalization(jumps, config, initial_dm, hamiltonian)\n",
    "\n",
    "println(\"\\n Last distance to Gibbs: %s\\n\", results.distances_to_gibbs[end])"
   ],
   "metadata": {},
   "execution_count": 7
  },
  {
   "cell_type": "markdown",
   "source": [
    "---\n",
    "\n",
    "*This notebook was generated using [Literate.jl](https://github.com/fredrikekre/Literate.jl).*"
   ],
   "metadata": {}
  }
 ],
 "nbformat_minor": 3,
 "metadata": {
  "language_info": {
   "file_extension": ".jl",
   "mimetype": "application/julia",
   "name": "julia",
   "version": "1.12.1"
  },
  "kernelspec": {
   "name": "julia-1.12",
   "display_name": "Julia 1.12.1",
   "language": "julia"
  }
 },
 "nbformat": 4
}