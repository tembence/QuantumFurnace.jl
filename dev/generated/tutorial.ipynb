{
 "cells": [
  {
   "cell_type": "markdown",
   "source": [
    "# Tutorial: Finding a Thermal State\n",
    "\n",
    "In this tutorial, we will walk through the process of finding the steady-state\n",
    "thermal density matrix $\\rho_{ss}$ for a system coupled to a thermal bath.\n",
    "The evolution of such a system is governed by the Lindblad master equation:\n",
    "$$\n",
    "\\frac{d\\rho}{dt} = -i[H, \\rho] + \\sum_k \\gamma_k \\left( L_k \\rho L_k^\\dagger - \\frac{1}{2}\\{L_k^\\dagger L_k, \\rho\\} \\right)\n",
    "$$\n",
    "Our goal is to find the state $\\rho_{ss}$ where $\\frac{d\\rho}{dt} = 0$."
   ],
   "metadata": {}
  },
  {
   "outputs": [],
   "cell_type": "code",
   "source": [
    "using QuantumFurnace\n",
    "using LinearAlgebra"
   ],
   "metadata": {},
   "execution_count": 1
  },
  {
   "cell_type": "markdown",
   "source": [
    "## Step 1: Define the System\n",
    "First, we define the system's Hamiltonian `H`. We'll use a simple\n",
    "two-qubit Heisenberg model."
   ],
   "metadata": {}
  },
  {
   "outputs": [
    {
     "output_type": "execute_result",
     "data": {
      "text/plain": "2"
     },
     "metadata": {},
     "execution_count": 2
    }
   ],
   "cell_type": "code",
   "source": [
    "num_qubits = 2"
   ],
   "metadata": {},
   "execution_count": 2
  },
  {
   "cell_type": "markdown",
   "source": [
    "## Step 2: Define the Environment\n",
    "Next, we define the jump operators `L` and the temperature `T`."
   ],
   "metadata": {}
  },
  {
   "outputs": [
    {
     "output_type": "execute_result",
     "data": {
      "text/plain": "TimePicture()"
     },
     "metadata": {},
     "execution_count": 3
    }
   ],
   "cell_type": "code",
   "source": [
    "temperature = 0.5\n",
    "picture = TimePicture()"
   ],
   "metadata": {},
   "execution_count": 3
  },
  {
   "cell_type": "markdown",
   "source": [
    "## Step 3: Solve for the Thermal State\n",
    "Now, we can call our main solver function."
   ],
   "metadata": {}
  },
  {
   "cell_type": "markdown",
   "source": [
    "## Step 4: Analyze the Result\n",
    "The resulting density matrix should have a trace of 1."
   ],
   "metadata": {}
  },
  {
   "cell_type": "markdown",
   "source": [
    "---\n",
    "\n",
    "*This notebook was generated using [Literate.jl](https://github.com/fredrikekre/Literate.jl).*"
   ],
   "metadata": {}
  }
 ],
 "nbformat_minor": 3,
 "metadata": {
  "language_info": {
   "file_extension": ".jl",
   "mimetype": "application/julia",
   "name": "julia",
   "version": "1.12.1"
  },
  "kernelspec": {
   "name": "julia-1.12",
   "display_name": "Julia 1.12.1",
   "language": "julia"
  }
 },
 "nbformat": 4
}