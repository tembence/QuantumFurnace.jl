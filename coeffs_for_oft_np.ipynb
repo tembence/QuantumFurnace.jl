{
 "cells": [
  {
   "cell_type": "code",
   "execution_count": 1,
   "metadata": {},
   "outputs": [],
   "source": [
    "import sys\n",
    "sys.path.append('/Users/bence/code/liouvillian_metro/')\n",
    "\n",
    "import numpy as np\n",
    "import qutip as qt\n",
    "import matplotlib.pyplot as plt\n",
    "from scipy.linalg import expm\n",
    "from scipy.sparse import csr_matrix\n",
    "import pickle\n",
    "from copy import deepcopy\n",
    "from qiskit.quantum_info import DensityMatrix, Statevector, partial_trace, state_fidelity\n",
    "import time\n",
    "\n",
    "from oft_n_liouv_np import oft\n",
    "from tools.classical import find_ideal_heisenberg, trotter_step_heisenberg_qt, ham_evol_qt, hamiltonian_matrix\n",
    "\n",
    "np.random.seed(667)\n",
    "np.set_printoptions(precision=10, suppress=False)\n",
    "#TODO: Compare rounded OFT with exact OFT later, to see how much rounding is still fine!\n",
    "#TODO: State is rho not a pure state psi..."
   ]
  },
  {
   "cell_type": "code",
   "execution_count": 2,
   "metadata": {},
   "outputs": [
    {
     "name": "stdout",
     "output_type": "stream",
     "text": [
      "2\n",
      "Original spectrum:  [-6.  2.  2.  2.]\n",
      "Ideal spectrum:  [0.   0.45 0.45 0.45]\n",
      "Nonrescaled coefficients:  [1, 1, 1, 1]\n",
      "Rescaled coefficients:  [0.05625 0.05625 0.05625 0.05625]\n"
     ]
    }
   ],
   "source": [
    "num_qubits = 2\n",
    "num_energy_bits = 6\n",
    "oft_precision = int(np.ceil(np.abs(np.log10(2**(-num_energy_bits)))))\n",
    "print(oft_precision)\n",
    "delta = 0.01\n",
    "eps = 0.1\n",
    "sigma = 5\n",
    "bohr_bound = 0 #2 ** (-num_energy_bits + 1)\n",
    "beta = 1\n",
    "eig_index = 2\n",
    "jump_site_index = 0\n",
    "\n",
    "hamiltonian = find_ideal_heisenberg(num_qubits, bohr_bound, eps, [1, 1, 1, 1], signed=False, for_oft=True)\n",
    "initial_state = hamiltonian.eigvecs[:, eig_index]\n",
    "\n",
    "N = 2**num_energy_bits\n",
    "N_labels = np.arange(N / 2, dtype=int)\n",
    "N_labels_neg = np.arange(- N / 2, 0, dtype=int)\n",
    "N_labels = np.concatenate((N_labels, N_labels_neg))\n",
    "energy_labels = 2 * np.pi * N_labels / N \n",
    "time_labels = N_labels\n",
    "\n",
    "# rand_jump_index = np.random.randint(0, num_qubits)ú\n",
    "site_list = [qt.qeye(2) for _ in range(num_qubits)]\n",
    "x_jump_ops = []\n",
    "for q in range(num_qubits):\n",
    "    site_list[q] = qt.sigmax()\n",
    "    x_jump_ops.append(qt.tensor(site_list).full())\n",
    "\n",
    "x_jump = x_jump_ops[jump_site_index]"
   ]
  },
  {
   "cell_type": "markdown",
   "metadata": {},
   "source": [
    "### Energy decompositions of jump op A and initial states"
   ]
  },
  {
   "cell_type": "code",
   "execution_count": 3,
   "metadata": {},
   "outputs": [
    {
     "name": "stdout",
     "output_type": "stream",
     "text": [
      "[[0.+0.j 0.+0.j 1.+0.j 0.+0.j]\n",
      " [0.+0.j 0.+0.j 0.+0.j 1.+0.j]\n",
      " [1.+0.j 0.+0.j 0.+0.j 0.+0.j]\n",
      " [0.+0.j 1.+0.j 0.+0.j 0.+0.j]]\n",
      "Jump in eigenbasis:\n",
      "[[ 0.          +0.j -0.7071067812+0.j  0.          +0.j  0.7071067812+0.j]\n",
      " [-0.7071067812+0.j  0.          +0.j  0.7071067812+0.j  0.          +0.j]\n",
      " [ 0.          +0.j  0.7071067812+0.j  0.          +0.j  0.7071067812+0.j]\n",
      " [ 0.7071067812+0.j  0.          +0.j  0.7071067812+0.j  0.          +0.j]]\n"
     ]
    }
   ],
   "source": [
    "# energy_projectors = [qt.ket2dm(qt.Qobj(energy_eigenstates[i])) for i in range(2**num_qubits)]\n",
    "\n",
    "# Write jump operator in energy eigenbasis, A' = U^dag A U\n",
    "x_jump_in_eigenbasis = hamiltonian.eigvecs.conj().T @ x_jump_ops[0] @ hamiltonian.eigvecs\n",
    "print(x_jump)\n",
    "print('Jump in eigenbasis:')\n",
    "print(x_jump_in_eigenbasis)\n",
    "    "
   ]
  },
  {
   "cell_type": "code",
   "execution_count": 4,
   "metadata": {},
   "outputs": [
    {
     "name": "stdout",
     "output_type": "stream",
     "text": [
      "[[ 0. +0.j  0. +0.j  0. +0.j  0. +0.j]\n",
      " [ 0. +0.j  0.5+0.j  0.5+0.j  0. +0.j]\n",
      " [ 0. +0.j -0.5+0.j -0.5+0.j  0. +0.j]\n",
      " [ 0. +0.j  0. +0.j  0. +0.j  0. +0.j]]\n",
      "[[6.2232853217e-19+0.j 0.0000000000e+00+0.j 1.0000000000e+00+0.j\n",
      "  0.0000000000e+00+0.j]\n",
      " [0.0000000000e+00+0.j 0.0000000000e+00+0.j 0.0000000000e+00+0.j\n",
      "  0.0000000000e+00+0.j]\n",
      " [5.9779208748e-34+0.j 0.0000000000e+00+0.j 3.2517679528e-17+0.j\n",
      "  0.0000000000e+00+0.j]\n",
      " [0.0000000000e+00+0.j 0.0000000000e+00+0.j 0.0000000000e+00+0.j\n",
      "  0.0000000000e+00+0.j]]\n"
     ]
    }
   ],
   "source": [
    "# Check by constructing jump operator that brings system to eigenstate 0\n",
    "jump_to_0 = hamiltonian.eigvecs[:, 0] @ hamiltonian.eigvecs[:, eig_index].conj().T\n",
    "print(jump_to_0)\n",
    "jump_to_0_in_eigenbasis = hamiltonian.eigvecs.conj().T @ jump_to_0 @ hamiltonian.eigvecs  #* This for jump operators\n",
    "print(jump_to_0_in_eigenbasis)"
   ]
  },
  {
   "cell_type": "code",
   "execution_count": 5,
   "metadata": {},
   "outputs": [
    {
     "name": "stdout",
     "output_type": "stream",
     "text": [
      "[[0.7071067812+0.j]\n",
      " [0.          +0.j]\n",
      " [0.7071067812+0.j]\n",
      " [0.          +0.j]]\n",
      "[[0.5+0.j 0. +0.j 0.5+0.j 0. +0.j]\n",
      " [0. +0.j 0. +0.j 0. +0.j 0. +0.j]\n",
      " [0.5+0.j 0. +0.j 0.5+0.j 0. +0.j]\n",
      " [0. +0.j 0. +0.j 0. +0.j 0. +0.j]]\n"
     ]
    }
   ],
   "source": [
    "# Find decomposition of a vector in the energy eigenbasis\n",
    "vec = (hamiltonian.eigvecs[:, 0] + hamiltonian.eigvecs[:, 2]) / np.sqrt(2)\n",
    "rho = vec @ vec.conj().T\n",
    "vec_eigenbasis_coeffs = hamiltonian.eigvecs.conj().T @ vec  #* This for states\n",
    "print(vec_eigenbasis_coeffs)\n",
    "rho_eigenbasis = hamiltonian.eigvecs.conj().T @ rho @ hamiltonian.eigvecs\n",
    "print(rho_eigenbasis)\n"
   ]
  },
  {
   "cell_type": "code",
   "execution_count": 6,
   "metadata": {},
   "outputs": [
    {
     "name": "stdout",
     "output_type": "stream",
     "text": [
      "[[ 1  4  9]\n",
      " [16 25 36]\n",
      " [49 64 81]]\n",
      "[[2.1829577951e-008 1.7430708966e-037 2.6844830678e-088]\n",
      " [7.9741094286e-161 4.5685630002e-255 0.0000000000e+000]\n",
      " [0.0000000000e+000 0.0000000000e+000 0.0000000000e+000]]\n",
      "[[ 9 16 21]\n",
      " [24 25 24]\n",
      " [21 16  9]]\n"
     ]
    }
   ],
   "source": [
    "# Define your function that takes a single matrix entry as input\n",
    "def transform_function(entry):\n",
    "    # Example transformation: square the input\n",
    "    return entry ** 2\n",
    "\n",
    "def gaussian(entry):\n",
    "    trafod_entry = np.exp(-((0.16 - entry) ** 2) * sigma ** 2)\n",
    "    return trafod_entry\n",
    "\n",
    "# Example numpy matrix\n",
    "input_matrix = np.array([[1, 2, 3],\n",
    "                         [4, 5, 6],\n",
    "                         [7, 8, 9]])\n",
    "\n",
    "# Vectorize the function (if it's not already vectorized)\n",
    "vectorized_function = np.vectorize(transform_function)\n",
    "vec_gaussian_fn = np.vectorize(gaussian)\n",
    "\n",
    "# Apply the function to each entry in the matrix\n",
    "output_matrix = vectorized_function(input_matrix)\n",
    "output_matrix_gaussian = vec_gaussian_fn(input_matrix)\n",
    "\n",
    "print(output_matrix)\n",
    "print(output_matrix_gaussian)\n",
    "matrix1 = np.array([[1, 2, 3],\n",
    "                    [4, 5, 6],\n",
    "                    [7, 8, 9]])\n",
    "\n",
    "matrix2 = np.array([[9, 8, 7],\n",
    "                    [6, 5, 4],\n",
    "                    [3, 2, 1]])\n",
    "\n",
    "# Perform element-wise multiplication\n",
    "result_matrix = matrix1 * matrix2\n",
    "\n",
    "print(result_matrix)"
   ]
  },
  {
   "cell_type": "markdown",
   "metadata": {},
   "source": [
    "### Precompute all Bohr frequencies and just use them later"
   ]
  },
  {
   "cell_type": "code",
   "execution_count": 15,
   "metadata": {},
   "outputs": [
    {
     "name": "stdout",
     "output_type": "stream",
     "text": [
      "-4.481803197467773\n",
      "Energy = -0.44\n",
      "OFT time = 0.0003268718719482422\n",
      "[-0.45 -0.45  0.45  0.    0.    0.    0.45  0.  ]\n",
      "(array([-0.45,  0.  ,  0.45]), array([0, 3, 2]))\n",
      "[9.9750312240e-01 7.9070540516e-03 2.5112128333e-09]\n"
     ]
    }
   ],
   "source": [
    "#TODO: The new idea is to just take the gaussian weighed bohr freq matrix and multiply entry by entry with jump in eigenbasis\n",
    "# This multiplies coeffs of the matrix with the gaussian weights, and then we transform back to computational basis and done I think.\n",
    "#* Scales in time almost exactly as diagonalization.\n",
    "\n",
    "phase = -0.44 * N / (2 * np.pi)\n",
    "print(phase)\n",
    "print(f'Energy = {2 * np.pi * phase / N}')\n",
    "\n",
    "def gaussian_weight(v, phase, N, sigma_t): #! Don't forget normalizations\n",
    "    energy = 2 * np.pi * phase / N\n",
    "    return np.exp(-(energy - v) ** 2 * sigma_t ** 2)\n",
    "\n",
    "add_gaussian_weight = np.vectorize(gaussian_weight)\n",
    "\n",
    "jump_op = x_jump\n",
    "# print(jump_op)\n",
    "oft_precision = int(np.ceil(np.abs(np.log10(N**(-1)))))\n",
    "    \n",
    "bohr_freqs = hamiltonian.spectrum[:, np.newaxis] - hamiltonian.spectrum\n",
    "# print('Bohr freqs:')\n",
    "# print(bohr_freqs)\n",
    "t0 = time.time()\n",
    "oft_jump = np.einsum('ij, jk, jm, mn -> in', \n",
    "                    hamiltonian.eigvecs.conj().T,\n",
    "                    add_gaussian_weight(bohr_freqs, phase, N, sigma),\n",
    "                    hamiltonian.eigvecs.conj().T,\n",
    "                    jump_op, optimize=True)\n",
    "\n",
    "tt = time.time()\n",
    "print(f'OFT time = {tt - t0}')\n",
    "gaussian_bohr_freqs = add_gaussian_weight(bohr_freqs, phase, N, sigma)\n",
    "tweighing = time.time()\n",
    "# print('Gaussian freqs:')\n",
    "# print(gaussian_bohr_freqs)\n",
    "jump_in_eigenbasis = hamiltonian.eigvecs.conj().T @ jump_op @ hamiltonian.eigvecs\n",
    "# print(jump_in_eigenbasis)\n",
    "\n",
    "# weighted_jump_in_eigenbasis = gaussian_bohr_freqs * jump_in_eigenbasis\n",
    "# oft_jump = hamiltonian.eigvecs @ weighted_jump_in_eigenbasis @ hamiltonian.eigvecs.conj().T\n",
    "\n",
    "jump_nonzero_indices = np.nonzero(jump_in_eigenbasis)\n",
    "nonzero_index_pairs = list(zip(*jump_nonzero_indices))\n",
    "\n",
    "# For now we take energy diffs close to each other as the same energy diff (cuts off a ton of sum terms)\n",
    "bohr_freqs_of_jump = np.round(bohr_freqs[jump_nonzero_indices], oft_precision+2)\n",
    "print(bohr_freqs_of_jump)\n",
    "\n",
    "uniqe_freqs = np.unique(bohr_freqs_of_jump, return_index=True)\n",
    "print(uniqe_freqs)\n",
    "gauss_weighted_unique_freqs = add_gaussian_weight(uniqe_freqs[0], phase, N, sigma)\n",
    "print(gauss_weighted_unique_freqs)\n",
    "same_freq_indices_in_energy_list = [np.nonzero(bohr_freqs_of_jump == bohr_freqs_of_jump[uniqe_freqs[1][i]]) \n",
    "                                for i in range(len(uniqe_freqs[0]))]"
   ]
  },
  {
   "cell_type": "code",
   "execution_count": 8,
   "metadata": {},
   "outputs": [
    {
     "name": "stdout",
     "output_type": "stream",
     "text": [
      "[[ 0.   -0.45 -0.45 -0.45]\n",
      " [ 0.45  0.    0.    0.  ]\n",
      " [ 0.45  0.    0.    0.  ]\n",
      " [ 0.45  0.    0.    0.  ]]\n"
     ]
    }
   ],
   "source": [
    "bohr_freqs = hamiltonian.spectrum[:, np.newaxis] - hamiltonian.spectrum\n",
    "\n",
    "print(bohr_freqs)"
   ]
  },
  {
   "cell_type": "code",
   "execution_count": 9,
   "metadata": {},
   "outputs": [
    {
     "data": {
      "text/plain": [
       "array([[6.6613381478e-17],\n",
       "       [4.5000000000e-01],\n",
       "       [4.5000000000e-01],\n",
       "       [4.5000000000e-01]])"
      ]
     },
     "execution_count": 9,
     "metadata": {},
     "output_type": "execute_result"
    }
   ],
   "source": [
    "hamiltonian.spectrum[:, np.newaxis]"
   ]
  },
  {
   "cell_type": "markdown",
   "metadata": {},
   "source": [
    "### Find all possible energy jumps for a give state and jump operator A\n",
    "\n",
    "Jump operator in the eigenbasis shows at each entry which eigenstate jumps are possible, so for each nonzero entry we can take their indices and find the possible energy differences. But of course also depending on the initial state some of these will or will not happen."
   ]
  },
  {
   "cell_type": "code",
   "execution_count": 10,
   "metadata": {},
   "outputs": [
    {
     "name": "stdout",
     "output_type": "stream",
     "text": [
      "(array([0, 0, 1, 1, 2, 2, 3, 3]), array([1, 3, 0, 2, 1, 3, 0, 2]))\n",
      "[(0, 1), (0, 3), (1, 0), (1, 2), (2, 1), (2, 3), (3, 0), (3, 2)]\n"
     ]
    }
   ],
   "source": [
    "# Indices of nonzero entries in jump operator\n",
    "jump_nonzero_indices = np.nonzero(x_jump_in_eigenbasis)\n",
    "print(jump_nonzero_indices)\n",
    "nonzero_index_pairs = list(zip(*jump_nonzero_indices))\n",
    "print(nonzero_index_pairs)\n",
    "# Convert list of tuples back to tuple of arrays\n",
    "# jump_nonzero_indices = tuple(np.array(i) for i in zip(*nonzero_index_pairs))\n",
    "# print(jump_nonzero_indices)"
   ]
  },
  {
   "cell_type": "code",
   "execution_count": 11,
   "metadata": {},
   "outputs": [
    {
     "name": "stdout",
     "output_type": "stream",
     "text": [
      "These are all the energy jumps in the system:\n",
      "[-0.45 -0.45  0.45  0.    0.    0.    0.45  0.  ]\n",
      "Number of unique frequencies: 3\n",
      "Unique Bohr Frequencies: [-0.45  0.    0.45]\n",
      "Indices of the same Bohr Frequencies in the list of energy diffs: [(array([0, 1]),), (array([3, 4, 5, 7]),), (array([2, 6]),)]\n",
      "Indices of the same Bohr Frequencies in the jump operator: [[(0, 1), (0, 3)], [(1, 2), (2, 1), (2, 3), (3, 2)], [(1, 0), (3, 0)]]\n"
     ]
    }
   ],
   "source": [
    "# Get all Bohr frequencies for the nonzero jump op indices\n",
    "# bohr_freqs_for_jump = bohr_freqs[jump_nonzero_indices]\n",
    "bohr_freqs_for_jump = np.round(bohr_freqs[jump_nonzero_indices], oft_precision+2)\n",
    "print('These are all the energy jumps in the system:')\n",
    "print(bohr_freqs_for_jump)\n",
    "\n",
    "# Bohr frequencies that are unique but up to some precision:\n",
    "# uniqe_freqs = np.unique(bohr_freqs_for_jump, return_index=True)\n",
    "uniqe_freqs = np.unique(np.round(bohr_freqs_for_jump, oft_precision+2), return_index=True)  #! Change this rounding if needed\n",
    "print(f'Number of unique frequencies: {len(uniqe_freqs[0])}')\n",
    "# Get the indices of the same Bohr frequencies\n",
    "same_freq_indices_in_energy_list = [np.nonzero(bohr_freqs_for_jump == bohr_freqs_for_jump[uniqe_freqs[1][i]]) \n",
    "                                    for i in range(len(uniqe_freqs[0]))]\n",
    "\n",
    "print(f'Unique Bohr Frequencies: {uniqe_freqs[0]}')\n",
    "print(f'Indices of the same Bohr Frequencies in the list of energy diffs: {same_freq_indices_in_energy_list}')\n",
    "same_freq_indices_of_jump_op = []  #* This is what I will need in the main computation multiplied by the states coeffs (in eigenbasis) of the latter index\n",
    "for v in range(len(same_freq_indices_in_energy_list)):\n",
    "    same_freq_indices_of_jump_op.append([])\n",
    "    for index in same_freq_indices_in_energy_list[v][0]:\n",
    "        same_freq_indices_of_jump_op[v].append(nonzero_index_pairs[index])\n",
    "        \n",
    "print(f'Indices of the same Bohr Frequencies in the jump operator: {same_freq_indices_of_jump_op}')"
   ]
  },
  {
   "cell_type": "code",
   "execution_count": 12,
   "metadata": {},
   "outputs": [
    {
     "name": "stdout",
     "output_type": "stream",
     "text": [
      "[[ 0.          +0.j -0.7071067812+0.j  0.          +0.j  0.7071067812+0.j]\n",
      " [-0.7071067812+0.j  0.          +0.j  0.7071067812+0.j  0.          +0.j]\n",
      " [ 0.          +0.j  0.7071067812+0.j  0.          +0.j  0.7071067812+0.j]\n",
      " [ 0.7071067812+0.j  0.          +0.j  0.7071067812+0.j  0.          +0.j]]\n",
      "Jump operator for energy: -0.45\n",
      "[[ 0.          +0.j -0.7071067812+0.j  0.          +0.j  0.7071067812+0.j]\n",
      " [ 0.          +0.j  0.          +0.j  0.          +0.j  0.          +0.j]\n",
      " [ 0.          +0.j  0.          +0.j  0.          +0.j  0.          +0.j]\n",
      " [ 0.          +0.j  0.          +0.j  0.          +0.j  0.          +0.j]]\n",
      "Jump operator for energy: 0.0\n",
      "[[0.          +0.j 0.          +0.j 0.          +0.j 0.          +0.j]\n",
      " [0.          +0.j 0.          +0.j 0.7071067812+0.j 0.          +0.j]\n",
      " [0.          +0.j 0.7071067812+0.j 0.          +0.j 0.7071067812+0.j]\n",
      " [0.          +0.j 0.          +0.j 0.7071067812+0.j 0.          +0.j]]\n",
      "Jump operator for energy: 0.45\n",
      "[[ 0.          +0.j  0.          +0.j  0.          +0.j  0.          +0.j]\n",
      " [-0.7071067812+0.j  0.          +0.j  0.          +0.j  0.          +0.j]\n",
      " [ 0.          +0.j  0.          +0.j  0.          +0.j  0.          +0.j]\n",
      " [ 0.7071067812+0.j  0.          +0.j  0.          +0.j  0.          +0.j]]\n"
     ]
    }
   ],
   "source": [
    "# Construct jump operators for each Bohr frequency (not necessary for main computation but good for checking)\n",
    "\n",
    "#! Dude when you do this part just multiply with gaussian factor at the right nű and it's done, that's A(w) if it's summed up\n",
    "\n",
    "print(x_jump_in_eigenbasis)\n",
    "jump_ops_for_energy = []\n",
    "for energy_index in range(len(same_freq_indices_of_jump_op)):\n",
    "    index_tuples_for_energy = same_freq_indices_of_jump_op[energy_index]\n",
    "    jump_op_indices_for_energy = tuple(np.array(i) for i in zip(*index_tuples_for_energy))\n",
    "    jump_op_for_energy = np.zeros((2**num_qubits, 2**num_qubits), dtype=complex)\n",
    "    jump_op_for_energy[jump_op_indices_for_energy] = x_jump_in_eigenbasis[jump_op_indices_for_energy]\n",
    "    jump_ops_for_energy.append(jump_op_for_energy)\n",
    "\n",
    "for v in range(len(jump_ops_for_energy)):\n",
    "    print(f'Jump operator for energy: {np.round(uniqe_freqs[0][v], 3)}')\n",
    "    print(jump_ops_for_energy[v])\n",
    "\n"
   ]
  },
  {
   "cell_type": "code",
   "execution_count": 13,
   "metadata": {},
   "outputs": [],
   "source": [
    "# Check if sum gives the whole\n",
    "# np.allclose(x_jump_in_eigenbasis, np.sum(jump_ops_for_energy, axis=0), atol=1e-12)"
   ]
  },
  {
   "cell_type": "code",
   "execution_count": 14,
   "metadata": {},
   "outputs": [],
   "source": [
    "# Generate random sparse matrix \n",
    "# qubits = 13\n",
    "# matrix = np.zeros((2**qubits, 2**qubits), dtype=complex)\n",
    "# matrix[1, 2] = 1\n",
    "# matrix[2, 1] = 1\n",
    "# matrix[3, 3] = 1\n",
    "# matrix[4, 4] = 1\n",
    "# matrix[5, 10] = 1\n",
    "# matrix[10, 5] = 1\n",
    "\n",
    "\n",
    "# #turn to scipy sparse\n",
    "# sp_matrix = csr_matrix(matrix)\n",
    "\n",
    "# #random dense numpy matrix\n",
    "# matrix2 = np.random.rand(2**qubits, 2**qubits) + 1j * np.random.rand(2**qubits, 2**qubits)\n",
    "\n",
    "# t0 = time.time()\n",
    "# # multiply the two dense matrices\n",
    "# np.dot(matrix, matrix2)\n",
    "# t1 = time.time()\n",
    "# print('Dense matrix multiplication time: ', t1 - t0)\n",
    "\n",
    "# sp_matrix2 = csr_matrix(matrix2)\n",
    "# t0 = time.time()\n",
    "# # multiply the dense with the sparse matrices\n",
    "# np.dot(sp_matrix, sp_matrix2)\n",
    "# t1 = time.time()\n",
    "# print('Sparse matrix multiplication time: ', t1 - t0)\n",
    "\n"
   ]
  }
 ],
 "metadata": {
  "kernelspec": {
   "display_name": "qiskit_1_env",
   "language": "python",
   "name": "python3"
  },
  "language_info": {
   "codemirror_mode": {
    "name": "ipython",
    "version": 3
   },
   "file_extension": ".py",
   "mimetype": "text/x-python",
   "name": "python",
   "nbconvert_exporter": "python",
   "pygments_lexer": "ipython3",
   "version": "3.12.2"
  }
 },
 "nbformat": 4,
 "nbformat_minor": 2
}
