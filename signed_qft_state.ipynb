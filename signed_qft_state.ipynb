{
 "cells": [
  {
   "cell_type": "code",
   "execution_count": 48,
   "metadata": {},
   "outputs": [],
   "source": [
    "import numpy as np\n",
    "import qutip as qt\n",
    "from qiskit import QuantumCircuit, QuantumRegister, ClassicalRegister, transpile, Aer\n",
    "from qiskit_aer import StatevectorSimulator\n",
    "from qiskit.quantum_info.operators import Operator, Pauli\n",
    "from qiskit.quantum_info import Statevector, random_statevector, partial_trace\n",
    "from qiskit.circuit import Parameter\n",
    "from qiskit.circuit.library import QFT\n",
    "import random\n",
    "from time import time\n",
    "from typing import Optional\n",
    "\n",
    "import sys\n",
    "sys.path.append('/Users/bence/code/liouvillian_metro/')\n",
    "from tools.quantum import *\n",
    "from tools.classical import *\n"
   ]
  },
  {
   "cell_type": "code",
   "execution_count": 49,
   "metadata": {},
   "outputs": [],
   "source": [
    "def energy_state_for_bits(bitstring: str) -> np.ndarray:\n",
    "    \"\"\"Convert a bitstring to an energy eigenstate.\"\"\"\n",
    "    tensor_list = []\n",
    "    for bit in bitstring:\n",
    "        if bit == '0':\n",
    "            tensor_list.append(qt.basis(2, 0))\n",
    "        else:\n",
    "            tensor_list.append(qt.basis(2, 1))\n",
    "    state = qt.tensor(tensor_list).full()\n",
    "    return state / np.linalg.norm(state)\n"
   ]
  },
  {
   "cell_type": "markdown",
   "metadata": {},
   "source": [
    "### QFT"
   ]
  },
  {
   "cell_type": "code",
   "execution_count": 50,
   "metadata": {},
   "outputs": [],
   "source": [
    "# Circ\n",
    "num_energy_bits = 6\n",
    "bitstring = '100110'\n",
    "\n",
    "some_initial_state = Statevector(energy_state_for_bits(bitstring))\n",
    "\n",
    "circ = QuantumCircuit(num_energy_bits)\n",
    "circ.initialize(some_initial_state, range(num_energy_bits))\n",
    "\n",
    "qft = QFT(num_energy_bits)\n",
    "circ.compose(qft, inplace=True)\n",
    "\n",
    "circ_fourier_state = Statevector(circ).data.reshape(2**num_energy_bits, 1)\n"
   ]
  },
  {
   "cell_type": "code",
   "execution_count": 51,
   "metadata": {},
   "outputs": [],
   "source": [
    "# Fourier computed on [0 - N-1], i.e. unsigned\n",
    "\n",
    "all_bitstrings = [f'{i:0{num_energy_bits}b}' for i in range(2**num_energy_bits)]\n",
    "basis_states_bin_ordered = [energy_state_for_bits(bitstring) for bitstring in all_bitstrings]\n",
    "\n",
    "# bitstring_decimal = int(bitstring, 2)\n",
    "# fourier_coeffs = np.zeros((2**num_energy_bits, 1), dtype=complex)\n",
    "# for k in range(2**num_energy_bits):\n",
    "#     fourier_coeffs[k] = np.exp(1j * 2 * np.pi * bitstring_decimal * k / 2**num_energy_bits) / np.sqrt(2**num_energy_bits)\n",
    "    \n",
    "# fourier_state = np.zeros((2**num_energy_bits, 1), dtype=complex)\n",
    "# for k in range(2**num_energy_bits):\n",
    "#     fourier_state += fourier_coeffs[k] * basis_states_bin_ordered[k]\n",
    "    \n",
    "# fourier_state = fourier_state / np.linalg.norm(fourier_state)\n",
    "\n",
    "# distance = np.linalg.norm(circ_fourier_state - fourier_state)\n",
    "# distance\n"
   ]
  },
  {
   "cell_type": "code",
   "execution_count": 54,
   "metadata": {},
   "outputs": [
    {
     "data": {
      "text/plain": [
       "3.76422784870584e-15"
      ]
     },
     "execution_count": 54,
     "metadata": {},
     "output_type": "execute_result"
    }
   ],
   "source": [
    "# Fourier computed on [-N/2, N/2-1], i.e. signed\n",
    "\n",
    "phase = int(bitstring[1:], 2)\n",
    "if len(bitstring) != num_energy_bits:\n",
    "    raise ValueError('This is not the right amount of phase bits')\n",
    "if bitstring[0] == '1':\n",
    "    phase = (int(bitstring[1:], 2) - 2**(num_energy_bits - 1))\n",
    "else:\n",
    "    phase = int(bitstring[1:], 2)\n",
    "    \n",
    "some_initial_state = Statevector(energy_state_for_bits(bitstring))\n",
    "\n",
    "signed_interval = np.arange(-2**(num_energy_bits - 1), 2**(num_energy_bits - 1))\n",
    "fourier_coeffs = np.zeros((2**num_energy_bits, 1), dtype=complex)\n",
    "for i, k in enumerate(signed_interval):\n",
    "    fourier_coeffs[i] = np.exp(1j * 2 * np.pi * phase * k / 2**num_energy_bits) / np.sqrt(2**num_energy_bits)\n",
    "    \n",
    "fourier_state = np.zeros((2**num_energy_bits, 1), dtype=complex)\n",
    "for k in range(2**num_energy_bits):\n",
    "    fourier_state += fourier_coeffs[k] * basis_states_bin_ordered[k]\n",
    "    \n",
    "fourier_state = fourier_state / np.linalg.norm(fourier_state)\n",
    "\n",
    "distance = np.linalg.norm(circ_fourier_state - fourier_state)\n",
    "distance"
   ]
  }
 ],
 "metadata": {
  "kernelspec": {
   "display_name": "qiskit_env",
   "language": "python",
   "name": "python3"
  },
  "language_info": {
   "codemirror_mode": {
    "name": "ipython",
    "version": 3
   },
   "file_extension": ".py",
   "mimetype": "text/x-python",
   "name": "python",
   "nbconvert_exporter": "python",
   "pygments_lexer": "ipython3",
   "version": "3.11.5"
  }
 },
 "nbformat": 4,
 "nbformat_minor": 2
}
