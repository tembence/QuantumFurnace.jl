{
 "cells": [
  {
   "cell_type": "code",
   "execution_count": 1,
   "metadata": {},
   "outputs": [],
   "source": [
    "import numpy as np\n",
    "import qutip as qt\n",
    "from qiskit import QuantumCircuit, QuantumRegister, ClassicalRegister, transpile\n",
    "from qiskit.quantum_info.operators import Operator, Pauli\n",
    "from qiskit.circuit.library import QFT\n",
    "from random import randint\n",
    "import matplotlib.pyplot as plt\n",
    "from time import time\n",
    "import pickle\n",
    "\n",
    "\n",
    "from tools.classical import *\n",
    "from tools.quantum import *\n",
    "from boltzmann import *\n",
    "from op_fourier_trafo import *\n",
    "\n",
    "# len([gate for gate in tr_circ0.data if 'cx' in str(gate)])"
   ]
  },
  {
   "cell_type": "code",
   "execution_count": 2,
   "metadata": {},
   "outputs": [],
   "source": [
    "# # Unpickle the object\n",
    "# with open('data.pkl', 'rb') as f:\n",
    "#     data = pickle.load(f)\n"
   ]
  },
  {
   "cell_type": "code",
   "execution_count": 3,
   "metadata": {},
   "outputs": [],
   "source": [
    "\n",
    "# num_energy_bits = 6\n",
    "# num_qubits = 3\n",
    "# qr_boltzmann = QuantumRegister(1, name='qr_boltz')\n",
    "# qr_energy = QuantumRegister(num_energy_bits, name='qr_energy')\n",
    "\n",
    "# cr_boltzmann = ClassicalRegister(1, name='cr_boltz')\n",
    "# cr_energy = ClassicalRegister(num_energy_bits, name='cr_energy')\n",
    "\n",
    "# bithandler = BitHandler([cr_boltzmann, cr_energy])\n",
    "\n",
    "# circ0 = QuantumCircuit(qr_boltzmann, qr_energy, cr_boltzmann, cr_energy)\n",
    "# circ1 = QuantumCircuit(qr_boltzmann, qr_energy, cr_boltzmann, cr_energy)\n",
    "\n",
    "# boltz_circ = lookup_table_boltzmann(num_energy_bits)\n",
    "\n",
    "# #* By hand\n",
    "# t0 = time()\n",
    "# inverse_boltz_circ = reverse_lookup_table_boltzmann(num_energy_bits)\n",
    "# circ0.compose(boltz_circ, [qr_boltzmann[0], *list(qr_energy)], inplace=True)\n",
    "# circ0.compose(inverse_boltz_circ, [qr_boltzmann[0], *list(qr_energy)], inplace=True)\n",
    "# tr_circ0 = transpile(circ0, basis_gates=['cx', 'u3'], optimization_level=3)\n",
    "# t1 = time()\n",
    "# #* By Qiskit\n",
    "# t2 = time()\n",
    "# qiskit_inverse_boltz_circ = boltz_circ.inverse()\n",
    "# circ1.compose(boltz_circ, [qr_boltzmann[0], *list(qr_energy)], inplace=True)\n",
    "# circ1.compose(qiskit_inverse_boltz_circ, [qr_boltzmann[0], *list(qr_energy)], inplace=True)\n",
    "# tr_circ1 = transpile(circ1, basis_gates=['cx', 'u3'], optimization_level=3)\n",
    "# t3 = time()\n",
    "\n",
    "# op0 = Operator(circ0)\n",
    "# op1 = Operator(circ1)\n",
    "# dist_to_identity0 = np.linalg.norm(op0.data - np.eye(2**(1+num_energy_bits)))\n",
    "# dist_to_identity1 = np.linalg.norm(op1.data - np.eye(2**(1+num_energy_bits)))\n",
    "\n",
    "# print(f\"By hand: {t1-t0:.3f} s\")\n",
    "# print(dist_to_identity0)\n",
    "# print(f\"By Qiskit: {t3-t2:.3f} s\")\n",
    "# print(dist_to_identity1)"
   ]
  },
  {
   "cell_type": "code",
   "execution_count": 4,
   "metadata": {},
   "outputs": [
    {
     "name": "stdout",
     "output_type": "stream",
     "text": [
      "Original spectrum:  [-3.5    -2.9921 -2.3725 -1.5     1.6025  2.1     2.8895  3.7725]\n",
      "Ideal spectrum:  [-0.0071  0.0255  0.0653  0.1214  0.3209  0.3529  0.4036  0.4604]\n",
      "Nonrescaled coefficients:  [0.9 0.7 0.9 1. ]\n",
      "Rescaled coefficients:  [0.05785714 0.045      0.05785714 0.06428571]\n"
     ]
    }
   ],
   "source": [
    "np.random.seed(667)\n",
    "num_qubits = 3\n",
    "num_energy_bits = 6\n",
    "bohr_bound = 2 ** (-num_energy_bits + 1) #!\n",
    "eps = 0.05\n",
    "sigma = 10\n",
    "eig_index = 0\n",
    "T = 1\n",
    "shots = 100\n",
    "\n",
    "hamiltonian = find_ideal_heisenberg(num_qubits, bohr_bound, eps, signed=False, for_oft=True)\n",
    "rescaled_coeff = hamiltonian.rescaled_coeffs\n",
    "# Corresponding Trotter step circuit\n",
    "trotter_step_circ = trotter_step_heisenberg(num_qubits, coeffs=rescaled_coeff, symbreak=True)\n",
    "hamiltonian.trotter_step_circ = trotter_step_circ"
   ]
  },
  {
   "cell_type": "code",
   "execution_count": 5,
   "metadata": {},
   "outputs": [
    {
     "name": "stdout",
     "output_type": "stream",
     "text": [
      "Energy before jump: 0.45571428571428574\n",
      "Jump applied to 1th qubit\n",
      "Energy after jump: 0.09571428571428571\n",
      "Energy jump: -0.36000000000000004\n"
     ]
    }
   ],
   "source": [
    "qr_energy = QuantumRegister(num_energy_bits, name='qr_energy')\n",
    "qr_sys = QuantumRegister(num_qubits, name='qr_sys')\n",
    "cr_energy = ClassicalRegister(num_energy_bits, name='cr_energy')\n",
    "cr_sys = ClassicalRegister(num_qubits, name='cr_sys')\n",
    "\n",
    "bithandler = BitHandler([cr_energy, cr_sys])\n",
    "\n",
    "circ0 = QuantumCircuit(qr_energy, qr_sys, cr_energy, cr_sys)\n",
    "circ1 = QuantumCircuit(qr_energy, qr_sys, cr_energy, cr_sys)\n",
    "\n",
    "#* Ini\n",
    "# if sigma != 0.:\n",
    "#     prep_circ = brute_prepare_gaussian_state(num_energy_bits, sigma)\n",
    "#     circ.compose(prep_circ, [*list(qr_energy)], inplace=True)\n",
    "# else:  # Conventional QPE\n",
    "#     circ.h(qr_energy)\n",
    "    \n",
    "# System prep, initial state = eigenstate\n",
    "initial_state = np.array([1] + [0] * (2**num_qubits - 1))\n",
    "\n",
    "#* OFT\n",
    "jump_op = Operator(Pauli('X'))\n",
    "oft_circ = operator_fourier_circuit(jump_op, num_qubits, num_energy_bits, hamiltonian, \n",
    "                                    initial_state=initial_state)\n",
    "\n"
   ]
  },
  {
   "cell_type": "code",
   "execution_count": 6,
   "metadata": {},
   "outputs": [],
   "source": [
    "inverse_trotter_step_circ = inverse_trotter_step_heisenberg(num_qubits, coeffs=rescaled_coeff, symbreak=True)\n",
    "hamiltonian.trotter_step_circ = inverse_trotter_step_circ"
   ]
  },
  {
   "cell_type": "code",
   "execution_count": 7,
   "metadata": {},
   "outputs": [
    {
     "name": "stdout",
     "output_type": "stream",
     "text": [
      "Jump applied to 1th qubit\n",
      "Inverse by hand: 2.482 s\n"
     ]
    }
   ],
   "source": [
    "#* By hand\n",
    "t0 = time()\n",
    "inverse_oft_circ = inverse_operator_fourier_transform(jump_op, num_qubits, num_energy_bits, hamiltonian)\n",
    "t1 = time()\n",
    "print(f\"Inverse by hand: {t1-t0:.3f} s\")\n",
    "\n",
    "with open(f'data/inverse_oft_byhand_{num_qubits}{num_energy_bits}.pkl', 'wb') as f:\n",
    "    pickle.dump(inverse_oft_circ, f)"
   ]
  },
  {
   "cell_type": "code",
   "execution_count": 8,
   "metadata": {},
   "outputs": [
    {
     "name": "stdout",
     "output_type": "stream",
     "text": [
      "Hattened: 544.274 s\n"
     ]
    }
   ],
   "source": [
    "t0 = time()\n",
    "inverse_oft_op = Operator(inverse_oft_circ)\n",
    "t1 = time()\n",
    "print(f\"Hattened: {t1-t0:.3f} s\")\n",
    "\n",
    "with open(f'data/inverse_oft_byhand_op_{num_qubits}{num_energy_bits}.pkl', 'wb') as f:\n",
    "    pickle.dump(inverse_oft_op, f)"
   ]
  },
  {
   "cell_type": "code",
   "execution_count": 9,
   "metadata": {},
   "outputs": [
    {
     "name": "stdout",
     "output_type": "stream",
     "text": [
      "Inverse by Qiskit: 7.151 s\n"
     ]
    }
   ],
   "source": [
    "#* By Qiskit\n",
    "t0 = time()\n",
    "qiskit_inverse_oft_circ = oft_circ.inverse()\n",
    "t1 = time()\n",
    "print(f\"Inverse by Qiskit: {t1-t0:.3f} s\")\n",
    "\n",
    "with open(f'data/inverse_oft_qiskit_{num_qubits}{num_energy_bits}.pkl', 'wb') as f:\n",
    "    pickle.dump(qiskit_inverse_oft_circ, f)"
   ]
  },
  {
   "cell_type": "code",
   "execution_count": 10,
   "metadata": {},
   "outputs": [
    {
     "name": "stdout",
     "output_type": "stream",
     "text": [
      "Hattened Qiskit 552.489 s\n"
     ]
    }
   ],
   "source": [
    "t0 = time()\n",
    "qiskit_inverse_oft_op = Operator(qiskit_inverse_oft_circ)\n",
    "t1 = time()\n",
    "print(f\"Hattened Qiskit {t1-t0:.3f} s\")\n",
    "\n",
    "with open(f'data/inverse_oft_qiskit_op_{num_qubits}{num_energy_bits}.pkl', 'wb') as f:\n",
    "    pickle.dump(qiskit_inverse_oft_op, f)"
   ]
  },
  {
   "cell_type": "code",
   "execution_count": 11,
   "metadata": {},
   "outputs": [],
   "source": [
    "oft_op = Operator(oft_circ)"
   ]
  },
  {
   "cell_type": "code",
   "execution_count": 12,
   "metadata": {},
   "outputs": [
    {
     "name": "stdout",
     "output_type": "stream",
     "text": [
      "Distance to identity by hand: 3.266587103381993e-11\n",
      "Distance to identity Qiskit: 3.266587103381993e-11\n"
     ]
    }
   ],
   "source": [
    "dist_to_identity_byhand = np.linalg.norm(inverse_oft_op.data @ oft_op.data - np.eye(2**(num_qubits + num_energy_bits)))\n",
    "dist_to_identity_qiskit = np.linalg.norm(qiskit_inverse_oft_op.data @ oft_op.data - np.eye(2**(num_qubits + num_energy_bits)))\n",
    "print(f'Distance to identity by hand: {dist_to_identity_byhand}')\n",
    "print(f'Distance to identity Qiskit: {dist_to_identity_qiskit}')"
   ]
  },
  {
   "cell_type": "code",
   "execution_count": 13,
   "metadata": {},
   "outputs": [
    {
     "name": "stdout",
     "output_type": "stream",
     "text": [
      "[[ 1.-0.j  0.+0.j -0.+0.j ... -0.-0.j  0.-0.j  0.-0.j]\n",
      " [ 0.+0.j  1.-0.j  0.-0.j ... -0.+0.j  0.-0.j -0.+0.j]\n",
      " [-0.-0.j -0.-0.j  1.-0.j ...  0.+0.j -0.-0.j  0.-0.j]\n",
      " ...\n",
      " [-0.+0.j  0.-0.j  0.-0.j ...  1.-0.j -0.+0.j -0.+0.j]\n",
      " [ 0.+0.j -0.+0.j  0.+0.j ... -0.-0.j  1.-0.j  0.-0.j]\n",
      " [-0.+0.j -0.+0.j -0.+0.j ...  0.-0.j -0.+0.j  1.-0.j]]\n"
     ]
    }
   ],
   "source": [
    "print((inverse_oft_op.data @ oft_op.data).round(3))"
   ]
  },
  {
   "cell_type": "code",
   "execution_count": 14,
   "metadata": {},
   "outputs": [
    {
     "name": "stdout",
     "output_type": "stream",
     "text": [
      "By hand fidelity: 0.9999999999998774\n",
      "Qiskit fidelity: 0.9999999999998774\n"
     ]
    }
   ],
   "source": [
    "np.random.seed(666)\n",
    "randstate_better = np.zeros(2**(num_qubits+num_energy_bits))\n",
    "randstate_better[np.random.choice(2**num_qubits, 2**num_qubits//2, replace=False)] = 1\n",
    "randstate_better /= np.linalg.norm(randstate_better)\n",
    "\n",
    "end_state = inverse_oft_op.data @ oft_op.data @ randstate_better\n",
    "end_state_qiskit = qiskit_inverse_oft_op.data @ oft_op.data @ randstate_better\n",
    "print(f'By hand fidelity: {qt.fidelity(qt.Qobj(randstate_better), qt.Qobj(end_state))}')\n",
    "print(f'Qiskit fidelity: {qt.fidelity(qt.Qobj(randstate_better), qt.Qobj(end_state_qiskit))}')\n"
   ]
  },
  {
   "cell_type": "code",
   "execution_count": 15,
   "metadata": {},
   "outputs": [
    {
     "name": "stderr",
     "output_type": "stream",
     "text": [
      "/Users/bence/miniforge3/envs/qiskit_env/lib/python3.11/site-packages/numpy/linalg/linalg.py:2180: RuntimeWarning: divide by zero encountered in det\n",
      "  r = _umath_linalg.det(a, signature=signature)\n",
      "/Users/bence/miniforge3/envs/qiskit_env/lib/python3.11/site-packages/numpy/linalg/linalg.py:2180: RuntimeWarning: invalid value encountered in det\n",
      "  r = _umath_linalg.det(a, signature=signature)\n"
     ]
    },
    {
     "name": "stdout",
     "output_type": "stream",
     "text": [
      "Transpiled the byhand circuit: 96.404 s\n"
     ]
    }
   ],
   "source": [
    "t0 = time()\n",
    "tr_inverse_byhand = transpile(inverse_oft_circ, basis_gates=['cx', 'u3'], optimization_level=3)\n",
    "t1 = time()\n",
    "print(f'Transpiled the byhand circuit: {t1-t0:.3f} s')"
   ]
  },
  {
   "cell_type": "code",
   "execution_count": 16,
   "metadata": {},
   "outputs": [
    {
     "name": "stdout",
     "output_type": "stream",
     "text": [
      "Transpiled the Qiskit circuit: 116.514 s\n"
     ]
    }
   ],
   "source": [
    "t0 = time()\n",
    "tr_inverse_qiskit = transpile(qiskit_inverse_oft_circ, basis_gates=['cx', 'u3'], optimization_level=3)\n",
    "t1 = time()\n",
    "print(f'Transpiled the Qiskit circuit: {t1-t0:.3f} s')"
   ]
  },
  {
   "cell_type": "code",
   "execution_count": 17,
   "metadata": {},
   "outputs": [],
   "source": [
    "# circ1.compose(oft_circ, [*list(qr_energy), *list(qr_sys)], inplace=True)\n",
    "# circ1.compose(qiskit_inverse_oft_circ, [*list(qr_energy), *list(qr_sys)], inplace=True)\n",
    "# tr_circ1 = transpile(circ1, basis_gates=['cx', 'u3'], optimization_level=3)"
   ]
  },
  {
   "cell_type": "code",
   "execution_count": 18,
   "metadata": {},
   "outputs": [],
   "source": [
    "# # inverse_oft_op = Operator(inverse_oft_circ)\n",
    "# circ0.compose(oft_circ, [*list(qr_energy), *list(qr_sys)], inplace=True)\n",
    "# circ0.compose(inverse_oft_circ, [*list(qr_energy), *list(qr_sys)], inplace=True)\n",
    "# tr_circ0 = transpile(circ0, basis_gates=['cx', 'u3'], optimization_level=3)"
   ]
  },
  {
   "cell_type": "code",
   "execution_count": null,
   "metadata": {},
   "outputs": [],
   "source": [
    "\n"
   ]
  },
  {
   "cell_type": "code",
   "execution_count": 19,
   "metadata": {},
   "outputs": [],
   "source": [
    "\n",
    "# op0 = Operator(circ0)\n",
    "# op1 = Operator(circ1)\n"
   ]
  },
  {
   "cell_type": "code",
   "execution_count": 20,
   "metadata": {},
   "outputs": [],
   "source": [
    "# dist_to_identity0 = np.linalg.norm(op0.data - np.eye(2**(1+num_energy_bits)))\n",
    "# dist_to_identity1 = np.linalg.norm(op1.data - np.eye(2**(1+num_energy_bits)))\n",
    "\n",
    "# print(f\"By hand: {t1-t0:.3f} s\")\n",
    "# print(dist_to_identity0)\n",
    "# print(f\"By Qiskit: {t3-t2:.3f} s\")\n",
    "# print(dist_to_identity1)"
   ]
  }
 ],
 "metadata": {
  "kernelspec": {
   "display_name": "qiskit_env",
   "language": "python",
   "name": "python3"
  },
  "language_info": {
   "codemirror_mode": {
    "name": "ipython",
    "version": 3
   },
   "file_extension": ".py",
   "mimetype": "text/x-python",
   "name": "python",
   "nbconvert_exporter": "python",
   "pygments_lexer": "ipython3",
   "version": "3.11.5"
  }
 },
 "nbformat": 4,
 "nbformat_minor": 2
}
