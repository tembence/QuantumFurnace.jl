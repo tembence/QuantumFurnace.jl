{
 "cells": [
  {
   "cell_type": "code",
   "execution_count": 1,
   "metadata": {},
   "outputs": [],
   "source": [
    "import numpy as np\n",
    "import qutip as qt\n",
    "from scipy.linalg import logm, expm\n",
    "from qiskit.quantum_info import Operator, state_fidelity\n",
    "from qiskit import QuantumCircuit\n",
    "from qiskit_aer import StatevectorSimulator\n",
    "from qiskit import Aer\n",
    "from qiskit.circuit.library import QFT\n",
    "import random\n",
    "\n",
    "from tools.classical import *\n",
    "from tools.quantum import *\n",
    "\n",
    "#TODO: Try with Trotterized ES to see if we get close to exact result\n",
    "#TODO: Use 2nd order trotter"
   ]
  },
  {
   "cell_type": "code",
   "execution_count": 2,
   "metadata": {},
   "outputs": [],
   "source": [
    "num_estimating_bits = 4\n",
    "num_qubits = 2\n",
    "T = 1\n",
    "# For 2x2 matrix one qubit is enough\n",
    "qr_sys = QuantumRegister(num_qubits, name=\"q\")\n",
    "# In QPE we use n ancillas to estimate n bits from the phase\n",
    "qr_energy = QuantumRegister(num_estimating_bits, name=\"E\") \n",
    "# For n ancillary qubit measurment we need n cllasical bits\n",
    "cr_energy = ClassicalRegister(num_estimating_bits, name=\"c\") # Create a quantum circuit\n",
    "circ = QuantumCircuit(qr_energy, qr_sys, cr_energy)"
   ]
  },
  {
   "cell_type": "code",
   "execution_count": 3,
   "metadata": {},
   "outputs": [
    {
     "name": "stdout",
     "output_type": "stream",
     "text": [
      "Unique spectrum found:  [-5.4  1.4  1.8  2.2]\n",
      "Coefficients:  [0.9 0.8 1. ]\n",
      "Coeffs used: [0.16666667 0.14814815 0.18518519] for spectrum [-1.          0.25925926  0.33333333  0.40740741]\n",
      "Energy to predict 0.2592592592592592\n"
     ]
    }
   ],
   "source": [
    "X = qt.sigmax()\n",
    "Y = qt.sigmay()\n",
    "Z = qt.sigmaz()\n",
    "\n",
    "coeff_lower_bound = 0\n",
    "coeff_xx = np.arange(1, coeff_lower_bound, -0.1)\n",
    "coeff_yy = np.arange(1, coeff_lower_bound, -0.1)\n",
    "coeff_zz = np.arange(1, coeff_lower_bound, -0.1)\n",
    "\n",
    "# get all combinations of coefficients\n",
    "coeffs = np.array(np.meshgrid(coeff_xx, coeff_yy, coeff_zz)).T.reshape(-1, 3)\n",
    "\n",
    "for coeff in coeffs:\n",
    "    hamiltonian_qt = hamiltonian_matrix([X, X], [Y, Y], [Z, Z], coeffs=coeff, num_qubits=num_qubits)\n",
    "    exact_spec = np.linalg.eigvalsh(hamiltonian_qt)\n",
    "    exact_spec = np.round(exact_spec, 3)\n",
    "\n",
    "    if len(np.unique(exact_spec)) == len(exact_spec):\n",
    "        print(\"Unique spectrum found: \", exact_spec)\n",
    "        print(\"Coefficients: \", coeff)\n",
    "        break\n",
    "\n",
    "coeffs = coeff / 5.4\n",
    "hamiltonian_qt = hamiltonian_matrix([X, X], [Y, Y], [Z, Z], coeffs=coeffs, num_qubits=num_qubits)\n",
    "spectrum, eigenstates = np.linalg.eigh(hamiltonian_qt)\n",
    "print(f'Coeffs used: {coeffs} for spectrum {spectrum}')\n",
    "\n",
    "eigenstate = eigenstates[1]\n",
    "exact_energy = spectrum[1]\n",
    "print(f'Energy to predict {spectrum[1]}')\n"
   ]
  },
  {
   "cell_type": "code",
   "execution_count": 4,
   "metadata": {},
   "outputs": [],
   "source": [
    "def trotter_step_circ(num_qubits: int, coeffs = [1, 1, 1]):\n",
    "    trotter_step_circ = QuantumCircuit(qr_sys.size)\n",
    "\n",
    "    step_size = Parameter('theta')\n",
    "    for i in range(qr_sys.size):\n",
    "        if i != num_qubits - 1:\n",
    "            trotter_step_circ.rxx(-2 * coeffs[0] * step_size, i, i + 1)\n",
    "            trotter_step_circ.ryy(-2 * coeffs[1] * step_size, i, i + 1)\n",
    "            trotter_step_circ.rzz(-2 * coeffs[2] * step_size, i, i + 1)\n",
    "        if (i == num_qubits - 1):\n",
    "            trotter_step_circ.rxx(-2 * coeffs[0] * step_size, i, 0)\n",
    "            trotter_step_circ.ryy(-2 * coeffs[1] * step_size, i, 0)\n",
    "            trotter_step_circ.rzz(-2 * coeffs[2] * step_size, i, 0)\n",
    "    return trotter_step_circ\n",
    "\n",
    "def second_order_trotter_step_circ(num_qubits: int, coeffs = [1, 1, 1]): #TODO: TEST IT\n",
    "    trotter_step_circ = QuantumCircuit(qr_sys.size)\n",
    "\n",
    "    step_size = Parameter('theta')\n",
    "    \n",
    "    for i in range(qr_sys.size):\n",
    "        if i != num_qubits - 1:\n",
    "            trotter_step_circ.rxx(-2 * coeffs[0] * step_size / 2, i, i + 1)\n",
    "            trotter_step_circ.ryy(-2 * coeffs[1] * step_size / 2, i, i + 1)\n",
    "            trotter_step_circ.rzz(-2 * coeffs[2] * step_size / 2, i, i + 1)\n",
    "        if (i == num_qubits - 1):\n",
    "            trotter_step_circ.rxx(-2 * coeffs[0] * step_size / 2, i, 0)\n",
    "            trotter_step_circ.ryy(-2 * coeffs[1] * step_size / 2, i, 0)\n",
    "            trotter_step_circ.rzz(-2 * coeffs[2] * step_size / 2, i, 0)\n",
    "    \n",
    "    for i in range(qr_sys.size, 0, -1):\n",
    "        if i != 0:\n",
    "            trotter_step_circ.rzz(-2 * coeffs[0] * step_size / 2, i, i + 1)\n",
    "            trotter_step_circ.ryy(-2 * coeffs[1] * step_size / 2, i, i + 1)\n",
    "            trotter_step_circ.rxx(-2 * coeffs[2] * step_size / 2, i, i + 1)\n",
    "        if (i == 0):\n",
    "            trotter_step_circ.rzz(-2 * coeffs[0] * step_size / 2, i, qr_sys.size - 1)\n",
    "            trotter_step_circ.ryy(-2 * coeffs[1] * step_size / 2, i, qr_sys.size - 1)\n",
    "            trotter_step_circ.rxx(-2 * coeffs[2] * step_size / 2, i, qr_sys.size - 1)\n",
    "    \n",
    "    return trotter_step_circ\n",
    "\n",
    "def trotter_circ_for_qpe(trotter_step_circ: QuantumCircuit, total_time: float, num_trotter_steps: int) -> QuantumCircuit:\n",
    "    trotter_circ = QuantumCircuit(qr_sys.size)\n",
    "    step_size = 2*np.pi * total_time / num_trotter_steps\n",
    "    trotter_step_circ.assign_parameters([step_size], inplace=True)\n",
    "    for _ in range(num_trotter_steps):\n",
    "        trotter_circ.compose(trotter_step_circ, inplace=True)\n",
    "        \n",
    "    return trotter_circ\n",
    "\n",
    "num_trotter_steps = 50\n",
    "heisenberg_trott_circ = trotter_circ_for_qpe(trotter_step_circ(num_qubits, coeffs), T, num_trotter_steps)\n",
    "cU = heisenberg_trott_circ.control(1)"
   ]
  },
  {
   "cell_type": "code",
   "execution_count": 5,
   "metadata": {},
   "outputs": [
    {
     "name": "stderr",
     "output_type": "stream",
     "text": [
      "/Users/bence/miniforge3/envs/qiskit_env/lib/python3.11/site-packages/numpy/linalg/linalg.py:2180: RuntimeWarning: divide by zero encountered in det\n",
      "  r = _umath_linalg.det(a, signature=signature)\n",
      "/Users/bence/miniforge3/envs/qiskit_env/lib/python3.11/site-packages/numpy/linalg/linalg.py:2180: RuntimeWarning: invalid value encountered in det\n",
      "  r = _umath_linalg.det(a, signature=signature)\n"
     ]
    }
   ],
   "source": [
    "initial_state = Statevector(eigenstate.reshape(2**num_qubits, 1))\n",
    "circ.initialize(initial_state, qr_sys)\n",
    "circ.h(qr_energy)\n",
    "\n",
    "for n in range(qr_energy.size):\n",
    "    for m in range(2**n):\n",
    "        circ.compose(cU, qubits=[qr_energy[n], *list(qr_sys)], inplace=True)\n",
    "        \n",
    "qft_circ = QFT(num_estimating_bits, do_swaps=True, inverse=True)\n",
    "circ.compose(qft_circ, qr_energy, inplace=True)\n",
    "circ.measure(qr_energy, cr_energy)\n",
    "tr_circuit = transpile(circ, basis_gates=['u3', 'cx'], optimization_level=3)"
   ]
  },
  {
   "cell_type": "code",
   "execution_count": 6,
   "metadata": {},
   "outputs": [
    {
     "name": "stdout",
     "output_type": "stream",
     "text": [
      "{'1001': 2, '1111': 1, '1101': 1, '1010': 1, '0101': 47, '0110': 37, '0100': 61, '0001': 1, '0011': 1, '0111': 38, '1000': 4, '0010': 2, '0000': 60}\n",
      "Max count was for phase bits 0100 : 61 times\n"
     ]
    }
   ],
   "source": [
    "backend = Aer.get_backend('qasm_simulator')\n",
    "shots = 256\n",
    "job = backend.run(tr_circuit, shots=shots)\n",
    "result = job.result()\n",
    "counts = result.get_counts()\n",
    "print(counts)\n",
    "phase_bits = max(counts, key=counts.get) # take the most often obtaned result\n",
    "print(f'Max count was for phase bits {phase_bits} : {counts[phase_bits]} times')"
   ]
  },
  {
   "cell_type": "code",
   "execution_count": 7,
   "metadata": {},
   "outputs": [
    {
     "name": "stdout",
     "output_type": "stream",
     "text": [
      "Exact energy: 0.2592592592592592\n",
      "Estimated energy: 0.25\n"
     ]
    }
   ],
   "source": [
    "phase = 0\n",
    "for index, bit in enumerate((phase_bits)):  #! Bits are already in order\n",
    "    phase += int(bit) / 2**(index + 1)\n",
    "    \n",
    "estimated_energy = phase / T\n",
    "print(f'Exact energy: {exact_energy}')\n",
    "print(f'Estimated energy: {estimated_energy}')"
   ]
  }
 ],
 "metadata": {
  "kernelspec": {
   "display_name": "qiskit_env",
   "language": "python",
   "name": "python3"
  },
  "language_info": {
   "codemirror_mode": {
    "name": "ipython",
    "version": 3
   },
   "file_extension": ".py",
   "mimetype": "text/x-python",
   "name": "python",
   "nbconvert_exporter": "python",
   "pygments_lexer": "ipython3",
   "version": "3.11.5"
  }
 },
 "nbformat": 4,
 "nbformat_minor": 2
}
