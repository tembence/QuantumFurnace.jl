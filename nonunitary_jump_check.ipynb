{
 "cells": [
  {
   "cell_type": "code",
   "execution_count": 209,
   "metadata": {},
   "outputs": [],
   "source": [
    "import numpy as np\n",
    "import qutip as qt\n",
    "from scipy.linalg import logm, expm\n",
    "from qiskit.quantum_info import Operator, state_fidelity\n",
    "from qiskit import QuantumCircuit\n",
    "from qiskit_aer import StatevectorSimulator\n",
    "from qiskit import Aer\n",
    "from qiskit.circuit.library import QFT\n",
    "\n",
    "from op_fourier_trafo import *\n",
    "from tools.classical import *\n",
    "from tools.quantum import *\n",
    "from jump_ops import sigmam_LCU"
   ]
  },
  {
   "cell_type": "code",
   "execution_count": 210,
   "metadata": {},
   "outputs": [
    {
     "name": "stdout",
     "output_type": "stream",
     "text": [
      "Original spectrum:  [-4.   -3.46 -2.83 -2.    2.    2.83  3.46  4.  ]\n",
      "Ideal spectrum:  [-0.    0.07  0.15  0.25  0.75  0.85  0.93  1.  ]\n",
      "Nonrescaled coefficients:  [1. 1. 1. 1.]\n",
      "Rescaled coefficients:  [0.12 0.12 0.12 0.12]\n"
     ]
    }
   ],
   "source": [
    "num_qubits = 3\n",
    "eps = 0\n",
    "bohr_bound = 0\n",
    "\n",
    "hamiltonian = find_ideal_heisenberg(num_qubits, bohr_bound, eps, signed=False, for_oft=False)"
   ]
  },
  {
   "cell_type": "code",
   "execution_count": 211,
   "metadata": {},
   "outputs": [
    {
     "name": "stdout",
     "output_type": "stream",
     "text": [
      "                     ┌───┐     ┌───┐           \n",
      "sys: ────────────────┤ X ├─────┤ Y ├───────────\n",
      "     ┌─────────┐┌───┐└─┬─┘┌───┐└─┬─┘┌─────────┐\n",
      "  b: ┤ Unitary ├┤ X ├──■──┤ X ├──■──┤ Unitary ├\n",
      "     └─────────┘└───┘     └───┘     └─────────┘\n"
     ]
    }
   ],
   "source": [
    "jump_op = sigmam_LCU()\n",
    "print(jump_op)\n",
    "left_proj = qt.tensor([qt.basis(2, 0).dag(), qt.qeye(2**num_qubits)]).full()  #! Dagger doesnt change order\n",
    "right_proj = qt.tensor([qt.basis(2, 0), qt.qeye(2**num_qubits)]).full()\n",
    "np.set_printoptions(precision=2, suppress=True)\n"
   ]
  },
  {
   "cell_type": "code",
   "execution_count": 212,
   "metadata": {},
   "outputs": [
    {
     "name": "stdout",
     "output_type": "stream",
     "text": [
      "       ┌──────────────────────────────────────┐ ░                 ┌───┐     »\n",
      "sys_0: ┤0                                     ├─░─────────────────┤ X ├─────»\n",
      "       │                                      │ ░                 └─┬─┘     »\n",
      "sys_1: ┤1 Initialize(0.5,0.5,0,0.5,0,0,0.5,0) ├─░───────────────────┼───────»\n",
      "       │                                      │ ░                   │       »\n",
      "sys_2: ┤2                                     ├─░───────────────────┼───────»\n",
      "       └──────────────────────────────────────┘ ░ ┌─────────┐┌───┐  │  ┌───┐»\n",
      "    b: ─────────────────────────────────────────░─┤ Unitary ├┤ X ├──■──┤ X ├»\n",
      "                                                ░ └─────────┘└───┘     └───┘»\n",
      " cb: 1/═════════════════════════════════════════════════════════════════════»\n",
      "                                                                            »\n",
      "«       ┌───┐           \n",
      "«sys_0: ┤ Y ├───────────\n",
      "«       └─┬─┘           \n",
      "«sys_1: ──┼─────────────\n",
      "«         │             \n",
      "«sys_2: ──┼─────────────\n",
      "«         │  ┌─────────┐\n",
      "«    b: ──■──┤ Unitary ├\n",
      "«            └─────────┘\n",
      "« cb: 1/════════════════\n",
      "«                       \n",
      "[[0.  +0.j   0.  +0.j   0.  +0.j   0.  +0.j   0.  +0.j   0.  +0.j\n",
      "  0.  +0.j   0.  +0.j   0.  +0.j   0.71+0.71j 0.  +0.j   0.  +0.j\n",
      "  0.  +0.j   0.  +0.j   0.  +0.j   0.  +0.j  ]\n",
      " [1.  +0.j   0.  +0.j   0.  +0.j   0.  +0.j   0.  +0.j   0.  +0.j\n",
      "  0.  +0.j   0.  +0.j   0.  +0.j   0.  +0.j   0.  +0.j   0.  +0.j\n",
      "  0.  +0.j   0.  +0.j   0.  +0.j   0.  +0.j  ]\n",
      " [0.  +0.j   0.  +0.j   0.  +0.j   0.  +0.j   0.  +0.j   0.  +0.j\n",
      "  0.  +0.j   0.  +0.j   0.  +0.j   0.  +0.j   0.  +0.j   0.71+0.71j\n",
      "  0.  +0.j   0.  +0.j   0.  +0.j   0.  +0.j  ]\n",
      " [0.  +0.j   0.  +0.j   1.  +0.j   0.  +0.j   0.  +0.j   0.  +0.j\n",
      "  0.  +0.j   0.  +0.j   0.  +0.j   0.  +0.j   0.  +0.j   0.  +0.j\n",
      "  0.  +0.j   0.  +0.j   0.  +0.j   0.  +0.j  ]\n",
      " [0.  +0.j   0.  +0.j   0.  +0.j   0.  +0.j   0.  +0.j   0.  +0.j\n",
      "  0.  +0.j   0.  +0.j   0.  +0.j   0.  +0.j   0.  +0.j   0.  +0.j\n",
      "  0.  +0.j   0.71+0.71j 0.  +0.j   0.  +0.j  ]\n",
      " [0.  +0.j   0.  +0.j   0.  +0.j   0.  +0.j   1.  +0.j   0.  +0.j\n",
      "  0.  +0.j   0.  +0.j   0.  +0.j   0.  +0.j   0.  +0.j   0.  +0.j\n",
      "  0.  +0.j   0.  +0.j   0.  +0.j   0.  +0.j  ]\n",
      " [0.  +0.j   0.  +0.j   0.  +0.j   0.  +0.j   0.  +0.j   0.  +0.j\n",
      "  0.  +0.j   0.  +0.j   0.  +0.j   0.  +0.j   0.  +0.j   0.  +0.j\n",
      "  0.  +0.j   0.  +0.j   0.  +0.j   0.71+0.71j]\n",
      " [0.  +0.j   0.  +0.j   0.  +0.j   0.  +0.j   0.  +0.j   0.  +0.j\n",
      "  1.  +0.j   0.  +0.j   0.  +0.j   0.  +0.j   0.  +0.j   0.  +0.j\n",
      "  0.  +0.j   0.  +0.j   0.  +0.j   0.  +0.j  ]\n",
      " [0.  +0.j   0.71+0.71j 0.  +0.j   0.  +0.j   0.  +0.j   0.  +0.j\n",
      "  0.  +0.j   0.  +0.j   0.  +0.j   0.  -0.j   0.  +0.j   0.  +0.j\n",
      "  0.  +0.j   0.  +0.j   0.  +0.j   0.  +0.j  ]\n",
      " [0.  +0.j   0.  +0.j   0.  +0.j   0.  +0.j   0.  +0.j   0.  +0.j\n",
      "  0.  +0.j   0.  +0.j   0.  +1.j   0.  +0.j   0.  +0.j   0.  +0.j\n",
      "  0.  +0.j   0.  +0.j   0.  +0.j   0.  +0.j  ]\n",
      " [0.  +0.j   0.  +0.j   0.  +0.j   0.71+0.71j 0.  +0.j   0.  +0.j\n",
      "  0.  +0.j   0.  +0.j   0.  +0.j   0.  +0.j   0.  +0.j   0.  -0.j\n",
      "  0.  +0.j   0.  +0.j   0.  +0.j   0.  +0.j  ]\n",
      " [0.  +0.j   0.  +0.j   0.  +0.j   0.  +0.j   0.  +0.j   0.  +0.j\n",
      "  0.  +0.j   0.  +0.j   0.  +0.j   0.  +0.j   0.  +1.j   0.  +0.j\n",
      "  0.  +0.j   0.  +0.j   0.  +0.j   0.  +0.j  ]\n",
      " [0.  +0.j   0.  +0.j   0.  +0.j   0.  +0.j   0.  +0.j   0.71+0.71j\n",
      "  0.  +0.j   0.  +0.j   0.  +0.j   0.  +0.j   0.  +0.j   0.  +0.j\n",
      "  0.  +0.j   0.  -0.j   0.  +0.j   0.  +0.j  ]\n",
      " [0.  +0.j   0.  +0.j   0.  +0.j   0.  +0.j   0.  +0.j   0.  +0.j\n",
      "  0.  +0.j   0.  +0.j   0.  +0.j   0.  +0.j   0.  +0.j   0.  +0.j\n",
      "  0.  +1.j   0.  +0.j   0.  +0.j   0.  +0.j  ]\n",
      " [0.  +0.j   0.  +0.j   0.  +0.j   0.  +0.j   0.  +0.j   0.  +0.j\n",
      "  0.  +0.j   0.71+0.71j 0.  +0.j   0.  +0.j   0.  +0.j   0.  +0.j\n",
      "  0.  +0.j   0.  +0.j   0.  +0.j   0.  -0.j  ]\n",
      " [0.  +0.j   0.  +0.j   0.  +0.j   0.  +0.j   0.  +0.j   0.  +0.j\n",
      "  0.  +0.j   0.  +0.j   0.  +0.j   0.  +0.j   0.  +0.j   0.  +0.j\n",
      "  0.  +0.j   0.  +0.j   0.  +1.j   0.  +0.j  ]]\n"
     ]
    }
   ],
   "source": [
    "qr_sys = QuantumRegister(num_qubits, 'sys')\n",
    "qr_b = QuantumRegister(1, 'b')\n",
    "cr_b = ClassicalRegister(1, 'cb')\n",
    "circ = QuantumCircuit(qr_sys, qr_b, cr_b)\n",
    "\n",
    "# np.random.seed(666)\n",
    "randstate_better = np.zeros(2**(num_qubits))\n",
    "randstate_better[np.random.choice(2**num_qubits, 2**num_qubits // 2, replace=False)] = 1  #! // 2\n",
    "\n",
    "# randstate_better = np.array([1., 0.])\n",
    "randstate_better /= np.linalg.norm(randstate_better)\n",
    "\n",
    "circ.initialize(randstate_better, qr_sys)\n",
    "circ.barrier()\n",
    "\n",
    "circ.compose(jump_op, [qr_sys[0], qr_b[0]], inplace=True)\n",
    "print(circ)\n",
    "circ_sv = Statevector(circ)\n",
    "\n",
    "circ2 = QuantumCircuit(qr_sys, qr_b, cr_b)\n",
    "circ2.compose(jump_op, [qr_sys[0], qr_b[0]], inplace=True)\n",
    "circ_op = Operator(circ2).data\n",
    "print(circ_op)"
   ]
  },
  {
   "cell_type": "code",
   "execution_count": 213,
   "metadata": {},
   "outputs": [
    {
     "name": "stdout",
     "output_type": "stream",
     "text": [
      "[0.  +0.j 0.71+0.j 0.  +0.j 0.  +0.j 0.  +0.j 0.  +0.j 0.  +0.j 0.71+0.j]\n"
     ]
    }
   ],
   "source": [
    "sigmam = np.array([[0, 0], [1, 0]])\n",
    "padded_sigmam = pad_term([qt.Qobj(sigmam)], num_qubits, 0).full()\n",
    "state_we_want = padded_sigmam @ randstate_better\n",
    "# state_we_want = sigmam @ randstate_better\n",
    "state_we_want /= np.linalg.norm(state_we_want)\n",
    "print(state_we_want)"
   ]
  },
  {
   "cell_type": "code",
   "execution_count": 214,
   "metadata": {},
   "outputs": [
    {
     "name": "stdout",
     "output_type": "stream",
     "text": [
      "0.7071067811865476\n",
      "[0.  +0.j 0.71+0.j 0.  +0.j 0.  +0.j 0.  +0.j 0.  +0.j 0.  +0.j 0.71+0.j]\n",
      "0.9999999999999996\n"
     ]
    },
    {
     "data": {
      "text/plain": [
       "1.1102230246251564e-16"
      ]
     },
     "execution_count": 214,
     "metadata": {},
     "output_type": "execute_result"
    }
   ],
   "source": [
    "circ_sv = circ_sv.data\n",
    "projected_state = left_proj @ circ_sv\n",
    "print(np.linalg.norm(projected_state))\n",
    "projected_state /= np.linalg.norm(projected_state)\n",
    "print(projected_state)\n",
    "print(state_fidelity(Statevector(projected_state), Statevector(state_we_want), validate=False))\n",
    "\n",
    "dist_to_what_we_want_with_states = np.linalg.norm(projected_state - state_we_want)\n",
    "dist_to_what_we_want_with_states"
   ]
  },
  {
   "cell_type": "code",
   "execution_count": 215,
   "metadata": {},
   "outputs": [],
   "source": [
    "# zero_projector = pad_term([qt.Qobj(np.array([[1, 0], [0, 0]]))], num_qubits + 1, num_qubits).full()\n",
    "# # zero_projector = np.array([[1, 0], [0, 0]])\n",
    "# projected_sv = Statevector(zero_projector @ circ_sv.data)\n",
    "# projected_sys_sv = partial_trace(projected_sv, [num_qubits])"
   ]
  },
  {
   "cell_type": "code",
   "execution_count": 216,
   "metadata": {},
   "outputs": [],
   "source": [
    "# padded_sigmam = pad_term([qt.Qobj(sigmam)], num_qubits, 1).full()\n",
    "# state_we_want = padded_sigmam @ randstate_better\n",
    "# state_we_want = DensityMatrix(state_we_want)\n",
    "\n",
    "# dist_to_what_we_want = np.linalg.norm(projected_sys_sv - state_we_want)\n",
    "# print(dist_to_what_we_want)\n",
    "# state_fidelity(projected_sys_sv, state_we_want, validate=False)"
   ]
  },
  {
   "cell_type": "markdown",
   "metadata": {},
   "source": [
    "### Test for even more qregs"
   ]
  },
  {
   "cell_type": "code",
   "execution_count": 242,
   "metadata": {},
   "outputs": [
    {
     "name": "stdout",
     "output_type": "stream",
     "text": [
      "       »\n",
      "  w_0: »\n",
      "       »\n",
      "  w_1: »\n",
      "       »\n",
      "  w_2: »\n",
      "       »\n",
      "  w_3: »\n",
      "       »\n",
      "sys_0: »\n",
      "       »\n",
      "sys_1: »\n",
      "       »\n",
      "sys_2: »\n",
      "       »\n",
      "    b: »\n",
      "       »\n",
      "«       ┌──────────────────────────────────────────────────────────────────────────────────────────────┐»\n",
      "«  w_0: ┤0                                                                                             ├»\n",
      "«       │                                                                                              │»\n",
      "«  w_1: ┤1                                                                                             ├»\n",
      "«       │  Initialize(0.35355,0,0,0,0,0.35355,0.35355,0,0.35355,0,0.35355,0.35355,0.35355,0,0,0.35355) │»\n",
      "«  w_2: ┤2                                                                                             ├»\n",
      "«       │                                                                                              │»\n",
      "«  w_3: ┤3                                                                                             ├»\n",
      "«       └───────────────────────────┬──────────────────────────────────────┬───────────────────────────┘»\n",
      "«sys_0: ────────────────────────────┤0                                     ├────────────────────────────»\n",
      "«                                   │                                      │                            »\n",
      "«sys_1: ────────────────────────────┤1 Initialize(0.5,0.5,0,0.5,0,0,0.5,0) ├────────────────────────────»\n",
      "«                                   │                                      │                            »\n",
      "«sys_2: ────────────────────────────┤2                                     ├────────────────────────────»\n",
      "«                                   └──────────────────────────────────────┘                            »\n",
      "«    b: ────────────────────────────────────────────────────────────────────────────────────────────────»\n",
      "«                                                                                                       »\n",
      "«        ░                                           \n",
      "«  w_0: ─░───────────────────────────────────────────\n",
      "«        ░                                           \n",
      "«  w_1: ─░───────────────────────────────────────────\n",
      "«        ░                                           \n",
      "«  w_2: ─░───────────────────────────────────────────\n",
      "«        ░                                           \n",
      "«  w_3: ─░───────────────────────────────────────────\n",
      "«        ░                 ┌───┐     ┌───┐           \n",
      "«sys_0: ─░─────────────────┤ X ├─────┤ Y ├───────────\n",
      "«        ░                 └─┬─┘     └─┬─┘           \n",
      "«sys_1: ─░───────────────────┼─────────┼─────────────\n",
      "«        ░                   │         │             \n",
      "«sys_2: ─░───────────────────┼─────────┼─────────────\n",
      "«        ░ ┌─────────┐┌───┐  │  ┌───┐  │  ┌─────────┐\n",
      "«    b: ─░─┤ Unitary ├┤ X ├──■──┤ X ├──■──┤ Unitary ├\n",
      "«        ░ └─────────┘└───┘     └───┘     └─────────┘\n",
      "14.966629547095765\n"
     ]
    }
   ],
   "source": [
    "num_energy_bits = 4\n",
    "num_qubtis = 3\n",
    "energy_randstate = np.zeros(2**num_energy_bits)\n",
    "energy_randstate[np.random.choice(2**num_energy_bits, 2**num_energy_bits // 2, replace=False)] = 1\n",
    "energy_randstate /= np.linalg.norm(energy_randstate)\n",
    "\n",
    "initial_energy_sys_state = qt.tensor([qt.Qobj(randstate_better), qt.Qobj(energy_randstate)]).full()\n",
    "initial_energy_sys_state /= np.linalg.norm(initial_energy_sys_state)\n",
    "\n",
    "#* Circ\n",
    "qr_sys = QuantumRegister(num_qubtis, 'sys')\n",
    "qr_b = QuantumRegister(1, 'b')\n",
    "qr_energy = QuantumRegister(num_energy_bits, 'w')\n",
    "\n",
    "circ = QuantumCircuit(qr_energy, qr_sys, qr_b)\n",
    "circ.initialize(randstate_better, qr_sys)\n",
    "circ.initialize(energy_randstate, qr_energy)\n",
    "circ.barrier()\n",
    "\n",
    "jump_index = 0\n",
    "circ.compose(jump_op, [qr_sys[jump_index], qr_b[0]], inplace=True)\n",
    "print(circ)\n",
    "# # circ_op = Operator(circ).data\n",
    "circ_sv = Statevector(circ)\n",
    "\n",
    "#* Project, compare\n",
    "big_left_proj = qt.tensor([qt.basis(2, 0).dag(), qt.qeye(2**num_qubtis), qt.qeye(2**num_energy_bits)]).full()\n",
    "projected_state = big_left_proj @ circ_sv.data\n",
    "projected_state /= np.linalg.norm(projected_state)\n",
    "\n",
    "padded_sigmam = pad_term([qt.Qobj(sigmam)], num_qubits, jump_index).full()\n",
    "sys_state_we_want = padded_sigmam @ randstate_better\n",
    "sys_state_we_want /= np.linalg.norm(sys_state_we_want)\n",
    "state_we_want = qt.tensor([qt.Qobj(sys_state_we_want), qt.Qobj(energy_randstate)]).full()\n",
    "state_we_want /= np.linalg.norm(state_we_want)\n",
    "\n",
    "print(np.linalg.norm(projected_state - state_we_want))\n",
    "\n",
    "\n",
    "# sys_b_dm = partial_trace(circ_sv, list(range(num_energy_bits)))\n",
    "\n",
    "# left_proj = qt.tensor([qt.basis(2, 0).dag(), qt.qeye(2**num_qubits)]).full()\n",
    "# right_proj = qt.tensor([qt.basis(2, 0), qt.qeye(2**num_qubits)]).full()\n",
    "\n",
    "# projected_state = left_proj @ sys_b_dm.data @ right_proj\n",
    "# projected_state /= np.trace(projected_state)\n",
    "\n",
    "# padded_sigmam = pad_term([qt.Qobj(sigmam)], num_qubits, 0).full()\n",
    "# state_we_want = padded_sigmam @ randstate_better\n",
    "# state_we_want /= np.linalg.norm(state_we_want)\n",
    "# dm_we_want = state_we_want @ state_we_want.conj().T\n",
    "\n",
    "# np.linalg.norm(projected_state - dm_we_want)\n"
   ]
  }
 ],
 "metadata": {
  "kernelspec": {
   "display_name": "qiskit_env",
   "language": "python",
   "name": "python3"
  },
  "language_info": {
   "codemirror_mode": {
    "name": "ipython",
    "version": 3
   },
   "file_extension": ".py",
   "mimetype": "text/x-python",
   "name": "python",
   "nbconvert_exporter": "python",
   "pygments_lexer": "ipython3",
   "version": "3.11.5"
  }
 },
 "nbformat": 4,
 "nbformat_minor": 2
}
