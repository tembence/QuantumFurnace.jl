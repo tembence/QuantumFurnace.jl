{
 "cells": [
  {
   "cell_type": "code",
   "execution_count": 1,
   "metadata": {},
   "outputs": [],
   "source": [
    "import numpy as np\n",
    "import qutip as qt\n",
    "from scipy.linalg import logm, expm\n",
    "from qiskit.quantum_info import Operator, state_fidelity\n",
    "from qiskit import QuantumCircuit\n",
    "from qiskit_aer import StatevectorSimulator\n",
    "from qiskit import Aer\n",
    "from qiskit.circuit.library import QFT\n",
    "\n",
    "from op_fourier_trafo import *\n",
    "from tools.classical import *\n",
    "from tools.quantum import *\n",
    "from jump_ops import sigmam_LCU"
   ]
  },
  {
   "cell_type": "code",
   "execution_count": 2,
   "metadata": {},
   "outputs": [
    {
     "name": "stdout",
     "output_type": "stream",
     "text": [
      "Original spectrum:  [-4.     -3.4641 -2.8284 -2.      2.      2.8284  3.4641  4.    ]\n",
      "Ideal spectrum:  [-0.      0.067   0.1464  0.25    0.75    0.8536  0.933   1.    ]\n",
      "Nonrescaled coefficients:  [1. 1. 1. 1.]\n",
      "Rescaled coefficients:  [0.125 0.125 0.125 0.125]\n"
     ]
    }
   ],
   "source": [
    "num_qubits = 3\n",
    "eps = 0\n",
    "bohr_bound = 0\n",
    "\n",
    "hamiltonian = find_ideal_heisenberg(num_qubits, bohr_bound, eps, signed=False, for_oft=False)"
   ]
  },
  {
   "cell_type": "code",
   "execution_count": null,
   "metadata": {},
   "outputs": [],
   "source": [
    "qr_sys = QuantumRegister(num_qubits, 'sys')\n",
    "qr_b = QuantumRegister(1, 'b')\n",
    "cr_b = ClassicalRegister(1, 'cb')\n",
    "circ = QuantumCircuit(qr_sys, qr_b, cr_b)\n",
    "\n",
    "jump_op = sigmam_LCU()"
   ]
  }
 ],
 "metadata": {
  "kernelspec": {
   "display_name": "qiskit_env",
   "language": "python",
   "name": "python3"
  },
  "language_info": {
   "codemirror_mode": {
    "name": "ipython",
    "version": 3
   },
   "file_extension": ".py",
   "mimetype": "text/x-python",
   "name": "python",
   "nbconvert_exporter": "python",
   "pygments_lexer": "ipython3",
   "version": "3.11.5"
  }
 },
 "nbformat": 4,
 "nbformat_minor": 2
}
