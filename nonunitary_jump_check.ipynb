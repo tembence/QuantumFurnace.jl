{
 "cells": [
  {
   "cell_type": "code",
   "execution_count": 64,
   "metadata": {},
   "outputs": [],
   "source": [
    "import numpy as np\n",
    "import qutip as qt\n",
    "from scipy.linalg import logm, expm\n",
    "from qiskit.quantum_info import Operator, state_fidelity\n",
    "from qiskit import QuantumCircuit\n",
    "from qiskit_aer import StatevectorSimulator\n",
    "from qiskit import Aer\n",
    "from qiskit.circuit.library import QFT\n",
    "\n",
    "from op_fourier_trafo import *\n",
    "from tools.classical import *\n",
    "from tools.quantum import *\n",
    "from jump_ops import sigmam_LCU"
   ]
  },
  {
   "cell_type": "code",
   "execution_count": 65,
   "metadata": {},
   "outputs": [
    {
     "name": "stdout",
     "output_type": "stream",
     "text": [
      "Original spectrum:  [-4.     -3.4641 -2.8284 -2.      2.      2.8284  3.4641  4.    ]\n",
      "Ideal spectrum:  [-0.      0.067   0.1464  0.25    0.75    0.8536  0.933   1.    ]\n",
      "Nonrescaled coefficients:  [1. 1. 1. 1.]\n",
      "Rescaled coefficients:  [0.125 0.125 0.125 0.125]\n"
     ]
    }
   ],
   "source": [
    "num_qubits = 3\n",
    "eps = 0\n",
    "bohr_bound = 0\n",
    "\n",
    "hamiltonian = find_ideal_heisenberg(num_qubits, bohr_bound, eps, signed=False, for_oft=False)"
   ]
  },
  {
   "cell_type": "code",
   "execution_count": 70,
   "metadata": {},
   "outputs": [
    {
     "name": "stdout",
     "output_type": "stream",
     "text": [
      "Operator([[0.00000000e+00+0.00000000e+00j, 1.11022302e-16+0.00000000e+00j,\n",
      "           0.00000000e+00+0.00000000e+00j, 7.07106781e-01+7.07106781e-01j],\n",
      "          [1.00000000e+00+0.00000000e+00j, 0.00000000e+00+0.00000000e+00j,\n",
      "           0.00000000e+00+0.00000000e+00j, 0.00000000e+00+0.00000000e+00j],\n",
      "          [0.00000000e+00+0.00000000e+00j, 7.07106781e-01+7.07106781e-01j,\n",
      "           0.00000000e+00+0.00000000e+00j, 0.00000000e+00-1.11022302e-16j],\n",
      "          [0.00000000e+00+0.00000000e+00j, 0.00000000e+00+0.00000000e+00j,\n",
      "           0.00000000e+00+1.00000000e+00j, 0.00000000e+00+0.00000000e+00j]],\n",
      "         input_dims=(2, 2), output_dims=(2, 2))\n"
     ]
    }
   ],
   "source": [
    "qr_sys = QuantumRegister(num_qubits, 'sys')\n",
    "qr_b = QuantumRegister(1, 'b')\n",
    "cr_b = ClassicalRegister(1, 'cb')\n",
    "circ = QuantumCircuit(qr_sys, qr_b, cr_b)\n",
    "\n",
    "jump_op = sigmam_LCU()\n",
    "print(Operator(jump_op))\n",
    "np.random.seed(666)\n",
    "randstate_better = np.zeros(2**(num_qubits))\n",
    "randstate_better[np.random.choice(2**num_qubits, 2**num_qubits//2, replace=False)] = 1\n",
    "randstate_better /= np.linalg.norm(randstate_better)\n",
    "circ.initialize(randstate_better, qr_sys)\n",
    "circ.barrier()\n",
    "\n",
    "circ.compose(jump_op, [qr_sys[1], qr_b[0]], inplace=True)\n",
    "\n",
    "circ_sv = Statevector(circ)"
   ]
  },
  {
   "cell_type": "code",
   "execution_count": 67,
   "metadata": {},
   "outputs": [],
   "source": [
    "zero_projector = pad_term([qt.Qobj(np.array([[1, 0], [0, 0]]))], num_qubits + 1, num_qubits).full()\n",
    "projected_sv = Statevector(zero_projector @ circ_sv.data)\n",
    "projected_sys_sv = partial_trace(projected_sv, [num_qubits])"
   ]
  },
  {
   "cell_type": "code",
   "execution_count": 68,
   "metadata": {},
   "outputs": [
    {
     "name": "stdout",
     "output_type": "stream",
     "text": [
      "0.75\n"
     ]
    }
   ],
   "source": [
    "sigmam = np.array([[0, 0], [1, 0]])\n",
    "padded_sigmam = pad_term([qt.Qobj(sigmam)], num_qubits, 1).full()\n",
    "state_we_want = padded_sigmam @ randstate_better\n",
    "state_we_want /= np.linalg.norm(state_we_want)\n",
    "state_we_want = DensityMatrix(state_we_want)\n",
    "\n",
    "dist_to_what_we_want = np.linalg.norm(projected_sys_sv - state_we_want)\n",
    "print(dist_to_what_we_want)\n",
    "# state_fidelity(projected_sys_sv, state_we_want, validate=False)"
   ]
  }
 ],
 "metadata": {
  "kernelspec": {
   "display_name": "qiskit_env",
   "language": "python",
   "name": "python3"
  },
  "language_info": {
   "codemirror_mode": {
    "name": "ipython",
    "version": 3
   },
   "file_extension": ".py",
   "mimetype": "text/x-python",
   "name": "python",
   "nbconvert_exporter": "python",
   "pygments_lexer": "ipython3",
   "version": "3.11.5"
  }
 },
 "nbformat": 4,
 "nbformat_minor": 2
}
