{
 "cells": [
  {
   "cell_type": "code",
   "execution_count": 9,
   "metadata": {},
   "outputs": [],
   "source": [
    "from qiskit import QuantumCircuit, QuantumRegister, ClassicalRegister, Aer\n",
    "from qiskit.circuit.library import QFT\n",
    "from qiskit.quantum_info import Statevector\n",
    "import numpy as np"
   ]
  },
  {
   "cell_type": "markdown",
   "metadata": {},
   "source": [
    "### Checking what Qiskit is really doing in QFT"
   ]
  },
  {
   "cell_type": "code",
   "execution_count": 37,
   "metadata": {},
   "outputs": [
    {
     "name": "stdout",
     "output_type": "stream",
     "text": [
      "[0.+0.j 0.+0.j 1.+0.j 0.+0.j]\n",
      "[ 0.5+0.j -0.5+0.j  0.5+0.j -0.5+0.j]\n"
     ]
    }
   ],
   "source": [
    "num_qubits = 2\n",
    "qr = QuantumRegister(num_qubits)\n",
    "cr = ClassicalRegister(num_qubits)\n",
    "qft_circ = QuantumCircuit(qr, cr)\n",
    "# qft_circ.h(range(num_qubits))\n",
    "qft_circ.x(1)\n",
    "statevec_ini = Statevector(qft_circ)\n",
    "qft_circ.compose(QFT(num_qubits), qr, inplace=True)\n",
    "\n",
    "statevec = Statevector(qft_circ)\n",
    "print(statevec_ini.data)\n",
    "print(statevec.data)\n"
   ]
  },
  {
   "cell_type": "code",
   "execution_count": 41,
   "metadata": {},
   "outputs": [
    {
     "name": "stdout",
     "output_type": "stream",
     "text": [
      "True\n"
     ]
    },
    {
     "data": {
      "text/plain": [
       "[(0.5+0j),\n",
       " (-0.5+6.123233995736766e-17j),\n",
       " (0.5-1.2246467991473532e-16j),\n",
       " (-0.5+1.8369701987210297e-16j)]"
      ]
     },
     "execution_count": 41,
     "metadata": {},
     "output_type": "execute_result"
    }
   ],
   "source": [
    "amplitudes_from_formula = lambda i: [np.exp((1j * 2 * np.pi * k * i)/2**num_qubits)/np.sqrt(2**num_qubits) for k in range(2**num_qubits)]\n",
    "print(np.isclose(statevec.data, amplitudes_from_formula(2)).all())\n",
    "amplitudes_from_formula(2)"
   ]
  },
  {
   "cell_type": "code",
   "execution_count": 47,
   "metadata": {},
   "outputs": [
    {
     "name": "stdout",
     "output_type": "stream",
     "text": [
      "                                                                           »\n",
      "q_0: ──────────────────────────────────────────────────────────────────────»\n",
      "                                                                           »\n",
      "q_1: ─────────────────────────────────────────────────────────────■────────»\n",
      "                                                                  │        »\n",
      "q_2: ──────────────────────────────────────■─────────────■────────┼────────»\n",
      "                                           │       ┌───┐ │        │        »\n",
      "q_3: ────────────────────■────────■────────┼───────┤ H ├─┼────────┼────────»\n",
      "                   ┌───┐ │        │P(π/2)  │       └───┘ │P(π/4)  │        »\n",
      "q_4: ──────■───────┤ H ├─┼────────■────────┼─────────────■────────┼────────»\n",
      "     ┌───┐ │P(π/2) └───┘ │P(π/4)           │P(π/8)                │P(π/16) »\n",
      "q_5: ┤ H ├─■─────────────■─────────────────■──────────────────────■────────»\n",
      "     └───┘                                                                 »\n",
      "«                                                                           »\n",
      "«q_0: ───────────────────■───────────────────────■──────────────────■───────»\n",
      "«                        │                       │                  │       »\n",
      "«q_1: ──────────■────────┼──────────────■────────┼─────────■────────┼───────»\n",
      "«               │        │        ┌───┐ │        │         │P(π/2)  │       »\n",
      "«q_2: ─■────────┼────────┼────────┤ H ├─┼────────┼─────────■────────┼───────»\n",
      "«      │P(π/2)  │        │        └───┘ │P(π/4)  │                  │P(π/8) »\n",
      "«q_3: ─■────────┼────────┼──────────────■────────┼──────────────────■───────»\n",
      "«               │P(π/8)  │                       │P(π/16)                   »\n",
      "«q_4: ──────────■────────┼───────────────────────■──────────────────────────»\n",
      "«                        │P(π/32)                                           »\n",
      "«q_5: ───────────────────■──────────────────────────────────────────────────»\n",
      "«                                                                           »\n",
      "«                            ┌───┐   \n",
      "«q_0: ──────■────────■───────┤ H ├─X─\n",
      "«     ┌───┐ │        │P(π/2) └───┘ │ \n",
      "«q_1: ┤ H ├─┼────────■─────────X───┼─\n",
      "«     └───┘ │P(π/4)            │   │ \n",
      "«q_2: ──────■───────────X──────┼───┼─\n",
      "«                       │      │   │ \n",
      "«q_3: ──────────────────X──────┼───┼─\n",
      "«                              │   │ \n",
      "«q_4: ─────────────────────────X───┼─\n",
      "«                                  │ \n",
      "«q_5: ─────────────────────────────X─\n",
      "«                                    \n",
      "[CircuitInstruction(operation=Instruction(name='h', num_qubits=1, num_clbits=0, params=[]), qubits=(Qubit(QuantumRegister(6, 'q'), 5),), clbits=()), CircuitInstruction(operation=Instruction(name='cp', num_qubits=2, num_clbits=0, params=[1.5707963267948966]), qubits=(Qubit(QuantumRegister(6, 'q'), 5), Qubit(QuantumRegister(6, 'q'), 4)), clbits=()), CircuitInstruction(operation=Instruction(name='h', num_qubits=1, num_clbits=0, params=[]), qubits=(Qubit(QuantumRegister(6, 'q'), 4),), clbits=()), CircuitInstruction(operation=Instruction(name='cp', num_qubits=2, num_clbits=0, params=[0.7853981633974483]), qubits=(Qubit(QuantumRegister(6, 'q'), 5), Qubit(QuantumRegister(6, 'q'), 3)), clbits=()), CircuitInstruction(operation=Instruction(name='cp', num_qubits=2, num_clbits=0, params=[1.5707963267948966]), qubits=(Qubit(QuantumRegister(6, 'q'), 4), Qubit(QuantumRegister(6, 'q'), 3)), clbits=()), CircuitInstruction(operation=Instruction(name='h', num_qubits=1, num_clbits=0, params=[]), qubits=(Qubit(QuantumRegister(6, 'q'), 3),), clbits=()), CircuitInstruction(operation=Instruction(name='cp', num_qubits=2, num_clbits=0, params=[0.39269908169872414]), qubits=(Qubit(QuantumRegister(6, 'q'), 5), Qubit(QuantumRegister(6, 'q'), 2)), clbits=()), CircuitInstruction(operation=Instruction(name='cp', num_qubits=2, num_clbits=0, params=[0.7853981633974483]), qubits=(Qubit(QuantumRegister(6, 'q'), 4), Qubit(QuantumRegister(6, 'q'), 2)), clbits=()), CircuitInstruction(operation=Instruction(name='cp', num_qubits=2, num_clbits=0, params=[1.5707963267948966]), qubits=(Qubit(QuantumRegister(6, 'q'), 3), Qubit(QuantumRegister(6, 'q'), 2)), clbits=()), CircuitInstruction(operation=Instruction(name='h', num_qubits=1, num_clbits=0, params=[]), qubits=(Qubit(QuantumRegister(6, 'q'), 2),), clbits=()), CircuitInstruction(operation=Instruction(name='cp', num_qubits=2, num_clbits=0, params=[0.19634954084936207]), qubits=(Qubit(QuantumRegister(6, 'q'), 5), Qubit(QuantumRegister(6, 'q'), 1)), clbits=()), CircuitInstruction(operation=Instruction(name='cp', num_qubits=2, num_clbits=0, params=[0.39269908169872414]), qubits=(Qubit(QuantumRegister(6, 'q'), 4), Qubit(QuantumRegister(6, 'q'), 1)), clbits=()), CircuitInstruction(operation=Instruction(name='cp', num_qubits=2, num_clbits=0, params=[0.7853981633974483]), qubits=(Qubit(QuantumRegister(6, 'q'), 3), Qubit(QuantumRegister(6, 'q'), 1)), clbits=()), CircuitInstruction(operation=Instruction(name='cp', num_qubits=2, num_clbits=0, params=[1.5707963267948966]), qubits=(Qubit(QuantumRegister(6, 'q'), 2), Qubit(QuantumRegister(6, 'q'), 1)), clbits=()), CircuitInstruction(operation=Instruction(name='h', num_qubits=1, num_clbits=0, params=[]), qubits=(Qubit(QuantumRegister(6, 'q'), 1),), clbits=()), CircuitInstruction(operation=Instruction(name='cp', num_qubits=2, num_clbits=0, params=[0.09817477042468103]), qubits=(Qubit(QuantumRegister(6, 'q'), 5), Qubit(QuantumRegister(6, 'q'), 0)), clbits=()), CircuitInstruction(operation=Instruction(name='cp', num_qubits=2, num_clbits=0, params=[0.19634954084936207]), qubits=(Qubit(QuantumRegister(6, 'q'), 4), Qubit(QuantumRegister(6, 'q'), 0)), clbits=()), CircuitInstruction(operation=Instruction(name='cp', num_qubits=2, num_clbits=0, params=[0.39269908169872414]), qubits=(Qubit(QuantumRegister(6, 'q'), 3), Qubit(QuantumRegister(6, 'q'), 0)), clbits=()), CircuitInstruction(operation=Instruction(name='cp', num_qubits=2, num_clbits=0, params=[0.7853981633974483]), qubits=(Qubit(QuantumRegister(6, 'q'), 2), Qubit(QuantumRegister(6, 'q'), 0)), clbits=()), CircuitInstruction(operation=Instruction(name='cp', num_qubits=2, num_clbits=0, params=[1.5707963267948966]), qubits=(Qubit(QuantumRegister(6, 'q'), 1), Qubit(QuantumRegister(6, 'q'), 0)), clbits=()), CircuitInstruction(operation=Instruction(name='h', num_qubits=1, num_clbits=0, params=[]), qubits=(Qubit(QuantumRegister(6, 'q'), 0),), clbits=()), CircuitInstruction(operation=Instruction(name='swap', num_qubits=2, num_clbits=0, params=[]), qubits=(Qubit(QuantumRegister(6, 'q'), 0), Qubit(QuantumRegister(6, 'q'), 5)), clbits=()), CircuitInstruction(operation=Instruction(name='swap', num_qubits=2, num_clbits=0, params=[]), qubits=(Qubit(QuantumRegister(6, 'q'), 1), Qubit(QuantumRegister(6, 'q'), 4)), clbits=()), CircuitInstruction(operation=Instruction(name='swap', num_qubits=2, num_clbits=0, params=[]), qubits=(Qubit(QuantumRegister(6, 'q'), 2), Qubit(QuantumRegister(6, 'q'), 3)), clbits=())]\n"
     ]
    }
   ],
   "source": [
    "qft = QFT(6)\n",
    "print(qft.decompose())\n",
    "print(qft.decompose().data)"
   ]
  },
  {
   "cell_type": "markdown",
   "metadata": {},
   "source": [
    "#### Making OFT do the right QFT "
   ]
  }
 ],
 "metadata": {
  "kernelspec": {
   "display_name": "qiskit_env",
   "language": "python",
   "name": "python3"
  },
  "language_info": {
   "codemirror_mode": {
    "name": "ipython",
    "version": 3
   },
   "file_extension": ".py",
   "mimetype": "text/x-python",
   "name": "python",
   "nbconvert_exporter": "python",
   "pygments_lexer": "ipython3",
   "version": "3.11.5"
  }
 },
 "nbformat": 4,
 "nbformat_minor": 2
}
