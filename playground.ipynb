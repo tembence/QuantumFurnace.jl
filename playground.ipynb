{
 "cells": [
  {
   "cell_type": "code",
   "execution_count": 3,
   "metadata": {},
   "outputs": [],
   "source": [
    "import numpy as np\n",
    "import qutip as qt\n",
    "from qiskit import QuantumCircuit, QuantumRegister, ClassicalRegister, transpile\n",
    "from qiskit.quantum_info.operators import Operator, Pauli\n",
    "from qiskit.quantum_info import DensityMatrix, partial_trace\n",
    "from qiskit.circuit.library import QFT\n",
    "from random import randint\n",
    "import matplotlib.pyplot as plt\n",
    "from time import time\n",
    "\n",
    "\n",
    "from tools.classical import *\n",
    "from tools.quantum import *\n",
    "from boltzmann import *"
   ]
  },
  {
   "cell_type": "code",
   "execution_count": 11,
   "metadata": {},
   "outputs": [
    {
     "data": {
      "text/plain": [
       "0"
      ]
     },
     "execution_count": 11,
     "metadata": {},
     "output_type": "execute_result"
    }
   ],
   "source": [
    "np.random.randint(0, 3)"
   ]
  },
  {
   "cell_type": "code",
   "execution_count": 10,
   "metadata": {},
   "outputs": [
    {
     "name": "stdout",
     "output_type": "stream",
     "text": [
      "[  0   1   2   3   4   5   6   7   8   9  10  11  12  13  14  15  16  17\n",
      "  18  19  20  21  22  23  24  25  26  27  28  29  30  31 -32 -31 -30 -29\n",
      " -28 -27 -26 -25 -24 -23 -22 -21 -20 -19 -18 -17 -16 -15 -14 -13 -12 -11\n",
      " -10  -9  -8  -7  -6  -5  -4  -3  -2  -1]\n"
     ]
    },
    {
     "data": {
      "text/plain": [
       "[0,\n",
       " 1,\n",
       " 2,\n",
       " 3,\n",
       " 4,\n",
       " 5,\n",
       " 6,\n",
       " 7,\n",
       " 8,\n",
       " 9,\n",
       " 10,\n",
       " 11,\n",
       " 12,\n",
       " 13,\n",
       " 14,\n",
       " 15,\n",
       " 16,\n",
       " 17,\n",
       " 18,\n",
       " 19,\n",
       " 20,\n",
       " 21,\n",
       " 22,\n",
       " 23,\n",
       " 24,\n",
       " 25,\n",
       " 26,\n",
       " 27,\n",
       " 28,\n",
       " 29,\n",
       " 30,\n",
       " 31,\n",
       " -32,\n",
       " -31,\n",
       " -30,\n",
       " -29,\n",
       " -28,\n",
       " -27,\n",
       " -26,\n",
       " -25,\n",
       " -24,\n",
       " -23,\n",
       " -22,\n",
       " -21,\n",
       " -20,\n",
       " -19,\n",
       " -18,\n",
       " -17,\n",
       " -16,\n",
       " -15,\n",
       " -14,\n",
       " -13,\n",
       " -12,\n",
       " -11,\n",
       " -10,\n",
       " -9,\n",
       " -8,\n",
       " -7,\n",
       " -6,\n",
       " -5,\n",
       " -4,\n",
       " -3,\n",
       " -2,\n",
       " -1]"
      ]
     },
     "execution_count": 10,
     "metadata": {},
     "output_type": "execute_result"
    }
   ],
   "source": [
    "decimal_time_labels = list(range(2**(6 - 1)))\n",
    "decimal_time_labels.extend(list(range(- 2**(6 - 1), 0)))\n",
    "\n",
    "N_labels = np.arange(2**6 / 2, dtype=int)\n",
    "N_labels_neg = np.arange(- 2**6 / 2, 0, dtype=int)\n",
    "N_labels = np.concatenate((N_labels, N_labels_neg))\n",
    "print(N_labels)\n",
    "decimal_time_labels"
   ]
  },
  {
   "cell_type": "code",
   "execution_count": 40,
   "metadata": {},
   "outputs": [
    {
     "data": {
      "text/plain": [
       "array([0.        , 0.1125    , 0.151875  , 0.219375  , 0.28125   ,\n",
       "       0.343125  , 0.38753437, 0.45      ])"
      ]
     },
     "execution_count": 40,
     "metadata": {},
     "output_type": "execute_result"
    }
   ],
   "source": [
    "spectrum = np.array([-4,    -2, -1.3, -0.1,     1,  2.1,     2.8895,  4])\n",
    "eps = 0.1\n",
    "signed = False\n",
    "\"\"\"Rescale and shift to get spectrum in [0, 1] or [0, 1 - eps]\n",
    "\"\"\"\n",
    "# eigenenergies = np.linalg.eigvalsh(hamiltonian)\n",
    "# smallest_eigval = np.round(eigenenergies[0])\n",
    "smallest_eigval = spectrum[0]\n",
    "# largest_eigval = np.round(eigenenergies[-1])\n",
    "largest_eigval = spectrum[-1]\n",
    "\n",
    "# Rescaling factor and shift for [-0.5, 0.5]\n",
    "rescaling_factor = largest_eigval - smallest_eigval\n",
    "if eps == 0:\n",
    "    shift = -(largest_eigval + smallest_eigval) / (2 * rescaling_factor)\n",
    "    \n",
    "if eps != 0:\n",
    "    rescaling_factor *= 2/ (1 - eps) # [-0.5, 0.5 - eps]\n",
    "    shift = - (largest_eigval - smallest_eigval * eps) / (2 * (largest_eigval - smallest_eigval))\n",
    "# Centre spectrum around 0: \n",
    "\n",
    "if signed == False:  # shift to [0, 1]\n",
    "    shift += 0.5\n",
    "\n",
    "rescaled_spectrum = (spectrum) / rescaling_factor + shift\n",
    "rescaled_spectrum"
   ]
  },
  {
   "cell_type": "code",
   "execution_count": 134,
   "metadata": {},
   "outputs": [
    {
     "name": "stdout",
     "output_type": "stream",
     "text": [
      "[2, 3, 4, 5]\n",
      "[2, 3, 4, 5]\n",
      "Qiskit DM: (0.2499999999999998+0j)\n",
      "Statevector: (0.24999999999999994+0j)\n",
      "Partial trace: (0.24999999999999978+0j)\n",
      "Another partial trace: (0.24999999999999978+0j)\n"
     ]
    }
   ],
   "source": [
    "num_qubits = 4\n",
    "num_ancillas = 2\n",
    "qr_sys = QuantumRegister(num_qubits, 'sys')\n",
    "qr_anc = QuantumRegister(num_ancillas, 'anc')\n",
    "\n",
    "# np.random.seed(666)\n",
    "randstate_better = np.zeros(2**(num_qubits))\n",
    "randstate_better[np.random.choice(2**num_qubits, 2**num_qubits//2, replace=False)] = 1\n",
    "randstate_better /= np.linalg.norm(randstate_better)\n",
    "\n",
    "circ = QuantumCircuit(qr_anc, qr_sys)\n",
    "# random circuit\n",
    "circ.initialize(randstate_better, qr_sys)\n",
    "\n",
    "statevector = Statevector(circ).data\n",
    "\n",
    "dm = DensityMatrix(circ)\n",
    "\n",
    "I = qt.qeye(2)\n",
    "X = qt.sigmax()\n",
    "Y = qt.sigmay()\n",
    "Z = qt.sigmaz()\n",
    "\n",
    "tensor_list = pad_term([X, X], num_qubits=num_qubits, position=1)\n",
    "print(list(range(num_qubits+ num_ancillas))[num_ancillas:])\n",
    "print(list(range(num_ancillas, num_qubits+ num_ancillas)))\n",
    "\n",
    "op = (qt.tensor(tensor_list).full())\n",
    "padded_op = qt.tensor([qt.Qobj(op), qt.qeye(2**num_ancillas)])\n",
    "expval_qiskit_dm = dm.expectation_value(op, list(range(num_qubits+ num_ancillas))[num_ancillas:])\n",
    "expval = statevector.conj().T @ padded_op.full() @ statevector\n",
    "print('Qiskit DM:', expval_qiskit_dm)\n",
    "print('Statevector:', expval)\n",
    "\n",
    "sys_dm = partial_trace(dm, [0, 1])\n",
    "expval_from_partial_dm = np.trace(sys_dm.data @ op)\n",
    "print('Partial trace:', expval_from_partial_dm)\n",
    "\n",
    "another_expval_from_partial_dm = sys_dm.expectation_value(op)\n",
    "print('Another partial trace:', another_expval_from_partial_dm)"
   ]
  },
  {
   "cell_type": "code",
   "execution_count": 7,
   "metadata": {},
   "outputs": [
    {
     "data": {
      "text/plain": [
       "array([[1., 0., 0., ..., 0., 0., 0.],\n",
       "       [0., 1., 0., ..., 0., 0., 0.],\n",
       "       [0., 0., 1., ..., 0., 0., 0.],\n",
       "       ...,\n",
       "       [0., 0., 0., ..., 0., 0., 0.],\n",
       "       [0., 0., 0., ..., 0., 0., 0.],\n",
       "       [0., 0., 0., ..., 0., 0., 0.]])"
      ]
     },
     "execution_count": 7,
     "metadata": {},
     "output_type": "execute_result"
    }
   ],
   "source": [
    "num_energy_bits = 6\n",
    "num_qubits = 3\n",
    "zerozero = np.array([[1, 0], [0, 0]])\n",
    "padded_zerozero = np.kron(np.eye(2**num_qubits), zerozero)\n",
    "padded_zerozero = np.kron(padded_zerozero, np.eye(2**num_energy_bits))\n",
    "padded_zerozero"
   ]
  },
  {
   "cell_type": "code",
   "execution_count": 10,
   "metadata": {},
   "outputs": [
    {
     "data": {
      "text/plain": [
       "0.0"
      ]
     },
     "execution_count": 10,
     "metadata": {},
     "output_type": "execute_result"
    }
   ],
   "source": [
    "padded_tensor_list = [qt.Qobj(np.eye(2**num_qubits)), qt.Qobj(zerozero), qt.Qobj(np.eye(2**num_energy_bits))]\n",
    "qt_padded = qt.tensor(padded_tensor_list)\n",
    "\n",
    "dist = np.linalg.norm(qt_padded.full() - padded_zerozero)\n",
    "dist"
   ]
  },
  {
   "cell_type": "code",
   "execution_count": 23,
   "metadata": {},
   "outputs": [],
   "source": [
    "num_qubits = 5\n",
    "coeffs = [1.5, 1.2, 0.6, 0.9]\n",
    "theta = np.pi / (-0.5)\n",
    "\n",
    "inverse_trotter_step_circ = inverse_trotter_step_heisenberg(num_qubits, coeffs, symbreak=True)\n",
    "trotter_step_circ = trotter_step_heisenberg(num_qubits, coeffs, symbreak=True)\n",
    "# inverse_trotter_step_circ.assign_parameters([-theta], inplace=True)\n",
    "# trotter_step_circ.assign_parameters([theta], inplace=True)\n",
    "# prev_inverse_trotter_step_circ = trotter_step_heisenberg(num_qubits, coeffs, symbreak=True)\n",
    "# prev_inverse_trotter_step_circ.assign_parameters([-theta], inplace=True)\n",
    "\n",
    "# prev_inverse_op = Operator(prev_inverse_trotter_step_circ)\n",
    "# inverse_op = Operator(inverse_trotter_step_circ)\n",
    "# op = Operator(trotter_step_circ)\n",
    "\n",
    "# distance_to_id = np.linalg.norm(op.data @ inverse_op.data - np.eye(2**num_qubits))\n",
    "# print(f'Distance with inverse Trotter: {distance_to_id}')\n",
    "# distance_to_id_prev = np.linalg.norm(op.data @ prev_inverse_op.data - np.eye(2**num_qubits))\n",
    "# print(f'Distance prev: {distance_to_id_prev}')\n"
   ]
  },
  {
   "cell_type": "code",
   "execution_count": 24,
   "metadata": {},
   "outputs": [],
   "source": [
    "num_trotter_steps = 10\n",
    "T = 1\n",
    "total_time = 2 * np.pi * T\n",
    "U = ham_evol(num_qubits, trotter_step=trotter_step_circ, num_trotter_steps=num_trotter_steps, time=total_time)\n",
    "U_dag = ham_evol(num_qubits, trotter_step=inverse_trotter_step_circ, num_trotter_steps=num_trotter_steps, time=-total_time)\n",
    "U_op = Operator(U)\n",
    "U_dag_op = Operator(U_dag)"
   ]
  },
  {
   "cell_type": "code",
   "execution_count": 26,
   "metadata": {},
   "outputs": [
    {
     "name": "stdout",
     "output_type": "stream",
     "text": [
      "Distance with evolution: 3.2289662155096717e-14\n"
     ]
    }
   ],
   "source": [
    "dist_to_id_evol = np.linalg.norm(U_op.data @ U_dag_op.data - np.eye(2**num_qubits))\n",
    "print(f'Distance with evolution: {dist_to_id_evol}')"
   ]
  },
  {
   "cell_type": "code",
   "execution_count": 5,
   "metadata": {},
   "outputs": [
    {
     "name": "stdout",
     "output_type": "stream",
     "text": [
      "{'001001': 471, '111001': 216, '111011': 136, '001011': 130, '000111': 42, '110111': 3, '010111': 1, '010101': 1}\n",
      "{'1': 1000}\n"
     ]
    }
   ],
   "source": [
    "num_energy_bits = 6\n",
    "cr_energy = ClassicalRegister(num_energy_bits, name='cr_energy')\n",
    "cr_boltzmann = ClassicalRegister(1, name='cr_boltz')\n",
    "bithandler = BitHandler([cr_energy, cr_boltzmann])\n",
    "\n",
    "counts = {'100100 1': 471, '111100 1': 216, '111101 1': 136, '100101 1': 130, '100011 1': 42, '111011 1': 3, '101011 1': 1, '101010 1': 1}\n",
    "bithandler.measured_counts = counts\n",
    "energy_counts = bithandler.get_counts_for_creg(cr_energy)\n",
    "print(energy_counts)\n",
    "boltzmann_counts = bithandler.get_counts_for_creg(cr_boltzmann)\n",
    "print(boltzmann_counts)\n",
    "# phase_bits = list(energy_counts.keys())[0] # take the most often obtaned result\n",
    "# phase_bits_shots = energy_counts[phase_bits]"
   ]
  },
  {
   "cell_type": "code",
   "execution_count": 3,
   "metadata": {},
   "outputs": [
    {
     "name": "stdout",
     "output_type": "stream",
     "text": [
      "{'1010': 360, '1001': 212, '1111': 196, '0000': 108, '1011': 20}\n"
     ]
    }
   ],
   "source": [
    "num_energy_bits = 4\n",
    "cr_energy = ClassicalRegister(num_energy_bits, name='w')\n",
    "cr_boltzmann = ClassicalRegister(1, name='b')\n",
    "bithandler = BitHandler([cr_boltzmann, cr_energy])\n",
    "\n",
    "counts = {'1010 0': 298, '1001 1': 212, '1111 1': 177, '0000 0': 108, '1010 1': 62, '1011 0': 20, '1111 0': 19}\n",
    "bithandler.measured_counts = counts\n",
    "counts_for_energy = bithandler.get_counts_for_crreg(cr_energy)\n",
    "print(counts_for_energy)"
   ]
  },
  {
   "cell_type": "code",
   "execution_count": 17,
   "metadata": {},
   "outputs": [
    {
     "name": "stdout",
     "output_type": "stream",
     "text": [
      "Coeffs used: [1, 1, 1, 1] for spectrum [-8.41480675e+00 -8.01149686e+00 -7.45710970e+00 -6.56278848e+00\n",
      " -4.82842712e+00 -3.76446278e+00 -3.46410162e+00 -3.10903996e+00\n",
      " -2.56016642e+00 -2.48908833e+00 -1.72700584e+00 -1.54375254e+00\n",
      " -1.12310563e+00 -3.68457240e-01 -7.30967063e-16 -6.65773340e-16\n",
      "  8.28427125e-01  9.50705136e-01  1.02497194e+00  1.68545843e+00\n",
      "  1.85582806e+00  2.00000000e+00  2.57314158e+00  3.08156908e+00\n",
      "  3.46410162e+00  3.87693371e+00  4.00000000e+00  4.00000000e+00\n",
      "  4.84875524e+00  6.11081172e+00  7.12310563e+00  8.00000000e+00]\n",
      "Energy to predict -1.727005838385661\n",
      "[[-1.72700584+0.j]]\n",
      "-1.7270058383856617\n"
     ]
    }
   ],
   "source": [
    "num_qubits = 5\n",
    "X_qt = qt.sigmax()\n",
    "Y_qt = qt.sigmay()\n",
    "Z_qt = qt.sigmaz()\n",
    "coeffs = [1, 1, 1, 1]\n",
    "hamiltonian_qt = hamiltonian_matrix([X_qt, X_qt], [Y_qt, Y_qt], [Z_qt, Z_qt], coeffs=coeffs, num_qubits=num_qubits, symbreak_term=[Z_qt])\n",
    "spectrum, eigenstates = np.linalg.eigh(hamiltonian_qt)\n",
    "print(f'Coeffs used: {coeffs} for spectrum {spectrum}')\n",
    "eig_index = 10\n",
    "eigenstate = eigenstates[:, eig_index]  #! \n",
    "exact_energy = spectrum[eig_index]\n",
    "print(f'Energy to predict {exact_energy}')\n",
    "\n",
    "expval = eigenstate.conj().T @ hamiltonian_qt @ eigenstate\n",
    "print(expval)\n",
    "\n",
    "expval_qt = qt.expect(qt.Qobj(hamiltonian_qt), qt.Qobj(eigenstate))\n",
    "print(expval_qt)\n",
    "\n"
   ]
  },
  {
   "cell_type": "code",
   "execution_count": 15,
   "metadata": {},
   "outputs": [
    {
     "name": "stdout",
     "output_type": "stream",
     "text": [
      "[[ 5  6 10 12]\n",
      " [ 7  8 14 16]\n",
      " [15 18 20 24]\n",
      " [21 24 28 32]]\n",
      "[[ 5  6 10 12]\n",
      " [ 7  8 14 16]\n",
      " [15 18 20 24]\n",
      " [21 24 28 32]]\n",
      "[[1 0 0 0]\n",
      " [0 1 0 0]\n",
      " [0 0 1 0]\n",
      " [0 0 0 1]]\n",
      "[[1 0 0 0]\n",
      " [0 1 0 0]\n",
      " [0 0 1 0]\n",
      " [0 0 0 1]]\n"
     ]
    }
   ],
   "source": [
    "import numpy as np\n",
    "\n",
    "# Define two matrices A and B\n",
    "A = np.array([[1, 2], [3, 4]])\n",
    "B = np.array([[5, 6], [7, 8]])\n",
    "a = np.array([[1, 0], [0, 1]])\n",
    "b = a\n",
    "\n",
    "# Compute the Kronecker product\n",
    "result = np.kron(A, B)\n",
    "res = np.kron(a, b)\n",
    "result2 = np.tensordot(A, B, axes=0)\n",
    "res2 = np.tensordot(a, b, axes=0)\n",
    "\n",
    "# Compute the tensor product using np.einsum\n",
    "result3 = np.einsum('ij,kl->ikjl', A, B).reshape(A.shape[0] * B.shape[0], A.shape[1] * B.shape[1])\n",
    "res3 = np.einsum('ij,kl->ikjl', a, b).reshape(a.shape[0] * b.shape[0], a.shape[1] * b.shape[1])\n",
    "print(result)\n",
    "# print(result2.reshape(4, 4))\n",
    "print(result3)\n",
    "\n",
    "print(res)\n",
    "# print(res2.reshape(4, 4))\n",
    "print(res3)"
   ]
  },
  {
   "cell_type": "code",
   "execution_count": 5,
   "metadata": {},
   "outputs": [
    {
     "name": "stdout",
     "output_type": "stream",
     "text": [
      "global phase: 2\n",
      "     ┌───┐\n",
      "q_0: ┤ H ├\n",
      "     ├───┤\n",
      "q_1: ┤ H ├\n",
      "     ├───┤\n",
      "q_2: ┤ H ├\n",
      "     └───┘\n",
      "q_3: ─────\n",
      "          \n"
     ]
    }
   ],
   "source": [
    "circ = QuantumCircuit(3)\n",
    "circ.h(range(3))\n",
    "circ.global_phase = 2\n",
    "big_circ = QuantumCircuit(4)\n",
    "big_circ.compose(circ, range(3), inplace=True)\n",
    "\n",
    "print(big_circ)\n",
    "\n",
    "add_phase = [[]]"
   ]
  },
  {
   "cell_type": "code",
   "execution_count": 18,
   "metadata": {},
   "outputs": [
    {
     "data": {
      "text/plain": [
       "'-0b101'"
      ]
     },
     "execution_count": 18,
     "metadata": {},
     "output_type": "execute_result"
    }
   ],
   "source": [
    "bin(-5)"
   ]
  },
  {
   "cell_type": "code",
   "execution_count": 4,
   "metadata": {},
   "outputs": [
    {
     "name": "stdout",
     "output_type": "stream",
     "text": [
      "[-9.11961148e+00 -9.11961148e+00 -6.47213595e+00 -6.47213595e+00\n",
      " -4.47213595e+00 -4.47213595e+00 -4.38516481e+00 -3.33653707e+00\n",
      " -3.33653707e+00 -3.23606798e+00 -3.23606798e+00 -2.60555128e+00\n",
      " -1.00895946e-15 -3.40718886e-16  6.80517146e-16  9.91538347e-16\n",
      "  1.23606798e+00  1.23606798e+00  2.47213595e+00  2.47213595e+00\n",
      "  2.57260505e+00  2.57260505e+00  2.76393202e+00  2.76393202e+00\n",
      "  3.88354350e+00  3.88354350e+00  4.47213595e+00  4.47213595e+00\n",
      "  4.60555128e+00  6.38516481e+00  7.23606798e+00  7.23606798e+00]\n",
      "[-1.47665609e-06 -1.47665607e-06  2.64747405e+00  2.64747405e+00\n",
      "  4.64747405e+00  4.64747405e+00  4.73444519e+00  5.78307293e+00\n",
      "  5.78307293e+00  5.88354202e+00  5.88354202e+00  6.51405872e+00\n",
      "  9.11961000e+00  9.11961000e+00  9.11961000e+00  9.11961000e+00\n",
      "  1.03556780e+01  1.03556780e+01  1.15917460e+01  1.15917460e+01\n",
      "  1.16922151e+01  1.16922151e+01  1.18835420e+01  1.18835420e+01\n",
      "  1.30031535e+01  1.30031535e+01  1.35917460e+01  1.35917460e+01\n",
      "  1.37251613e+01  1.55047748e+01  1.63556780e+01  1.63556780e+01]\n",
      "[False False  True  True  True  True  True  True  True  True  True  True\n",
      "  True  True  True  True  True  True  True  True  True  True  True  True\n",
      "  True  True  True  True  True  True  True  True]\n",
      "0\n",
      "[QuantumRegister(5, 'sys')]\n"
     ]
    },
    {
     "data": {
      "text/plain": [
       "5.0"
      ]
     },
     "execution_count": 4,
     "metadata": {},
     "output_type": "execute_result"
    }
   ],
   "source": [
    "X = qt.sigmax()\n",
    "Y = qt.sigmay()\n",
    "Z = qt.sigmaz()\n",
    "\n",
    "num_qubits = 5\n",
    "H = hamiltonian_matrix([X, X], [Y, Y], [Z, Z], [X, Z, Z], num_qubits=num_qubits)\n",
    "eigvals = np.linalg.eigvalsh(H)\n",
    "print(eigvals)\n",
    "shifted_H = shift_spectrum(H)\n",
    "shifted_eigvals = np.linalg.eigvalsh(shifted_H)\n",
    "print(shifted_eigvals)\n",
    "\n",
    "print(np.isclose(eigvals + np.abs(eigvals[0]), shifted_eigvals))\n",
    "\n",
    "qr0 = QuantumRegister(1, 'qr0')\n",
    "qr1 = QuantumRegister(2, 'qr1')\n",
    "qrsys = QuantumRegister(num_qubits, 'sys')\n",
    "qr3 = QuantumRegister(4, 'q3')\n",
    "qr_r = QuantumRegister(3, 'qr_r')\n",
    "\n",
    "circ = QuantumCircuit(qrsys)\n",
    "qr_index = circ.qregs.index(qrsys)\n",
    "print(qr_index)\n",
    "\n",
    "print(circ.qregs)\n",
    "\n",
    "\n",
    "energy = energy_from_full_state(circ, H, subspace_qubits=[qrsys], qr_index=qr_index)\n",
    "energy"
   ]
  },
  {
   "cell_type": "code",
   "execution_count": 4,
   "metadata": {},
   "outputs": [
    {
     "name": "stdout",
     "output_type": "stream",
     "text": [
      "Quantum object: dims = [[1, 2], [1, 2]], shape = (2, 2), type = oper, isherm = True\n",
      "Qobj data =\n",
      "[[1. 0.]\n",
      " [0. 1.]]\n"
     ]
    }
   ],
   "source": [
    "full_obs = qt.qeye(1)\n",
    "full_obs = qt.tensor([full_obs, qt.qeye(2)])\n",
    "print(full_obs)"
   ]
  },
  {
   "cell_type": "code",
   "execution_count": 2,
   "metadata": {},
   "outputs": [
    {
     "name": "stdout",
     "output_type": "stream",
     "text": [
      "[-8, -7, -6, -5, -4, -3, -2, -1, 0, 1, 2, 3, 4, 5, 6, 7]\n",
      "[0, 1, 2, 3, 4, 5, 6, 7, -8, -7, -6, -5, -4, -3, -2, -1]\n",
      "[9.58758528e-01 2.00966705e-01 1.85083937e-03 7.48933209e-07\n",
      " 1.33151846e-11 1.04011424e-17 3.56980615e-25 5.38316844e-34\n",
      " 3.56665457e-44 5.38316844e-34 3.56980615e-25 1.04011424e-17\n",
      " 1.33151846e-11 7.48933209e-07 1.85083937e-03 2.00966705e-01]\n"
     ]
    },
    {
     "data": {
      "text/plain": [
       "<matplotlib.collections.PathCollection at 0x1272b1250>"
      ]
     },
     "execution_count": 2,
     "metadata": {},
     "output_type": "execute_result"
    },
    {
     "data": {
      "image/png": "[encoded data removed]",
      "text/plain": [
       "<Figure size 640x480 with 1 Axes>"
      ]
     },
     "metadata": {},
     "output_type": "display_data"
    }
   ],
   "source": [
    "num_energy_bits = 4\n",
    "sigma = num_energy_bits / 10\n",
    "decimal_time_labels = list(range(- 2 ** (num_energy_bits - 1), 2 ** (num_energy_bits - 1)))\n",
    "print(decimal_time_labels)\n",
    "\n",
    "decimal_time_labels2 = list(range(2**(num_energy_bits - 1)))\n",
    "decimal_time_labels2.extend(list(range(- 2**(num_energy_bits - 1), 0)))\n",
    "print(decimal_time_labels2)\n",
    "\n",
    "gauss_amplitude = lambda decimal_time: np.exp(-(decimal_time ** 2) / (4 * sigma ** 2))\n",
    "amplitudes = [gauss_amplitude(decimal_time) for decimal_time in decimal_time_labels]\n",
    "amplitudes /= np.linalg.norm(amplitudes)\n",
    "amplitudes2 = [gauss_amplitude(decimal_time) for decimal_time in decimal_time_labels2]\n",
    "amplitudes2 /= np.linalg.norm(amplitudes2)\n",
    "print(amplitudes2)\n",
    "# plot amplitudes, amplitudes2 as dots\n",
    "# plt.scatter(decimal_time_labels, amplitudes)\n",
    "plt.scatter(decimal_time_labels2, amplitudes2)\n",
    "\n"
   ]
  }
 ],
 "metadata": {
  "kernelspec": {
   "display_name": "qiskit_env",
   "language": "python",
   "name": "python3"
  },
  "language_info": {
   "codemirror_mode": {
    "name": "ipython",
    "version": 3
   },
   "file_extension": ".py",
   "mimetype": "text/x-python",
   "name": "python",
   "nbconvert_exporter": "python",
   "pygments_lexer": "ipython3",
   "version": "3.11.5"
  }
 },
 "nbformat": 4,
 "nbformat_minor": 2
}
