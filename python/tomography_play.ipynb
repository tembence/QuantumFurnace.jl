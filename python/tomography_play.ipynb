{
 "cells": [
  {
   "cell_type": "code",
   "execution_count": 38,
   "metadata": {},
   "outputs": [],
   "source": [
    "from qiskit_aer import AerSimulator, Aer\n",
    "from qiskit_ibm_runtime.fake_provider import FakePerth\n",
    "from qiskit import QuantumCircuit, QuantumRegister, ClassicalRegister\n",
    "from qiskit.quantum_info import Statevector, partial_trace, DensityMatrix \n",
    "from qiskit_experiments.framework import ParallelExperiment\n",
    "from qiskit_experiments.library import StateTomography\n",
    "from qiskit.visualization import plot_state_city\n",
    "import qutip as qt\n",
    "import numpy as np\n",
    "\n",
    "backend = Aer.get_backend('aer_simulator_density_matrix')"
   ]
  },
  {
   "cell_type": "code",
   "execution_count": 39,
   "metadata": {},
   "outputs": [],
   "source": [
    "nq = 5\n",
    "anc = 1\n",
    "ghz_state = QuantumCircuit(nq)\n",
    "ghz_state.h(0)\n",
    "ghz_state.s(0)\n",
    "for i in range(1, nq):\n",
    "    ghz_state.cx(0, i)\n",
    "ghz_state = Statevector(ghz_state)\n",
    "ghz_dm = DensityMatrix(ghz_state)\n",
    "\n",
    "# GHZ State preparation circuit\n",
    "\n",
    "qr_sys = QuantumRegister(nq, 'q')\n",
    "qr_anc = QuantumRegister(anc, 'anc')\n",
    "cr_anc = ClassicalRegister(anc, 'c')\n",
    "qc_ghz = QuantumCircuit(qr_anc, qr_sys, cr_anc)\n",
    "qc_ghz.h(0)\n",
    "qc_ghz.s(0)\n",
    "for i in range(1, nq):\n",
    "    qc_ghz.cx(0, i)\n",
    "\n",
    "qc_ghz.measure(qr_anc, cr_anc)\n",
    "qc_ghz.reset(qr_anc)\n",
    "\n",
    "# QST Experiment\n",
    "qstexp1 = StateTomography(qc_ghz)\n",
    "qstdata1 = qstexp1.run(backend, shots=1000).block_for_results()  #? Did this project to 0 for the ancilla, or traced it out?\n",
    "\n",
    "# fid_result = qstdata1.analysis_results(\"state_fidelity\")\n",
    "# print(\"State Fidelity = {:.5f}\".format(fid_result.value))"
   ]
  },
  {
   "cell_type": "code",
   "execution_count": 41,
   "metadata": {},
   "outputs": [
    {
     "name": "stdout",
     "output_type": "stream",
     "text": [
      "Fidelity of GHZs from reduced DM of QST state = 0.48947\n",
      "Fidelity of projected QST state to 0/1 measurement result= 0.49232\n",
      "Fidelity of padded GHZ state with QST with 0/1 ancilla state result = 0.48827\n",
      "Ancilla state traced out:\n",
      "[[0.98363109-1.49223714e-18j 0.00289918-1.21095118e-03j]\n",
      " [0.00289918+1.21095118e-03j 0.01636891+5.80890203e-20j]]\n"
     ]
    }
   ],
   "source": [
    "# Print results\n",
    "# for result in qstdata1.analysis_results():\n",
    "#     print(result)\n",
    "\n",
    "state_from_qst = qstdata1.analysis_results(\"state\").value\n",
    "reduced_state_qst = partial_trace(state_from_qst, [0])\n",
    "reduced_state_qst /= np.trace(reduced_state_qst)\n",
    "\n",
    "fid_with_reduced_qt = qt.fidelity(qt.Qobj(ghz_state.data), qt.Qobj(reduced_state_qst.data))\n",
    "print(\"Fidelity of GHZs from reduced DM of QST state = {:.5f}\".format(fid_with_reduced_qt))\n",
    "\n",
    "zero_projector = qt.tensor([qt.qeye(2**nq), qt.basis(2, 0).dag()]).full()\n",
    "projected_state_qst = zero_projector @ state_from_qst.data @ zero_projector.T.conj()\n",
    "projected_state_qst /= np.trace(projected_state_qst)\n",
    "\n",
    "fid_with_projected_qt = qt.fidelity(qt.Qobj(ghz_state.data), qt.Qobj(projected_state_qst))\n",
    "print(\"Fidelity of projected QST state to 0/1 measurement result= {:.5f}\".format(fid_with_projected_qt))\n",
    "\n",
    "zero_padded_ghz = qt.tensor([qt.Qobj(ghz_dm.data), qt.ket2dm(qt.basis(2, 0))]).full()\n",
    "zero_padded_ghz /= np.trace(zero_padded_ghz)\n",
    "fid_with_padded_qt = qt.fidelity(qt.Qobj(zero_padded_ghz), qt.Qobj(state_from_qst.data))\n",
    "print(\"Fidelity of padded GHZ state with QST with 0/1 ancilla state result = {:.5f}\".format(fid_with_padded_qt))\n",
    "\n",
    "\n",
    "traced_out_system = partial_trace(state_from_qst, [1, 2, 3, 4, 5]).data\n",
    "print('Ancilla state traced out:')\n",
    "print(traced_out_system)"
   ]
  }
 ],
 "metadata": {
  "kernelspec": {
   "display_name": "qiskit_env",
   "language": "python",
   "name": "python3"
  },
  "language_info": {
   "codemirror_mode": {
    "name": "ipython",
    "version": 3
   },
   "file_extension": ".py",
   "mimetype": "text/x-python",
   "name": "python",
   "nbconvert_exporter": "python",
   "pygments_lexer": "ipython3",
   "version": "3.12.2"
  }
 },
 "nbformat": 4,
 "nbformat_minor": 2
}
