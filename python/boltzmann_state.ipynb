{
 "cells": [
  {
   "cell_type": "code",
   "execution_count": 7,
   "metadata": {},
   "outputs": [],
   "source": [
    "import numpy as np\n",
    "import qutip as qt\n",
    "import matplotlib.pyplot as plt\n",
    "\n",
    "from scipy.linalg import logm, expm\n",
    "from qiskit.quantum_info import Operator, state_fidelity, Statevector\n",
    "from qiskit import QuantumCircuit\n",
    "from qiskit.circuit.library import QFT\n",
    "\n",
    "import sys\n",
    "sys.path.append('/Users/bence/code/liouvillian_metro/')\n",
    "\n",
    "from oft import oft\n",
    "from tools.classical import find_ideal_heisenberg, trotter_heisenberg_qutip, BitHandler\n",
    "from boltzmann import lookup_table_boltzmann\n",
    "from tools.quantum import *\n",
    "from tools.classical import HamHam\n",
    "\n",
    "np.random.seed(667)"
   ]
  },
  {
   "cell_type": "code",
   "execution_count": 8,
   "metadata": {},
   "outputs": [],
   "source": [
    "def energy_state_for_bits(bitstring: str) -> np.ndarray:\n",
    "    \"\"\"Convert a bitstring to an energy eigenstate.\"\"\"\n",
    "    tensor_list = []\n",
    "    for bit in bitstring:\n",
    "        if bit == '0':\n",
    "            tensor_list.append(qt.basis(2, 0))\n",
    "        else:\n",
    "            tensor_list.append(qt.basis(2, 1))\n",
    "    state = qt.tensor(tensor_list).full()\n",
    "    return state / np.linalg.norm(state)\n",
    "\n",
    "def projector_to_energy_eigenspace(bitstring: str) -> np.ndarray:\n",
    "    \"\"\"Return the projector to the energy eigenstate corresponding to a bitstring.\"\"\"\n",
    "    state = energy_state_for_bits(bitstring)\n",
    "    return state @ state.conj().T"
   ]
  },
  {
   "cell_type": "code",
   "execution_count": 9,
   "metadata": {},
   "outputs": [
    {
     "name": "stdout",
     "output_type": "stream",
     "text": [
      "Energy: -0.39269908169872414\n"
     ]
    }
   ],
   "source": [
    "num_energy_bits = 6\n",
    "beta = 1\n",
    "phase_bits = '111100'\n",
    "\n",
    "if len(phase_bits) != num_energy_bits:\n",
    "    raise ValueError('This is not the right amount of phase bits')\n",
    "if phase_bits[0] == '1':\n",
    "    phase = (int(phase_bits[1:], 2) - 2**(num_energy_bits - 1)) #/ 2**num_energy_bits  # exp(i 2pi phase)\n",
    "else:\n",
    "    phase = int(phase_bits[1:], 2) #/ 2**num_energy_bits\n",
    "\n",
    "energy = 2 * np.pi * phase / 2**num_energy_bits\n",
    "print(f'Energy: {energy}')\n",
    "\n",
    "boltzmann_fn = lambda beta, w: np.min([1, np.exp(-beta * w)])\n",
    "boltzmann_state = np.sqrt(boltzmann_fn(beta, energy)) * qt.basis(2, 0).full() \\\n",
    "    + np.sqrt(1 - boltzmann_fn(beta, energy)) * qt.basis(2, 1).full()\n",
    "boltzmann_state /= np.linalg.norm(boltzmann_state)\n",
    "\n",
    "state_we_should_get = qt.tensor([\n",
    "    qt.Qobj(energy_state_for_bits(phase_bits)),\n",
    "    qt.Qobj(boltzmann_state)\n",
    "]).full()\n",
    "state_we_should_get = state_we_should_get / np.linalg.norm(state_we_should_get)\n"
   ]
  },
  {
   "cell_type": "code",
   "execution_count": 10,
   "metadata": {},
   "outputs": [
    {
     "name": "stdout",
     "output_type": "stream",
     "text": [
      "Trace distance: 0.0\n",
      "Fidelity: 1.0000000000000233\n"
     ]
    }
   ],
   "source": [
    "boltzmann_circ = lookup_table_boltzmann(num_energy_bits, beta)\n",
    "\n",
    "qr_boltz = QuantumRegister(1, name='boltz')\n",
    "qr_energy = QuantumRegister(num_energy_bits, name='w')\n",
    "circ = QuantumCircuit(qr_boltz, qr_energy)\n",
    "\n",
    "circ.initialize(Statevector(energy_state_for_bits(phase_bits)), qr_energy)\n",
    "circ.compose(boltzmann_circ, [qr_boltz[0], *list(qr_energy)], inplace=True)\n",
    "\n",
    "circ_state = Statevector(circ).data.reshape(2**(num_energy_bits + 1), 1)\n",
    "\n",
    "trdist = qt.tracedist(qt.Qobj(circ_state), qt.Qobj(state_we_should_get))\n",
    "print(f'Trace distance: {trdist}')\n",
    "fid = qt.fidelity(qt.Qobj(circ_state), qt.Qobj(state_we_should_get))\n",
    "print(f'Fidelity: {fid}')\n"
   ]
  },
  {
   "cell_type": "markdown",
   "metadata": {},
   "source": [
    "### W is doing what it should be doing, i.e. put $\\sqrt{\\gamma(\\omega)}$ onto $|0\\rangle$"
   ]
  },
  {
   "cell_type": "code",
   "execution_count": 11,
   "metadata": {},
   "outputs": [],
   "source": [
    "# def Y_angle(omega: float) -> float:\n",
    "#     boltzmann_weight = np.exp(-beta * omega)\n",
    "#     return 2 * np.arcsin(np.sqrt(1 - boltzmann_weight))\n",
    "\n",
    "# omega = 2 * np.pi * int(phase_bits, 2) / 2**(num_energy_bits)\n",
    "# boltzmann_angle = Y_angle(omega)\n",
    "\n",
    "# # Create W_{bitstring}\n",
    "# W = QuantumCircuit(2, name=\"W\")\n",
    "# W.x(1)\n",
    "# W.cry(boltzmann_angle, 1, 0)\n",
    "# W.x(1)\n",
    "# print(W)\n",
    "# circ_state_W = Statevector(W).data.reshape(4, 1)\n",
    "# full_state_we_expect = qt.tensor([\n",
    "#     qt.basis(2, 0),\n",
    "#     qt.Qobj(boltzmann_state)\n",
    "# ]).full()\n",
    "# # print(full_state_we_expect.full())\n",
    "# # print(qt.Qobj(circ_state_W))\n",
    "\n",
    "# trdist = qt.tracedist(qt.Qobj(circ_state_W), qt.Qobj(full_state_we_expect))\n",
    "# print(f'Trace distance: {trdist}')\n",
    "# fid_qt = qt.fidelity(qt.Qobj(circ_state_W), qt.Qobj(full_state_we_expect))\n",
    "# print(f'Fidelity: {fid_qt}')\n"
   ]
  }
 ],
 "metadata": {
  "kernelspec": {
   "display_name": "qiskit_env",
   "language": "python",
   "name": "python3"
  },
  "language_info": {
   "codemirror_mode": {
    "name": "ipython",
    "version": 3
   },
   "file_extension": ".py",
   "mimetype": "text/x-python",
   "name": "python",
   "nbconvert_exporter": "python",
   "pygments_lexer": "ipython3",
   "version": "3.11.5"
  }
 },
 "nbformat": 4,
 "nbformat_minor": 2
}
