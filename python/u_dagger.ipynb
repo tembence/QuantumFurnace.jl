{
 "cells": [
  {
   "cell_type": "code",
   "execution_count": 5,
   "metadata": {},
   "outputs": [],
   "source": [
    "import numpy as np\n",
    "import qutip as qt\n",
    "from scipy.linalg import logm, expm\n",
    "from qiskit.quantum_info import Operator, state_fidelity\n",
    "from qiskit import QuantumCircuit\n",
    "from qiskit_aer import StatevectorSimulator\n",
    "from qiskit import Aer\n",
    "from qiskit.circuit.library import QFT\n",
    "\n",
    "from op_fourier_trafo import *\n",
    "from boltzmann import *\n",
    "from tools.classical import *\n",
    "from tools.quantum import *"
   ]
  },
  {
   "cell_type": "code",
   "execution_count": 6,
   "metadata": {},
   "outputs": [],
   "source": [
    "def create_U(num_qubits: int, num_energy_bits: int, hamiltonian: HamHam, \n",
    "             initial_state: np.ndarray, sigma: float) -> QuantumCircuit:\n",
    "    \n",
    "    qr_boltzmann = QuantumRegister(1, 'b')\n",
    "    qr_energy = QuantumRegister(num_energy_bits, 'w')\n",
    "    qr_sys = QuantumRegister(num_qubits, 's')\n",
    "    U_circ = QuantumCircuit(qr_boltzmann, qr_energy, qr_sys)\n",
    "    \n",
    "    # --- Operator Fourier Transform of jump operator\n",
    "    jump_op = Operator(Pauli('X'))\n",
    "    oft_circ = operator_fourier_circuit(jump_op, num_qubits, num_energy_bits, hamiltonian, \n",
    "                                        initial_state=initial_state, sigma=sigma)\n",
    "    U_circ.compose(oft_circ, [*list(qr_energy), *list(qr_sys)], inplace=True)\n",
    "    print('OFT')\n",
    "\n",
    "    # --- Act on Boltzmann coin\n",
    "    boltzmann_circ = lookup_table_boltzmann(num_energy_bits)\n",
    "    U_circ.compose(boltzmann_circ, [qr_boltzmann[0], *list(qr_energy)], inplace=True)\n",
    "    print('Boltzmann')\n",
    "    \n",
    "    return U_circ"
   ]
  },
  {
   "cell_type": "code",
   "execution_count": null,
   "metadata": {},
   "outputs": [],
   "source": [
    "def create_U_dagger(num_qubits: int, num_energy_bits: int, hamiltonian: HamHam, \n",
    "                    initial_state: np.ndarray, sigma: float) -> QuantumCircuit:\n",
    "    \n",
    "    qr_boltzmann = QuantumRegister(1, 'b')\n",
    "    qr_energy = QuantumRegister(num_energy_bits, 'w')\n",
    "    qr_sys = QuantumRegister(num_qubits, 's')\n",
    "    U_dagger_circ = QuantumCircuit(qr_boltzmann, qr_energy, qr_sys)\n",
    "    \n",
    "    # --- Reverse act on Boltzmann coin\n",
    "    boltzmann_circ = lookup_table_boltzmann(num_energy_bits)"
   ]
  },
  {
   "cell_type": "code",
   "execution_count": 7,
   "metadata": {},
   "outputs": [
    {
     "name": "stdout",
     "output_type": "stream",
     "text": [
      "Original spectrum:  [-3.5    -2.9921 -2.3725 -1.5     1.6025  2.1     2.8895  3.7725]\n",
      "Ideal spectrum:  [-0.0071  0.0255  0.0653  0.1214  0.3209  0.3529  0.4036  0.4604]\n",
      "Nonrescaled coefficients:  [0.9 0.7 0.9 1. ]\n",
      "Rescaled coefficients:  [0.05785714 0.045      0.05785714 0.06428571]\n",
      "Initial energy: 0.06534196648337862\n"
     ]
    }
   ],
   "source": [
    "np.random.seed(667)\n",
    "num_qubits = 3\n",
    "num_energy_bits = 6\n",
    "bohr_bound = 2 ** (-num_energy_bits + 1) #!\n",
    "eps = 0.05\n",
    "sigma = 10\n",
    "eig_index = 2\n",
    "T = 1\n",
    "delta = 0.1\n",
    "shots = 1000\n",
    "\n",
    "hamiltonian = find_ideal_heisenberg(num_qubits, bohr_bound, eps, signed=False, for_oft=True)\n",
    "rescaled_coeff = hamiltonian.rescaled_coeffs\n",
    "# Corresponding Trotter step circuit\n",
    "trotter_step_circ = trotter_step_heisenberg(num_qubits, coeffs=rescaled_coeff, symbreak=True)\n",
    "hamiltonian.trotter_step_circ = trotter_step_circ\n",
    "\n",
    "#* Initial state = eigenstate\n",
    "initial_state = hamiltonian.eigenstates[:, eig_index]\n",
    "initial_state = Statevector(initial_state)\n",
    "print(f'Initial energy: {hamiltonian.spectrum[eig_index]}')"
   ]
  },
  {
   "cell_type": "code",
   "execution_count": 10,
   "metadata": {},
   "outputs": [
    {
     "name": "stdout",
     "output_type": "stream",
     "text": [
      "Energy before jump: 0.06534196648337864\n",
      "Jump applied to 1th qubit\n",
      "Energy after jump: 0.3066008839869134\n",
      "Energy jump: 0.24125891750353473\n",
      "OFT\n",
      "Boltzmann\n"
     ]
    }
   ],
   "source": [
    "qr_boltzmann = QuantumRegister(1, 'b')\n",
    "qr_energy = QuantumRegister(num_energy_bits, 'w')\n",
    "qr_sys = QuantumRegister(num_qubits, 's')\n",
    "circ = QuantumCircuit(qr_boltzmann, qr_energy, qr_sys)\n",
    "U = create_U(num_qubits, num_energy_bits, hamiltonian, initial_state, 0.1)"
   ]
  }
 ],
 "metadata": {
  "kernelspec": {
   "display_name": "qiskit_env",
   "language": "python",
   "name": "python3"
  },
  "language_info": {
   "codemirror_mode": {
    "name": "ipython",
    "version": 3
   },
   "file_extension": ".py",
   "mimetype": "text/x-python",
   "name": "python",
   "nbconvert_exporter": "python",
   "pygments_lexer": "ipython3",
   "version": "3.11.5"
  }
 },
 "nbformat": 4,
 "nbformat_minor": 2
}
