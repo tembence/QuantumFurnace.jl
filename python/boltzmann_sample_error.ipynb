{
 "cells": [
  {
   "cell_type": "code",
   "execution_count": 19,
   "metadata": {},
   "outputs": [],
   "source": [
    "import numpy as np\n",
    "import matplotlib.pyplot as plt\n"
   ]
  },
  {
   "cell_type": "code",
   "execution_count": 31,
   "metadata": {},
   "outputs": [
    {
     "name": "stdout",
     "output_type": "stream",
     "text": [
      "[-0.5      -0.484375 -0.46875  -0.453125 -0.4375   -0.421875 -0.40625\n",
      " -0.390625 -0.375    -0.359375 -0.34375  -0.328125 -0.3125   -0.296875\n",
      " -0.28125  -0.265625 -0.25     -0.234375 -0.21875  -0.203125 -0.1875\n",
      " -0.171875 -0.15625  -0.140625 -0.125    -0.109375 -0.09375  -0.078125\n",
      " -0.0625   -0.046875 -0.03125  -0.015625  0.        0.015625  0.03125\n",
      "  0.046875  0.0625    0.078125  0.09375   0.109375  0.125     0.140625\n",
      "  0.15625   0.171875  0.1875    0.203125  0.21875   0.234375  0.25\n",
      "  0.265625  0.28125   0.296875  0.3125    0.328125  0.34375   0.359375\n",
      "  0.375     0.390625  0.40625   0.421875  0.4375    0.453125  0.46875\n",
      "  0.484375]\n",
      "std = 0.1312256233250909\n",
      "Shot error = 0.01312256233250909\n"
     ]
    }
   ],
   "source": [
    "# Mean of the boltzmann like function\n",
    "\n",
    "boltzmann = lambda beta, w: np.min([1, np.exp(-beta * w)])\n",
    "num_energy_bits = 6\n",
    "N_labels = np.arange(-2**(num_energy_bits-1), 2**(num_energy_bits-1), dtype=np.int64)\n",
    "energy_labels = N_labels / 2**(num_energy_bits)\n",
    "print(energy_labels)\n",
    "# energy_labels[2**(num_energy_bits-1)] = 1\n",
    "values = np.array([boltzmann(1, w) for w in energy_labels])\n",
    "# plot\n",
    "# plt.plot(energy_labels, values)\n",
    "\n",
    "mean = np.mean(np.array([boltzmann(1, w) for w in energy_labels]))\n",
    "std = np.std(np.array([boltzmann(1, w) for w in energy_labels]))\n",
    "print(f'std = {std}')\n",
    "shots = 100\n",
    "print(f'Shot error = {std/np.sqrt(shots)}')\n",
    "#* But this doesn't take into account that QPE have results all over the place and they potentially can rotate with diff delta\n"
   ]
  },
  {
   "cell_type": "code",
   "execution_count": null,
   "metadata": {},
   "outputs": [],
   "source": []
  }
 ],
 "metadata": {
  "kernelspec": {
   "display_name": "qiskit_env",
   "language": "python",
   "name": "python3"
  },
  "language_info": {
   "codemirror_mode": {
    "name": "ipython",
    "version": 3
   },
   "file_extension": ".py",
   "mimetype": "text/x-python",
   "name": "python",
   "nbconvert_exporter": "python",
   "pygments_lexer": "ipython3",
   "version": "3.11.5"
  }
 },
 "nbformat": 4,
 "nbformat_minor": 2
}
