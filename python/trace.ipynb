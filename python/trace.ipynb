{
 "cells": [
  {
   "cell_type": "code",
   "execution_count": 1,
   "metadata": {},
   "outputs": [],
   "source": [
    "import numpy as np\n",
    "import qutip as qt"
   ]
  },
  {
   "cell_type": "code",
   "execution_count": 23,
   "metadata": {},
   "outputs": [
    {
     "name": "stdout",
     "output_type": "stream",
     "text": [
      "Quantum object: dims = [[2, 2], [1, 1]], shape = (4, 1), type = ket\n",
      "Qobj data =\n",
      "[[0.]\n",
      " [1.]\n",
      " [1.]\n",
      " [0.]]\n",
      "rho_A\n",
      "Quantum object: dims = [[2], [2]], shape = (2, 2), type = oper, isherm = True\n",
      "Qobj data =\n",
      "[[1. 0.]\n",
      " [0. 1.]]\n",
      "rho_B\n",
      "Quantum object: dims = [[2], [2]], shape = (2, 2), type = oper, isherm = True\n",
      "Qobj data =\n",
      "[[1. 0.]\n",
      " [0. 1.]]\n"
     ]
    }
   ],
   "source": [
    "psi = qt.tensor(qt.basis(2, 0), qt.basis(2, 1)) + qt.tensor(qt.basis(2, 1), qt.basis(2, 0))\n",
    "print(psi)\n",
    "print('rho_A')\n",
    "print(psi.ptrace(0))\n",
    "print('rho_B')\n",
    "print(psi.ptrace(1))"
   ]
  },
  {
   "cell_type": "code",
   "execution_count": 11,
   "metadata": {},
   "outputs": [
    {
     "data": {
      "text/latex": [
       "Quantum object: dims = [[2, 2, 2], [2, 2, 2]], shape = (8, 8), type = oper, isherm = True $ \\\\ \\left(\\begin{matrix}0.052 & (-0.030-0.028j) & (0.019-0.011j) & (1.585\\times10^{-04}-0.002j) & (-0.001+0.007j) & (0.024-0.007j) & (0.014-0.013j) & (-0.024+0.018j)\\\\(-0.030+0.028j) & 0.145 & (-0.004+0.086j) & (0.034+0.016j) & (-0.025-0.015j) & (-0.056+0.029j) & (0.042+0.023j) & (0.044-0.041j)\\\\(0.019+0.011j) & (-0.004-0.086j) & 0.182 & (-0.014+0.021j) & (-0.018+0.068j) & (0.012+0.045j) & (-0.048-0.039j) & (0.008-0.048j)\\\\(1.585\\times10^{-04}+0.002j) & (0.034-0.016j) & (-0.014-0.021j) & 0.113 & (0.034-0.026j) & (-0.025+0.009j) & (-0.010-0.004j) & (-0.069-0.039j)\\\\(-0.001-0.007j) & (-0.025+0.015j) & (-0.018-0.068j) & (0.034+0.026j) & 0.087 & (0.011-0.022j) & (-0.003+0.050j) & (-0.036-0.024j)\\\\(0.024+0.007j) & (-0.056-0.029j) & (0.012-0.045j) & (-0.025-0.009j) & (0.011+0.022j) & 0.103 & (0.016-0.045j) & (-0.017+0.036j)\\\\(0.014+0.013j) & (0.042-0.023j) & (-0.048+0.039j) & (-0.010+0.004j) & (-0.003-0.050j) & (0.016+0.045j) & 0.177 & (-0.007+0.029j)\\\\(-0.024-0.018j) & (0.044+0.041j) & (0.008+0.048j) & (-0.069+0.039j) & (-0.036+0.024j) & (-0.017-0.036j) & (-0.007-0.029j) & 0.140\\\\\\end{matrix}\\right)$"
      ],
      "text/plain": [
       "Quantum object: dims = [[2, 2, 2], [2, 2, 2]], shape = (8, 8), type = oper, isherm = True\n",
       "Qobj data =\n",
       "[[ 5.24357349e-02+4.43327300e-19j -3.01910471e-02-2.84712348e-02j\n",
       "   1.87209727e-02-1.09008104e-02j  1.58473586e-04-1.83508461e-03j\n",
       "  -1.38711740e-03+6.61924429e-03j  2.44841395e-02-7.04507829e-03j\n",
       "   1.37184072e-02-1.29662172e-02j -2.35991103e-02+1.75867378e-02j]\n",
       " [-3.01910471e-02+2.84712348e-02j  1.44621451e-01+7.31414359e-20j\n",
       "  -4.06914692e-03+8.56668752e-02j  3.35710823e-02+1.55171427e-02j\n",
       "  -2.47283550e-02-1.52707456e-02j -5.63471045e-02+2.92482851e-02j\n",
       "   4.21737916e-02+2.29108413e-02j  4.42691947e-02-4.06523507e-02j]\n",
       " [ 1.87209727e-02+1.09008104e-02j -4.06914692e-03-8.56668752e-02j\n",
       "   1.81777024e-01-1.60433100e-18j -1.43187543e-02+2.12275105e-02j\n",
       "  -1.78416640e-02+6.81269732e-02j  1.21481844e-02+4.50465598e-02j\n",
       "  -4.82892219e-02-3.88139922e-02j  7.57357486e-03-4.77885220e-02j]\n",
       " [ 1.58473586e-04+1.83508461e-03j  3.35710823e-02-1.55171427e-02j\n",
       "  -1.43187543e-02-2.12275105e-02j  1.13463194e-01+2.07525885e-19j\n",
       "   3.37998733e-02-2.56405677e-02j -2.47347002e-02+8.54698702e-03j\n",
       "  -1.00732479e-02-3.52045450e-03j -6.91624089e-02-3.92591266e-02j]\n",
       " [-1.38711740e-03-6.61924429e-03j -2.47283550e-02+1.52707456e-02j\n",
       "  -1.78416640e-02-6.81269732e-02j  3.37998733e-02+2.56405677e-02j\n",
       "   8.74913114e-02+2.23525447e-19j  1.13058787e-02-2.18864847e-02j\n",
       "  -2.88699604e-03+5.02475199e-02j -3.63332524e-02-2.41083786e-02j]\n",
       " [ 2.44841395e-02+7.04507829e-03j -5.63471045e-02-2.92482851e-02j\n",
       "   1.21481844e-02-4.50465598e-02j -2.47347002e-02-8.54698702e-03j\n",
       "   1.13058787e-02+2.18864847e-02j  1.03300574e-01+9.05082985e-19j\n",
       "   1.56910413e-02-4.54346727e-02j -1.68705931e-02+3.58845110e-02j]\n",
       " [ 1.37184072e-02+1.29662172e-02j  4.21737916e-02-2.29108413e-02j\n",
       "  -4.82892219e-02+3.88139922e-02j -1.00732479e-02+3.52045450e-03j\n",
       "  -2.88699604e-03-5.02475199e-02j  1.56910413e-02+4.54346727e-02j\n",
       "   1.76899685e-01-1.59402672e-19j -7.18190591e-03+2.85646686e-02j]\n",
       " [-2.35991103e-02-1.75867378e-02j  4.42691947e-02+4.06523507e-02j\n",
       "   7.57357486e-03+4.77885220e-02j -6.91624089e-02+3.92591266e-02j\n",
       "  -3.63332524e-02+2.41083786e-02j -1.68705931e-02-3.58845110e-02j\n",
       "  -7.18190591e-03-2.85646686e-02j  1.40011026e-01-8.88693763e-20j]]"
      ]
     },
     "execution_count": 11,
     "metadata": {},
     "output_type": "execute_result"
    }
   ],
   "source": [
    "dm = qt.rand_dm_hs(8, dims=[[2] * 3] * 2)\n",
    "dm"
   ]
  },
  {
   "cell_type": "code",
   "execution_count": 50,
   "metadata": {},
   "outputs": [
    {
     "name": "stdout",
     "output_type": "stream",
     "text": [
      "<class 'numpy.ndarray'>\n",
      "[[0 0 0 0]\n",
      " [0 1 1 0]\n",
      " [0 1 1 0]\n",
      " [0 0 0 0]]\n",
      "[[1 0]\n",
      " [0 1]]\n",
      "[[1 0]\n",
      " [0 1]]\n"
     ]
    }
   ],
   "source": [
    "phi = np.array([0, 1, 1, 0])\n",
    "print(type(phi))\n",
    "rho = np.einsum('i,j->ij', phi, phi.conj())\n",
    "print(rho)\n",
    "rho.reshape(2, 2, 2, 2)\n",
    "reduced_rho_B = np.einsum('ijik->jk', rho.reshape(2, 2, 2, 2)) # Tr_A\n",
    "reduced_rho_A = np.einsum('ijkj->ik', rho.reshape(2, 2, 2, 2)) # Tr_B\n",
    "print(reduced_rho_A)\n",
    "print(reduced_rho_B)"
   ]
  },
  {
   "cell_type": "code",
   "execution_count": 52,
   "metadata": {},
   "outputs": [
    {
     "name": "stdout",
     "output_type": "stream",
     "text": [
      "[0 0 1 0 1 0 0 0]\n",
      "[[0 0 0 0]\n",
      " [0 1 1 0]\n",
      " [0 1 1 0]\n",
      " [0 0 0 0]]\n",
      "[[2 0]\n",
      " [0 0]]\n"
     ]
    }
   ],
   "source": [
    "phi0 = np.array([0, 1, 1, 0])\n",
    "phi1 = np.array([1, 0])\n",
    "phi = np.einsum('i,I->iI', phi0, phi1.conj()).reshape(8)\n",
    "print(phi)\n",
    "rho = np.einsum('i,j->ij', phi, phi.conj())\n",
    "rho = rho.reshape(4, 2, 4, 2)\n",
    "reduced_rho_B = np.einsum('ijiJ->jJ', rho) # Tr_A\n",
    "reduced_rho_A = np.einsum('ijkj->ik', rho) # Tr_B\n",
    "print(reduced_rho_A)  # Tr_B\n",
    "print(reduced_rho_B)  # Tr_A"
   ]
  },
  {
   "cell_type": "code",
   "execution_count": 44,
   "metadata": {},
   "outputs": [
    {
     "name": "stdout",
     "output_type": "stream",
     "text": [
      "[[3 4]\n",
      " [6 8]]\n",
      "[3 4 6 8]\n",
      "[3 4 6 8]\n",
      "[[3]\n",
      " [4]\n",
      " [6]\n",
      " [8]]\n"
     ]
    }
   ],
   "source": [
    "a = np.array([1, 2])\n",
    "b = np.array([3, 4])\n",
    "print(np.einsum('i,j->ij', a, b))\n",
    "print(np.einsum('i,j->ij', a, b).flatten())\n",
    "print(np.einsum('i,j->ij', a, b).reshape(4))\n",
    "print(np.einsum('i,j->ij', a, b).reshape(4, 1))"
   ]
  }
 ],
 "metadata": {
  "kernelspec": {
   "display_name": "qiskit_env",
   "language": "python",
   "name": "python3"
  },
  "language_info": {
   "codemirror_mode": {
    "name": "ipython",
    "version": 3
   },
   "file_extension": ".py",
   "mimetype": "text/x-python",
   "name": "python",
   "nbconvert_exporter": "python",
   "pygments_lexer": "ipython3",
   "version": "3.11.5"
  }
 },
 "nbformat": 4,
 "nbformat_minor": 2
}
