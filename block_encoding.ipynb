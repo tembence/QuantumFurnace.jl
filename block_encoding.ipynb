{
 "cells": [
  {
   "cell_type": "code",
   "execution_count": 1,
   "metadata": {},
   "outputs": [],
   "source": [
    "import numpy as np\n",
    "import qutip as qt\n",
    "from scipy.linalg import logm, expm\n",
    "from qiskit.quantum_info import Operator, state_fidelity, partial_trace, DensityMatrix\n",
    "from qiskit import QuantumCircuit\n",
    "from qiskit_aer import StatevectorSimulator\n",
    "from qiskit import Aer\n",
    "from qiskit.circuit.library import QFT\n",
    "\n",
    "import pickle\n",
    "from time import time\n",
    "\n",
    "from op_fourier_trafo import *\n",
    "from boltzmann import *\n",
    "from liouv_step import *\n",
    "from tools.classical import *\n",
    "from tools.quantum import *"
   ]
  },
  {
   "cell_type": "markdown",
   "metadata": {},
   "source": [
    "### Try out nonunitary jump in an isolated setup"
   ]
  },
  {
   "cell_type": "code",
   "execution_count": null,
   "metadata": {},
   "outputs": [],
   "source": []
  },
  {
   "cell_type": "markdown",
   "metadata": {},
   "source": [
    "### Block encoding of nonunitary jump with LCU "
   ]
  },
  {
   "cell_type": "code",
   "execution_count": 2,
   "metadata": {},
   "outputs": [
    {
     "name": "stdout",
     "output_type": "stream",
     "text": [
      "Sigma minus: \n",
      "[[0.+0.j 0.+0.j]\n",
      " [1.+0.j 0.+0.j]]\n",
      "[0.70710678+0.j  0.5       -0.5j]\n",
      "PREPs\n",
      "[[ 0.70710678+0.j   0.5       +0.5j]\n",
      " [ 0.5       -0.5j -0.70710678-0.j ]]\n",
      "[[ 0.70710678-0.j   0.5       +0.5j]\n",
      " [ 0.5       -0.5j -0.70710678+0.j ]]\n",
      "[[1. 0. 0. 0.]\n",
      " [0. 1. 0. 0.]\n",
      " [0. 0. 0. 0.]\n",
      " [0. 0. 0. 0.]]\n",
      "[0.70710678+0.j  0.5       -0.5j]\n",
      "Prep on 1: [ 0.5       +0.5j -0.70710678+0.j ]\n",
      "[[1. 0. 0. 0.]\n",
      " [0. 0. 1. 0.]]\n",
      "[[1. 0.]\n",
      " [0. 0.]\n",
      " [0. 1.]\n",
      " [0. 0.]]\n",
      "(0.5+0.5j)\n"
     ]
    }
   ],
   "source": [
    "sigmax = np.array([[0, 1], [1, 0]])\n",
    "sigmay = np.array([[0, -1j], [1j, 0]])\n",
    "sigma_minus = (sigmax - 1j * sigmay) / 2\n",
    "print(f'Sigma minus: \\n{sigma_minus}')\n",
    "term_coeffs = np.array([0.5, -1j*0.5])\n",
    "sqrt_term_coeffs = np.sqrt(term_coeffs / np.sum(np.abs(term_coeffs)))\n",
    "print(sqrt_term_coeffs)\n",
    "\n",
    "# Unitary that brings ancilla into right state for LCU \n",
    "B = np.array([[sqrt_term_coeffs[0], sqrt_term_coeffs[1].conj()], [sqrt_term_coeffs[1], -sqrt_term_coeffs[0]]])\n",
    "B_dag = B.conj().T\n",
    "print('PREPs')\n",
    "print(B)\n",
    "print(B_dag)\n",
    "B_op = Operator(B)\n",
    "\n",
    "ini_state = np.array([1, 0])\n",
    "one_state = np.array([0, 1])\n",
    "zerozero = np.array([[1, 0], [0, 0]])\n",
    "padded_zerozero = np.kron(zerozero, np.eye(2))\n",
    "print(padded_zerozero)\n",
    "end_state = B @ ini_state\n",
    "end_one_state = B @ one_state\n",
    "print(end_state)\n",
    "print(f'Prep on 1: {end_one_state}')\n",
    "zero_state = np.array([1, 0])\n",
    "actual_proj0 = np.kron(np.eye(2), zero_state)\n",
    "print(actual_proj0)\n",
    "print(np.kron(zero_state, np.eye(2)).reshape(4, 2))\n",
    "print(np.sqrt(0.5 * 1j))\n"
   ]
  },
  {
   "cell_type": "code",
   "execution_count": 3,
   "metadata": {},
   "outputs": [
    {
     "name": "stdout",
     "output_type": "stream",
     "text": [
      "                        ┌───┐     ┌───┐           \n",
      "   sys: ────────────────┤ X ├─────┤ Y ├───────────\n",
      "        ┌─────────┐┌───┐└─┬─┘┌───┐└─┬─┘┌─────────┐\n",
      "     a: ┤ Unitary ├┤ X ├──■──┤ X ├──■──┤ Unitary ├\n",
      "        └─────────┘└───┘     └───┘     └─────────┘\n",
      "cr_a: 1/══════════════════════════════════════════\n",
      "                                                  \n",
      "[[0.   +0.j    0.   +0.j    0.   +0.j    0.707+0.707j]\n",
      " [1.   +0.j    0.   +0.j    0.   +0.j    0.   +0.j   ]\n",
      " [0.   +0.j    0.707+0.707j 0.   +0.j    0.   -0.j   ]\n",
      " [0.   +0.j    0.   +0.j    0.   +1.j    0.   +0.j   ]]\n"
     ]
    }
   ],
   "source": [
    "num_qubits = 1\n",
    "num_block_encoding_qubits = 1\n",
    "qr_sys = QuantumRegister(num_qubits, 'sys')\n",
    "qr_block = QuantumRegister(num_block_encoding_qubits, 'a')\n",
    "cr_block = ClassicalRegister(num_block_encoding_qubits, 'cr_a')\n",
    "circ = QuantumCircuit(qr_sys, qr_block, cr_block)  #! Order matters\n",
    "#TODO: figure out how to apply this block such that it gets the system in the right state! Test it!\n",
    "\n",
    "#* Prep\n",
    "circ.append(B_op, [qr_block[0]])\n",
    "\n",
    "#* Select\n",
    "# Pick 0th term\n",
    "circ.x(qr_block)\n",
    "circ.cx(qr_block, qr_sys)\n",
    "circ.x(qr_block)\n",
    "\n",
    "# Pick 1st term\n",
    "circ.cy(qr_block, qr_sys)\n",
    "\n",
    "#* Prep dagger\n",
    "circ.append(B_op.transpose(), [qr_block[0]])\n",
    "print(circ)\n",
    "\n",
    "circ_op = Operator(circ)\n",
    "\n",
    "statevector = Statevector(circ)\n",
    "np.set_printoptions(precision=3, suppress=True)\n",
    "print(circ_op.data)\n",
    "\n"
   ]
  },
  {
   "cell_type": "code",
   "execution_count": 11,
   "metadata": {},
   "outputs": [
    {
     "name": "stdout",
     "output_type": "stream",
     "text": [
      "[[1 0]\n",
      " [0 1]\n",
      " [0 0]\n",
      " [0 0]]\n",
      "[[1 0 0 0]\n",
      " [0 1 0 0]]\n"
     ]
    },
    {
     "data": {
      "text/plain": [
       "array([[0.+0.j, 0.+0.j],\n",
       "       [1.+0.j, 0.+0.j]])"
      ]
     },
     "execution_count": 11,
     "metadata": {},
     "output_type": "execute_result"
    }
   ],
   "source": [
    "right_proj = np.array([[1, 0], [0, 1], [0, 0], [0, 0]])  # |0> \\otimes I\n",
    "left_proj = np.array([[1, 0, 0, 0], [0, 1, 0, 0]])  # <0| \\otimes I\n",
    "print(right_proj)\n",
    "print(left_proj)\n",
    "block_extracted = left_proj @ circ_op.data @ right_proj\n",
    "block_extracted"
   ]
  },
  {
   "cell_type": "code",
   "execution_count": 5,
   "metadata": {},
   "outputs": [
    {
     "data": {
      "text/plain": [
       "array([ 0.   +0.j, -0.707+0.j,  0.   +0.j,  0.   +0.j])"
      ]
     },
     "execution_count": 5,
     "metadata": {},
     "output_type": "execute_result"
    }
   ],
   "source": [
    "ini_state = np.array([-1., 1.])\n",
    "ini_state /= np.linalg.norm(ini_state)\n",
    "full_ini_state = np.kron(np.array([1, 0]), ini_state)\n",
    "full_ini_state = np.kron(ini_state, np.array([1, 0]))\n",
    "\n",
    "the_state = padded_zerozero @ circ_op.data @ full_ini_state\n",
    "the_state"
   ]
  },
  {
   "cell_type": "code",
   "execution_count": 6,
   "metadata": {},
   "outputs": [
    {
     "name": "stdout",
     "output_type": "stream",
     "text": [
      "        ┌─────────┐┌───┐     ┌───┐     ┌─────────┐\n",
      "     a: ┤ Unitary ├┤ X ├──■──┤ X ├──■──┤ Unitary ├\n",
      "        └──┬───┬──┘└───┘┌─┴─┐└───┘┌─┴─┐└─────────┘\n",
      " sys_0: ───┤ H ├────────┤ X ├─────┤ Y ├───────────\n",
      "           ├───┤        └───┘     └───┘           \n",
      " sys_1: ───┤ H ├──────────────────────────────────\n",
      "           └───┘                                  \n",
      "cr_a: 1/══════════════════════════════════════════\n",
      "                                                  \n"
     ]
    }
   ],
   "source": [
    "sys_qr = QuantumRegister(2, 'sys')\n",
    "a_qr = QuantumRegister(1, 'a')\n",
    "main_circ = QuantumCircuit(a_qr, sys_qr)\n",
    "main_circ.h(sys_qr)\n",
    "ini_sys_state = Statevector(main_circ)\n",
    "main_circ.compose(circ, [sys_qr[0], a_qr[0]], inplace=True)\n",
    "print(main_circ)\n",
    "main_circ_op = Operator(main_circ)"
   ]
  },
  {
   "cell_type": "code",
   "execution_count": 7,
   "metadata": {},
   "outputs": [
    {
     "data": {
      "text/plain": [
       "array([0. +0.j, 0. +0.j, 0.5+0.j, 0. +0.j, 0. +0.j, 0. +0.j, 0.5+0.j,\n",
       "       0. +0.j])"
      ]
     },
     "execution_count": 7,
     "metadata": {},
     "output_type": "execute_result"
    }
   ],
   "source": [
    "full_end_state = Statevector(main_circ)\n",
    "zerozero = np.array([[1, 0], [0, 0]])\n",
    "padded_zerozero = np.kron(np.eye(4) ,zerozero)\n",
    "the_state_I_get = padded_zerozero @ full_end_state.data\n",
    "the_state_I_get"
   ]
  },
  {
   "cell_type": "code",
   "execution_count": 8,
   "metadata": {},
   "outputs": [
    {
     "name": "stdout",
     "output_type": "stream",
     "text": [
      "DensityMatrix([[0.  +0.j, 0.  +0.j, 0.  +0.j, 0.  +0.j],\n",
      "               [0.  +0.j, 0.25+0.j, 0.  +0.j, 0.25+0.j],\n",
      "               [0.  +0.j, 0.  +0.j, 0.  +0.j, 0.  +0.j],\n",
      "               [0.  +0.j, 0.25+0.j, 0.  +0.j, 0.25+0.j]],\n",
      "              dims=(2, 2))\n"
     ]
    }
   ],
   "source": [
    "pt_of_the_state_I_get = partial_trace(the_state_I_get, [0])\n",
    "pt_of_the_state_I_get"
   ]
  },
  {
   "cell_type": "code",
   "execution_count": 9,
   "metadata": {},
   "outputs": [],
   "source": [
    "ini_sys_state_for_realzies = np.array([1., 1., 1., 1.])\n",
    "ini_sys_state_for_realzies /= np.linalg.norm(ini_sys_state_for_realzies)"
   ]
  },
  {
   "cell_type": "code",
   "execution_count": 10,
   "metadata": {},
   "outputs": [
    {
     "name": "stdout",
     "output_type": "stream",
     "text": [
      "DensityMatrix([[0.  +0.j, 0.  +0.j, 0.  +0.j, 0.  +0.j],\n",
      "               [0.  +0.j, 0.25+0.j, 0.  +0.j, 0.25+0.j],\n",
      "               [0.  +0.j, 0.  +0.j, 0.  +0.j, 0.  +0.j],\n",
      "               [0.  +0.j, 0.25+0.j, 0.  +0.j, 0.25+0.j]],\n",
      "              dims=(2, 2))\n"
     ]
    }
   ],
   "source": [
    "DensityMatrix(np.kron(np.eye(2), sigma_minus) @ ini_sys_state_for_realzies)  #* THE STATE I SHOULD GET"
   ]
  }
 ],
 "metadata": {
  "kernelspec": {
   "display_name": "qiskit_env",
   "language": "python",
   "name": "python3"
  },
  "language_info": {
   "codemirror_mode": {
    "name": "ipython",
    "version": 3
   },
   "file_extension": ".py",
   "mimetype": "text/x-python",
   "name": "python",
   "nbconvert_exporter": "python",
   "pygments_lexer": "ipython3",
   "version": "3.11.5"
  }
 },
 "nbformat": 4,
 "nbformat_minor": 2
}
