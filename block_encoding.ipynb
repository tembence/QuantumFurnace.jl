{
 "cells": [
  {
   "cell_type": "code",
   "execution_count": 4,
   "metadata": {},
   "outputs": [],
   "source": [
    "import numpy as np\n",
    "import qutip as qt\n",
    "from scipy.linalg import logm, expm\n",
    "from qiskit.quantum_info import Operator, state_fidelity\n",
    "from qiskit import QuantumCircuit\n",
    "from qiskit_aer import StatevectorSimulator\n",
    "from qiskit import Aer\n",
    "from qiskit.circuit.library import QFT\n",
    "import pickle\n",
    "from time import time\n",
    "\n",
    "from op_fourier_trafo import *\n",
    "from boltzmann import *\n",
    "from liouv_step import *\n",
    "from tools.classical import *\n",
    "from tools.quantum import *"
   ]
  },
  {
   "cell_type": "code",
   "execution_count": 67,
   "metadata": {},
   "outputs": [
    {
     "name": "stdout",
     "output_type": "stream",
     "text": [
      "[0.70710678+0.j  0.5       -0.5j]\n",
      "[0.70710678+0.j  0.5       -0.5j]\n",
      "[[1. 0. 0. 0.]\n",
      " [0. 0. 0. 0.]\n",
      " [0. 0. 1. 0.]\n",
      " [0. 0. 0. 0.]]\n"
     ]
    }
   ],
   "source": [
    "sigmax = np.array([[0, 1], [1, 0]])\n",
    "sigmay = np.array([[0, -1j], [1j, 0]])\n",
    "sigma_minus = (sigmax - 1j * sigmay) / 2\n",
    "term_coeffs = np.array([0.5, -1j*0.5])\n",
    "sqrt_term_coeffs = np.sqrt(term_coeffs) #/ np.sqrt(np.sum(term_coeffs))\n",
    "print(sqrt_term_coeffs)\n",
    "\n",
    "# Unitary that brings ancilla into right state for LCU \n",
    "B = np.array([[sqrt_term_coeffs[0], sqrt_term_coeffs[1].conj()], [sqrt_term_coeffs[1], -sqrt_term_coeffs[0]]])\n",
    "B_op = Operator(B)\n",
    "\n",
    "ini_state = np.array([1, 0])\n",
    "end_state = B @ ini_state\n",
    "print(end_state)\n",
    "zerozero = np.array([[1, 0], [0, 0]])\n",
    "oneone = np.array([[0, 0], [0, 1]])\n",
    "proj_zero_block = np.kron(np.identity(2), zerozero)\n",
    "proj_zero_block = np.kron(zerozero, np.identity(2))\n",
    "proj_one_block = np.kron(np.identity(2), oneone)\n",
    "print(proj_zero_block)\n",
    "circ_ini_state = np.array([1, 0, 0, 0])"
   ]
  },
  {
   "cell_type": "code",
   "execution_count": 70,
   "metadata": {},
   "outputs": [
    {
     "name": "stdout",
     "output_type": "stream",
     "text": [
      "[[ 0.85355339-0.14644661j  0.5       +0.j          0.        +0.j\n",
      "   0.        +0.j        ]\n",
      " [ 0.        -0.5j        -0.14644661+0.85355339j  0.        +0.j\n",
      "   0.        +0.j        ]\n",
      " [ 0.        +0.j          0.        +0.j          0.35355339-0.35355339j\n",
      "  -0.70710678+0.5j       ]\n",
      " [ 0.        +0.j          0.        +0.j          0.5       -0.70710678j\n",
      "   0.35355339-0.35355339j]]\n"
     ]
    }
   ],
   "source": [
    "num_qubits = 1\n",
    "num_block_encoding_qubits = 1\n",
    "qr_sys = QuantumRegister(num_qubits, 'sys')\n",
    "qr_block = QuantumRegister(num_block_encoding_qubits, 'block')\n",
    "circ = QuantumCircuit(qr_block, qr_sys)\n",
    "circ.append(B_op, [qr_block[0]])\n",
    "\n",
    "circ.h(qr_block)\n",
    "circ.cx(qr_block, qr_sys)\n",
    "circ.cy(qr_block, qr_sys)\n",
    "\n",
    "circ.append(B_op.conjugate().transpose(), [qr_block[0]])\n",
    "circ_op = Operator(circ)\n",
    "statevector = Statevector(circ)\n",
    "print(circ_op.data)\n"
   ]
  },
  {
   "cell_type": "code",
   "execution_count": 71,
   "metadata": {},
   "outputs": [
    {
     "data": {
      "text/plain": [
       "array([0.85355339-0.14644661j, 0.        +0.j        ,\n",
       "       0.        +0.j        , 0.        +0.j        ])"
      ]
     },
     "execution_count": 71,
     "metadata": {},
     "output_type": "execute_result"
    }
   ],
   "source": [
    "proj_state0 = proj_zero_block @ statevector.data\n",
    "proj_state1 = proj_one_block @ statevector.data\n",
    "proj_state0"
   ]
  }
 ],
 "metadata": {
  "kernelspec": {
   "display_name": "qiskit_env",
   "language": "python",
   "name": "python3"
  },
  "language_info": {
   "codemirror_mode": {
    "name": "ipython",
    "version": 3
   },
   "file_extension": ".py",
   "mimetype": "text/x-python",
   "name": "python",
   "nbconvert_exporter": "python",
   "pygments_lexer": "ipython3",
   "version": "3.11.5"
  }
 },
 "nbformat": 4,
 "nbformat_minor": 2
}
